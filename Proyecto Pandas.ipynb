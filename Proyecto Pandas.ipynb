{
 "cells": [
  {
   "cell_type": "markdown",
   "id": "c0e9afbf",
   "metadata": {
    "heading_collapsed": true
   },
   "source": [
    "#  Proyecto 2: <font color=blue>*Pandas Project*</font>\n",
    "<img src=https://animals.sandiegozoo.org/sites/default/files/styles/image_grid_full_width/public/2017-04/%20leopard_shark_01.jpg>"
   ]
  },
  {
   "cell_type": "markdown",
   "id": "79c2255b",
   "metadata": {},
   "source": [
    "# Conociendo los datos\n",
    "Tareas:\n",
    "- Crear df de problemas con columnas de: Tipo de dato, numero de nulos, problema principal, solucionado S/N\n",
    "FALTA COLUMNA lOCATION, COUNTRY, AREA Y INVESTIGADOR "
   ]
  },
  {
   "cell_type": "markdown",
   "id": "660e9ca4",
   "metadata": {},
   "source": [
    "## Importamos bibliotecas"
   ]
  },
  {
   "cell_type": "code",
   "execution_count": 159,
   "id": "f78703db",
   "metadata": {
    "ExecuteTime": {
     "end_time": "2021-11-01T14:17:38.201740Z",
     "start_time": "2021-11-01T14:17:38.185322Z"
    }
   },
   "outputs": [],
   "source": [
    "import pandas as pd\n",
    "import numpy as np\n",
    "import re"
   ]
  },
  {
   "cell_type": "markdown",
   "id": "e4ecaa03",
   "metadata": {},
   "source": [
    "## Abrimos el archivo "
   ]
  },
  {
   "cell_type": "code",
   "execution_count": 245,
   "id": "01a918a4",
   "metadata": {
    "ExecuteTime": {
     "end_time": "2021-11-01T16:01:28.805796Z",
     "start_time": "2021-11-01T16:01:28.733840Z"
    }
   },
   "outputs": [],
   "source": [
    "df=pd.read_csv(\"data/GSAF5.csv\",encoding=\"ISO-8859-1\")"
   ]
  },
  {
   "cell_type": "markdown",
   "id": "2ff5d908",
   "metadata": {},
   "source": [
    "## Informacion inicial del archivo"
   ]
  },
  {
   "cell_type": "markdown",
   "id": "dfcbe205",
   "metadata": {},
   "source": [
    "### Observacion inicial del dataset (head, info, isna().sum())"
   ]
  },
  {
   "cell_type": "code",
   "execution_count": 246,
   "id": "3daf5d16",
   "metadata": {
    "ExecuteTime": {
     "end_time": "2021-11-01T16:01:30.623872Z",
     "start_time": "2021-11-01T16:01:30.599817Z"
    }
   },
   "outputs": [
    {
     "data": {
      "text/html": [
       "<div>\n",
       "<style scoped>\n",
       "    .dataframe tbody tr th:only-of-type {\n",
       "        vertical-align: middle;\n",
       "    }\n",
       "\n",
       "    .dataframe tbody tr th {\n",
       "        vertical-align: top;\n",
       "    }\n",
       "\n",
       "    .dataframe thead th {\n",
       "        text-align: right;\n",
       "    }\n",
       "</style>\n",
       "<table border=\"1\" class=\"dataframe\">\n",
       "  <thead>\n",
       "    <tr style=\"text-align: right;\">\n",
       "      <th></th>\n",
       "      <th>Case Number</th>\n",
       "      <th>Date</th>\n",
       "      <th>Year</th>\n",
       "      <th>Type</th>\n",
       "      <th>Country</th>\n",
       "      <th>Area</th>\n",
       "      <th>Location</th>\n",
       "      <th>Activity</th>\n",
       "      <th>Name</th>\n",
       "      <th>Sex</th>\n",
       "      <th>...</th>\n",
       "      <th>Species</th>\n",
       "      <th>Investigator or Source</th>\n",
       "      <th>pdf</th>\n",
       "      <th>href formula</th>\n",
       "      <th>href</th>\n",
       "      <th>Case Number.1</th>\n",
       "      <th>Case Number.2</th>\n",
       "      <th>original order</th>\n",
       "      <th>Unnamed: 22</th>\n",
       "      <th>Unnamed: 23</th>\n",
       "    </tr>\n",
       "  </thead>\n",
       "  <tbody>\n",
       "    <tr>\n",
       "      <th>0</th>\n",
       "      <td>2016.09.18.c</td>\n",
       "      <td>18-Sep-16</td>\n",
       "      <td>2016</td>\n",
       "      <td>Unprovoked</td>\n",
       "      <td>USA</td>\n",
       "      <td>Florida</td>\n",
       "      <td>New Smyrna Beach, Volusia County</td>\n",
       "      <td>Surfing</td>\n",
       "      <td>male</td>\n",
       "      <td>M</td>\n",
       "      <td>...</td>\n",
       "      <td>NaN</td>\n",
       "      <td>Orlando Sentinel, 9/19/2016</td>\n",
       "      <td>2016.09.18.c-NSB.pdf</td>\n",
       "      <td>http://sharkattackfile.net/spreadsheets/pdf_di...</td>\n",
       "      <td>http://sharkattackfile.net/spreadsheets/pdf_di...</td>\n",
       "      <td>2016.09.18.c</td>\n",
       "      <td>2016.09.18.c</td>\n",
       "      <td>5993</td>\n",
       "      <td>NaN</td>\n",
       "      <td>NaN</td>\n",
       "    </tr>\n",
       "    <tr>\n",
       "      <th>1</th>\n",
       "      <td>2016.09.18.b</td>\n",
       "      <td>18-Sep-16</td>\n",
       "      <td>2016</td>\n",
       "      <td>Unprovoked</td>\n",
       "      <td>USA</td>\n",
       "      <td>Florida</td>\n",
       "      <td>New Smyrna Beach, Volusia County</td>\n",
       "      <td>Surfing</td>\n",
       "      <td>Chucky Luciano</td>\n",
       "      <td>M</td>\n",
       "      <td>...</td>\n",
       "      <td>NaN</td>\n",
       "      <td>Orlando Sentinel, 9/19/2016</td>\n",
       "      <td>2016.09.18.b-Luciano.pdf</td>\n",
       "      <td>http://sharkattackfile.net/spreadsheets/pdf_di...</td>\n",
       "      <td>http://sharkattackfile.net/spreadsheets/pdf_di...</td>\n",
       "      <td>2016.09.18.b</td>\n",
       "      <td>2016.09.18.b</td>\n",
       "      <td>5992</td>\n",
       "      <td>NaN</td>\n",
       "      <td>NaN</td>\n",
       "    </tr>\n",
       "    <tr>\n",
       "      <th>2</th>\n",
       "      <td>2016.09.18.a</td>\n",
       "      <td>18-Sep-16</td>\n",
       "      <td>2016</td>\n",
       "      <td>Unprovoked</td>\n",
       "      <td>USA</td>\n",
       "      <td>Florida</td>\n",
       "      <td>New Smyrna Beach, Volusia County</td>\n",
       "      <td>Surfing</td>\n",
       "      <td>male</td>\n",
       "      <td>M</td>\n",
       "      <td>...</td>\n",
       "      <td>NaN</td>\n",
       "      <td>Orlando Sentinel, 9/19/2016</td>\n",
       "      <td>2016.09.18.a-NSB.pdf</td>\n",
       "      <td>http://sharkattackfile.net/spreadsheets/pdf_di...</td>\n",
       "      <td>http://sharkattackfile.net/spreadsheets/pdf_di...</td>\n",
       "      <td>2016.09.18.a</td>\n",
       "      <td>2016.09.18.a</td>\n",
       "      <td>5991</td>\n",
       "      <td>NaN</td>\n",
       "      <td>NaN</td>\n",
       "    </tr>\n",
       "    <tr>\n",
       "      <th>3</th>\n",
       "      <td>2016.09.17</td>\n",
       "      <td>17-Sep-16</td>\n",
       "      <td>2016</td>\n",
       "      <td>Unprovoked</td>\n",
       "      <td>AUSTRALIA</td>\n",
       "      <td>Victoria</td>\n",
       "      <td>Thirteenth Beach</td>\n",
       "      <td>Surfing</td>\n",
       "      <td>Rory Angiolella</td>\n",
       "      <td>M</td>\n",
       "      <td>...</td>\n",
       "      <td>NaN</td>\n",
       "      <td>The Age, 9/18/2016</td>\n",
       "      <td>2016.09.17-Angiolella.pdf</td>\n",
       "      <td>http://sharkattackfile.net/spreadsheets/pdf_di...</td>\n",
       "      <td>http://sharkattackfile.net/spreadsheets/pdf_di...</td>\n",
       "      <td>2016.09.17</td>\n",
       "      <td>2016.09.17</td>\n",
       "      <td>5990</td>\n",
       "      <td>NaN</td>\n",
       "      <td>NaN</td>\n",
       "    </tr>\n",
       "    <tr>\n",
       "      <th>4</th>\n",
       "      <td>2016.09.15</td>\n",
       "      <td>16-Sep-16</td>\n",
       "      <td>2016</td>\n",
       "      <td>Unprovoked</td>\n",
       "      <td>AUSTRALIA</td>\n",
       "      <td>Victoria</td>\n",
       "      <td>Bells Beach</td>\n",
       "      <td>Surfing</td>\n",
       "      <td>male</td>\n",
       "      <td>M</td>\n",
       "      <td>...</td>\n",
       "      <td>2 m shark</td>\n",
       "      <td>The Age, 9/16/2016</td>\n",
       "      <td>2016.09.16-BellsBeach.pdf</td>\n",
       "      <td>http://sharkattackfile.net/spreadsheets/pdf_di...</td>\n",
       "      <td>http://sharkattackfile.net/spreadsheets/pdf_di...</td>\n",
       "      <td>2016.09.16</td>\n",
       "      <td>2016.09.15</td>\n",
       "      <td>5989</td>\n",
       "      <td>NaN</td>\n",
       "      <td>NaN</td>\n",
       "    </tr>\n",
       "    <tr>\n",
       "      <th>5</th>\n",
       "      <td>2016.09.15.R</td>\n",
       "      <td>15-Sep-16</td>\n",
       "      <td>2016</td>\n",
       "      <td>Boat</td>\n",
       "      <td>AUSTRALIA</td>\n",
       "      <td>Western Australia</td>\n",
       "      <td>Bunbury</td>\n",
       "      <td>Fishing</td>\n",
       "      <td>Occupant: Ben Stratton</td>\n",
       "      <td>NaN</td>\n",
       "      <td>...</td>\n",
       "      <td>NaN</td>\n",
       "      <td>West Australian, 9/15/2016</td>\n",
       "      <td>2016.09.15.R-boat.pdf</td>\n",
       "      <td>http://sharkattackfile.net/spreadsheets/pdf_di...</td>\n",
       "      <td>http://sharkattackfile.net/spreadsheets/pdf_di...</td>\n",
       "      <td>2016.09.15.R</td>\n",
       "      <td>2016.09.15.R</td>\n",
       "      <td>5988</td>\n",
       "      <td>NaN</td>\n",
       "      <td>NaN</td>\n",
       "    </tr>\n",
       "    <tr>\n",
       "      <th>6</th>\n",
       "      <td>2016.09.11</td>\n",
       "      <td>11-Sep-16</td>\n",
       "      <td>2016</td>\n",
       "      <td>Unprovoked</td>\n",
       "      <td>USA</td>\n",
       "      <td>Florida</td>\n",
       "      <td>Ponte Vedra, St. Johns County</td>\n",
       "      <td>Wading</td>\n",
       "      <td>male</td>\n",
       "      <td>M</td>\n",
       "      <td>...</td>\n",
       "      <td>3' to 4' shark</td>\n",
       "      <td>News4Jax, 9/11/2016</td>\n",
       "      <td>2016.09.11-PonteVedra.pdf</td>\n",
       "      <td>http://sharkattackfile.net/spreadsheets/pdf_di...</td>\n",
       "      <td>http://sharkattackfile.net/spreadsheets/pdf_di...</td>\n",
       "      <td>2016.09.11</td>\n",
       "      <td>2016.09.11</td>\n",
       "      <td>5987</td>\n",
       "      <td>NaN</td>\n",
       "      <td>NaN</td>\n",
       "    </tr>\n",
       "    <tr>\n",
       "      <th>7</th>\n",
       "      <td>2016.09.07</td>\n",
       "      <td>07-Sep-16</td>\n",
       "      <td>2016</td>\n",
       "      <td>Unprovoked</td>\n",
       "      <td>USA</td>\n",
       "      <td>Hawaii</td>\n",
       "      <td>Makaha, Oahu</td>\n",
       "      <td>Swimming</td>\n",
       "      <td>female</td>\n",
       "      <td>F</td>\n",
       "      <td>...</td>\n",
       "      <td>Tiger shark, 10?</td>\n",
       "      <td>Hawaii News Now, 9/7/2016</td>\n",
       "      <td>2016.09.07-Oahu.pdf</td>\n",
       "      <td>http://sharkattackfile.net/spreadsheets/pdf_di...</td>\n",
       "      <td>http://sharkattackfile.net/spreadsheets/pdf_di...</td>\n",
       "      <td>2016.09.07</td>\n",
       "      <td>2016.09.07</td>\n",
       "      <td>5986</td>\n",
       "      <td>NaN</td>\n",
       "      <td>NaN</td>\n",
       "    </tr>\n",
       "    <tr>\n",
       "      <th>8</th>\n",
       "      <td>2016.09.06</td>\n",
       "      <td>06-Sep-16</td>\n",
       "      <td>2016</td>\n",
       "      <td>Unprovoked</td>\n",
       "      <td>NEW CALEDONIA</td>\n",
       "      <td>North Province</td>\n",
       "      <td>Koumac</td>\n",
       "      <td>Kite surfing</td>\n",
       "      <td>David Jewell</td>\n",
       "      <td>M</td>\n",
       "      <td>...</td>\n",
       "      <td>NaN</td>\n",
       "      <td>TVANouvelles, 9/6/2016</td>\n",
       "      <td>2016.09.06-Jewell.pdf</td>\n",
       "      <td>http://sharkattackfile.net/spreadsheets/pdf_di...</td>\n",
       "      <td>http://sharkattackfile.net/spreadsheets/pdf_di...</td>\n",
       "      <td>2016.09.06</td>\n",
       "      <td>2016.09.06</td>\n",
       "      <td>5985</td>\n",
       "      <td>NaN</td>\n",
       "      <td>NaN</td>\n",
       "    </tr>\n",
       "    <tr>\n",
       "      <th>9</th>\n",
       "      <td>2016.09.05.b</td>\n",
       "      <td>05-Sep-16</td>\n",
       "      <td>2016</td>\n",
       "      <td>Unprovoked</td>\n",
       "      <td>USA</td>\n",
       "      <td>South Carolina</td>\n",
       "      <td>Kingston Plantation, Myrtle Beach, Horry County</td>\n",
       "      <td>Boogie boarding</td>\n",
       "      <td>Rylie Williams</td>\n",
       "      <td>F</td>\n",
       "      <td>...</td>\n",
       "      <td>NaN</td>\n",
       "      <td>C. Creswell, GSAF</td>\n",
       "      <td>2016.09.05.b-Williams.pdf</td>\n",
       "      <td>http://sharkattackfile.net/spreadsheets/pdf_di...</td>\n",
       "      <td>http://sharkattackfile.net/spreadsheets/pdf_di...</td>\n",
       "      <td>2016.09.05.b</td>\n",
       "      <td>2016.09.05.b</td>\n",
       "      <td>5984</td>\n",
       "      <td>NaN</td>\n",
       "      <td>NaN</td>\n",
       "    </tr>\n",
       "  </tbody>\n",
       "</table>\n",
       "<p>10 rows × 24 columns</p>\n",
       "</div>"
      ],
      "text/plain": [
       "    Case Number       Date  Year        Type        Country  \\\n",
       "0  2016.09.18.c  18-Sep-16  2016  Unprovoked            USA   \n",
       "1  2016.09.18.b  18-Sep-16  2016  Unprovoked            USA   \n",
       "2  2016.09.18.a  18-Sep-16  2016  Unprovoked            USA   \n",
       "3    2016.09.17  17-Sep-16  2016  Unprovoked      AUSTRALIA   \n",
       "4    2016.09.15  16-Sep-16  2016  Unprovoked      AUSTRALIA   \n",
       "5  2016.09.15.R  15-Sep-16  2016        Boat      AUSTRALIA   \n",
       "6    2016.09.11  11-Sep-16  2016  Unprovoked            USA   \n",
       "7    2016.09.07  07-Sep-16  2016  Unprovoked            USA   \n",
       "8    2016.09.06  06-Sep-16  2016  Unprovoked  NEW CALEDONIA   \n",
       "9  2016.09.05.b  05-Sep-16  2016  Unprovoked            USA   \n",
       "\n",
       "                Area                                         Location  \\\n",
       "0            Florida                 New Smyrna Beach, Volusia County   \n",
       "1            Florida                 New Smyrna Beach, Volusia County   \n",
       "2            Florida                 New Smyrna Beach, Volusia County   \n",
       "3           Victoria                                 Thirteenth Beach   \n",
       "4           Victoria                                      Bells Beach   \n",
       "5  Western Australia                                          Bunbury   \n",
       "6            Florida                    Ponte Vedra, St. Johns County   \n",
       "7             Hawaii                                     Makaha, Oahu   \n",
       "8     North Province                                           Koumac   \n",
       "9     South Carolina  Kingston Plantation, Myrtle Beach, Horry County   \n",
       "\n",
       "          Activity                    Name Sex   ...          Species   \\\n",
       "0          Surfing                    male    M  ...               NaN   \n",
       "1          Surfing          Chucky Luciano    M  ...               NaN   \n",
       "2          Surfing                    male    M  ...               NaN   \n",
       "3          Surfing         Rory Angiolella    M  ...               NaN   \n",
       "4          Surfing                    male    M  ...         2 m shark   \n",
       "5          Fishing  Occupant: Ben Stratton  NaN  ...               NaN   \n",
       "6           Wading                    male    M  ...    3' to 4' shark   \n",
       "7         Swimming                  female    F  ...  Tiger shark, 10?   \n",
       "8     Kite surfing            David Jewell    M  ...               NaN   \n",
       "9  Boogie boarding          Rylie Williams    F  ...               NaN   \n",
       "\n",
       "        Investigator or Source                        pdf  \\\n",
       "0  Orlando Sentinel, 9/19/2016       2016.09.18.c-NSB.pdf   \n",
       "1  Orlando Sentinel, 9/19/2016   2016.09.18.b-Luciano.pdf   \n",
       "2  Orlando Sentinel, 9/19/2016       2016.09.18.a-NSB.pdf   \n",
       "3           The Age, 9/18/2016  2016.09.17-Angiolella.pdf   \n",
       "4           The Age, 9/16/2016  2016.09.16-BellsBeach.pdf   \n",
       "5   West Australian, 9/15/2016      2016.09.15.R-boat.pdf   \n",
       "6          News4Jax, 9/11/2016  2016.09.11-PonteVedra.pdf   \n",
       "7    Hawaii News Now, 9/7/2016        2016.09.07-Oahu.pdf   \n",
       "8       TVANouvelles, 9/6/2016      2016.09.06-Jewell.pdf   \n",
       "9            C. Creswell, GSAF  2016.09.05.b-Williams.pdf   \n",
       "\n",
       "                                        href formula  \\\n",
       "0  http://sharkattackfile.net/spreadsheets/pdf_di...   \n",
       "1  http://sharkattackfile.net/spreadsheets/pdf_di...   \n",
       "2  http://sharkattackfile.net/spreadsheets/pdf_di...   \n",
       "3  http://sharkattackfile.net/spreadsheets/pdf_di...   \n",
       "4  http://sharkattackfile.net/spreadsheets/pdf_di...   \n",
       "5  http://sharkattackfile.net/spreadsheets/pdf_di...   \n",
       "6  http://sharkattackfile.net/spreadsheets/pdf_di...   \n",
       "7  http://sharkattackfile.net/spreadsheets/pdf_di...   \n",
       "8  http://sharkattackfile.net/spreadsheets/pdf_di...   \n",
       "9  http://sharkattackfile.net/spreadsheets/pdf_di...   \n",
       "\n",
       "                                                href Case Number.1  \\\n",
       "0  http://sharkattackfile.net/spreadsheets/pdf_di...  2016.09.18.c   \n",
       "1  http://sharkattackfile.net/spreadsheets/pdf_di...  2016.09.18.b   \n",
       "2  http://sharkattackfile.net/spreadsheets/pdf_di...  2016.09.18.a   \n",
       "3  http://sharkattackfile.net/spreadsheets/pdf_di...    2016.09.17   \n",
       "4  http://sharkattackfile.net/spreadsheets/pdf_di...    2016.09.16   \n",
       "5  http://sharkattackfile.net/spreadsheets/pdf_di...  2016.09.15.R   \n",
       "6  http://sharkattackfile.net/spreadsheets/pdf_di...    2016.09.11   \n",
       "7  http://sharkattackfile.net/spreadsheets/pdf_di...    2016.09.07   \n",
       "8  http://sharkattackfile.net/spreadsheets/pdf_di...    2016.09.06   \n",
       "9  http://sharkattackfile.net/spreadsheets/pdf_di...  2016.09.05.b   \n",
       "\n",
       "  Case Number.2 original order Unnamed: 22 Unnamed: 23  \n",
       "0  2016.09.18.c           5993         NaN         NaN  \n",
       "1  2016.09.18.b           5992         NaN         NaN  \n",
       "2  2016.09.18.a           5991         NaN         NaN  \n",
       "3    2016.09.17           5990         NaN         NaN  \n",
       "4    2016.09.15           5989         NaN         NaN  \n",
       "5  2016.09.15.R           5988         NaN         NaN  \n",
       "6    2016.09.11           5987         NaN         NaN  \n",
       "7    2016.09.07           5986         NaN         NaN  \n",
       "8    2016.09.06           5985         NaN         NaN  \n",
       "9  2016.09.05.b           5984         NaN         NaN  \n",
       "\n",
       "[10 rows x 24 columns]"
      ]
     },
     "execution_count": 246,
     "metadata": {},
     "output_type": "execute_result"
    }
   ],
   "source": [
    "df.head(10)"
   ]
  },
  {
   "cell_type": "code",
   "execution_count": 4,
   "id": "e590293e",
   "metadata": {
    "ExecuteTime": {
     "end_time": "2021-11-01T11:38:43.835500Z",
     "start_time": "2021-11-01T11:38:43.806214Z"
    },
    "scrolled": false
   },
   "outputs": [
    {
     "name": "stdout",
     "output_type": "stream",
     "text": [
      "<class 'pandas.core.frame.DataFrame'>\n",
      "RangeIndex: 5992 entries, 0 to 5991\n",
      "Data columns (total 24 columns):\n",
      " #   Column                  Non-Null Count  Dtype \n",
      "---  ------                  --------------  ----- \n",
      " 0   Case Number             5992 non-null   object\n",
      " 1   Date                    5992 non-null   object\n",
      " 2   Year                    5992 non-null   int64 \n",
      " 3   Type                    5992 non-null   object\n",
      " 4   Country                 5949 non-null   object\n",
      " 5   Area                    5590 non-null   object\n",
      " 6   Location                5496 non-null   object\n",
      " 7   Activity                5465 non-null   object\n",
      " 8   Name                    5792 non-null   object\n",
      " 9   Sex                     5425 non-null   object\n",
      " 10  Age                     3311 non-null   object\n",
      " 11  Injury                  5965 non-null   object\n",
      " 12  Fatal (Y/N)             5973 non-null   object\n",
      " 13  Time                    2779 non-null   object\n",
      " 14  Species                 3058 non-null   object\n",
      " 15  Investigator or Source  5977 non-null   object\n",
      " 16  pdf                     5992 non-null   object\n",
      " 17  href formula            5991 non-null   object\n",
      " 18  href                    5989 non-null   object\n",
      " 19  Case Number.1           5992 non-null   object\n",
      " 20  Case Number.2           5992 non-null   object\n",
      " 21  original order          5992 non-null   int64 \n",
      " 22  Unnamed: 22             1 non-null      object\n",
      " 23  Unnamed: 23             2 non-null      object\n",
      "dtypes: int64(2), object(22)\n",
      "memory usage: 1.1+ MB\n"
     ]
    }
   ],
   "source": [
    "df.info()"
   ]
  },
  {
   "cell_type": "code",
   "execution_count": 5,
   "id": "b4608cf8",
   "metadata": {
    "ExecuteTime": {
     "end_time": "2021-11-01T11:38:43.851855Z",
     "start_time": "2021-11-01T11:38:43.835500Z"
    },
    "scrolled": true
   },
   "outputs": [
    {
     "data": {
      "text/plain": [
       "Case Number                  0\n",
       "Date                         0\n",
       "Year                         0\n",
       "Type                         0\n",
       "Country                     43\n",
       "Area                       402\n",
       "Location                   496\n",
       "Activity                   527\n",
       "Name                       200\n",
       "Sex                        567\n",
       "Age                       2681\n",
       "Injury                      27\n",
       "Fatal (Y/N)                 19\n",
       "Time                      3213\n",
       "Species                   2934\n",
       "Investigator or Source      15\n",
       "pdf                          0\n",
       "href formula                 1\n",
       "href                         3\n",
       "Case Number.1                0\n",
       "Case Number.2                0\n",
       "original order               0\n",
       "Unnamed: 22               5991\n",
       "Unnamed: 23               5990\n",
       "dtype: int64"
      ]
     },
     "execution_count": 5,
     "metadata": {},
     "output_type": "execute_result"
    }
   ],
   "source": [
    "#Valores nulos\n",
    "df.isna().sum()"
   ]
  },
  {
   "cell_type": "code",
   "execution_count": 6,
   "id": "71932f75",
   "metadata": {
    "ExecuteTime": {
     "end_time": "2021-11-01T11:38:43.886608Z",
     "start_time": "2021-11-01T11:38:43.851855Z"
    }
   },
   "outputs": [
    {
     "data": {
      "text/plain": [
       "False    5992\n",
       "dtype: int64"
      ]
     },
     "execution_count": 6,
     "metadata": {},
     "output_type": "execute_result"
    }
   ],
   "source": [
    "#Vamos a ver si hay algun duplicado en los valores\n",
    "df.duplicated().value_counts()"
   ]
  },
  {
   "cell_type": "code",
   "execution_count": 7,
   "id": "c6dee818",
   "metadata": {
    "ExecuteTime": {
     "end_time": "2021-11-01T11:38:43.900498Z",
     "start_time": "2021-11-01T11:38:43.886608Z"
    }
   },
   "outputs": [
    {
     "data": {
      "text/plain": [
       "(5992, 24)"
      ]
     },
     "execution_count": 7,
     "metadata": {},
     "output_type": "execute_result"
    }
   ],
   "source": [
    "df.shape"
   ]
  },
  {
   "cell_type": "markdown",
   "id": "858dd2bf",
   "metadata": {
    "heading_collapsed": true
   },
   "source": [
    "### Conclusiones iniciales tras Analisis inicial:\n"
   ]
  },
  {
   "cell_type": "markdown",
   "id": "aa31612e",
   "metadata": {
    "hidden": true
   },
   "source": [
    "- Columnas con un mismo valor como case number (0,19,20) y original order: Comprobar diferencias y si son iguales borrar\n",
    "- Se solapan las columnas Year y Date: Agruparla en una.\n",
    "- En algunos casos los datos de la columna nombre se solapan con el sexo: Buscar solucion\n",
    "- Las columnas pdf, href formula y href se solapan, intentar agrupar en una\n",
    "- original order posible indice"
   ]
  },
  {
   "cell_type": "markdown",
   "id": "78ad28e9",
   "metadata": {},
   "source": [
    "#  Modificacion del dataset"
   ]
  },
  {
   "cell_type": "markdown",
   "id": "f6c05f22",
   "metadata": {},
   "source": [
    "## Localizacion de problemas y limpieza del dataset por columnas"
   ]
  },
  {
   "cell_type": "markdown",
   "id": "a16d1867",
   "metadata": {},
   "source": [
    "FOTO DE LA TABLA INICIAL"
   ]
  },
  {
   "cell_type": "markdown",
   "id": "bcb4152b",
   "metadata": {
    "heading_collapsed": true
   },
   "source": [
    "### Columna: \"original order\",\"Case Number\",\"Case Number.1\",\"Case Number.2\""
   ]
  },
  {
   "cell_type": "markdown",
   "id": "2eabb2bd",
   "metadata": {
    "hidden": true
   },
   "source": [
    "- La columna original order es un indice de casos en los que se repiten valores igual que las columnas Case Number\n",
    "- Objetivo: Unica lista de numero de casos: lista con valores unicos y continuos\n",
    "- Output: Nueva columna que usare indice\n"
   ]
  },
  {
   "cell_type": "code",
   "execution_count": 8,
   "id": "e14cb7a1",
   "metadata": {
    "ExecuteTime": {
     "end_time": "2021-11-01T11:38:43.927302Z",
     "start_time": "2021-11-01T11:38:43.900498Z"
    },
    "hidden": true
   },
   "outputs": [
    {
     "data": {
      "text/html": [
       "<div>\n",
       "<style scoped>\n",
       "    .dataframe tbody tr th:only-of-type {\n",
       "        vertical-align: middle;\n",
       "    }\n",
       "\n",
       "    .dataframe tbody tr th {\n",
       "        vertical-align: top;\n",
       "    }\n",
       "\n",
       "    .dataframe thead th {\n",
       "        text-align: right;\n",
       "    }\n",
       "</style>\n",
       "<table border=\"1\" class=\"dataframe\">\n",
       "  <thead>\n",
       "    <tr style=\"text-align: right;\">\n",
       "      <th></th>\n",
       "      <th>original order</th>\n",
       "      <th>Case Number</th>\n",
       "      <th>Case Number.1</th>\n",
       "      <th>Case Number.2</th>\n",
       "    </tr>\n",
       "  </thead>\n",
       "  <tbody>\n",
       "    <tr>\n",
       "      <th>0</th>\n",
       "      <td>5993</td>\n",
       "      <td>2016.09.18.c</td>\n",
       "      <td>2016.09.18.c</td>\n",
       "      <td>2016.09.18.c</td>\n",
       "    </tr>\n",
       "    <tr>\n",
       "      <th>1</th>\n",
       "      <td>5992</td>\n",
       "      <td>2016.09.18.b</td>\n",
       "      <td>2016.09.18.b</td>\n",
       "      <td>2016.09.18.b</td>\n",
       "    </tr>\n",
       "    <tr>\n",
       "      <th>2</th>\n",
       "      <td>5991</td>\n",
       "      <td>2016.09.18.a</td>\n",
       "      <td>2016.09.18.a</td>\n",
       "      <td>2016.09.18.a</td>\n",
       "    </tr>\n",
       "    <tr>\n",
       "      <th>3</th>\n",
       "      <td>5990</td>\n",
       "      <td>2016.09.17</td>\n",
       "      <td>2016.09.17</td>\n",
       "      <td>2016.09.17</td>\n",
       "    </tr>\n",
       "    <tr>\n",
       "      <th>4</th>\n",
       "      <td>5989</td>\n",
       "      <td>2016.09.15</td>\n",
       "      <td>2016.09.16</td>\n",
       "      <td>2016.09.15</td>\n",
       "    </tr>\n",
       "    <tr>\n",
       "      <th>...</th>\n",
       "      <td>...</td>\n",
       "      <td>...</td>\n",
       "      <td>...</td>\n",
       "      <td>...</td>\n",
       "    </tr>\n",
       "    <tr>\n",
       "      <th>5987</th>\n",
       "      <td>6</td>\n",
       "      <td>ND.0005</td>\n",
       "      <td>ND.0005</td>\n",
       "      <td>ND.0005</td>\n",
       "    </tr>\n",
       "    <tr>\n",
       "      <th>5988</th>\n",
       "      <td>5</td>\n",
       "      <td>ND.0004</td>\n",
       "      <td>ND.0004</td>\n",
       "      <td>ND.0004</td>\n",
       "    </tr>\n",
       "    <tr>\n",
       "      <th>5989</th>\n",
       "      <td>4</td>\n",
       "      <td>ND.0003</td>\n",
       "      <td>ND.0003</td>\n",
       "      <td>ND.0003</td>\n",
       "    </tr>\n",
       "    <tr>\n",
       "      <th>5990</th>\n",
       "      <td>3</td>\n",
       "      <td>ND.0002</td>\n",
       "      <td>ND.0002</td>\n",
       "      <td>ND.0002</td>\n",
       "    </tr>\n",
       "    <tr>\n",
       "      <th>5991</th>\n",
       "      <td>2</td>\n",
       "      <td>ND.0001</td>\n",
       "      <td>ND.0001</td>\n",
       "      <td>ND.0001</td>\n",
       "    </tr>\n",
       "  </tbody>\n",
       "</table>\n",
       "<p>5992 rows × 4 columns</p>\n",
       "</div>"
      ],
      "text/plain": [
       "      original order   Case Number Case Number.1 Case Number.2\n",
       "0               5993  2016.09.18.c  2016.09.18.c  2016.09.18.c\n",
       "1               5992  2016.09.18.b  2016.09.18.b  2016.09.18.b\n",
       "2               5991  2016.09.18.a  2016.09.18.a  2016.09.18.a\n",
       "3               5990    2016.09.17    2016.09.17    2016.09.17\n",
       "4               5989    2016.09.15    2016.09.16    2016.09.15\n",
       "...              ...           ...           ...           ...\n",
       "5987               6       ND.0005       ND.0005       ND.0005\n",
       "5988               5       ND.0004       ND.0004       ND.0004\n",
       "5989               4       ND.0003       ND.0003       ND.0003\n",
       "5990               3       ND.0002       ND.0002       ND.0002\n",
       "5991               2       ND.0001       ND.0001       ND.0001\n",
       "\n",
       "[5992 rows x 4 columns]"
      ]
     },
     "execution_count": 8,
     "metadata": {},
     "output_type": "execute_result"
    }
   ],
   "source": [
    "df[[\"original order\",\"Case Number\",\"Case Number.1\",\"Case Number.2\"]]"
   ]
  },
  {
   "cell_type": "markdown",
   "id": "de42d3dd",
   "metadata": {
    "heading_collapsed": true,
    "hidden": true
   },
   "source": [
    "#### Analisis de original order"
   ]
  },
  {
   "cell_type": "code",
   "execution_count": 9,
   "id": "bb950f96",
   "metadata": {
    "ExecuteTime": {
     "end_time": "2021-11-01T11:38:43.949933Z",
     "start_time": "2021-11-01T11:38:43.927302Z"
    },
    "hidden": true
   },
   "outputs": [
    {
     "data": {
      "text/html": [
       "<div>\n",
       "<style scoped>\n",
       "    .dataframe tbody tr th:only-of-type {\n",
       "        vertical-align: middle;\n",
       "    }\n",
       "\n",
       "    .dataframe tbody tr th {\n",
       "        vertical-align: top;\n",
       "    }\n",
       "\n",
       "    .dataframe thead th {\n",
       "        text-align: right;\n",
       "    }\n",
       "</style>\n",
       "<table border=\"1\" class=\"dataframe\">\n",
       "  <thead>\n",
       "    <tr style=\"text-align: right;\">\n",
       "      <th></th>\n",
       "      <th>Case Number</th>\n",
       "      <th>Date</th>\n",
       "      <th>Year</th>\n",
       "      <th>Type</th>\n",
       "      <th>Country</th>\n",
       "      <th>Area</th>\n",
       "      <th>Location</th>\n",
       "      <th>Activity</th>\n",
       "      <th>Name</th>\n",
       "      <th>Sex</th>\n",
       "      <th>...</th>\n",
       "      <th>Species</th>\n",
       "      <th>Investigator or Source</th>\n",
       "      <th>pdf</th>\n",
       "      <th>href formula</th>\n",
       "      <th>href</th>\n",
       "      <th>Case Number.1</th>\n",
       "      <th>Case Number.2</th>\n",
       "      <th>original order</th>\n",
       "      <th>Unnamed: 22</th>\n",
       "      <th>Unnamed: 23</th>\n",
       "    </tr>\n",
       "  </thead>\n",
       "  <tbody>\n",
       "    <tr>\n",
       "      <th>5991</th>\n",
       "      <td>ND.0001</td>\n",
       "      <td>1845-1853</td>\n",
       "      <td>0</td>\n",
       "      <td>Unprovoked</td>\n",
       "      <td>CEYLON (SRI LANKA)</td>\n",
       "      <td>Eastern Province</td>\n",
       "      <td>Below the English fort, Trincomalee</td>\n",
       "      <td>Swimming</td>\n",
       "      <td>male</td>\n",
       "      <td>M</td>\n",
       "      <td>...</td>\n",
       "      <td>NaN</td>\n",
       "      <td>S.W. Baker</td>\n",
       "      <td>ND-0001-Ceylon.pdf</td>\n",
       "      <td>http://sharkattackfile.net/spreadsheets/pdf_di...</td>\n",
       "      <td>http://sharkattackfile.net/spreadsheets/pdf_di...</td>\n",
       "      <td>ND.0001</td>\n",
       "      <td>ND.0001</td>\n",
       "      <td>2</td>\n",
       "      <td>NaN</td>\n",
       "      <td>NaN</td>\n",
       "    </tr>\n",
       "    <tr>\n",
       "      <th>5990</th>\n",
       "      <td>ND.0002</td>\n",
       "      <td>1883-1889</td>\n",
       "      <td>0</td>\n",
       "      <td>Unprovoked</td>\n",
       "      <td>PANAMA</td>\n",
       "      <td>NaN</td>\n",
       "      <td>Panama Bay 8ºN, 79ºW</td>\n",
       "      <td>NaN</td>\n",
       "      <td>Jules Patterson</td>\n",
       "      <td>M</td>\n",
       "      <td>...</td>\n",
       "      <td>NaN</td>\n",
       "      <td>The Sun, 10/20/1938</td>\n",
       "      <td>ND-0002-JulesPatterson.pdf</td>\n",
       "      <td>http://sharkattackfile.net/spreadsheets/pdf_di...</td>\n",
       "      <td>http://sharkattackfile.net/spreadsheets/pdf_di...</td>\n",
       "      <td>ND.0002</td>\n",
       "      <td>ND.0002</td>\n",
       "      <td>3</td>\n",
       "      <td>NaN</td>\n",
       "      <td>NaN</td>\n",
       "    </tr>\n",
       "    <tr>\n",
       "      <th>5989</th>\n",
       "      <td>ND.0003</td>\n",
       "      <td>1900-1905</td>\n",
       "      <td>0</td>\n",
       "      <td>Unprovoked</td>\n",
       "      <td>USA</td>\n",
       "      <td>North Carolina</td>\n",
       "      <td>Ocracoke Inlet</td>\n",
       "      <td>Swimming</td>\n",
       "      <td>Coast Guard personnel</td>\n",
       "      <td>M</td>\n",
       "      <td>...</td>\n",
       "      <td>NaN</td>\n",
       "      <td>F. Schwartz, p.23; C. Creswell, GSAF</td>\n",
       "      <td>ND-0003-Ocracoke_1900-1905.pdf</td>\n",
       "      <td>http://sharkattackfile.net/spreadsheets/pdf_di...</td>\n",
       "      <td>http://sharkattackfile.net/spreadsheets/pdf_di...</td>\n",
       "      <td>ND.0003</td>\n",
       "      <td>ND.0003</td>\n",
       "      <td>4</td>\n",
       "      <td>NaN</td>\n",
       "      <td>NaN</td>\n",
       "    </tr>\n",
       "  </tbody>\n",
       "</table>\n",
       "<p>3 rows × 24 columns</p>\n",
       "</div>"
      ],
      "text/plain": [
       "     Case Number       Date  Year        Type             Country  \\\n",
       "5991     ND.0001  1845-1853     0  Unprovoked  CEYLON (SRI LANKA)   \n",
       "5990     ND.0002  1883-1889     0  Unprovoked              PANAMA   \n",
       "5989     ND.0003  1900-1905     0  Unprovoked                 USA   \n",
       "\n",
       "                  Area                             Location  Activity  \\\n",
       "5991  Eastern Province  Below the English fort, Trincomalee  Swimming   \n",
       "5990               NaN                 Panama Bay 8ºN, 79ºW       NaN   \n",
       "5989    North Carolina                       Ocracoke Inlet  Swimming   \n",
       "\n",
       "                       Name Sex   ... Species   \\\n",
       "5991                   male    M  ...      NaN   \n",
       "5990        Jules Patterson    M  ...      NaN   \n",
       "5989  Coast Guard personnel    M  ...      NaN   \n",
       "\n",
       "                    Investigator or Source                             pdf  \\\n",
       "5991                            S.W. Baker              ND-0001-Ceylon.pdf   \n",
       "5990                   The Sun, 10/20/1938      ND-0002-JulesPatterson.pdf   \n",
       "5989  F. Schwartz, p.23; C. Creswell, GSAF  ND-0003-Ocracoke_1900-1905.pdf   \n",
       "\n",
       "                                           href formula  \\\n",
       "5991  http://sharkattackfile.net/spreadsheets/pdf_di...   \n",
       "5990  http://sharkattackfile.net/spreadsheets/pdf_di...   \n",
       "5989  http://sharkattackfile.net/spreadsheets/pdf_di...   \n",
       "\n",
       "                                                   href Case Number.1  \\\n",
       "5991  http://sharkattackfile.net/spreadsheets/pdf_di...       ND.0001   \n",
       "5990  http://sharkattackfile.net/spreadsheets/pdf_di...       ND.0002   \n",
       "5989  http://sharkattackfile.net/spreadsheets/pdf_di...       ND.0003   \n",
       "\n",
       "     Case Number.2 original order Unnamed: 22 Unnamed: 23  \n",
       "5991       ND.0001              2         NaN         NaN  \n",
       "5990       ND.0002              3         NaN         NaN  \n",
       "5989       ND.0003              4         NaN         NaN  \n",
       "\n",
       "[3 rows x 24 columns]"
      ]
     },
     "execution_count": 9,
     "metadata": {},
     "output_type": "execute_result"
    }
   ],
   "source": [
    "#ordeno la tabla por los valores original order\n",
    "df.sort_values(\"original order\",ascending=True,inplace=True)\n",
    "df.head(3)"
   ]
  },
  {
   "cell_type": "code",
   "execution_count": 10,
   "id": "c29bf6fe",
   "metadata": {
    "ExecuteTime": {
     "end_time": "2021-11-01T11:38:43.959240Z",
     "start_time": "2021-11-01T11:38:43.952051Z"
    },
    "hidden": true
   },
   "outputs": [
    {
     "data": {
      "text/plain": [
       "5988"
      ]
     },
     "execution_count": 10,
     "metadata": {},
     "output_type": "execute_result"
    }
   ],
   "source": [
    "#Vamos a ver que valoers faltan\n",
    "df[\"original order\"].nunique()"
   ]
  },
  {
   "cell_type": "code",
   "execution_count": 11,
   "id": "db4c22de",
   "metadata": {
    "ExecuteTime": {
     "end_time": "2021-11-01T11:38:43.972264Z",
     "start_time": "2021-11-01T11:38:43.960830Z"
    },
    "hidden": true
   },
   "outputs": [],
   "source": [
    "#Vamos a comprobar cuantos valores se repiten \n",
    "OE_ValoresRepetidos=len(df[\"original order\"])-df[\"original order\"].nunique()"
   ]
  },
  {
   "cell_type": "code",
   "execution_count": 12,
   "id": "6dfd8b7e",
   "metadata": {
    "ExecuteTime": {
     "end_time": "2021-11-01T11:38:43.983856Z",
     "start_time": "2021-11-01T11:38:43.972264Z"
    },
    "hidden": true
   },
   "outputs": [
    {
     "data": {
      "text/plain": [
       "5739    2\n",
       "569     2\n",
       "5661    2\n",
       "3847    2\n",
       "Name: original order, dtype: int64"
      ]
     },
     "execution_count": 12,
     "metadata": {},
     "output_type": "execute_result"
    }
   ],
   "source": [
    "#Comprobamos QUE valores se repiten\n",
    "df[\"original order\"].value_counts().head(OE_ValoresRepetidos)"
   ]
  },
  {
   "cell_type": "code",
   "execution_count": 13,
   "id": "147bf4e5",
   "metadata": {
    "ExecuteTime": {
     "end_time": "2021-11-01T11:38:44.594560Z",
     "start_time": "2021-11-01T11:38:43.983856Z"
    },
    "hidden": true
   },
   "outputs": [
    {
     "name": "stdout",
     "output_type": "stream",
     "text": [
      "0\n",
      "1\n",
      "571\n",
      "3347\n",
      "5724\n",
      "5881\n"
     ]
    }
   ],
   "source": [
    "#Comprobamos desde el 0 al numero de casos, que valores no estan, lopaso a index ya que me resuta mas facil\n",
    "df2=df.set_index(\"original order\")\n",
    "for i in range(0,len(df2)):\n",
    "    try:\n",
    "        df2.loc[i]\n",
    "    except KeyError:\n",
    "        print(i)"
   ]
  },
  {
   "cell_type": "markdown",
   "id": "e16b237d",
   "metadata": {
    "ExecuteTime": {
     "end_time": "2021-10-30T10:39:21.365815Z",
     "start_time": "2021-10-30T10:39:21.356150Z"
    },
    "hidden": true
   },
   "source": [
    "Problema de original order: 4 numeros repetidos y en el orden de casos se han saltado varios numeros\n",
    "Opciones para corregirlo:\n",
    "- Opcion A: Cambios en la misma columna:\n",
    "        - del 2 al 568 correcto, pasamos el segundo valor 569 al 570 \n",
    "        - del 571 al 3346 correcto, del3348 al primer valor 3847 hay que restarle 1\n",
    "        - del 3848 al 5660 correcto, del segundo valor del 5661 a 5723 hay que sumarle 1\n",
    "        - del 5725 a 5738 correcto, del segundo valor de 5739 al 5880 hay que sumarle 1\n",
    "        - despues restamos 1 a todo y los casos empezaran desde 1 siendo valores unicos\n",
    "- Opcion B:\n",
    "        - ponerlo en orden y crear una nueva tabla con un rango de 1 a len"
   ]
  },
  {
   "cell_type": "code",
   "execution_count": 14,
   "id": "cff40558",
   "metadata": {
    "ExecuteTime": {
     "end_time": "2021-11-01T11:38:44.610124Z",
     "start_time": "2021-11-01T11:38:44.594560Z"
    },
    "hidden": true
   },
   "outputs": [],
   "source": [
    "#cambio el indice con una lista de numeros desde el 1 hasta la longitud +1\n",
    "lista=[i for i in range(1,len(df)+1)]\n"
   ]
  },
  {
   "cell_type": "code",
   "execution_count": 15,
   "id": "f4664c7d",
   "metadata": {
    "ExecuteTime": {
     "end_time": "2021-11-01T11:38:44.660973Z",
     "start_time": "2021-11-01T11:38:44.612222Z"
    },
    "hidden": true
   },
   "outputs": [],
   "source": [
    "# añado la columna nueva y borro la antigua\n",
    "df[\"Casos\"]=lista\n",
    "df.drop(\"original order\",axis=1,inplace=True)"
   ]
  },
  {
   "cell_type": "markdown",
   "id": "49d99e89",
   "metadata": {
    "hidden": true
   },
   "source": [
    "#### Analisis Case Number"
   ]
  },
  {
   "cell_type": "code",
   "execution_count": 16,
   "id": "23cf2106",
   "metadata": {
    "ExecuteTime": {
     "end_time": "2021-11-01T11:38:44.673955Z",
     "start_time": "2021-11-01T11:38:44.663435Z"
    },
    "hidden": true
   },
   "outputs": [],
   "source": [
    "#Cambio el indice a original a Casos \n",
    "df=df.set_index(\"Casos\")"
   ]
  },
  {
   "cell_type": "code",
   "execution_count": 17,
   "id": "e747134b",
   "metadata": {
    "ExecuteTime": {
     "end_time": "2021-11-01T11:38:44.699382Z",
     "start_time": "2021-11-01T11:38:44.675802Z"
    },
    "hidden": true,
    "scrolled": false
   },
   "outputs": [
    {
     "name": "stdout",
     "output_type": "stream",
     "text": [
      "<class 'pandas.core.frame.DataFrame'>\n",
      "Int64Index: 5992 entries, 1 to 5992\n",
      "Data columns (total 3 columns):\n",
      " #   Column         Non-Null Count  Dtype \n",
      "---  ------         --------------  ----- \n",
      " 0   Case Number    5992 non-null   object\n",
      " 1   Case Number.1  5992 non-null   object\n",
      " 2   Case Number.2  5992 non-null   object\n",
      "dtypes: object(3)\n",
      "memory usage: 187.2+ KB\n"
     ]
    }
   ],
   "source": [
    "#Miramos cantidad de valores nulos\n",
    "df[[\"Case Number\",\"Case Number.1\",\"Case Number.2\"]].info()"
   ]
  },
  {
   "cell_type": "code",
   "execution_count": 18,
   "id": "9312363e",
   "metadata": {
    "ExecuteTime": {
     "end_time": "2021-11-01T11:38:44.729483Z",
     "start_time": "2021-11-01T11:38:44.699382Z"
    },
    "hidden": true,
    "scrolled": true
   },
   "outputs": [
    {
     "data": {
      "text/plain": [
       "Case Number      5976\n",
       "Case Number.1    5975\n",
       "Case Number.2    5976\n",
       "dtype: int64"
      ]
     },
     "execution_count": 18,
     "metadata": {},
     "output_type": "execute_result"
    }
   ],
   "source": [
    "#Valores unicos que hay\n",
    "df[[\"Case Number\",\"Case Number.1\",\"Case Number.2\"]].nunique()"
   ]
  },
  {
   "cell_type": "code",
   "execution_count": 19,
   "id": "7713a5d2",
   "metadata": {
    "ExecuteTime": {
     "end_time": "2021-11-01T11:38:44.739504Z",
     "start_time": "2021-11-01T11:38:44.729483Z"
    },
    "hidden": true
   },
   "outputs": [
    {
     "name": "stdout",
     "output_type": "stream",
     "text": [
      "16 casos se repiten\n"
     ]
    }
   ],
   "source": [
    "#No hay valores nulos pero hay valores que se repiten y el formato de numero de caso varia\n",
    "print(f'{len(df[\"Case Number\"])-len(set(df[\"Case Number\"]))} casos se repiten')"
   ]
  },
  {
   "cell_type": "code",
   "execution_count": 20,
   "id": "018a2c9b",
   "metadata": {
    "ExecuteTime": {
     "end_time": "2021-11-01T11:38:45.120146Z",
     "start_time": "2021-11-01T11:38:44.741305Z"
    },
    "hidden": true
   },
   "outputs": [],
   "source": [
    "#Vamos a ver que valores se repiten en Case Number y si son los mismos en \n",
    "listaA=[] #Lista de valores unicos de Case Number\n",
    "listaB=[] #Lista de valores repetidos de Case Number\n",
    "for i in range(1,len(df)+1):\n",
    "    if df[\"Case Number\"].loc[i] not in listaA:\n",
    "        listaA.append(df[\"Case Number\"].loc[i])\n",
    "    else:\n",
    "        listaB.append(df[\"Case Number\"].loc[i])"
   ]
  },
  {
   "cell_type": "code",
   "execution_count": 21,
   "id": "0ec7d908",
   "metadata": {
    "ExecuteTime": {
     "end_time": "2021-11-01T11:38:45.482679Z",
     "start_time": "2021-11-01T11:38:45.120146Z"
    },
    "hidden": true
   },
   "outputs": [],
   "source": [
    "#Vamos a ver que valores se repiten en Case Number.1 y si son los mismos en \n",
    "listaC=[] #Lista de valores unicos de Case Number.1\n",
    "listaD=[] #Lista de valores repetidos de Case Number.1\n",
    "for i in range(1,len(df)+1):\n",
    "    if df[\"Case Number.1\"].loc[i] not in listaC:\n",
    "        listaC.append(df[\"Case Number.1\"].loc[i])\n",
    "    else:\n",
    "        listaD.append(df[\"Case Number.1\"].loc[i])"
   ]
  },
  {
   "cell_type": "code",
   "execution_count": 22,
   "id": "3169454f",
   "metadata": {
    "ExecuteTime": {
     "end_time": "2021-11-01T11:38:45.837651Z",
     "start_time": "2021-11-01T11:38:45.482698Z"
    },
    "hidden": true
   },
   "outputs": [],
   "source": [
    "#Vamos a ver que valores se repiten en Case Number.2 y si son los mismos en \n",
    "listaE=[] #Lista de valores unicos de Case Number.2\n",
    "listaF=[] #Lista de valores repetidos de Case Number.2\n",
    "for i in range(1,len(df)+1):\n",
    "    if df[\"Case Number.2\"].loc[i] not in listaE:\n",
    "        listaE.append(df[\"Case Number.2\"].loc[i])\n",
    "    else:\n",
    "        listaF.append(df[\"Case Number.2\"].loc[i])"
   ]
  },
  {
   "cell_type": "code",
   "execution_count": 23,
   "id": "1dd59ba4",
   "metadata": {
    "ExecuteTime": {
     "end_time": "2021-11-01T11:38:45.861849Z",
     "start_time": "2021-11-01T11:38:45.837651Z"
    },
    "hidden": true,
    "scrolled": true
   },
   "outputs": [
    {
     "name": "stdout",
     "output_type": "stream",
     "text": [
      "True     5979\n",
      "False      13\n",
      "dtype: int64\n",
      "True     5981\n",
      "False      11\n",
      "dtype: int64\n",
      "True     5990\n",
      "False       2\n",
      "dtype: int64\n"
     ]
    }
   ],
   "source": [
    "#Vamos a comprobar que columnas son mas parecidas\n",
    "print((df[\"Case Number\"]==df[\"Case Number.1\"]).value_counts())\n",
    "print((df[\"Case Number.1\"]==df[\"Case Number.2\"]).value_counts())\n",
    "print((df[\"Case Number\"]==df[\"Case Number.2\"]).value_counts())"
   ]
  },
  {
   "cell_type": "code",
   "execution_count": 24,
   "id": "200b4670",
   "metadata": {
    "ExecuteTime": {
     "end_time": "2021-11-01T11:38:45.909660Z",
     "start_time": "2021-11-01T11:38:45.865039Z"
    },
    "hidden": true
   },
   "outputs": [
    {
     "name": "stdout",
     "output_type": "stream",
     "text": [
      "Valores no repetidos False\n",
      "Valores  repetidos True\n"
     ]
    }
   ],
   "source": [
    "#Primero unificare la columna Case Number con la columna Case Number.2 ya que son muy parecidas\n",
    "print(f'Valores no repetidos {listaA==listaE}')\n",
    "print(f'Valores  repetidos {listaB==listaF}')\n"
   ]
  },
  {
   "cell_type": "code",
   "execution_count": 25,
   "id": "75ae593e",
   "metadata": {
    "ExecuteTime": {
     "end_time": "2021-11-01T11:38:46.035599Z",
     "start_time": "2021-11-01T11:38:45.909660Z"
    },
    "hidden": true,
    "scrolled": true
   },
   "outputs": [
    {
     "name": "stdout",
     "output_type": "stream",
     "text": [
      "1273\n",
      "5823\n"
     ]
    }
   ],
   "source": [
    "#Los dos valores que no coinciden estan en los valores no repetidos\n",
    "for i in range(1,len(df)):\n",
    "    if df[\"Case Number\"].loc[i]!= df[\"Case Number.2\"].loc[i]:\n",
    "          print(i)\n",
    "    \n"
   ]
  },
  {
   "cell_type": "code",
   "execution_count": 26,
   "id": "e7186c22",
   "metadata": {
    "ExecuteTime": {
     "end_time": "2021-11-01T11:38:46.058196Z",
     "start_time": "2021-11-01T11:38:46.035599Z"
    },
    "hidden": true,
    "scrolled": false
   },
   "outputs": [
    {
     "data": {
      "text/plain": [
       "Case Number                                                    1934.01.08.R\n",
       "Date                                                   Reported 08-Feb-1934\n",
       "Year                                                                   1934\n",
       "Type                                                                Boating\n",
       "Country                                                              TURKEY\n",
       "Area                                                               Istanbul\n",
       "Location                                         Haydarpasa jetty, Istanbul\n",
       "Activity                                                            Fishing\n",
       "Name                                                                2 males\n",
       "Sex                                                                       M\n",
       "Age                                                                     NaN\n",
       "Injury                                                            No injury\n",
       "Fatal (Y/N)                                                               N\n",
       "Time                                                                    NaN\n",
       "Species                                                                 NaN\n",
       "Investigator or Source                                       C. Moore, GSAF\n",
       "pdf                                                 1924.02.08.R-Turkey.pdf\n",
       "href formula              http://sharkattackfile.net/spreadsheets/pdf_di...\n",
       "href                      http://sharkattackfile.net/spreadsheets/pdf_di...\n",
       "Case Number.1                                                  1934.02.08.R\n",
       "Case Number.2                                                  1934.02.08.R\n",
       "Unnamed: 22                                                             NaN\n",
       "Unnamed: 23                                                             NaN\n",
       "Name: 1273, dtype: object"
      ]
     },
     "execution_count": 26,
     "metadata": {},
     "output_type": "execute_result"
    }
   ],
   "source": [
    "#Analizamos ambos valores de forma individual\n",
    "df.loc[1273]"
   ]
  },
  {
   "cell_type": "code",
   "execution_count": 27,
   "id": "708dac11",
   "metadata": {
    "ExecuteTime": {
     "end_time": "2021-11-01T11:38:46.075923Z",
     "start_time": "2021-11-01T11:38:46.058196Z"
    },
    "hidden": true,
    "scrolled": false
   },
   "outputs": [
    {
     "data": {
      "text/plain": [
       "Case Number                                                      2015.07-10\n",
       "Date                                                              10-Jul-15\n",
       "Year                                                                   2015\n",
       "Type                                                             Unprovoked\n",
       "Country                                                                 USA\n",
       "Area                                                             California\n",
       "Location                                    Huntington Beach, Orange County\n",
       "Activity                                                            Surfing\n",
       "Name                                                           Danny Miskin\n",
       "Sex                                                                       M\n",
       "Age                                                                      38\n",
       "Injury                              No injury, shark bumped & damaged board\n",
       "Fatal (Y/N)                                                               N\n",
       "Time                                                                  08h45\n",
       "Species                                                     White shark, 7'\n",
       "Investigator or Source                                      KTLA, 7/10/2015\n",
       "pdf                                                   2015.07.10-Miskin.pdf\n",
       "href formula              http://sharkattackfile.net/spreadsheets/pdf_di...\n",
       "href                      http://sharkattackfile.net/spreadsheets/pdf_di...\n",
       "Case Number.1                                                    2015.07.10\n",
       "Case Number.2                                                    2015.07.10\n",
       "Unnamed: 22                                                             NaN\n",
       "Unnamed: 23                                                             NaN\n",
       "Name: 5823, dtype: object"
      ]
     },
     "execution_count": 27,
     "metadata": {},
     "output_type": "execute_result"
    }
   ],
   "source": [
    "df.loc[5823]"
   ]
  },
  {
   "cell_type": "markdown",
   "id": "0eb16417",
   "metadata": {
    "hidden": true
   },
   "source": [
    "- Problema:  \n",
    "     - Case Number: A veces apuntdo por fecha o por el nombre del pdf, valores repetidos y si son el mismo dia con letras, no da informacion relevante ni utilizable ya que son parches de otras columnas\n",
    "\n",
    "Decido borrar las columnas Case number ya que no me aportan informacion relevante y lo he unido a la columna Casos"
   ]
  },
  {
   "cell_type": "markdown",
   "id": "4fdff35a",
   "metadata": {
    "hidden": true
   },
   "source": [
    "#### Output Columnas: \"original order\",\"Case Number\",\"Case Number.1\",\"Case Number.2\""
   ]
  },
  {
   "cell_type": "code",
   "execution_count": 28,
   "id": "f1be1bf4",
   "metadata": {
    "ExecuteTime": {
     "end_time": "2021-11-01T11:38:46.090823Z",
     "start_time": "2021-11-01T11:38:46.075923Z"
    },
    "hidden": true
   },
   "outputs": [],
   "source": [
    "df.drop([\"Case Number\",\"Case Number.1\",\"Case Number.2\"],axis=1,inplace=True)"
   ]
  },
  {
   "cell_type": "code",
   "execution_count": 29,
   "id": "5f7b03b1",
   "metadata": {
    "ExecuteTime": {
     "end_time": "2021-11-01T11:38:46.128205Z",
     "start_time": "2021-11-01T11:38:46.090823Z"
    },
    "hidden": true
   },
   "outputs": [
    {
     "data": {
      "text/html": [
       "<div>\n",
       "<style scoped>\n",
       "    .dataframe tbody tr th:only-of-type {\n",
       "        vertical-align: middle;\n",
       "    }\n",
       "\n",
       "    .dataframe tbody tr th {\n",
       "        vertical-align: top;\n",
       "    }\n",
       "\n",
       "    .dataframe thead th {\n",
       "        text-align: right;\n",
       "    }\n",
       "</style>\n",
       "<table border=\"1\" class=\"dataframe\">\n",
       "  <thead>\n",
       "    <tr style=\"text-align: right;\">\n",
       "      <th></th>\n",
       "      <th>Date</th>\n",
       "      <th>Year</th>\n",
       "      <th>Type</th>\n",
       "      <th>Country</th>\n",
       "      <th>Area</th>\n",
       "      <th>Location</th>\n",
       "      <th>Activity</th>\n",
       "      <th>Name</th>\n",
       "      <th>Sex</th>\n",
       "      <th>Age</th>\n",
       "      <th>Injury</th>\n",
       "      <th>Fatal (Y/N)</th>\n",
       "      <th>Time</th>\n",
       "      <th>Species</th>\n",
       "      <th>Investigator or Source</th>\n",
       "      <th>pdf</th>\n",
       "      <th>href formula</th>\n",
       "      <th>href</th>\n",
       "      <th>Unnamed: 22</th>\n",
       "      <th>Unnamed: 23</th>\n",
       "    </tr>\n",
       "    <tr>\n",
       "      <th>Casos</th>\n",
       "      <th></th>\n",
       "      <th></th>\n",
       "      <th></th>\n",
       "      <th></th>\n",
       "      <th></th>\n",
       "      <th></th>\n",
       "      <th></th>\n",
       "      <th></th>\n",
       "      <th></th>\n",
       "      <th></th>\n",
       "      <th></th>\n",
       "      <th></th>\n",
       "      <th></th>\n",
       "      <th></th>\n",
       "      <th></th>\n",
       "      <th></th>\n",
       "      <th></th>\n",
       "      <th></th>\n",
       "      <th></th>\n",
       "      <th></th>\n",
       "    </tr>\n",
       "  </thead>\n",
       "  <tbody>\n",
       "    <tr>\n",
       "      <th>1</th>\n",
       "      <td>1845-1853</td>\n",
       "      <td>0</td>\n",
       "      <td>Unprovoked</td>\n",
       "      <td>CEYLON (SRI LANKA)</td>\n",
       "      <td>Eastern Province</td>\n",
       "      <td>Below the English fort, Trincomalee</td>\n",
       "      <td>Swimming</td>\n",
       "      <td>male</td>\n",
       "      <td>M</td>\n",
       "      <td>15</td>\n",
       "      <td>FATAL. \"Shark bit him in half, carrying away t...</td>\n",
       "      <td>Y</td>\n",
       "      <td>NaN</td>\n",
       "      <td>NaN</td>\n",
       "      <td>S.W. Baker</td>\n",
       "      <td>ND-0001-Ceylon.pdf</td>\n",
       "      <td>http://sharkattackfile.net/spreadsheets/pdf_di...</td>\n",
       "      <td>http://sharkattackfile.net/spreadsheets/pdf_di...</td>\n",
       "      <td>NaN</td>\n",
       "      <td>NaN</td>\n",
       "    </tr>\n",
       "    <tr>\n",
       "      <th>2</th>\n",
       "      <td>1883-1889</td>\n",
       "      <td>0</td>\n",
       "      <td>Unprovoked</td>\n",
       "      <td>PANAMA</td>\n",
       "      <td>NaN</td>\n",
       "      <td>Panama Bay 8ºN, 79ºW</td>\n",
       "      <td>NaN</td>\n",
       "      <td>Jules Patterson</td>\n",
       "      <td>M</td>\n",
       "      <td>NaN</td>\n",
       "      <td>FATAL</td>\n",
       "      <td>Y</td>\n",
       "      <td>NaN</td>\n",
       "      <td>NaN</td>\n",
       "      <td>The Sun, 10/20/1938</td>\n",
       "      <td>ND-0002-JulesPatterson.pdf</td>\n",
       "      <td>http://sharkattackfile.net/spreadsheets/pdf_di...</td>\n",
       "      <td>http://sharkattackfile.net/spreadsheets/pdf_di...</td>\n",
       "      <td>NaN</td>\n",
       "      <td>NaN</td>\n",
       "    </tr>\n",
       "    <tr>\n",
       "      <th>3</th>\n",
       "      <td>1900-1905</td>\n",
       "      <td>0</td>\n",
       "      <td>Unprovoked</td>\n",
       "      <td>USA</td>\n",
       "      <td>North Carolina</td>\n",
       "      <td>Ocracoke Inlet</td>\n",
       "      <td>Swimming</td>\n",
       "      <td>Coast Guard personnel</td>\n",
       "      <td>M</td>\n",
       "      <td>NaN</td>\n",
       "      <td>FATAL</td>\n",
       "      <td>Y</td>\n",
       "      <td>NaN</td>\n",
       "      <td>NaN</td>\n",
       "      <td>F. Schwartz, p.23; C. Creswell, GSAF</td>\n",
       "      <td>ND-0003-Ocracoke_1900-1905.pdf</td>\n",
       "      <td>http://sharkattackfile.net/spreadsheets/pdf_di...</td>\n",
       "      <td>http://sharkattackfile.net/spreadsheets/pdf_di...</td>\n",
       "      <td>NaN</td>\n",
       "      <td>NaN</td>\n",
       "    </tr>\n",
       "    <tr>\n",
       "      <th>4</th>\n",
       "      <td>Before 1903</td>\n",
       "      <td>0</td>\n",
       "      <td>Unprovoked</td>\n",
       "      <td>AUSTRALIA</td>\n",
       "      <td>Western Australia</td>\n",
       "      <td>NaN</td>\n",
       "      <td>Pearl diving</td>\n",
       "      <td>Ahmun</td>\n",
       "      <td>M</td>\n",
       "      <td>NaN</td>\n",
       "      <td>FATAL</td>\n",
       "      <td>Y</td>\n",
       "      <td>NaN</td>\n",
       "      <td>NaN</td>\n",
       "      <td>H. Taunton; N. Bartlett,  pp. 233-234</td>\n",
       "      <td>ND-0004-Ahmun.pdf</td>\n",
       "      <td>http://sharkattackfile.net/spreadsheets/pdf_di...</td>\n",
       "      <td>http://sharkattackfile.net/spreadsheets/pdf_di...</td>\n",
       "      <td>NaN</td>\n",
       "      <td>NaN</td>\n",
       "    </tr>\n",
       "    <tr>\n",
       "      <th>5</th>\n",
       "      <td>Before 1903</td>\n",
       "      <td>0</td>\n",
       "      <td>Unprovoked</td>\n",
       "      <td>AUSTRALIA</td>\n",
       "      <td>Western Australia</td>\n",
       "      <td>Roebuck Bay</td>\n",
       "      <td>Diving</td>\n",
       "      <td>male</td>\n",
       "      <td>M</td>\n",
       "      <td>NaN</td>\n",
       "      <td>FATAL</td>\n",
       "      <td>Y</td>\n",
       "      <td>NaN</td>\n",
       "      <td>NaN</td>\n",
       "      <td>H. Taunton; N. Bartlett,  p. 234</td>\n",
       "      <td>ND-0005-RoebuckBay.pdf</td>\n",
       "      <td>http://sharkattackfile.net/spreadsheets/pdf_di...</td>\n",
       "      <td>http://sharkattackfile.net/spreadsheets/pdf_di...</td>\n",
       "      <td>NaN</td>\n",
       "      <td>NaN</td>\n",
       "    </tr>\n",
       "    <tr>\n",
       "      <th>...</th>\n",
       "      <td>...</td>\n",
       "      <td>...</td>\n",
       "      <td>...</td>\n",
       "      <td>...</td>\n",
       "      <td>...</td>\n",
       "      <td>...</td>\n",
       "      <td>...</td>\n",
       "      <td>...</td>\n",
       "      <td>...</td>\n",
       "      <td>...</td>\n",
       "      <td>...</td>\n",
       "      <td>...</td>\n",
       "      <td>...</td>\n",
       "      <td>...</td>\n",
       "      <td>...</td>\n",
       "      <td>...</td>\n",
       "      <td>...</td>\n",
       "      <td>...</td>\n",
       "      <td>...</td>\n",
       "      <td>...</td>\n",
       "    </tr>\n",
       "    <tr>\n",
       "      <th>5988</th>\n",
       "      <td>16-Sep-16</td>\n",
       "      <td>2016</td>\n",
       "      <td>Unprovoked</td>\n",
       "      <td>AUSTRALIA</td>\n",
       "      <td>Victoria</td>\n",
       "      <td>Bells Beach</td>\n",
       "      <td>Surfing</td>\n",
       "      <td>male</td>\n",
       "      <td>M</td>\n",
       "      <td>NaN</td>\n",
       "      <td>No injury: Knocked off board by shark</td>\n",
       "      <td>N</td>\n",
       "      <td>NaN</td>\n",
       "      <td>2 m shark</td>\n",
       "      <td>The Age, 9/16/2016</td>\n",
       "      <td>2016.09.16-BellsBeach.pdf</td>\n",
       "      <td>http://sharkattackfile.net/spreadsheets/pdf_di...</td>\n",
       "      <td>http://sharkattackfile.net/spreadsheets/pdf_di...</td>\n",
       "      <td>NaN</td>\n",
       "      <td>NaN</td>\n",
       "    </tr>\n",
       "    <tr>\n",
       "      <th>5989</th>\n",
       "      <td>17-Sep-16</td>\n",
       "      <td>2016</td>\n",
       "      <td>Unprovoked</td>\n",
       "      <td>AUSTRALIA</td>\n",
       "      <td>Victoria</td>\n",
       "      <td>Thirteenth Beach</td>\n",
       "      <td>Surfing</td>\n",
       "      <td>Rory Angiolella</td>\n",
       "      <td>M</td>\n",
       "      <td>NaN</td>\n",
       "      <td>Struck by fin on chest &amp; leg</td>\n",
       "      <td>N</td>\n",
       "      <td>NaN</td>\n",
       "      <td>NaN</td>\n",
       "      <td>The Age, 9/18/2016</td>\n",
       "      <td>2016.09.17-Angiolella.pdf</td>\n",
       "      <td>http://sharkattackfile.net/spreadsheets/pdf_di...</td>\n",
       "      <td>http://sharkattackfile.net/spreadsheets/pdf_di...</td>\n",
       "      <td>NaN</td>\n",
       "      <td>NaN</td>\n",
       "    </tr>\n",
       "    <tr>\n",
       "      <th>5990</th>\n",
       "      <td>18-Sep-16</td>\n",
       "      <td>2016</td>\n",
       "      <td>Unprovoked</td>\n",
       "      <td>USA</td>\n",
       "      <td>Florida</td>\n",
       "      <td>New Smyrna Beach, Volusia County</td>\n",
       "      <td>Surfing</td>\n",
       "      <td>male</td>\n",
       "      <td>M</td>\n",
       "      <td>43</td>\n",
       "      <td>Lacerations to lower leg</td>\n",
       "      <td>N</td>\n",
       "      <td>10h43</td>\n",
       "      <td>NaN</td>\n",
       "      <td>Orlando Sentinel, 9/19/2016</td>\n",
       "      <td>2016.09.18.a-NSB.pdf</td>\n",
       "      <td>http://sharkattackfile.net/spreadsheets/pdf_di...</td>\n",
       "      <td>http://sharkattackfile.net/spreadsheets/pdf_di...</td>\n",
       "      <td>NaN</td>\n",
       "      <td>NaN</td>\n",
       "    </tr>\n",
       "    <tr>\n",
       "      <th>5991</th>\n",
       "      <td>18-Sep-16</td>\n",
       "      <td>2016</td>\n",
       "      <td>Unprovoked</td>\n",
       "      <td>USA</td>\n",
       "      <td>Florida</td>\n",
       "      <td>New Smyrna Beach, Volusia County</td>\n",
       "      <td>Surfing</td>\n",
       "      <td>Chucky Luciano</td>\n",
       "      <td>M</td>\n",
       "      <td>36</td>\n",
       "      <td>Lacerations to hands</td>\n",
       "      <td>N</td>\n",
       "      <td>11h00</td>\n",
       "      <td>NaN</td>\n",
       "      <td>Orlando Sentinel, 9/19/2016</td>\n",
       "      <td>2016.09.18.b-Luciano.pdf</td>\n",
       "      <td>http://sharkattackfile.net/spreadsheets/pdf_di...</td>\n",
       "      <td>http://sharkattackfile.net/spreadsheets/pdf_di...</td>\n",
       "      <td>NaN</td>\n",
       "      <td>NaN</td>\n",
       "    </tr>\n",
       "    <tr>\n",
       "      <th>5992</th>\n",
       "      <td>18-Sep-16</td>\n",
       "      <td>2016</td>\n",
       "      <td>Unprovoked</td>\n",
       "      <td>USA</td>\n",
       "      <td>Florida</td>\n",
       "      <td>New Smyrna Beach, Volusia County</td>\n",
       "      <td>Surfing</td>\n",
       "      <td>male</td>\n",
       "      <td>M</td>\n",
       "      <td>16</td>\n",
       "      <td>Minor injury to thigh</td>\n",
       "      <td>N</td>\n",
       "      <td>13h00</td>\n",
       "      <td>NaN</td>\n",
       "      <td>Orlando Sentinel, 9/19/2016</td>\n",
       "      <td>2016.09.18.c-NSB.pdf</td>\n",
       "      <td>http://sharkattackfile.net/spreadsheets/pdf_di...</td>\n",
       "      <td>http://sharkattackfile.net/spreadsheets/pdf_di...</td>\n",
       "      <td>NaN</td>\n",
       "      <td>NaN</td>\n",
       "    </tr>\n",
       "  </tbody>\n",
       "</table>\n",
       "<p>5992 rows × 20 columns</p>\n",
       "</div>"
      ],
      "text/plain": [
       "              Date  Year        Type             Country               Area  \\\n",
       "Casos                                                                         \n",
       "1        1845-1853     0  Unprovoked  CEYLON (SRI LANKA)   Eastern Province   \n",
       "2        1883-1889     0  Unprovoked              PANAMA                NaN   \n",
       "3        1900-1905     0  Unprovoked                 USA     North Carolina   \n",
       "4      Before 1903     0  Unprovoked           AUSTRALIA  Western Australia   \n",
       "5      Before 1903     0  Unprovoked           AUSTRALIA  Western Australia   \n",
       "...            ...   ...         ...                 ...                ...   \n",
       "5988     16-Sep-16  2016  Unprovoked           AUSTRALIA           Victoria   \n",
       "5989     17-Sep-16  2016  Unprovoked           AUSTRALIA           Victoria   \n",
       "5990     18-Sep-16  2016  Unprovoked                 USA            Florida   \n",
       "5991     18-Sep-16  2016  Unprovoked                 USA            Florida   \n",
       "5992     18-Sep-16  2016  Unprovoked                 USA            Florida   \n",
       "\n",
       "                                  Location      Activity  \\\n",
       "Casos                                                      \n",
       "1      Below the English fort, Trincomalee      Swimming   \n",
       "2                     Panama Bay 8ºN, 79ºW           NaN   \n",
       "3                           Ocracoke Inlet      Swimming   \n",
       "4                                      NaN  Pearl diving   \n",
       "5                              Roebuck Bay        Diving   \n",
       "...                                    ...           ...   \n",
       "5988                           Bells Beach       Surfing   \n",
       "5989                      Thirteenth Beach       Surfing   \n",
       "5990      New Smyrna Beach, Volusia County       Surfing   \n",
       "5991      New Smyrna Beach, Volusia County       Surfing   \n",
       "5992      New Smyrna Beach, Volusia County       Surfing   \n",
       "\n",
       "                        Name Sex   Age  \\\n",
       "Casos                                    \n",
       "1                       male    M   15   \n",
       "2            Jules Patterson    M  NaN   \n",
       "3      Coast Guard personnel    M  NaN   \n",
       "4                      Ahmun    M  NaN   \n",
       "5                       male    M  NaN   \n",
       "...                      ...  ...  ...   \n",
       "5988                    male    M  NaN   \n",
       "5989         Rory Angiolella    M  NaN   \n",
       "5990                    male    M   43   \n",
       "5991          Chucky Luciano    M   36   \n",
       "5992                    male    M   16   \n",
       "\n",
       "                                                  Injury Fatal (Y/N)   Time  \\\n",
       "Casos                                                                         \n",
       "1      FATAL. \"Shark bit him in half, carrying away t...           Y    NaN   \n",
       "2                                                  FATAL           Y    NaN   \n",
       "3                                                  FATAL           Y    NaN   \n",
       "4                                                  FATAL           Y    NaN   \n",
       "5                                                  FATAL           Y    NaN   \n",
       "...                                                  ...         ...    ...   \n",
       "5988               No injury: Knocked off board by shark           N    NaN   \n",
       "5989                        Struck by fin on chest & leg           N    NaN   \n",
       "5990                            Lacerations to lower leg           N  10h43   \n",
       "5991                                Lacerations to hands           N  11h00   \n",
       "5992                               Minor injury to thigh           N  13h00   \n",
       "\n",
       "        Species                  Investigator or Source  \\\n",
       "Casos                                                     \n",
       "1            NaN                             S.W. Baker   \n",
       "2            NaN                    The Sun, 10/20/1938   \n",
       "3            NaN   F. Schwartz, p.23; C. Creswell, GSAF   \n",
       "4            NaN  H. Taunton; N. Bartlett,  pp. 233-234   \n",
       "5            NaN       H. Taunton; N. Bartlett,  p. 234   \n",
       "...          ...                                    ...   \n",
       "5988   2 m shark                     The Age, 9/16/2016   \n",
       "5989         NaN                     The Age, 9/18/2016   \n",
       "5990         NaN            Orlando Sentinel, 9/19/2016   \n",
       "5991         NaN            Orlando Sentinel, 9/19/2016   \n",
       "5992         NaN            Orlando Sentinel, 9/19/2016   \n",
       "\n",
       "                                  pdf  \\\n",
       "Casos                                   \n",
       "1                  ND-0001-Ceylon.pdf   \n",
       "2          ND-0002-JulesPatterson.pdf   \n",
       "3      ND-0003-Ocracoke_1900-1905.pdf   \n",
       "4                   ND-0004-Ahmun.pdf   \n",
       "5              ND-0005-RoebuckBay.pdf   \n",
       "...                               ...   \n",
       "5988        2016.09.16-BellsBeach.pdf   \n",
       "5989        2016.09.17-Angiolella.pdf   \n",
       "5990             2016.09.18.a-NSB.pdf   \n",
       "5991         2016.09.18.b-Luciano.pdf   \n",
       "5992             2016.09.18.c-NSB.pdf   \n",
       "\n",
       "                                            href formula  \\\n",
       "Casos                                                      \n",
       "1      http://sharkattackfile.net/spreadsheets/pdf_di...   \n",
       "2      http://sharkattackfile.net/spreadsheets/pdf_di...   \n",
       "3      http://sharkattackfile.net/spreadsheets/pdf_di...   \n",
       "4      http://sharkattackfile.net/spreadsheets/pdf_di...   \n",
       "5      http://sharkattackfile.net/spreadsheets/pdf_di...   \n",
       "...                                                  ...   \n",
       "5988   http://sharkattackfile.net/spreadsheets/pdf_di...   \n",
       "5989   http://sharkattackfile.net/spreadsheets/pdf_di...   \n",
       "5990   http://sharkattackfile.net/spreadsheets/pdf_di...   \n",
       "5991   http://sharkattackfile.net/spreadsheets/pdf_di...   \n",
       "5992   http://sharkattackfile.net/spreadsheets/pdf_di...   \n",
       "\n",
       "                                                    href Unnamed: 22  \\\n",
       "Casos                                                                  \n",
       "1      http://sharkattackfile.net/spreadsheets/pdf_di...         NaN   \n",
       "2      http://sharkattackfile.net/spreadsheets/pdf_di...         NaN   \n",
       "3      http://sharkattackfile.net/spreadsheets/pdf_di...         NaN   \n",
       "4      http://sharkattackfile.net/spreadsheets/pdf_di...         NaN   \n",
       "5      http://sharkattackfile.net/spreadsheets/pdf_di...         NaN   \n",
       "...                                                  ...         ...   \n",
       "5988   http://sharkattackfile.net/spreadsheets/pdf_di...         NaN   \n",
       "5989   http://sharkattackfile.net/spreadsheets/pdf_di...         NaN   \n",
       "5990   http://sharkattackfile.net/spreadsheets/pdf_di...         NaN   \n",
       "5991   http://sharkattackfile.net/spreadsheets/pdf_di...         NaN   \n",
       "5992   http://sharkattackfile.net/spreadsheets/pdf_di...         NaN   \n",
       "\n",
       "      Unnamed: 23  \n",
       "Casos              \n",
       "1             NaN  \n",
       "2             NaN  \n",
       "3             NaN  \n",
       "4             NaN  \n",
       "5             NaN  \n",
       "...           ...  \n",
       "5988          NaN  \n",
       "5989          NaN  \n",
       "5990          NaN  \n",
       "5991          NaN  \n",
       "5992          NaN  \n",
       "\n",
       "[5992 rows x 20 columns]"
      ]
     },
     "execution_count": 29,
     "metadata": {},
     "output_type": "execute_result"
    }
   ],
   "source": [
    "df"
   ]
  },
  {
   "cell_type": "markdown",
   "id": "33cedcbc",
   "metadata": {
    "heading_collapsed": true
   },
   "source": [
    "### Columna \"unname 23\""
   ]
  },
  {
   "cell_type": "markdown",
   "id": "4a5b1bc3",
   "metadata": {
    "heading_collapsed": true,
    "hidden": true
   },
   "source": [
    "####   analisis de los valores y conocimiento del problema"
   ]
  },
  {
   "cell_type": "code",
   "execution_count": 30,
   "id": "e72bab49",
   "metadata": {
    "ExecuteTime": {
     "end_time": "2021-11-01T11:38:46.136926Z",
     "start_time": "2021-11-01T11:38:46.128205Z"
    },
    "hidden": true
   },
   "outputs": [
    {
     "data": {
      "text/plain": [
       "{'Teramo', 'change filename', nan}"
      ]
     },
     "execution_count": 30,
     "metadata": {},
     "output_type": "execute_result"
    }
   ],
   "source": [
    "#Valores de Unnamed 23\n",
    "set(df[\"Unnamed: 23\"])"
   ]
  },
  {
   "cell_type": "code",
   "execution_count": 31,
   "id": "a366ef3d",
   "metadata": {
    "ExecuteTime": {
     "end_time": "2021-11-01T11:38:46.150125Z",
     "start_time": "2021-11-01T11:38:46.136926Z"
    },
    "hidden": true
   },
   "outputs": [
    {
     "data": {
      "text/plain": [
       "change filename    1\n",
       "Teramo             1\n",
       "Name: Unnamed: 23, dtype: int64"
      ]
     },
     "execution_count": 31,
     "metadata": {},
     "output_type": "execute_result"
    }
   ],
   "source": [
    "#Cantidad de veces que salen estos valores\n",
    "df[\"Unnamed: 23\"].value_counts()"
   ]
  },
  {
   "cell_type": "markdown",
   "id": "8d65f3b8",
   "metadata": {
    "heading_collapsed": true,
    "hidden": true
   },
   "source": [
    "#### Conclusion y output"
   ]
  },
  {
   "cell_type": "code",
   "execution_count": 32,
   "id": "166c2a94",
   "metadata": {
    "ExecuteTime": {
     "end_time": "2021-11-01T11:38:46.161443Z",
     "start_time": "2021-11-01T11:38:46.150125Z"
    },
    "code_folding": [],
    "hidden": true
   },
   "outputs": [],
   "source": [
    "# No la considero relevante asi que decido borrarla\n",
    "df.drop(\"Unnamed: 23\",axis=1,inplace=True)"
   ]
  },
  {
   "cell_type": "markdown",
   "id": "fdd8fa90",
   "metadata": {},
   "source": [
    "### Columna \"unname 22\""
   ]
  },
  {
   "cell_type": "markdown",
   "id": "b4d06306",
   "metadata": {},
   "source": [
    "#### Identificacion de valores nulos de cada columna"
   ]
  },
  {
   "cell_type": "code",
   "execution_count": 33,
   "id": "62fc3910",
   "metadata": {
    "ExecuteTime": {
     "end_time": "2021-11-01T11:38:46.176057Z",
     "start_time": "2021-11-01T11:38:46.162249Z"
    }
   },
   "outputs": [
    {
     "data": {
      "text/plain": [
       "{nan, 'stopped here'}"
      ]
     },
     "execution_count": 33,
     "metadata": {},
     "output_type": "execute_result"
    }
   ],
   "source": [
    "#Valores de Unnamed 22\n",
    "set(df[\"Unnamed: 22\"])"
   ]
  },
  {
   "cell_type": "code",
   "execution_count": 34,
   "id": "2873cab8",
   "metadata": {
    "ExecuteTime": {
     "end_time": "2021-11-01T11:38:46.190030Z",
     "start_time": "2021-11-01T11:38:46.176057Z"
    }
   },
   "outputs": [
    {
     "data": {
      "text/plain": [
       "stopped here    1\n",
       "Name: Unnamed: 22, dtype: int64"
      ]
     },
     "execution_count": 34,
     "metadata": {},
     "output_type": "execute_result"
    }
   ],
   "source": [
    "#Vamos a ver cuantos valores hay\n",
    "df[\"Unnamed: 22\"].value_counts()"
   ]
  },
  {
   "cell_type": "markdown",
   "id": "19989865",
   "metadata": {},
   "source": [
    "#### Conclusion y output"
   ]
  },
  {
   "cell_type": "code",
   "execution_count": 35,
   "id": "b13742a4",
   "metadata": {
    "ExecuteTime": {
     "end_time": "2021-11-01T11:38:46.206024Z",
     "start_time": "2021-11-01T11:38:46.190030Z"
    }
   },
   "outputs": [],
   "source": [
    "#El registro esta en mitad de la tabla y no lo considero importante asi que quito toda la columna \n",
    "df.drop(\"Unnamed: 22\", axis=1,inplace=True)"
   ]
  },
  {
   "cell_type": "markdown",
   "id": "bc04bbca",
   "metadata": {
    "heading_collapsed": true
   },
   "source": [
    "###  Columnas: \"Pais\"  "
   ]
  },
  {
   "cell_type": "markdown",
   "id": "09cc91cb",
   "metadata": {
    "heading_collapsed": true,
    "hidden": true
   },
   "source": [
    "#### Analisis inicial de las columnas"
   ]
  },
  {
   "cell_type": "code",
   "execution_count": 134,
   "id": "8f46db2b",
   "metadata": {
    "ExecuteTime": {
     "end_time": "2021-11-01T12:10:53.344242Z",
     "start_time": "2021-11-01T12:10:53.334635Z"
    },
    "hidden": true
   },
   "outputs": [
    {
     "data": {
      "text/plain": [
       "0"
      ]
     },
     "execution_count": 134,
     "metadata": {},
     "output_type": "execute_result"
    }
   ],
   "source": [
    "#Observamos la cantidad de valores nulos que hay\n",
    "(df[\"Country\"]).isna().sum()"
   ]
  },
  {
   "cell_type": "code",
   "execution_count": 133,
   "id": "98793950",
   "metadata": {
    "ExecuteTime": {
     "end_time": "2021-11-01T12:10:51.550937Z",
     "start_time": "2021-11-01T12:10:51.535225Z"
    },
    "hidden": true
   },
   "outputs": [],
   "source": [
    "#Rellenamos los na con un grupo de \"No determinado\"\n",
    "df[\"Country\"].fillna(\"No determinado\",inplace=True)"
   ]
  },
  {
   "cell_type": "markdown",
   "id": "fab709b5",
   "metadata": {
    "heading_collapsed": true,
    "hidden": true
   },
   "source": [
    "####  Limpieza de los valores:\n",
    "Observo que en los inicios hay espacios, hay ?, primero limpiar los nombres y despues buscar si existe el pais\n",
    "Objetivo: comprobar si existen y si no existen añadir como No determinado, antes borrar espacios iniciales y finales y quitar ?¿ç"
   ]
  },
  {
   "cell_type": "code",
   "execution_count": 222,
   "id": "a3d1d1ca",
   "metadata": {
    "ExecuteTime": {
     "end_time": "2021-11-01T15:05:15.330527Z",
     "start_time": "2021-11-01T15:05:15.321861Z"
    },
    "hidden": true
   },
   "outputs": [],
   "source": [
    "#Primero lo convierto todo a mayusculas\n",
    "df[\"Country\"]=df[\"Country\"].str.upper()\n"
   ]
  },
  {
   "cell_type": "code",
   "execution_count": 223,
   "id": "221a9cc2",
   "metadata": {
    "ExecuteTime": {
     "end_time": "2021-11-01T15:05:17.595061Z",
     "start_time": "2021-11-01T15:05:17.569182Z"
    },
    "hidden": true
   },
   "outputs": [],
   "source": [
    "#Identifico los paises que empiezan con espacio y se lo quito\n",
    "df[df[\"Country\"].str.startswith(\" \")][\"Country\"]\n",
    "#Solo son PHILIPPINES Y TONGA, los modifico \n",
    "df.replace({\" PHILIPPINES\":\"PHILIPPINES\",\" TONGA\":\"TONGA\"},inplace=True)"
   ]
  },
  {
   "cell_type": "code",
   "execution_count": 206,
   "id": "57a32730",
   "metadata": {
    "ExecuteTime": {
     "end_time": "2021-11-01T14:53:00.240745Z",
     "start_time": "2021-11-01T14:53:00.212853Z"
    },
    "hidden": true
   },
   "outputs": [],
   "source": [
    "#Identifico los paises que acaban con espacio y se lo quito\n",
    "df[df[\"Country\"].str.endswith(\" \")][\"Country\"]\n",
    "df.replace({\"YEMEN \":\"YEMEN\",\n",
    "            \"EGYPT \":\"EGYPT\",\n",
    "           \"NORTH ATLANTIC OCEAN \":\"NORTH ATLANTIC OCEAN\",\n",
    "           \"NICARAGUA \":\"NICARAGUA\",\n",
    "            \"PACIFIC OCEAN \":\"PACIFIC OCEAN\",\n",
    "            \"MEXICO \":\"MEXICO\"\n",
    "           },inplace=True)"
   ]
  },
  {
   "cell_type": "code",
   "execution_count": 204,
   "id": "d169fe23",
   "metadata": {
    "ExecuteTime": {
     "end_time": "2021-11-01T14:50:23.182648Z",
     "start_time": "2021-11-01T14:50:23.161158Z"
    },
    "hidden": true,
    "scrolled": true
   },
   "outputs": [
    {
     "name": "stdout",
     "output_type": "stream",
     "text": [
      "YEMEN \n",
      "YEMEN \n",
      "YEMEN \n",
      "YEMEN \n",
      "YEMEN \n",
      "EGYPT \n",
      "EGYPT \n",
      "YEMEN \n",
      "YEMEN \n",
      "NORTH ATLANTIC OCEAN \n",
      "NICARAGUA \n",
      "PACIFIC OCEAN \n",
      "PACIFIC OCEAN \n",
      "MEXICO \n"
     ]
    }
   ],
   "source": [
    "#Identifico los valores que tienen ? y los modifico\n",
    "for i in df[\"Country\"]:\n",
    "    if re.findall(\"[?]\",i):\n",
    "        print(i)"
   ]
  },
  {
   "cell_type": "code",
   "execution_count": 194,
   "id": "ea4bfb35",
   "metadata": {
    "ExecuteTime": {
     "end_time": "2021-11-01T14:44:55.112342Z",
     "start_time": "2021-11-01T14:44:55.096783Z"
    },
    "hidden": true
   },
   "outputs": [],
   "source": [
    "df.replace({\"ASIA?\":\"ASIA\",\n",
    "            \"RED SEA?\":\"RED SEA\",\n",
    "            \"INDIAN OCEAN?\":\"INDIAN OCEAN\",\n",
    "            \"MEDITERRANEAN SEA?\":\"MEDITERRANEAN SEA\",\n",
    "           \"SUDAN?\":\"SUDAN\"},inplace=True)"
   ]
  },
  {
   "cell_type": "markdown",
   "id": "61ae77b4",
   "metadata": {
    "hidden": true
   },
   "source": [
    "####  Conclusion: Clasificacion por paises existentes\n",
    "los nombres de los paises ya estan limpios, vamos a comprobar si existen \n",
    "[Github del csv](https://github.com/datasets/country-list/blob/master/data.csv#L119)"
   ]
  },
  {
   "cell_type": "code",
   "execution_count": 215,
   "id": "9e1cbf78",
   "metadata": {
    "ExecuteTime": {
     "end_time": "2021-11-01T14:56:10.758947Z",
     "start_time": "2021-11-01T14:56:10.745745Z"
    },
    "hidden": true,
    "scrolled": true
   },
   "outputs": [],
   "source": [
    "#Descargo de github un csv con todos los paises del mundo en ingles, viene con indice y codigo asi que creo una lista con los paises\n",
    "lista_paises=pd.read_csv(\"paises.csv\")\n",
    "lista_paises=list(lista_paises[\"Name\"])"
   ]
  },
  {
   "cell_type": "code",
   "execution_count": 225,
   "id": "a6b9eda2",
   "metadata": {
    "ExecuteTime": {
     "end_time": "2021-11-01T15:05:51.001802Z",
     "start_time": "2021-11-01T15:05:50.992553Z"
    },
    "hidden": true
   },
   "outputs": [],
   "source": [
    "#Convierto los nombres a mayuscula y los pongo en una lista\n",
    "lista=[]\n",
    "for i in lista_paises:\n",
    "    lista.append(i.upper())\n",
    "lista_paises=lista"
   ]
  },
  {
   "cell_type": "code",
   "execution_count": 226,
   "id": "6ec600d8",
   "metadata": {
    "ExecuteTime": {
     "end_time": "2021-11-01T15:05:51.530785Z",
     "start_time": "2021-11-01T15:05:51.517761Z"
    },
    "hidden": true
   },
   "outputs": [
    {
     "data": {
      "text/plain": [
       "['AFGHANISTAN',\n",
       " 'ÅLAND ISLANDS',\n",
       " 'ALBANIA',\n",
       " 'ALGERIA',\n",
       " 'AMERICAN SAMOA',\n",
       " 'ANDORRA',\n",
       " 'ANGOLA',\n",
       " 'ANGUILLA',\n",
       " 'ANTARCTICA',\n",
       " 'ANTIGUA AND BARBUDA',\n",
       " 'ARGENTINA',\n",
       " 'ARMENIA',\n",
       " 'ARUBA',\n",
       " 'AUSTRALIA',\n",
       " 'AUSTRIA',\n",
       " 'AZERBAIJAN',\n",
       " 'BAHAMAS',\n",
       " 'BAHRAIN',\n",
       " 'BANGLADESH',\n",
       " 'BARBADOS',\n",
       " 'BELARUS',\n",
       " 'BELGIUM',\n",
       " 'BELIZE',\n",
       " 'BENIN',\n",
       " 'BERMUDA',\n",
       " 'BHUTAN',\n",
       " 'BOLIVIA',\n",
       " 'BONAIRE',\n",
       " 'BOSNIA AND HERZEGOVINA',\n",
       " 'BOTSWANA',\n",
       " 'BOUVET ISLAND',\n",
       " 'BRAZIL',\n",
       " 'BRITISH INDIAN OCEAN TERRITORY',\n",
       " 'BRUNEI DARUSSALAM',\n",
       " 'BULGARIA',\n",
       " 'BURKINA FASO',\n",
       " 'BURUNDI',\n",
       " 'CAMBODIA',\n",
       " 'CAMEROON',\n",
       " 'CANADA',\n",
       " 'CAPE VERDE',\n",
       " 'CAYMAN ISLANDS',\n",
       " 'CENTRAL AFRICAN REPUBLIC',\n",
       " 'CHAD',\n",
       " 'CHILE',\n",
       " 'CHINA',\n",
       " 'CHRISTMAS ISLAND',\n",
       " 'COCOS (KEELING) ISLANDS',\n",
       " 'COLOMBIA',\n",
       " 'COMOROS',\n",
       " 'CONGO',\n",
       " 'DEMOCRATIC REPUBLIC OF THE CONGO',\n",
       " 'COOK ISLANDS',\n",
       " 'COSTA RICA',\n",
       " \"CÔTE D'IVOIRE\",\n",
       " 'CROATIA',\n",
       " 'CUBA',\n",
       " 'CURAÇAO',\n",
       " 'CYPRUS',\n",
       " 'CZECH REPUBLIC',\n",
       " 'DENMARK',\n",
       " 'DJIBOUTI',\n",
       " 'DOMINICA',\n",
       " 'DOMINICAN REPUBLIC',\n",
       " 'ECUADOR',\n",
       " 'EGYPT',\n",
       " 'EL SALVADOR',\n",
       " 'EQUATORIAL GUINEA',\n",
       " 'ERITREA',\n",
       " 'ESTONIA',\n",
       " 'ETHIOPIA',\n",
       " 'FALKLAND ISLANDS (MALVINAS)',\n",
       " 'FAROE ISLANDS',\n",
       " 'FIJI',\n",
       " 'FINLAND',\n",
       " 'FRANCE',\n",
       " 'FRENCH GUIANA',\n",
       " 'FRENCH POLYNESIA',\n",
       " 'FRENCH SOUTHERN TERRITORIES',\n",
       " 'GABON',\n",
       " 'GAMBIA',\n",
       " 'GEORGIA',\n",
       " 'GERMANY',\n",
       " 'GHANA',\n",
       " 'GIBRALTAR',\n",
       " 'GREECE',\n",
       " 'GREENLAND',\n",
       " 'GRENADA',\n",
       " 'GUADELOUPE',\n",
       " 'GUAM',\n",
       " 'GUATEMALA',\n",
       " 'GUERNSEY',\n",
       " 'GUINEA',\n",
       " 'GUINEA-BISSAU',\n",
       " 'GUYANA',\n",
       " 'HAITI',\n",
       " 'HEARD ISLAND AND MCDONALD ISLANDS',\n",
       " 'HOLY SEE (VATICAN CITY STATE)',\n",
       " 'HONDURAS',\n",
       " 'HONG KONG',\n",
       " 'HUNGARY',\n",
       " 'ICELAND',\n",
       " 'INDIA',\n",
       " 'INDONESIA',\n",
       " 'IRAN',\n",
       " 'IRAQ',\n",
       " 'IRELAND',\n",
       " 'ISLE OF MAN',\n",
       " 'ISRAEL',\n",
       " 'ITALY',\n",
       " 'JAMAICA',\n",
       " 'JAPAN',\n",
       " 'JERSEY',\n",
       " 'JORDAN',\n",
       " 'KAZAKHSTAN',\n",
       " 'KENYA',\n",
       " 'KIRIBATI',\n",
       " 'SOUTH KOREA',\n",
       " 'NORTH KOREA',\n",
       " 'KUWAIT',\n",
       " 'KYRGYZSTAN',\n",
       " \"LAO PEOPLE'S DEMOCRATIC REPUBLIC\",\n",
       " 'LATVIA',\n",
       " 'LEBANON',\n",
       " 'LESOTHO',\n",
       " 'LIBERIA',\n",
       " 'LIBYA',\n",
       " 'LIECHTENSTEIN',\n",
       " 'LITHUANIA',\n",
       " 'LUXEMBOURG',\n",
       " 'MACAO',\n",
       " 'MACEDONIA',\n",
       " 'MADAGASCAR',\n",
       " 'MALAWI',\n",
       " 'MALAYSIA',\n",
       " 'MALDIVES',\n",
       " 'MALI',\n",
       " 'MALTA',\n",
       " 'MARSHALL ISLANDS',\n",
       " 'MARTINIQUE',\n",
       " 'MAURITANIA',\n",
       " 'MAURITIUS',\n",
       " 'MAYOTTE',\n",
       " 'MEXICO',\n",
       " 'MICRONESIA',\n",
       " 'MOLDOVA',\n",
       " 'MONACO',\n",
       " 'MONGOLIA',\n",
       " 'MONTENEGRO',\n",
       " 'MONTSERRAT',\n",
       " 'MOROCCO',\n",
       " 'MOZAMBIQUE',\n",
       " 'MYANMAR',\n",
       " 'NAMIBIA',\n",
       " 'NAURU',\n",
       " 'NEPAL',\n",
       " 'NETHERLANDS',\n",
       " 'NEW CALEDONIA',\n",
       " 'NEW ZEALAND',\n",
       " 'NICARAGUA',\n",
       " 'NIGER',\n",
       " 'NIGERIA',\n",
       " 'NIUE',\n",
       " 'NORFOLK ISLAND',\n",
       " 'NORTHERN MARIANA ISLANDS',\n",
       " 'NORWAY',\n",
       " 'OMAN',\n",
       " 'PAKISTAN',\n",
       " 'PALAU',\n",
       " 'PALESTINE',\n",
       " 'PANAMA',\n",
       " 'PAPUA NEW GUINEA',\n",
       " 'PARAGUAY',\n",
       " 'PERU',\n",
       " 'PHILIPPINES',\n",
       " 'PITCAIRN',\n",
       " 'POLAND',\n",
       " 'PORTUGAL',\n",
       " 'PUERTO RICO',\n",
       " 'QATAR',\n",
       " 'RÉUNION',\n",
       " 'ROMANIA',\n",
       " 'RUSSIAN FEDERATION',\n",
       " 'RWANDA',\n",
       " 'SAINT BARTHÉLEMY',\n",
       " 'SAINT HELENA',\n",
       " 'SAINT KITTS AND NEVIS',\n",
       " 'SAINT LUCIA',\n",
       " 'SAINT MARTIN (FRENCH PART)',\n",
       " 'SAINT PIERRE AND MIQUELON',\n",
       " 'SAINT VINCENT AND THE GRENADINES',\n",
       " 'SAMOA',\n",
       " 'SAN MARINO',\n",
       " 'SAO TOME AND PRINCIPE',\n",
       " 'SAUDI ARABIA',\n",
       " 'SENEGAL',\n",
       " 'SERBIA',\n",
       " 'SEYCHELLES',\n",
       " 'SIERRA LEONE',\n",
       " 'SINGAPORE',\n",
       " 'SINT MAARTEN (DUTCH PART)',\n",
       " 'SLOVAKIA',\n",
       " 'SLOVENIA',\n",
       " 'SOLOMON ISLANDS',\n",
       " 'SOMALIA',\n",
       " 'SOUTH AFRICA',\n",
       " 'SOUTH GEORGIA AND THE SOUTH SANDWICH ISLANDS',\n",
       " 'SOUTH SUDAN',\n",
       " 'SPAIN',\n",
       " 'SRI LANKA',\n",
       " 'SUDAN',\n",
       " 'SURINAME',\n",
       " 'SVALBARD AND JAN MAYEN',\n",
       " 'SWAZILAND',\n",
       " 'SWEDEN',\n",
       " 'SWITZERLAND',\n",
       " 'SYRIAN ARAB REPUBLIC',\n",
       " 'TAIWAN',\n",
       " 'TAJIKISTAN',\n",
       " 'TANZANIA',\n",
       " 'THAILAND',\n",
       " 'TIMOR-LESTE',\n",
       " 'TOGO',\n",
       " 'TOKELAU',\n",
       " 'TONGA',\n",
       " 'TRINIDAD AND TOBAGO',\n",
       " 'TUNISIA',\n",
       " 'TURKEY',\n",
       " 'TURKMENISTAN',\n",
       " 'TURKS AND CAICOS ISLANDS',\n",
       " 'TUVALU',\n",
       " 'UGANDA',\n",
       " 'UKRAINE',\n",
       " 'UNITED ARAB EMIRATES',\n",
       " 'UNITED KINGDOM',\n",
       " 'UNITED STATES',\n",
       " 'UNITED STATES MINOR OUTLYING ISLANDS',\n",
       " 'URUGUAY',\n",
       " 'UZBEKISTAN',\n",
       " 'VANUATU',\n",
       " 'VENEZUELA',\n",
       " 'VIET NAM',\n",
       " 'VIRGIN ISLANDSVG',\n",
       " 'VIRGIN ISLANDS',\n",
       " 'WALLIS AND FUTUNA',\n",
       " 'WESTERN SAHARA',\n",
       " 'YEMEN',\n",
       " 'ZAMBIA',\n",
       " 'ZIMBABWE']"
      ]
     },
     "execution_count": 226,
     "metadata": {},
     "output_type": "execute_result"
    }
   ],
   "source": [
    "lista_paises"
   ]
  },
  {
   "cell_type": "code",
   "execution_count": 208,
   "id": "8905a7f2",
   "metadata": {
    "ExecuteTime": {
     "end_time": "2021-11-01T14:53:19.898071Z",
     "start_time": "2021-11-01T14:53:19.868444Z"
    },
    "code_folding": [],
    "hidden": true
   },
   "outputs": [
    {
     "name": "stdout",
     "output_type": "stream",
     "text": [
      "CEYLON (SRI LANKA)\n",
      "MID-PACIFC OCEAN\n",
      "ASIA\n",
      "PERSIAN GULF\n",
      "SAN DOMINGO\n",
      "NEW BRITAIN\n",
      "TRINIDAD & TOBAGO\n",
      "NORTH SEA\n",
      "UNITED ARAB EMIRATES (UAE)\n",
      "SOUTH PACIFIC OCEAN\n",
      "FALKLAND ISLANDS\n",
      "SOUTHWEST PACIFIC OCEAN\n",
      "OKINAWA\n",
      "EQUATORIAL GUINEA / CAMEROON\n",
      "BRITISH ISLES\n",
      "NETHERLANDS ANTILLES\n",
      "GULF OF ADEN\n",
      "BURMA\n",
      "BRITISH NEW GUINEA\n",
      "THE BALKANS\n",
      "FEDERATED STATES OF MICRONESIA\n",
      "PACIFIC OCEAN\n",
      "MEDITERRANEAN SEA\n",
      "MALDIVE ISLANDS\n",
      "ANDAMAN / NICOBAR ISLANDAS\n",
      "TASMAN SEA\n",
      "REUNION\n",
      "BAY OF BENGAL\n",
      "BAHREIN\n",
      "ATLANTIC OCEAN\n",
      "DIEGO GARCIA\n",
      "TURKS & CAICOS\n",
      "PALESTINIAN TERRITORIES\n",
      "SYRIA\n",
      "NO DETERMINADO\n",
      "JAVA\n",
      "RUSSIA\n",
      "GRAND CAYMAN\n",
      "NEVIS\n",
      "ST. MAARTIN\n",
      "JOHNSTON ISLAND\n",
      "ST. MARTIN\n",
      "NORTH PACIFIC OCEAN\n",
      "ENGLAND\n",
      "ST HELENA\n",
      "ANTIGUA\n",
      "NORTH ATLANTIC OCEAN\n",
      "BRITISH WEST INDIES\n",
      "AZORES\n",
      "IRAN / IRAQ\n",
      "SCOTLAND\n",
      "SOUTH ATLANTIC OCEAN\n",
      "SOLOMON ISLANDS / VANUATU\n",
      "SOUTH CHINA SEA\n",
      "COLUMBIA\n",
      "RED SEA\n",
      "BETWEEN PORTUGAL & INDIA\n",
      "ADMIRALTY ISLANDS\n",
      "WESTERN SAMOA\n",
      "CENTRAL PACIFIC\n",
      "OCEAN\n",
      "EGYPT / ISRAEL\n",
      "COAST OF AFRICA\n",
      "CRETE\n",
      "ITALY / CROATIA\n",
      "KOREA\n",
      "VIETNAM\n",
      "BRITISH VIRGIN ISLANDS\n",
      "NORTHERN ARABIAN SEA\n",
      "INDIAN OCEAN\n",
      "USA\n",
      "CARIBBEAN SEA\n",
      "RED SEA / INDIAN OCEAN\n",
      "NEW GUINEA\n",
      "CURACAO\n",
      "MID ATLANTIC OCEAN\n"
     ]
    }
   ],
   "source": [
    "#Vamos a ver los paises que no identifica para ver cuales podemos solucionar y cuales no\n",
    "for i in set(df[\"Country\"]):\n",
    "    if i in list(country_list):\n",
    "        continue\n",
    "    else:\n",
    "        print(i)"
   ]
  },
  {
   "cell_type": "markdown",
   "id": "115dfc2e",
   "metadata": {
    "ExecuteTime": {
     "end_time": "2021-11-01T15:07:43.402156Z",
     "start_time": "2021-11-01T15:07:43.387724Z"
    },
    "hidden": true
   },
   "source": [
    "**MODIFICACIONES sobre la lista de paises que no aparecen** {Como salen: Transformacion} (ND=no determinado)\n",
    "1. CEYLON (SRI LANKA): SRI LANKA\n",
    "1. MID-PACIFC OCEAN:ND\n",
    "1. ASIA:ND\n",
    "1.  PERSIAN GULF: ND\n",
    "1.  SAN DOMINGO: DOMINICAN REPUBLIC\n",
    "1.  NEW BRITAIN: ND\n",
    "1.  TRINIDAD & TOBAGO: TRINIDAD AND TOBAGO\n",
    "1.  NORTH SEA: ND\n",
    "1.  UNITED ARAB EMIRATES (UAE): 'UNITED ARAB EMIRATES'\n",
    "1.  SOUTH PACIFIC OCEAN: ND\n",
    "1.  FALKLAND ISLANDS: 'FALKLAND ISLANDS (MALVINAS)'\n",
    "1.  SOUTHWEST PACIFIC OCEAN: ND\n",
    "1.  OKINAWA: JAPAN\n",
    "1.  EQUATORIAL GUINEA / CAMEROON: ND\n",
    "1.  BRITISH ISLES: ND\n",
    "1.  NETHERLANDS ANTILLES: ND\n",
    "1.  GULF OF ADEN: YEMEN\n",
    "1.  BURMA: MYANMAR\n",
    "1.  BRITISH NEW GUINEA: ND\n",
    "1.  THE BALKANS: ND\n",
    "1.  FEDERATED STATES OF MICRONESIA: MICRONESIA\n",
    "1.  PACIFIC OCEAN: ND\n",
    "1.  MEDITERRANEAN SEA: ND\n",
    "1.  MALDIVE ISLANDS: MALDIVES\n",
    "1.  ANDAMAN / NICOBAR ISLANDAS: INDIA\n",
    "1.  TASMAN SEA: AUSTRALIA\n",
    "1.  REUNION: FRANCE\n",
    "1.  BAY OF BENGAL:INDIA\n",
    "1.  BAHREIN: BAHRAIN\n",
    "1.  ATLANTIC OCEAN: ND\n",
    "1.  DIEGO GARCIA: ND\n",
    "1.  TURKS & CAICOS: ND PERO MUY BONITO\n",
    "1.  PALESTINIAN TERRITORIES: PALESTINE\n",
    "1.  SYRIA: 'SYRIAN ARAB REPUBLIC'\n",
    "1.  NO DETERMINADO\n",
    "1.  JAVA: INDONESIA\n",
    "1.  RUSSIA: RUSSIAN FEDERATION\n",
    "1.  GRAND CAYMAN: CAYMAN ISLANDS'\n",
    "1.  NEVIS: ND\n",
    "1.  ST. MAARTIN: 'SAINT MARTIN (FRENCH PART)'\n",
    "1.  JOHNSTON ISLAND: ND\n",
    "1.  ST. MARTIN: 'SAINT MARTIN (FRENCH PART)'\n",
    "1.  NORTH PACIFIC OCEAN: ND\n",
    "1.  ENGLAND:'UNITED KINGDOM'\n",
    "1.  ST HELENA: 'SAINT HELENA'\n",
    "1.  ANTIGUA: 'ANTIGUA AND BARBUDA'\n",
    "1.  NORTH ATLANTIC OCEAN: ND\n",
    "1.  BRITISH WEST INDIES: ND\n",
    "1.  AZORES: PORTUGAL\n",
    "1.  IRAN / IRAQ: ND\n",
    "1.  SCOTLAND: UNITED KINGDOM\n",
    "1.  SOUTH ATLANTIC OCEAN: ND\n",
    "1.  SOLOMON ISLANDS / VANUATU: ND\n",
    "1.  SOUTH CHINA SEA: CHINA\n",
    "1.  COLUMBIA: COLOMBIA\n",
    "1.  RED SEA: ND\n",
    "1.  BETWEEN PORTUGAL & INDIA: ND\n",
    "1.  ADMIRALTY ISLANDS: ND\n",
    "1.  WESTERN SAMOA: SAMOA\n",
    "1.  CENTRAL PACIFIC: ND\n",
    "1.  OCEAN: ND\n",
    "1.  EGYPT / ISRAEL: ND\n",
    "1.  COAST OF AFRICA: ND\n",
    "1.  CRETE: GREECE\n",
    "1.  ITALY / CROATIA: ND\n",
    "1.  KOREA: ND\n",
    "1.  VIETNAM: VIET NAM\n",
    "1.  BRITISH VIRGIN ISLANDS: ND\n",
    "1.  NORTHERN ARABIAN SEA: ND\n",
    "1.  INDIAN OCEAN: ND\n",
    "1.  USA: 'UNITED STATES'\n",
    "1.  CARIBBEAN SEA: ND\n",
    "1.  RED SEA / INDIAN OCEAN: ND\n",
    "1.  NEW GUINEA: GUINEA\n",
    "1.  CURACAO: BRAZIL\n",
    "1.  MID ATLANTIC OCEAN: ND"
   ]
  },
  {
   "cell_type": "code",
   "execution_count": 233,
   "id": "48045b8d",
   "metadata": {
    "ExecuteTime": {
     "end_time": "2021-11-01T15:39:08.354054Z",
     "start_time": "2021-11-01T15:39:08.295534Z"
    },
    "code_folding": [
     1
    ],
    "hidden": true
   },
   "outputs": [],
   "source": [
    "#Hacemos las modificaciones en el dataset\n",
    "df.replace({\"CEYLON (SRI LANKA)\": \"SRI LANKA\",\n",
    "            \"SAN DOMINGO\": \"DOMINICAN REPUBLIC\",\n",
    "            \"TRINIDAD & TOBAGO\": \"TRINIDAD AND TOBAGO\",\n",
    "            \"UNITED ARAB EMIRATES (UAE)\": \"UNITED ARAB EMIRATES\",\n",
    "           \"FALKLAND ISLANDS\": \"FALKLAND ISLANDS (MALVINAS)\",\n",
    "            \"OKINAWA\": \"JAPAN\",\n",
    "           \"GULF OF ADEN\": \"YEMEN\",\n",
    "            \"BURMA\": \"MYANMAR\",\n",
    "           \"FEDERATED STATES OF MICRONESIA\": \"MICRONESIA\",\n",
    "            \"MALDIVE ISLANDS\": \"MALDIVES\",\n",
    "           \"ANDAMAN / NICOBAR ISLANDAS\": \"INDIA\",\n",
    "            \"TASMAN SEA\": \"AUSTRALIA\",\n",
    "            \"REUNION\":\"FRANCE\",\n",
    "            \"BAY OF BENGAL\":\"INDIA\",\n",
    "            \"BAHREIN\":\"BAHRAIN\",\n",
    "           \"PALESTINIAN TERRITORIES\":\"PALESTINE\",\n",
    "            \"SYRIA\": 'SYRIAN ARAB REPUBLIC',\n",
    "            \"JAVA\": \"INDONESIA\",\n",
    "            \"RUSSIA\": \"RUSSIAN FEDERATION\",\n",
    "            \"GRAND CAYMAN\": \"CAYMAN ISLANDS\",\n",
    "            \"ST. MAARTIN\": 'SAINT MARTIN (FRENCH PART)',\n",
    "            \"ST. MARTIN\": 'SAINT MARTIN (FRENCH PART)',\n",
    "            \"ENGLAND\":'UNITED KINGDOM',\n",
    "            \"ST HELENA\": 'SAINT HELENA',\n",
    "            \"ANTIGUA\": 'ANTIGUA AND BARBUDA',\n",
    "              \"AZORES\": \"PORTUGAL\",\n",
    "            \"SCOTLAND\": \"UNITED KINGDOM\",\n",
    "            \"SOUTH CHINA SEA\": \"CHINA\",\n",
    "            \"COLUMBIA\": \"COLOMBIA\",\n",
    "            \"WESTERN SAMOA\": \"SAMOA\",\n",
    "            \"CRETE\": \"GREECE\",\n",
    "            \"VIETNAM\": \"VIET NAM\",\n",
    "            \"USA\": 'UNITED STATES',\n",
    "            \"NEW GUINEA\": \"GUINEA\",\n",
    "            \"CURACAO\": \"BRAZIL\"\n",
    "            \n",
    "           },inplace=True)"
   ]
  },
  {
   "cell_type": "code",
   "execution_count": 235,
   "id": "ee492603",
   "metadata": {
    "ExecuteTime": {
     "end_time": "2021-11-01T15:41:15.181596Z",
     "start_time": "2021-11-01T15:41:15.037370Z"
    },
    "hidden": true
   },
   "outputs": [],
   "source": [
    "#Los paises que no estan bien escritos los añadimos a No determinado\n",
    "for i in set(df[\"Country\"]):\n",
    "    if i in list(country_list):\n",
    "        continue\n",
    "    else:\n",
    "        df.replace({i:\"No determinado\"},inplace=True)"
   ]
  },
  {
   "cell_type": "code",
   "execution_count": 238,
   "id": "ae086a5e",
   "metadata": {
    "ExecuteTime": {
     "end_time": "2021-11-01T15:41:32.707956Z",
     "start_time": "2021-11-01T15:41:32.687076Z"
    },
    "hidden": true,
    "scrolled": true
   },
   "outputs": [
    {
     "data": {
      "text/plain": [
       "UNITED STATES           2116\n",
       "AUSTRALIA               1280\n",
       "SOUTH AFRICA             565\n",
       "No determinado           174\n",
       "PAPUA NEW GUINEA         133\n",
       "                        ... \n",
       "SYRIAN ARAB REPUBLIC       1\n",
       "CYPRUS                     1\n",
       "COOK ISLANDS               1\n",
       "GABON                      1\n",
       "PUERTO RICO                1\n",
       "Name: Country, Length: 128, dtype: int64"
      ]
     },
     "execution_count": 238,
     "metadata": {},
     "output_type": "execute_result"
    }
   ],
   "source": [
    "#Comprobamos\n",
    "df[\"Country\"].value_counts()"
   ]
  },
  {
   "cell_type": "markdown",
   "id": "c0df9fb6",
   "metadata": {},
   "source": [
    "### Columna \"Age\""
   ]
  },
  {
   "cell_type": "markdown",
   "id": "4edc8e04",
   "metadata": {},
   "source": [
    "#### Identificacion de valores nulos de cada columna"
   ]
  },
  {
   "cell_type": "code",
   "execution_count": 36,
   "id": "80491ab0",
   "metadata": {
    "ExecuteTime": {
     "end_time": "2021-11-01T11:38:46.221723Z",
     "start_time": "2021-11-01T11:38:46.206024Z"
    }
   },
   "outputs": [
    {
     "data": {
      "text/plain": [
       "2681"
      ]
     },
     "execution_count": 36,
     "metadata": {},
     "output_type": "execute_result"
    }
   ],
   "source": [
    "df[\"Age\"].isna().sum()"
   ]
  },
  {
   "cell_type": "markdown",
   "id": "085dd04a",
   "metadata": {},
   "source": [
    "#### Conclusion y output\n"
   ]
  },
  {
   "cell_type": "code",
   "execution_count": 37,
   "id": "ab818d9f",
   "metadata": {
    "ExecuteTime": {
     "end_time": "2021-11-01T11:38:46.234746Z",
     "start_time": "2021-11-01T11:38:46.221723Z"
    }
   },
   "outputs": [],
   "source": [
    "#La mitad de los valores son na por lo que elimino la columna\n",
    "df.drop(\"Age\",axis=1,inplace=True)"
   ]
  },
  {
   "cell_type": "markdown",
   "id": "09cfe352",
   "metadata": {},
   "source": [
    "###  Columnas: \"pdf\",\"href formula\",\"href\""
   ]
  },
  {
   "cell_type": "markdown",
   "id": "5c1447d8",
   "metadata": {},
   "source": [
    "Objetivo unificar las 3 columnas al pdf de esa columna"
   ]
  },
  {
   "cell_type": "markdown",
   "id": "6e49a508",
   "metadata": {},
   "source": [
    "####  Analisis inicial"
   ]
  },
  {
   "cell_type": "code",
   "execution_count": 38,
   "id": "ee6d2ccf",
   "metadata": {
    "ExecuteTime": {
     "end_time": "2021-11-01T11:38:46.258047Z",
     "start_time": "2021-11-01T11:38:46.235244Z"
    }
   },
   "outputs": [
    {
     "data": {
      "text/html": [
       "<div>\n",
       "<style scoped>\n",
       "    .dataframe tbody tr th:only-of-type {\n",
       "        vertical-align: middle;\n",
       "    }\n",
       "\n",
       "    .dataframe tbody tr th {\n",
       "        vertical-align: top;\n",
       "    }\n",
       "\n",
       "    .dataframe thead th {\n",
       "        text-align: right;\n",
       "    }\n",
       "</style>\n",
       "<table border=\"1\" class=\"dataframe\">\n",
       "  <thead>\n",
       "    <tr style=\"text-align: right;\">\n",
       "      <th></th>\n",
       "      <th>pdf</th>\n",
       "      <th>href formula</th>\n",
       "      <th>href</th>\n",
       "    </tr>\n",
       "    <tr>\n",
       "      <th>Casos</th>\n",
       "      <th></th>\n",
       "      <th></th>\n",
       "      <th></th>\n",
       "    </tr>\n",
       "  </thead>\n",
       "  <tbody>\n",
       "    <tr>\n",
       "      <th>1</th>\n",
       "      <td>ND-0001-Ceylon.pdf</td>\n",
       "      <td>http://sharkattackfile.net/spreadsheets/pdf_di...</td>\n",
       "      <td>http://sharkattackfile.net/spreadsheets/pdf_di...</td>\n",
       "    </tr>\n",
       "    <tr>\n",
       "      <th>2</th>\n",
       "      <td>ND-0002-JulesPatterson.pdf</td>\n",
       "      <td>http://sharkattackfile.net/spreadsheets/pdf_di...</td>\n",
       "      <td>http://sharkattackfile.net/spreadsheets/pdf_di...</td>\n",
       "    </tr>\n",
       "    <tr>\n",
       "      <th>3</th>\n",
       "      <td>ND-0003-Ocracoke_1900-1905.pdf</td>\n",
       "      <td>http://sharkattackfile.net/spreadsheets/pdf_di...</td>\n",
       "      <td>http://sharkattackfile.net/spreadsheets/pdf_di...</td>\n",
       "    </tr>\n",
       "    <tr>\n",
       "      <th>4</th>\n",
       "      <td>ND-0004-Ahmun.pdf</td>\n",
       "      <td>http://sharkattackfile.net/spreadsheets/pdf_di...</td>\n",
       "      <td>http://sharkattackfile.net/spreadsheets/pdf_di...</td>\n",
       "    </tr>\n",
       "    <tr>\n",
       "      <th>5</th>\n",
       "      <td>ND-0005-RoebuckBay.pdf</td>\n",
       "      <td>http://sharkattackfile.net/spreadsheets/pdf_di...</td>\n",
       "      <td>http://sharkattackfile.net/spreadsheets/pdf_di...</td>\n",
       "    </tr>\n",
       "    <tr>\n",
       "      <th>...</th>\n",
       "      <td>...</td>\n",
       "      <td>...</td>\n",
       "      <td>...</td>\n",
       "    </tr>\n",
       "    <tr>\n",
       "      <th>5988</th>\n",
       "      <td>2016.09.16-BellsBeach.pdf</td>\n",
       "      <td>http://sharkattackfile.net/spreadsheets/pdf_di...</td>\n",
       "      <td>http://sharkattackfile.net/spreadsheets/pdf_di...</td>\n",
       "    </tr>\n",
       "    <tr>\n",
       "      <th>5989</th>\n",
       "      <td>2016.09.17-Angiolella.pdf</td>\n",
       "      <td>http://sharkattackfile.net/spreadsheets/pdf_di...</td>\n",
       "      <td>http://sharkattackfile.net/spreadsheets/pdf_di...</td>\n",
       "    </tr>\n",
       "    <tr>\n",
       "      <th>5990</th>\n",
       "      <td>2016.09.18.a-NSB.pdf</td>\n",
       "      <td>http://sharkattackfile.net/spreadsheets/pdf_di...</td>\n",
       "      <td>http://sharkattackfile.net/spreadsheets/pdf_di...</td>\n",
       "    </tr>\n",
       "    <tr>\n",
       "      <th>5991</th>\n",
       "      <td>2016.09.18.b-Luciano.pdf</td>\n",
       "      <td>http://sharkattackfile.net/spreadsheets/pdf_di...</td>\n",
       "      <td>http://sharkattackfile.net/spreadsheets/pdf_di...</td>\n",
       "    </tr>\n",
       "    <tr>\n",
       "      <th>5992</th>\n",
       "      <td>2016.09.18.c-NSB.pdf</td>\n",
       "      <td>http://sharkattackfile.net/spreadsheets/pdf_di...</td>\n",
       "      <td>http://sharkattackfile.net/spreadsheets/pdf_di...</td>\n",
       "    </tr>\n",
       "  </tbody>\n",
       "</table>\n",
       "<p>5992 rows × 3 columns</p>\n",
       "</div>"
      ],
      "text/plain": [
       "                                  pdf  \\\n",
       "Casos                                   \n",
       "1                  ND-0001-Ceylon.pdf   \n",
       "2          ND-0002-JulesPatterson.pdf   \n",
       "3      ND-0003-Ocracoke_1900-1905.pdf   \n",
       "4                   ND-0004-Ahmun.pdf   \n",
       "5              ND-0005-RoebuckBay.pdf   \n",
       "...                               ...   \n",
       "5988        2016.09.16-BellsBeach.pdf   \n",
       "5989        2016.09.17-Angiolella.pdf   \n",
       "5990             2016.09.18.a-NSB.pdf   \n",
       "5991         2016.09.18.b-Luciano.pdf   \n",
       "5992             2016.09.18.c-NSB.pdf   \n",
       "\n",
       "                                            href formula  \\\n",
       "Casos                                                      \n",
       "1      http://sharkattackfile.net/spreadsheets/pdf_di...   \n",
       "2      http://sharkattackfile.net/spreadsheets/pdf_di...   \n",
       "3      http://sharkattackfile.net/spreadsheets/pdf_di...   \n",
       "4      http://sharkattackfile.net/spreadsheets/pdf_di...   \n",
       "5      http://sharkattackfile.net/spreadsheets/pdf_di...   \n",
       "...                                                  ...   \n",
       "5988   http://sharkattackfile.net/spreadsheets/pdf_di...   \n",
       "5989   http://sharkattackfile.net/spreadsheets/pdf_di...   \n",
       "5990   http://sharkattackfile.net/spreadsheets/pdf_di...   \n",
       "5991   http://sharkattackfile.net/spreadsheets/pdf_di...   \n",
       "5992   http://sharkattackfile.net/spreadsheets/pdf_di...   \n",
       "\n",
       "                                                    href  \n",
       "Casos                                                     \n",
       "1      http://sharkattackfile.net/spreadsheets/pdf_di...  \n",
       "2      http://sharkattackfile.net/spreadsheets/pdf_di...  \n",
       "3      http://sharkattackfile.net/spreadsheets/pdf_di...  \n",
       "4      http://sharkattackfile.net/spreadsheets/pdf_di...  \n",
       "5      http://sharkattackfile.net/spreadsheets/pdf_di...  \n",
       "...                                                  ...  \n",
       "5988   http://sharkattackfile.net/spreadsheets/pdf_di...  \n",
       "5989   http://sharkattackfile.net/spreadsheets/pdf_di...  \n",
       "5990   http://sharkattackfile.net/spreadsheets/pdf_di...  \n",
       "5991   http://sharkattackfile.net/spreadsheets/pdf_di...  \n",
       "5992   http://sharkattackfile.net/spreadsheets/pdf_di...  \n",
       "\n",
       "[5992 rows x 3 columns]"
      ]
     },
     "execution_count": 38,
     "metadata": {},
     "output_type": "execute_result"
    }
   ],
   "source": [
    "#Observamos las 3 columnas\n",
    "df[[\"pdf\",\"href formula\",\"href\"]]"
   ]
  },
  {
   "cell_type": "code",
   "execution_count": 39,
   "id": "a5ec7961",
   "metadata": {
    "ExecuteTime": {
     "end_time": "2021-11-01T11:38:46.274225Z",
     "start_time": "2021-11-01T11:38:46.258047Z"
    }
   },
   "outputs": [
    {
     "data": {
      "text/plain": [
       "pdf             0\n",
       "href formula    1\n",
       "href            3\n",
       "dtype: int64"
      ]
     },
     "execution_count": 39,
     "metadata": {},
     "output_type": "execute_result"
    }
   ],
   "source": [
    "#Vamos a comprobar los valores nulos de cada columna para elegir la que menos tenga\n",
    "df[[\"pdf\",\"href formula\",\"href\"]].isna().sum()"
   ]
  },
  {
   "cell_type": "code",
   "execution_count": 40,
   "id": "d7c15767",
   "metadata": {
    "ExecuteTime": {
     "end_time": "2021-11-01T11:38:46.292906Z",
     "start_time": "2021-11-01T11:38:46.274225Z"
    }
   },
   "outputs": [
    {
     "data": {
      "text/html": [
       "<div>\n",
       "<style scoped>\n",
       "    .dataframe tbody tr th:only-of-type {\n",
       "        vertical-align: middle;\n",
       "    }\n",
       "\n",
       "    .dataframe tbody tr th {\n",
       "        vertical-align: top;\n",
       "    }\n",
       "\n",
       "    .dataframe thead th {\n",
       "        text-align: right;\n",
       "    }\n",
       "</style>\n",
       "<table border=\"1\" class=\"dataframe\">\n",
       "  <thead>\n",
       "    <tr style=\"text-align: right;\">\n",
       "      <th></th>\n",
       "      <th>pdf</th>\n",
       "      <th>href formula</th>\n",
       "      <th>href</th>\n",
       "    </tr>\n",
       "    <tr>\n",
       "      <th>Casos</th>\n",
       "      <th></th>\n",
       "      <th></th>\n",
       "      <th></th>\n",
       "    </tr>\n",
       "  </thead>\n",
       "  <tbody>\n",
       "    <tr>\n",
       "      <th>1</th>\n",
       "      <td>False</td>\n",
       "      <td>False</td>\n",
       "      <td>False</td>\n",
       "    </tr>\n",
       "    <tr>\n",
       "      <th>4000</th>\n",
       "      <td>False</td>\n",
       "      <td>False</td>\n",
       "      <td>False</td>\n",
       "    </tr>\n",
       "    <tr>\n",
       "      <th>3999</th>\n",
       "      <td>False</td>\n",
       "      <td>False</td>\n",
       "      <td>False</td>\n",
       "    </tr>\n",
       "    <tr>\n",
       "      <th>3998</th>\n",
       "      <td>False</td>\n",
       "      <td>False</td>\n",
       "      <td>False</td>\n",
       "    </tr>\n",
       "    <tr>\n",
       "      <th>3997</th>\n",
       "      <td>False</td>\n",
       "      <td>False</td>\n",
       "      <td>False</td>\n",
       "    </tr>\n",
       "    <tr>\n",
       "      <th>...</th>\n",
       "      <td>...</td>\n",
       "      <td>...</td>\n",
       "      <td>...</td>\n",
       "    </tr>\n",
       "    <tr>\n",
       "      <th>1993</th>\n",
       "      <td>False</td>\n",
       "      <td>False</td>\n",
       "      <td>False</td>\n",
       "    </tr>\n",
       "    <tr>\n",
       "      <th>1992</th>\n",
       "      <td>False</td>\n",
       "      <td>False</td>\n",
       "      <td>False</td>\n",
       "    </tr>\n",
       "    <tr>\n",
       "      <th>1991</th>\n",
       "      <td>False</td>\n",
       "      <td>False</td>\n",
       "      <td>False</td>\n",
       "    </tr>\n",
       "    <tr>\n",
       "      <th>2000</th>\n",
       "      <td>False</td>\n",
       "      <td>False</td>\n",
       "      <td>False</td>\n",
       "    </tr>\n",
       "    <tr>\n",
       "      <th>2973</th>\n",
       "      <td>False</td>\n",
       "      <td>True</td>\n",
       "      <td>False</td>\n",
       "    </tr>\n",
       "  </tbody>\n",
       "</table>\n",
       "<p>5992 rows × 3 columns</p>\n",
       "</div>"
      ],
      "text/plain": [
       "         pdf  href formula   href\n",
       "Casos                            \n",
       "1      False         False  False\n",
       "4000   False         False  False\n",
       "3999   False         False  False\n",
       "3998   False         False  False\n",
       "3997   False         False  False\n",
       "...      ...           ...    ...\n",
       "1993   False         False  False\n",
       "1992   False         False  False\n",
       "1991   False         False  False\n",
       "2000   False         False  False\n",
       "2973   False          True  False\n",
       "\n",
       "[5992 rows x 3 columns]"
      ]
     },
     "execution_count": 40,
     "metadata": {},
     "output_type": "execute_result"
    }
   ],
   "source": [
    "df[[\"pdf\",\"href formula\",\"href\"]].isna().sort_values(\"href formula\")\n"
   ]
  },
  {
   "cell_type": "code",
   "execution_count": 41,
   "id": "53cffcd9",
   "metadata": {
    "ExecuteTime": {
     "end_time": "2021-11-01T11:38:46.303532Z",
     "start_time": "2021-11-01T11:38:46.292906Z"
    },
    "scrolled": true
   },
   "outputs": [
    {
     "data": {
      "text/plain": [
       "pdf                                      1976.00.00.b-Nakaima.pdf\n",
       "href formula    http://sharkattackfile.net/spreadsheets/pdf_di...\n",
       "href            http://sharkattackfile.net/spreadsheets/pdf_di...\n",
       "Name: 3020, dtype: object"
      ]
     },
     "execution_count": 41,
     "metadata": {},
     "output_type": "execute_result"
    }
   ],
   "source": [
    "df.loc[3020,[\"pdf\",\"href formula\",\"href\"]]"
   ]
  },
  {
   "cell_type": "markdown",
   "id": "3dd07548",
   "metadata": {},
   "source": [
    "#### Conclusion y output"
   ]
  },
  {
   "cell_type": "code",
   "execution_count": 42,
   "id": "8e397816",
   "metadata": {
    "ExecuteTime": {
     "end_time": "2021-11-01T11:38:46.315090Z",
     "start_time": "2021-11-01T11:38:46.303532Z"
    }
   },
   "outputs": [],
   "source": [
    "#añado la formula de href a la columna con todos los hipervinculos\n",
    "df[\"href formula\"].at[3020]=df[\"href\"].at[3020]"
   ]
  },
  {
   "cell_type": "code",
   "execution_count": 43,
   "id": "23a5dd94",
   "metadata": {
    "ExecuteTime": {
     "end_time": "2021-11-01T11:38:46.339229Z",
     "start_time": "2021-11-01T11:38:46.315090Z"
    }
   },
   "outputs": [],
   "source": [
    "#elimino las columnas pdf y href \n",
    "df.drop([\"pdf\",\"href\"],axis=1,inplace=True)"
   ]
  },
  {
   "cell_type": "code",
   "execution_count": 100,
   "id": "d9b7aa4b",
   "metadata": {
    "ExecuteTime": {
     "end_time": "2021-11-01T11:41:08.838819Z",
     "start_time": "2021-11-01T11:41:08.822736Z"
    }
   },
   "outputs": [],
   "source": [
    "#cambio de nombre a la columna que guardo en el df\n",
    "df.rename(columns={\"href formula\":\"Pdf\"},inplace=True)"
   ]
  },
  {
   "cell_type": "markdown",
   "id": "ffe39e57",
   "metadata": {
    "ExecuteTime": {
     "end_time": "2021-10-30T17:06:35.729228Z",
     "start_time": "2021-10-30T17:06:35.720339Z"
    },
    "heading_collapsed": true
   },
   "source": [
    "###  Columnas: \"species\""
   ]
  },
  {
   "cell_type": "markdown",
   "id": "4eeb8f08",
   "metadata": {
    "hidden": true
   },
   "source": [
    "####   Analisis inicial"
   ]
  },
  {
   "cell_type": "code",
   "execution_count": 45,
   "id": "562afb0b",
   "metadata": {
    "ExecuteTime": {
     "end_time": "2021-11-01T11:38:46.373870Z",
     "start_time": "2021-11-01T11:38:46.361296Z"
    },
    "hidden": true
   },
   "outputs": [
    {
     "data": {
      "text/plain": [
       "2934"
      ]
     },
     "execution_count": 45,
     "metadata": {},
     "output_type": "execute_result"
    }
   ],
   "source": [
    "#Comprobamos cuantos valores na hay\n",
    "df[\"Species \"].isna().sum()"
   ]
  },
  {
   "cell_type": "code",
   "execution_count": 46,
   "id": "2470d2ee",
   "metadata": {
    "ExecuteTime": {
     "end_time": "2021-11-01T11:38:46.388512Z",
     "start_time": "2021-11-01T11:38:46.373870Z"
    },
    "hidden": true
   },
   "outputs": [
    {
     "data": {
      "text/plain": [
       "1538"
      ]
     },
     "execution_count": 46,
     "metadata": {},
     "output_type": "execute_result"
    }
   ],
   "source": [
    "# Cuantas categorias de especies diferentes hay\n",
    "df[\"Species \"].nunique()"
   ]
  },
  {
   "cell_type": "code",
   "execution_count": 47,
   "id": "389cdea3",
   "metadata": {
    "ExecuteTime": {
     "end_time": "2021-11-01T11:38:46.404614Z",
     "start_time": "2021-11-01T11:38:46.388512Z"
    },
    "hidden": true
   },
   "outputs": [
    {
     "data": {
      "text/plain": [
       "{nan,\n",
       " \"6 m [20'] white shark\",\n",
       " \"Reported to involve a White shark, 6 m to 7m [20' to 23'] \",\n",
       " '.5 m shark',\n",
       " \"Raggedtooth shark, 1.5 m [5'] (tooth fragment recovered)\",\n",
       " \"2.3 m [7.5'] white shark, identified by M. Smale\",\n",
       " '\\xa0 ',\n",
       " 'Said to involve a 1 m  white shark, but thought  that it was more likely a blue shark',\n",
       " \"Tiger shark, 3 to 4 m [10' to 13'] \",\n",
       " \"Bronze whaler shark,3.7 m [12'] \",\n",
       " '9-foot shark',\n",
       " \"White shark, 10 '\",\n",
       " '\"a black-tipped shark\"',\n",
       " 'Tiger shark',\n",
       " '1.5 m, 45-kg shark',\n",
       " '2.27 m shark',\n",
       " \"1.5 to 2.5 m [5' to 8.25'] copper shark\",\n",
       " \"Mako shark, 5'\",\n",
       " 'Reported to involve a bull shark',\n",
       " \"7' to 8' bull shark\",\n",
       " \"9' shark\",\n",
       " \"7' silvertip shark\",\n",
       " 'White sharks',\n",
       " '7-gill shark?',\n",
       " 'Blue shark bites present ',\n",
       " '1.2 m to 1.5 m [4\\' to 5\\'] \"reef shark\"',\n",
       " \"3 m [10'], 200-kg [441-lb] bull shark\",\n",
       " '136-kg [300-lb] shark',\n",
       " \"4 m [13'] shark\",\n",
       " \"1.7 m [5.5'] shark\",\n",
       " 'Shark involvement prior to death could not be determined',\n",
       " '4.2 m white shark',\n",
       " \"6' to 8' bull shark\",\n",
       " \"White shark, 14' to 16' \",\n",
       " 'Mako shark, 125-lb ',\n",
       " '\"grey-colored shark\"',\n",
       " \"White shark, 16' \",\n",
       " '>2 m shark',\n",
       " '2.8 m [9\\'3\"] white shark',\n",
       " \"1.2 m to 1.8 m [4' to 6'] shark\",\n",
       " 'Reportedly: oceanic whitetip sharks, blue sharks, tiger sharks & bull sharks',\n",
       " 'Hand found in gut of 2.9 m to 3.3 m [9\\'7\" to 10\\'11\"] Galapagos shark, C. galapagensis',\n",
       " '18-foot shark',\n",
       " \"Tiger shark, 6' \",\n",
       " \"White shark, 4.3 m [14']\",\n",
       " \"1.8 m to 2.4 m [6' to 8'] white shark\",\n",
       " 'Salmon shark suspected, but unlikely',\n",
       " \"2.7 m [9'] white shark\",\n",
       " \"Lemon shark, 2.1  m to 2.4 m [7' to 8'] \",\n",
       " 'White shark, 2 m',\n",
       " \"Bronze whaler shark, 1.5 m [5'] \",\n",
       " 'White shark, 2m to 3 m',\n",
       " 'Blue shark, 2.5m',\n",
       " 'small sharks',\n",
       " 'Bull shark, 1.65 m [5\\'5\"] was speared & killed',\n",
       " '8-lb shark',\n",
       " 'Doubtful / Unconfirmed attack / Unable to verify in local records',\n",
       " \"Blue pointer, 11' \",\n",
       " \"small sharks'\",\n",
       " 'Lemon shark, 2 m [6\\'9\"]',\n",
       " 'Shark involvement prior to death remains unconfirmed',\n",
       " 'Thought to involve a Zambesi shark',\n",
       " 'Possibly a blue shark',\n",
       " \"Nurse shark, 0.94 m to 1.2 m [3' to 4'] \",\n",
       " \"3' to 3.5' shark\",\n",
       " 'Bronze whaler shark, 2 m to 3 m ',\n",
       " \"1.5 m [5'] blacktip shark\",\n",
       " \"3 m to 4 m [10' to 13']  white shark\",\n",
       " \"60 cm [2'] captive shark\",\n",
       " ' Raggedtooth shark, 2m',\n",
       " \"White shark, 5.5 m [18'] \",\n",
       " \" 1.5 m [5'] dusky shark\",\n",
       " \"Grey nurse shark, 11'\",\n",
       " 'Mako shark, 90kg',\n",
       " \"2.4 m  [8'] shark\",\n",
       " 'Bronze whaler shark, a  juvenile ',\n",
       " 'Hammerhead sp.',\n",
       " 'small shark',\n",
       " \"4 m [13'] shark x 6\",\n",
       " 'Tiger shark, 3m ',\n",
       " '6 m  white shark',\n",
       " \"White shark, 5 m [16.5'] \",\n",
       " \"White shark 4.9 m [16'] \",\n",
       " 'Sand shark?',\n",
       " \"On 11-Jan-1994, his remains washed ashore. A 2.4 m [8'] tiger shark thought to be involved\",\n",
       " \"White shark, 3.7 m [12']  \",\n",
       " \"1.2 m [4'] shark hindered recovery of body\",\n",
       " \"White shark, 12', identity confirmed by tooth fragment, witness and photograph of captured shark \",\n",
       " '2\\' \"banjo shark\"',\n",
       " \"Tiger shark, 12' \",\n",
       " 'possibly a small blacktip shark',\n",
       " \"Possibly a 5' to 6' sandtiger shark\",\n",
       " 'White shark, 4.5m',\n",
       " 'Shark involvement prior to death not confirmed',\n",
       " \"12' shark\",\n",
       " \"3.7 to 4.6 m [12' to 15'] sharks\",\n",
       " 'White shark, 3.5m ',\n",
       " \"2' to 3' shark\",\n",
       " \"2.4 m [8'] shark\",\n",
       " \"3.2 m [10.5'] shark\",\n",
       " 'Whale shark',\n",
       " \"2.1 m to 2.4 m  [7' to 8'] shark\",\n",
       " 'White shark, 2 m [6\\'9\"]  (Tooth fragment recovered from victim\\'s shoulder & identified by J.T. Nicholls)',\n",
       " 'Bull shark, 1.8m',\n",
       " '2 to 3 m shark',\n",
       " \"White shark, 3.7 m [12']  according to witnesses\",\n",
       " \"1.8 m to 2.4 m [6' to 8'] shark, tooth fragments recovered \",\n",
       " \"Tiger shark, 4 m [13'] ?\",\n",
       " '\"a school of sharks\"',\n",
       " \"White shark, 3.8 m [12.5']  \",\n",
       " \"1.2 m [4'] blacktip shark\",\n",
       " \"Blue shark, 1.8 m [6'] \",\n",
       " \"2.7 m [9'] shark\",\n",
       " \"Nurse shark, 2.5' \",\n",
       " 'blacktip or spinner shark',\n",
       " 'Raggedtooth shark, 1.5 m',\n",
       " 'Possibly a blacktip shark',\n",
       " \"2.1 m [7'] shark, possibly a spinner shark\",\n",
       " '1.6 m shark',\n",
       " '5.2 to 5.8 m white shark',\n",
       " \"Thought to involve a 2.6 m [8.5'] white shark\",\n",
       " 'Tiger shark, 4.5 to 5.5 m [14\\'9\" to 18\\'], 2000-lb  ',\n",
       " \"White shark, 3.5 m [11.5']  male \",\n",
       " 'Tiger shark, 4 m ',\n",
       " 'Bronze whaler shark, 3.5 m ',\n",
       " \"0.9 m to 1.2 m [3' to 4'] white shark\",\n",
       " '1.8 to 2 m C. albimarginatus',\n",
       " 'Salmon shark',\n",
       " \"12' to 18' shark\",\n",
       " 'Bronze whaler shark, 2 m ',\n",
       " \"Tiger shark, 13'\",\n",
       " 'Wobbegong shark, 1.6m',\n",
       " 'Bull shark, 132-kg [291-lb] ',\n",
       " \"Bronze whaler shark, 2.5 m [8.25']  k\",\n",
       " \"White shark, 5 m to 6 m [16.5' to 20] \",\n",
       " '1.5 m grey reef shark',\n",
       " \"White shark, 2.5 m [8.25'], an immature female, previously injured\",\n",
       " \"2.5 m [8.25'] white shark\",\n",
       " '200-lb shark',\n",
       " '6 m shark',\n",
       " \"Raggedtooth shark, 2 m [6.75'] \",\n",
       " \" Sevengill  shark, 1.2 m [4'] \",\n",
       " \"1.5 to 2 m [5' to 6.75'] shark\",\n",
       " 'Shortfin mako shark, 175-lb ',\n",
       " \"Tiger shark, 12' ?\",\n",
       " 'Bull shark suspected due to freshwater habitat',\n",
       " \"3 m to 5 m [10' to 16.5'] white shark\",\n",
       " '1.8 m silky shark',\n",
       " 'Grey nurse shark, 2 m',\n",
       " \"14' white shark\",\n",
       " 'Grey nurse shark',\n",
       " '2 sharks, 4.5 m & 3 m ',\n",
       " \"1.5 m to 1.8 m [5' to 6'] sharks\",\n",
       " \"Possibly a Bull shark, 3'\",\n",
       " 'Tiger sharks in area',\n",
       " \"1.8 to 2.4 m [6' to 8'] shark\",\n",
       " 'Tiger shark, 277-kg',\n",
       " \"Bronze whaler shark, 2.4 m [8'] Identified by Clyde Buttery\",\n",
       " \"16' white shark\",\n",
       " \"5.5 m to 6 m [18' to 20'] white shark\",\n",
       " 'White shark named \\x93Spotty\\x94',\n",
       " \"3.5' to 4' shark\",\n",
       " \"1.8 m [6'] dogfish\",\n",
       " \"Blue shark, 1.5 m [5'] \",\n",
       " \"4 m [13'], 590-kg white shark\",\n",
       " \"4.9 m to 5.5 m [16' to 18'] white shark\",\n",
       " 'Nurse shark, 2.5-ft',\n",
       " 'Shark involvement not confirmed, injury may have been caused by a bluefish',\n",
       " 'Large tiger shark seen in the vicinity the following morning',\n",
       " ' \"gummy\" shark (Rhizoprionodon or Loxodon) 1.2 m [4\\']',\n",
       " \"5 m to 6 m [16.5' to 20'] white shark\",\n",
       " \"3.7 m to 4.3 m [12' to 14'] shark\",\n",
       " 'No shark involvement',\n",
       " \"Bull shark, 5'\",\n",
       " ' Wobbegong shark, 1.6 to 1.8m ',\n",
       " 'Nurse shark, 60 cm [24\"], identified by Dr. L.P. L. Schultz on photograph',\n",
       " \"2.5 m [8.25'] white shark \",\n",
       " '<1.5 m shark',\n",
       " '4.5 m white shark',\n",
       " 'Sand shark',\n",
       " \"5.5 m [18'] white shark, identified by witnesses & tooth marks\",\n",
       " 'White shark, 246-kg ',\n",
       " 'possibly a porbeagle shark',\n",
       " \"Tiger shark, 2.4 m to 3.7 m [8' to 12'] \",\n",
       " 'On 8/13/2005 anglers from New Zealand caught a 2.8 m [9\\'3\"], 140-kg [309-lb] shark at the same spot. It was believed this was the same shark that killed Alysha',\n",
       " 'White shark, 600-kg [1323-lb]',\n",
       " \"Tiger shark, 5.2 m [17']\",\n",
       " \"1.8 m [6'] Zambezi shark\",\n",
       " \"Porbeagle shark, 7'\",\n",
       " \"a small shark'\",\n",
       " 'Caribbean reef shark',\n",
       " \" Bull shark, 8'\",\n",
       " \"0.7 m [2.5'] sand shark\",\n",
       " \"White shark, 2.1 m [7'] \",\n",
       " 'Blue shark?',\n",
       " \"Zambesi shark, 1.8 m [6'] \",\n",
       " \"Reported to involve a 3.7 m [12'] shark, possibly a white shark\",\n",
       " '\"small sharks\"',\n",
       " '30-kg [66-lb] shark',\n",
       " \"1.2 m  [4'] shark\",\n",
       " '20 kg shark',\n",
       " '\\x93small brown shark\\x94',\n",
       " \"Raggedtooth shark, 1.2 m to 1.5 m [4' to 5'] \",\n",
       " 'a small shark',\n",
       " 'Hammerhead shark',\n",
       " \" Sandbar shark, 3' to 4'\",\n",
       " \" White shark, 7' \",\n",
       " \"White shark, 2.4 m [8']\",\n",
       " \"3.7 m [12'] shark & may have been another shark nearby\",\n",
       " 'Bull shark, 8',\n",
       " 'Description of shark does not ring true',\n",
       " \"Nurse shark, 0.9 m  [3'] \",\n",
       " '5.7 m white shark',\n",
       " \">1.8 m [6'] shark\",\n",
       " \"Tiger shark, 10' to 12' \",\n",
       " \">3 m [10'] shark\",\n",
       " \"Grey reef shark, 1.2 m [4'] \",\n",
       " \"White shark, 6m [20']\",\n",
       " \">6 m [20'] white shark\",\n",
       " \"3.5 m [11.5'] white shark\",\n",
       " '5 m shark',\n",
       " '1.5 to 2 m shark',\n",
       " '2 m shark',\n",
       " 'Possibly a small hammerhead shark',\n",
       " '2 m [6\\'9\"], 87.5-kg [193-lb]  shark',\n",
       " \"1.8 m to 2.1 m [6' to 7'] hammerhead shark\",\n",
       " '>6 m white shark, according to witnesses',\n",
       " '500-lb shark',\n",
       " 'Shark involvement not confirmed, injury may be due to a stingray',\n",
       " '100-lb shark',\n",
       " \"Blue shark, 3 m [10']\",\n",
       " \"Dusky shark, 12' \",\n",
       " 'White shark, 4.5 m [14\\'9\"] ',\n",
       " \"Tiger shark, 2.5 m [8.25'] \",\n",
       " 'Blacktip shark ',\n",
       " 'Shovelnose guitarfish, adult male ',\n",
       " 'Bronze whaler sharks x 3',\n",
       " \"Grey nurse shark, 10' \",\n",
       " 'reef shark, 1m',\n",
       " \"White shark, 2.4 m to 3 m [8' to 10'] \",\n",
       " 'White shark, 4 m to 5 m ',\n",
       " '4.9 m white shark',\n",
       " \"Longfin mako shark, 3.5 m [11.5'], 350-kg [772-lb] \",\n",
       " \"White shark, 15' to 16' \",\n",
       " 'Wobbegong shark, 2 m ',\n",
       " \"Whitetip reef shark, 4' to 6'\",\n",
       " \"1.8 m [6'] shark, possibly a blacktip\",\n",
       " 'Wobbegong, 2m',\n",
       " 'Sandtiger shark, 2 m, male ',\n",
       " 'A bull shark, according to some of the divers on the boat',\n",
       " \"3.7 to 4.5 m [12' to 15'] shark seen in vicinity\",\n",
       " 'Believed white shark and other smaller species of sharks involved.',\n",
       " 'White shark, identified by tooth fragments in surfboard',\n",
       " 'Possibly a hammerhead shark',\n",
       " '2 small bull sharks',\n",
       " \"1.8 m [6'] blacktip shark or spinner shark\",\n",
       " \"White shark, 3 m [10']rk\",\n",
       " 'Raggedtooth shark, 2.5m ',\n",
       " 'Small bull shark',\n",
       " 'Possibly a 3 m bull shark',\n",
       " '5 mm 3500 kg female shark',\n",
       " \"Raggedtooth shark, 1.5 m [5'] \",\n",
       " \"Tiger shark 3 m  [10'] \",\n",
       " 'reef shark, 1.5m',\n",
       " \"White shark, 2.7 m to 3 m [9' to 10'] \",\n",
       " \"Bull shark, 7'\",\n",
       " 'Goblin shark',\n",
       " 'Mako shark, 400-lb ',\n",
       " 'Bronze whaler shark, 2 m',\n",
       " 'Blacktip or spinner shark',\n",
       " \"White shark, 3.5 m [11.5'], identified by W. I.  Follett on tooth fragments\",\n",
       " \"Tiger shark, 9' to 10' \",\n",
       " \"60 cm to 90 cm [2' to 3'] blacktip or spinner shark\",\n",
       " 'Tiger shark ',\n",
       " 'Shark involvement not confirmed; thought to be a barracuda bite',\n",
       " \"Nurse shark, 2.1 m [7'] \",\n",
       " \"0.9 m [3'] shark,  probably a blacktip or spinner shark\",\n",
       " 'White shark (identified by Dr. Hugh Smith) ',\n",
       " ' Bull shark, 1.2m ',\n",
       " 'Lemon shark, 30-lb ',\n",
       " \"Possibly a 1.5 m [5'] blacktip shark\",\n",
       " '3.5 to 4 m shark',\n",
       " 'Tiger shark,  3.6 m [11\\'9\"], 850-kg [1874-lb] female, contained Girvan\\'s remains ',\n",
       " 'Bull shark, 2m',\n",
       " \"White shark, 3.7 m [12'], 500 to 500-kg [1,200 lb], identified by W. C. Shroeder based on tooth fragment ebedded in gunwale\",\n",
       " \"Nurse shark, 6'\",\n",
       " 'Raggedtooth shark, 147-kg [324-lb] ',\n",
       " \"White shark, 4.3 m [14'] \",\n",
       " \" white shark, 15' \",\n",
       " \"White shark, 4 m to 5 m [13' to 16.5'] \",\n",
       " 'Shark involvement  not confirmed',\n",
       " 'Tiger sharks & bull sharks (20 sharks in all)',\n",
       " 'small blacktip shark?',\n",
       " 'White shark?',\n",
       " 'Thought to involve bull sharks',\n",
       " \"1.5 m to 1.8 m [5' to 6'] Zambesi shark\",\n",
       " \"White shark, 2.5 m [8.25']  \",\n",
       " \"Bull shark, 6' to 8'\",\n",
       " 'Lemon shark, >1 m ',\n",
       " \"Bull shark, 9' to 10'\",\n",
       " 'Shark involvement not confirmed',\n",
       " 'Grey reef shark ',\n",
       " \"7' shark\",\n",
       " \"Tiger shark, 14'\",\n",
       " 'Not authenticated',\n",
       " 'Wobbegong shark ',\n",
       " \"Sandbar shark ,8'\",\n",
       " 'Thought to involve a small sand shark',\n",
       " \"Alleged to involve a White shark, 7.6 m [25'] \",\n",
       " \"Bull shark, 5' \",\n",
       " '20 to 30kg shark',\n",
       " 'White shark, based on bite pattern',\n",
       " \"Next morning a 3 m [10'] shark was caught that had Andrews' leg in its gut\",\n",
       " \"Nurse shark, 0.9 m [3'] \",\n",
       " '2.4 m shark',\n",
       " 'White shark x 2',\n",
       " '\"a blue shark\"',\n",
       " \"Tiger shark, 4 m [13']  ?\",\n",
       " \"Possibly a 1.5 m [5'] blacktip or spinner shark\",\n",
       " 'Spurdog',\n",
       " \"1.5 m to 1.8 m [5' to 6'] sandbar shark\",\n",
       " \"Nurse shark, 1.5 m [5']  identified by Dr. E. Clark on description of shark\",\n",
       " \"Said to involve an 8' shark but more likely damage caused by debris\",\n",
       " 'Oceanic whitetip shark, 2.5 to 3m',\n",
       " \"Nurse shark, 1.5 m [5'] \",\n",
       " \"1.8 to 2.1 m [6' to 7'] shark\",\n",
       " 'Blue shark',\n",
       " \"8' blue shark\",\n",
       " \"2.7 m to 3 m [9' to 10'] sharks\",\n",
       " 'Grey nurse shark, 2.9 m [9\\'6\"] ',\n",
       " \"White shark, 2.3 m [7.5'], tooth fragment recovered\",\n",
       " \"Thought to involve a 3' to 4' shark, but shark involvement not confirmed\",\n",
       " '3.5 m [11.5\\'] female white shark named \"Notchfin\"',\n",
       " \"Tiger shark, 15'\",\n",
       " \"Tiger shark, 2.5 m [8.25']\",\n",
       " 'Thought to involve a mako or grey nurse shark',\n",
       " \"4 m [13'] shark seen in vicinity\",\n",
       " '80-lb hooked shark',\n",
       " '3 hammerhead sharks nearby',\n",
       " 'Tiger shark, 4.8 m',\n",
       " \"Grey nurse shark, 4'\",\n",
       " \"Mako shark, 3 m [10'] \",\n",
       " \"Wobbegong shark, 5' \",\n",
       " '9\\'2\" white shark',\n",
       " \"20' shark\",\n",
       " \"Oceanic whitetip shark'\",\n",
       " \">2.4 m [8'] white shark\",\n",
       " \"4.3 m [14'] shark seen in area previous week\",\n",
       " \">6.7 m [22']  shark\",\n",
       " 'Thought to involve a bull shark',\n",
       " 'A 10-year-old 94-pound pregnant blacktip reef shark',\n",
       " 'White shark, 5m to 6m',\n",
       " 'Bronze whaler shark, 4m',\n",
       " 'Probable bluefish bite',\n",
       " \"Tiger shark, 14' \",\n",
       " 'Tiger shark, 2m',\n",
       " 'Shovel-nosed guitarfish',\n",
       " \"Raggedtooth shark, 1.5 to 2 m [5' to 6.75']\",\n",
       " \"1.2 m to 1.8 m [4' to 6'] shark observed in area\",\n",
       " 'Blacktip reef shark, 1m',\n",
       " 'Blacktip shark, 2m',\n",
       " \"Mako shark, 1.5 m [5'] \",\n",
       " 'White shark, 4.2 m [13\\'9\"] ',\n",
       " \"Hammerhead shark, 3 m [10'] \",\n",
       " 'Said to involve a 1.5 m shark',\n",
       " 'a school of sharks',\n",
       " \"Said to involve a Grey nurse shark 3.7 m [12'] \",\n",
       " '\"small shark\"',\n",
       " \"White shark, 2.7 m [9'], 280-lb \",\n",
       " \"2.5' shark\",\n",
       " 'Lemon shark, 0.5 m',\n",
       " \"2.4 m [8'] white shark, species identity confirmed by witnesses & tooth pattern in surfboard\",\n",
       " \"4 m [13'] white shark\",\n",
       " 'Gray reef shark',\n",
       " 'Oceanic whitetip sharks were in the vicinity',\n",
       " \"Grey nurse shark, 1.8 m [6']\",\n",
       " \"Tiger shark, 4 m [13'] \",\n",
       " \"Mako shark, 3 m to 4 m [10' to 13'] \",\n",
       " \"3' small spotted catshark, Scyliorhinus canicula\",\n",
       " \"White shark, 6 m [20']\",\n",
       " \"3.7 m [12'], 1200-lb shark. Shark caught & its jaw exhibited at the Carnegie Museum\",\n",
       " 'Shark seen feeding on turtle scraps thrown overboard prior to incident.',\n",
       " \"4' to 8' shark\",\n",
       " \"Nurse shark, 10'\",\n",
       " \"3.7 m [12'] shark\",\n",
       " \"1.8 m to 2.7 m [6' to 9'] shark\",\n",
       " \"Grey nurse shark, 4' \",\n",
       " 'Blue shark, 2m ',\n",
       " 'Bull shark, 1.4m ',\n",
       " \"Tiger shark, 8'\",\n",
       " \"Mako shark, 1.9 m [6.5']. Tooth fragment recovered & identified by J.T. Nichols.\",\n",
       " 'Porbeagle or white shark',\n",
       " '60 cm  shark ',\n",
       " \"1.8 m to 2.4 m [6' to 8'] sharks, most were oceanic whitetip sharks\",\n",
       " 'C. maculpinnis or C. limbatus',\n",
       " 'Allegedly a 33-foot shark',\n",
       " \"13', 400-lb thresher shark\",\n",
       " 'Tiger shark, 8 to 12 feet',\n",
       " '6 m, 600-kg shark',\n",
       " 'Tiger shark, 3.7 m to 4.5 m [12\\' to 14\\'9\"]  ',\n",
       " 'Lemon shark or sandtiger shark',\n",
       " 'White shark, 6.5 m ',\n",
       " '1.5 m to 2 m shark',\n",
       " 'Small shark with white-tipped dorsal fin',\n",
       " \"14' to 16' white shark\",\n",
       " \"Atkins' remains were recovered from a dusky shark, C. obscurus, by Capt. W. F. Young, shark fisherman\",\n",
       " \"Carpet shark, 10' \",\n",
       " '4.3 m shark',\n",
       " \"5 m [16.5'] white shark\",\n",
       " 'Grey nurse shark?',\n",
       " 'Wobbegong',\n",
       " \"8' white shark or 7-gill shark\",\n",
       " \"White shark, 5 m [16.5'], identified by Dr. W. I. Follett on tooth marks\",\n",
       " 'Bronze whaler shark',\n",
       " 'Grey reef shark, 1.5 m ',\n",
       " '\"a dog shark\"',\n",
       " 'Tiger shark?',\n",
       " \"Tiger shark, 3 m [10']\",\n",
       " 'small blue shark',\n",
       " \"Bull shark, 4.5' \",\n",
       " '3.6 m  white shark  (or bronze whaler)',\n",
       " \"+3' shark\",\n",
       " \"Mako shark, 14' \",\n",
       " \"Bronze whaler shark, 3.7 m [12'] identified by G.P. Whitley based on description\",\n",
       " \"Tiger shark, less than 10'\",\n",
       " \"8' shark\",\n",
       " \"White shark,4.6 m [15'] \",\n",
       " 'Angel shark',\n",
       " \"2.1 m to 2.4 m [7' to 8'] shark\",\n",
       " 'Blacktip Reef shark ',\n",
       " \"0.9 m to 1.2 m [3' to 4'] shark\",\n",
       " \"5' to 8' shark\",\n",
       " \"14' to 18'shark\",\n",
       " \"Tiger shark, 4.6 m to 7.6 m [15' to 25'] \",\n",
       " '2.5 to 3 m shark',\n",
       " 'small nurse shark',\n",
       " 'Silvertip shark',\n",
       " 'Nurse shark, 106 cm, 28-lb, male ',\n",
       " \"3 m [10'] shark\",\n",
       " 'Blue shark, 8 to 9 feet',\n",
       " \"Tiger shark, 10'  \",\n",
       " \"Bronze whaler shark,  3m [10'] \",\n",
       " 'White shark, identification by K. Nakaya',\n",
       " \"Leopard shark, 3' Triakis semifasciata, identified by J.W. DeWitt (1955)\",\n",
       " '8; 206-lb shark',\n",
       " \"1.8 m [6'], 136-kg [300-lb] shark \",\n",
       " \"2 m [6.75'] copper shark\",\n",
       " 'Survivors said 2 species of sharks were involved:  oceanic whitetip sharks and another species,',\n",
       " 'Raggedtooth shark',\n",
       " 'Thought to involve a Bronze whale shark, 2m',\n",
       " \"3 m [10'] white shark (Tooth  recovered from boat)\",\n",
       " '1.8 m blacktip \"reef\" shark',\n",
       " \"Wobbegong shark, 4'\",\n",
       " \"6' shark\",\n",
       " 'juvenile white shark',\n",
       " 'Identified as carcharinid shark (based on its behavior) by Dr. D.P. L. Schultz; mako shark according to Huges',\n",
       " 'Oceanic whitetip shark',\n",
       " 'Tiger shark caught 6 days later with diver\\x92s remains in its gut',\n",
       " 'Bull shark, 2.7 m ',\n",
       " \"Raggedtooth shark, 1.2 m [4'] \",\n",
       " \"Blacktip shark, 5' to 6' \",\n",
       " \"2.5 m to 3 m [8.25' to 10']  white shark\",\n",
       " \"5' to 6' shark\",\n",
       " \"Tiger shark, >3 m [10']\",\n",
       " 'Port Jackson shark, 1m',\n",
       " \"1,5 m [5'] Caribbean reef shark (Carcharhinus  perezi)\",\n",
       " 'White shark, 6 m',\n",
       " \"Nurse shark, 2.1 m [7']\",\n",
       " \"1.5 m [5'] dusky shark\",\n",
       " \"1.8 m [6']  shark\",\n",
       " \"1.2 m [4'], possibly  larger shark\",\n",
       " \"Thought to involve a >2 m [6.75'] bull shark\",\n",
       " '24\" to 30\" shark',\n",
       " \"2.7 m [9'] shark later captured by Mitchell-Hedges\",\n",
       " \"Blacktip shark, 2 m [6.75'] \",\n",
       " 'whaler shark',\n",
       " \"0.9 m [3'] shark\",\n",
       " \"3 m [10'] blue whaler\",\n",
       " \"9.5' shark?\",\n",
       " 'Tawny nurse shark, 40cm',\n",
       " 'Grey reef shark, 2 m',\n",
       " \"According to Carlsmith, the shark's mouth was 3' wide\",\n",
       " 'a small reef shark',\n",
       " \"2.4 m to 3 m [8' to 10'] grey colored shark\",\n",
       " \"7 m [23'] white shark\",\n",
       " \"White shark, 5.5 m [18']\",\n",
       " \"5' to 6' spinner or bull shark\",\n",
       " 'Tiger shark, 4 m, 420-kg, caught 13-Dec-1987',\n",
       " \"Bronze whaler shark, 2 m to 3 m [6.75' to 10']  \",\n",
       " \"Grey nurse shark, 1.5 m [5']\",\n",
       " 'Mako shark, 3m',\n",
       " \"Hammerhead shark, 5.2 m [17'] \",\n",
       " \"1.5 m [5'] Caribbean reef shark\",\n",
       " 'Thought to involve an oceanic whitetip shark or a white shark',\n",
       " \"Tiger shark, 4.6 m [15'] \",\n",
       " \"Lemon shark, 4'\",\n",
       " \"Possibly a  1.8 m [6'] Zambezi shark\",\n",
       " '2 m shark, possibly a bronze whaler',\n",
       " \"White shark, 5' k\",\n",
       " \"2.6 m [8.5'] shark landed 2 hours later\",\n",
       " '270 kg shark',\n",
       " \"4' to 5' shark\",\n",
       " \"3.7 m to 4.6 m [12' to 15'] shark\",\n",
       " 'white shark',\n",
       " \"3.7 [12'] shark\",\n",
       " \"6' to 8' shark, possibly a tiger shark\",\n",
       " '2 m [6\\'9\"] shark',\n",
       " '4.5  m [14\\'9\"] shark',\n",
       " 'small carpet shark',\n",
       " \"White shark, 3 m [10'], tooth fragment from wounds identified as that of a white shark\",\n",
       " \"Two shark's teeth recovered from canoe\",\n",
       " 'Possibly a sand shark',\n",
       " \"Bull shark, 4' to 5'\",\n",
       " \"White shark, 3.5 m to 4 m [11.5' to 13'] \",\n",
       " 'small catsharks',\n",
       " \"Nurse shark, 3' \",\n",
       " '3 m white shark',\n",
       " \"7' to 8' shark \",\n",
       " '250-lb female \"blue fin\" shark',\n",
       " \"106 cm [3.5']  shark\",\n",
       " \"1.8 m to 2.4 m [6' to 8'] hammerhead shark\",\n",
       " 'White shark, based on 2 teeth retrieved from rudder',\n",
       " 'Bull shark, 1.3 m',\n",
       " 'White shark, 5m ',\n",
       " \"1.5 m to 1.8 m [5' to 6']  blacktip shark\",\n",
       " '\"Tintorero\"',\n",
       " 'White shark, 2.8 to 3 m ',\n",
       " \"10' shark\",\n",
       " '1.8 metre shark',\n",
       " 'Raggedtooth shark, 2 m [6\\'9\"], 5-year-old, captive female ',\n",
       " \"2' to 3' reef shark\",\n",
       " 'Bronze whaler shark, 2.5m',\n",
       " \"Tiger shark, 4 m [13'] female\",\n",
       " \"Remains found in  4.25 m  [14'] shark caught at Baker\\x92s Haulover, Miami Beach on 26-Oct-1943\",\n",
       " \"Nurse shark, 1.1 m [3.5'] \",\n",
       " \"Mako shark, 3 m [10']\",\n",
       " 'White shark or oceanic whitetip shark',\n",
       " \"Sevengill shark, 14', was caught in the vicinity\",\n",
       " 'reef shark',\n",
       " 'White shark, 3m to 4m',\n",
       " \">2.4 m [8'] shark\",\n",
       " \"Wobbegong shark, 1.5 m [5'] \",\n",
       " 'Copper shark, 50-kg [110-b] ',\n",
       " \"7 shark's teeth found embedded in the woodwork of the boat\",\n",
       " '2.8 m [9\\'3\"] whaler shark captured 3 days later with his remains in its gut',\n",
       " 'Seven-gill shark',\n",
       " \"Sevengill shark, 6' to 8'\",\n",
       " 'Bull shark, 2m ',\n",
       " \"5.5 m [18'] shark seen in the vicinity\",\n",
       " 'Shark involvement not confirmed; officials considered barracua',\n",
       " 'Small shark',\n",
       " '2.1 m [7\\'] shark with \"a very flat head\\x94 that had followed the boat for 3 days',\n",
       " 'Tiger shark, 3 m ',\n",
       " \"5' blue shark\",\n",
       " \"Tiger shark, 10' \",\n",
       " \"7' to 8' shark\",\n",
       " \"White shark, 6 m [20'] \",\n",
       " \"3.5 m [11.5'], 510-kg [1125-lb] hooked & shot white shark\",\n",
       " 'Large tiger shark',\n",
       " \"White shark, 3.7 m to 4.6 m [12' to 15'] \",\n",
       " \"Dusky shark, 2.7 m [9'] dusky shark C. obscurus identified by S. Springer on tooth recovered\",\n",
       " 'Bronze whaler',\n",
       " 'Bull shark, 2.5 m',\n",
       " \"White shark, 4.6 m [15'] \",\n",
       " 'Possiby white shark',\n",
       " \"Said to involved a 6 m to 7.3 m [20' to 24'] shark\",\n",
       " \"14' shark\",\n",
       " \"White shark, 4 to 5 m [13' to 16.5'] \",\n",
       " '\"sandshark\"',\n",
       " '2 days later a 600-lb shark was caught 100 yards from the site',\n",
       " '15* to 24\" dog shark',\n",
       " 'Said to involve a large mako shark',\n",
       " '1.5 m shark',\n",
       " \"Tiger shark, 1.5 m [5'] \",\n",
       " \"4' spinner shark\",\n",
       " \"Blacktip reef shark, 1.5 m [5'] \",\n",
       " 'Blacktip reef shark pup',\n",
       " 'said to involve an oceanic whitetip shark',\n",
       " 'Oceanic whitetip shark, 2.5m ',\n",
       " 'Starry smoothhound shark, 1m',\n",
       " 'Wobbegongs',\n",
       " \"2.4 m to 3 m [8' to 10'] white shark\",\n",
       " \"Lemon shark, 6'\",\n",
       " '400-lb shark',\n",
       " \"3 m [10'] gaffed shark\",\n",
       " 'Porbeagle',\n",
       " \"2' shark\",\n",
       " \"10' to 12' shark\",\n",
       " ' ',\n",
       " '2.6 m shark',\n",
       " \"1.2 m to 1.5 m [4' to 5'] shark\",\n",
       " \"Mako shark, 1.8 m [6']\",\n",
       " \"4 m to 5 m [13' to 16.5']  white shark\",\n",
       " \"Tiger shark, 2.4 m to 2.7 m [8' to 9'] \",\n",
       " 'White shark, 18 mm tooth fragment  recovered from the hull',\n",
       " 'White shark, 3 m',\n",
       " 'Lemon shark',\n",
       " \"3.7 m to 4.3 m [12' to 14'] white shark\",\n",
       " \"1.8 m to 2.4 m [6' to 8'] shark\",\n",
       " \"Bull shark, 10' \",\n",
       " \"2.1 m [7'] shark\",\n",
       " \"Hammerhead shark, 1.8 m [6'] \",\n",
       " \"1.8 m [6'] bull shark\",\n",
       " \"Tiger shark, 5 m [16.5']\",\n",
       " \"Blue pointer, 12'\",\n",
       " 'White shark, 3.6 m [11\\'9\"] ',\n",
       " \"Grey nurse shark, 2.6 m [8.5']  \",\n",
       " '\"Blue nose sharks\"',\n",
       " \"3.5 m [11.5']shark\",\n",
       " \"Two 3 m [10'] oceanic whitetip sharks\",\n",
       " 'Mako shark, 100-kg [221-lb] ',\n",
       " \"6 m [20']  shark\",\n",
       " 'Oceanic whitetip shark x 2',\n",
       " \"Remains recovered from 5.5 m [18'] white shark\",\n",
       " \"Tiger shark, 15' female\",\n",
       " \"Spinner shark, 5'\",\n",
       " 'Mako shark ',\n",
       " 'Said to involve white shark, but species identify questionable',\n",
       " '2 to 2.5 m shark',\n",
       " 'Thought to involve a mako shark, but possibly a sea lion',\n",
       " '4\\' \"ground shark\"',\n",
       " '1.8 m [6\\'] \"cocktail shark',\n",
       " 'White shark, 3 to 3.5m ',\n",
       " ' Tiger shark, 2.8m',\n",
       " \"2.3 m [7'] shark\",\n",
       " 'Remains recovered 5 days later',\n",
       " '3.3 m [10\\'9\"] shark',\n",
       " \"Local authorities speculated that the water was too cold for sharks, but a 2.1 m [7'], 200-lb pregnant sandbar shark was caught next day\",\n",
       " \"1.8 m [6'] blacktip shark\",\n",
       " 'Dusky shark, 1 m ',\n",
       " 'White shark or thresher shark',\n",
       " 'Bronze whaler shark, 1.5m',\n",
       " 'Wobbegong shark, 60cm',\n",
       " '7-gill shark',\n",
       " \"16' 800-lb shark\",\n",
       " 'A pack of 6 sharks',\n",
       " 'White shark, 2.5m ',\n",
       " \"numerous dusky sharks & a 3 m to 4.6 m [10' to 15'] to  tiger shark\",\n",
       " 'Questionable Incident',\n",
       " 'A small shark',\n",
       " 'Not a shark attack; it was a hoax',\n",
       " \"White shark, 14' to 18' \",\n",
       " 'Raggedtooth shark, 1.96 m, 140-kg ',\n",
       " '3.6 m  porbeagle shark',\n",
       " \"Nurse shark, 10' \",\n",
       " 'Wobbegong shark, 1.4 m [4\\'6\"] ',\n",
       " \"2.4 m [8'] shark, possibly a dusky shark\",\n",
       " 'Tiger shark, 3m',\n",
       " \"Grey nurse shark, 1.5 m [5'] \",\n",
       " \"Caribbean reef shark, 6'\",\n",
       " \"Bronze whaler shark, 4.6 m [15'] \",\n",
       " '1.3 to 1.6 m shark',\n",
       " '4 to 5m white shark',\n",
       " \"Tiger shark said to be 5 to 7 m [16.5' to 23'] \",\n",
       " 'Possibly a white shark',\n",
       " 'White shark, 2m',\n",
       " \"White shark, 3 m [10']; identifed by Dr. W.I. Follett on tooth marks\",\n",
       " \"1.8 m [6'] shark \",\n",
       " \"Tiger shark, 8' to 12'\",\n",
       " 'White shark, 1600-lb female ',\n",
       " \"6' to 8' shark\",\n",
       " 'Zambezi shark (tooth fragments recovered)',\n",
       " \"White shark, 5.2 m [17'], 2500-lb \",\n",
       " '> 3 m shark',\n",
       " 'White shark, 2 m to 4 m [6\\'9\" to 13\\'] ',\n",
       " \"3 m [10'] white shark\",\n",
       " '\"Blue whaler\" (Galeolamna)',\n",
       " \"Spinner shark, 3' to 4' \",\n",
       " \"3.5 m [11.5'] shark\",\n",
       " \"1.2 m to 1.5 m [4' to 5']   shark\",\n",
       " \"2.5 m [8.25'] shark\",\n",
       " \"Tiger shark, 2.7m  [9']\",\n",
       " 'Nurse shark, 58\", 34-lb ',\n",
       " \"Lemon shark, 9' \",\n",
       " \"Mako shark, 1.8 m [6']  \",\n",
       " \"White shark, 5 m  to 6 m [16.5' to 20'] \",\n",
       " \"8' to 10' shark\",\n",
       " \"Blue pointer, 16'\",\n",
       " \"White shark, 3 m to 5 m [10' to 16.5'] \",\n",
       " 'Blue or porbeagle shark',\n",
       " \"2.1 m [7'], 90-kg shark\",\n",
       " \"Bronze whaler shark, 2.3 m [7.5'] \",\n",
       " 'Broadnose sevengill shark',\n",
       " '3 m shark',\n",
       " \"13' shark\",\n",
       " '\"black tipped\" shark',\n",
       " \"Said to involve a 2.7 m [9'] shark\",\n",
       " \"4.9 m [16'] whaler\",\n",
       " \"Tiger shark, 1.8 m [6'] \",\n",
       " \"2 scalloped hammerhead sharks, 1.5 m & 1.8 m [5' & 6']\",\n",
       " 'White shark, 4.8 m ',\n",
       " '170-kg, 2.8 m shark',\n",
       " \"[4' to 5']\",\n",
       " 'sandtiger shark',\n",
       " 'Soupfin shark',\n",
       " 'White shark, 5m',\n",
       " '1m to 1.2 m shark',\n",
       " \"Spinner shark, 1.2 m to 1.5 m [4' to 5'] \",\n",
       " \"1.2 m [4'] blacktip or sandbar shark\",\n",
       " \"Bull shark, 12'\",\n",
       " '\"Shark caught later\"',\n",
       " \"Bronze whaler shark, 4.3 m [14'] \",\n",
       " 'Zambesi shark, 2 m [6\\'9\"] ',\n",
       " 'Hammerhead shark, 500-llb ',\n",
       " '43\" shark',\n",
       " \"5.5 m [18''] white shark\",\n",
       " \"Tiger shark, 8' \",\n",
       " 'Zambesi shark, 2m ',\n",
       " \"Two 2.1 m [7'] sharks\",\n",
       " '3 bull sharks',\n",
       " 'Blue shark, 1m',\n",
       " '4.5 m to 5 m white shark',\n",
       " \"Said to involve 2 sharks: 5.2 m & 6 m [17' & 20'] \",\n",
       " \"Sharks averaged 1.8 m [6'] in length\",\n",
       " 'Nurse shark',\n",
       " 'Bull sharks x 2',\n",
       " \"Nurse shark, 1.8 m [6'] \",\n",
       " \"5.5 m [18'] shark\",\n",
       " \"1.9 m [6.5'] bull shark\",\n",
       " \"3' shark\",\n",
       " '2 m to 2.5 m shark',\n",
       " \"Caribbean reef shark, 1.2 m to 1.5 m [4' to 5'] \",\n",
       " '2.13 m shark',\n",
       " \"2.7 m  [9'] shark\",\n",
       " '150-lb shark',\n",
       " \"White shark, 2.5 m [8.25'] \",\n",
       " \"Bull shark, 10'\",\n",
       " \"Raggedtooth shark, 50-kg [110-lb], 2 m [6.75'] gaffed \",\n",
       " 'Tiger shark, tooth fragment recovered',\n",
       " 'unknown, possibly a white shark',\n",
       " \"Said to involve a 2.4 m [8'] hammerhead shark\",\n",
       " \"6 m [20'] shark\",\n",
       " \"5 m  [16.5'] white shark\",\n",
       " \"Mr. Burgess of ISAF announced the injury was the bite of a 1.8 m [6'], 2- to 3-year old white shark. Subsequent investigation revealed there was  no shark involvement in this incident\",\n",
       " 'Reported to involve a 4 m white shark',\n",
       " 'Considered a \"Doubtful\" incident',\n",
       " 'Zambesi shark, 113-kg [249-lb] female ',\n",
       " 'Lemon shark, 1164 mm, immature male, identified by  V.G. Springer',\n",
       " 'Questionable incident; reported as shark attack but thought to involve a pinniped instead ',\n",
       " \"Bull shark, 1.8 m to 2.1 m [6' to 7'] \",\n",
       " 'Shark involvement  questionable',\n",
       " '\"sand\" shark',\n",
       " \"15'\",\n",
       " \"4.4 m [14'] shark\",\n",
       " 'Possibily a  1.5 to 2 m sandtiger shark',\n",
       " \"1.4 m [4.5'] shark\",\n",
       " \"2.7 m [9']shark\",\n",
       " 'Said to involve 2 sharks',\n",
       " \"Nurse shark, 1.2 m [4'] \",\n",
       " 'Tiger shark, 3.5 m ',\n",
       " \"4.5 m to 5.5 m [15' to 18'] white shark\",\n",
       " \"Possibly a 6' bull shark\",\n",
       " 'dogfish shark',\n",
       " 'Tiger shark, 4.5 m [14\\'9\"]',\n",
       " \"2.4 m [8'] tiger shark caught 40 hours later with shorts of the boy in its gut\",\n",
       " 'Remains recovered from 3 sharks',\n",
       " 'Possibly a spinner shark',\n",
       " 'A \"small shark\"',\n",
       " \"White shark, 4.3 m to 4.9m [14' to 16']\",\n",
       " \"3 m [10'] shark seen in vicinity\",\n",
       " \"Tiger shark, 12'\",\n",
       " 'Tiger shark, 12',\n",
       " \"Bull shark, 4 m [13'] \",\n",
       " 'Bull shark or lemon shark',\n",
       " 'Small dusky shark or blackfin shark',\n",
       " 'White shark, species identity confirmed by tooth pattern',\n",
       " \"3.5 m [11.5']  white shark\",\n",
       " 'Blacktip reef shark',\n",
       " '2 m to  3 m shark',\n",
       " 'Grey reef shark, Identified as C. menisorrah, by E.S. Hobson, F. Mautin & E.S. Reese (1961)',\n",
       " \"Grey nurse shark, 2,7 m [9'], 200-lb \",\n",
       " '5 m white shark',\n",
       " 'Raggedtooth shark, 2 m [6\\'9\"] ',\n",
       " '3.5 m [11\\'6\"] shark captured',\n",
       " '4.5 m & 5 m white shark ',\n",
       " '13\\'10\" shark',\n",
       " \"Reef shark, 5'\",\n",
       " 'Bull shark, 3.5 m',\n",
       " \"Tiger shark, 1.8 m to 2.4 m [6' to 8'] \",\n",
       " \"1.5 m to 2.1 m [5' to 7'] shark, possibly a mako shark\",\n",
       " \"Sandtiger shark, 4' to 5'\",\n",
       " \"Blacktip shark, 4'\",\n",
       " 'a sand shark',\n",
       " \"1.8 m to 2.1 m [6' to 7']\\xa0 Caribbean Reef Shark \",\n",
       " 'Blue pointers',\n",
       " \"16' shark\",\n",
       " 'Possibly C. leucas',\n",
       " \"Whaler shark, 2.7 m [9'], 350- to 450-lb  identified by G.P. Whitley\",\n",
       " '\"A long thin brown-colored shark\"',\n",
       " 'Blacktip or spinner shark?',\n",
       " 'Zambesi shark, 4\\'9\"',\n",
       " '1.2 m [4\\'] \"grey-colored shark\"',\n",
       " '1.8 m shark',\n",
       " 'Galapagos shark',\n",
       " 'White shark, 2000-lb',\n",
       " 'Mako shark',\n",
       " '2.2 m shark',\n",
       " \"White shark, 10'\",\n",
       " \"Hammerhead shark, 5' \",\n",
       " 'Blue sharks',\n",
       " 'Raggedtooth shark, 1.3 m',\n",
       " \"Tiger sharks, 2.4 m to 4.9 m [8' to 16'] \",\n",
       " \"10' whale\",\n",
       " \"4' to 6' shark\",\n",
       " 'Raggedtooth shark, 56-kg [123-lb] ',\n",
       " 'Sevengill shark',\n",
       " \"White shark, 19'\",\n",
       " 'Shark involvement probable',\n",
       " \"Bronze whaler shark, 6'\",\n",
       " 'C. macrurus captured 48 hours after attack with tissue removed from man in its gut; species identified by G.P. Whitley,  reported as C. obscurus by  R. Steel',\n",
       " \"Tiger shark, 2.4 m [8'] \",\n",
       " 'Possibly a blacktip reef shark',\n",
       " \"1.8 m [6'], 180-lb shark\",\n",
       " '\"A pack of sharks\"',\n",
       " \"White shark, 1.5 m [5'] k\",\n",
       " 'Thought to involve a porbeagle or mako shark',\n",
       " \"Hammerhead shark, 1.5 m [5'] \",\n",
       " 'Unconfirmed incident',\n",
       " \"Mako shark, 3.7 m [12'] identified by tooth fragments by G.P. Whitley\",\n",
       " 'White shark, 15\\'3\", 2,333-lb ',\n",
       " \"Bronze whaler shark, 3 m [10'], 200-lb\",\n",
       " 'Nurse shark, 1m ',\n",
       " '2 white shark: 13\\' & 9\"8\"',\n",
       " 'Thought to involve a blacktip shark',\n",
       " 'Reported to involve a white shark',\n",
       " \"Porbeagle shark, 8' \",\n",
       " \"Bronze whaler shark, 4' \",\n",
       " 'Allegedly a 4 m tiger shark',\n",
       " '36\"  shark',\n",
       " \"Teeth in hull identified as those from a white shark 4.6 m [15'] in length\",\n",
       " 'a \"small slim brown shark\"',\n",
       " \"Thought to involve a 12' white shark\",\n",
       " \"White shark, 12' to 15' female\",\n",
       " \"Bull shark, 6'\",\n",
       " \"Said to be a 7.6 m [25'] shark\",\n",
       " \"76 cm [2.5'] carpet shark\",\n",
       " '\"Blue nose shark\"',\n",
       " 'Bull shark, 1.5m ',\n",
       " '250-lb \"dog shark\"',\n",
       " 'Angel shark, 1.2m ',\n",
       " \"Said to involve  9' blue shark\",\n",
       " '3 m to 4 m shark',\n",
       " \"0.9 m to 1.5 m [3' to 5'] shark\",\n",
       " '2 m to 3 m shark',\n",
       " 'White shark, 3.9 m, 550 kg, male',\n",
       " 'White shark, 4.5 m ',\n",
       " 'Bull shark',\n",
       " \">2.5 m [8.25'] white shark\",\n",
       " '1.8 m to 2.4 m [6\\' to 8\\'] \"black finned shark\"',\n",
       " \"4.5 to 5' shark\",\n",
       " \"Hammerhead shark, 9' \",\n",
       " \"12' sandtiger shark\",\n",
       " 'Questionable incident - shark bite may have precipitated drowning',\n",
       " \"5.5' shark\",\n",
       " \"12' to 14' shark\",\n",
       " \"1.2 m [4'] dusky shark\",\n",
       " 'Possibly juvenile tiger shark',\n",
       " \"Nurse shark, 1.5 m [5']\",\n",
       " 'Said to involve a tiger shark or a hammerhead shark',\n",
       " '\"small brown-colored shark\"',\n",
       " 'Raggedtooth shark, 2m',\n",
       " \"4.3 m [14'] shark\",\n",
       " 'Bonita sharkk, 200-lb',\n",
       " \"2.6 m [8.5'] shark\",\n",
       " '3 m hammerhead shark',\n",
       " 'said to involve 2.5 m hammerhead sharks',\n",
       " \"2 m [6.75'] shark, 200-kg shark T\",\n",
       " 'White shark tooth fragment recovered from ankle & identified by Dr. W. I. Follett',\n",
       " '1.4 m [4\\'6\"] blacktip shark',\n",
       " \"Thought to involve a 2 m [6.75'] grey nurse shark\",\n",
       " \"Tiger shark, 3.7 m to 4.3 m  [12' to 14']\",\n",
       " '3- to 4-foot shark',\n",
       " 'Tiger shark, 300-kg [662-lb] ',\n",
       " \"Tiger shark, 7'\",\n",
       " 'Bull or tiger shark',\n",
       " '\"A 2\\' (0.6 m) brown shark\"',\n",
       " 'Raggedtooth shark, 150-kg',\n",
       " '1.5 m [5\\'] \"whaler shark\"',\n",
       " 'bull shark',\n",
       " \"1.8 m [6'] carpet shark\",\n",
       " 'Dusky shark, 3m',\n",
       " \"2.4 m to 3.7 m [8' to 12'] shark\",\n",
       " 'Bull shark, 2.8 to 3.1 m',\n",
       " 'Blue shark, 4.5 m [14\\'9\"]',\n",
       " '650-lb shark',\n",
       " '1 m shark',\n",
       " \"2 m [6.75'] white shark\",\n",
       " \"White shark, 3 m [10'] \",\n",
       " \"2'  shark\",\n",
       " '\"reef shark\"',\n",
       " 'Juvenile dusky or blacktip shark',\n",
       " \"0.9 m  [3'] shark\",\n",
       " \"1.8 m to 2.1 m [6' to 7'] shark\",\n",
       " \"Bull shark, 2.4 m [8']\",\n",
       " \"White shark, 12' \",\n",
       " 'White shark, 4.5 m  to 6 m [14\\'9\" to 20\\'] according to witnesses',\n",
       " 'Thought to involve a 2.5 m bull or tiger shark',\n",
       " 'Possibly a juvenile blacktip or spinner shark',\n",
       " \"White shark, 7'\",\n",
       " \"White shark, 1.8 m to 2.1 m [6' to 7']  according to Shreuder and a witness\",\n",
       " \"2.4 m [8'], 600-lb shark\",\n",
       " \"Shortfin mako shark, 3 m to 3.4 m [10' to 11'] \",\n",
       " \"Tiger shark, 1.8 m [6']\",\n",
       " 'Mako shark, 180-kg [397-lb]',\n",
       " \"Tiger shark, 13' \",\n",
       " 'Hammerhead shark?+O2356',\n",
       " \"1.5 m [5'] shark\",\n",
       " 'Most likely, a small shark',\n",
       " 'Alleged to involve a white shark \"with little yellow eyes\"',\n",
       " \"Tiger shark, 3 m [10'] \",\n",
       " 'Shark involvement unconfirmed',\n",
       " '\"whiptail shark\" (thresher shark?)',\n",
       " '3.5 m white shark',\n",
       " \"5' shark\",\n",
       " \"1.5 m [5'] hammerhead shark\",\n",
       " '1.74 m, 116-kg Zambesi shark',\n",
       " 'Tiger shark, 2.7 m [9\\'5\"], 364-lb',\n",
       " '3+ m shark',\n",
       " \"Thresher shark, 3.7 m [12'] \",\n",
       " \"1.2 m to 1.5 m [4' to 5'] bull, sandbar or dusky shark\",\n",
       " 'Bull shark, 400-lb ',\n",
       " \"60 cm to 90 cm [2' to 3'] shark\",\n",
       " \"1.5 m to 1.8 m [5' to 6'] shark\",\n",
       " \"3 m [10'] bull shark\",\n",
       " 'Cookie cutter shark',\n",
       " 'Reported as a shark attack, the story was a hoax',\n",
       " \"Bronze whaler shark, 2.5 m [8.25'] \",\n",
       " \"2.1 m [7'] lemon shark or bull shark\",\n",
       " '\"grey shark\"',\n",
       " \"7.5' shark\",\n",
       " \"Tiger shark, 8' to 9' \",\n",
       " 'Sevengill shark, 2.4 m',\n",
       " \"1.8 m [6'] shark, species identity questionable\",\n",
       " 'White shark, 3m, seen in area and hooked 3 days later',\n",
       " 'Said to involve a grey nurse shark that leapt out of the water and  seized the boy but species identification is questionable',\n",
       " 'Said to involve a 4.9 m [16\\'] \"red shark\"',\n",
       " 'White shark, 2.7 m',\n",
       " \"White shark, 4.3 m [14'], (tooth fragment recovered)\",\n",
       " 'possibly a bull shark',\n",
       " \"4' tp 5' shark\",\n",
       " \"3.7 m to 4.3 m [12' to 14']  shark\",\n",
       " 'Tiger shark (pregnant)',\n",
       " \" Blacktip shark, C. maculipinnis. 1.9 m to 2.1 m [6.5' to 7'] \",\n",
       " 'White shark, 3m',\n",
       " \"Tiger shark, 3 m to 4 m [10' to 13'] \",\n",
       " \"Blacktip shark, 4' to 5'\",\n",
       " \"[4.5' to 5'] shark\",\n",
       " 'Reported to involve a hammerhead shark',\n",
       " \"Mako shark, 2 m [6.75'] \",\n",
       " '\"a large shark\"',\n",
       " 'According to Benjamin, the injury was inflicted by a barracuda, not a shark',\n",
       " 'Raggedtooth shark, 2.5 m to 3 m ',\n",
       " '3.6 m [11\\'9\"] white shark',\n",
       " \"Tiger shark, 2.1 m [7']\",\n",
       " \"Bull shark, 2.7 m [9'] was captured & dragged on the sand where tissue taken from Eggink was found in its gut. Species identification  was made by S. Springer based on 4 photographs of the shark. \",\n",
       " 'Believed to involve a 2.8 m [9\\'3\"] white shark',\n",
       " \"Nurse shark, 2.1 m [7']  identified by Dr. E. Clark on color & tooth impressions\",\n",
       " '300-kg [662-lb] shark',\n",
       " '2m shark',\n",
       " 'White shark, 4 m to 5m ',\n",
       " \"Nurse shark, 3', 20-lb \",\n",
       " 'Thought to involve a juvenile hammerhead shark',\n",
       " \"Five 1.8 m [6']  sharks\",\n",
       " \"White shark, 4.4 m to 5 m [14.5' to 16.5'] \",\n",
       " \"Grey reef shark, 5' to 8' \",\n",
       " 'Blacktip shark',\n",
       " \"3' shark, possibly  a blacktip or spinner shark\",\n",
       " \"Shovelnose shark, 6 m [20'] \",\n",
       " 'White shark, 5 m ',\n",
       " \"Tiger shark, 2.4 m 3.4 m [8' to 11']  \",\n",
       " 'Bull shark?',\n",
       " 'Possibly a bull shark',\n",
       " 'reef shark?',\n",
       " 'sand shark',\n",
       " '3 m to 4 m white shark',\n",
       " \"Two sharks seen in vicinity: 2.4 m & 4.25 m  [8' & 14'] TL\",\n",
       " '2 m [6\\'9\"] Zambesi shark',\n",
       " \"Tiger shark, 4.6 m to 6 m [15' to 20'] \",\n",
       " \">3.4 m [11'] white shark\",\n",
       " 'White shark (tooth fragments recovered)',\n",
       " \"Tiger shark, 10'\",\n",
       " \"18' white shark\",\n",
       " \"Spinner shark, 7'\",\n",
       " 'Spinner shark or blacktip shark',\n",
       " '70 kg shark',\n",
       " \"Caribbean reef shark, 7' to 8'\",\n",
       " 'Shark involvement not cofirmed',\n",
       " \"4.7 m [15.5'] shark\",\n",
       " \"1.5 m to 1.8 m [5' to 6'] \\x93spear-eye\\x94 shark \",\n",
       " 'Tiger shark, 2.3m ',\n",
       " \"2.7 m [9'] silky shark\",\n",
       " \"Tiger shark, 2.4 m [8']\",\n",
       " 'White shark, 5.5 m ',\n",
       " \"Wobbegong shark, 4' \",\n",
       " \"Thought to involve a 2.7 m [9'], 400-lb bull shark\",\n",
       " 'Lemon shark, 2.5m to 3m ',\n",
       " \"Spinner shark, 6'\",\n",
       " '\"juvenile shark\"',\n",
       " 'White shark, 4m ',\n",
       " '1.8 m grey shark',\n",
       " ...}"
      ]
     },
     "execution_count": 47,
     "metadata": {},
     "output_type": "execute_result"
    }
   ],
   "source": [
    "set(df[\"Species \"])"
   ]
  },
  {
   "cell_type": "markdown",
   "id": "48d47a3e",
   "metadata": {
    "hidden": true
   },
   "source": [
    "#### Conclusion y output"
   ]
  },
  {
   "cell_type": "markdown",
   "id": "9c9ea9cb",
   "metadata": {
    "hidden": true
   },
   "source": [
    "Mas de la mitad de los registros son desconocidos y de los que hay valores no NA, hay demasiada variacion en la forma de escribirlo y en la informacion que proporcionan, por lo que decido borrar la columna"
   ]
  },
  {
   "cell_type": "code",
   "execution_count": 48,
   "id": "475a0373",
   "metadata": {
    "ExecuteTime": {
     "end_time": "2021-11-01T11:38:46.417171Z",
     "start_time": "2021-11-01T11:38:46.406304Z"
    },
    "hidden": true
   },
   "outputs": [],
   "source": [
    "df.drop(\"Species \",axis=1,inplace=True)"
   ]
  },
  {
   "cell_type": "code",
   "execution_count": 49,
   "id": "3ec78cad",
   "metadata": {
    "ExecuteTime": {
     "end_time": "2021-11-01T11:38:46.444518Z",
     "start_time": "2021-11-01T11:38:46.417171Z"
    },
    "hidden": true
   },
   "outputs": [
    {
     "data": {
      "text/html": [
       "<div>\n",
       "<style scoped>\n",
       "    .dataframe tbody tr th:only-of-type {\n",
       "        vertical-align: middle;\n",
       "    }\n",
       "\n",
       "    .dataframe tbody tr th {\n",
       "        vertical-align: top;\n",
       "    }\n",
       "\n",
       "    .dataframe thead th {\n",
       "        text-align: right;\n",
       "    }\n",
       "</style>\n",
       "<table border=\"1\" class=\"dataframe\">\n",
       "  <thead>\n",
       "    <tr style=\"text-align: right;\">\n",
       "      <th></th>\n",
       "      <th>Date</th>\n",
       "      <th>Year</th>\n",
       "      <th>Type</th>\n",
       "      <th>Country</th>\n",
       "      <th>Area</th>\n",
       "      <th>Location</th>\n",
       "      <th>Activity</th>\n",
       "      <th>Name</th>\n",
       "      <th>Sex</th>\n",
       "      <th>Injury</th>\n",
       "      <th>Fatal (Y/N)</th>\n",
       "      <th>Time</th>\n",
       "      <th>Investigator or Source</th>\n",
       "      <th>href formula</th>\n",
       "    </tr>\n",
       "    <tr>\n",
       "      <th>Casos</th>\n",
       "      <th></th>\n",
       "      <th></th>\n",
       "      <th></th>\n",
       "      <th></th>\n",
       "      <th></th>\n",
       "      <th></th>\n",
       "      <th></th>\n",
       "      <th></th>\n",
       "      <th></th>\n",
       "      <th></th>\n",
       "      <th></th>\n",
       "      <th></th>\n",
       "      <th></th>\n",
       "      <th></th>\n",
       "    </tr>\n",
       "  </thead>\n",
       "  <tbody>\n",
       "    <tr>\n",
       "      <th>1</th>\n",
       "      <td>1845-1853</td>\n",
       "      <td>0</td>\n",
       "      <td>Unprovoked</td>\n",
       "      <td>CEYLON (SRI LANKA)</td>\n",
       "      <td>Eastern Province</td>\n",
       "      <td>Below the English fort, Trincomalee</td>\n",
       "      <td>Swimming</td>\n",
       "      <td>male</td>\n",
       "      <td>M</td>\n",
       "      <td>FATAL. \"Shark bit him in half, carrying away t...</td>\n",
       "      <td>Y</td>\n",
       "      <td>NaN</td>\n",
       "      <td>S.W. Baker</td>\n",
       "      <td>http://sharkattackfile.net/spreadsheets/pdf_di...</td>\n",
       "    </tr>\n",
       "    <tr>\n",
       "      <th>2</th>\n",
       "      <td>1883-1889</td>\n",
       "      <td>0</td>\n",
       "      <td>Unprovoked</td>\n",
       "      <td>PANAMA</td>\n",
       "      <td>NaN</td>\n",
       "      <td>Panama Bay 8ºN, 79ºW</td>\n",
       "      <td>NaN</td>\n",
       "      <td>Jules Patterson</td>\n",
       "      <td>M</td>\n",
       "      <td>FATAL</td>\n",
       "      <td>Y</td>\n",
       "      <td>NaN</td>\n",
       "      <td>The Sun, 10/20/1938</td>\n",
       "      <td>http://sharkattackfile.net/spreadsheets/pdf_di...</td>\n",
       "    </tr>\n",
       "    <tr>\n",
       "      <th>3</th>\n",
       "      <td>1900-1905</td>\n",
       "      <td>0</td>\n",
       "      <td>Unprovoked</td>\n",
       "      <td>USA</td>\n",
       "      <td>North Carolina</td>\n",
       "      <td>Ocracoke Inlet</td>\n",
       "      <td>Swimming</td>\n",
       "      <td>Coast Guard personnel</td>\n",
       "      <td>M</td>\n",
       "      <td>FATAL</td>\n",
       "      <td>Y</td>\n",
       "      <td>NaN</td>\n",
       "      <td>F. Schwartz, p.23; C. Creswell, GSAF</td>\n",
       "      <td>http://sharkattackfile.net/spreadsheets/pdf_di...</td>\n",
       "    </tr>\n",
       "    <tr>\n",
       "      <th>4</th>\n",
       "      <td>Before 1903</td>\n",
       "      <td>0</td>\n",
       "      <td>Unprovoked</td>\n",
       "      <td>AUSTRALIA</td>\n",
       "      <td>Western Australia</td>\n",
       "      <td>NaN</td>\n",
       "      <td>Pearl diving</td>\n",
       "      <td>Ahmun</td>\n",
       "      <td>M</td>\n",
       "      <td>FATAL</td>\n",
       "      <td>Y</td>\n",
       "      <td>NaN</td>\n",
       "      <td>H. Taunton; N. Bartlett,  pp. 233-234</td>\n",
       "      <td>http://sharkattackfile.net/spreadsheets/pdf_di...</td>\n",
       "    </tr>\n",
       "    <tr>\n",
       "      <th>5</th>\n",
       "      <td>Before 1903</td>\n",
       "      <td>0</td>\n",
       "      <td>Unprovoked</td>\n",
       "      <td>AUSTRALIA</td>\n",
       "      <td>Western Australia</td>\n",
       "      <td>Roebuck Bay</td>\n",
       "      <td>Diving</td>\n",
       "      <td>male</td>\n",
       "      <td>M</td>\n",
       "      <td>FATAL</td>\n",
       "      <td>Y</td>\n",
       "      <td>NaN</td>\n",
       "      <td>H. Taunton; N. Bartlett,  p. 234</td>\n",
       "      <td>http://sharkattackfile.net/spreadsheets/pdf_di...</td>\n",
       "    </tr>\n",
       "    <tr>\n",
       "      <th>...</th>\n",
       "      <td>...</td>\n",
       "      <td>...</td>\n",
       "      <td>...</td>\n",
       "      <td>...</td>\n",
       "      <td>...</td>\n",
       "      <td>...</td>\n",
       "      <td>...</td>\n",
       "      <td>...</td>\n",
       "      <td>...</td>\n",
       "      <td>...</td>\n",
       "      <td>...</td>\n",
       "      <td>...</td>\n",
       "      <td>...</td>\n",
       "      <td>...</td>\n",
       "    </tr>\n",
       "    <tr>\n",
       "      <th>5988</th>\n",
       "      <td>16-Sep-16</td>\n",
       "      <td>2016</td>\n",
       "      <td>Unprovoked</td>\n",
       "      <td>AUSTRALIA</td>\n",
       "      <td>Victoria</td>\n",
       "      <td>Bells Beach</td>\n",
       "      <td>Surfing</td>\n",
       "      <td>male</td>\n",
       "      <td>M</td>\n",
       "      <td>No injury: Knocked off board by shark</td>\n",
       "      <td>N</td>\n",
       "      <td>NaN</td>\n",
       "      <td>The Age, 9/16/2016</td>\n",
       "      <td>http://sharkattackfile.net/spreadsheets/pdf_di...</td>\n",
       "    </tr>\n",
       "    <tr>\n",
       "      <th>5989</th>\n",
       "      <td>17-Sep-16</td>\n",
       "      <td>2016</td>\n",
       "      <td>Unprovoked</td>\n",
       "      <td>AUSTRALIA</td>\n",
       "      <td>Victoria</td>\n",
       "      <td>Thirteenth Beach</td>\n",
       "      <td>Surfing</td>\n",
       "      <td>Rory Angiolella</td>\n",
       "      <td>M</td>\n",
       "      <td>Struck by fin on chest &amp; leg</td>\n",
       "      <td>N</td>\n",
       "      <td>NaN</td>\n",
       "      <td>The Age, 9/18/2016</td>\n",
       "      <td>http://sharkattackfile.net/spreadsheets/pdf_di...</td>\n",
       "    </tr>\n",
       "    <tr>\n",
       "      <th>5990</th>\n",
       "      <td>18-Sep-16</td>\n",
       "      <td>2016</td>\n",
       "      <td>Unprovoked</td>\n",
       "      <td>USA</td>\n",
       "      <td>Florida</td>\n",
       "      <td>New Smyrna Beach, Volusia County</td>\n",
       "      <td>Surfing</td>\n",
       "      <td>male</td>\n",
       "      <td>M</td>\n",
       "      <td>Lacerations to lower leg</td>\n",
       "      <td>N</td>\n",
       "      <td>10h43</td>\n",
       "      <td>Orlando Sentinel, 9/19/2016</td>\n",
       "      <td>http://sharkattackfile.net/spreadsheets/pdf_di...</td>\n",
       "    </tr>\n",
       "    <tr>\n",
       "      <th>5991</th>\n",
       "      <td>18-Sep-16</td>\n",
       "      <td>2016</td>\n",
       "      <td>Unprovoked</td>\n",
       "      <td>USA</td>\n",
       "      <td>Florida</td>\n",
       "      <td>New Smyrna Beach, Volusia County</td>\n",
       "      <td>Surfing</td>\n",
       "      <td>Chucky Luciano</td>\n",
       "      <td>M</td>\n",
       "      <td>Lacerations to hands</td>\n",
       "      <td>N</td>\n",
       "      <td>11h00</td>\n",
       "      <td>Orlando Sentinel, 9/19/2016</td>\n",
       "      <td>http://sharkattackfile.net/spreadsheets/pdf_di...</td>\n",
       "    </tr>\n",
       "    <tr>\n",
       "      <th>5992</th>\n",
       "      <td>18-Sep-16</td>\n",
       "      <td>2016</td>\n",
       "      <td>Unprovoked</td>\n",
       "      <td>USA</td>\n",
       "      <td>Florida</td>\n",
       "      <td>New Smyrna Beach, Volusia County</td>\n",
       "      <td>Surfing</td>\n",
       "      <td>male</td>\n",
       "      <td>M</td>\n",
       "      <td>Minor injury to thigh</td>\n",
       "      <td>N</td>\n",
       "      <td>13h00</td>\n",
       "      <td>Orlando Sentinel, 9/19/2016</td>\n",
       "      <td>http://sharkattackfile.net/spreadsheets/pdf_di...</td>\n",
       "    </tr>\n",
       "  </tbody>\n",
       "</table>\n",
       "<p>5992 rows × 14 columns</p>\n",
       "</div>"
      ],
      "text/plain": [
       "              Date  Year        Type             Country               Area  \\\n",
       "Casos                                                                         \n",
       "1        1845-1853     0  Unprovoked  CEYLON (SRI LANKA)   Eastern Province   \n",
       "2        1883-1889     0  Unprovoked              PANAMA                NaN   \n",
       "3        1900-1905     0  Unprovoked                 USA     North Carolina   \n",
       "4      Before 1903     0  Unprovoked           AUSTRALIA  Western Australia   \n",
       "5      Before 1903     0  Unprovoked           AUSTRALIA  Western Australia   \n",
       "...            ...   ...         ...                 ...                ...   \n",
       "5988     16-Sep-16  2016  Unprovoked           AUSTRALIA           Victoria   \n",
       "5989     17-Sep-16  2016  Unprovoked           AUSTRALIA           Victoria   \n",
       "5990     18-Sep-16  2016  Unprovoked                 USA            Florida   \n",
       "5991     18-Sep-16  2016  Unprovoked                 USA            Florida   \n",
       "5992     18-Sep-16  2016  Unprovoked                 USA            Florida   \n",
       "\n",
       "                                  Location      Activity  \\\n",
       "Casos                                                      \n",
       "1      Below the English fort, Trincomalee      Swimming   \n",
       "2                     Panama Bay 8ºN, 79ºW           NaN   \n",
       "3                           Ocracoke Inlet      Swimming   \n",
       "4                                      NaN  Pearl diving   \n",
       "5                              Roebuck Bay        Diving   \n",
       "...                                    ...           ...   \n",
       "5988                           Bells Beach       Surfing   \n",
       "5989                      Thirteenth Beach       Surfing   \n",
       "5990      New Smyrna Beach, Volusia County       Surfing   \n",
       "5991      New Smyrna Beach, Volusia County       Surfing   \n",
       "5992      New Smyrna Beach, Volusia County       Surfing   \n",
       "\n",
       "                        Name Sex   \\\n",
       "Casos                               \n",
       "1                       male    M   \n",
       "2            Jules Patterson    M   \n",
       "3      Coast Guard personnel    M   \n",
       "4                      Ahmun    M   \n",
       "5                       male    M   \n",
       "...                      ...  ...   \n",
       "5988                    male    M   \n",
       "5989         Rory Angiolella    M   \n",
       "5990                    male    M   \n",
       "5991          Chucky Luciano    M   \n",
       "5992                    male    M   \n",
       "\n",
       "                                                  Injury Fatal (Y/N)   Time  \\\n",
       "Casos                                                                         \n",
       "1      FATAL. \"Shark bit him in half, carrying away t...           Y    NaN   \n",
       "2                                                  FATAL           Y    NaN   \n",
       "3                                                  FATAL           Y    NaN   \n",
       "4                                                  FATAL           Y    NaN   \n",
       "5                                                  FATAL           Y    NaN   \n",
       "...                                                  ...         ...    ...   \n",
       "5988               No injury: Knocked off board by shark           N    NaN   \n",
       "5989                        Struck by fin on chest & leg           N    NaN   \n",
       "5990                            Lacerations to lower leg           N  10h43   \n",
       "5991                                Lacerations to hands           N  11h00   \n",
       "5992                               Minor injury to thigh           N  13h00   \n",
       "\n",
       "                      Investigator or Source  \\\n",
       "Casos                                          \n",
       "1                                 S.W. Baker   \n",
       "2                        The Sun, 10/20/1938   \n",
       "3       F. Schwartz, p.23; C. Creswell, GSAF   \n",
       "4      H. Taunton; N. Bartlett,  pp. 233-234   \n",
       "5           H. Taunton; N. Bartlett,  p. 234   \n",
       "...                                      ...   \n",
       "5988                      The Age, 9/16/2016   \n",
       "5989                      The Age, 9/18/2016   \n",
       "5990             Orlando Sentinel, 9/19/2016   \n",
       "5991             Orlando Sentinel, 9/19/2016   \n",
       "5992             Orlando Sentinel, 9/19/2016   \n",
       "\n",
       "                                            href formula  \n",
       "Casos                                                     \n",
       "1      http://sharkattackfile.net/spreadsheets/pdf_di...  \n",
       "2      http://sharkattackfile.net/spreadsheets/pdf_di...  \n",
       "3      http://sharkattackfile.net/spreadsheets/pdf_di...  \n",
       "4      http://sharkattackfile.net/spreadsheets/pdf_di...  \n",
       "5      http://sharkattackfile.net/spreadsheets/pdf_di...  \n",
       "...                                                  ...  \n",
       "5988   http://sharkattackfile.net/spreadsheets/pdf_di...  \n",
       "5989   http://sharkattackfile.net/spreadsheets/pdf_di...  \n",
       "5990   http://sharkattackfile.net/spreadsheets/pdf_di...  \n",
       "5991   http://sharkattackfile.net/spreadsheets/pdf_di...  \n",
       "5992   http://sharkattackfile.net/spreadsheets/pdf_di...  \n",
       "\n",
       "[5992 rows x 14 columns]"
      ]
     },
     "execution_count": 49,
     "metadata": {},
     "output_type": "execute_result"
    }
   ],
   "source": [
    "df"
   ]
  },
  {
   "cell_type": "markdown",
   "id": "a1c22f17",
   "metadata": {
    "heading_collapsed": true
   },
   "source": [
    "### Columnas: \"Date\",\"Year\",\"Time\""
   ]
  },
  {
   "cell_type": "markdown",
   "id": "2786eab2",
   "metadata": {
    "hidden": true
   },
   "source": [
    "#### Analisis de las columnas, cosas en comun y diferencias"
   ]
  },
  {
   "cell_type": "code",
   "execution_count": 50,
   "id": "fc59c49d",
   "metadata": {
    "ExecuteTime": {
     "end_time": "2021-11-01T11:38:46.460517Z",
     "start_time": "2021-11-01T11:38:46.444518Z"
    },
    "hidden": true
   },
   "outputs": [
    {
     "data": {
      "text/html": [
       "<div>\n",
       "<style scoped>\n",
       "    .dataframe tbody tr th:only-of-type {\n",
       "        vertical-align: middle;\n",
       "    }\n",
       "\n",
       "    .dataframe tbody tr th {\n",
       "        vertical-align: top;\n",
       "    }\n",
       "\n",
       "    .dataframe thead th {\n",
       "        text-align: right;\n",
       "    }\n",
       "</style>\n",
       "<table border=\"1\" class=\"dataframe\">\n",
       "  <thead>\n",
       "    <tr style=\"text-align: right;\">\n",
       "      <th></th>\n",
       "      <th>Date</th>\n",
       "      <th>Year</th>\n",
       "      <th>Time</th>\n",
       "    </tr>\n",
       "    <tr>\n",
       "      <th>Casos</th>\n",
       "      <th></th>\n",
       "      <th></th>\n",
       "      <th></th>\n",
       "    </tr>\n",
       "  </thead>\n",
       "  <tbody>\n",
       "    <tr>\n",
       "      <th>1</th>\n",
       "      <td>1845-1853</td>\n",
       "      <td>0</td>\n",
       "      <td>NaN</td>\n",
       "    </tr>\n",
       "    <tr>\n",
       "      <th>2</th>\n",
       "      <td>1883-1889</td>\n",
       "      <td>0</td>\n",
       "      <td>NaN</td>\n",
       "    </tr>\n",
       "    <tr>\n",
       "      <th>3</th>\n",
       "      <td>1900-1905</td>\n",
       "      <td>0</td>\n",
       "      <td>NaN</td>\n",
       "    </tr>\n",
       "    <tr>\n",
       "      <th>4</th>\n",
       "      <td>Before 1903</td>\n",
       "      <td>0</td>\n",
       "      <td>NaN</td>\n",
       "    </tr>\n",
       "    <tr>\n",
       "      <th>5</th>\n",
       "      <td>Before 1903</td>\n",
       "      <td>0</td>\n",
       "      <td>NaN</td>\n",
       "    </tr>\n",
       "  </tbody>\n",
       "</table>\n",
       "</div>"
      ],
      "text/plain": [
       "              Date  Year Time\n",
       "Casos                        \n",
       "1        1845-1853     0  NaN\n",
       "2        1883-1889     0  NaN\n",
       "3        1900-1905     0  NaN\n",
       "4      Before 1903     0  NaN\n",
       "5      Before 1903     0  NaN"
      ]
     },
     "execution_count": 50,
     "metadata": {},
     "output_type": "execute_result"
    }
   ],
   "source": [
    "# Vamos con las columnas de Date,year y time\n",
    "#Objetivo unificar a una sola tabla\n",
    "df[[\"Date\",\"Year\", \"Time\"]].head(5)"
   ]
  },
  {
   "cell_type": "code",
   "execution_count": 51,
   "id": "1f37482e",
   "metadata": {
    "ExecuteTime": {
     "end_time": "2021-11-01T11:38:46.476520Z",
     "start_time": "2021-11-01T11:38:46.460517Z"
    },
    "hidden": true
   },
   "outputs": [
    {
     "data": {
      "text/plain": [
       "Date       0\n",
       "Year       0\n",
       "Time    3213\n",
       "dtype: int64"
      ]
     },
     "execution_count": 51,
     "metadata": {},
     "output_type": "execute_result"
    }
   ],
   "source": [
    "df[[\"Date\",\"Year\", \"Time\"]].isna().sum()"
   ]
  },
  {
   "cell_type": "markdown",
   "id": "52b6e2b5",
   "metadata": {
    "hidden": true
   },
   "source": [
    "#### Agrupacion de las tres columnas en una"
   ]
  },
  {
   "cell_type": "code",
   "execution_count": 52,
   "id": "ccfe7b73",
   "metadata": {
    "ExecuteTime": {
     "end_time": "2021-11-01T11:38:46.492559Z",
     "start_time": "2021-11-01T11:38:46.476520Z"
    },
    "hidden": true
   },
   "outputs": [],
   "source": [
    "#Con tantos valor nulo en Time, la borramos\n",
    "df.drop(\"Time\",axis=1,inplace=True)"
   ]
  },
  {
   "cell_type": "code",
   "execution_count": 53,
   "id": "44458daf",
   "metadata": {
    "ExecuteTime": {
     "end_time": "2021-11-01T11:38:46.505044Z",
     "start_time": "2021-11-01T11:38:46.492559Z"
    },
    "hidden": true
   },
   "outputs": [
    {
     "data": {
      "text/plain": [
       "5128"
      ]
     },
     "execution_count": 53,
     "metadata": {},
     "output_type": "execute_result"
    }
   ],
   "source": [
    "#Analizamos la variable Date\n",
    "df[\"Date\"].nunique()"
   ]
  },
  {
   "cell_type": "code",
   "execution_count": 54,
   "id": "013139be",
   "metadata": {
    "ExecuteTime": {
     "end_time": "2021-11-01T11:38:46.521038Z",
     "start_time": "2021-11-01T11:38:46.505044Z"
    },
    "hidden": true
   },
   "outputs": [
    {
     "data": {
      "text/plain": [
       "Casos\n",
       "1796           1952\n",
       "735          Jul-05\n",
       "4337      03-Mar-02\n",
       "520     21-Jul-1889\n",
       "5177      15-Feb-10\n",
       "1747      25-Jun-50\n",
       "4608      05-Mar-05\n",
       "2428      30-Sep-62\n",
       "4486      14-Oct-03\n",
       "Name: Date, dtype: object"
      ]
     },
     "execution_count": 54,
     "metadata": {},
     "output_type": "execute_result"
    }
   ],
   "source": [
    "#la columna Date es tipo objeto con demasiados valores unicos, decido agruparla en la columna Año ya que no hay suficientes registros con los dias y los meses\n",
    "df.Date.sample(n=9)"
   ]
  },
  {
   "cell_type": "code",
   "execution_count": 55,
   "id": "c58687f4",
   "metadata": {
    "ExecuteTime": {
     "end_time": "2021-11-01T11:38:46.537052Z",
     "start_time": "2021-11-01T11:38:46.521038Z"
    },
    "hidden": true,
    "scrolled": true
   },
   "outputs": [
    {
     "data": {
      "text/plain": [
       "2015    139\n",
       "2011    128\n",
       "2014    125\n",
       "0       124\n",
       "2013    122\n",
       "       ... \n",
       "1854      1\n",
       "1850      1\n",
       "1846      1\n",
       "1834      1\n",
       "1554      1\n",
       "Name: Year, Length: 232, dtype: int64"
      ]
     },
     "execution_count": 55,
     "metadata": {},
     "output_type": "execute_result"
    }
   ],
   "source": [
    "#Esta columna ya son valores int, el problema son los casos ocurridos en el 0\n",
    "df.Year.value_counts()"
   ]
  },
  {
   "cell_type": "markdown",
   "id": "64d97dac",
   "metadata": {
    "hidden": true
   },
   "source": [
    "**La cantidad de valores nulos y de valores diferentes de las columna Time y Date no lo veo aprovechable, me quedo con los años**"
   ]
  },
  {
   "cell_type": "code",
   "execution_count": 56,
   "id": "e5dce8a4",
   "metadata": {
    "ExecuteTime": {
     "end_time": "2021-11-01T11:38:46.553108Z",
     "start_time": "2021-11-01T11:38:46.537052Z"
    },
    "code_folding": [],
    "hidden": true
   },
   "outputs": [],
   "source": [
    "#Opciones con los años 0: Borrar esos registros, poner la media o la mediana\n",
    "mediana=df.Year.median()\n",
    "#elijo la mediana ya que creo que es mas correcto"
   ]
  },
  {
   "cell_type": "code",
   "execution_count": 57,
   "id": "07f023b3",
   "metadata": {
    "ExecuteTime": {
     "end_time": "2021-11-01T11:38:46.562398Z",
     "start_time": "2021-11-01T11:38:46.553108Z"
    },
    "hidden": true
   },
   "outputs": [],
   "source": [
    "#Creo una funcion para que me cambie los valores 0 por la mediana de los años\n",
    "def años(año):\n",
    "    if año==0:\n",
    "        return int(mediana)\n",
    "    else:\n",
    "        return año\n"
   ]
  },
  {
   "cell_type": "code",
   "execution_count": 58,
   "id": "3004c518",
   "metadata": {
    "ExecuteTime": {
     "end_time": "2021-11-01T11:38:46.574194Z",
     "start_time": "2021-11-01T11:38:46.562398Z"
    },
    "hidden": true
   },
   "outputs": [],
   "source": [
    "#aplico la funcion que cambiara los valores 0 al valor de la mediana\n",
    "df[\"Year\"]=df[\"Year\"].apply(años)"
   ]
  },
  {
   "cell_type": "code",
   "execution_count": 59,
   "id": "10303283",
   "metadata": {
    "ExecuteTime": {
     "end_time": "2021-11-01T11:38:46.591773Z",
     "start_time": "2021-11-01T11:38:46.576598Z"
    },
    "hidden": true
   },
   "outputs": [
    {
     "data": {
      "text/plain": [
       "1975    173\n",
       "2015    139\n",
       "2011    128\n",
       "2014    125\n",
       "2013    122\n",
       "       ... \n",
       "1850      1\n",
       "1846      1\n",
       "1834      1\n",
       "1822      1\n",
       "1554      1\n",
       "Name: Year, Length: 231, dtype: int64"
      ]
     },
     "execution_count": 59,
     "metadata": {},
     "output_type": "execute_result"
    }
   ],
   "source": [
    "df.Year.value_counts()"
   ]
  },
  {
   "cell_type": "code",
   "execution_count": 60,
   "id": "9d918b93",
   "metadata": {
    "ExecuteTime": {
     "end_time": "2021-11-01T11:38:46.608045Z",
     "start_time": "2021-11-01T11:38:46.591773Z"
    },
    "hidden": true
   },
   "outputs": [],
   "source": [
    "#elimino la columna Date\n",
    "df.drop(\"Date\",axis=1,inplace=True)"
   ]
  },
  {
   "cell_type": "markdown",
   "id": "af6f425d",
   "metadata": {
    "ExecuteTime": {
     "end_time": "2021-10-30T17:27:32.779618Z",
     "start_time": "2021-10-30T17:27:32.768982Z"
    },
    "heading_collapsed": true
   },
   "source": [
    "### Columnas: \"Name\" y \"Sex \""
   ]
  },
  {
   "cell_type": "markdown",
   "id": "7f125e0e",
   "metadata": {
    "heading_collapsed": true,
    "hidden": true
   },
   "source": [
    "#### Analisis inicial de las columnas"
   ]
  },
  {
   "cell_type": "code",
   "execution_count": 61,
   "id": "3596d616",
   "metadata": {
    "ExecuteTime": {
     "end_time": "2021-11-01T11:38:46.629282Z",
     "start_time": "2021-11-01T11:38:46.608546Z"
    },
    "hidden": true
   },
   "outputs": [],
   "source": [
    "#Primero le quito el espacion al nombre de la columna \"Sex \"\n",
    "df.columns=(['Year', 'Type', 'Country', 'Area', 'Location', 'Activity', 'Name',\n",
    "       'Sex', 'Injury', 'Fatal (Y/N)', 'Investigator or Source',\n",
    "       'href formula'])"
   ]
  },
  {
   "cell_type": "code",
   "execution_count": 62,
   "id": "aa44d539",
   "metadata": {
    "ExecuteTime": {
     "end_time": "2021-11-01T11:38:46.645246Z",
     "start_time": "2021-11-01T11:38:46.629282Z"
    },
    "hidden": true
   },
   "outputs": [
    {
     "data": {
      "text/plain": [
       "Sex     567\n",
       "Name    200\n",
       "dtype: int64"
      ]
     },
     "execution_count": 62,
     "metadata": {},
     "output_type": "execute_result"
    }
   ],
   "source": [
    "df[[\"Sex\",\"Name\"]].isna().sum()"
   ]
  },
  {
   "cell_type": "code",
   "execution_count": 63,
   "id": "06b6a1ac",
   "metadata": {
    "ExecuteTime": {
     "end_time": "2021-11-01T11:38:46.661141Z",
     "start_time": "2021-11-01T11:38:46.645246Z"
    },
    "hidden": true
   },
   "outputs": [
    {
     "data": {
      "text/plain": [
       "5009"
      ]
     },
     "execution_count": 63,
     "metadata": {},
     "output_type": "execute_result"
    }
   ],
   "source": [
    "#Analisis de la columna name\n",
    "df[\"Name\"].nunique()"
   ]
  },
  {
   "cell_type": "code",
   "execution_count": 64,
   "id": "b761cc82",
   "metadata": {
    "ExecuteTime": {
     "end_time": "2021-11-01T11:38:46.677094Z",
     "start_time": "2021-11-01T11:38:46.661141Z"
    },
    "hidden": true
   },
   "outputs": [
    {
     "data": {
      "text/plain": [
       "Casos\n",
       "857                                                  male\n",
       "1797                                     Kiaploki, a male\n",
       "4575                                         Megan Durham\n",
       "5277                                        Metereti Jeke\n",
       "1347    22' boat, occupants: Saul White & Charles Dill...\n",
       "5776                                         Rick Neumann\n",
       "2302                                     James K. Stewart\n",
       "4192                                       Margaret White\n",
       "Name: Name, dtype: object"
      ]
     },
     "execution_count": 64,
     "metadata": {},
     "output_type": "execute_result"
    }
   ],
   "source": [
    "#Demasiada variedad en el formato y en las anotaciones, otra columna que borramos y agruparemos por sexo\n",
    "df[\"Name\"].sample(n=8)"
   ]
  },
  {
   "cell_type": "code",
   "execution_count": 65,
   "id": "a91c725d",
   "metadata": {
    "ExecuteTime": {
     "end_time": "2021-11-01T11:38:46.709248Z",
     "start_time": "2021-11-01T11:38:46.677094Z"
    },
    "hidden": true
   },
   "outputs": [
    {
     "data": {
      "text/html": [
       "<div>\n",
       "<style scoped>\n",
       "    .dataframe tbody tr th:only-of-type {\n",
       "        vertical-align: middle;\n",
       "    }\n",
       "\n",
       "    .dataframe tbody tr th {\n",
       "        vertical-align: top;\n",
       "    }\n",
       "\n",
       "    .dataframe thead th {\n",
       "        text-align: right;\n",
       "    }\n",
       "</style>\n",
       "<table border=\"1\" class=\"dataframe\">\n",
       "  <thead>\n",
       "    <tr style=\"text-align: right;\">\n",
       "      <th></th>\n",
       "      <th>Year</th>\n",
       "      <th>Type</th>\n",
       "      <th>Country</th>\n",
       "      <th>Area</th>\n",
       "      <th>Location</th>\n",
       "      <th>Activity</th>\n",
       "      <th>Name</th>\n",
       "      <th>Sex</th>\n",
       "      <th>Injury</th>\n",
       "      <th>Fatal (Y/N)</th>\n",
       "      <th>Investigator or Source</th>\n",
       "      <th>href formula</th>\n",
       "    </tr>\n",
       "    <tr>\n",
       "      <th>Casos</th>\n",
       "      <th></th>\n",
       "      <th></th>\n",
       "      <th></th>\n",
       "      <th></th>\n",
       "      <th></th>\n",
       "      <th></th>\n",
       "      <th></th>\n",
       "      <th></th>\n",
       "      <th></th>\n",
       "      <th></th>\n",
       "      <th></th>\n",
       "      <th></th>\n",
       "    </tr>\n",
       "  </thead>\n",
       "  <tbody>\n",
       "    <tr>\n",
       "      <th>15</th>\n",
       "      <td>1975</td>\n",
       "      <td>Unprovoked</td>\n",
       "      <td>FIJI</td>\n",
       "      <td>Moala Island</td>\n",
       "      <td>NaN</td>\n",
       "      <td>Wreck of  large double sailing canoe</td>\n",
       "      <td>20 Fijians</td>\n",
       "      <td>NaN</td>\n",
       "      <td>FATAL, 18 people  were killed by sharks, 2 sur...</td>\n",
       "      <td>Y</td>\n",
       "      <td>Fijian Society papers presented April 17, 1918...</td>\n",
       "      <td>http://sharkattackfile.net/spreadsheets/pdf_di...</td>\n",
       "    </tr>\n",
       "    <tr>\n",
       "      <th>24</th>\n",
       "      <td>1975</td>\n",
       "      <td>Unprovoked</td>\n",
       "      <td>REUNION</td>\n",
       "      <td>Saint-Denis</td>\n",
       "      <td>Barachois</td>\n",
       "      <td>Swimming</td>\n",
       "      <td>NaN</td>\n",
       "      <td>NaN</td>\n",
       "      <td>FATAL</td>\n",
       "      <td>Y</td>\n",
       "      <td>G. Van Grevelynghe</td>\n",
       "      <td>http://sharkattackfile.net/spreadsheets/pdf_di...</td>\n",
       "    </tr>\n",
       "    <tr>\n",
       "      <th>43</th>\n",
       "      <td>1975</td>\n",
       "      <td>Sea Disaster</td>\n",
       "      <td>NaN</td>\n",
       "      <td>NaN</td>\n",
       "      <td>NaN</td>\n",
       "      <td>A group of survivors on a raft for 17-days</td>\n",
       "      <td>C.</td>\n",
       "      <td>NaN</td>\n",
       "      <td>FATAL, shark leapt into raft and bit the man w...</td>\n",
       "      <td>Y</td>\n",
       "      <td>G.A. Llano in Airmen Against the Sea, p.69</td>\n",
       "      <td>http://sharkattackfile.net/spreadsheets/pdf_di...</td>\n",
       "    </tr>\n",
       "    <tr>\n",
       "      <th>65</th>\n",
       "      <td>1975</td>\n",
       "      <td>Unprovoked</td>\n",
       "      <td>SINGAPORE</td>\n",
       "      <td>NaN</td>\n",
       "      <td>Keppel Harbor,  2 miles from Singapore city ce...</td>\n",
       "      <td>Swimming</td>\n",
       "      <td>NaN</td>\n",
       "      <td>NaN</td>\n",
       "      <td>Recovered</td>\n",
       "      <td>N</td>\n",
       "      <td>V.M. Coppleson (1958), p.266</td>\n",
       "      <td>http://sharkattackfile.net/spreadsheets/pdf_di...</td>\n",
       "    </tr>\n",
       "    <tr>\n",
       "      <th>83</th>\n",
       "      <td>1975</td>\n",
       "      <td>Unprovoked</td>\n",
       "      <td>SOLOMON ISLANDS</td>\n",
       "      <td>Malaita Province</td>\n",
       "      <td>Waibana Passage</td>\n",
       "      <td>Diving</td>\n",
       "      <td>Albert Raiti</td>\n",
       "      <td>NaN</td>\n",
       "      <td>Lacerations to hands and knee</td>\n",
       "      <td>N</td>\n",
       "      <td>Islands Magazine, 2/1998, p.76</td>\n",
       "      <td>http://sharkattackfile.net/spreadsheets/pdf_di...</td>\n",
       "    </tr>\n",
       "    <tr>\n",
       "      <th>...</th>\n",
       "      <td>...</td>\n",
       "      <td>...</td>\n",
       "      <td>...</td>\n",
       "      <td>...</td>\n",
       "      <td>...</td>\n",
       "      <td>...</td>\n",
       "      <td>...</td>\n",
       "      <td>...</td>\n",
       "      <td>...</td>\n",
       "      <td>...</td>\n",
       "      <td>...</td>\n",
       "      <td>...</td>\n",
       "    </tr>\n",
       "    <tr>\n",
       "      <th>5767</th>\n",
       "      <td>2015</td>\n",
       "      <td>Boat</td>\n",
       "      <td>ATLANTIC OCEAN</td>\n",
       "      <td>NaN</td>\n",
       "      <td>NaN</td>\n",
       "      <td>Transatlantic Rowing</td>\n",
       "      <td>Avalon, a carbon kevlar monohull: 8 occupants</td>\n",
       "      <td>NaN</td>\n",
       "      <td>No injury, shark bit rudder</td>\n",
       "      <td>N</td>\n",
       "      <td>Yorkshire Post, 3/16/2014</td>\n",
       "      <td>http://sharkattackfile.net/spreadsheets/pdf_di...</td>\n",
       "    </tr>\n",
       "    <tr>\n",
       "      <th>5883</th>\n",
       "      <td>2015</td>\n",
       "      <td>Boat</td>\n",
       "      <td>AUSTRALIA</td>\n",
       "      <td>New South Wales</td>\n",
       "      <td>Lake Macquarie</td>\n",
       "      <td>Fishing</td>\n",
       "      <td>6 m boat: occupants  Stephen &amp; Andrew Crust</td>\n",
       "      <td>NaN</td>\n",
       "      <td>No injury, shark rammed boat &amp; bit motor</td>\n",
       "      <td>N</td>\n",
       "      <td>Courier Mail, 12/15/2015</td>\n",
       "      <td>http://sharkattackfile.net/spreadsheets/pdf_di...</td>\n",
       "    </tr>\n",
       "    <tr>\n",
       "      <th>5911</th>\n",
       "      <td>2016</td>\n",
       "      <td>Invalid</td>\n",
       "      <td>USA</td>\n",
       "      <td>California</td>\n",
       "      <td>Bolsa Chica State Park, Orange County</td>\n",
       "      <td>Surfing</td>\n",
       "      <td>unknown</td>\n",
       "      <td>NaN</td>\n",
       "      <td>Board reportedly bumped by shark. No injury</td>\n",
       "      <td>N</td>\n",
       "      <td>Orange County Register, 3/13/2016</td>\n",
       "      <td>http://sharkattackfile.net/spreadsheets/pdf_di...</td>\n",
       "    </tr>\n",
       "    <tr>\n",
       "      <th>5963</th>\n",
       "      <td>2016</td>\n",
       "      <td>Boat</td>\n",
       "      <td>USA</td>\n",
       "      <td>Alabama</td>\n",
       "      <td>8 miles off Mobile</td>\n",
       "      <td>Fishing in Alabama Deep Fishing Rodeo</td>\n",
       "      <td>Occupant: Ben Raines</td>\n",
       "      <td>NaN</td>\n",
       "      <td>No injury, shark bit trolling motor</td>\n",
       "      <td>N</td>\n",
       "      <td>Al.com, 7/19/2016</td>\n",
       "      <td>http://sharkattackfile.net/spreadsheets/pdf_di...</td>\n",
       "    </tr>\n",
       "    <tr>\n",
       "      <th>5987</th>\n",
       "      <td>2016</td>\n",
       "      <td>Boat</td>\n",
       "      <td>AUSTRALIA</td>\n",
       "      <td>Western Australia</td>\n",
       "      <td>Bunbury</td>\n",
       "      <td>Fishing</td>\n",
       "      <td>Occupant: Ben Stratton</td>\n",
       "      <td>NaN</td>\n",
       "      <td>Shark rammed boat. No injury to occupant</td>\n",
       "      <td>N</td>\n",
       "      <td>West Australian, 9/15/2016</td>\n",
       "      <td>http://sharkattackfile.net/spreadsheets/pdf_di...</td>\n",
       "    </tr>\n",
       "  </tbody>\n",
       "</table>\n",
       "<p>567 rows × 12 columns</p>\n",
       "</div>"
      ],
      "text/plain": [
       "       Year          Type          Country               Area  \\\n",
       "Casos                                                           \n",
       "15     1975    Unprovoked             FIJI       Moala Island   \n",
       "24     1975    Unprovoked          REUNION        Saint-Denis   \n",
       "43     1975  Sea Disaster              NaN                NaN   \n",
       "65     1975    Unprovoked        SINGAPORE                NaN   \n",
       "83     1975    Unprovoked  SOLOMON ISLANDS   Malaita Province   \n",
       "...     ...           ...              ...                ...   \n",
       "5767   2015          Boat   ATLANTIC OCEAN                NaN   \n",
       "5883   2015          Boat        AUSTRALIA    New South Wales   \n",
       "5911   2016       Invalid              USA         California   \n",
       "5963   2016          Boat              USA            Alabama   \n",
       "5987   2016          Boat        AUSTRALIA  Western Australia   \n",
       "\n",
       "                                                Location  \\\n",
       "Casos                                                      \n",
       "15                                                   NaN   \n",
       "24                                             Barachois   \n",
       "43                                                   NaN   \n",
       "65     Keppel Harbor,  2 miles from Singapore city ce...   \n",
       "83                                       Waibana Passage   \n",
       "...                                                  ...   \n",
       "5767                                                 NaN   \n",
       "5883                                      Lake Macquarie   \n",
       "5911               Bolsa Chica State Park, Orange County   \n",
       "5963                                  8 miles off Mobile   \n",
       "5987                                             Bunbury   \n",
       "\n",
       "                                         Activity  \\\n",
       "Casos                                               \n",
       "15           Wreck of  large double sailing canoe   \n",
       "24                                       Swimming   \n",
       "43     A group of survivors on a raft for 17-days   \n",
       "65                                       Swimming   \n",
       "83                                         Diving   \n",
       "...                                           ...   \n",
       "5767                         Transatlantic Rowing   \n",
       "5883                                      Fishing   \n",
       "5911                                      Surfing   \n",
       "5963        Fishing in Alabama Deep Fishing Rodeo   \n",
       "5987                                      Fishing   \n",
       "\n",
       "                                                Name  Sex  \\\n",
       "Casos                                                       \n",
       "15                                        20 Fijians  NaN   \n",
       "24                                               NaN  NaN   \n",
       "43                                                C.  NaN   \n",
       "65                                               NaN  NaN   \n",
       "83                                      Albert Raiti  NaN   \n",
       "...                                              ...  ...   \n",
       "5767   Avalon, a carbon kevlar monohull: 8 occupants  NaN   \n",
       "5883     6 m boat: occupants  Stephen & Andrew Crust  NaN   \n",
       "5911                                         unknown  NaN   \n",
       "5963                            Occupant: Ben Raines  NaN   \n",
       "5987                          Occupant: Ben Stratton  NaN   \n",
       "\n",
       "                                                  Injury Fatal (Y/N)  \\\n",
       "Casos                                                                  \n",
       "15     FATAL, 18 people  were killed by sharks, 2 sur...           Y   \n",
       "24                                                 FATAL           Y   \n",
       "43     FATAL, shark leapt into raft and bit the man w...           Y   \n",
       "65                                             Recovered           N   \n",
       "83                         Lacerations to hands and knee           N   \n",
       "...                                                  ...         ...   \n",
       "5767                         No injury, shark bit rudder           N   \n",
       "5883            No injury, shark rammed boat & bit motor           N   \n",
       "5911         Board reportedly bumped by shark. No injury           N   \n",
       "5963                 No injury, shark bit trolling motor           N   \n",
       "5987            Shark rammed boat. No injury to occupant           N   \n",
       "\n",
       "                                  Investigator or Source  \\\n",
       "Casos                                                      \n",
       "15     Fijian Society papers presented April 17, 1918...   \n",
       "24                                    G. Van Grevelynghe   \n",
       "43            G.A. Llano in Airmen Against the Sea, p.69   \n",
       "65                          V.M. Coppleson (1958), p.266   \n",
       "83                        Islands Magazine, 2/1998, p.76   \n",
       "...                                                  ...   \n",
       "5767                           Yorkshire Post, 3/16/2014   \n",
       "5883                            Courier Mail, 12/15/2015   \n",
       "5911                   Orange County Register, 3/13/2016   \n",
       "5963                                   Al.com, 7/19/2016   \n",
       "5987                          West Australian, 9/15/2016   \n",
       "\n",
       "                                            href formula  \n",
       "Casos                                                     \n",
       "15     http://sharkattackfile.net/spreadsheets/pdf_di...  \n",
       "24     http://sharkattackfile.net/spreadsheets/pdf_di...  \n",
       "43     http://sharkattackfile.net/spreadsheets/pdf_di...  \n",
       "65     http://sharkattackfile.net/spreadsheets/pdf_di...  \n",
       "83     http://sharkattackfile.net/spreadsheets/pdf_di...  \n",
       "...                                                  ...  \n",
       "5767   http://sharkattackfile.net/spreadsheets/pdf_di...  \n",
       "5883   http://sharkattackfile.net/spreadsheets/pdf_di...  \n",
       "5911   http://sharkattackfile.net/spreadsheets/pdf_di...  \n",
       "5963   http://sharkattackfile.net/spreadsheets/pdf_di...  \n",
       "5987   http://sharkattackfile.net/spreadsheets/pdf_di...  \n",
       "\n",
       "[567 rows x 12 columns]"
      ]
     },
     "execution_count": 65,
     "metadata": {},
     "output_type": "execute_result"
    }
   ],
   "source": [
    "df[df[\"Sex\"].isna()]"
   ]
  },
  {
   "cell_type": "code",
   "execution_count": 66,
   "id": "e46d2b5a",
   "metadata": {
    "ExecuteTime": {
     "end_time": "2021-11-01T11:38:46.725719Z",
     "start_time": "2021-11-01T11:38:46.709248Z"
    },
    "hidden": true
   },
   "outputs": [
    {
     "data": {
      "text/plain": [
       "{'.', 'F', 'M', 'M ', 'N', 'lli', nan}"
      ]
     },
     "execution_count": 66,
     "metadata": {},
     "output_type": "execute_result"
    }
   ],
   "source": [
    "#Vamos a analizar los valores\n",
    "set(df[\"Sex\"])"
   ]
  },
  {
   "cell_type": "code",
   "execution_count": 67,
   "id": "deefc880",
   "metadata": {
    "ExecuteTime": {
     "end_time": "2021-11-01T11:38:46.746339Z",
     "start_time": "2021-11-01T11:38:46.726765Z"
    },
    "hidden": true,
    "scrolled": true
   },
   "outputs": [
    {
     "data": {
      "text/plain": [
       "M      4835\n",
       "F       585\n",
       "M         2\n",
       ".         1\n",
       "N         1\n",
       "lli       1\n",
       "Name: Sex, dtype: int64"
      ]
     },
     "execution_count": 67,
     "metadata": {},
     "output_type": "execute_result"
    }
   ],
   "source": [
    "df[\"Sex\"].value_counts()\n",
    "#Homogenizamos los M, y el resto "
   ]
  },
  {
   "cell_type": "markdown",
   "id": "792730d3",
   "metadata": {
    "heading_collapsed": true,
    "hidden": true
   },
   "source": [
    "####  Conclusiones y cambios"
   ]
  },
  {
   "cell_type": "code",
   "execution_count": 68,
   "id": "e46be974",
   "metadata": {
    "ExecuteTime": {
     "end_time": "2021-11-01T11:38:46.762530Z",
     "start_time": "2021-11-01T11:38:46.746339Z"
    },
    "hidden": true
   },
   "outputs": [],
   "source": [
    "#Los M con espacio los agrupo en \"M\", los valores \"lli\",\".\" y \"N\" asi como los valores nulos iran a ND(No determinado)\n",
    "def genero(x):\n",
    "    if x==\"M \":\n",
    "        return \"M\"\n",
    "    elif x==\"M\" or x==\"F\":\n",
    "        return x\n",
    "    else:\n",
    "        return \"ND\"\n",
    "    \n"
   ]
  },
  {
   "cell_type": "code",
   "execution_count": 69,
   "id": "fbe1f626",
   "metadata": {
    "ExecuteTime": {
     "end_time": "2021-11-01T11:38:46.784553Z",
     "start_time": "2021-11-01T11:38:46.762530Z"
    },
    "hidden": true
   },
   "outputs": [],
   "source": [
    "df[\"Sex\"]=df[\"Sex\"].apply(genero)"
   ]
  },
  {
   "cell_type": "code",
   "execution_count": 70,
   "id": "aa15916c",
   "metadata": {
    "ExecuteTime": {
     "end_time": "2021-11-01T11:38:46.799293Z",
     "start_time": "2021-11-01T11:38:46.784553Z"
    },
    "hidden": true
   },
   "outputs": [],
   "source": [
    "#Borramos la columna name\n",
    "df.drop(\"Name\",axis=1,inplace=True)"
   ]
  },
  {
   "cell_type": "markdown",
   "id": "f57466fa",
   "metadata": {
    "heading_collapsed": true
   },
   "source": [
    "### Columnas: \"Injury\" y \"Fatal (Y/N) \""
   ]
  },
  {
   "cell_type": "markdown",
   "id": "038d9d89",
   "metadata": {
    "hidden": true
   },
   "source": [
    "#### Analisis inicial de las columnas"
   ]
  },
  {
   "cell_type": "code",
   "execution_count": 71,
   "id": "826073c8",
   "metadata": {
    "ExecuteTime": {
     "end_time": "2021-11-01T11:38:46.817740Z",
     "start_time": "2021-11-01T11:38:46.799293Z"
    },
    "hidden": true
   },
   "outputs": [
    {
     "data": {
      "text/plain": [
       "Injury         27\n",
       "Fatal (Y/N)    19\n",
       "dtype: int64"
      ]
     },
     "execution_count": 71,
     "metadata": {},
     "output_type": "execute_result"
    }
   ],
   "source": [
    "df[[\"Injury\",\"Fatal (Y/N)\"]].isna().sum()"
   ]
  },
  {
   "cell_type": "code",
   "execution_count": 72,
   "id": "6a66a94f",
   "metadata": {
    "ExecuteTime": {
     "end_time": "2021-11-01T11:38:46.848165Z",
     "start_time": "2021-11-01T11:38:46.817740Z"
    },
    "hidden": true
   },
   "outputs": [
    {
     "data": {
      "text/plain": [
       "Injury         3595\n",
       "Fatal (Y/N)       8\n",
       "dtype: int64"
      ]
     },
     "execution_count": 72,
     "metadata": {},
     "output_type": "execute_result"
    }
   ],
   "source": [
    "#cantidad de valores tiene cada uno\n",
    "df[[\"Injury\",\"Fatal (Y/N)\"]].nunique()"
   ]
  },
  {
   "cell_type": "code",
   "execution_count": 73,
   "id": "98d67eab",
   "metadata": {
    "ExecuteTime": {
     "end_time": "2021-11-01T11:38:46.865385Z",
     "start_time": "2021-11-01T11:38:46.848165Z"
    },
    "hidden": true
   },
   "outputs": [
    {
     "data": {
      "text/plain": [
       "Injury         27\n",
       "Fatal (Y/N)    19\n",
       "dtype: int64"
      ]
     },
     "execution_count": 73,
     "metadata": {},
     "output_type": "execute_result"
    }
   ],
   "source": [
    "#No veo relevante el tantas categorias en injury\n",
    "df[[\"Injury\",\"Fatal (Y/N)\"]].isna().sum()"
   ]
  },
  {
   "cell_type": "markdown",
   "id": "3a10754e",
   "metadata": {
    "heading_collapsed": true,
    "hidden": true
   },
   "source": [
    "####  Conclusiones y cambios"
   ]
  },
  {
   "cell_type": "code",
   "execution_count": 74,
   "id": "1f492968",
   "metadata": {
    "ExecuteTime": {
     "end_time": "2021-11-01T11:38:46.876707Z",
     "start_time": "2021-11-01T11:38:46.865385Z"
    },
    "hidden": true,
    "scrolled": true
   },
   "outputs": [
    {
     "data": {
      "text/plain": [
       "Casos\n",
       "2006                 Injured by shark\n",
       "4486                      Foot bitten\n",
       "2863                   Bitten on legs\n",
       "5279    Severe injury to left forearm\n",
       "251                             FATAL\n",
       "Name: Injury, dtype: object"
      ]
     },
     "execution_count": 74,
     "metadata": {},
     "output_type": "execute_result"
    }
   ],
   "source": [
    "# No encuentro patron por lo que eliminaremos esta columna\n",
    "df[\"Injury\"].sample(n=5)"
   ]
  },
  {
   "cell_type": "code",
   "execution_count": 75,
   "id": "d5001afb",
   "metadata": {
    "ExecuteTime": {
     "end_time": "2021-11-01T11:38:46.893199Z",
     "start_time": "2021-11-01T11:38:46.879683Z"
    },
    "hidden": true
   },
   "outputs": [
    {
     "data": {
      "text/plain": [
       "N          4315\n",
       "Y          1552\n",
       "UNKNOWN      94\n",
       " N            8\n",
       "F             1\n",
       "#VALUE!       1\n",
       "N             1\n",
       "n             1\n",
       "Name: Fatal (Y/N), dtype: int64"
      ]
     },
     "execution_count": 75,
     "metadata": {},
     "output_type": "execute_result"
    }
   ],
   "source": [
    "#vamos a ver los valores de fatal\n",
    "df[\"Fatal (Y/N)\"].value_counts()"
   ]
  },
  {
   "cell_type": "markdown",
   "id": "69cc261e",
   "metadata": {
    "hidden": true
   },
   "source": [
    "Clasificacion de los valores:\n",
    "- N: No es fatal, sobrevive\n",
    "- Y: Fatal, No sobrevive\n",
    "- UNKNOWN: Desconocido\n",
    "- #VALUE!: Desconocido\n",
    "- F: Fatal, no sobrevive\n",
    "Creo una funcion para modificar los valores"
   ]
  },
  {
   "cell_type": "code",
   "execution_count": 76,
   "id": "b676107e",
   "metadata": {
    "ExecuteTime": {
     "end_time": "2021-11-01T11:38:46.909310Z",
     "start_time": "2021-11-01T11:38:46.893199Z"
    },
    "hidden": true
   },
   "outputs": [],
   "source": [
    "#Vamos a cambiar los valores a: Si, No, Desconocido\n",
    "def fatal(x):\n",
    "    if x==\"N\" or x==\"N \" or x==\" N\" or x==\"n\":\n",
    "        return \"Sobrevive\"\n",
    "    elif x==\"Y\" or x==\"F\":\n",
    "        return \"No sobrevive\"\n",
    "    else:\n",
    "        return \"Desconocido\""
   ]
  },
  {
   "cell_type": "code",
   "execution_count": 77,
   "id": "bcfbdcf6",
   "metadata": {
    "ExecuteTime": {
     "end_time": "2021-11-01T11:38:46.917409Z",
     "start_time": "2021-11-01T11:38:46.909310Z"
    },
    "hidden": true
   },
   "outputs": [],
   "source": [
    "#Aplicamos la funcion y cambio el nombre de la columna\n",
    "df[\"Supervivencia\"]=df[\"Fatal (Y/N)\"].apply(fatal)"
   ]
  },
  {
   "cell_type": "code",
   "execution_count": 78,
   "id": "bcba1729",
   "metadata": {
    "ExecuteTime": {
     "end_time": "2021-11-01T11:38:46.938874Z",
     "start_time": "2021-11-01T11:38:46.917409Z"
    },
    "hidden": true
   },
   "outputs": [],
   "source": [
    "#Borramos las columnas de injury y fatal\n",
    "df.drop([\"Injury\",\"Fatal (Y/N)\"],axis=1,inplace=True)"
   ]
  },
  {
   "cell_type": "markdown",
   "id": "ffb8debe",
   "metadata": {
    "heading_collapsed": true
   },
   "source": [
    "### Columnas: \"Activity\" "
   ]
  },
  {
   "cell_type": "markdown",
   "id": "8cf0de9a",
   "metadata": {
    "heading_collapsed": true,
    "hidden": true
   },
   "source": [
    "#### Analisis inicial de las columnas"
   ]
  },
  {
   "cell_type": "code",
   "execution_count": 79,
   "id": "94a2ba30",
   "metadata": {
    "ExecuteTime": {
     "end_time": "2021-11-01T11:38:46.964195Z",
     "start_time": "2021-11-01T11:38:46.940609Z"
    },
    "hidden": true
   },
   "outputs": [
    {
     "data": {
      "text/plain": [
       "1492"
      ]
     },
     "execution_count": 79,
     "metadata": {},
     "output_type": "execute_result"
    }
   ],
   "source": [
    "df.Activity.nunique()"
   ]
  },
  {
   "cell_type": "markdown",
   "id": "181ea2f5",
   "metadata": {
    "heading_collapsed": true,
    "hidden": true
   },
   "source": [
    "####  Conclusiones y cambios"
   ]
  },
  {
   "cell_type": "code",
   "execution_count": 80,
   "id": "768bc175",
   "metadata": {
    "ExecuteTime": {
     "end_time": "2021-11-01T11:38:46.972708Z",
     "start_time": "2021-11-01T11:38:46.964195Z"
    },
    "hidden": true
   },
   "outputs": [],
   "source": [
    "#Elijo las 14 mas comunes y el resto y los NA los clasificare como Otra actividad\n",
    "lista=df[\"Activity\"].value_counts().head(14)"
   ]
  },
  {
   "cell_type": "code",
   "execution_count": 81,
   "id": "f331dcb7",
   "metadata": {
    "ExecuteTime": {
     "end_time": "2021-11-01T11:38:46.988337Z",
     "start_time": "2021-11-01T11:38:46.975192Z"
    },
    "hidden": true
   },
   "outputs": [],
   "source": [
    "#Funcion para cambiar los valores\n",
    "def actividad(x):\n",
    "    if x in lista:\n",
    "        return x\n",
    "    else:\n",
    "        return \"Otra actividad\""
   ]
  },
  {
   "cell_type": "code",
   "execution_count": 82,
   "id": "0bbbc808",
   "metadata": {
    "ExecuteTime": {
     "end_time": "2021-11-01T11:38:47.006530Z",
     "start_time": "2021-11-01T11:38:46.988337Z"
    },
    "hidden": true
   },
   "outputs": [],
   "source": [
    "#Cambio los valores\n",
    "df[\"Activity\"]=df[\"Activity\"].apply(actividad)"
   ]
  },
  {
   "cell_type": "markdown",
   "id": "1cd64a5a",
   "metadata": {
    "heading_collapsed": true
   },
   "source": [
    "### Columnas:  \"Type\""
   ]
  },
  {
   "cell_type": "markdown",
   "id": "61d11fde",
   "metadata": {
    "hidden": true
   },
   "source": [
    "#### Analisis inicial de las columnas"
   ]
  },
  {
   "cell_type": "code",
   "execution_count": 83,
   "id": "6699bf32",
   "metadata": {
    "ExecuteTime": {
     "end_time": "2021-11-01T11:38:47.018396Z",
     "start_time": "2021-11-01T11:38:47.008265Z"
    },
    "hidden": true
   },
   "outputs": [
    {
     "data": {
      "text/plain": [
       "0"
      ]
     },
     "execution_count": 83,
     "metadata": {},
     "output_type": "execute_result"
    }
   ],
   "source": [
    "#No hay valores nulos\n",
    "df.Type.isna().sum()"
   ]
  },
  {
   "cell_type": "code",
   "execution_count": 84,
   "id": "9ea08a89",
   "metadata": {
    "ExecuteTime": {
     "end_time": "2021-11-01T11:38:47.034448Z",
     "start_time": "2021-11-01T11:38:47.018396Z"
    },
    "hidden": true
   },
   "outputs": [
    {
     "data": {
      "text/plain": [
       "6"
      ]
     },
     "execution_count": 84,
     "metadata": {},
     "output_type": "execute_result"
    }
   ],
   "source": [
    "df[\"Type\"].nunique()"
   ]
  },
  {
   "cell_type": "code",
   "execution_count": 85,
   "id": "d6b029f5",
   "metadata": {
    "ExecuteTime": {
     "end_time": "2021-11-01T11:38:47.050747Z",
     "start_time": "2021-11-01T11:38:47.034448Z"
    },
    "hidden": true
   },
   "outputs": [
    {
     "data": {
      "text/plain": [
       "Unprovoked      4386\n",
       "Provoked         557\n",
       "Invalid          519\n",
       "Sea Disaster     220\n",
       "Boat             200\n",
       "Boating          110\n",
       "Name: Type, dtype: int64"
      ]
     },
     "execution_count": 85,
     "metadata": {},
     "output_type": "execute_result"
    }
   ],
   "source": [
    "df[\"Type\"].value_counts()"
   ]
  },
  {
   "cell_type": "markdown",
   "id": "ca8207cf",
   "metadata": {
    "heading_collapsed": true,
    "hidden": true
   },
   "source": [
    "####  Conclusiones y cambios"
   ]
  },
  {
   "cell_type": "code",
   "execution_count": 86,
   "id": "c7af9d41",
   "metadata": {
    "ExecuteTime": {
     "end_time": "2021-11-01T11:38:47.066743Z",
     "start_time": "2021-11-01T11:38:47.050747Z"
    },
    "hidden": true
   },
   "outputs": [],
   "source": [
    "#Junto los valores de Boat y boating en Boat\n",
    "def typeBoat(x):\n",
    "    if x==\"Boating\":\n",
    "        return \"Boat\"\n",
    "    else:\n",
    "        return x"
   ]
  },
  {
   "cell_type": "code",
   "execution_count": 87,
   "id": "a0d2239e",
   "metadata": {
    "ExecuteTime": {
     "end_time": "2021-11-01T11:38:47.082744Z",
     "start_time": "2021-11-01T11:38:47.066743Z"
    },
    "hidden": true
   },
   "outputs": [],
   "source": [
    "df[\"Type\"]=df[\"Type\"].apply(typeBoat)"
   ]
  },
  {
   "cell_type": "code",
   "execution_count": 88,
   "id": "cfd881f1",
   "metadata": {
    "ExecuteTime": {
     "end_time": "2021-11-01T11:38:47.098747Z",
     "start_time": "2021-11-01T11:38:47.082744Z"
    },
    "hidden": true
   },
   "outputs": [
    {
     "data": {
      "text/plain": [
       "Unprovoked      4386\n",
       "Provoked         557\n",
       "Invalid          519\n",
       "Boat             310\n",
       "Sea Disaster     220\n",
       "Name: Type, dtype: int64"
      ]
     },
     "execution_count": 88,
     "metadata": {},
     "output_type": "execute_result"
    }
   ],
   "source": [
    "df.Type.value_counts()"
   ]
  },
  {
   "cell_type": "markdown",
   "id": "377ca27e",
   "metadata": {
    "heading_collapsed": true
   },
   "source": [
    "### Columna: \"Investigator or Source\"  "
   ]
  },
  {
   "cell_type": "markdown",
   "id": "8484fd54",
   "metadata": {
    "hidden": true
   },
   "source": [
    "#### Analisis inicial de las columnas"
   ]
  },
  {
   "cell_type": "code",
   "execution_count": 90,
   "id": "a5f596da",
   "metadata": {
    "ExecuteTime": {
     "end_time": "2021-11-01T11:38:47.136806Z",
     "start_time": "2021-11-01T11:38:47.120986Z"
    },
    "hidden": true
   },
   "outputs": [
    {
     "data": {
      "text/plain": [
       "15"
      ]
     },
     "execution_count": 90,
     "metadata": {},
     "output_type": "execute_result"
    }
   ],
   "source": [
    "#Hay muy pocos valores na\n",
    "df[\"Investigator or Source\"].isna().sum()"
   ]
  },
  {
   "cell_type": "code",
   "execution_count": 91,
   "id": "f2dad2e5",
   "metadata": {
    "ExecuteTime": {
     "end_time": "2021-11-01T11:38:47.162346Z",
     "start_time": "2021-11-01T11:38:47.136806Z"
    },
    "hidden": true
   },
   "outputs": [
    {
     "data": {
      "text/plain": [
       "4752"
      ]
     },
     "execution_count": 91,
     "metadata": {},
     "output_type": "execute_result"
    }
   ],
   "source": [
    "#Hay demasiados valores unicos\n",
    "df[\"Investigator or Source\"].nunique()"
   ]
  },
  {
   "cell_type": "code",
   "execution_count": 92,
   "id": "93debc8c",
   "metadata": {
    "ExecuteTime": {
     "end_time": "2021-11-01T11:38:47.184071Z",
     "start_time": "2021-11-01T11:38:47.162346Z"
    },
    "hidden": true
   },
   "outputs": [
    {
     "data": {
      "text/plain": [
       "Casos\n",
       "1756    Evening Sun (Baltimore), 8/11/1950; Long Beach...\n",
       "2720                                (1994) SAF Case #1524\n",
       "5550                                  ABC News, 6/18/2013\n",
       "174                       Times of London, 8/5/1822, p. 2\n",
       "4885                                            wsbtv.com\n",
       "2886                            Canberra Times, 6/26/1972\n",
       "1668     A. M. Rapson, p.147; D. Baldridge, pp.128 & 261 \n",
       "824                          Poverty Bay Herald, 3/9/1910\n",
       "2156                            Times of India, 9/10/1959\n",
       "785                         Dawson Daily News, 11/20/1907\n",
       "Name: Investigator or Source, dtype: object"
      ]
     },
     "execution_count": 92,
     "metadata": {},
     "output_type": "execute_result"
    }
   ],
   "source": [
    "df[\"Investigator or Source\"].sample(n=10)"
   ]
  },
  {
   "cell_type": "markdown",
   "id": "2ebffb08",
   "metadata": {
    "hidden": true
   },
   "source": [
    "Por lo que veo aparece el autor o la revista, la pagina y la fecha pero con diferentes formatos\n",
    "- Opcion de rellenar los na como desconocido"
   ]
  },
  {
   "cell_type": "code",
   "execution_count": null,
   "id": "c4a79c10",
   "metadata": {
    "hidden": true
   },
   "outputs": [],
   "source": []
  },
  {
   "cell_type": "code",
   "execution_count": null,
   "id": "1a222d04",
   "metadata": {
    "hidden": true
   },
   "outputs": [],
   "source": []
  },
  {
   "cell_type": "code",
   "execution_count": 244,
   "id": "09d416d4",
   "metadata": {
    "ExecuteTime": {
     "end_time": "2021-11-01T15:54:04.895179Z",
     "start_time": "2021-11-01T15:54:04.871553Z"
    },
    "hidden": true
   },
   "outputs": [
    {
     "data": {
      "text/html": [
       "<div>\n",
       "<style scoped>\n",
       "    .dataframe tbody tr th:only-of-type {\n",
       "        vertical-align: middle;\n",
       "    }\n",
       "\n",
       "    .dataframe tbody tr th {\n",
       "        vertical-align: top;\n",
       "    }\n",
       "\n",
       "    .dataframe thead th {\n",
       "        text-align: right;\n",
       "    }\n",
       "</style>\n",
       "<table border=\"1\" class=\"dataframe\">\n",
       "  <thead>\n",
       "    <tr style=\"text-align: right;\">\n",
       "      <th></th>\n",
       "      <th>Year</th>\n",
       "      <th>Type</th>\n",
       "      <th>Country</th>\n",
       "      <th>Area</th>\n",
       "      <th>Location</th>\n",
       "      <th>Activity</th>\n",
       "      <th>Sex</th>\n",
       "      <th>Investigator or Source</th>\n",
       "      <th>Pdf</th>\n",
       "      <th>Supervivencia</th>\n",
       "    </tr>\n",
       "    <tr>\n",
       "      <th>Casos</th>\n",
       "      <th></th>\n",
       "      <th></th>\n",
       "      <th></th>\n",
       "      <th></th>\n",
       "      <th></th>\n",
       "      <th></th>\n",
       "      <th></th>\n",
       "      <th></th>\n",
       "      <th></th>\n",
       "      <th></th>\n",
       "    </tr>\n",
       "  </thead>\n",
       "  <tbody>\n",
       "    <tr>\n",
       "      <th>1</th>\n",
       "      <td>1975</td>\n",
       "      <td>Unprovoked</td>\n",
       "      <td>SRI LANKA</td>\n",
       "      <td>Eastern Province</td>\n",
       "      <td>Below the English fort, Trincomalee</td>\n",
       "      <td>Swimming</td>\n",
       "      <td>M</td>\n",
       "      <td>S.W. Baker</td>\n",
       "      <td>http://sharkattackfile.net/spreadsheets/pdf_di...</td>\n",
       "      <td>No sobrevive</td>\n",
       "    </tr>\n",
       "    <tr>\n",
       "      <th>2</th>\n",
       "      <td>1975</td>\n",
       "      <td>Unprovoked</td>\n",
       "      <td>PANAMA</td>\n",
       "      <td>NaN</td>\n",
       "      <td>Panama Bay 8ºN, 79ºW</td>\n",
       "      <td>Otra actividad</td>\n",
       "      <td>M</td>\n",
       "      <td>The Sun, 10/20/1938</td>\n",
       "      <td>http://sharkattackfile.net/spreadsheets/pdf_di...</td>\n",
       "      <td>No sobrevive</td>\n",
       "    </tr>\n",
       "    <tr>\n",
       "      <th>3</th>\n",
       "      <td>1975</td>\n",
       "      <td>Unprovoked</td>\n",
       "      <td>UNITED STATES</td>\n",
       "      <td>North Carolina</td>\n",
       "      <td>Ocracoke Inlet</td>\n",
       "      <td>Swimming</td>\n",
       "      <td>M</td>\n",
       "      <td>F. Schwartz, p.23; C. Creswell, GSAF</td>\n",
       "      <td>http://sharkattackfile.net/spreadsheets/pdf_di...</td>\n",
       "      <td>No sobrevive</td>\n",
       "    </tr>\n",
       "    <tr>\n",
       "      <th>4</th>\n",
       "      <td>1975</td>\n",
       "      <td>Unprovoked</td>\n",
       "      <td>AUSTRALIA</td>\n",
       "      <td>Western Australia</td>\n",
       "      <td>NaN</td>\n",
       "      <td>Otra actividad</td>\n",
       "      <td>M</td>\n",
       "      <td>H. Taunton; N. Bartlett,  pp. 233-234</td>\n",
       "      <td>http://sharkattackfile.net/spreadsheets/pdf_di...</td>\n",
       "      <td>No sobrevive</td>\n",
       "    </tr>\n",
       "    <tr>\n",
       "      <th>5</th>\n",
       "      <td>1975</td>\n",
       "      <td>Unprovoked</td>\n",
       "      <td>AUSTRALIA</td>\n",
       "      <td>Western Australia</td>\n",
       "      <td>Roebuck Bay</td>\n",
       "      <td>Diving</td>\n",
       "      <td>M</td>\n",
       "      <td>H. Taunton; N. Bartlett,  p. 234</td>\n",
       "      <td>http://sharkattackfile.net/spreadsheets/pdf_di...</td>\n",
       "      <td>No sobrevive</td>\n",
       "    </tr>\n",
       "    <tr>\n",
       "      <th>...</th>\n",
       "      <td>...</td>\n",
       "      <td>...</td>\n",
       "      <td>...</td>\n",
       "      <td>...</td>\n",
       "      <td>...</td>\n",
       "      <td>...</td>\n",
       "      <td>...</td>\n",
       "      <td>...</td>\n",
       "      <td>...</td>\n",
       "      <td>...</td>\n",
       "    </tr>\n",
       "    <tr>\n",
       "      <th>5988</th>\n",
       "      <td>2016</td>\n",
       "      <td>Unprovoked</td>\n",
       "      <td>AUSTRALIA</td>\n",
       "      <td>Victoria</td>\n",
       "      <td>Bells Beach</td>\n",
       "      <td>Surfing</td>\n",
       "      <td>M</td>\n",
       "      <td>The Age, 9/16/2016</td>\n",
       "      <td>http://sharkattackfile.net/spreadsheets/pdf_di...</td>\n",
       "      <td>Sobrevive</td>\n",
       "    </tr>\n",
       "    <tr>\n",
       "      <th>5989</th>\n",
       "      <td>2016</td>\n",
       "      <td>Unprovoked</td>\n",
       "      <td>AUSTRALIA</td>\n",
       "      <td>Victoria</td>\n",
       "      <td>Thirteenth Beach</td>\n",
       "      <td>Surfing</td>\n",
       "      <td>M</td>\n",
       "      <td>The Age, 9/18/2016</td>\n",
       "      <td>http://sharkattackfile.net/spreadsheets/pdf_di...</td>\n",
       "      <td>Sobrevive</td>\n",
       "    </tr>\n",
       "    <tr>\n",
       "      <th>5990</th>\n",
       "      <td>2016</td>\n",
       "      <td>Unprovoked</td>\n",
       "      <td>UNITED STATES</td>\n",
       "      <td>Florida</td>\n",
       "      <td>New Smyrna Beach, Volusia County</td>\n",
       "      <td>Surfing</td>\n",
       "      <td>M</td>\n",
       "      <td>Orlando Sentinel, 9/19/2016</td>\n",
       "      <td>http://sharkattackfile.net/spreadsheets/pdf_di...</td>\n",
       "      <td>Sobrevive</td>\n",
       "    </tr>\n",
       "    <tr>\n",
       "      <th>5991</th>\n",
       "      <td>2016</td>\n",
       "      <td>Unprovoked</td>\n",
       "      <td>UNITED STATES</td>\n",
       "      <td>Florida</td>\n",
       "      <td>New Smyrna Beach, Volusia County</td>\n",
       "      <td>Surfing</td>\n",
       "      <td>M</td>\n",
       "      <td>Orlando Sentinel, 9/19/2016</td>\n",
       "      <td>http://sharkattackfile.net/spreadsheets/pdf_di...</td>\n",
       "      <td>Sobrevive</td>\n",
       "    </tr>\n",
       "    <tr>\n",
       "      <th>5992</th>\n",
       "      <td>2016</td>\n",
       "      <td>Unprovoked</td>\n",
       "      <td>UNITED STATES</td>\n",
       "      <td>Florida</td>\n",
       "      <td>New Smyrna Beach, Volusia County</td>\n",
       "      <td>Surfing</td>\n",
       "      <td>M</td>\n",
       "      <td>Orlando Sentinel, 9/19/2016</td>\n",
       "      <td>http://sharkattackfile.net/spreadsheets/pdf_di...</td>\n",
       "      <td>Sobrevive</td>\n",
       "    </tr>\n",
       "  </tbody>\n",
       "</table>\n",
       "<p>5992 rows × 10 columns</p>\n",
       "</div>"
      ],
      "text/plain": [
       "       Year        Type        Country               Area  \\\n",
       "Casos                                                       \n",
       "1      1975  Unprovoked      SRI LANKA   Eastern Province   \n",
       "2      1975  Unprovoked         PANAMA                NaN   \n",
       "3      1975  Unprovoked  UNITED STATES     North Carolina   \n",
       "4      1975  Unprovoked      AUSTRALIA  Western Australia   \n",
       "5      1975  Unprovoked      AUSTRALIA  Western Australia   \n",
       "...     ...         ...            ...                ...   \n",
       "5988   2016  Unprovoked      AUSTRALIA           Victoria   \n",
       "5989   2016  Unprovoked      AUSTRALIA           Victoria   \n",
       "5990   2016  Unprovoked  UNITED STATES            Florida   \n",
       "5991   2016  Unprovoked  UNITED STATES            Florida   \n",
       "5992   2016  Unprovoked  UNITED STATES            Florida   \n",
       "\n",
       "                                  Location        Activity Sex  \\\n",
       "Casos                                                            \n",
       "1      Below the English fort, Trincomalee        Swimming   M   \n",
       "2                     Panama Bay 8ºN, 79ºW  Otra actividad   M   \n",
       "3                           Ocracoke Inlet        Swimming   M   \n",
       "4                                      NaN  Otra actividad   M   \n",
       "5                              Roebuck Bay          Diving   M   \n",
       "...                                    ...             ...  ..   \n",
       "5988                           Bells Beach         Surfing   M   \n",
       "5989                      Thirteenth Beach         Surfing   M   \n",
       "5990      New Smyrna Beach, Volusia County         Surfing   M   \n",
       "5991      New Smyrna Beach, Volusia County         Surfing   M   \n",
       "5992      New Smyrna Beach, Volusia County         Surfing   M   \n",
       "\n",
       "                      Investigator or Source  \\\n",
       "Casos                                          \n",
       "1                                 S.W. Baker   \n",
       "2                        The Sun, 10/20/1938   \n",
       "3       F. Schwartz, p.23; C. Creswell, GSAF   \n",
       "4      H. Taunton; N. Bartlett,  pp. 233-234   \n",
       "5           H. Taunton; N. Bartlett,  p. 234   \n",
       "...                                      ...   \n",
       "5988                      The Age, 9/16/2016   \n",
       "5989                      The Age, 9/18/2016   \n",
       "5990             Orlando Sentinel, 9/19/2016   \n",
       "5991             Orlando Sentinel, 9/19/2016   \n",
       "5992             Orlando Sentinel, 9/19/2016   \n",
       "\n",
       "                                                     Pdf Supervivencia  \n",
       "Casos                                                                   \n",
       "1      http://sharkattackfile.net/spreadsheets/pdf_di...  No sobrevive  \n",
       "2      http://sharkattackfile.net/spreadsheets/pdf_di...  No sobrevive  \n",
       "3      http://sharkattackfile.net/spreadsheets/pdf_di...  No sobrevive  \n",
       "4      http://sharkattackfile.net/spreadsheets/pdf_di...  No sobrevive  \n",
       "5      http://sharkattackfile.net/spreadsheets/pdf_di...  No sobrevive  \n",
       "...                                                  ...           ...  \n",
       "5988   http://sharkattackfile.net/spreadsheets/pdf_di...     Sobrevive  \n",
       "5989   http://sharkattackfile.net/spreadsheets/pdf_di...     Sobrevive  \n",
       "5990   http://sharkattackfile.net/spreadsheets/pdf_di...     Sobrevive  \n",
       "5991   http://sharkattackfile.net/spreadsheets/pdf_di...     Sobrevive  \n",
       "5992   http://sharkattackfile.net/spreadsheets/pdf_di...     Sobrevive  \n",
       "\n",
       "[5992 rows x 10 columns]"
      ]
     },
     "execution_count": 244,
     "metadata": {},
     "output_type": "execute_result"
    }
   ],
   "source": [
    "df\n"
   ]
  },
  {
   "cell_type": "code",
   "execution_count": 155,
   "id": "03849cbc",
   "metadata": {
    "ExecuteTime": {
     "end_time": "2021-11-01T14:14:12.673761Z",
     "start_time": "2021-11-01T14:14:12.543004Z"
    },
    "hidden": true
   },
   "outputs": [
    {
     "data": {
      "text/plain": [
       "No especificado             2475\n",
       "AUSTRALIA                   1279\n",
       "SOUTH AFRICA                 565\n",
       "PAPUA NEW GUINEA             133\n",
       "NEW ZEALAND                  125\n",
       "                            ... \n",
       "SLOVENIA                       1\n",
       "NORTHERN MARIANA ISLANDS       1\n",
       "SWEDEN                         1\n",
       "MONACO                         1\n",
       "ALGERIA                        1\n",
       "Name: Country, Length: 114, dtype: int64"
      ]
     },
     "execution_count": 155,
     "metadata": {},
     "output_type": "execute_result"
    }
   ],
   "source": [
    "df[\"Country\"].apply(pais).value_counts()"
   ]
  },
  {
   "cell_type": "code",
   "execution_count": 199,
   "id": "c4358edd",
   "metadata": {
    "ExecuteTime": {
     "end_time": "2021-11-01T14:48:57.062185Z",
     "start_time": "2021-11-01T14:48:57.053965Z"
    },
    "hidden": true
   },
   "outputs": [
    {
     "data": {
      "text/plain": [
       "False"
      ]
     },
     "execution_count": 199,
     "metadata": {},
     "output_type": "execute_result"
    }
   ],
   "source": [
    "\"SPAIN\" in country_list"
   ]
  },
  {
   "cell_type": "code",
   "execution_count": 157,
   "id": "3f4de0bf",
   "metadata": {
    "ExecuteTime": {
     "end_time": "2021-11-01T14:15:40.186441Z",
     "start_time": "2021-11-01T14:15:40.183186Z"
    },
    "hidden": true
   },
   "outputs": [],
   "source": [
    "for i in country_list:\n",
    "    if i==\"CEYLON\":\n",
    "        print(\"SI\")\n",
    "   "
   ]
  },
  {
   "cell_type": "code",
   "execution_count": 212,
   "id": "b534f269",
   "metadata": {
    "ExecuteTime": {
     "end_time": "2021-11-01T14:54:26.287423Z",
     "start_time": "2021-11-01T14:54:26.275914Z"
    },
    "hidden": true,
    "scrolled": true
   },
   "outputs": [
    {
     "data": {
      "text/plain": [
       "16                           BAHAMAS\n",
       "17                           BAHRAIN\n",
       "18                        BANGLADESH\n",
       "19                          BARBADOS\n",
       "20                           BELARUS\n",
       "21                           BELGIUM\n",
       "22                            BELIZE\n",
       "23                             BENIN\n",
       "24                           BERMUDA\n",
       "25                            BHUTAN\n",
       "26                           BOLIVIA\n",
       "27                           BONAIRE\n",
       "28            BOSNIA AND HERZEGOVINA\n",
       "29                          BOTSWANA\n",
       "30                     BOUVET ISLAND\n",
       "31                            BRAZIL\n",
       "32    BRITISH INDIAN OCEAN TERRITORY\n",
       "33                 BRUNEI DARUSSALAM\n",
       "34                          BULGARIA\n",
       "35                      BURKINA FASO\n",
       "36                           BURUNDI\n",
       "Name: Name, dtype: object"
      ]
     },
     "execution_count": 212,
     "metadata": {},
     "output_type": "execute_result"
    }
   ],
   "source": [
    "country_list[country_list.str.startswith(\"B\")]"
   ]
  },
  {
   "cell_type": "code",
   "execution_count": null,
   "id": "a13aa962",
   "metadata": {
    "hidden": true
   },
   "outputs": [],
   "source": []
  },
  {
   "cell_type": "markdown",
   "id": "3d41dc88",
   "metadata": {},
   "source": [
    "### Columnas: \"Pais\"  "
   ]
  },
  {
   "cell_type": "markdown",
   "id": "ce94e4f4",
   "metadata": {},
   "source": [
    "#### Analisis inicial de las columnas"
   ]
  },
  {
   "cell_type": "code",
   "execution_count": 134,
   "id": "cfcd1ab0",
   "metadata": {
    "ExecuteTime": {
     "end_time": "2021-11-01T12:10:53.344242Z",
     "start_time": "2021-11-01T12:10:53.334635Z"
    }
   },
   "outputs": [
    {
     "data": {
      "text/plain": [
       "0"
      ]
     },
     "execution_count": 134,
     "metadata": {},
     "output_type": "execute_result"
    }
   ],
   "source": [
    "#Observamos la cantidad de valores nulos que hay\n",
    "(df[\"Country\"]).isna().sum()"
   ]
  },
  {
   "cell_type": "code",
   "execution_count": 133,
   "id": "9525797b",
   "metadata": {
    "ExecuteTime": {
     "end_time": "2021-11-01T12:10:51.550937Z",
     "start_time": "2021-11-01T12:10:51.535225Z"
    }
   },
   "outputs": [],
   "source": [
    "#Rellenamos los na con un grupo de \"No determinado\"\n",
    "df[\"Country\"].fillna(\"No determinado\",inplace=True)"
   ]
  },
  {
   "cell_type": "markdown",
   "id": "89363ba9",
   "metadata": {},
   "source": [
    "####  Limpieza de los valores:\n",
    "Observo que en los inicios hay espacios, hay ?, primero limpiar los nombres y despues buscar si existe el pais\n",
    "Objetivo: comprobar si existen y si no existen añadir como No determinado, antes borrar espacios iniciales y finales y quitar ?¿ç"
   ]
  },
  {
   "cell_type": "code",
   "execution_count": 222,
   "id": "1424de85",
   "metadata": {
    "ExecuteTime": {
     "end_time": "2021-11-01T15:05:15.330527Z",
     "start_time": "2021-11-01T15:05:15.321861Z"
    }
   },
   "outputs": [],
   "source": [
    "#Primero lo convierto todo a mayusculas\n",
    "df[\"Country\"]=df[\"Country\"].str.upper()\n"
   ]
  },
  {
   "cell_type": "code",
   "execution_count": 223,
   "id": "0869c292",
   "metadata": {
    "ExecuteTime": {
     "end_time": "2021-11-01T15:05:17.595061Z",
     "start_time": "2021-11-01T15:05:17.569182Z"
    }
   },
   "outputs": [],
   "source": [
    "#Identifico los paises que empiezan con espacio y se lo quito\n",
    "df[df[\"Country\"].str.startswith(\" \")][\"Country\"]\n",
    "#Solo son PHILIPPINES Y TONGA, los modifico \n",
    "df.replace({\" PHILIPPINES\":\"PHILIPPINES\",\" TONGA\":\"TONGA\"},inplace=True)"
   ]
  },
  {
   "cell_type": "code",
   "execution_count": 206,
   "id": "69fb9f2f",
   "metadata": {
    "ExecuteTime": {
     "end_time": "2021-11-01T14:53:00.240745Z",
     "start_time": "2021-11-01T14:53:00.212853Z"
    }
   },
   "outputs": [],
   "source": [
    "#Identifico los paises que acaban con espacio y se lo quito\n",
    "df[df[\"Country\"].str.endswith(\" \")][\"Country\"]\n",
    "df.replace({\"YEMEN \":\"YEMEN\",\n",
    "            \"EGYPT \":\"EGYPT\",\n",
    "           \"NORTH ATLANTIC OCEAN \":\"NORTH ATLANTIC OCEAN\",\n",
    "           \"NICARAGUA \":\"NICARAGUA\",\n",
    "            \"PACIFIC OCEAN \":\"PACIFIC OCEAN\",\n",
    "            \"MEXICO \":\"MEXICO\"\n",
    "           },inplace=True)"
   ]
  },
  {
   "cell_type": "code",
   "execution_count": 204,
   "id": "69df0f1d",
   "metadata": {
    "ExecuteTime": {
     "end_time": "2021-11-01T14:50:23.182648Z",
     "start_time": "2021-11-01T14:50:23.161158Z"
    },
    "scrolled": true
   },
   "outputs": [
    {
     "name": "stdout",
     "output_type": "stream",
     "text": [
      "YEMEN \n",
      "YEMEN \n",
      "YEMEN \n",
      "YEMEN \n",
      "YEMEN \n",
      "EGYPT \n",
      "EGYPT \n",
      "YEMEN \n",
      "YEMEN \n",
      "NORTH ATLANTIC OCEAN \n",
      "NICARAGUA \n",
      "PACIFIC OCEAN \n",
      "PACIFIC OCEAN \n",
      "MEXICO \n"
     ]
    }
   ],
   "source": [
    "#Identifico los valores que tienen ? y los modifico\n",
    "for i in df[\"Country\"]:\n",
    "    if re.findall(\"[?]\",i):\n",
    "        print(i)"
   ]
  },
  {
   "cell_type": "code",
   "execution_count": 194,
   "id": "3a90dfb1",
   "metadata": {
    "ExecuteTime": {
     "end_time": "2021-11-01T14:44:55.112342Z",
     "start_time": "2021-11-01T14:44:55.096783Z"
    }
   },
   "outputs": [],
   "source": [
    "df.replace({\"ASIA?\":\"ASIA\",\n",
    "            \"RED SEA?\":\"RED SEA\",\n",
    "            \"INDIAN OCEAN?\":\"INDIAN OCEAN\",\n",
    "            \"MEDITERRANEAN SEA?\":\"MEDITERRANEAN SEA\",\n",
    "           \"SUDAN?\":\"SUDAN\"},inplace=True)"
   ]
  },
  {
   "cell_type": "markdown",
   "id": "bf6561e2",
   "metadata": {},
   "source": [
    "####  Existen como paises los valores?\n",
    "los nombres de los paises ya estan limpios, vamos a comprobar si existen \n",
    "[Github del csv](https://github.com/datasets/country-list/blob/master/data.csv#L119)"
   ]
  },
  {
   "cell_type": "code",
   "execution_count": 215,
   "id": "59fd851c",
   "metadata": {
    "ExecuteTime": {
     "end_time": "2021-11-01T14:56:10.758947Z",
     "start_time": "2021-11-01T14:56:10.745745Z"
    },
    "scrolled": true
   },
   "outputs": [],
   "source": [
    "#Descargo de github un csv con todos los paises del mundo en ingles, viene con indice y codigo asi que creo una lista con los paises\n",
    "lista_paises=pd.read_csv(\"paises.csv\")\n",
    "lista_paises=list(lista_paises[\"Name\"])"
   ]
  },
  {
   "cell_type": "code",
   "execution_count": 225,
   "id": "bac917e6",
   "metadata": {
    "ExecuteTime": {
     "end_time": "2021-11-01T15:05:51.001802Z",
     "start_time": "2021-11-01T15:05:50.992553Z"
    }
   },
   "outputs": [],
   "source": [
    "#Convierto los nombres a mayuscula y los pongo en una lista\n",
    "lista=[]\n",
    "for i in lista_paises:\n",
    "    lista.append(i.upper())\n",
    "lista_paises=lista"
   ]
  },
  {
   "cell_type": "code",
   "execution_count": 226,
   "id": "2717149a",
   "metadata": {
    "ExecuteTime": {
     "end_time": "2021-11-01T15:05:51.530785Z",
     "start_time": "2021-11-01T15:05:51.517761Z"
    }
   },
   "outputs": [
    {
     "data": {
      "text/plain": [
       "['AFGHANISTAN',\n",
       " 'ÅLAND ISLANDS',\n",
       " 'ALBANIA',\n",
       " 'ALGERIA',\n",
       " 'AMERICAN SAMOA',\n",
       " 'ANDORRA',\n",
       " 'ANGOLA',\n",
       " 'ANGUILLA',\n",
       " 'ANTARCTICA',\n",
       " 'ANTIGUA AND BARBUDA',\n",
       " 'ARGENTINA',\n",
       " 'ARMENIA',\n",
       " 'ARUBA',\n",
       " 'AUSTRALIA',\n",
       " 'AUSTRIA',\n",
       " 'AZERBAIJAN',\n",
       " 'BAHAMAS',\n",
       " 'BAHRAIN',\n",
       " 'BANGLADESH',\n",
       " 'BARBADOS',\n",
       " 'BELARUS',\n",
       " 'BELGIUM',\n",
       " 'BELIZE',\n",
       " 'BENIN',\n",
       " 'BERMUDA',\n",
       " 'BHUTAN',\n",
       " 'BOLIVIA',\n",
       " 'BONAIRE',\n",
       " 'BOSNIA AND HERZEGOVINA',\n",
       " 'BOTSWANA',\n",
       " 'BOUVET ISLAND',\n",
       " 'BRAZIL',\n",
       " 'BRITISH INDIAN OCEAN TERRITORY',\n",
       " 'BRUNEI DARUSSALAM',\n",
       " 'BULGARIA',\n",
       " 'BURKINA FASO',\n",
       " 'BURUNDI',\n",
       " 'CAMBODIA',\n",
       " 'CAMEROON',\n",
       " 'CANADA',\n",
       " 'CAPE VERDE',\n",
       " 'CAYMAN ISLANDS',\n",
       " 'CENTRAL AFRICAN REPUBLIC',\n",
       " 'CHAD',\n",
       " 'CHILE',\n",
       " 'CHINA',\n",
       " 'CHRISTMAS ISLAND',\n",
       " 'COCOS (KEELING) ISLANDS',\n",
       " 'COLOMBIA',\n",
       " 'COMOROS',\n",
       " 'CONGO',\n",
       " 'DEMOCRATIC REPUBLIC OF THE CONGO',\n",
       " 'COOK ISLANDS',\n",
       " 'COSTA RICA',\n",
       " \"CÔTE D'IVOIRE\",\n",
       " 'CROATIA',\n",
       " 'CUBA',\n",
       " 'CURAÇAO',\n",
       " 'CYPRUS',\n",
       " 'CZECH REPUBLIC',\n",
       " 'DENMARK',\n",
       " 'DJIBOUTI',\n",
       " 'DOMINICA',\n",
       " 'DOMINICAN REPUBLIC',\n",
       " 'ECUADOR',\n",
       " 'EGYPT',\n",
       " 'EL SALVADOR',\n",
       " 'EQUATORIAL GUINEA',\n",
       " 'ERITREA',\n",
       " 'ESTONIA',\n",
       " 'ETHIOPIA',\n",
       " 'FALKLAND ISLANDS (MALVINAS)',\n",
       " 'FAROE ISLANDS',\n",
       " 'FIJI',\n",
       " 'FINLAND',\n",
       " 'FRANCE',\n",
       " 'FRENCH GUIANA',\n",
       " 'FRENCH POLYNESIA',\n",
       " 'FRENCH SOUTHERN TERRITORIES',\n",
       " 'GABON',\n",
       " 'GAMBIA',\n",
       " 'GEORGIA',\n",
       " 'GERMANY',\n",
       " 'GHANA',\n",
       " 'GIBRALTAR',\n",
       " 'GREECE',\n",
       " 'GREENLAND',\n",
       " 'GRENADA',\n",
       " 'GUADELOUPE',\n",
       " 'GUAM',\n",
       " 'GUATEMALA',\n",
       " 'GUERNSEY',\n",
       " 'GUINEA',\n",
       " 'GUINEA-BISSAU',\n",
       " 'GUYANA',\n",
       " 'HAITI',\n",
       " 'HEARD ISLAND AND MCDONALD ISLANDS',\n",
       " 'HOLY SEE (VATICAN CITY STATE)',\n",
       " 'HONDURAS',\n",
       " 'HONG KONG',\n",
       " 'HUNGARY',\n",
       " 'ICELAND',\n",
       " 'INDIA',\n",
       " 'INDONESIA',\n",
       " 'IRAN',\n",
       " 'IRAQ',\n",
       " 'IRELAND',\n",
       " 'ISLE OF MAN',\n",
       " 'ISRAEL',\n",
       " 'ITALY',\n",
       " 'JAMAICA',\n",
       " 'JAPAN',\n",
       " 'JERSEY',\n",
       " 'JORDAN',\n",
       " 'KAZAKHSTAN',\n",
       " 'KENYA',\n",
       " 'KIRIBATI',\n",
       " 'SOUTH KOREA',\n",
       " 'NORTH KOREA',\n",
       " 'KUWAIT',\n",
       " 'KYRGYZSTAN',\n",
       " \"LAO PEOPLE'S DEMOCRATIC REPUBLIC\",\n",
       " 'LATVIA',\n",
       " 'LEBANON',\n",
       " 'LESOTHO',\n",
       " 'LIBERIA',\n",
       " 'LIBYA',\n",
       " 'LIECHTENSTEIN',\n",
       " 'LITHUANIA',\n",
       " 'LUXEMBOURG',\n",
       " 'MACAO',\n",
       " 'MACEDONIA',\n",
       " 'MADAGASCAR',\n",
       " 'MALAWI',\n",
       " 'MALAYSIA',\n",
       " 'MALDIVES',\n",
       " 'MALI',\n",
       " 'MALTA',\n",
       " 'MARSHALL ISLANDS',\n",
       " 'MARTINIQUE',\n",
       " 'MAURITANIA',\n",
       " 'MAURITIUS',\n",
       " 'MAYOTTE',\n",
       " 'MEXICO',\n",
       " 'MICRONESIA',\n",
       " 'MOLDOVA',\n",
       " 'MONACO',\n",
       " 'MONGOLIA',\n",
       " 'MONTENEGRO',\n",
       " 'MONTSERRAT',\n",
       " 'MOROCCO',\n",
       " 'MOZAMBIQUE',\n",
       " 'MYANMAR',\n",
       " 'NAMIBIA',\n",
       " 'NAURU',\n",
       " 'NEPAL',\n",
       " 'NETHERLANDS',\n",
       " 'NEW CALEDONIA',\n",
       " 'NEW ZEALAND',\n",
       " 'NICARAGUA',\n",
       " 'NIGER',\n",
       " 'NIGERIA',\n",
       " 'NIUE',\n",
       " 'NORFOLK ISLAND',\n",
       " 'NORTHERN MARIANA ISLANDS',\n",
       " 'NORWAY',\n",
       " 'OMAN',\n",
       " 'PAKISTAN',\n",
       " 'PALAU',\n",
       " 'PALESTINE',\n",
       " 'PANAMA',\n",
       " 'PAPUA NEW GUINEA',\n",
       " 'PARAGUAY',\n",
       " 'PERU',\n",
       " 'PHILIPPINES',\n",
       " 'PITCAIRN',\n",
       " 'POLAND',\n",
       " 'PORTUGAL',\n",
       " 'PUERTO RICO',\n",
       " 'QATAR',\n",
       " 'RÉUNION',\n",
       " 'ROMANIA',\n",
       " 'RUSSIAN FEDERATION',\n",
       " 'RWANDA',\n",
       " 'SAINT BARTHÉLEMY',\n",
       " 'SAINT HELENA',\n",
       " 'SAINT KITTS AND NEVIS',\n",
       " 'SAINT LUCIA',\n",
       " 'SAINT MARTIN (FRENCH PART)',\n",
       " 'SAINT PIERRE AND MIQUELON',\n",
       " 'SAINT VINCENT AND THE GRENADINES',\n",
       " 'SAMOA',\n",
       " 'SAN MARINO',\n",
       " 'SAO TOME AND PRINCIPE',\n",
       " 'SAUDI ARABIA',\n",
       " 'SENEGAL',\n",
       " 'SERBIA',\n",
       " 'SEYCHELLES',\n",
       " 'SIERRA LEONE',\n",
       " 'SINGAPORE',\n",
       " 'SINT MAARTEN (DUTCH PART)',\n",
       " 'SLOVAKIA',\n",
       " 'SLOVENIA',\n",
       " 'SOLOMON ISLANDS',\n",
       " 'SOMALIA',\n",
       " 'SOUTH AFRICA',\n",
       " 'SOUTH GEORGIA AND THE SOUTH SANDWICH ISLANDS',\n",
       " 'SOUTH SUDAN',\n",
       " 'SPAIN',\n",
       " 'SRI LANKA',\n",
       " 'SUDAN',\n",
       " 'SURINAME',\n",
       " 'SVALBARD AND JAN MAYEN',\n",
       " 'SWAZILAND',\n",
       " 'SWEDEN',\n",
       " 'SWITZERLAND',\n",
       " 'SYRIAN ARAB REPUBLIC',\n",
       " 'TAIWAN',\n",
       " 'TAJIKISTAN',\n",
       " 'TANZANIA',\n",
       " 'THAILAND',\n",
       " 'TIMOR-LESTE',\n",
       " 'TOGO',\n",
       " 'TOKELAU',\n",
       " 'TONGA',\n",
       " 'TRINIDAD AND TOBAGO',\n",
       " 'TUNISIA',\n",
       " 'TURKEY',\n",
       " 'TURKMENISTAN',\n",
       " 'TURKS AND CAICOS ISLANDS',\n",
       " 'TUVALU',\n",
       " 'UGANDA',\n",
       " 'UKRAINE',\n",
       " 'UNITED ARAB EMIRATES',\n",
       " 'UNITED KINGDOM',\n",
       " 'UNITED STATES',\n",
       " 'UNITED STATES MINOR OUTLYING ISLANDS',\n",
       " 'URUGUAY',\n",
       " 'UZBEKISTAN',\n",
       " 'VANUATU',\n",
       " 'VENEZUELA',\n",
       " 'VIET NAM',\n",
       " 'VIRGIN ISLANDSVG',\n",
       " 'VIRGIN ISLANDS',\n",
       " 'WALLIS AND FUTUNA',\n",
       " 'WESTERN SAHARA',\n",
       " 'YEMEN',\n",
       " 'ZAMBIA',\n",
       " 'ZIMBABWE']"
      ]
     },
     "execution_count": 226,
     "metadata": {},
     "output_type": "execute_result"
    }
   ],
   "source": [
    "lista_paises"
   ]
  },
  {
   "cell_type": "code",
   "execution_count": 208,
   "id": "26974800",
   "metadata": {
    "ExecuteTime": {
     "end_time": "2021-11-01T14:53:19.898071Z",
     "start_time": "2021-11-01T14:53:19.868444Z"
    },
    "code_folding": []
   },
   "outputs": [
    {
     "name": "stdout",
     "output_type": "stream",
     "text": [
      "CEYLON (SRI LANKA)\n",
      "MID-PACIFC OCEAN\n",
      "ASIA\n",
      "PERSIAN GULF\n",
      "SAN DOMINGO\n",
      "NEW BRITAIN\n",
      "TRINIDAD & TOBAGO\n",
      "NORTH SEA\n",
      "UNITED ARAB EMIRATES (UAE)\n",
      "SOUTH PACIFIC OCEAN\n",
      "FALKLAND ISLANDS\n",
      "SOUTHWEST PACIFIC OCEAN\n",
      "OKINAWA\n",
      "EQUATORIAL GUINEA / CAMEROON\n",
      "BRITISH ISLES\n",
      "NETHERLANDS ANTILLES\n",
      "GULF OF ADEN\n",
      "BURMA\n",
      "BRITISH NEW GUINEA\n",
      "THE BALKANS\n",
      "FEDERATED STATES OF MICRONESIA\n",
      "PACIFIC OCEAN\n",
      "MEDITERRANEAN SEA\n",
      "MALDIVE ISLANDS\n",
      "ANDAMAN / NICOBAR ISLANDAS\n",
      "TASMAN SEA\n",
      "REUNION\n",
      "BAY OF BENGAL\n",
      "BAHREIN\n",
      "ATLANTIC OCEAN\n",
      "DIEGO GARCIA\n",
      "TURKS & CAICOS\n",
      "PALESTINIAN TERRITORIES\n",
      "SYRIA\n",
      "NO DETERMINADO\n",
      "JAVA\n",
      "RUSSIA\n",
      "GRAND CAYMAN\n",
      "NEVIS\n",
      "ST. MAARTIN\n",
      "JOHNSTON ISLAND\n",
      "ST. MARTIN\n",
      "NORTH PACIFIC OCEAN\n",
      "ENGLAND\n",
      "ST HELENA\n",
      "ANTIGUA\n",
      "NORTH ATLANTIC OCEAN\n",
      "BRITISH WEST INDIES\n",
      "AZORES\n",
      "IRAN / IRAQ\n",
      "SCOTLAND\n",
      "SOUTH ATLANTIC OCEAN\n",
      "SOLOMON ISLANDS / VANUATU\n",
      "SOUTH CHINA SEA\n",
      "COLUMBIA\n",
      "RED SEA\n",
      "BETWEEN PORTUGAL & INDIA\n",
      "ADMIRALTY ISLANDS\n",
      "WESTERN SAMOA\n",
      "CENTRAL PACIFIC\n",
      "OCEAN\n",
      "EGYPT / ISRAEL\n",
      "COAST OF AFRICA\n",
      "CRETE\n",
      "ITALY / CROATIA\n",
      "KOREA\n",
      "VIETNAM\n",
      "BRITISH VIRGIN ISLANDS\n",
      "NORTHERN ARABIAN SEA\n",
      "INDIAN OCEAN\n",
      "USA\n",
      "CARIBBEAN SEA\n",
      "RED SEA / INDIAN OCEAN\n",
      "NEW GUINEA\n",
      "CURACAO\n",
      "MID ATLANTIC OCEAN\n"
     ]
    }
   ],
   "source": [
    "#Vamos a ver los paises que no identifica para ver cuales podemos solucionar y cuales no\n",
    "for i in set(df[\"Country\"]):\n",
    "    if i in list(country_list):\n",
    "        continue\n",
    "    else:\n",
    "        print(i)"
   ]
  },
  {
   "cell_type": "markdown",
   "id": "42e3e370",
   "metadata": {
    "ExecuteTime": {
     "end_time": "2021-11-01T15:07:43.402156Z",
     "start_time": "2021-11-01T15:07:43.387724Z"
    }
   },
   "source": [
    "**MODIFICACIONES sobre la lista de paises que no aparecen** {Como salen: Transformacion} (ND=no determinado)\n",
    "1. CEYLON (SRI LANKA): SRI LANKA\n",
    "1. MID-PACIFC OCEAN:ND\n",
    "1. ASIA:ND\n",
    "1.  PERSIAN GULF: ND\n",
    "1.  SAN DOMINGO: DOMINICAN REPUBLIC\n",
    "1.  NEW BRITAIN: ND\n",
    "1.  TRINIDAD & TOBAGO: TRINIDAD AND TOBAGO\n",
    "1.  NORTH SEA: ND\n",
    "1.  UNITED ARAB EMIRATES (UAE): 'UNITED ARAB EMIRATES'\n",
    "1.  SOUTH PACIFIC OCEAN: ND\n",
    "1.  FALKLAND ISLANDS: 'FALKLAND ISLANDS (MALVINAS)'\n",
    "1.  SOUTHWEST PACIFIC OCEAN: ND\n",
    "1.  OKINAWA: JAPAN\n",
    "1.  EQUATORIAL GUINEA / CAMEROON: ND\n",
    "1.  BRITISH ISLES: ND\n",
    "1.  NETHERLANDS ANTILLES: ND\n",
    "1.  GULF OF ADEN: YEMEN\n",
    "1.  BURMA: MYANMAR\n",
    "1.  BRITISH NEW GUINEA: ND\n",
    "1.  THE BALKANS: ND\n",
    "1.  FEDERATED STATES OF MICRONESIA: MICRONESIA\n",
    "1.  PACIFIC OCEAN: ND\n",
    "1.  MEDITERRANEAN SEA: ND\n",
    "1.  MALDIVE ISLANDS: MALDIVES\n",
    "1.  ANDAMAN / NICOBAR ISLANDAS: INDIA\n",
    "1.  TASMAN SEA: AUSTRALIA\n",
    "1.  REUNION: FRANCE\n",
    "1.  BAY OF BENGAL:INDIA\n",
    "1.  BAHREIN: BAHRAIN\n",
    "1.  ATLANTIC OCEAN: ND\n",
    "1.  DIEGO GARCIA: ND\n",
    "1.  TURKS & CAICOS: ND PERO MUY BONITO\n",
    "1.  PALESTINIAN TERRITORIES: PALESTINE\n",
    "1.  SYRIA: 'SYRIAN ARAB REPUBLIC'\n",
    "1.  NO DETERMINADO\n",
    "1.  JAVA: INDONESIA\n",
    "1.  RUSSIA: RUSSIAN FEDERATION\n",
    "1.  GRAND CAYMAN: CAYMAN ISLANDS'\n",
    "1.  NEVIS: ND\n",
    "1.  ST. MAARTIN: 'SAINT MARTIN (FRENCH PART)'\n",
    "1.  JOHNSTON ISLAND: ND\n",
    "1.  ST. MARTIN: 'SAINT MARTIN (FRENCH PART)'\n",
    "1.  NORTH PACIFIC OCEAN: ND\n",
    "1.  ENGLAND:'UNITED KINGDOM'\n",
    "1.  ST HELENA: 'SAINT HELENA'\n",
    "1.  ANTIGUA: 'ANTIGUA AND BARBUDA'\n",
    "1.  NORTH ATLANTIC OCEAN: ND\n",
    "1.  BRITISH WEST INDIES: ND\n",
    "1.  AZORES: PORTUGAL\n",
    "1.  IRAN / IRAQ: ND\n",
    "1.  SCOTLAND: UNITED KINGDOM\n",
    "1.  SOUTH ATLANTIC OCEAN: ND\n",
    "1.  SOLOMON ISLANDS / VANUATU: ND\n",
    "1.  SOUTH CHINA SEA: CHINA\n",
    "1.  COLUMBIA: COLOMBIA\n",
    "1.  RED SEA: ND\n",
    "1.  BETWEEN PORTUGAL & INDIA: ND\n",
    "1.  ADMIRALTY ISLANDS: ND\n",
    "1.  WESTERN SAMOA: SAMOA\n",
    "1.  CENTRAL PACIFIC: ND\n",
    "1.  OCEAN: ND\n",
    "1.  EGYPT / ISRAEL: ND\n",
    "1.  COAST OF AFRICA: ND\n",
    "1.  CRETE: GREECE\n",
    "1.  ITALY / CROATIA: ND\n",
    "1.  KOREA: ND\n",
    "1.  VIETNAM: VIET NAM\n",
    "1.  BRITISH VIRGIN ISLANDS: ND\n",
    "1.  NORTHERN ARABIAN SEA: ND\n",
    "1.  INDIAN OCEAN: ND\n",
    "1.  USA: 'UNITED STATES'\n",
    "1.  CARIBBEAN SEA: ND\n",
    "1.  RED SEA / INDIAN OCEAN: ND\n",
    "1.  NEW GUINEA: GUINEA\n",
    "1.  CURACAO: BRAZIL\n",
    "1.  MID ATLANTIC OCEAN: ND"
   ]
  },
  {
   "cell_type": "code",
   "execution_count": 233,
   "id": "de5a36be",
   "metadata": {
    "ExecuteTime": {
     "end_time": "2021-11-01T15:39:08.354054Z",
     "start_time": "2021-11-01T15:39:08.295534Z"
    },
    "code_folding": [
     1
    ]
   },
   "outputs": [],
   "source": [
    "#Hacemos las modificaciones en el dataset\n",
    "df.replace({\"CEYLON (SRI LANKA)\": \"SRI LANKA\",\n",
    "            \"SAN DOMINGO\": \"DOMINICAN REPUBLIC\",\n",
    "            \"TRINIDAD & TOBAGO\": \"TRINIDAD AND TOBAGO\",\n",
    "            \"UNITED ARAB EMIRATES (UAE)\": \"UNITED ARAB EMIRATES\",\n",
    "           \"FALKLAND ISLANDS\": \"FALKLAND ISLANDS (MALVINAS)\",\n",
    "            \"OKINAWA\": \"JAPAN\",\n",
    "           \"GULF OF ADEN\": \"YEMEN\",\n",
    "            \"BURMA\": \"MYANMAR\",\n",
    "           \"FEDERATED STATES OF MICRONESIA\": \"MICRONESIA\",\n",
    "            \"MALDIVE ISLANDS\": \"MALDIVES\",\n",
    "           \"ANDAMAN / NICOBAR ISLANDAS\": \"INDIA\",\n",
    "            \"TASMAN SEA\": \"AUSTRALIA\",\n",
    "            \"REUNION\":\"FRANCE\",\n",
    "            \"BAY OF BENGAL\":\"INDIA\",\n",
    "            \"BAHREIN\":\"BAHRAIN\",\n",
    "           \"PALESTINIAN TERRITORIES\":\"PALESTINE\",\n",
    "            \"SYRIA\": 'SYRIAN ARAB REPUBLIC',\n",
    "            \"JAVA\": \"INDONESIA\",\n",
    "            \"RUSSIA\": \"RUSSIAN FEDERATION\",\n",
    "            \"GRAND CAYMAN\": \"CAYMAN ISLANDS\",\n",
    "            \"ST. MAARTIN\": 'SAINT MARTIN (FRENCH PART)',\n",
    "            \"ST. MARTIN\": 'SAINT MARTIN (FRENCH PART)',\n",
    "            \"ENGLAND\":'UNITED KINGDOM',\n",
    "            \"ST HELENA\": 'SAINT HELENA',\n",
    "            \"ANTIGUA\": 'ANTIGUA AND BARBUDA',\n",
    "              \"AZORES\": \"PORTUGAL\",\n",
    "            \"SCOTLAND\": \"UNITED KINGDOM\",\n",
    "            \"SOUTH CHINA SEA\": \"CHINA\",\n",
    "            \"COLUMBIA\": \"COLOMBIA\",\n",
    "            \"WESTERN SAMOA\": \"SAMOA\",\n",
    "            \"CRETE\": \"GREECE\",\n",
    "            \"VIETNAM\": \"VIET NAM\",\n",
    "            \"USA\": 'UNITED STATES',\n",
    "            \"NEW GUINEA\": \"GUINEA\",\n",
    "            \"CURACAO\": \"BRAZIL\"\n",
    "            \n",
    "           },inplace=True)"
   ]
  },
  {
   "cell_type": "code",
   "execution_count": 235,
   "id": "0e74856d",
   "metadata": {
    "ExecuteTime": {
     "end_time": "2021-11-01T15:41:15.181596Z",
     "start_time": "2021-11-01T15:41:15.037370Z"
    }
   },
   "outputs": [],
   "source": [
    "#Los paises que no estan bien escritos los añadimos a No determinado\n",
    "for i in set(df[\"Country\"]):\n",
    "    if i in list(country_list):\n",
    "        continue\n",
    "    else:\n",
    "        df.replace({i:\"No determinado\"},inplace=True)"
   ]
  },
  {
   "cell_type": "code",
   "execution_count": 238,
   "id": "cb4f0571",
   "metadata": {
    "ExecuteTime": {
     "end_time": "2021-11-01T15:41:32.707956Z",
     "start_time": "2021-11-01T15:41:32.687076Z"
    },
    "scrolled": true
   },
   "outputs": [
    {
     "data": {
      "text/plain": [
       "UNITED STATES           2116\n",
       "AUSTRALIA               1280\n",
       "SOUTH AFRICA             565\n",
       "No determinado           174\n",
       "PAPUA NEW GUINEA         133\n",
       "                        ... \n",
       "SYRIAN ARAB REPUBLIC       1\n",
       "CYPRUS                     1\n",
       "COOK ISLANDS               1\n",
       "GABON                      1\n",
       "PUERTO RICO                1\n",
       "Name: Country, Length: 128, dtype: int64"
      ]
     },
     "execution_count": 238,
     "metadata": {},
     "output_type": "execute_result"
    }
   ],
   "source": [
    "#Comprobamos\n",
    "df[\"Country\"].value_counts()"
   ]
  }
 ],
 "metadata": {
  "kernelspec": {
   "display_name": "Python 3",
   "language": "python",
   "name": "python3"
  },
  "language_info": {
   "codemirror_mode": {
    "name": "ipython",
    "version": 3
   },
   "file_extension": ".py",
   "mimetype": "text/x-python",
   "name": "python",
   "nbconvert_exporter": "python",
   "pygments_lexer": "ipython3",
   "version": "3.8.8"
  },
  "toc": {
   "base_numbering": 1,
   "nav_menu": {},
   "number_sections": true,
   "sideBar": false,
   "skip_h1_title": false,
   "title_cell": "Table of Contents",
   "title_sidebar": "Contents",
   "toc_cell": false,
   "toc_position": {
    "height": "100px",
    "left": "1441.25px",
    "top": "110.573px",
    "width": "136.966px"
   },
   "toc_section_display": true,
   "toc_window_display": true
  },
  "varInspector": {
   "cols": {
    "lenName": 16,
    "lenType": 16,
    "lenVar": 40
   },
   "kernels_config": {
    "python": {
     "delete_cmd_postfix": "",
     "delete_cmd_prefix": "del ",
     "library": "var_list.py",
     "varRefreshCmd": "print(var_dic_list())"
    },
    "r": {
     "delete_cmd_postfix": ") ",
     "delete_cmd_prefix": "rm(",
     "library": "var_list.r",
     "varRefreshCmd": "cat(var_dic_list()) "
    }
   },
   "types_to_exclude": [
    "module",
    "function",
    "builtin_function_or_method",
    "instance",
    "_Feature"
   ],
   "window_display": false
  }
 },
 "nbformat": 4,
 "nbformat_minor": 5
}
