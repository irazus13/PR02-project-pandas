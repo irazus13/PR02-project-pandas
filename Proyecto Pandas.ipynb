{
 "cells": [
  {
   "cell_type": "markdown",
   "id": "c0e9afbf",
   "metadata": {
    "slideshow": {
     "slide_type": "slide"
    }
   },
   "source": [
    "<h1><center>Proyecto 2: <font color=blue>Pandas Project</font></center></h1>\n",
    "<center><img src=https://animals.sandiegozoo.org/sites/default/files/styles/image_grid_full_width/public/2017-04/%20leopard_shark_01.jpg style=\"width: 500px;\">\n",
    "<h2><center>Sergio"
   ]
  },
  {
   "cell_type": "markdown",
   "id": "79c2255b",
   "metadata": {
    "slideshow": {
     "slide_type": "slide"
    }
   },
   "source": [
    "#  Conociendo los datos\n",
    "Objetivo:\n",
    "- Conocer la cantidad de valores del df, analizar las columnas, observar errores y empezar a pensar en soluciones.\n"
   ]
  },
  {
   "cell_type": "markdown",
   "id": "660e9ca4",
   "metadata": {
    "slideshow": {
     "slide_type": "subslide"
    }
   },
   "source": [
    "## Importamos bibliotecas"
   ]
  },
  {
   "cell_type": "code",
   "execution_count": 261,
   "id": "f78703db",
   "metadata": {
    "ExecuteTime": {
     "end_time": "2021-11-01T19:06:47.300643Z",
     "start_time": "2021-11-01T19:06:45.451479Z"
    },
    "slideshow": {
     "slide_type": "fragment"
    }
   },
   "outputs": [],
   "source": [
    "import pandas as pd\n",
    "import numpy as np\n",
    "import re\n",
    "import matplotlib.pyplot as plt\n",
    "import seaborn as sns"
   ]
  },
  {
   "cell_type": "markdown",
   "id": "e4ecaa03",
   "metadata": {
    "slideshow": {
     "slide_type": "subslide"
    }
   },
   "source": [
    "## Abrimos el archivo "
   ]
  },
  {
   "cell_type": "code",
   "execution_count": 2,
   "id": "01a918a4",
   "metadata": {
    "ExecuteTime": {
     "end_time": "2021-11-01T16:58:00.325861Z",
     "start_time": "2021-11-01T16:58:00.258693Z"
    },
    "slideshow": {
     "slide_type": "fragment"
    }
   },
   "outputs": [],
   "source": [
    "df=pd.read_csv(\"data/GSAF5.csv\",encoding=\"ISO-8859-1\")"
   ]
  },
  {
   "cell_type": "markdown",
   "id": "2ff5d908",
   "metadata": {
    "slideshow": {
     "slide_type": "subslide"
    }
   },
   "source": [
    "## Informacion inicial del archivo"
   ]
  },
  {
   "cell_type": "markdown",
   "id": "dfcbe205",
   "metadata": {
    "slideshow": {
     "slide_type": "subslide"
    }
   },
   "source": [
    "### Observacion inicial del dataset "
   ]
  },
  {
   "cell_type": "code",
   "execution_count": 3,
   "id": "3daf5d16",
   "metadata": {
    "ExecuteTime": {
     "end_time": "2021-11-01T16:58:00.363974Z",
     "start_time": "2021-11-01T16:58:00.325861Z"
    },
    "slideshow": {
     "slide_type": "subslide"
    }
   },
   "outputs": [
    {
     "data": {
      "text/html": [
       "<div>\n",
       "<style scoped>\n",
       "    .dataframe tbody tr th:only-of-type {\n",
       "        vertical-align: middle;\n",
       "    }\n",
       "\n",
       "    .dataframe tbody tr th {\n",
       "        vertical-align: top;\n",
       "    }\n",
       "\n",
       "    .dataframe thead th {\n",
       "        text-align: right;\n",
       "    }\n",
       "</style>\n",
       "<table border=\"1\" class=\"dataframe\">\n",
       "  <thead>\n",
       "    <tr style=\"text-align: right;\">\n",
       "      <th></th>\n",
       "      <th>Case Number</th>\n",
       "      <th>Date</th>\n",
       "      <th>Year</th>\n",
       "      <th>Type</th>\n",
       "      <th>Country</th>\n",
       "      <th>Area</th>\n",
       "      <th>Location</th>\n",
       "      <th>Activity</th>\n",
       "      <th>Name</th>\n",
       "      <th>Sex</th>\n",
       "      <th>...</th>\n",
       "      <th>Species</th>\n",
       "      <th>Investigator or Source</th>\n",
       "      <th>pdf</th>\n",
       "      <th>href formula</th>\n",
       "      <th>href</th>\n",
       "      <th>Case Number.1</th>\n",
       "      <th>Case Number.2</th>\n",
       "      <th>original order</th>\n",
       "      <th>Unnamed: 22</th>\n",
       "      <th>Unnamed: 23</th>\n",
       "    </tr>\n",
       "  </thead>\n",
       "  <tbody>\n",
       "    <tr>\n",
       "      <th>0</th>\n",
       "      <td>2016.09.18.c</td>\n",
       "      <td>18-Sep-16</td>\n",
       "      <td>2016</td>\n",
       "      <td>Unprovoked</td>\n",
       "      <td>USA</td>\n",
       "      <td>Florida</td>\n",
       "      <td>New Smyrna Beach, Volusia County</td>\n",
       "      <td>Surfing</td>\n",
       "      <td>male</td>\n",
       "      <td>M</td>\n",
       "      <td>...</td>\n",
       "      <td>NaN</td>\n",
       "      <td>Orlando Sentinel, 9/19/2016</td>\n",
       "      <td>2016.09.18.c-NSB.pdf</td>\n",
       "      <td>http://sharkattackfile.net/spreadsheets/pdf_di...</td>\n",
       "      <td>http://sharkattackfile.net/spreadsheets/pdf_di...</td>\n",
       "      <td>2016.09.18.c</td>\n",
       "      <td>2016.09.18.c</td>\n",
       "      <td>5993</td>\n",
       "      <td>NaN</td>\n",
       "      <td>NaN</td>\n",
       "    </tr>\n",
       "    <tr>\n",
       "      <th>1</th>\n",
       "      <td>2016.09.18.b</td>\n",
       "      <td>18-Sep-16</td>\n",
       "      <td>2016</td>\n",
       "      <td>Unprovoked</td>\n",
       "      <td>USA</td>\n",
       "      <td>Florida</td>\n",
       "      <td>New Smyrna Beach, Volusia County</td>\n",
       "      <td>Surfing</td>\n",
       "      <td>Chucky Luciano</td>\n",
       "      <td>M</td>\n",
       "      <td>...</td>\n",
       "      <td>NaN</td>\n",
       "      <td>Orlando Sentinel, 9/19/2016</td>\n",
       "      <td>2016.09.18.b-Luciano.pdf</td>\n",
       "      <td>http://sharkattackfile.net/spreadsheets/pdf_di...</td>\n",
       "      <td>http://sharkattackfile.net/spreadsheets/pdf_di...</td>\n",
       "      <td>2016.09.18.b</td>\n",
       "      <td>2016.09.18.b</td>\n",
       "      <td>5992</td>\n",
       "      <td>NaN</td>\n",
       "      <td>NaN</td>\n",
       "    </tr>\n",
       "    <tr>\n",
       "      <th>2</th>\n",
       "      <td>2016.09.18.a</td>\n",
       "      <td>18-Sep-16</td>\n",
       "      <td>2016</td>\n",
       "      <td>Unprovoked</td>\n",
       "      <td>USA</td>\n",
       "      <td>Florida</td>\n",
       "      <td>New Smyrna Beach, Volusia County</td>\n",
       "      <td>Surfing</td>\n",
       "      <td>male</td>\n",
       "      <td>M</td>\n",
       "      <td>...</td>\n",
       "      <td>NaN</td>\n",
       "      <td>Orlando Sentinel, 9/19/2016</td>\n",
       "      <td>2016.09.18.a-NSB.pdf</td>\n",
       "      <td>http://sharkattackfile.net/spreadsheets/pdf_di...</td>\n",
       "      <td>http://sharkattackfile.net/spreadsheets/pdf_di...</td>\n",
       "      <td>2016.09.18.a</td>\n",
       "      <td>2016.09.18.a</td>\n",
       "      <td>5991</td>\n",
       "      <td>NaN</td>\n",
       "      <td>NaN</td>\n",
       "    </tr>\n",
       "    <tr>\n",
       "      <th>3</th>\n",
       "      <td>2016.09.17</td>\n",
       "      <td>17-Sep-16</td>\n",
       "      <td>2016</td>\n",
       "      <td>Unprovoked</td>\n",
       "      <td>AUSTRALIA</td>\n",
       "      <td>Victoria</td>\n",
       "      <td>Thirteenth Beach</td>\n",
       "      <td>Surfing</td>\n",
       "      <td>Rory Angiolella</td>\n",
       "      <td>M</td>\n",
       "      <td>...</td>\n",
       "      <td>NaN</td>\n",
       "      <td>The Age, 9/18/2016</td>\n",
       "      <td>2016.09.17-Angiolella.pdf</td>\n",
       "      <td>http://sharkattackfile.net/spreadsheets/pdf_di...</td>\n",
       "      <td>http://sharkattackfile.net/spreadsheets/pdf_di...</td>\n",
       "      <td>2016.09.17</td>\n",
       "      <td>2016.09.17</td>\n",
       "      <td>5990</td>\n",
       "      <td>NaN</td>\n",
       "      <td>NaN</td>\n",
       "    </tr>\n",
       "    <tr>\n",
       "      <th>4</th>\n",
       "      <td>2016.09.15</td>\n",
       "      <td>16-Sep-16</td>\n",
       "      <td>2016</td>\n",
       "      <td>Unprovoked</td>\n",
       "      <td>AUSTRALIA</td>\n",
       "      <td>Victoria</td>\n",
       "      <td>Bells Beach</td>\n",
       "      <td>Surfing</td>\n",
       "      <td>male</td>\n",
       "      <td>M</td>\n",
       "      <td>...</td>\n",
       "      <td>2 m shark</td>\n",
       "      <td>The Age, 9/16/2016</td>\n",
       "      <td>2016.09.16-BellsBeach.pdf</td>\n",
       "      <td>http://sharkattackfile.net/spreadsheets/pdf_di...</td>\n",
       "      <td>http://sharkattackfile.net/spreadsheets/pdf_di...</td>\n",
       "      <td>2016.09.16</td>\n",
       "      <td>2016.09.15</td>\n",
       "      <td>5989</td>\n",
       "      <td>NaN</td>\n",
       "      <td>NaN</td>\n",
       "    </tr>\n",
       "    <tr>\n",
       "      <th>5</th>\n",
       "      <td>2016.09.15.R</td>\n",
       "      <td>15-Sep-16</td>\n",
       "      <td>2016</td>\n",
       "      <td>Boat</td>\n",
       "      <td>AUSTRALIA</td>\n",
       "      <td>Western Australia</td>\n",
       "      <td>Bunbury</td>\n",
       "      <td>Fishing</td>\n",
       "      <td>Occupant: Ben Stratton</td>\n",
       "      <td>NaN</td>\n",
       "      <td>...</td>\n",
       "      <td>NaN</td>\n",
       "      <td>West Australian, 9/15/2016</td>\n",
       "      <td>2016.09.15.R-boat.pdf</td>\n",
       "      <td>http://sharkattackfile.net/spreadsheets/pdf_di...</td>\n",
       "      <td>http://sharkattackfile.net/spreadsheets/pdf_di...</td>\n",
       "      <td>2016.09.15.R</td>\n",
       "      <td>2016.09.15.R</td>\n",
       "      <td>5988</td>\n",
       "      <td>NaN</td>\n",
       "      <td>NaN</td>\n",
       "    </tr>\n",
       "    <tr>\n",
       "      <th>6</th>\n",
       "      <td>2016.09.11</td>\n",
       "      <td>11-Sep-16</td>\n",
       "      <td>2016</td>\n",
       "      <td>Unprovoked</td>\n",
       "      <td>USA</td>\n",
       "      <td>Florida</td>\n",
       "      <td>Ponte Vedra, St. Johns County</td>\n",
       "      <td>Wading</td>\n",
       "      <td>male</td>\n",
       "      <td>M</td>\n",
       "      <td>...</td>\n",
       "      <td>3' to 4' shark</td>\n",
       "      <td>News4Jax, 9/11/2016</td>\n",
       "      <td>2016.09.11-PonteVedra.pdf</td>\n",
       "      <td>http://sharkattackfile.net/spreadsheets/pdf_di...</td>\n",
       "      <td>http://sharkattackfile.net/spreadsheets/pdf_di...</td>\n",
       "      <td>2016.09.11</td>\n",
       "      <td>2016.09.11</td>\n",
       "      <td>5987</td>\n",
       "      <td>NaN</td>\n",
       "      <td>NaN</td>\n",
       "    </tr>\n",
       "    <tr>\n",
       "      <th>7</th>\n",
       "      <td>2016.09.07</td>\n",
       "      <td>07-Sep-16</td>\n",
       "      <td>2016</td>\n",
       "      <td>Unprovoked</td>\n",
       "      <td>USA</td>\n",
       "      <td>Hawaii</td>\n",
       "      <td>Makaha, Oahu</td>\n",
       "      <td>Swimming</td>\n",
       "      <td>female</td>\n",
       "      <td>F</td>\n",
       "      <td>...</td>\n",
       "      <td>Tiger shark, 10?</td>\n",
       "      <td>Hawaii News Now, 9/7/2016</td>\n",
       "      <td>2016.09.07-Oahu.pdf</td>\n",
       "      <td>http://sharkattackfile.net/spreadsheets/pdf_di...</td>\n",
       "      <td>http://sharkattackfile.net/spreadsheets/pdf_di...</td>\n",
       "      <td>2016.09.07</td>\n",
       "      <td>2016.09.07</td>\n",
       "      <td>5986</td>\n",
       "      <td>NaN</td>\n",
       "      <td>NaN</td>\n",
       "    </tr>\n",
       "    <tr>\n",
       "      <th>8</th>\n",
       "      <td>2016.09.06</td>\n",
       "      <td>06-Sep-16</td>\n",
       "      <td>2016</td>\n",
       "      <td>Unprovoked</td>\n",
       "      <td>NEW CALEDONIA</td>\n",
       "      <td>North Province</td>\n",
       "      <td>Koumac</td>\n",
       "      <td>Kite surfing</td>\n",
       "      <td>David Jewell</td>\n",
       "      <td>M</td>\n",
       "      <td>...</td>\n",
       "      <td>NaN</td>\n",
       "      <td>TVANouvelles, 9/6/2016</td>\n",
       "      <td>2016.09.06-Jewell.pdf</td>\n",
       "      <td>http://sharkattackfile.net/spreadsheets/pdf_di...</td>\n",
       "      <td>http://sharkattackfile.net/spreadsheets/pdf_di...</td>\n",
       "      <td>2016.09.06</td>\n",
       "      <td>2016.09.06</td>\n",
       "      <td>5985</td>\n",
       "      <td>NaN</td>\n",
       "      <td>NaN</td>\n",
       "    </tr>\n",
       "    <tr>\n",
       "      <th>9</th>\n",
       "      <td>2016.09.05.b</td>\n",
       "      <td>05-Sep-16</td>\n",
       "      <td>2016</td>\n",
       "      <td>Unprovoked</td>\n",
       "      <td>USA</td>\n",
       "      <td>South Carolina</td>\n",
       "      <td>Kingston Plantation, Myrtle Beach, Horry County</td>\n",
       "      <td>Boogie boarding</td>\n",
       "      <td>Rylie Williams</td>\n",
       "      <td>F</td>\n",
       "      <td>...</td>\n",
       "      <td>NaN</td>\n",
       "      <td>C. Creswell, GSAF</td>\n",
       "      <td>2016.09.05.b-Williams.pdf</td>\n",
       "      <td>http://sharkattackfile.net/spreadsheets/pdf_di...</td>\n",
       "      <td>http://sharkattackfile.net/spreadsheets/pdf_di...</td>\n",
       "      <td>2016.09.05.b</td>\n",
       "      <td>2016.09.05.b</td>\n",
       "      <td>5984</td>\n",
       "      <td>NaN</td>\n",
       "      <td>NaN</td>\n",
       "    </tr>\n",
       "  </tbody>\n",
       "</table>\n",
       "<p>10 rows × 24 columns</p>\n",
       "</div>"
      ],
      "text/plain": [
       "    Case Number       Date  Year        Type        Country  \\\n",
       "0  2016.09.18.c  18-Sep-16  2016  Unprovoked            USA   \n",
       "1  2016.09.18.b  18-Sep-16  2016  Unprovoked            USA   \n",
       "2  2016.09.18.a  18-Sep-16  2016  Unprovoked            USA   \n",
       "3    2016.09.17  17-Sep-16  2016  Unprovoked      AUSTRALIA   \n",
       "4    2016.09.15  16-Sep-16  2016  Unprovoked      AUSTRALIA   \n",
       "5  2016.09.15.R  15-Sep-16  2016        Boat      AUSTRALIA   \n",
       "6    2016.09.11  11-Sep-16  2016  Unprovoked            USA   \n",
       "7    2016.09.07  07-Sep-16  2016  Unprovoked            USA   \n",
       "8    2016.09.06  06-Sep-16  2016  Unprovoked  NEW CALEDONIA   \n",
       "9  2016.09.05.b  05-Sep-16  2016  Unprovoked            USA   \n",
       "\n",
       "                Area                                         Location  \\\n",
       "0            Florida                 New Smyrna Beach, Volusia County   \n",
       "1            Florida                 New Smyrna Beach, Volusia County   \n",
       "2            Florida                 New Smyrna Beach, Volusia County   \n",
       "3           Victoria                                 Thirteenth Beach   \n",
       "4           Victoria                                      Bells Beach   \n",
       "5  Western Australia                                          Bunbury   \n",
       "6            Florida                    Ponte Vedra, St. Johns County   \n",
       "7             Hawaii                                     Makaha, Oahu   \n",
       "8     North Province                                           Koumac   \n",
       "9     South Carolina  Kingston Plantation, Myrtle Beach, Horry County   \n",
       "\n",
       "          Activity                    Name Sex   ...          Species   \\\n",
       "0          Surfing                    male    M  ...               NaN   \n",
       "1          Surfing          Chucky Luciano    M  ...               NaN   \n",
       "2          Surfing                    male    M  ...               NaN   \n",
       "3          Surfing         Rory Angiolella    M  ...               NaN   \n",
       "4          Surfing                    male    M  ...         2 m shark   \n",
       "5          Fishing  Occupant: Ben Stratton  NaN  ...               NaN   \n",
       "6           Wading                    male    M  ...    3' to 4' shark   \n",
       "7         Swimming                  female    F  ...  Tiger shark, 10?   \n",
       "8     Kite surfing            David Jewell    M  ...               NaN   \n",
       "9  Boogie boarding          Rylie Williams    F  ...               NaN   \n",
       "\n",
       "        Investigator or Source                        pdf  \\\n",
       "0  Orlando Sentinel, 9/19/2016       2016.09.18.c-NSB.pdf   \n",
       "1  Orlando Sentinel, 9/19/2016   2016.09.18.b-Luciano.pdf   \n",
       "2  Orlando Sentinel, 9/19/2016       2016.09.18.a-NSB.pdf   \n",
       "3           The Age, 9/18/2016  2016.09.17-Angiolella.pdf   \n",
       "4           The Age, 9/16/2016  2016.09.16-BellsBeach.pdf   \n",
       "5   West Australian, 9/15/2016      2016.09.15.R-boat.pdf   \n",
       "6          News4Jax, 9/11/2016  2016.09.11-PonteVedra.pdf   \n",
       "7    Hawaii News Now, 9/7/2016        2016.09.07-Oahu.pdf   \n",
       "8       TVANouvelles, 9/6/2016      2016.09.06-Jewell.pdf   \n",
       "9            C. Creswell, GSAF  2016.09.05.b-Williams.pdf   \n",
       "\n",
       "                                        href formula  \\\n",
       "0  http://sharkattackfile.net/spreadsheets/pdf_di...   \n",
       "1  http://sharkattackfile.net/spreadsheets/pdf_di...   \n",
       "2  http://sharkattackfile.net/spreadsheets/pdf_di...   \n",
       "3  http://sharkattackfile.net/spreadsheets/pdf_di...   \n",
       "4  http://sharkattackfile.net/spreadsheets/pdf_di...   \n",
       "5  http://sharkattackfile.net/spreadsheets/pdf_di...   \n",
       "6  http://sharkattackfile.net/spreadsheets/pdf_di...   \n",
       "7  http://sharkattackfile.net/spreadsheets/pdf_di...   \n",
       "8  http://sharkattackfile.net/spreadsheets/pdf_di...   \n",
       "9  http://sharkattackfile.net/spreadsheets/pdf_di...   \n",
       "\n",
       "                                                href Case Number.1  \\\n",
       "0  http://sharkattackfile.net/spreadsheets/pdf_di...  2016.09.18.c   \n",
       "1  http://sharkattackfile.net/spreadsheets/pdf_di...  2016.09.18.b   \n",
       "2  http://sharkattackfile.net/spreadsheets/pdf_di...  2016.09.18.a   \n",
       "3  http://sharkattackfile.net/spreadsheets/pdf_di...    2016.09.17   \n",
       "4  http://sharkattackfile.net/spreadsheets/pdf_di...    2016.09.16   \n",
       "5  http://sharkattackfile.net/spreadsheets/pdf_di...  2016.09.15.R   \n",
       "6  http://sharkattackfile.net/spreadsheets/pdf_di...    2016.09.11   \n",
       "7  http://sharkattackfile.net/spreadsheets/pdf_di...    2016.09.07   \n",
       "8  http://sharkattackfile.net/spreadsheets/pdf_di...    2016.09.06   \n",
       "9  http://sharkattackfile.net/spreadsheets/pdf_di...  2016.09.05.b   \n",
       "\n",
       "  Case Number.2 original order Unnamed: 22 Unnamed: 23  \n",
       "0  2016.09.18.c           5993         NaN         NaN  \n",
       "1  2016.09.18.b           5992         NaN         NaN  \n",
       "2  2016.09.18.a           5991         NaN         NaN  \n",
       "3    2016.09.17           5990         NaN         NaN  \n",
       "4    2016.09.15           5989         NaN         NaN  \n",
       "5  2016.09.15.R           5988         NaN         NaN  \n",
       "6    2016.09.11           5987         NaN         NaN  \n",
       "7    2016.09.07           5986         NaN         NaN  \n",
       "8    2016.09.06           5985         NaN         NaN  \n",
       "9  2016.09.05.b           5984         NaN         NaN  \n",
       "\n",
       "[10 rows x 24 columns]"
      ]
     },
     "execution_count": 3,
     "metadata": {},
     "output_type": "execute_result"
    }
   ],
   "source": [
    "df.head(10)"
   ]
  },
  {
   "cell_type": "code",
   "execution_count": 4,
   "id": "e590293e",
   "metadata": {
    "ExecuteTime": {
     "end_time": "2021-11-01T16:58:00.388379Z",
     "start_time": "2021-11-01T16:58:00.364974Z"
    },
    "scrolled": false,
    "slideshow": {
     "slide_type": "subslide"
    }
   },
   "outputs": [
    {
     "name": "stdout",
     "output_type": "stream",
     "text": [
      "<class 'pandas.core.frame.DataFrame'>\n",
      "RangeIndex: 5992 entries, 0 to 5991\n",
      "Data columns (total 24 columns):\n",
      " #   Column                  Non-Null Count  Dtype \n",
      "---  ------                  --------------  ----- \n",
      " 0   Case Number             5992 non-null   object\n",
      " 1   Date                    5992 non-null   object\n",
      " 2   Year                    5992 non-null   int64 \n",
      " 3   Type                    5992 non-null   object\n",
      " 4   Country                 5949 non-null   object\n",
      " 5   Area                    5590 non-null   object\n",
      " 6   Location                5496 non-null   object\n",
      " 7   Activity                5465 non-null   object\n",
      " 8   Name                    5792 non-null   object\n",
      " 9   Sex                     5425 non-null   object\n",
      " 10  Age                     3311 non-null   object\n",
      " 11  Injury                  5965 non-null   object\n",
      " 12  Fatal (Y/N)             5973 non-null   object\n",
      " 13  Time                    2779 non-null   object\n",
      " 14  Species                 3058 non-null   object\n",
      " 15  Investigator or Source  5977 non-null   object\n",
      " 16  pdf                     5992 non-null   object\n",
      " 17  href formula            5991 non-null   object\n",
      " 18  href                    5989 non-null   object\n",
      " 19  Case Number.1           5992 non-null   object\n",
      " 20  Case Number.2           5992 non-null   object\n",
      " 21  original order          5992 non-null   int64 \n",
      " 22  Unnamed: 22             1 non-null      object\n",
      " 23  Unnamed: 23             2 non-null      object\n",
      "dtypes: int64(2), object(22)\n",
      "memory usage: 1.1+ MB\n"
     ]
    }
   ],
   "source": [
    "df.info()"
   ]
  },
  {
   "cell_type": "code",
   "execution_count": 5,
   "id": "b4608cf8",
   "metadata": {
    "ExecuteTime": {
     "end_time": "2021-11-01T16:58:00.408157Z",
     "start_time": "2021-11-01T16:58:00.389974Z"
    },
    "scrolled": true,
    "slideshow": {
     "slide_type": "subslide"
    }
   },
   "outputs": [
    {
     "data": {
      "text/plain": [
       "Case Number                  0\n",
       "Date                         0\n",
       "Year                         0\n",
       "Type                         0\n",
       "Country                     43\n",
       "Area                       402\n",
       "Location                   496\n",
       "Activity                   527\n",
       "Name                       200\n",
       "Sex                        567\n",
       "Age                       2681\n",
       "Injury                      27\n",
       "Fatal (Y/N)                 19\n",
       "Time                      3213\n",
       "Species                   2934\n",
       "Investigator or Source      15\n",
       "pdf                          0\n",
       "href formula                 1\n",
       "href                         3\n",
       "Case Number.1                0\n",
       "Case Number.2                0\n",
       "original order               0\n",
       "Unnamed: 22               5991\n",
       "Unnamed: 23               5990\n",
       "dtype: int64"
      ]
     },
     "execution_count": 5,
     "metadata": {},
     "output_type": "execute_result"
    }
   ],
   "source": [
    "#Valores nulos\n",
    "df.isna().sum()"
   ]
  },
  {
   "cell_type": "code",
   "execution_count": 6,
   "id": "71932f75",
   "metadata": {
    "ExecuteTime": {
     "end_time": "2021-11-01T16:58:00.439410Z",
     "start_time": "2021-11-01T16:58:00.409249Z"
    },
    "slideshow": {
     "slide_type": "subslide"
    }
   },
   "outputs": [
    {
     "data": {
      "text/plain": [
       "False    5992\n",
       "dtype: int64"
      ]
     },
     "execution_count": 6,
     "metadata": {},
     "output_type": "execute_result"
    }
   ],
   "source": [
    "#Vamos a ver si hay algun duplicado en los valores\n",
    "df.duplicated().value_counts()"
   ]
  },
  {
   "cell_type": "code",
   "execution_count": 7,
   "id": "c6dee818",
   "metadata": {
    "ExecuteTime": {
     "end_time": "2021-11-01T16:58:00.449345Z",
     "start_time": "2021-11-01T16:58:00.440573Z"
    },
    "slideshow": {
     "slide_type": "subslide"
    }
   },
   "outputs": [
    {
     "data": {
      "text/plain": [
       "(5992, 24)"
      ]
     },
     "execution_count": 7,
     "metadata": {},
     "output_type": "execute_result"
    }
   ],
   "source": [
    "df.shape"
   ]
  },
  {
   "cell_type": "markdown",
   "id": "858dd2bf",
   "metadata": {
    "slideshow": {
     "slide_type": "subslide"
    }
   },
   "source": [
    "### Conclusiones iniciales tras Analisis inicial:\n"
   ]
  },
  {
   "cell_type": "markdown",
   "id": "aa31612e",
   "metadata": {
    "slideshow": {
     "slide_type": "fragment"
    }
   },
   "source": [
    "- Columnas con un mismo valor como case number (0,19,20) y original order: Comprobar diferencias y si son iguales borrar\n",
    "- Se solapan las columnas Year y Date: Agruparla en una.\n",
    "- En algunos casos los datos de la columna nombre se solapan con el sexo: Buscar solucion\n",
    "- Las columnas pdf, href formula y href se solapan, intentar agrupar en una\n",
    "- original order posible indice"
   ]
  },
  {
   "cell_type": "markdown",
   "id": "78ad28e9",
   "metadata": {
    "slideshow": {
     "slide_type": "slide"
    }
   },
   "source": [
    "#  Modificacion del dataset\n",
    "Analisis de cada columna, valores nulos, errores y soluciones"
   ]
  },
  {
   "cell_type": "markdown",
   "id": "bcb4152b",
   "metadata": {
    "slideshow": {
     "slide_type": "slide"
    }
   },
   "source": [
    "### Columna: \"original order\",\"Case Number\",\"Case Number.1\",\"Case Number.2\""
   ]
  },
  {
   "cell_type": "markdown",
   "id": "2eabb2bd",
   "metadata": {
    "slideshow": {
     "slide_type": "fragment"
    }
   },
   "source": [
    "- La columna original order es un indice de casos en los que se repiten valores igual que las columnas Case Number\n",
    "- Objetivo: Unica lista de numero de casos: lista con valores unicos y continuos\n",
    "- Output: Nueva columna que usare de indice\n"
   ]
  },
  {
   "cell_type": "code",
   "execution_count": 8,
   "id": "e14cb7a1",
   "metadata": {
    "ExecuteTime": {
     "end_time": "2021-11-01T16:58:00.466749Z",
     "start_time": "2021-11-01T16:58:00.449345Z"
    },
    "slideshow": {
     "slide_type": "subslide"
    }
   },
   "outputs": [
    {
     "data": {
      "text/html": [
       "<div>\n",
       "<style scoped>\n",
       "    .dataframe tbody tr th:only-of-type {\n",
       "        vertical-align: middle;\n",
       "    }\n",
       "\n",
       "    .dataframe tbody tr th {\n",
       "        vertical-align: top;\n",
       "    }\n",
       "\n",
       "    .dataframe thead th {\n",
       "        text-align: right;\n",
       "    }\n",
       "</style>\n",
       "<table border=\"1\" class=\"dataframe\">\n",
       "  <thead>\n",
       "    <tr style=\"text-align: right;\">\n",
       "      <th></th>\n",
       "      <th>original order</th>\n",
       "      <th>Case Number</th>\n",
       "      <th>Case Number.1</th>\n",
       "      <th>Case Number.2</th>\n",
       "    </tr>\n",
       "  </thead>\n",
       "  <tbody>\n",
       "    <tr>\n",
       "      <th>0</th>\n",
       "      <td>5993</td>\n",
       "      <td>2016.09.18.c</td>\n",
       "      <td>2016.09.18.c</td>\n",
       "      <td>2016.09.18.c</td>\n",
       "    </tr>\n",
       "    <tr>\n",
       "      <th>1</th>\n",
       "      <td>5992</td>\n",
       "      <td>2016.09.18.b</td>\n",
       "      <td>2016.09.18.b</td>\n",
       "      <td>2016.09.18.b</td>\n",
       "    </tr>\n",
       "    <tr>\n",
       "      <th>2</th>\n",
       "      <td>5991</td>\n",
       "      <td>2016.09.18.a</td>\n",
       "      <td>2016.09.18.a</td>\n",
       "      <td>2016.09.18.a</td>\n",
       "    </tr>\n",
       "    <tr>\n",
       "      <th>3</th>\n",
       "      <td>5990</td>\n",
       "      <td>2016.09.17</td>\n",
       "      <td>2016.09.17</td>\n",
       "      <td>2016.09.17</td>\n",
       "    </tr>\n",
       "    <tr>\n",
       "      <th>4</th>\n",
       "      <td>5989</td>\n",
       "      <td>2016.09.15</td>\n",
       "      <td>2016.09.16</td>\n",
       "      <td>2016.09.15</td>\n",
       "    </tr>\n",
       "    <tr>\n",
       "      <th>...</th>\n",
       "      <td>...</td>\n",
       "      <td>...</td>\n",
       "      <td>...</td>\n",
       "      <td>...</td>\n",
       "    </tr>\n",
       "    <tr>\n",
       "      <th>5987</th>\n",
       "      <td>6</td>\n",
       "      <td>ND.0005</td>\n",
       "      <td>ND.0005</td>\n",
       "      <td>ND.0005</td>\n",
       "    </tr>\n",
       "    <tr>\n",
       "      <th>5988</th>\n",
       "      <td>5</td>\n",
       "      <td>ND.0004</td>\n",
       "      <td>ND.0004</td>\n",
       "      <td>ND.0004</td>\n",
       "    </tr>\n",
       "    <tr>\n",
       "      <th>5989</th>\n",
       "      <td>4</td>\n",
       "      <td>ND.0003</td>\n",
       "      <td>ND.0003</td>\n",
       "      <td>ND.0003</td>\n",
       "    </tr>\n",
       "    <tr>\n",
       "      <th>5990</th>\n",
       "      <td>3</td>\n",
       "      <td>ND.0002</td>\n",
       "      <td>ND.0002</td>\n",
       "      <td>ND.0002</td>\n",
       "    </tr>\n",
       "    <tr>\n",
       "      <th>5991</th>\n",
       "      <td>2</td>\n",
       "      <td>ND.0001</td>\n",
       "      <td>ND.0001</td>\n",
       "      <td>ND.0001</td>\n",
       "    </tr>\n",
       "  </tbody>\n",
       "</table>\n",
       "<p>5992 rows × 4 columns</p>\n",
       "</div>"
      ],
      "text/plain": [
       "      original order   Case Number Case Number.1 Case Number.2\n",
       "0               5993  2016.09.18.c  2016.09.18.c  2016.09.18.c\n",
       "1               5992  2016.09.18.b  2016.09.18.b  2016.09.18.b\n",
       "2               5991  2016.09.18.a  2016.09.18.a  2016.09.18.a\n",
       "3               5990    2016.09.17    2016.09.17    2016.09.17\n",
       "4               5989    2016.09.15    2016.09.16    2016.09.15\n",
       "...              ...           ...           ...           ...\n",
       "5987               6       ND.0005       ND.0005       ND.0005\n",
       "5988               5       ND.0004       ND.0004       ND.0004\n",
       "5989               4       ND.0003       ND.0003       ND.0003\n",
       "5990               3       ND.0002       ND.0002       ND.0002\n",
       "5991               2       ND.0001       ND.0001       ND.0001\n",
       "\n",
       "[5992 rows x 4 columns]"
      ]
     },
     "execution_count": 8,
     "metadata": {},
     "output_type": "execute_result"
    }
   ],
   "source": [
    "df[[\"original order\",\"Case Number\",\"Case Number.1\",\"Case Number.2\"]]"
   ]
  },
  {
   "cell_type": "markdown",
   "id": "de42d3dd",
   "metadata": {
    "slideshow": {
     "slide_type": "subslide"
    }
   },
   "source": [
    "#### Analisis de original order"
   ]
  },
  {
   "cell_type": "code",
   "execution_count": 9,
   "id": "bb950f96",
   "metadata": {
    "ExecuteTime": {
     "end_time": "2021-11-01T16:58:00.504170Z",
     "start_time": "2021-11-01T16:58:00.467253Z"
    },
    "slideshow": {
     "slide_type": "subslide"
    }
   },
   "outputs": [
    {
     "data": {
      "text/html": [
       "<div>\n",
       "<style scoped>\n",
       "    .dataframe tbody tr th:only-of-type {\n",
       "        vertical-align: middle;\n",
       "    }\n",
       "\n",
       "    .dataframe tbody tr th {\n",
       "        vertical-align: top;\n",
       "    }\n",
       "\n",
       "    .dataframe thead th {\n",
       "        text-align: right;\n",
       "    }\n",
       "</style>\n",
       "<table border=\"1\" class=\"dataframe\">\n",
       "  <thead>\n",
       "    <tr style=\"text-align: right;\">\n",
       "      <th></th>\n",
       "      <th>Case Number</th>\n",
       "      <th>Date</th>\n",
       "      <th>Year</th>\n",
       "      <th>Type</th>\n",
       "      <th>Country</th>\n",
       "      <th>Area</th>\n",
       "      <th>Location</th>\n",
       "      <th>Activity</th>\n",
       "      <th>Name</th>\n",
       "      <th>Sex</th>\n",
       "      <th>...</th>\n",
       "      <th>Species</th>\n",
       "      <th>Investigator or Source</th>\n",
       "      <th>pdf</th>\n",
       "      <th>href formula</th>\n",
       "      <th>href</th>\n",
       "      <th>Case Number.1</th>\n",
       "      <th>Case Number.2</th>\n",
       "      <th>original order</th>\n",
       "      <th>Unnamed: 22</th>\n",
       "      <th>Unnamed: 23</th>\n",
       "    </tr>\n",
       "  </thead>\n",
       "  <tbody>\n",
       "    <tr>\n",
       "      <th>5991</th>\n",
       "      <td>ND.0001</td>\n",
       "      <td>1845-1853</td>\n",
       "      <td>0</td>\n",
       "      <td>Unprovoked</td>\n",
       "      <td>CEYLON (SRI LANKA)</td>\n",
       "      <td>Eastern Province</td>\n",
       "      <td>Below the English fort, Trincomalee</td>\n",
       "      <td>Swimming</td>\n",
       "      <td>male</td>\n",
       "      <td>M</td>\n",
       "      <td>...</td>\n",
       "      <td>NaN</td>\n",
       "      <td>S.W. Baker</td>\n",
       "      <td>ND-0001-Ceylon.pdf</td>\n",
       "      <td>http://sharkattackfile.net/spreadsheets/pdf_di...</td>\n",
       "      <td>http://sharkattackfile.net/spreadsheets/pdf_di...</td>\n",
       "      <td>ND.0001</td>\n",
       "      <td>ND.0001</td>\n",
       "      <td>2</td>\n",
       "      <td>NaN</td>\n",
       "      <td>NaN</td>\n",
       "    </tr>\n",
       "    <tr>\n",
       "      <th>5990</th>\n",
       "      <td>ND.0002</td>\n",
       "      <td>1883-1889</td>\n",
       "      <td>0</td>\n",
       "      <td>Unprovoked</td>\n",
       "      <td>PANAMA</td>\n",
       "      <td>NaN</td>\n",
       "      <td>Panama Bay 8ºN, 79ºW</td>\n",
       "      <td>NaN</td>\n",
       "      <td>Jules Patterson</td>\n",
       "      <td>M</td>\n",
       "      <td>...</td>\n",
       "      <td>NaN</td>\n",
       "      <td>The Sun, 10/20/1938</td>\n",
       "      <td>ND-0002-JulesPatterson.pdf</td>\n",
       "      <td>http://sharkattackfile.net/spreadsheets/pdf_di...</td>\n",
       "      <td>http://sharkattackfile.net/spreadsheets/pdf_di...</td>\n",
       "      <td>ND.0002</td>\n",
       "      <td>ND.0002</td>\n",
       "      <td>3</td>\n",
       "      <td>NaN</td>\n",
       "      <td>NaN</td>\n",
       "    </tr>\n",
       "    <tr>\n",
       "      <th>5989</th>\n",
       "      <td>ND.0003</td>\n",
       "      <td>1900-1905</td>\n",
       "      <td>0</td>\n",
       "      <td>Unprovoked</td>\n",
       "      <td>USA</td>\n",
       "      <td>North Carolina</td>\n",
       "      <td>Ocracoke Inlet</td>\n",
       "      <td>Swimming</td>\n",
       "      <td>Coast Guard personnel</td>\n",
       "      <td>M</td>\n",
       "      <td>...</td>\n",
       "      <td>NaN</td>\n",
       "      <td>F. Schwartz, p.23; C. Creswell, GSAF</td>\n",
       "      <td>ND-0003-Ocracoke_1900-1905.pdf</td>\n",
       "      <td>http://sharkattackfile.net/spreadsheets/pdf_di...</td>\n",
       "      <td>http://sharkattackfile.net/spreadsheets/pdf_di...</td>\n",
       "      <td>ND.0003</td>\n",
       "      <td>ND.0003</td>\n",
       "      <td>4</td>\n",
       "      <td>NaN</td>\n",
       "      <td>NaN</td>\n",
       "    </tr>\n",
       "  </tbody>\n",
       "</table>\n",
       "<p>3 rows × 24 columns</p>\n",
       "</div>"
      ],
      "text/plain": [
       "     Case Number       Date  Year        Type             Country  \\\n",
       "5991     ND.0001  1845-1853     0  Unprovoked  CEYLON (SRI LANKA)   \n",
       "5990     ND.0002  1883-1889     0  Unprovoked              PANAMA   \n",
       "5989     ND.0003  1900-1905     0  Unprovoked                 USA   \n",
       "\n",
       "                  Area                             Location  Activity  \\\n",
       "5991  Eastern Province  Below the English fort, Trincomalee  Swimming   \n",
       "5990               NaN                 Panama Bay 8ºN, 79ºW       NaN   \n",
       "5989    North Carolina                       Ocracoke Inlet  Swimming   \n",
       "\n",
       "                       Name Sex   ... Species   \\\n",
       "5991                   male    M  ...      NaN   \n",
       "5990        Jules Patterson    M  ...      NaN   \n",
       "5989  Coast Guard personnel    M  ...      NaN   \n",
       "\n",
       "                    Investigator or Source                             pdf  \\\n",
       "5991                            S.W. Baker              ND-0001-Ceylon.pdf   \n",
       "5990                   The Sun, 10/20/1938      ND-0002-JulesPatterson.pdf   \n",
       "5989  F. Schwartz, p.23; C. Creswell, GSAF  ND-0003-Ocracoke_1900-1905.pdf   \n",
       "\n",
       "                                           href formula  \\\n",
       "5991  http://sharkattackfile.net/spreadsheets/pdf_di...   \n",
       "5990  http://sharkattackfile.net/spreadsheets/pdf_di...   \n",
       "5989  http://sharkattackfile.net/spreadsheets/pdf_di...   \n",
       "\n",
       "                                                   href Case Number.1  \\\n",
       "5991  http://sharkattackfile.net/spreadsheets/pdf_di...       ND.0001   \n",
       "5990  http://sharkattackfile.net/spreadsheets/pdf_di...       ND.0002   \n",
       "5989  http://sharkattackfile.net/spreadsheets/pdf_di...       ND.0003   \n",
       "\n",
       "     Case Number.2 original order Unnamed: 22 Unnamed: 23  \n",
       "5991       ND.0001              2         NaN         NaN  \n",
       "5990       ND.0002              3         NaN         NaN  \n",
       "5989       ND.0003              4         NaN         NaN  \n",
       "\n",
       "[3 rows x 24 columns]"
      ]
     },
     "execution_count": 9,
     "metadata": {},
     "output_type": "execute_result"
    }
   ],
   "source": [
    "#ordeno la tabla por los valores original order\n",
    "df.sort_values(\"original order\",ascending=True,inplace=True)\n",
    "df.head(3)"
   ]
  },
  {
   "cell_type": "code",
   "execution_count": 10,
   "id": "c29bf6fe",
   "metadata": {
    "ExecuteTime": {
     "end_time": "2021-11-01T16:58:00.519650Z",
     "start_time": "2021-11-01T16:58:00.504170Z"
    },
    "slideshow": {
     "slide_type": "subslide"
    }
   },
   "outputs": [
    {
     "data": {
      "text/plain": [
       "5988"
      ]
     },
     "execution_count": 10,
     "metadata": {},
     "output_type": "execute_result"
    }
   ],
   "source": [
    "#Vamos a ver que valoers faltan\n",
    "df[\"original order\"].nunique()"
   ]
  },
  {
   "cell_type": "code",
   "execution_count": 11,
   "id": "db4c22de",
   "metadata": {
    "ExecuteTime": {
     "end_time": "2021-11-01T16:58:00.528640Z",
     "start_time": "2021-11-01T16:58:00.521477Z"
    },
    "slideshow": {
     "slide_type": "subslide"
    }
   },
   "outputs": [],
   "source": [
    "#Vamos a comprobar cuantos valores se repiten \n",
    "OE_ValoresRepetidos=len(df[\"original order\"])-df[\"original order\"].nunique()"
   ]
  },
  {
   "cell_type": "code",
   "execution_count": 12,
   "id": "6dfd8b7e",
   "metadata": {
    "ExecuteTime": {
     "end_time": "2021-11-01T16:58:00.547869Z",
     "start_time": "2021-11-01T16:58:00.531057Z"
    },
    "slideshow": {
     "slide_type": "subslide"
    }
   },
   "outputs": [
    {
     "data": {
      "text/plain": [
       "5739    2\n",
       "569     2\n",
       "5661    2\n",
       "3847    2\n",
       "Name: original order, dtype: int64"
      ]
     },
     "execution_count": 12,
     "metadata": {},
     "output_type": "execute_result"
    }
   ],
   "source": [
    "#Comprobamos QUE valores se repiten\n",
    "df[\"original order\"].value_counts().head(OE_ValoresRepetidos)"
   ]
  },
  {
   "cell_type": "code",
   "execution_count": 13,
   "id": "147bf4e5",
   "metadata": {
    "ExecuteTime": {
     "end_time": "2021-11-01T16:58:01.287357Z",
     "start_time": "2021-11-01T16:58:00.549407Z"
    },
    "slideshow": {
     "slide_type": "subslide"
    }
   },
   "outputs": [
    {
     "name": "stdout",
     "output_type": "stream",
     "text": [
      "0\n",
      "1\n",
      "571\n",
      "3347\n",
      "5724\n",
      "5881\n"
     ]
    }
   ],
   "source": [
    "#Comprobamos desde el 0 al numero de casos, que valores no estan, lopaso a index ya que me resuta mas facil\n",
    "df2=df.set_index(\"original order\")\n",
    "for i in range(0,len(df2)):\n",
    "    try:\n",
    "        df2.loc[i]\n",
    "    except KeyError:\n",
    "        print(i)"
   ]
  },
  {
   "cell_type": "markdown",
   "id": "e16b237d",
   "metadata": {
    "ExecuteTime": {
     "end_time": "2021-10-30T10:39:21.365815Z",
     "start_time": "2021-10-30T10:39:21.356150Z"
    },
    "slideshow": {
     "slide_type": "subslide"
    }
   },
   "source": [
    "Problema de original order: 4 numeros repetidos y en el orden de casos se han saltado varios numeros\n",
    "Opciones para corregirlo:\n",
    "- Opcion A: Cambios en la misma columna:\n",
    "        - del 2 al 568 correcto, pasamos el segundo valor 569 al 570 \n",
    "        - del 571 al 3346 correcto, del3348 al primer valor 3847 hay que restarle 1\n",
    "        - del 3848 al 5660 correcto, del segundo valor del 5661 a 5723 hay que sumarle 1\n",
    "        - del 5725 a 5738 correcto, del segundo valor de 5739 al 5880 hay que sumarle 1\n",
    "        - despues restamos 1 a todo y los casos empezaran desde 1 siendo valores unicos\n",
    "- Opcion B:\n",
    "        - ponerlo en orden y crear una nueva tabla con un rango de 1 a len"
   ]
  },
  {
   "cell_type": "code",
   "execution_count": 14,
   "id": "cff40558",
   "metadata": {
    "ExecuteTime": {
     "end_time": "2021-11-01T16:58:01.304529Z",
     "start_time": "2021-11-01T16:58:01.287357Z"
    },
    "slideshow": {
     "slide_type": "subslide"
    }
   },
   "outputs": [],
   "source": [
    "#cambio el indice con una lista de numeros desde el 1 hasta la longitud +1\n",
    "lista=[i for i in range(1,len(df)+1)]\n"
   ]
  },
  {
   "cell_type": "code",
   "execution_count": 15,
   "id": "f4664c7d",
   "metadata": {
    "ExecuteTime": {
     "end_time": "2021-11-01T16:58:01.318510Z",
     "start_time": "2021-11-01T16:58:01.304529Z"
    },
    "slideshow": {
     "slide_type": "subslide"
    }
   },
   "outputs": [],
   "source": [
    "# añado la columna nueva y borro la antigua\n",
    "df[\"Casos\"]=lista\n",
    "df.drop(\"original order\",axis=1,inplace=True)"
   ]
  },
  {
   "cell_type": "markdown",
   "id": "49d99e89",
   "metadata": {
    "slideshow": {
     "slide_type": "slide"
    }
   },
   "source": [
    "#### Analisis Case Number"
   ]
  },
  {
   "cell_type": "code",
   "execution_count": 16,
   "id": "23cf2106",
   "metadata": {
    "ExecuteTime": {
     "end_time": "2021-11-01T16:58:01.329299Z",
     "start_time": "2021-11-01T16:58:01.319509Z"
    },
    "slideshow": {
     "slide_type": "subslide"
    }
   },
   "outputs": [],
   "source": [
    "#Cambio el indice a original a Casos \n",
    "df=df.set_index(\"Casos\")"
   ]
  },
  {
   "cell_type": "code",
   "execution_count": 17,
   "id": "e747134b",
   "metadata": {
    "ExecuteTime": {
     "end_time": "2021-11-01T16:58:01.358699Z",
     "start_time": "2021-11-01T16:58:01.330456Z"
    },
    "scrolled": false,
    "slideshow": {
     "slide_type": "subslide"
    }
   },
   "outputs": [
    {
     "name": "stdout",
     "output_type": "stream",
     "text": [
      "<class 'pandas.core.frame.DataFrame'>\n",
      "Int64Index: 5992 entries, 1 to 5992\n",
      "Data columns (total 3 columns):\n",
      " #   Column         Non-Null Count  Dtype \n",
      "---  ------         --------------  ----- \n",
      " 0   Case Number    5992 non-null   object\n",
      " 1   Case Number.1  5992 non-null   object\n",
      " 2   Case Number.2  5992 non-null   object\n",
      "dtypes: object(3)\n",
      "memory usage: 187.2+ KB\n"
     ]
    }
   ],
   "source": [
    "#Miramos cantidad de valores nulos\n",
    "df[[\"Case Number\",\"Case Number.1\",\"Case Number.2\"]].info()"
   ]
  },
  {
   "cell_type": "code",
   "execution_count": 18,
   "id": "9312363e",
   "metadata": {
    "ExecuteTime": {
     "end_time": "2021-11-01T16:58:01.384366Z",
     "start_time": "2021-11-01T16:58:01.358699Z"
    },
    "scrolled": true,
    "slideshow": {
     "slide_type": "subslide"
    }
   },
   "outputs": [
    {
     "data": {
      "text/plain": [
       "Case Number      5976\n",
       "Case Number.1    5975\n",
       "Case Number.2    5976\n",
       "dtype: int64"
      ]
     },
     "execution_count": 18,
     "metadata": {},
     "output_type": "execute_result"
    }
   ],
   "source": [
    "#Valores unicos que hay\n",
    "df[[\"Case Number\",\"Case Number.1\",\"Case Number.2\"]].nunique()"
   ]
  },
  {
   "cell_type": "code",
   "execution_count": 19,
   "id": "7713a5d2",
   "metadata": {
    "ExecuteTime": {
     "end_time": "2021-11-01T16:58:01.398501Z",
     "start_time": "2021-11-01T16:58:01.384366Z"
    },
    "slideshow": {
     "slide_type": "subslide"
    }
   },
   "outputs": [
    {
     "name": "stdout",
     "output_type": "stream",
     "text": [
      "16 casos se repiten\n"
     ]
    }
   ],
   "source": [
    "#No hay valores nulos pero hay valores que se repiten y el formato de numero de caso varia\n",
    "print(f'{len(df[\"Case Number\"])-len(set(df[\"Case Number\"]))} casos se repiten')"
   ]
  },
  {
   "cell_type": "code",
   "execution_count": 20,
   "id": "018a2c9b",
   "metadata": {
    "ExecuteTime": {
     "end_time": "2021-11-01T16:58:02.224561Z",
     "start_time": "2021-11-01T16:58:01.398988Z"
    },
    "slideshow": {
     "slide_type": "subslide"
    }
   },
   "outputs": [],
   "source": [
    "#Vamos a ver que valores se repiten en Case Number y si son los mismos en \n",
    "listaA=[] #Lista de valores unicos de Case Number\n",
    "listaB=[] #Lista de valores repetidos de Case Number\n",
    "for i in range(1,len(df)+1):\n",
    "    if df[\"Case Number\"].loc[i] not in listaA:\n",
    "        listaA.append(df[\"Case Number\"].loc[i])\n",
    "    else:\n",
    "        listaB.append(df[\"Case Number\"].loc[i])"
   ]
  },
  {
   "cell_type": "code",
   "execution_count": 21,
   "id": "0ec7d908",
   "metadata": {
    "ExecuteTime": {
     "end_time": "2021-11-01T16:58:03.429169Z",
     "start_time": "2021-11-01T16:58:02.225565Z"
    },
    "code_folding": [],
    "slideshow": {
     "slide_type": "subslide"
    }
   },
   "outputs": [],
   "source": [
    "#Vamos a ver que valores se repiten en Case Number.1 y si son los mismos en \n",
    "listaC=[] #Lista de valores unicos de Case Number.1\n",
    "listaD=[] #Lista de valores repetidos de Case Number.1\n",
    "for i in range(1,len(df)+1):\n",
    "    if df[\"Case Number.1\"].loc[i] not in listaC:\n",
    "        listaC.append(df[\"Case Number.1\"].loc[i])\n",
    "    else:\n",
    "        listaD.append(df[\"Case Number.1\"].loc[i])"
   ]
  },
  {
   "cell_type": "code",
   "execution_count": 22,
   "id": "3169454f",
   "metadata": {
    "ExecuteTime": {
     "end_time": "2021-11-01T16:58:04.665483Z",
     "start_time": "2021-11-01T16:58:03.433184Z"
    },
    "slideshow": {
     "slide_type": "subslide"
    }
   },
   "outputs": [],
   "source": [
    "#Vamos a ver que valores se repiten en Case Number.2 y si son los mismos en \n",
    "listaE=[] #Lista de valores unicos de Case Number.2\n",
    "listaF=[] #Lista de valores repetidos de Case Number.2\n",
    "for i in range(1,len(df)+1):\n",
    "    if df[\"Case Number.2\"].loc[i] not in listaE:\n",
    "        listaE.append(df[\"Case Number.2\"].loc[i])\n",
    "    else:\n",
    "        listaF.append(df[\"Case Number.2\"].loc[i])"
   ]
  },
  {
   "cell_type": "code",
   "execution_count": 23,
   "id": "1dd59ba4",
   "metadata": {
    "ExecuteTime": {
     "end_time": "2021-11-01T16:58:04.700012Z",
     "start_time": "2021-11-01T16:58:04.670473Z"
    },
    "scrolled": true,
    "slideshow": {
     "slide_type": "subslide"
    }
   },
   "outputs": [
    {
     "name": "stdout",
     "output_type": "stream",
     "text": [
      "True     5979\n",
      "False      13\n",
      "dtype: int64\n",
      "True     5981\n",
      "False      11\n",
      "dtype: int64\n",
      "True     5990\n",
      "False       2\n",
      "dtype: int64\n"
     ]
    }
   ],
   "source": [
    "#Vamos a comprobar que columnas son mas parecidas\n",
    "print((df[\"Case Number\"]==df[\"Case Number.1\"]).value_counts())\n",
    "print((df[\"Case Number.1\"]==df[\"Case Number.2\"]).value_counts())\n",
    "print((df[\"Case Number\"]==df[\"Case Number.2\"]).value_counts())"
   ]
  },
  {
   "cell_type": "code",
   "execution_count": 24,
   "id": "200b4670",
   "metadata": {
    "ExecuteTime": {
     "end_time": "2021-11-01T16:58:04.737473Z",
     "start_time": "2021-11-01T16:58:04.706552Z"
    },
    "slideshow": {
     "slide_type": "subslide"
    }
   },
   "outputs": [
    {
     "name": "stdout",
     "output_type": "stream",
     "text": [
      "Valores no repetidos False\n",
      "Valores  repetidos True\n"
     ]
    }
   ],
   "source": [
    "#Primero unificare la columna Case Number con la columna Case Number.2 ya que son muy parecidas\n",
    "print(f'Valores no repetidos {listaA==listaE}')\n",
    "print(f'Valores  repetidos {listaB==listaF}')\n"
   ]
  },
  {
   "cell_type": "code",
   "execution_count": 25,
   "id": "75ae593e",
   "metadata": {
    "ExecuteTime": {
     "end_time": "2021-11-01T16:58:05.118711Z",
     "start_time": "2021-11-01T16:58:04.740301Z"
    },
    "scrolled": true,
    "slideshow": {
     "slide_type": "subslide"
    }
   },
   "outputs": [
    {
     "name": "stdout",
     "output_type": "stream",
     "text": [
      "1273\n",
      "5823\n"
     ]
    }
   ],
   "source": [
    "#Los dos valores que no coinciden estan en los valores no repetidos\n",
    "for i in range(1,len(df)):\n",
    "    if df[\"Case Number\"].loc[i]!= df[\"Case Number.2\"].loc[i]:\n",
    "          print(i)\n",
    "    \n"
   ]
  },
  {
   "cell_type": "code",
   "execution_count": 26,
   "id": "e7186c22",
   "metadata": {
    "ExecuteTime": {
     "end_time": "2021-11-01T16:58:05.137757Z",
     "start_time": "2021-11-01T16:58:05.118711Z"
    },
    "scrolled": false,
    "slideshow": {
     "slide_type": "subslide"
    }
   },
   "outputs": [
    {
     "data": {
      "text/plain": [
       "Case Number                                                    1934.01.08.R\n",
       "Date                                                   Reported 08-Feb-1934\n",
       "Year                                                                   1934\n",
       "Type                                                                Boating\n",
       "Country                                                              TURKEY\n",
       "Area                                                               Istanbul\n",
       "Location                                         Haydarpasa jetty, Istanbul\n",
       "Activity                                                            Fishing\n",
       "Name                                                                2 males\n",
       "Sex                                                                       M\n",
       "Age                                                                     NaN\n",
       "Injury                                                            No injury\n",
       "Fatal (Y/N)                                                               N\n",
       "Time                                                                    NaN\n",
       "Species                                                                 NaN\n",
       "Investigator or Source                                       C. Moore, GSAF\n",
       "pdf                                                 1924.02.08.R-Turkey.pdf\n",
       "href formula              http://sharkattackfile.net/spreadsheets/pdf_di...\n",
       "href                      http://sharkattackfile.net/spreadsheets/pdf_di...\n",
       "Case Number.1                                                  1934.02.08.R\n",
       "Case Number.2                                                  1934.02.08.R\n",
       "Unnamed: 22                                                             NaN\n",
       "Unnamed: 23                                                             NaN\n",
       "Name: 1273, dtype: object"
      ]
     },
     "execution_count": 26,
     "metadata": {},
     "output_type": "execute_result"
    }
   ],
   "source": [
    "#Analizamos ambos valores de forma individual\n",
    "df.loc[1273]"
   ]
  },
  {
   "cell_type": "code",
   "execution_count": 27,
   "id": "708dac11",
   "metadata": {
    "ExecuteTime": {
     "end_time": "2021-11-01T16:58:05.159183Z",
     "start_time": "2021-11-01T16:58:05.139195Z"
    },
    "scrolled": false,
    "slideshow": {
     "slide_type": "subslide"
    }
   },
   "outputs": [
    {
     "data": {
      "text/plain": [
       "Case Number                                                      2015.07-10\n",
       "Date                                                              10-Jul-15\n",
       "Year                                                                   2015\n",
       "Type                                                             Unprovoked\n",
       "Country                                                                 USA\n",
       "Area                                                             California\n",
       "Location                                    Huntington Beach, Orange County\n",
       "Activity                                                            Surfing\n",
       "Name                                                           Danny Miskin\n",
       "Sex                                                                       M\n",
       "Age                                                                      38\n",
       "Injury                              No injury, shark bumped & damaged board\n",
       "Fatal (Y/N)                                                               N\n",
       "Time                                                                  08h45\n",
       "Species                                                     White shark, 7'\n",
       "Investigator or Source                                      KTLA, 7/10/2015\n",
       "pdf                                                   2015.07.10-Miskin.pdf\n",
       "href formula              http://sharkattackfile.net/spreadsheets/pdf_di...\n",
       "href                      http://sharkattackfile.net/spreadsheets/pdf_di...\n",
       "Case Number.1                                                    2015.07.10\n",
       "Case Number.2                                                    2015.07.10\n",
       "Unnamed: 22                                                             NaN\n",
       "Unnamed: 23                                                             NaN\n",
       "Name: 5823, dtype: object"
      ]
     },
     "execution_count": 27,
     "metadata": {},
     "output_type": "execute_result"
    }
   ],
   "source": [
    "df.loc[5823]"
   ]
  },
  {
   "cell_type": "markdown",
   "id": "0eb16417",
   "metadata": {
    "slideshow": {
     "slide_type": "subslide"
    }
   },
   "source": [
    "- Problema:  \n",
    "     - Case Number: A veces apuntdo por fecha o por el nombre del pdf, valores repetidos y si son el mismo dia con letras, no da informacion relevante ni utilizable ya que son parches de otras columnas\n",
    "\n",
    "Decido borrar las columnas Case number ya que no me aportan informacion relevante y lo he unido a la columna Casos"
   ]
  },
  {
   "cell_type": "markdown",
   "id": "4fdff35a",
   "metadata": {
    "slideshow": {
     "slide_type": "subslide"
    }
   },
   "source": [
    "#### Output Columnas: \"original order\",\"Case Number\",\"Case Number.1\",\"Case Number.2\""
   ]
  },
  {
   "cell_type": "code",
   "execution_count": 28,
   "id": "f1be1bf4",
   "metadata": {
    "ExecuteTime": {
     "end_time": "2021-11-01T16:58:05.178124Z",
     "start_time": "2021-11-01T16:58:05.161827Z"
    },
    "slideshow": {
     "slide_type": "subslide"
    }
   },
   "outputs": [],
   "source": [
    "df.drop([\"Case Number\",\"Case Number.1\",\"Case Number.2\"],axis=1,inplace=True)"
   ]
  },
  {
   "cell_type": "markdown",
   "id": "33cedcbc",
   "metadata": {
    "slideshow": {
     "slide_type": "slide"
    }
   },
   "source": [
    "### Columna \"unname 23\""
   ]
  },
  {
   "cell_type": "markdown",
   "id": "4a5b1bc3",
   "metadata": {
    "slideshow": {
     "slide_type": "subslide"
    }
   },
   "source": [
    "####   analisis de los valores y conocimiento del problema"
   ]
  },
  {
   "cell_type": "code",
   "execution_count": 30,
   "id": "e72bab49",
   "metadata": {
    "ExecuteTime": {
     "end_time": "2021-11-01T16:58:05.258708Z",
     "start_time": "2021-11-01T16:58:05.239396Z"
    },
    "slideshow": {
     "slide_type": "subslide"
    }
   },
   "outputs": [
    {
     "data": {
      "text/plain": [
       "{'Teramo', 'change filename', nan}"
      ]
     },
     "execution_count": 30,
     "metadata": {},
     "output_type": "execute_result"
    }
   ],
   "source": [
    "#Valores de Unnamed 23\n",
    "set(df[\"Unnamed: 23\"])"
   ]
  },
  {
   "cell_type": "code",
   "execution_count": 31,
   "id": "a366ef3d",
   "metadata": {
    "ExecuteTime": {
     "end_time": "2021-11-01T16:58:05.288542Z",
     "start_time": "2021-11-01T16:58:05.258708Z"
    },
    "slideshow": {
     "slide_type": "subslide"
    }
   },
   "outputs": [
    {
     "data": {
      "text/plain": [
       "change filename    1\n",
       "Teramo             1\n",
       "Name: Unnamed: 23, dtype: int64"
      ]
     },
     "execution_count": 31,
     "metadata": {},
     "output_type": "execute_result"
    }
   ],
   "source": [
    "#Cantidad de veces que salen estos valores\n",
    "df[\"Unnamed: 23\"].value_counts()"
   ]
  },
  {
   "cell_type": "markdown",
   "id": "8d65f3b8",
   "metadata": {
    "slideshow": {
     "slide_type": "subslide"
    }
   },
   "source": [
    "#### Conclusion y output"
   ]
  },
  {
   "cell_type": "code",
   "execution_count": 32,
   "id": "166c2a94",
   "metadata": {
    "ExecuteTime": {
     "end_time": "2021-11-01T16:58:05.313937Z",
     "start_time": "2021-11-01T16:58:05.288542Z"
    },
    "code_folding": [],
    "slideshow": {
     "slide_type": "subslide"
    }
   },
   "outputs": [],
   "source": [
    "# No la considero relevante asi que decido borrarla\n",
    "df.drop(\"Unnamed: 23\",axis=1,inplace=True)"
   ]
  },
  {
   "cell_type": "markdown",
   "id": "fdd8fa90",
   "metadata": {
    "slideshow": {
     "slide_type": "slide"
    }
   },
   "source": [
    "### Columna \"unname 22\""
   ]
  },
  {
   "cell_type": "markdown",
   "id": "b4d06306",
   "metadata": {
    "slideshow": {
     "slide_type": "subslide"
    }
   },
   "source": [
    "#### Identificacion de valores nulos de cada columna"
   ]
  },
  {
   "cell_type": "code",
   "execution_count": 33,
   "id": "62fc3910",
   "metadata": {
    "ExecuteTime": {
     "end_time": "2021-11-01T16:58:05.339135Z",
     "start_time": "2021-11-01T16:58:05.319006Z"
    },
    "slideshow": {
     "slide_type": "subslide"
    }
   },
   "outputs": [
    {
     "data": {
      "text/plain": [
       "{nan, 'stopped here'}"
      ]
     },
     "execution_count": 33,
     "metadata": {},
     "output_type": "execute_result"
    }
   ],
   "source": [
    "#Valores de Unnamed 22\n",
    "set(df[\"Unnamed: 22\"])"
   ]
  },
  {
   "cell_type": "code",
   "execution_count": 34,
   "id": "2873cab8",
   "metadata": {
    "ExecuteTime": {
     "end_time": "2021-11-01T16:58:05.358998Z",
     "start_time": "2021-11-01T16:58:05.341375Z"
    },
    "slideshow": {
     "slide_type": "subslide"
    }
   },
   "outputs": [
    {
     "data": {
      "text/plain": [
       "stopped here    1\n",
       "Name: Unnamed: 22, dtype: int64"
      ]
     },
     "execution_count": 34,
     "metadata": {},
     "output_type": "execute_result"
    }
   ],
   "source": [
    "#Vamos a ver cuantos valores hay\n",
    "df[\"Unnamed: 22\"].value_counts()"
   ]
  },
  {
   "cell_type": "markdown",
   "id": "19989865",
   "metadata": {
    "slideshow": {
     "slide_type": "subslide"
    }
   },
   "source": [
    "#### Conclusion y output"
   ]
  },
  {
   "cell_type": "code",
   "execution_count": 35,
   "id": "b13742a4",
   "metadata": {
    "ExecuteTime": {
     "end_time": "2021-11-01T16:58:05.378106Z",
     "start_time": "2021-11-01T16:58:05.361516Z"
    },
    "slideshow": {
     "slide_type": "subslide"
    }
   },
   "outputs": [],
   "source": [
    "#El registro esta en mitad de la tabla y no lo considero importante asi que quito toda la columna \n",
    "df.drop(\"Unnamed: 22\", axis=1,inplace=True)"
   ]
  },
  {
   "cell_type": "markdown",
   "id": "3955dad4",
   "metadata": {
    "slideshow": {
     "slide_type": "slide"
    }
   },
   "source": [
    "###  Columnas: \"Country\"  "
   ]
  },
  {
   "cell_type": "markdown",
   "id": "c015fee8",
   "metadata": {
    "slideshow": {
     "slide_type": "subslide"
    }
   },
   "source": [
    "#### Analisis inicial de las columnas"
   ]
  },
  {
   "cell_type": "code",
   "execution_count": 36,
   "id": "9a814024",
   "metadata": {
    "ExecuteTime": {
     "end_time": "2021-11-01T16:58:05.395309Z",
     "start_time": "2021-11-01T16:58:05.379609Z"
    },
    "slideshow": {
     "slide_type": "subslide"
    }
   },
   "outputs": [
    {
     "data": {
      "text/plain": [
       "43"
      ]
     },
     "execution_count": 36,
     "metadata": {},
     "output_type": "execute_result"
    }
   ],
   "source": [
    "#Observamos la cantidad de valores nulos que hay\n",
    "(df[\"Country\"]).isna().sum()"
   ]
  },
  {
   "cell_type": "code",
   "execution_count": 37,
   "id": "683055c5",
   "metadata": {
    "ExecuteTime": {
     "end_time": "2021-11-01T16:58:05.419218Z",
     "start_time": "2021-11-01T16:58:05.398607Z"
    },
    "slideshow": {
     "slide_type": "subslide"
    }
   },
   "outputs": [],
   "source": [
    "#Rellenamos los na con un grupo de \"No determinado\"\n",
    "df[\"Country\"].fillna(\"No determinado\",inplace=True)"
   ]
  },
  {
   "cell_type": "markdown",
   "id": "25c54f0b",
   "metadata": {
    "slideshow": {
     "slide_type": "subslide"
    }
   },
   "source": [
    "####  Limpieza de los valores:\n",
    "Observo que en los inicios hay espacios, hay ?, primero limpiar los nombres y despues buscar si existe el pais\n",
    "Objetivo: comprobar si existen y si no existen añadir como No determinado, antes borrar espacios iniciales y finales y quitar ?¿ç"
   ]
  },
  {
   "cell_type": "code",
   "execution_count": 38,
   "id": "4391c911",
   "metadata": {
    "ExecuteTime": {
     "end_time": "2021-11-01T16:58:05.439424Z",
     "start_time": "2021-11-01T16:58:05.419218Z"
    },
    "slideshow": {
     "slide_type": "subslide"
    }
   },
   "outputs": [],
   "source": [
    "#Primero lo convierto todo a mayusculas\n",
    "df[\"Country\"]=df[\"Country\"].str.upper()\n"
   ]
  },
  {
   "cell_type": "code",
   "execution_count": 39,
   "id": "c8648a24",
   "metadata": {
    "ExecuteTime": {
     "end_time": "2021-11-01T16:58:05.488727Z",
     "start_time": "2021-11-01T16:58:05.442008Z"
    },
    "slideshow": {
     "slide_type": "subslide"
    }
   },
   "outputs": [],
   "source": [
    "#Identifico los paises que empiezan con espacio y se lo quito\n",
    "df[df[\"Country\"].str.startswith(\" \")][\"Country\"]\n",
    "#Solo son PHILIPPINES Y TONGA, los modifico \n",
    "df.replace({\" PHILIPPINES\":\"PHILIPPINES\",\" TONGA\":\"TONGA\"},inplace=True)"
   ]
  },
  {
   "cell_type": "code",
   "execution_count": 40,
   "id": "fcf34da5",
   "metadata": {
    "ExecuteTime": {
     "end_time": "2021-11-01T16:58:05.568251Z",
     "start_time": "2021-11-01T16:58:05.488727Z"
    },
    "slideshow": {
     "slide_type": "subslide"
    }
   },
   "outputs": [],
   "source": [
    "#Identifico los paises que acaban con espacio y se lo quito\n",
    "df[df[\"Country\"].str.endswith(\" \")][\"Country\"]\n",
    "df.replace({\"YEMEN \":\"YEMEN\",\n",
    "            \"EGYPT \":\"EGYPT\",\n",
    "           \"NORTH ATLANTIC OCEAN \":\"NORTH ATLANTIC OCEAN\",\n",
    "           \"NICARAGUA \":\"NICARAGUA\",\n",
    "            \"PACIFIC OCEAN \":\"PACIFIC OCEAN\",\n",
    "            \"MEXICO \":\"MEXICO\"\n",
    "           },inplace=True)"
   ]
  },
  {
   "cell_type": "code",
   "execution_count": 41,
   "id": "5a33d1a8",
   "metadata": {
    "ExecuteTime": {
     "end_time": "2021-11-01T16:58:05.599207Z",
     "start_time": "2021-11-01T16:58:05.568251Z"
    },
    "scrolled": true,
    "slideshow": {
     "slide_type": "subslide"
    }
   },
   "outputs": [
    {
     "name": "stdout",
     "output_type": "stream",
     "text": [
      "ASIA?\n",
      "RED SEA?\n",
      "INDIAN OCEAN?\n",
      "MEDITERRANEAN SEA?\n",
      "SUDAN?\n"
     ]
    }
   ],
   "source": [
    "#Identifico los valores que tienen ? y los modifico\n",
    "for i in df[\"Country\"]:\n",
    "    if re.findall(\"[?]\",i):\n",
    "        print(i)"
   ]
  },
  {
   "cell_type": "code",
   "execution_count": 42,
   "id": "9961713f",
   "metadata": {
    "ExecuteTime": {
     "end_time": "2021-11-01T16:58:05.673481Z",
     "start_time": "2021-11-01T16:58:05.600195Z"
    },
    "slideshow": {
     "slide_type": "subslide"
    }
   },
   "outputs": [],
   "source": [
    "df.replace({\"ASIA?\":\"ASIA\",\n",
    "            \"RED SEA?\":\"RED SEA\",\n",
    "            \"INDIAN OCEAN?\":\"INDIAN OCEAN\",\n",
    "            \"MEDITERRANEAN SEA?\":\"MEDITERRANEAN SEA\",\n",
    "           \"SUDAN?\":\"SUDAN\"},inplace=True)"
   ]
  },
  {
   "cell_type": "markdown",
   "id": "ac46a420",
   "metadata": {
    "slideshow": {
     "slide_type": "subslide"
    }
   },
   "source": [
    "####  Conclusion: Clasificacion por paises existentes\n",
    "los nombres de los paises ya estan limpios, vamos a comprobar si existen \n",
    "[Github del csv](https://github.com/datasets/country-list/blob/master/data.csv#L119)"
   ]
  },
  {
   "cell_type": "code",
   "execution_count": 43,
   "id": "0fb35906",
   "metadata": {
    "ExecuteTime": {
     "end_time": "2021-11-01T16:58:05.689678Z",
     "start_time": "2021-11-01T16:58:05.673481Z"
    },
    "scrolled": true,
    "slideshow": {
     "slide_type": "subslide"
    }
   },
   "outputs": [],
   "source": [
    "#Descargo de github un csv con todos los paises del mundo en ingles, viene con indice y codigo asi que creo una lista con los paises\n",
    "lista_paises=pd.read_csv(\"paises.csv\")\n",
    "lista_paises=list(lista_paises[\"Name\"])"
   ]
  },
  {
   "cell_type": "code",
   "execution_count": 44,
   "id": "9378ab4f",
   "metadata": {
    "ExecuteTime": {
     "end_time": "2021-11-01T16:58:05.698314Z",
     "start_time": "2021-11-01T16:58:05.690225Z"
    },
    "slideshow": {
     "slide_type": "subslide"
    }
   },
   "outputs": [],
   "source": [
    "#Convierto los nombres a mayuscula y los pongo en una lista\n",
    "lista=[]\n",
    "for i in lista_paises:\n",
    "    lista.append(i.upper())\n",
    "lista_paises=lista"
   ]
  },
  {
   "cell_type": "code",
   "execution_count": 114,
   "id": "005b800c",
   "metadata": {
    "ExecuteTime": {
     "end_time": "2021-11-01T17:09:36.586090Z",
     "start_time": "2021-11-01T17:09:36.538999Z"
    },
    "code_folding": [],
    "slideshow": {
     "slide_type": "subslide"
    }
   },
   "outputs": [
    {
     "name": "stdout",
     "output_type": "stream",
     "text": [
      "AZORES\n",
      "ANTIGUA\n",
      "SOLOMON ISLANDS / VANUATU\n",
      "NEW GUINEA\n",
      "CARIBBEAN SEA\n",
      "TRINIDAD & TOBAGO\n",
      "IRAN / IRAQ\n",
      "CURACAO\n",
      "MID ATLANTIC OCEAN\n",
      "SCOTLAND\n",
      "ATLANTIC OCEAN\n",
      "PERSIAN GULF\n",
      "CRETE\n",
      "NORTHERN ARABIAN SEA\n",
      "BRITISH NEW GUINEA\n",
      "EGYPT / ISRAEL\n",
      "CENTRAL PACIFIC\n",
      "WESTERN SAMOA\n",
      "GULF OF ADEN\n",
      "BAY OF BENGAL\n",
      "BRITISH ISLES\n",
      "USA\n",
      "ITALY / CROATIA\n",
      "ENGLAND\n",
      "DIEGO GARCIA\n",
      "COAST OF AFRICA\n",
      "NEW BRITAIN\n",
      "PACIFIC OCEAN\n",
      "FALKLAND ISLANDS\n",
      "OCEAN\n",
      "TASMAN SEA\n",
      "INDIAN OCEAN\n",
      "RED SEA / INDIAN OCEAN\n",
      "FEDERATED STATES OF MICRONESIA\n",
      "NORTH ATLANTIC OCEAN\n",
      "VIETNAM\n",
      "SYRIA\n",
      "ST HELENA\n",
      "PALESTINIAN TERRITORIES\n",
      "BRITISH WEST INDIES\n",
      "SOUTH PACIFIC OCEAN\n",
      "ASIA\n",
      "SOUTH ATLANTIC OCEAN\n",
      "TURKS & CAICOS\n",
      "MALDIVE ISLANDS\n",
      "NORTH PACIFIC OCEAN\n",
      "COLUMBIA\n",
      "JAVA\n",
      "SAN DOMINGO\n",
      "RUSSIA\n",
      "CEYLON (SRI LANKA)\n",
      "SOUTH CHINA SEA\n",
      "UNITED ARAB EMIRATES (UAE)\n",
      "THE BALKANS\n",
      "EQUATORIAL GUINEA / CAMEROON\n",
      "BRITISH VIRGIN ISLANDS\n",
      "MEDITERRANEAN SEA\n",
      "BURMA\n",
      "KOREA\n",
      "BETWEEN PORTUGAL & INDIA\n",
      "MID-PACIFC OCEAN\n",
      "NETHERLANDS ANTILLES\n",
      "BAHREIN\n",
      "NORTH SEA\n",
      "GRAND CAYMAN\n",
      "ADMIRALTY ISLANDS\n",
      "OKINAWA\n",
      "REUNION\n",
      "NEVIS\n",
      "SOUTHWEST PACIFIC OCEAN\n",
      "ST. MARTIN\n",
      "RED SEA\n",
      "ST. MAARTIN\n",
      "NO DETERMINADO\n",
      "JOHNSTON ISLAND\n",
      "ANDAMAN / NICOBAR ISLANDAS\n"
     ]
    }
   ],
   "source": [
    "#Vamos a ver los paises que no identifica para ver cuales podemos solucionar y cuales no\n",
    "for i in set(df[\"Country\"]):\n",
    "    if i in list(lista_paises):\n",
    "        continue\n",
    "    else:\n",
    "        print(i)"
   ]
  },
  {
   "cell_type": "markdown",
   "id": "a3c77ee6",
   "metadata": {
    "ExecuteTime": {
     "end_time": "2021-11-01T15:07:43.402156Z",
     "start_time": "2021-11-01T15:07:43.387724Z"
    },
    "slideshow": {
     "slide_type": "subslide"
    }
   },
   "source": [
    "**MODIFICACIONES sobre la lista de paises que no aparecen** {Como salen: Transformacion} (ND=no determinado)\n",
    "1. CEYLON (SRI LANKA): SRI LANKA\n",
    "1. MID-PACIFC OCEAN:ND\n",
    "1. ASIA:ND\n",
    "1.  PERSIAN GULF: ND\n",
    "1.  SAN DOMINGO: DOMINICAN REPUBLIC\n",
    "1.  NEW BRITAIN: ND\n",
    "1.  TRINIDAD & TOBAGO: TRINIDAD AND TOBAGO\n",
    "1.  NORTH SEA: ND\n",
    "1.  UNITED ARAB EMIRATES (UAE): 'UNITED ARAB EMIRATES'\n",
    "1.  SOUTH PACIFIC OCEAN: ND\n",
    "1.  FALKLAND ISLANDS: 'FALKLAND ISLANDS (MALVINAS)'\n",
    "1.  SOUTHWEST PACIFIC OCEAN: ND\n",
    "1.  OKINAWA: JAPAN\n",
    "1.  EQUATORIAL GUINEA / CAMEROON: ND\n",
    "1.  BRITISH ISLES: ND\n",
    "1.  NETHERLANDS ANTILLES: ND\n",
    "1.  GULF OF ADEN: YEMEN\n",
    "1.  BURMA: MYANMAR\n",
    "1.  BRITISH NEW GUINEA: ND\n",
    "1.  THE BALKANS: ND\n",
    "1.  FEDERATED STATES OF MICRONESIA: MICRONESIA\n",
    "1.  PACIFIC OCEAN: ND\n",
    "1.  MEDITERRANEAN SEA: ND\n",
    "1.  MALDIVE ISLANDS: MALDIVES\n",
    "1.  ANDAMAN / NICOBAR ISLANDAS: INDIA\n",
    "1.  TASMAN SEA: AUSTRALIA\n",
    "1.  REUNION: FRANCE\n",
    "1.  BAY OF BENGAL:INDIA\n",
    "1.  BAHREIN: BAHRAIN\n",
    "1.  ATLANTIC OCEAN: ND\n",
    "1.  DIEGO GARCIA: ND\n",
    "1.  TURKS & CAICOS: ND PERO MUY BONITO\n",
    "1.  PALESTINIAN TERRITORIES: PALESTINE\n",
    "1.  SYRIA: 'SYRIAN ARAB REPUBLIC'\n",
    "1.  NO DETERMINADO\n",
    "1.  JAVA: INDONESIA\n",
    "1.  RUSSIA: RUSSIAN FEDERATION\n",
    "1.  GRAND CAYMAN: CAYMAN ISLANDS'\n",
    "1.  NEVIS: ND\n",
    "1.  ST. MAARTIN: 'SAINT MARTIN (FRENCH PART)'\n",
    "1.  JOHNSTON ISLAND: ND\n",
    "1.  ST. MARTIN: 'SAINT MARTIN (FRENCH PART)'\n",
    "1.  NORTH PACIFIC OCEAN: ND\n",
    "1.  ENGLAND:'UNITED KINGDOM'\n",
    "1.  ST HELENA: 'SAINT HELENA'\n",
    "1.  ANTIGUA: 'ANTIGUA AND BARBUDA'\n",
    "1.  NORTH ATLANTIC OCEAN: ND\n",
    "1.  BRITISH WEST INDIES: ND\n",
    "1.  AZORES: PORTUGAL\n",
    "1.  IRAN / IRAQ: ND\n",
    "1.  SCOTLAND: UNITED KINGDOM\n",
    "1.  SOUTH ATLANTIC OCEAN: ND\n",
    "1.  SOLOMON ISLANDS / VANUATU: ND\n",
    "1.  SOUTH CHINA SEA: CHINA\n",
    "1.  COLUMBIA: COLOMBIA\n",
    "1.  RED SEA: ND\n",
    "1.  BETWEEN PORTUGAL & INDIA: ND\n",
    "1.  ADMIRALTY ISLANDS: ND\n",
    "1.  WESTERN SAMOA: SAMOA\n",
    "1.  CENTRAL PACIFIC: ND\n",
    "1.  OCEAN: ND\n",
    "1.  EGYPT / ISRAEL: ND\n",
    "1.  COAST OF AFRICA: ND\n",
    "1.  CRETE: GREECE\n",
    "1.  ITALY / CROATIA: ND\n",
    "1.  KOREA: ND\n",
    "1.  VIETNAM: VIET NAM\n",
    "1.  BRITISH VIRGIN ISLANDS: ND\n",
    "1.  NORTHERN ARABIAN SEA: ND\n",
    "1.  INDIAN OCEAN: ND\n",
    "1.  USA: 'UNITED STATES'\n",
    "1.  CARIBBEAN SEA: ND\n",
    "1.  RED SEA / INDIAN OCEAN: ND\n",
    "1.  NEW GUINEA: GUINEA\n",
    "1.  CURACAO: BRAZIL\n",
    "1.  MID ATLANTIC OCEAN: ND"
   ]
  },
  {
   "cell_type": "code",
   "execution_count": 115,
   "id": "e3432bb9",
   "metadata": {
    "ExecuteTime": {
     "end_time": "2021-11-01T17:09:50.905974Z",
     "start_time": "2021-11-01T17:09:50.778406Z"
    },
    "code_folding": [
     1
    ],
    "slideshow": {
     "slide_type": "subslide"
    }
   },
   "outputs": [],
   "source": [
    "#Hacemos las modificaciones en el dataset\n",
    "df.replace({\"CEYLON (SRI LANKA)\": \"SRI LANKA\",\n",
    "            \"SAN DOMINGO\": \"DOMINICAN REPUBLIC\",\n",
    "            \"TRINIDAD & TOBAGO\": \"TRINIDAD AND TOBAGO\",\n",
    "            \"UNITED ARAB EMIRATES (UAE)\": \"UNITED ARAB EMIRATES\",\n",
    "           \"FALKLAND ISLANDS\": \"FALKLAND ISLANDS (MALVINAS)\",\n",
    "            \"OKINAWA\": \"JAPAN\",\n",
    "           \"GULF OF ADEN\": \"YEMEN\",\n",
    "            \"BURMA\": \"MYANMAR\",\n",
    "           \"FEDERATED STATES OF MICRONESIA\": \"MICRONESIA\",\n",
    "            \"MALDIVE ISLANDS\": \"MALDIVES\",\n",
    "           \"ANDAMAN / NICOBAR ISLANDAS\": \"INDIA\",\n",
    "            \"TASMAN SEA\": \"AUSTRALIA\",\n",
    "            \"REUNION\":\"FRANCE\",\n",
    "            \"BAY OF BENGAL\":\"INDIA\",\n",
    "            \"BAHREIN\":\"BAHRAIN\",\n",
    "           \"PALESTINIAN TERRITORIES\":\"PALESTINE\",\n",
    "            \"SYRIA\": 'SYRIAN ARAB REPUBLIC',\n",
    "            \"JAVA\": \"INDONESIA\",\n",
    "            \"RUSSIA\": \"RUSSIAN FEDERATION\",\n",
    "            \"GRAND CAYMAN\": \"CAYMAN ISLANDS\",\n",
    "            \"ST. MAARTIN\": 'SAINT MARTIN (FRENCH PART)',\n",
    "            \"ST. MARTIN\": 'SAINT MARTIN (FRENCH PART)',\n",
    "            \"ENGLAND\":'UNITED KINGDOM',\n",
    "            \"ST HELENA\": 'SAINT HELENA',\n",
    "            \"ANTIGUA\": 'ANTIGUA AND BARBUDA',\n",
    "              \"AZORES\": \"PORTUGAL\",\n",
    "            \"SCOTLAND\": \"UNITED KINGDOM\",\n",
    "            \"SOUTH CHINA SEA\": \"CHINA\",\n",
    "            \"COLUMBIA\": \"COLOMBIA\",\n",
    "            \"WESTERN SAMOA\": \"SAMOA\",\n",
    "            \"CRETE\": \"GREECE\",\n",
    "            \"VIETNAM\": \"VIET NAM\",\n",
    "            \"USA\": 'UNITED STATES',\n",
    "            \"NEW GUINEA\": \"GUINEA\",\n",
    "            \"CURACAO\": \"BRAZIL\"\n",
    "            \n",
    "           },inplace=True)"
   ]
  },
  {
   "cell_type": "code",
   "execution_count": 117,
   "id": "b52e8079",
   "metadata": {
    "ExecuteTime": {
     "end_time": "2021-11-01T17:10:04.127356Z",
     "start_time": "2021-11-01T17:10:03.720892Z"
    },
    "slideshow": {
     "slide_type": "subslide"
    }
   },
   "outputs": [],
   "source": [
    "#Los paises que no estan bien escritos los añadimos a No determinado\n",
    "for i in set(df[\"Country\"]):\n",
    "    if i in list(lista_paises):\n",
    "        continue\n",
    "    else:\n",
    "        df.replace({i:\"No determinado\"},inplace=True)"
   ]
  },
  {
   "cell_type": "code",
   "execution_count": 118,
   "id": "6760a8a7",
   "metadata": {
    "ExecuteTime": {
     "end_time": "2021-11-01T17:10:11.965337Z",
     "start_time": "2021-11-01T17:10:11.933542Z"
    },
    "code_folding": [],
    "scrolled": true,
    "slideshow": {
     "slide_type": "subslide"
    }
   },
   "outputs": [
    {
     "data": {
      "text/plain": [
       "UNITED STATES       2116\n",
       "AUSTRALIA           1280\n",
       "SOUTH AFRICA         565\n",
       "No determinado       174\n",
       "PAPUA NEW GUINEA     133\n",
       "                    ... \n",
       "GREENLAND              1\n",
       "SLOVENIA               1\n",
       "GUYANA                 1\n",
       "PUERTO RICO            1\n",
       "MALDIVES               1\n",
       "Name: Country, Length: 128, dtype: int64"
      ]
     },
     "execution_count": 118,
     "metadata": {},
     "output_type": "execute_result"
    }
   ],
   "source": [
    "#Comprobamos\n",
    "df[\"Country\"].value_counts()"
   ]
  },
  {
   "cell_type": "markdown",
   "id": "c0df9fb6",
   "metadata": {
    "slideshow": {
     "slide_type": "slide"
    }
   },
   "source": [
    "### Columna: \"Age\""
   ]
  },
  {
   "cell_type": "markdown",
   "id": "4edc8e04",
   "metadata": {
    "slideshow": {
     "slide_type": "subslide"
    }
   },
   "source": [
    "#### Identificacion de valores nulos de cada columna"
   ]
  },
  {
   "cell_type": "code",
   "execution_count": 48,
   "id": "80491ab0",
   "metadata": {
    "ExecuteTime": {
     "end_time": "2021-11-01T17:02:07.955884Z",
     "start_time": "2021-11-01T17:02:07.931769Z"
    },
    "scrolled": true,
    "slideshow": {
     "slide_type": "subslide"
    }
   },
   "outputs": [
    {
     "data": {
      "text/plain": [
       "2681"
      ]
     },
     "execution_count": 48,
     "metadata": {},
     "output_type": "execute_result"
    }
   ],
   "source": [
    "#La mitad de los valores son nulos (mal empezamos)\n",
    "df[\"Age\"].isna().sum()"
   ]
  },
  {
   "cell_type": "code",
   "execution_count": 49,
   "id": "9282b7d9",
   "metadata": {
    "ExecuteTime": {
     "end_time": "2021-11-01T17:02:08.590223Z",
     "start_time": "2021-11-01T17:02:08.559206Z"
    },
    "slideshow": {
     "slide_type": "subslide"
    }
   },
   "outputs": [
    {
     "data": {
      "text/plain": [
       "17               148\n",
       "18               145\n",
       "19               138\n",
       "20               136\n",
       "15               135\n",
       "                ... \n",
       "60s                1\n",
       "25 or 28           1\n",
       "34 & 19            1\n",
       "2 to 3 months      1\n",
       "18 to 22           1\n",
       "Name: Age, Length: 151, dtype: int64"
      ]
     },
     "execution_count": 49,
     "metadata": {},
     "output_type": "execute_result"
    }
   ],
   "source": [
    "df[\"Age\"].value_counts()"
   ]
  },
  {
   "cell_type": "markdown",
   "id": "085dd04a",
   "metadata": {
    "slideshow": {
     "slide_type": "subslide"
    }
   },
   "source": [
    "#### Conclusion y output\n"
   ]
  },
  {
   "cell_type": "code",
   "execution_count": 50,
   "id": "d128d983",
   "metadata": {
    "ExecuteTime": {
     "end_time": "2021-11-01T17:02:10.037316Z",
     "start_time": "2021-11-01T17:02:10.014064Z"
    },
    "slideshow": {
     "slide_type": "subslide"
    }
   },
   "outputs": [],
   "source": [
    "#intento modificar los valores, primero relleno los na con 0\n",
    "df[\"Age\"].fillna(\"0\",inplace=True)"
   ]
  },
  {
   "cell_type": "code",
   "execution_count": 51,
   "id": "68d69c79",
   "metadata": {
    "ExecuteTime": {
     "end_time": "2021-11-01T17:02:10.470041Z",
     "start_time": "2021-11-01T17:02:10.454418Z"
    },
    "slideshow": {
     "slide_type": "subslide"
    }
   },
   "outputs": [],
   "source": [
    "#Creo una definicion que compruebe si la edad es unicamente numerica y el resto los cambio a 0\n",
    "def edad(edad):\n",
    "    try:\n",
    "        edad==int(edad)\n",
    "        if i!=0:\n",
    "            return edad\n",
    "    except ValueError:\n",
    "        return 0"
   ]
  },
  {
   "cell_type": "code",
   "execution_count": 52,
   "id": "1b57a7b9",
   "metadata": {
    "ExecuteTime": {
     "end_time": "2021-11-01T17:02:10.920622Z",
     "start_time": "2021-11-01T17:02:10.907473Z"
    },
    "slideshow": {
     "slide_type": "subslide"
    }
   },
   "outputs": [],
   "source": [
    "#Aplico la funcion\n",
    "df[\"Age\"]=df[\"Age\"].apply(edad)"
   ]
  },
  {
   "cell_type": "markdown",
   "id": "8326dd53",
   "metadata": {
    "slideshow": {
     "slide_type": "slide"
    }
   },
   "source": [
    "###  Columnas: \"pdf\",\"href formula\",\"href\""
   ]
  },
  {
   "cell_type": "markdown",
   "id": "5c1447d8",
   "metadata": {
    "slideshow": {
     "slide_type": "fragment"
    }
   },
   "source": [
    "Objetivo unificar las 3 columnas al pdf de esa columna"
   ]
  },
  {
   "cell_type": "markdown",
   "id": "6e49a508",
   "metadata": {
    "slideshow": {
     "slide_type": "subslide"
    }
   },
   "source": [
    "####  Analisis inicial"
   ]
  },
  {
   "cell_type": "code",
   "execution_count": 53,
   "id": "ee6d2ccf",
   "metadata": {
    "ExecuteTime": {
     "end_time": "2021-11-01T17:02:14.621487Z",
     "start_time": "2021-11-01T17:02:14.587220Z"
    },
    "slideshow": {
     "slide_type": "subslide"
    }
   },
   "outputs": [
    {
     "data": {
      "text/html": [
       "<div>\n",
       "<style scoped>\n",
       "    .dataframe tbody tr th:only-of-type {\n",
       "        vertical-align: middle;\n",
       "    }\n",
       "\n",
       "    .dataframe tbody tr th {\n",
       "        vertical-align: top;\n",
       "    }\n",
       "\n",
       "    .dataframe thead th {\n",
       "        text-align: right;\n",
       "    }\n",
       "</style>\n",
       "<table border=\"1\" class=\"dataframe\">\n",
       "  <thead>\n",
       "    <tr style=\"text-align: right;\">\n",
       "      <th></th>\n",
       "      <th>pdf</th>\n",
       "      <th>href formula</th>\n",
       "      <th>href</th>\n",
       "    </tr>\n",
       "    <tr>\n",
       "      <th>Casos</th>\n",
       "      <th></th>\n",
       "      <th></th>\n",
       "      <th></th>\n",
       "    </tr>\n",
       "  </thead>\n",
       "  <tbody>\n",
       "    <tr>\n",
       "      <th>1</th>\n",
       "      <td>ND-0001-Ceylon.pdf</td>\n",
       "      <td>http://sharkattackfile.net/spreadsheets/pdf_di...</td>\n",
       "      <td>http://sharkattackfile.net/spreadsheets/pdf_di...</td>\n",
       "    </tr>\n",
       "    <tr>\n",
       "      <th>2</th>\n",
       "      <td>ND-0002-JulesPatterson.pdf</td>\n",
       "      <td>http://sharkattackfile.net/spreadsheets/pdf_di...</td>\n",
       "      <td>http://sharkattackfile.net/spreadsheets/pdf_di...</td>\n",
       "    </tr>\n",
       "    <tr>\n",
       "      <th>3</th>\n",
       "      <td>ND-0003-Ocracoke_1900-1905.pdf</td>\n",
       "      <td>http://sharkattackfile.net/spreadsheets/pdf_di...</td>\n",
       "      <td>http://sharkattackfile.net/spreadsheets/pdf_di...</td>\n",
       "    </tr>\n",
       "    <tr>\n",
       "      <th>4</th>\n",
       "      <td>ND-0004-Ahmun.pdf</td>\n",
       "      <td>http://sharkattackfile.net/spreadsheets/pdf_di...</td>\n",
       "      <td>http://sharkattackfile.net/spreadsheets/pdf_di...</td>\n",
       "    </tr>\n",
       "    <tr>\n",
       "      <th>5</th>\n",
       "      <td>ND-0005-RoebuckBay.pdf</td>\n",
       "      <td>http://sharkattackfile.net/spreadsheets/pdf_di...</td>\n",
       "      <td>http://sharkattackfile.net/spreadsheets/pdf_di...</td>\n",
       "    </tr>\n",
       "    <tr>\n",
       "      <th>...</th>\n",
       "      <td>...</td>\n",
       "      <td>...</td>\n",
       "      <td>...</td>\n",
       "    </tr>\n",
       "    <tr>\n",
       "      <th>5988</th>\n",
       "      <td>2016.09.16-BellsBeach.pdf</td>\n",
       "      <td>http://sharkattackfile.net/spreadsheets/pdf_di...</td>\n",
       "      <td>http://sharkattackfile.net/spreadsheets/pdf_di...</td>\n",
       "    </tr>\n",
       "    <tr>\n",
       "      <th>5989</th>\n",
       "      <td>2016.09.17-Angiolella.pdf</td>\n",
       "      <td>http://sharkattackfile.net/spreadsheets/pdf_di...</td>\n",
       "      <td>http://sharkattackfile.net/spreadsheets/pdf_di...</td>\n",
       "    </tr>\n",
       "    <tr>\n",
       "      <th>5990</th>\n",
       "      <td>2016.09.18.a-NSB.pdf</td>\n",
       "      <td>http://sharkattackfile.net/spreadsheets/pdf_di...</td>\n",
       "      <td>http://sharkattackfile.net/spreadsheets/pdf_di...</td>\n",
       "    </tr>\n",
       "    <tr>\n",
       "      <th>5991</th>\n",
       "      <td>2016.09.18.b-Luciano.pdf</td>\n",
       "      <td>http://sharkattackfile.net/spreadsheets/pdf_di...</td>\n",
       "      <td>http://sharkattackfile.net/spreadsheets/pdf_di...</td>\n",
       "    </tr>\n",
       "    <tr>\n",
       "      <th>5992</th>\n",
       "      <td>2016.09.18.c-NSB.pdf</td>\n",
       "      <td>http://sharkattackfile.net/spreadsheets/pdf_di...</td>\n",
       "      <td>http://sharkattackfile.net/spreadsheets/pdf_di...</td>\n",
       "    </tr>\n",
       "  </tbody>\n",
       "</table>\n",
       "<p>5992 rows × 3 columns</p>\n",
       "</div>"
      ],
      "text/plain": [
       "                                  pdf  \\\n",
       "Casos                                   \n",
       "1                  ND-0001-Ceylon.pdf   \n",
       "2          ND-0002-JulesPatterson.pdf   \n",
       "3      ND-0003-Ocracoke_1900-1905.pdf   \n",
       "4                   ND-0004-Ahmun.pdf   \n",
       "5              ND-0005-RoebuckBay.pdf   \n",
       "...                               ...   \n",
       "5988        2016.09.16-BellsBeach.pdf   \n",
       "5989        2016.09.17-Angiolella.pdf   \n",
       "5990             2016.09.18.a-NSB.pdf   \n",
       "5991         2016.09.18.b-Luciano.pdf   \n",
       "5992             2016.09.18.c-NSB.pdf   \n",
       "\n",
       "                                            href formula  \\\n",
       "Casos                                                      \n",
       "1      http://sharkattackfile.net/spreadsheets/pdf_di...   \n",
       "2      http://sharkattackfile.net/spreadsheets/pdf_di...   \n",
       "3      http://sharkattackfile.net/spreadsheets/pdf_di...   \n",
       "4      http://sharkattackfile.net/spreadsheets/pdf_di...   \n",
       "5      http://sharkattackfile.net/spreadsheets/pdf_di...   \n",
       "...                                                  ...   \n",
       "5988   http://sharkattackfile.net/spreadsheets/pdf_di...   \n",
       "5989   http://sharkattackfile.net/spreadsheets/pdf_di...   \n",
       "5990   http://sharkattackfile.net/spreadsheets/pdf_di...   \n",
       "5991   http://sharkattackfile.net/spreadsheets/pdf_di...   \n",
       "5992   http://sharkattackfile.net/spreadsheets/pdf_di...   \n",
       "\n",
       "                                                    href  \n",
       "Casos                                                     \n",
       "1      http://sharkattackfile.net/spreadsheets/pdf_di...  \n",
       "2      http://sharkattackfile.net/spreadsheets/pdf_di...  \n",
       "3      http://sharkattackfile.net/spreadsheets/pdf_di...  \n",
       "4      http://sharkattackfile.net/spreadsheets/pdf_di...  \n",
       "5      http://sharkattackfile.net/spreadsheets/pdf_di...  \n",
       "...                                                  ...  \n",
       "5988   http://sharkattackfile.net/spreadsheets/pdf_di...  \n",
       "5989   http://sharkattackfile.net/spreadsheets/pdf_di...  \n",
       "5990   http://sharkattackfile.net/spreadsheets/pdf_di...  \n",
       "5991   http://sharkattackfile.net/spreadsheets/pdf_di...  \n",
       "5992   http://sharkattackfile.net/spreadsheets/pdf_di...  \n",
       "\n",
       "[5992 rows x 3 columns]"
      ]
     },
     "execution_count": 53,
     "metadata": {},
     "output_type": "execute_result"
    }
   ],
   "source": [
    "#Observamos las 3 columnas\n",
    "df[[\"pdf\",\"href formula\",\"href\"]]"
   ]
  },
  {
   "cell_type": "code",
   "execution_count": 54,
   "id": "a5ec7961",
   "metadata": {
    "ExecuteTime": {
     "end_time": "2021-11-01T17:02:15.393143Z",
     "start_time": "2021-11-01T17:02:15.369364Z"
    },
    "slideshow": {
     "slide_type": "subslide"
    }
   },
   "outputs": [
    {
     "data": {
      "text/plain": [
       "pdf             0\n",
       "href formula    1\n",
       "href            3\n",
       "dtype: int64"
      ]
     },
     "execution_count": 54,
     "metadata": {},
     "output_type": "execute_result"
    }
   ],
   "source": [
    "#Vamos a comprobar los valores nulos de cada columna para elegir la que menos tenga\n",
    "df[[\"pdf\",\"href formula\",\"href\"]].isna().sum()"
   ]
  },
  {
   "cell_type": "code",
   "execution_count": 55,
   "id": "d7c15767",
   "metadata": {
    "ExecuteTime": {
     "end_time": "2021-11-01T17:02:15.916536Z",
     "start_time": "2021-11-01T17:02:15.884556Z"
    },
    "slideshow": {
     "slide_type": "subslide"
    }
   },
   "outputs": [
    {
     "data": {
      "text/html": [
       "<div>\n",
       "<style scoped>\n",
       "    .dataframe tbody tr th:only-of-type {\n",
       "        vertical-align: middle;\n",
       "    }\n",
       "\n",
       "    .dataframe tbody tr th {\n",
       "        vertical-align: top;\n",
       "    }\n",
       "\n",
       "    .dataframe thead th {\n",
       "        text-align: right;\n",
       "    }\n",
       "</style>\n",
       "<table border=\"1\" class=\"dataframe\">\n",
       "  <thead>\n",
       "    <tr style=\"text-align: right;\">\n",
       "      <th></th>\n",
       "      <th>pdf</th>\n",
       "      <th>href formula</th>\n",
       "      <th>href</th>\n",
       "    </tr>\n",
       "    <tr>\n",
       "      <th>Casos</th>\n",
       "      <th></th>\n",
       "      <th></th>\n",
       "      <th></th>\n",
       "    </tr>\n",
       "  </thead>\n",
       "  <tbody>\n",
       "    <tr>\n",
       "      <th>1</th>\n",
       "      <td>False</td>\n",
       "      <td>False</td>\n",
       "      <td>False</td>\n",
       "    </tr>\n",
       "    <tr>\n",
       "      <th>4000</th>\n",
       "      <td>False</td>\n",
       "      <td>False</td>\n",
       "      <td>False</td>\n",
       "    </tr>\n",
       "    <tr>\n",
       "      <th>3999</th>\n",
       "      <td>False</td>\n",
       "      <td>False</td>\n",
       "      <td>False</td>\n",
       "    </tr>\n",
       "    <tr>\n",
       "      <th>3998</th>\n",
       "      <td>False</td>\n",
       "      <td>False</td>\n",
       "      <td>False</td>\n",
       "    </tr>\n",
       "    <tr>\n",
       "      <th>3997</th>\n",
       "      <td>False</td>\n",
       "      <td>False</td>\n",
       "      <td>False</td>\n",
       "    </tr>\n",
       "    <tr>\n",
       "      <th>...</th>\n",
       "      <td>...</td>\n",
       "      <td>...</td>\n",
       "      <td>...</td>\n",
       "    </tr>\n",
       "    <tr>\n",
       "      <th>1993</th>\n",
       "      <td>False</td>\n",
       "      <td>False</td>\n",
       "      <td>False</td>\n",
       "    </tr>\n",
       "    <tr>\n",
       "      <th>1992</th>\n",
       "      <td>False</td>\n",
       "      <td>False</td>\n",
       "      <td>False</td>\n",
       "    </tr>\n",
       "    <tr>\n",
       "      <th>1991</th>\n",
       "      <td>False</td>\n",
       "      <td>False</td>\n",
       "      <td>False</td>\n",
       "    </tr>\n",
       "    <tr>\n",
       "      <th>2000</th>\n",
       "      <td>False</td>\n",
       "      <td>False</td>\n",
       "      <td>False</td>\n",
       "    </tr>\n",
       "    <tr>\n",
       "      <th>2973</th>\n",
       "      <td>False</td>\n",
       "      <td>True</td>\n",
       "      <td>False</td>\n",
       "    </tr>\n",
       "  </tbody>\n",
       "</table>\n",
       "<p>5992 rows × 3 columns</p>\n",
       "</div>"
      ],
      "text/plain": [
       "         pdf  href formula   href\n",
       "Casos                            \n",
       "1      False         False  False\n",
       "4000   False         False  False\n",
       "3999   False         False  False\n",
       "3998   False         False  False\n",
       "3997   False         False  False\n",
       "...      ...           ...    ...\n",
       "1993   False         False  False\n",
       "1992   False         False  False\n",
       "1991   False         False  False\n",
       "2000   False         False  False\n",
       "2973   False          True  False\n",
       "\n",
       "[5992 rows x 3 columns]"
      ]
     },
     "execution_count": 55,
     "metadata": {},
     "output_type": "execute_result"
    }
   ],
   "source": [
    "df[[\"pdf\",\"href formula\",\"href\"]].isna().sort_values(\"href formula\")\n"
   ]
  },
  {
   "cell_type": "code",
   "execution_count": 56,
   "id": "53cffcd9",
   "metadata": {
    "ExecuteTime": {
     "end_time": "2021-11-01T17:02:16.400232Z",
     "start_time": "2021-11-01T17:02:16.368927Z"
    },
    "scrolled": true,
    "slideshow": {
     "slide_type": "subslide"
    }
   },
   "outputs": [
    {
     "data": {
      "text/plain": [
       "pdf                                      1976.00.00.b-Nakaima.pdf\n",
       "href formula    http://sharkattackfile.net/spreadsheets/pdf_di...\n",
       "href            http://sharkattackfile.net/spreadsheets/pdf_di...\n",
       "Name: 3020, dtype: object"
      ]
     },
     "execution_count": 56,
     "metadata": {},
     "output_type": "execute_result"
    }
   ],
   "source": [
    "df.loc[3020,[\"pdf\",\"href formula\",\"href\"]]"
   ]
  },
  {
   "cell_type": "markdown",
   "id": "3dd07548",
   "metadata": {
    "slideshow": {
     "slide_type": "subslide"
    }
   },
   "source": [
    "#### Conclusion y output"
   ]
  },
  {
   "cell_type": "code",
   "execution_count": 57,
   "id": "8e397816",
   "metadata": {
    "ExecuteTime": {
     "end_time": "2021-11-01T17:02:17.645245Z",
     "start_time": "2021-11-01T17:02:17.636381Z"
    },
    "slideshow": {
     "slide_type": "subslide"
    }
   },
   "outputs": [],
   "source": [
    "#añado la formula de href a la columna con todos los hipervinculos\n",
    "df[\"href formula\"].at[3020]=df[\"href\"].at[3020]"
   ]
  },
  {
   "cell_type": "code",
   "execution_count": 58,
   "id": "23a5dd94",
   "metadata": {
    "ExecuteTime": {
     "end_time": "2021-11-01T17:02:18.143059Z",
     "start_time": "2021-11-01T17:02:18.118915Z"
    },
    "slideshow": {
     "slide_type": "subslide"
    }
   },
   "outputs": [],
   "source": [
    "#elimino las columnas pdf y href \n",
    "df.drop([\"pdf\",\"href\"],axis=1,inplace=True)"
   ]
  },
  {
   "cell_type": "code",
   "execution_count": 59,
   "id": "d9b7aa4b",
   "metadata": {
    "ExecuteTime": {
     "end_time": "2021-11-01T17:02:18.618786Z",
     "start_time": "2021-11-01T17:02:18.604194Z"
    },
    "slideshow": {
     "slide_type": "subslide"
    }
   },
   "outputs": [],
   "source": [
    "#cambio de nombre a la columna que guardo en el df\n",
    "df.rename(columns={\"href formula\":\"Pdf\"},inplace=True)"
   ]
  },
  {
   "cell_type": "markdown",
   "id": "ffe39e57",
   "metadata": {
    "ExecuteTime": {
     "end_time": "2021-10-30T17:06:35.729228Z",
     "start_time": "2021-10-30T17:06:35.720339Z"
    },
    "slideshow": {
     "slide_type": "slide"
    }
   },
   "source": [
    "###  Columnas: \"species\""
   ]
  },
  {
   "cell_type": "markdown",
   "id": "4eeb8f08",
   "metadata": {
    "slideshow": {
     "slide_type": "subslide"
    }
   },
   "source": [
    "####   Analisis inicial"
   ]
  },
  {
   "cell_type": "code",
   "execution_count": 60,
   "id": "562afb0b",
   "metadata": {
    "ExecuteTime": {
     "end_time": "2021-11-01T17:02:20.270041Z",
     "start_time": "2021-11-01T17:02:20.246127Z"
    },
    "slideshow": {
     "slide_type": "subslide"
    }
   },
   "outputs": [
    {
     "data": {
      "text/plain": [
       "2934"
      ]
     },
     "execution_count": 60,
     "metadata": {},
     "output_type": "execute_result"
    }
   ],
   "source": [
    "#Comprobamos cuantos valores na hay\n",
    "df[\"Species \"].isna().sum()"
   ]
  },
  {
   "cell_type": "code",
   "execution_count": 61,
   "id": "2470d2ee",
   "metadata": {
    "ExecuteTime": {
     "end_time": "2021-11-01T17:02:20.806033Z",
     "start_time": "2021-11-01T17:02:20.784083Z"
    },
    "slideshow": {
     "slide_type": "subslide"
    }
   },
   "outputs": [
    {
     "data": {
      "text/plain": [
       "1538"
      ]
     },
     "execution_count": 61,
     "metadata": {},
     "output_type": "execute_result"
    }
   ],
   "source": [
    "# Cuantas categorias de especies diferentes hay\n",
    "df[\"Species \"].nunique()"
   ]
  },
  {
   "cell_type": "code",
   "execution_count": 62,
   "id": "389cdea3",
   "metadata": {
    "ExecuteTime": {
     "end_time": "2021-11-01T17:02:21.212788Z",
     "start_time": "2021-11-01T17:02:21.181340Z"
    },
    "slideshow": {
     "slide_type": "subslide"
    }
   },
   "outputs": [
    {
     "data": {
      "text/plain": [
       "{nan,\n",
       " 'Shark involvement doubtful',\n",
       " 'Blue pointer',\n",
       " \"1.8 m [6'] shark, species identity questionable\",\n",
       " \"4.3 m [14'], 1000-lb shark\",\n",
       " 'Bronze whaler sharks x 3',\n",
       " 'Blue shark, 4.5 m [14\\'9\"]',\n",
       " \"White shark, 14' to 18' \",\n",
       " \"Reported to involve a 3.7 m [12'] shark, possibly a white shark\",\n",
       " 'Possibly a Caribbean reef shark',\n",
       " 'White shark, 4.5 m  to 6 m [14\\'9\" to 20\\'] according to witnesses',\n",
       " \"3' to 5' shark\",\n",
       " \"2.7 m [9'] bull shark, identified by Capt. W. Gray\",\n",
       " \"2.6 m [8.5'] shark landed 2 hours later\",\n",
       " '234-lb shark',\n",
       " \"White shark, 3.5 m [11.5'], species identity confirmed by tooth fragment\",\n",
       " \"3 m to 3.7 m [10' to 12'] shark\",\n",
       " 'Shortfin mako shark',\n",
       " \"Tiger shark, 5.2 m [17']\",\n",
       " \"2.7 m [9']  shark\",\n",
       " \"1.8 m [6'] Zambezi shark\",\n",
       " \"1.5 m [5'] dusky shark\",\n",
       " 'White shark, 3m',\n",
       " 'reef shark?',\n",
       " 'Bull shark, 400-lb ',\n",
       " \"2' to 3' reef shark\",\n",
       " 'Said to involve 2 sharks',\n",
       " 'sandtiger shark',\n",
       " '\"small sharks\"',\n",
       " 'Lemon shark, 1164 mm, immature male, identified by  V.G. Springer',\n",
       " 'Possibly a white shark',\n",
       " '1.8 m blacktip \"reef\" shark',\n",
       " '1,100-lb shark',\n",
       " \"2 m [6.75'] sevengill  shark\",\n",
       " \"Tiger shark, 8'\",\n",
       " \">2.4 m [8'] white shark\",\n",
       " \"Mako shark, 4.3 m [14']\",\n",
       " '2 m [6\\'9\"] Zambesi shark',\n",
       " \"Hammerhead shark, 5' \",\n",
       " 'Said to involve a tiger shark or a hammerhead shark',\n",
       " 'shark involvement not confirmed',\n",
       " \"5.5' shark\",\n",
       " 'Shortfin mako shark, 175-lb ',\n",
       " 'Spinner shark',\n",
       " 'White shark, 2 m to 4 m [6\\'9\" to 13\\'] ',\n",
       " \"Bronze whaler shark, 2.3 m [7.5'] \",\n",
       " \"Bull sharks to 1.5 m [5']  in length\",\n",
       " \"White shark, 14' to 16' \",\n",
       " \"Nurse shark, 2.1 m [7']\",\n",
       " 'Mako shark, 125-lb ',\n",
       " \"2.1 m [7'] lemon shark or bull shark\",\n",
       " 'Lemon shark, 0.5 m',\n",
       " 'Shark involvement prior to death remains unconfirmed',\n",
       " 'Carpet shark',\n",
       " \"1.7 m [5.5'] shark\",\n",
       " 'Thought to involve a cookie cutter shark',\n",
       " 'Thresher shark',\n",
       " \"Tiger shark, 9' to 10' \",\n",
       " 'Raggedtooth shark, 2m',\n",
       " '1.8 m [6\\'] \"cocktail shark',\n",
       " \"12' to 18' shark\",\n",
       " 'Blue shark, 2.5m',\n",
       " '4.5 m & 5 m white shark ',\n",
       " \"According to Carlsmith, the shark's mouth was 3' wide\",\n",
       " \"3 m [10'], 200-kg [441-lb] bull shark\",\n",
       " \"Tiger shark, 2.5 m [8.25'] \",\n",
       " \"Two shark's teeth recovered from canoe\",\n",
       " \"1.2 m to 1.5 m [4' to 5'] bull, sandbar or dusky shark\",\n",
       " \"Wobbegong shark, 1.8 m [6'] \",\n",
       " \"3.7 to 4.6 m [12' to 15'] sharks\",\n",
       " 'A hammerhead shark, then 8 to 10 other sharks were said to be  involved',\n",
       " \"Blue shark, 1.8 m [6'] \",\n",
       " 'Tiger shark, tooth fragment recovered',\n",
       " '500-lb shark',\n",
       " \"Hammerhead shark, 9' \",\n",
       " 'Mako shark, 2.3 m, 150-kg  ',\n",
       " \"White shark, 8' to 10'\",\n",
       " \"Raggedtooth shark, 1.2 m to 1.5 m [4' to 5'] \",\n",
       " 'Blacktip Reef shark ',\n",
       " \"Blacktip shark, 2.4 m to 3 m [8' to 10'] \",\n",
       " \"3' to 4' shark\",\n",
       " \" Galapagos shark, 6'\",\n",
       " 'Soupfin shark',\n",
       " \"2.4 m to 3 m [8' to 10'] white shark\",\n",
       " 'Shark involvement questionable',\n",
       " \"Nurse shark, 0.94 m to 1.2 m [3' to 4'] \",\n",
       " \"4 m [13'] white shark\",\n",
       " \"8' great hammerhead shark\",\n",
       " 'Bull shark, 8',\n",
       " '\"juvenile shark\"',\n",
       " 'Broadnose sevengill shark',\n",
       " \"Bull shark, 3' to 4'\",\n",
       " \"Lemon shark, 6' female \",\n",
       " 'Thought to involve bull sharks',\n",
       " \"Tiger shark, 3 m to 3.7 m [10' to 12'] \",\n",
       " \"4.3 m [14'] shark\",\n",
       " \"Porbeagle shark, 7'\",\n",
       " 'Mako shark (tooth fragments recovered)',\n",
       " \"Nurse shark, 4'\",\n",
       " \"1' to 4' shark\",\n",
       " 'Hand found in gut of 2.9 m to 3.3 m [9\\'7\" to 10\\'11\"] Galapagos shark, C. galapagensis',\n",
       " \"Mako shark, 1.9 m [6.5']. Tooth fragment recovered & identified by J.T. Nichols.\",\n",
       " 'Blue shark, 2m ',\n",
       " \"Mako shark, 3 m [10'] \",\n",
       " \"2.3 m [7'] shark\",\n",
       " \"Bull shark, 2.3 m [7.5'] \",\n",
       " \"3.7 [12'] shark\",\n",
       " \"1.5 m to 1.8 m [5' to 6'] \\x93spear-eye\\x94 shark \",\n",
       " \"3.7 to 4.5 m [12' to 15'] shark seen in vicinity\",\n",
       " '5 m shark',\n",
       " \"White shark, 5 m to 6 m [16.5' to 20']  \",\n",
       " \"4' shark\",\n",
       " \"5.5 m [18'] shark seen in the vicinity\",\n",
       " \"Blue shark, 3 m [10']\",\n",
       " \"Wobbegong shark, 1.2 m [4'] k\",\n",
       " \"2.4 m [8'] white shark, species identity confirmed by witnesses & tooth pattern in surfboard\",\n",
       " \"0.9 m [3'] shark\",\n",
       " \"White shark, 4 to 5 m [13' to 16.5'] \",\n",
       " 'Tiger shark, 2m to 3m ',\n",
       " '4 m shark',\n",
       " 'a school of sharks',\n",
       " \"3.7 m to 4.3 m [12' to 14'] shark\",\n",
       " 'Raggedtooth shark',\n",
       " 'Bronze whaler or tiger shark',\n",
       " \"Dusky shark, 12' \",\n",
       " '5 m white shark',\n",
       " \"Bull shark, 9' to 10'\",\n",
       " \"3.5' to 4.5' shark\",\n",
       " '1m shark',\n",
       " \"4.3 m [14'] shark seen in vicinity\",\n",
       " 'Raggedtooth shark ',\n",
       " 'White shark or oceanic whitetip shark',\n",
       " 'White shark, identification by K. Nakaya',\n",
       " '18\" to 36\" shark',\n",
       " 'A large hammerhead shark',\n",
       " \"Possibly a 1.5 m [5'] blacktip or spinner shark\",\n",
       " \"76 cm [2.5'] carpet shark\",\n",
       " \"2 scalloped hammerhead sharks, 1.5 m & 1.8 m [5' & 6']\",\n",
       " \"1.8 m to 2.7 m [6' to 9'] shark\",\n",
       " \"White shark, 10'\",\n",
       " \"Tiger shark, 3.7 m [12'] \",\n",
       " 'Nurse shark, 60 cm [24\"], identified by Dr. L.P. L. Schultz on photograph',\n",
       " 'Bronze whaler shark, 3 m',\n",
       " 'Bronze whaler shark, 2.5m',\n",
       " \"Tiger shark, 7'\",\n",
       " \">1.8 m [6'] shark\",\n",
       " \"White shark, 3.7 m [12']  \",\n",
       " 'Fishermen recovered partial remains from shark a week later',\n",
       " 'Raggedtooth shark, 2.5 m to 3 m ',\n",
       " \"1.8 m [6'] shark \",\n",
       " 'White shark, 1,900-lb ',\n",
       " 'Bronze whaler shark, 2 m ',\n",
       " '1 m \"grey-colored\" shark',\n",
       " \"Raggedtooth shark, 1.2 m [4'] \",\n",
       " 'Blacktip reef shark ',\n",
       " \"Bronze whaler shark, 3 m [10'] \",\n",
       " \"Said to involve 2 sharks: 5.2 m & 6 m [17' & 20'] \",\n",
       " \"Bronze whaler shark, 2.1 m [7'], a tooth was embedded in the speargun \",\n",
       " 'Shark seen feeding on turtle scraps thrown overboard prior to incident.',\n",
       " 'Grey reef shark, Identified by E.S. Hobson, F. Mautin & E.S. Reese (1961)',\n",
       " 'White shark, identified by tooth pattern',\n",
       " 'Mako shark, 400-lb ',\n",
       " \"Dusky shark, 2.7 m [9'] dusky shark C. obscurus identified by S. Springer on tooth recovered\",\n",
       " \"Blacktip shark, 5'\",\n",
       " '5m shark',\n",
       " \"4 m to 5 m [13' to 16.5']  white shark\",\n",
       " \"Sevengill shark, 2.4 m [8'] \",\n",
       " \"Thought to involve a 3' to 4' shark, but shark involvement not confirmed\",\n",
       " 'Oceanic whitetip shark, 2.5m, female',\n",
       " 'White shark, 2 m [6\\'9\"]  (Tooth fragment recovered from victim\\'s shoulder & identified by J.T. Nicholls)',\n",
       " \"1.8 m [6'] reef shark - or a 2.1 m to 2.4 m [7' to 8'] grey-colored shark\",\n",
       " 'Shark involvement unconfirmed',\n",
       " 'Nurse shark?',\n",
       " 'Bull shark, 2.7 m ',\n",
       " \"15' shark seen with the man's body in its mouth, but shark involvement prior to death was not confirmed\",\n",
       " 'Nurse shark',\n",
       " \"Said to involved a 6 m to 7.3 m [20' to 24'] shark\",\n",
       " \"Wobbegong shark, 4'\",\n",
       " 'Possibly a bull shark',\n",
       " '5 m to 6 m white shark',\n",
       " 'Tiger shark, 3.5 m',\n",
       " 'White shark, 4 m to 5 m ',\n",
       " '3\\' \"blue nosed\" shark',\n",
       " \"1.8 m [6'] blacktip shark or spinner shark\",\n",
       " '3.7m  to 4.2 m white shark',\n",
       " 'White shark, 4m',\n",
       " \"7' to 8' bull shark\",\n",
       " \"Tiger shark, less than 10'\",\n",
       " 'Shark involvement suspected but not confirmed',\n",
       " 'Cookie cutter shark',\n",
       " \"Blue pointer, 11' \",\n",
       " \"Thresher shark, 3.7 m [12'] \",\n",
       " \"White shark, 15'\",\n",
       " 'Tiger shark, 3 m ',\n",
       " \"Bull shark, 6'\",\n",
       " '3 sharks',\n",
       " 'Identified as C. gangeticus by Dr. J. Fayrer',\n",
       " 'Unknown',\n",
       " \"Said to involve a Grey nurse shark 3.7 m [12'] \",\n",
       " \"0.9 m to 1.2 m [3' to 4'] shark\",\n",
       " \"14' to 16' white shark\",\n",
       " 'Blue pointers',\n",
       " \"Tiger shark, 8' to 12'\",\n",
       " '\"sand shark\"',\n",
       " \"Bull shark, 2.1 m [7']\",\n",
       " \"Thought to involve a >2 m [6.75'] bull shark\",\n",
       " \"Raggedtooth shark, 1.5 m [5'] (tooth fragment recovered)\",\n",
       " \"Blacktip reef shark, 1.5 m [5'] \",\n",
       " '15 cm to 20 cm [6\" to 8\"] bite diameter just below left knee',\n",
       " 'Tiger shark, 2.5 m ',\n",
       " \"White shark, 2.5 m [8.25'], an immature female, previously injured\",\n",
       " \"White shark, 16', 2,312-lb \",\n",
       " \"Tiger shark, 8' to 10' \",\n",
       " 'Zambesi shark',\n",
       " \"3.7 m [12'], 1200-lb shark. Shark caught & its jaw exhibited at the Carnegie Museum\",\n",
       " \"Possibly a 10' bull shark\",\n",
       " \"4.9 m [16'] whaler\",\n",
       " 'Possibly C. leucas',\n",
       " 'Bull sharks x 2',\n",
       " '200-lb shark',\n",
       " '\"Blue nose shark\"',\n",
       " \"small sharks'\",\n",
       " \"10' whale\",\n",
       " \"1.4 m [4.5'] shark\",\n",
       " 'Bronze whaler shark?',\n",
       " 'Said to involve a 4.9 m [16\\'] \"red shark\"',\n",
       " 'White shark, 3m ',\n",
       " \"Nurse shark, 2' to 3' \",\n",
       " 'Blue shark bites present ',\n",
       " \"Tiger shark, 10' to 12'\",\n",
       " \"Bronze whaler shark, 2.4 m [8'] Identified by Clyde Buttery\",\n",
       " \"1.2 m [4'], possibly  larger shark\",\n",
       " '300-kg [662-lb] shark',\n",
       " \"16' shark\",\n",
       " \"Two 1.2 m to 1.5 m [4' to 5'] sharks\",\n",
       " \"4.9 m [16'] shark\",\n",
       " 'Raggedtooth shark, 56-kg [123-lb] ',\n",
       " '\"gray shark\"',\n",
       " '4.5 m [14\\'9\"] white shark',\n",
       " 'bull shark',\n",
       " 'Sevengill shark, 2.4 m',\n",
       " \" Blacktip shark, C. maculipinnis. 1.9 m to 2.1 m [6.5' to 7'] \",\n",
       " 'White shark, 7m',\n",
       " \"Grey nurse shark, 10' \",\n",
       " \"5' thresher or blue shark. The shark  was killed following the incident\",\n",
       " \"1.8 m to 2.1 m [6' to 7']\\xa0 Caribbean Reef Shark \",\n",
       " \"Spinner shark, 5'\",\n",
       " 'White shark, 3.5m',\n",
       " \"Tiger shark, 3.7 m to 4.3 m  [12' to 14']\",\n",
       " \"White shark, 4.3 m [14']\",\n",
       " \"Bronze whaler shark, 3 m [10'], 200-lb\",\n",
       " \"3.7 m to 4.3 m [12' to 14']  shark\",\n",
       " \"1.8 m [6'] dogfish\",\n",
       " \"1.8 to 2.4 m [6' to 8'] shark\",\n",
       " 'Wobbegong, 2m',\n",
       " 'Hammerhead shark, 500-llb ',\n",
       " \"60 cm to 90 cm [2' to 3'] shark\",\n",
       " 'Lemon shark ',\n",
       " 'Raggedtooth shark, 2 m ',\n",
       " 'Tiger shark?',\n",
       " 'White shark, 2 m',\n",
       " 'Hammerhead shark.',\n",
       " \"White shark, 5.5 m [18']\",\n",
       " '1.8 to 2 m C. albimarginatus',\n",
       " \"1.2 m to 1.5 m [4' to 5']   shark\",\n",
       " \"Bull shark, 4.5' \",\n",
       " \"Porbeagle shark, 8' \",\n",
       " '70 kg shark',\n",
       " 'Said to involve a large mako shark',\n",
       " \"Caribbean reef shark, 1.2 m to 1.5 m [4' to 5'] \",\n",
       " '3 m hammerhead shark',\n",
       " \"1.5 m to 2 m [5' to 6.75'] Caribbean reef shark \",\n",
       " \"Tiger shark, 1.5 m [5']k\",\n",
       " 'Reported to involve a hammerhead shark',\n",
       " 'Tiger shark, <2 m TL',\n",
       " 'Reported as a shark attack, the story was a hoax',\n",
       " '100-kg [221-lb] dead blue shark',\n",
       " \"Tiger shark, 1.8 m [6'] \",\n",
       " '\"A pack of 6 sharks\"',\n",
       " 'Wobbegongs',\n",
       " \"Reef shark, 5'\",\n",
       " '3.5 m white shark',\n",
       " 'small catsharks',\n",
       " \"Hammerhead shark, 1.8 m [6'] \",\n",
       " \"White shark, 18' to 20'\",\n",
       " \"Zambesi shark, 1.8 m [6'] \",\n",
       " \"1.2 m to 1.5 m [4.5' to 5'] shark\",\n",
       " \"3' shark, possibly  a blacktip or spinner shark\",\n",
       " 'Mako shark, 90kg',\n",
       " \"Wobbegong shark, 5' \",\n",
       " '1.3 to 1.6 m shark',\n",
       " \"7' to 8' shark \",\n",
       " \"Remains recovered from 5.5 m [18'] white shark\",\n",
       " 'Large tiger shark',\n",
       " \"Hammerhead shark, 2.4 m [8'] \",\n",
       " \"Oceanic whitetip shark'\",\n",
       " 'small shark',\n",
       " \"Tiger shark, 1.8 m [6']\",\n",
       " \"Thought to involve a 12' white shark\",\n",
       " \"His hand was found in a 2.4 m [8'] tiger shark caught 1/5/1949\",\n",
       " 'Tiger shark, 10?',\n",
       " '>2 m shark',\n",
       " \"15' shark\",\n",
       " 'Said to involve a 1.5 m shark',\n",
       " \"1.5 m to 1.8m [5' to 6'] shark\",\n",
       " 'Reported to involve a bull shark',\n",
       " 'Thought to involve a small sand shark',\n",
       " 'a sand shark',\n",
       " \"White shark, 2.1 m [7']  based on tooth pattern\",\n",
       " \"Zambesi shark, 1.7 m [5.5'] \",\n",
       " \"Caribbean reef shark, 7' to 8'\",\n",
       " 'Raggedtooth shark, 2.5m ',\n",
       " ' Lemon shark, 3.5 m',\n",
       " '4.5  m [14\\'9\"] shark',\n",
       " \"White shark, 12' to 15'\",\n",
       " \"2' shark\",\n",
       " \"Bitten by several 1.8 m [6'] sharks\",\n",
       " 'Zambesi shark?',\n",
       " \"0.9 m  [3'] shark\",\n",
       " \"3.7 m [12'] sharks\",\n",
       " 'Tiger shark, 2m',\n",
       " '650-lb shark',\n",
       " \"Nurse shark, 3', 20-lb \",\n",
       " '1 m  shark',\n",
       " \"2 m to 2.5 m [6.75'  to 8.25'] sixgill or sevengill shark\",\n",
       " \"Sandtiger shark, 3 m [10'] \",\n",
       " '\"a young shark\"',\n",
       " 'Bull shark, 2m',\n",
       " 'Raggedtooth shark, 1.96 m, 140-kg ',\n",
       " \"Grey reef shark, 1.2 m [4'] \",\n",
       " \"1.8 m to 2.1 m [6' to 7'] spinner or blacktip shark\",\n",
       " 'Bronze whaler shark, 1.5m',\n",
       " 'Mako shark',\n",
       " '100-lb shark',\n",
       " \"On 11-Jan-1994, his remains washed ashore. A 2.4 m [8'] tiger shark thought to be involved\",\n",
       " 'possibly a bronze whaler shark',\n",
       " \"Grey reef shark, 2 m [6.75'] \",\n",
       " 'Grey reef shark ',\n",
       " 'Small shark',\n",
       " 'Allegedly a 33-foot shark',\n",
       " \" 1.5 m [5'] dusky shark\",\n",
       " 'Possibly a small blacktip shark',\n",
       " 'Thought to involve a bull shark',\n",
       " 'Grey reef shark',\n",
       " \"2.7 m to 3 m [9' to 10'] sharks\",\n",
       " \"Bronze whaler shark,3.7 m [12'] \",\n",
       " 'Remains recovered from shark caught days later',\n",
       " 'small blue shark',\n",
       " \"Tiger shark 4.3 m [14'] \",\n",
       " 'Identified as carcharinid shark (based on its behavior) by Dr. D.P. L. Schultz; mako shark according to Huges',\n",
       " \"Tiger shark, 3.7 m [12'], (tooth fragment recovered from wound)\",\n",
       " \">1.2 m [4'] tiger shark\",\n",
       " 'Bull shark, 2.5 m',\n",
       " 'White shark, 4.5 to 5 m ',\n",
       " '\"a school of sharks\"',\n",
       " \"Whaler shark, 2.7 m [9'], 350- to 450-lb  identified by G.P. Whitley\",\n",
       " \"Said to involve an 8' shark but more likely damage caused by debris\",\n",
       " \"Nurse shark, 10' \",\n",
       " \"Grey nurse shark, 1.8 m [6']\",\n",
       " 'Probable bluefish bite',\n",
       " 'Shark involvement  not confirmed',\n",
       " \"Sandtiger shark, 8'\",\n",
       " \"Hammerhead shark. 6' to 7'\",\n",
       " 'Grey reef shark, 1.5 m ',\n",
       " 'Blue shark',\n",
       " \"Possibly a 6' lemon shark\",\n",
       " 'Grey nurse shark, 2.9 m [9\\'6\"] ',\n",
       " 'Silvertip shark',\n",
       " 'Nurse shark, 1 m ',\n",
       " \"Bronze whaler shark, 4.6 m [15'] \",\n",
       " \"16' 800-lb shark\",\n",
       " \"Carpet shark, 10' \",\n",
       " \"Whaler shark, 4 m [13'] \",\n",
       " \"2 m [6.75'] shark\",\n",
       " '1.8 m silky shark',\n",
       " 'Blue shark, 8 to 9 feet',\n",
       " \"White shark, 5 m to 6 m [16.5' to 20] \",\n",
       " 'Tiger shark,  3.6 m [11\\'9\"], 850-kg [1874-lb] female, contained Girvan\\'s remains ',\n",
       " \"1.8 m to 2.1 m [6' to 7'] shark\",\n",
       " '2 m [6\\'9\"] shark ',\n",
       " \"White shark, 5 m to 6 m [16.5 to 20'] \",\n",
       " 'Bull or tiger shark',\n",
       " 'Raggedtooth shark, 1.5 m',\n",
       " 'Tiger shark (pregnant)',\n",
       " 'Raggedtooth shark, 147-kg [324-lb] ',\n",
       " \"2.6 m [8.5'] shark\",\n",
       " 'White shark, 2.5m ',\n",
       " 'Possibly juvenile tiger shark',\n",
       " \"Remains found in  4.25 m  [14'] shark caught at Baker\\x92s Haulover, Miami Beach on 26-Oct-1943\",\n",
       " '20 to 30kg shark',\n",
       " 'Grey reef shark, 2 m',\n",
       " \"1.8 to 2.1 m [6' to 7'] shark\",\n",
       " 'Possibly a hammerhead shark',\n",
       " '1.8 m shark',\n",
       " \"1.8 m [6'] grey reef shark\",\n",
       " '7-gill shark',\n",
       " 'C. leucas tooth fragment recovered from kayak',\n",
       " \"Carpet shark, 5' \",\n",
       " \"Nurse shark, 1.5 m [5']  identified by Dr. E. Clark on description of shark\",\n",
       " \"White shark, 7'\",\n",
       " '7-gill shark?',\n",
       " \"Nurse shark, 1.1 m [3.5'] \",\n",
       " \"12' white shark\",\n",
       " \"Mako shark, 1.8 m to 2.1 m [6' to 7']  with hook & wire leader caught in mouth\",\n",
       " 'juvenile white shark',\n",
       " \"Lemon shark, 4' to 5' \",\n",
       " '2.6 m shark',\n",
       " 'Lemon shark, 1.8 m [6\\'] male, N. breviostris, identified by W.A. Stark II, later the same day a 6\\'8\" pregnant female lemon shark bit the bow of the boat',\n",
       " 'White shark (tooth fragments recovered from hull of boat)',\n",
       " 'Blacktip shark pup',\n",
       " 'Tiger shark caught 6 days later with diver\\x92s remains in its gut',\n",
       " 'Blue shark, 70-kg blue shark',\n",
       " 'Shark involvement not confirmed, injury may have been caused by a bluefish',\n",
       " \"Teeth in hull identified as those from a white shark 4.6 m [15'] in length\",\n",
       " 'Hammerhead sp.',\n",
       " \"5' blue shark\",\n",
       " 'White shark, based on bite pattern',\n",
       " \"Bull shark, 12'\",\n",
       " '250-lb \"dog shark\"',\n",
       " '6 m  white shark',\n",
       " 'Possibly a blacktip shark',\n",
       " '3.5 m white shark, tooth fragments recovered',\n",
       " \"Tiger shark, >3 m [10']\",\n",
       " 'Shark involvement not confirmed; thought to be a barracuda bite',\n",
       " ' Bull shark, 2.5 m',\n",
       " '440-lb shark',\n",
       " 'Thought to involve a porbeagle or mako shark',\n",
       " \"3.7 m to 4.6 m [12' to 15'] shark seen in the vicinity\",\n",
       " \"2.1 m [7'] sandtiger shark\",\n",
       " \"1.8 m [6'] grey-colored shark\",\n",
       " \"3'  shark\",\n",
       " \"3 m to 5 m [10' to 16.5'] white shark\",\n",
       " \"Lemon shark, 4' \",\n",
       " \"Five 1.8 m [6']  sharks\",\n",
       " 'Thought to involve a Zambesi shark',\n",
       " '2.13 m shark',\n",
       " \"Tiger shark, 4 m [13']  ?\",\n",
       " 'Miami, a 60 cm blacktip  shark and two 60 cm bamboo catsharks',\n",
       " 'White shark, 6m ',\n",
       " 'Wobbegong shark',\n",
       " \"12' to 14' shark\",\n",
       " \"Grey nurse shark, 2.6 m [8.5']  \",\n",
       " '\\xa0 ',\n",
       " '>1 m shark',\n",
       " 'White shark, 2.7 m',\n",
       " \"Tiger shark, 1.5 m [5'] \",\n",
       " \"Tiger shark, 3.4 m [11'] captured\",\n",
       " 'Bronze whaler shark',\n",
       " 'reef shark, 1.5m',\n",
       " \"Raggedtooth shark, 2.7 m [9'] \",\n",
       " \"Tiger shark, 5 m [16.5']\",\n",
       " \"5.5 m to 6 m [18' to 20'] white shark\",\n",
       " 'Caribbean reef shark',\n",
       " \"4.5 to 5' shark\",\n",
       " '2 white shark: 13\\' & 9\"8\"',\n",
       " \"1.5 m [5'] hammerhead shark\",\n",
       " '5 mm 3500 kg female shark',\n",
       " \"Tiger shark, 12' \",\n",
       " \"Tiger shark, 14' \",\n",
       " \"1.5 m to 2.1 m [5' to 7'] shark, possibly a mako shark\",\n",
       " \"A 2' shark was seen in the area by witnesses\",\n",
       " 'Questionable',\n",
       " 'Unknown, but it was reported that a shark tooth was recovered from the wound',\n",
       " \"Lemon shark, 9' \",\n",
       " \"7' shark\",\n",
       " ' Bull shark, 1.2m ',\n",
       " 'White shark, 2m',\n",
       " 'Blacktip or spinner shark?',\n",
       " '2 m shark, possibly a bronze whaler',\n",
       " 'Dusky shark, 3m',\n",
       " '4.2 m white shark',\n",
       " \"Thought to involve a Tiger shark,  3.7 m [12'] \",\n",
       " 'Thought to involve an oceanic whitetip shark or a white shark',\n",
       " '2.7 m [9\\'] \"blue\" shark',\n",
       " 'Lemon shark or sandtiger shark',\n",
       " \"4.6 m [15'] shark\",\n",
       " 'Species unidentified',\n",
       " \"6' to 8' bull shark\",\n",
       " '\"sand shark\" Listed as questionable incident',\n",
       " \"Sandtiger shark, 4' to 5'\",\n",
       " \"White shark, 5 m [16.5'] \",\n",
       " \"1.2 m [4'] dusky shark\",\n",
       " 'Whitetip reef shark',\n",
       " 'Remains recovered from 3 sharks',\n",
       " \"Bull shark, 6' to 8'\",\n",
       " \"White shark, 4.4 m to 5 m [14.5' to 16.5'] \",\n",
       " \"White shark, 2.4 m [8'] \",\n",
       " \"Horn shar,k Heterodontus francisci, 1.2 m [4'] \",\n",
       " 'White shark, 4.5 m [14\\'9\"] ',\n",
       " \"6' shark\",\n",
       " '\"grey shark\"',\n",
       " '2.8 m [9\\'3\"] white shark',\n",
       " '193-lb shark',\n",
       " '2 m cow shark',\n",
       " \"1.2 m to 1.5 m [4' to 5'] shark\",\n",
       " \"1.2 m [4'] blacktip or sandbar shark\",\n",
       " \"Tiger shark, 3.7 m [12']\",\n",
       " 'White shark, 3.5m ',\n",
       " 'Shark was said to \\x93have a very rough ½\\x94-thick skin\\x94',\n",
       " \"Bronze whaler shark, 3.7 m [12'] \",\n",
       " \"Hammerhead shark, 1.5 m [5'] \",\n",
       " \"White shark, 4.6 m [15'] \",\n",
       " \"Grey nurse shark, 1.8 m [6'] \",\n",
       " \"6' to 7' shark\",\n",
       " '1.5 m to 2 m shark',\n",
       " 'Small dusky shark or blackfin shark',\n",
       " \"Blue pointer, 12'\",\n",
       " \"5 m to 6 m [16.5' to 20'] white shark\",\n",
       " '15* to 24\" dog shark',\n",
       " \"White shark, 19'\",\n",
       " \"Tiger shark, 10'\",\n",
       " \"1.2 m [4'] hammerhead shark\",\n",
       " \"Tiger shark, 1.5 m to 1.8 m [5' to 6'] \",\n",
       " '2 to 2.5 m shark',\n",
       " \"Bronze whaler shark, 4.3 m [14'] \",\n",
       " \"Tiger shark, 3 m to 4 m [10' to 13'] \",\n",
       " ' Raggedtooth shark, 2m',\n",
       " 'a small shark',\n",
       " \"Nurse shark, 2'\",\n",
       " 'Angel shark',\n",
       " 'Shark involvement not confirmed; officials considered barracua',\n",
       " \">2.5 m [8.25'] white shark\",\n",
       " \"4' tp 5' shark\",\n",
       " \"20' shark\",\n",
       " \"a small shark'\",\n",
       " \"3.7 m [12'] tiger shark\",\n",
       " '\"grey-colored shark\"',\n",
       " \"Nurse shark, 1.2 m [4'] \",\n",
       " \"1.5 m [5'] white shark or sevengill shark\",\n",
       " \"Wobbegong shark, 1.4 m [4.6'] \",\n",
       " 'Possibly a spinner shark',\n",
       " \"3 m to 4.3 m [10' to 14'] shark\",\n",
       " \"Wobbegong shark, 1.2 m [4'] \",\n",
       " 'A pack of 6 sharks',\n",
       " \"Hammerhead shark, 5.2 m [17'] \",\n",
       " 'White shark, 4m ',\n",
       " 'Copper shark',\n",
       " '3.3 m [10\\'9\"] shark',\n",
       " \"3 m [10'] shark seen in vicinity\",\n",
       " \"Lemon shark, 1.5 m [5'], identified  by the surfer\",\n",
       " 'White shark, 3.5 m',\n",
       " \"2.5' shark\",\n",
       " \"Nurse shark, 1.5 m [5'] \",\n",
       " \"2.1 m [7'] shark, possibly a spinner shark\",\n",
       " 'Tiger sharks & bull sharks (20 sharks in all)',\n",
       " 'Shark involvement probable',\n",
       " \"Bull shark, 1.5 m to 1.8 m [5' to 6'] \",\n",
       " \"White shark, 3.7 m [12'], 500 to 500-kg [1,200 lb], identified by W. C. Shroeder based on tooth fragment ebedded in gunwale\",\n",
       " 'White shark, 3m to 4m',\n",
       " '150-lb shark',\n",
       " '\"a dog shark\"',\n",
       " \"Mako shark, 3.7 m [12'] identified by tooth fragments by G.P. Whitley\",\n",
       " \"White shark, 3 m to 3.7 m [10' to 12'] \",\n",
       " \"White shark, 1.7 m [5.5']\",\n",
       " 'Shark involvement prior to death unconfired',\n",
       " \"3.7 m [12'] shark\",\n",
       " \"3 m [10'] white shark (Tooth  recovered from boat)\",\n",
       " \"White shark, 3 m [10'] k\",\n",
       " 'Bull shark, 2.5m',\n",
       " \"3.7 m [12'] shark & may have been another shark nearby\",\n",
       " '4.5 m to 5.5m white shark',\n",
       " 'Doubtful / Unconfirmed attack / Unable to verify in local records',\n",
       " 'White shark, based on 2 teeth retrieved from rudder',\n",
       " \"1.8 m [6'] sandtiger shark\",\n",
       " 'Zambesi shark, 4\\'9\"',\n",
       " 'Bull shark?',\n",
       " '1 m hammerhead shark',\n",
       " 'Raggedtooth shark, >1 m ',\n",
       " \"17' white shark\",\n",
       " '\"a very large shark\"',\n",
       " 'Blacktip reef shark pup',\n",
       " \"White shark, 4.3 m [14'] \",\n",
       " \"White shark, 3 m to 4 m [10' to 13'] \",\n",
       " \"Tiger shark, 4.6 m to 6 m [15' to 20'] \",\n",
       " '1.8 metre shark',\n",
       " \"2.7 m [9'] shark with black-tipped pectoral fins\",\n",
       " \"2 m [6.75'] shark, 200-kg shark T\",\n",
       " \"8' to 10' shark\",\n",
       " 'Lemon shark, 2 m [6\\'9\"]',\n",
       " \"Bronze whaler shark, 10' \",\n",
       " 'Nurse shark, 2.5-ft',\n",
       " \"5.5 m [18'] white shark\",\n",
       " '<1 m shark',\n",
       " 'Raggedtooth shark, 1 m ',\n",
       " '2.1 m [7\\'] shark with \"a very flat head\\x94 that had followed the boat for 3 days',\n",
       " \"5 m to 5.5 m [16.5' to 18'] white shark\",\n",
       " \"2.4 m to 3 m [8' to 10'] grey colored shark\",\n",
       " '68\" shark',\n",
       " '24\" to 30\" shark',\n",
       " 'White shark (identified by Dr. Hugh Smith) ',\n",
       " '3.6 m [11\\'9\"] white shark',\n",
       " 'Angel shark, 1.2m ',\n",
       " '8 sharks',\n",
       " '80-lb sand shark',\n",
       " \"5 m [16.5'] shark\",\n",
       " 'Whtietip reef shark',\n",
       " '40-lb sand shark',\n",
       " 'Grey nurse shark, 1m ',\n",
       " \"Two sharks seen in vicinity: 2.4 m & 4.25 m  [8' & 14'] TL\",\n",
       " 'Tiger shark, 8 to 12 feet',\n",
       " 'Nurse shark, 58\", 34-lb ',\n",
       " 'Lemon shark, 30-lb ',\n",
       " \"2.4 m [8'] shark, possibly a dusky shark\",\n",
       " 'Tiger shark, 4 m ',\n",
       " \"Blue shark, 1.5 m [5'] \",\n",
       " \"Atkins' remains were recovered from a dusky shark, C. obscurus, by Capt. W. F. Young, shark fisherman\",\n",
       " \"Tiger shark, 12' ?\",\n",
       " '4.3 m shark',\n",
       " '\"reef shark\"',\n",
       " 'Caribbean reef sharks',\n",
       " \"White shark, 4 m to 5 m [13' to 16.5'] \",\n",
       " \"Tiger shark, 15' female\",\n",
       " \"60 cm [2'] captive shark\",\n",
       " 'Though to involve a tiger shark',\n",
       " \"Tiger shark, 5' \",\n",
       " 'Juvenile dusky or blacktip shark',\n",
       " \">3 m [10'] shark\",\n",
       " 'Shark involvement not confirmed',\n",
       " \"1.5 m to 1.8 m [5' to 6'] shark\",\n",
       " 'Not a shark attack; it was a hoax',\n",
       " '2.5 oceanic whitetip shark',\n",
       " \"2.4 m [8'] shark\",\n",
       " 'Questionable incident',\n",
       " '\"Shark caught later\"',\n",
       " \"Sevengill shark, 6' to 8'\",\n",
       " 'A 10-year-old 94-pound pregnant blacktip reef shark',\n",
       " \"1.2 m [4'] bull shark\",\n",
       " 'reef shark',\n",
       " \"White shark, 3 m [10'], species identity confirmed by witnesses & tooth pattern in leg & board \",\n",
       " \"Grey reef shark, 5' to 8' \",\n",
       " \"12' shark\",\n",
       " \"Tiger shark said to be 5 to 7 m [16.5' to 23'] \",\n",
       " \"4.5 m to 5.5 m [15' to 18'] white shark\",\n",
       " \"7' to 8' shark\",\n",
       " 'Shark involvement not cofirmed',\n",
       " \"0.9 m  to 1.2 m [3' to 4'] shark\",\n",
       " \"numerous dusky sharks & a 3 m to 4.6 m [10' to 15'] to  tiger shark\",\n",
       " \"1.8 m to 2.4 m [6' to 8'] shark\",\n",
       " \"12' to 14' white shark\",\n",
       " \"Tiger shark 3 m  [10'] \",\n",
       " \"Possibly a  1.8 m [6'] Zambezi shark\",\n",
       " \"Tiger shark, 2.4 m to 2.7 m [8' to 9'] \",\n",
       " 'Hammerhead shark',\n",
       " \"White shark, 12' to 15' \",\n",
       " \"Zambesi shark, 1.2 m [4'] \",\n",
       " \"6' to 8' shark\",\n",
       " 'White shark, 4.8 m ',\n",
       " '43\" shark',\n",
       " 'White shark, 2.7 m [9\\'1\"], 750-lb ',\n",
       " \"5 m [16.5'] white shark\",\n",
       " \"5 m [16.5'] white shark, identification by K. Nakaya\",\n",
       " \"White shark, 12', identity confirmed by tooth fragment, witness and photograph of captured shark \",\n",
       " \"White shark, 6m [20']\",\n",
       " \"Bronze whaler shark, 2.4 m [8'] \",\n",
       " '400-lb shark',\n",
       " \"3 m to 4 m [10' to 13'] shark\",\n",
       " '3 m to 3.6 m  [10\\' to 11\\'9\"] white shark',\n",
       " 'Zambesi shark, 2 m [6\\'9\"] ',\n",
       " \"Nurse shark, 2.1 m [7'] \",\n",
       " '170-kg, 2.8 m shark',\n",
       " \"Tiger shark, 4 m [13'] \",\n",
       " \"18', 750-lb shark\",\n",
       " \"12' sandtiger shark\",\n",
       " \"White shark, 10 '\",\n",
       " \"White shark 4.9 m [16'] \",\n",
       " \"3 m to 3.7 m [10' to 12'] bull shark\",\n",
       " 'Lemon shark',\n",
       " \"Tiger shark, 2.5 m [8.25']\",\n",
       " 'small carpet shark',\n",
       " 'Bronze whaler shark, 3.5 m ',\n",
       " 'Seven-gill shark',\n",
       " \"3.5 m [11.5']shark\",\n",
       " \"1.2 m  [4'] shark\",\n",
       " \"White shark, 7' to 8'\",\n",
       " '2.8 m [9\\'3\"] whaler shark captured 3 days later with his remains in its gut',\n",
       " 'White shark, 3 m ',\n",
       " \"0.9 m [3'] shark,  probably a blacktip or spinner shark\",\n",
       " 'Said to be a \\x93small shark\\x94',\n",
       " \"Tiger shark, 6' \",\n",
       " 'Possibly a sandbar shark or small blacktip shark',\n",
       " \"White shark, 3.5 m [11.5'], identified by W. I.  Follett on tooth fragments\",\n",
       " 'Allegedly a 4 m tiger shark',\n",
       " \"1.8 m to 2.4 m [6' to 8'] hammerhead shark\",\n",
       " \"Hammerhead shark, 2.4 m [8'], according to lifeguard Sam Barrows\",\n",
       " 'Copper shark, 50-kg [110-b] ',\n",
       " \"2.1 m [7'] shark\",\n",
       " \"4' to 5' shark\",\n",
       " \"White shark, 2.4 m to 3 m [8' to 10'] \",\n",
       " \"3' to 3.5' shark\",\n",
       " \"Bull shark, 6' to 7'\",\n",
       " \"White shark, 6 m [20'] \",\n",
       " \"1.8 m [6'] Caribbean reef shark\",\n",
       " \"White shark, 4 m [13'] rk\",\n",
       " '5.2 to 5.8 m white shark',\n",
       " 'White shark, 2.5 m',\n",
       " \"2.4 m [8'] white shark, species identity confirmed by tooth fragment\",\n",
       " 'Raggedtooth shark, 150-kg',\n",
       " \"Nurse shark, 60 cm to 90 cm [2' to 3'] \",\n",
       " 'Bull shark, 1.8m',\n",
       " \"2.7 m [9']  bull shark or Caribbean reef shark\",\n",
       " 'Unidentified',\n",
       " 'White shark, 3.6 m,  420 kg male',\n",
       " \"1.8 m [6'] bull shark\",\n",
       " 'Tiger shark, 2.5 m',\n",
       " '2 m shark, possibly a dusky or blacktip shark',\n",
       " \"2.4 m to 3.7 m [8' to 12'] shark\",\n",
       " \"Nurse shark, 10'\",\n",
       " 'Tiger shark, 2.3m ',\n",
       " 'small blacktip shark?',\n",
       " 'Oceanic whitetip shark, 2.5 to 3m',\n",
       " \"Wobbegong shark, 4' \",\n",
       " '8; 206-lb shark',\n",
       " \"Tiger sharks, 2.4 m to 4.9 m [8' to 16'] \",\n",
       " \">6 m [20'] white shark\",\n",
       " \"4 m to 5 m [13' to 16.5']  white shark \",\n",
       " \"Nurse shark, 2.5' \",\n",
       " ' \"gummy\" shark (Rhizoprionodon or Loxodon) 1.2 m [4\\']',\n",
       " '> 3 m shark',\n",
       " 'Species unknown, possibly a white shark',\n",
       " \"White shark, 3 m [10']; identifed by Dr. W.I. Follett on tooth marks\",\n",
       " \"Lemon shark, 4'\",\n",
       " \"Tiger shark, 2.1 m [7']\",\n",
       " 'White shark, 4.5m',\n",
       " ' ',\n",
       " \"Thought to involve a 2.7 m [9'], 400-lb bull shark\",\n",
       " 'a small hammerhead shark',\n",
       " \"White shark, 2.4 m [8']\",\n",
       " '4 to 5m white shark',\n",
       " 'Mako shark, 3m',\n",
       " \"Lemon shark, 2.7 m [9'] \",\n",
       " '2.5 to 3 m shark',\n",
       " \"Reported to involve a White shark, 6 m to 7m [20' to 23'] \",\n",
       " \"Sevengill shark, 14', was caught in the vicinity\",\n",
       " \"3 m to 4 m [10' to 13']  white shark\",\n",
       " 'White shark, 2.8 to 3 m ',\n",
       " \"White shark, 4 m [13'] \",\n",
       " 'White shark, 2m to 3 m',\n",
       " \"1.8 m [6']  shark\",\n",
       " \"Shovelnose shark, 5'\",\n",
       " \"Tiger shark, 14'\",\n",
       " '3 hammerhead sharks nearby',\n",
       " 'Considered a \"Doubtful\" incident',\n",
       " 'Bronze whaler shark, 1.5 m ',\n",
       " \"2.4 m [8'] tiger shark caught 40 hours later with shorts of the boy in its gut\",\n",
       " \"White shark, 3.5 m [11.5']  male \",\n",
       " \" Tiger shark, 3'\",\n",
       " '3 m to 4 m shark',\n",
       " 'Tiger shark, 3m ',\n",
       " \"4.5 m to 5.5 m [14.7' to 18'] white shark\",\n",
       " '1.5 m copper shark',\n",
       " 'White shark',\n",
       " \"Tiger shark, 12'\",\n",
       " '200 to 300 kg shark',\n",
       " '1.2 m to 1.5 m [4\\' to 5\\'] \"reef shark\"',\n",
       " \"Spinner shark, 3' to 4' \",\n",
       " \"1,5 m [5'] Caribbean reef shark (Carcharhinus  perezi)\",\n",
       " \"Raggedtooth shark, 1.5 m [5'] \",\n",
       " \"1.8 m [6'] carpet shark\",\n",
       " \"Nurse shark, 0.9 m  [3'] \",\n",
       " 'Possibly a sand shark',\n",
       " '1.6 m shark',\n",
       " '1m to 1.2 m shark',\n",
       " 'Wobbegong shark?',\n",
       " 'sand shark',\n",
       " 'Shovel-nosed guitarfish',\n",
       " \"Tiger shark, 2.7m  [9']\",\n",
       " '2 m shark',\n",
       " 'Wobbegong shark, 60cm',\n",
       " 'White shark, 3 m',\n",
       " \"White shark, 2.5 m [8.25'] \",\n",
       " \"3.5' hammerhead shark\",\n",
       " \"2.5 m [8.25'] white shark\",\n",
       " \"White shark, 3.7 m to 4.6 m [12' to 15'] \",\n",
       " \"1.5 to 2.5 m [5' to 8.25'] copper shark\",\n",
       " \"Bull shark, 10' \",\n",
       " '1.5 m, 45-kg shark',\n",
       " \"8' shark\",\n",
       " 'Unknown, but the shark was caught and put on exhibition',\n",
       " \"14' to 18'shark\",\n",
       " \"1.5 m [5'] Caribbean reef shark\",\n",
       " \"Bull shark, 4 m [13'] \",\n",
       " 'Oceanic whitetip shar,; identified by Dr. W.C. Schoeder on photograph & Dr. L.P. L. Schultz on sketch by observer',\n",
       " \"7 m [23'] white shark\",\n",
       " \"6 m [20'] shark\",\n",
       " 'Tiger shark, 3.5 m ',\n",
       " 'Thought to involve a Bronze whale shark, 2m',\n",
       " 'blacktip or spinner shark',\n",
       " \"Oceanic whitetip shark, 7'\",\n",
       " \"5' to 6' spinner or bull shark\",\n",
       " 'Porbeagle shark',\n",
       " 'Bronze whaler',\n",
       " 'Grey nurse shark',\n",
       " \"14' shark\",\n",
       " \"White shark, 2.1 m [7'] \",\n",
       " 'White shark, 6 m ',\n",
       " \"3 m [10'] bull shark\",\n",
       " 'Zambesi shark, 2m ',\n",
       " \"Bronze whaler shark, 4' \",\n",
       " 'Blacktail reef shark',\n",
       " \"Lemon shark, 6'\",\n",
       " 'Said to involve a white shark but shark involvement not confirmed',\n",
       " 'Unconfirmed incident',\n",
       " \"Mako shark, 1.8 m [6']  \",\n",
       " 'Wobbegong shark, 2 m ',\n",
       " \"White shark, 3.8 m [12.5']  \",\n",
       " '20 kg shark',\n",
       " \"3' small spotted catshark, Scyliorhinus canicula\",\n",
       " \"0.7 m [2.5'] shark\",\n",
       " \"3.4 m [11']  tiger shark & a 5' shark\",\n",
       " \"2.5 m [8.25'] bull shark\",\n",
       " \"6' to 7' blacktip shark\",\n",
       " 'Blue or porbeagle shark',\n",
       " \"Tiger shark, 4 m to 4.3 m [13' to 14'] \",\n",
       " '2 small bull sharks',\n",
       " \"2.7 m [9'] bull or lemon shark\",\n",
       " 'Survivors said 2 species of sharks were involved:  oceanic whitetip sharks and another species,',\n",
       " \"1.5' to 2' shark\",\n",
       " \"1.8 m to 2.4 m [6' to 8'] white shark\",\n",
       " \"1' to 2' hammerhead or bonnethed shark\",\n",
       " '18-foot shark',\n",
       " \"1.8 m to 2.1 m [6' to 7'] hammerhead shark\",\n",
       " '3.6 m  white shark  (or bronze whaler)',\n",
       " \"Bull shark, 4' to bull shark\",\n",
       " \"Wobbegong shark, 3' \",\n",
       " '6 m shark',\n",
       " 'White shark, 2.5 m ',\n",
       " 'said to involve a tiger shark',\n",
       " 'White shark, 15\\'2\" ',\n",
       " \"Bull shark, 10'\",\n",
       " 'Tiger shark, 4.5 to 5.5 m [14\\'9\" to 18\\'], 2000-lb  ',\n",
       " \"3 m [10'], 270- kg [595-lb] shark\",\n",
       " 'White shark, 4 m to 5m ',\n",
       " 'Shark involvement not confirmed & highly unlikely',\n",
       " \"4.5' to 5' shark\",\n",
       " 'reef shark, 1m',\n",
       " '\"Tintorero\"',\n",
       " '3 m shark',\n",
       " 'Nurse shark, juvenile ',\n",
       " \"Wobbegong shark, 1.5 m [5'] \",\n",
       " \"1.8 m to 2.4 m  [6' to 8'] shark\",\n",
       " '\"A 2\\' (0.6 m) brown shark\"',\n",
       " 'Thought to involve a mako shark, but possibly a sea lion',\n",
       " \"Wobbegong shark, 6'\",\n",
       " \"Bronze whaler shark, 3.7 m [12'] identified by G.P. Whitley based on description\",\n",
       " 'Thought to involve a mako or grey nurse shark',\n",
       " \"Porbeagle shark, 3 m [10']rk\",\n",
       " \"5.5 m to 6 m [18' to 20']  white shark\",\n",
       " 'Bronze whaler shark, 2 m',\n",
       " \"Said to involve a 6.5 m [21.5'] shark\",\n",
       " 'Bull shark or lemon shark',\n",
       " 'Blue shark bites post mortem',\n",
       " \"White shark, 4.3 m 4.9 m [14' to 16'] \",\n",
       " \"Nurse shark, 2.1 m [7']  identified by Dr. E. Clark on color & tooth impressions\",\n",
       " \"Tiger shark, 10' to 12' \",\n",
       " 'Mako shark, 180-kg [397-lb]',\n",
       " 'Reportedly: oceanic whitetip sharks, blue sharks, tiger sharks & bull sharks',\n",
       " 'Shark involvement prior to death still to be determined',\n",
       " ' a small shark',\n",
       " \"Lemon shark, 1.8 m to 2.4 m [6' to 8'], tooth fragment recovered\",\n",
       " \"2.4 m [8']  shark\",\n",
       " 'Thought to involve a 1.2 to 1.5 m tubarão da gralha preta -  a blacktip shark, C. limbatus?',\n",
       " 'Bronze whaler shark, 4m',\n",
       " '\"Dog shark\"',\n",
       " \"3.5' to 4' shark\",\n",
       " \"3' shark\",\n",
       " '\"a large shark\"',\n",
       " '5 m to 7 m white shark',\n",
       " 'Possibly a 3 m bull shark',\n",
       " 'Bronze whaler shark, 2 m to 3 m ',\n",
       " \"4m [13'] shark\",\n",
       " 'Bull shark, 3m',\n",
       " \"Said to be 6.4 m [21'] shark\",\n",
       " \"2.7 m [9'] silky shark\",\n",
       " '250-lb female \"blue fin\" shark',\n",
       " \"Oceanic whitetip shark,1.8 m [6'] \",\n",
       " '\"a little shark\"',\n",
       " \"4 m [13'], 590-kg white shark\",\n",
       " \"[4.5' to 5'] shark\",\n",
       " '3 m to 4 m white shark',\n",
       " \"Said to involve 6 to 7 m [20' to 23'] white shark\",\n",
       " '1.74 m, 116-kg Zambesi shark',\n",
       " 'White shark (tooth fragments recovered)',\n",
       " \"Whitetip reef shark, 4' to 6'\",\n",
       " '9-foot shark',\n",
       " '1 m shark',\n",
       " \"2.7 m [9'] shark\",\n",
       " \"Tiger shark, 2.4 m to 3 m [8' to 10'] \",\n",
       " \"1.5 m to 1.8 m [5' to 6']  blacktip shark\",\n",
       " 'small nurse shark',\n",
       " 'Dusky shark, 2m',\n",
       " \"Tiger shark, 2.4 m to 2.7 m [8' to 9']  \",\n",
       " \"Tiger shark, 8' to 9' \",\n",
       " '2.27 m shark',\n",
       " \"Tiger shark, 15'\",\n",
       " 'unknown, possibly a white shark',\n",
       " '2m shark',\n",
       " \"1.5 m [5']  shark\",\n",
       " \"White shark, 16' \",\n",
       " 'Wobbegong',\n",
       " 'White shark, 2.5m',\n",
       " \"Blacktip shark, 2' \",\n",
       " 'Mako shark, 100-lb',\n",
       " \"Nurse shark, 0.9 m [3'] \",\n",
       " \"Tiger shark, 1.8 m to 2.4 m [6' to 8'] \",\n",
       " 'According to Benjamin, the injury was inflicted by a barracuda, not a shark',\n",
       " 'Unidentified shark',\n",
       " '2 m to  3 m shark',\n",
       " 'Though to involve a white shark',\n",
       " 'Sandbar shark',\n",
       " \"Tiger shark, 13' \",\n",
       " \"Two 3 m [10'] oceanic whitetip sharks\",\n",
       " \"Blacktip shark, 5' to 6'\",\n",
       " \"White shark, 5 m to 6 m [16.5' to 20'] \",\n",
       " \"0.9 m to 1.2 m [3' to 4'] white shark\",\n",
       " \"3.7 m to 4.3 m [12' to 14'] white shark\",\n",
       " 'Lemon shark, >1 m ',\n",
       " 'Tiger shark, 3.5 m, 250-lb female',\n",
       " 'Survivors said 2 species of sharks were involved:  oceanic whitetip sharks and another species',\n",
       " \"0.9 m [3']  shark\",\n",
       " 'Reported to involve a 4 m white shark',\n",
       " \"Bull shark, 7'\",\n",
       " 'Tooth fragments of \\x93whaler\\x94 shark were recovered, a bull shark, according to Edwards',\n",
       " \"White shark, 3.7 m [12']  according to witnesses\",\n",
       " 'Porbeagle',\n",
       " 'White shark, 3m, seen in area and hooked 3 days later',\n",
       " 'Remains recovered 5 days later',\n",
       " 'Grey nurse shark, 3m',\n",
       " '\"Attacked by a number of sharks\"',\n",
       " \"1.5 m [5'] shark, probable bull shark\",\n",
       " '2.5 m shark',\n",
       " \"7' female shark\",\n",
       " \"Bull shark, 8'\",\n",
       " 'said to involve an oceanic whitetip shark',\n",
       " 'Large tiger shark seen in the vicinity the following morning',\n",
       " \"3.7 m [12'] shark \",\n",
       " \"13', 400-lb thresher shark\",\n",
       " \"Tiger shark, 2.4 m [8'] \",\n",
       " \"White shark, 15' to 16'\",\n",
       " 'whaler shark',\n",
       " \"White shark, 4.3 m [14'] (or bronze whaler)\",\n",
       " 'White shark, 4 m',\n",
       " 'Possibly a small hammerhead shark',\n",
       " \"5.5' to 6' shark\",\n",
       " \"Possibly a 6' bull shark\",\n",
       " \"Bull shark, 4' to 5' \",\n",
       " \"Sandtiger shark, 2.1 m [7'] \",\n",
       " 'Thought to involve a 2.5 m bull or tiger shark',\n",
       " 'Bull shark',\n",
       " \"4 m [13'] shark x 6\",\n",
       " '60 cm  shark ',\n",
       " 'Small shark with white-tipped dorsal fin',\n",
       " 'Bull shark, 3.5 m',\n",
       " \"White shark, 4.4 m [14.5'] . \",\n",
       " 'Bull shark, 1m ',\n",
       " \"5 m  [16.5'] white shark\",\n",
       " \"Possibly a 1' to 3' blacktip or spinner shark\",\n",
       " \"4' to 6' shark\",\n",
       " 'Raggedtooth shark, 100-lb ',\n",
       " \"Raggedtooth shark, 50-kg [110-lb], 2 m [6.75'] gaffed \",\n",
       " 'White shark, 4 m white shark',\n",
       " \"Tiger shark, 4.6 m to 7.6 m [15' to 25'] \",\n",
       " \"3.7 m [12'] white shark\",\n",
       " ' Wobbegong shark, 1.6 to 1.8m ',\n",
       " \"Grey nurse shark, 1.5 m [5'] \",\n",
       " 'White shark, 246-kg ',\n",
       " \"Local authorities speculated that the water was too cold for sharks, but a 2.1 m [7'], 200-lb pregnant sandbar shark was caught next day\",\n",
       " 'White shark, 2000-lb',\n",
       " \"4.4 m [14'] shark\",\n",
       " '\"a small shark\"',\n",
       " '80 kg shark',\n",
       " '\"Blue nose sharks\"',\n",
       " '1.5 m grey reef shark',\n",
       " \"Tiger shark, 2.4 m [8']\",\n",
       " 'Thought to involve a 5.5 m white shark named Kong',\n",
       " 'Bull shark, 1.5m ',\n",
       " 'Shark involvement prior to death not confirmed',\n",
       " \"Mako shark, 14' \",\n",
       " 'Mako shark, 1.3 m gaffed ',\n",
       " \"White shark, 3 m [10']rk\",\n",
       " \">2.4 m [8'] shark\",\n",
       " 'Believed white shark and other smaller species of sharks involved.',\n",
       " \"Bull shark, 2.4 m [8']\",\n",
       " \" Bull shark, 5'\",\n",
       " 'Grey reef shark, Identified as C. menisorrah, by E.S. Hobson, F. Mautin & E.S. Reese (1961)',\n",
       " '4 m white shark',\n",
       " 'White shark, 1600-lb female ',\n",
       " \"7.5' shark\",\n",
       " 'Porbeagle or white shark',\n",
       " 'Said to involve white shark, but species identify questionable',\n",
       " '2 m  \"yellow belly\" captive shark. Shark destroyed by aquarium staff next day',\n",
       " \"6 m [20']  shark\",\n",
       " '1.5 m shark',\n",
       " \"White shark, 5.5 m [18'] \",\n",
       " 'Sevengill shark',\n",
       " \"White shark, 4.3 m [14'], (tooth fragment recovered)\",\n",
       " 'Sandtiger shark, 2 m, male ',\n",
       " \"1.8 m [6'] white shark\",\n",
       " '2 to 3 m shark',\n",
       " \"Said to involve a 7 m [23'] white shark\",\n",
       " '2 sharks, 4.5 m & 3 m ',\n",
       " ...}"
      ]
     },
     "execution_count": 62,
     "metadata": {},
     "output_type": "execute_result"
    }
   ],
   "source": [
    "set(df[\"Species \"])"
   ]
  },
  {
   "cell_type": "code",
   "execution_count": 203,
   "id": "b9db6223",
   "metadata": {
    "ExecuteTime": {
     "end_time": "2021-11-01T17:38:09.565756Z",
     "start_time": "2021-11-01T17:38:09.519450Z"
    },
    "slideshow": {
     "slide_type": "subslide"
    }
   },
   "outputs": [
    {
     "ename": "KeyError",
     "evalue": "'Species'",
     "output_type": "error",
     "traceback": [
      "\u001b[1;31m---------------------------------------------------------------------------\u001b[0m",
      "\u001b[1;31mKeyError\u001b[0m                                  Traceback (most recent call last)",
      "\u001b[1;32m~\\anaconda3\\lib\\site-packages\\pandas\\core\\indexes\\base.py\u001b[0m in \u001b[0;36mget_loc\u001b[1;34m(self, key, method, tolerance)\u001b[0m\n\u001b[0;32m   3079\u001b[0m             \u001b[1;32mtry\u001b[0m\u001b[1;33m:\u001b[0m\u001b[1;33m\u001b[0m\u001b[1;33m\u001b[0m\u001b[0m\n\u001b[1;32m-> 3080\u001b[1;33m                 \u001b[1;32mreturn\u001b[0m \u001b[0mself\u001b[0m\u001b[1;33m.\u001b[0m\u001b[0m_engine\u001b[0m\u001b[1;33m.\u001b[0m\u001b[0mget_loc\u001b[0m\u001b[1;33m(\u001b[0m\u001b[0mcasted_key\u001b[0m\u001b[1;33m)\u001b[0m\u001b[1;33m\u001b[0m\u001b[1;33m\u001b[0m\u001b[0m\n\u001b[0m\u001b[0;32m   3081\u001b[0m             \u001b[1;32mexcept\u001b[0m \u001b[0mKeyError\u001b[0m \u001b[1;32mas\u001b[0m \u001b[0merr\u001b[0m\u001b[1;33m:\u001b[0m\u001b[1;33m\u001b[0m\u001b[1;33m\u001b[0m\u001b[0m\n",
      "\u001b[1;32mpandas\\_libs\\index.pyx\u001b[0m in \u001b[0;36mpandas._libs.index.IndexEngine.get_loc\u001b[1;34m()\u001b[0m\n",
      "\u001b[1;32mpandas\\_libs\\index.pyx\u001b[0m in \u001b[0;36mpandas._libs.index.IndexEngine.get_loc\u001b[1;34m()\u001b[0m\n",
      "\u001b[1;32mpandas\\_libs\\hashtable_class_helper.pxi\u001b[0m in \u001b[0;36mpandas._libs.hashtable.PyObjectHashTable.get_item\u001b[1;34m()\u001b[0m\n",
      "\u001b[1;32mpandas\\_libs\\hashtable_class_helper.pxi\u001b[0m in \u001b[0;36mpandas._libs.hashtable.PyObjectHashTable.get_item\u001b[1;34m()\u001b[0m\n",
      "\u001b[1;31mKeyError\u001b[0m: 'Species'",
      "\nThe above exception was the direct cause of the following exception:\n",
      "\u001b[1;31mKeyError\u001b[0m                                  Traceback (most recent call last)",
      "\u001b[1;32m<ipython-input-203-687bc3f609b8>\u001b[0m in \u001b[0;36m<module>\u001b[1;34m\u001b[0m\n\u001b[1;32m----> 1\u001b[1;33m \u001b[0mdf\u001b[0m\u001b[1;33m[\u001b[0m\u001b[1;34m\"Species\"\u001b[0m\u001b[1;33m]\u001b[0m\u001b[1;33m.\u001b[0m\u001b[0mvalue_counts\u001b[0m\u001b[1;33m(\u001b[0m\u001b[1;33m)\u001b[0m\u001b[1;33m\u001b[0m\u001b[1;33m\u001b[0m\u001b[0m\n\u001b[0m",
      "\u001b[1;32m~\\anaconda3\\lib\\site-packages\\pandas\\core\\frame.py\u001b[0m in \u001b[0;36m__getitem__\u001b[1;34m(self, key)\u001b[0m\n\u001b[0;32m   3022\u001b[0m             \u001b[1;32mif\u001b[0m \u001b[0mself\u001b[0m\u001b[1;33m.\u001b[0m\u001b[0mcolumns\u001b[0m\u001b[1;33m.\u001b[0m\u001b[0mnlevels\u001b[0m \u001b[1;33m>\u001b[0m \u001b[1;36m1\u001b[0m\u001b[1;33m:\u001b[0m\u001b[1;33m\u001b[0m\u001b[1;33m\u001b[0m\u001b[0m\n\u001b[0;32m   3023\u001b[0m                 \u001b[1;32mreturn\u001b[0m \u001b[0mself\u001b[0m\u001b[1;33m.\u001b[0m\u001b[0m_getitem_multilevel\u001b[0m\u001b[1;33m(\u001b[0m\u001b[0mkey\u001b[0m\u001b[1;33m)\u001b[0m\u001b[1;33m\u001b[0m\u001b[1;33m\u001b[0m\u001b[0m\n\u001b[1;32m-> 3024\u001b[1;33m             \u001b[0mindexer\u001b[0m \u001b[1;33m=\u001b[0m \u001b[0mself\u001b[0m\u001b[1;33m.\u001b[0m\u001b[0mcolumns\u001b[0m\u001b[1;33m.\u001b[0m\u001b[0mget_loc\u001b[0m\u001b[1;33m(\u001b[0m\u001b[0mkey\u001b[0m\u001b[1;33m)\u001b[0m\u001b[1;33m\u001b[0m\u001b[1;33m\u001b[0m\u001b[0m\n\u001b[0m\u001b[0;32m   3025\u001b[0m             \u001b[1;32mif\u001b[0m \u001b[0mis_integer\u001b[0m\u001b[1;33m(\u001b[0m\u001b[0mindexer\u001b[0m\u001b[1;33m)\u001b[0m\u001b[1;33m:\u001b[0m\u001b[1;33m\u001b[0m\u001b[1;33m\u001b[0m\u001b[0m\n\u001b[0;32m   3026\u001b[0m                 \u001b[0mindexer\u001b[0m \u001b[1;33m=\u001b[0m \u001b[1;33m[\u001b[0m\u001b[0mindexer\u001b[0m\u001b[1;33m]\u001b[0m\u001b[1;33m\u001b[0m\u001b[1;33m\u001b[0m\u001b[0m\n",
      "\u001b[1;32m~\\anaconda3\\lib\\site-packages\\pandas\\core\\indexes\\base.py\u001b[0m in \u001b[0;36mget_loc\u001b[1;34m(self, key, method, tolerance)\u001b[0m\n\u001b[0;32m   3080\u001b[0m                 \u001b[1;32mreturn\u001b[0m \u001b[0mself\u001b[0m\u001b[1;33m.\u001b[0m\u001b[0m_engine\u001b[0m\u001b[1;33m.\u001b[0m\u001b[0mget_loc\u001b[0m\u001b[1;33m(\u001b[0m\u001b[0mcasted_key\u001b[0m\u001b[1;33m)\u001b[0m\u001b[1;33m\u001b[0m\u001b[1;33m\u001b[0m\u001b[0m\n\u001b[0;32m   3081\u001b[0m             \u001b[1;32mexcept\u001b[0m \u001b[0mKeyError\u001b[0m \u001b[1;32mas\u001b[0m \u001b[0merr\u001b[0m\u001b[1;33m:\u001b[0m\u001b[1;33m\u001b[0m\u001b[1;33m\u001b[0m\u001b[0m\n\u001b[1;32m-> 3082\u001b[1;33m                 \u001b[1;32mraise\u001b[0m \u001b[0mKeyError\u001b[0m\u001b[1;33m(\u001b[0m\u001b[0mkey\u001b[0m\u001b[1;33m)\u001b[0m \u001b[1;32mfrom\u001b[0m \u001b[0merr\u001b[0m\u001b[1;33m\u001b[0m\u001b[1;33m\u001b[0m\u001b[0m\n\u001b[0m\u001b[0;32m   3083\u001b[0m \u001b[1;33m\u001b[0m\u001b[0m\n\u001b[0;32m   3084\u001b[0m         \u001b[1;32mif\u001b[0m \u001b[0mtolerance\u001b[0m \u001b[1;32mis\u001b[0m \u001b[1;32mnot\u001b[0m \u001b[1;32mNone\u001b[0m\u001b[1;33m:\u001b[0m\u001b[1;33m\u001b[0m\u001b[1;33m\u001b[0m\u001b[0m\n",
      "\u001b[1;31mKeyError\u001b[0m: 'Species'"
     ]
    }
   ],
   "source": [
    "df[\"Species\"].value_counts()"
   ]
  },
  {
   "cell_type": "markdown",
   "id": "48d47a3e",
   "metadata": {
    "slideshow": {
     "slide_type": "subslide"
    }
   },
   "source": [
    "#### Conclusion y output"
   ]
  },
  {
   "cell_type": "markdown",
   "id": "9c9ea9cb",
   "metadata": {
    "slideshow": {
     "slide_type": "fragment"
    }
   },
   "source": [
    "Mas de la mitad de los registros son desconocidos y de los que hay valores no NA, hay demasiada variacion en la forma de escribirlo y en la informacion que proporcionan, por lo que decido borrar la columna"
   ]
  },
  {
   "cell_type": "code",
   "execution_count": 63,
   "id": "475a0373",
   "metadata": {
    "ExecuteTime": {
     "end_time": "2021-11-01T17:02:40.936168Z",
     "start_time": "2021-11-01T17:02:40.911958Z"
    },
    "slideshow": {
     "slide_type": "subslide"
    }
   },
   "outputs": [],
   "source": [
    "df.drop(\"Species \",axis=1,inplace=True)"
   ]
  },
  {
   "cell_type": "markdown",
   "id": "a1c22f17",
   "metadata": {
    "slideshow": {
     "slide_type": "slide"
    }
   },
   "source": [
    "### Columnas: \"Date\",\"Year\",\"Time\""
   ]
  },
  {
   "cell_type": "markdown",
   "id": "2786eab2",
   "metadata": {
    "slideshow": {
     "slide_type": "subslide"
    }
   },
   "source": [
    "#### Analisis de las columnas, cosas en comun y diferencias"
   ]
  },
  {
   "cell_type": "code",
   "execution_count": 64,
   "id": "fc59c49d",
   "metadata": {
    "ExecuteTime": {
     "end_time": "2021-11-01T17:02:47.592013Z",
     "start_time": "2021-11-01T17:02:47.560768Z"
    },
    "slideshow": {
     "slide_type": "subslide"
    }
   },
   "outputs": [
    {
     "data": {
      "text/html": [
       "<div>\n",
       "<style scoped>\n",
       "    .dataframe tbody tr th:only-of-type {\n",
       "        vertical-align: middle;\n",
       "    }\n",
       "\n",
       "    .dataframe tbody tr th {\n",
       "        vertical-align: top;\n",
       "    }\n",
       "\n",
       "    .dataframe thead th {\n",
       "        text-align: right;\n",
       "    }\n",
       "</style>\n",
       "<table border=\"1\" class=\"dataframe\">\n",
       "  <thead>\n",
       "    <tr style=\"text-align: right;\">\n",
       "      <th></th>\n",
       "      <th>Date</th>\n",
       "      <th>Year</th>\n",
       "      <th>Time</th>\n",
       "    </tr>\n",
       "    <tr>\n",
       "      <th>Casos</th>\n",
       "      <th></th>\n",
       "      <th></th>\n",
       "      <th></th>\n",
       "    </tr>\n",
       "  </thead>\n",
       "  <tbody>\n",
       "    <tr>\n",
       "      <th>1</th>\n",
       "      <td>1845-1853</td>\n",
       "      <td>0</td>\n",
       "      <td>NaN</td>\n",
       "    </tr>\n",
       "    <tr>\n",
       "      <th>2</th>\n",
       "      <td>1883-1889</td>\n",
       "      <td>0</td>\n",
       "      <td>NaN</td>\n",
       "    </tr>\n",
       "    <tr>\n",
       "      <th>3</th>\n",
       "      <td>1900-1905</td>\n",
       "      <td>0</td>\n",
       "      <td>NaN</td>\n",
       "    </tr>\n",
       "    <tr>\n",
       "      <th>4</th>\n",
       "      <td>Before 1903</td>\n",
       "      <td>0</td>\n",
       "      <td>NaN</td>\n",
       "    </tr>\n",
       "    <tr>\n",
       "      <th>5</th>\n",
       "      <td>Before 1903</td>\n",
       "      <td>0</td>\n",
       "      <td>NaN</td>\n",
       "    </tr>\n",
       "  </tbody>\n",
       "</table>\n",
       "</div>"
      ],
      "text/plain": [
       "              Date  Year Time\n",
       "Casos                        \n",
       "1        1845-1853     0  NaN\n",
       "2        1883-1889     0  NaN\n",
       "3        1900-1905     0  NaN\n",
       "4      Before 1903     0  NaN\n",
       "5      Before 1903     0  NaN"
      ]
     },
     "execution_count": 64,
     "metadata": {},
     "output_type": "execute_result"
    }
   ],
   "source": [
    "# Vamos con las columnas de Date,year y time\n",
    "#Objetivo unificar a una sola tabla\n",
    "df[[\"Date\",\"Year\", \"Time\"]].head(5)"
   ]
  },
  {
   "cell_type": "code",
   "execution_count": 65,
   "id": "1f37482e",
   "metadata": {
    "ExecuteTime": {
     "end_time": "2021-11-01T17:02:48.000221Z",
     "start_time": "2021-11-01T17:02:47.975913Z"
    },
    "slideshow": {
     "slide_type": "subslide"
    }
   },
   "outputs": [
    {
     "data": {
      "text/plain": [
       "Date       0\n",
       "Year       0\n",
       "Time    3213\n",
       "dtype: int64"
      ]
     },
     "execution_count": 65,
     "metadata": {},
     "output_type": "execute_result"
    }
   ],
   "source": [
    "df[[\"Date\",\"Year\", \"Time\"]].isna().sum()"
   ]
  },
  {
   "cell_type": "markdown",
   "id": "52b6e2b5",
   "metadata": {
    "slideshow": {
     "slide_type": "subslide"
    }
   },
   "source": [
    "#### Agrupacion de las tres columnas en una"
   ]
  },
  {
   "cell_type": "code",
   "execution_count": 66,
   "id": "ccfe7b73",
   "metadata": {
    "ExecuteTime": {
     "end_time": "2021-11-01T17:02:49.249081Z",
     "start_time": "2021-11-01T17:02:49.232978Z"
    },
    "slideshow": {
     "slide_type": "subslide"
    }
   },
   "outputs": [],
   "source": [
    "#Con tantos valor nulo en Time, la borramos\n",
    "df.drop(\"Time\",axis=1,inplace=True)"
   ]
  },
  {
   "cell_type": "code",
   "execution_count": 67,
   "id": "44458daf",
   "metadata": {
    "ExecuteTime": {
     "end_time": "2021-11-01T17:02:49.688246Z",
     "start_time": "2021-11-01T17:02:49.674367Z"
    },
    "slideshow": {
     "slide_type": "subslide"
    }
   },
   "outputs": [
    {
     "data": {
      "text/plain": [
       "5128"
      ]
     },
     "execution_count": 67,
     "metadata": {},
     "output_type": "execute_result"
    }
   ],
   "source": [
    "#Analizamos la variable Date\n",
    "df[\"Date\"].nunique()"
   ]
  },
  {
   "cell_type": "code",
   "execution_count": 68,
   "id": "013139be",
   "metadata": {
    "ExecuteTime": {
     "end_time": "2021-11-01T17:02:50.605685Z",
     "start_time": "2021-11-01T17:02:50.534830Z"
    },
    "slideshow": {
     "slide_type": "subslide"
    }
   },
   "outputs": [
    {
     "data": {
      "text/plain": [
       "Casos\n",
       "2546       16-Jul-64\n",
       "319      26-Jun-1867\n",
       "2418       19-Aug-62\n",
       "4328       01-Jan-02\n",
       "1239       09-Aug-32\n",
       "11       Before 1911\n",
       "2893       09-Sep-72\n",
       "2463       13-Apr-63\n",
       "5586     01-Sep-2013\n",
       "Name: Date, dtype: object"
      ]
     },
     "execution_count": 68,
     "metadata": {},
     "output_type": "execute_result"
    }
   ],
   "source": [
    "#la columna Date es tipo objeto con demasiados valores unicos, decido agruparla en la columna Año ya que no hay suficientes registros con los dias y los meses\n",
    "df.Date.sample(n=9)"
   ]
  },
  {
   "cell_type": "code",
   "execution_count": 69,
   "id": "c58687f4",
   "metadata": {
    "ExecuteTime": {
     "end_time": "2021-11-01T17:02:51.071097Z",
     "start_time": "2021-11-01T17:02:51.056218Z"
    },
    "scrolled": true,
    "slideshow": {
     "slide_type": "subslide"
    }
   },
   "outputs": [
    {
     "data": {
      "text/plain": [
       "2015    139\n",
       "2011    128\n",
       "2014    125\n",
       "0       124\n",
       "2013    122\n",
       "       ... \n",
       "1854      1\n",
       "1850      1\n",
       "1846      1\n",
       "1834      1\n",
       "1554      1\n",
       "Name: Year, Length: 232, dtype: int64"
      ]
     },
     "execution_count": 69,
     "metadata": {},
     "output_type": "execute_result"
    }
   ],
   "source": [
    "#Esta columna ya son valores int, el problema son los casos ocurridos en el 0\n",
    "df.Year.value_counts()"
   ]
  },
  {
   "cell_type": "markdown",
   "id": "64d97dac",
   "metadata": {
    "slideshow": {
     "slide_type": "subslide"
    }
   },
   "source": [
    "**La cantidad de valores nulos y de valores diferentes de las columna Time y Date no lo veo aprovechable, me quedo con los años**"
   ]
  },
  {
   "cell_type": "code",
   "execution_count": 70,
   "id": "e5dce8a4",
   "metadata": {
    "ExecuteTime": {
     "end_time": "2021-11-01T17:02:53.670360Z",
     "start_time": "2021-11-01T17:02:53.613874Z"
    },
    "code_folding": [],
    "slideshow": {
     "slide_type": "subslide"
    }
   },
   "outputs": [],
   "source": [
    "#Opciones con los años 0: Borrar esos registros, poner la media o la mediana\n",
    "mediana=df.Year.median()\n",
    "#elijo la mediana ya que creo que es mas correcto"
   ]
  },
  {
   "cell_type": "code",
   "execution_count": 71,
   "id": "07f023b3",
   "metadata": {
    "ExecuteTime": {
     "end_time": "2021-11-01T17:02:54.075326Z",
     "start_time": "2021-11-01T17:02:54.059630Z"
    },
    "slideshow": {
     "slide_type": "subslide"
    }
   },
   "outputs": [],
   "source": [
    "#Creo una funcion para que me cambie los valores 0 por la mediana de los años\n",
    "def años(año):\n",
    "    if año==0:\n",
    "        return int(mediana)\n",
    "    else:\n",
    "        return año\n"
   ]
  },
  {
   "cell_type": "code",
   "execution_count": 72,
   "id": "3004c518",
   "metadata": {
    "ExecuteTime": {
     "end_time": "2021-11-01T17:02:54.596924Z",
     "start_time": "2021-11-01T17:02:54.584656Z"
    },
    "slideshow": {
     "slide_type": "subslide"
    }
   },
   "outputs": [],
   "source": [
    "#aplico la funcion que cambiara los valores 0 al valor de la mediana\n",
    "df[\"Year\"]=df[\"Year\"].apply(años)"
   ]
  },
  {
   "cell_type": "code",
   "execution_count": 73,
   "id": "10303283",
   "metadata": {
    "ExecuteTime": {
     "end_time": "2021-11-01T17:02:55.084482Z",
     "start_time": "2021-11-01T17:02:55.066409Z"
    },
    "slideshow": {
     "slide_type": "subslide"
    }
   },
   "outputs": [
    {
     "data": {
      "text/plain": [
       "1975    173\n",
       "2015    139\n",
       "2011    128\n",
       "2014    125\n",
       "2013    122\n",
       "       ... \n",
       "1850      1\n",
       "1846      1\n",
       "1834      1\n",
       "1822      1\n",
       "1554      1\n",
       "Name: Year, Length: 231, dtype: int64"
      ]
     },
     "execution_count": 73,
     "metadata": {},
     "output_type": "execute_result"
    }
   ],
   "source": [
    "df.Year.value_counts()"
   ]
  },
  {
   "cell_type": "code",
   "execution_count": 74,
   "id": "9d918b93",
   "metadata": {
    "ExecuteTime": {
     "end_time": "2021-11-01T17:02:55.782401Z",
     "start_time": "2021-11-01T17:02:55.772679Z"
    },
    "slideshow": {
     "slide_type": "subslide"
    }
   },
   "outputs": [],
   "source": [
    "#elimino la columna Date\n",
    "df.drop(\"Date\",axis=1,inplace=True)"
   ]
  },
  {
   "cell_type": "markdown",
   "id": "af6f425d",
   "metadata": {
    "ExecuteTime": {
     "end_time": "2021-10-30T17:27:32.779618Z",
     "start_time": "2021-10-30T17:27:32.768982Z"
    },
    "slideshow": {
     "slide_type": "slide"
    }
   },
   "source": [
    "### Columnas: \"Name\" y \"Sex \""
   ]
  },
  {
   "cell_type": "markdown",
   "id": "7f125e0e",
   "metadata": {
    "slideshow": {
     "slide_type": "subslide"
    }
   },
   "source": [
    "#### Analisis inicial de las columnas"
   ]
  },
  {
   "cell_type": "code",
   "execution_count": 79,
   "id": "090e221e",
   "metadata": {
    "ExecuteTime": {
     "end_time": "2021-11-01T17:03:36.388769Z",
     "start_time": "2021-11-01T17:03:36.364526Z"
    },
    "slideshow": {
     "slide_type": "subslide"
    }
   },
   "outputs": [
    {
     "data": {
      "text/plain": [
       "Index(['Year', 'Type', 'Country', 'Area', 'Location', 'Activity', 'Name',\n",
       "       'Sex ', 'Age', 'Injury', 'Fatal (Y/N)', 'Investigator or Source',\n",
       "       'Pdf'],\n",
       "      dtype='object')"
      ]
     },
     "execution_count": 79,
     "metadata": {},
     "output_type": "execute_result"
    }
   ],
   "source": [
    "df.columns"
   ]
  },
  {
   "cell_type": "code",
   "execution_count": 81,
   "id": "3596d616",
   "metadata": {
    "ExecuteTime": {
     "end_time": "2021-11-01T17:04:43.594932Z",
     "start_time": "2021-11-01T17:04:43.587685Z"
    },
    "slideshow": {
     "slide_type": "subslide"
    }
   },
   "outputs": [],
   "source": [
    "#Primero le quito el espacion al nombre de la columna \"Sex \"\n",
    "df.columns=(['Year', 'Type', 'Country', 'Area', 'Location', 'Activity', 'Name',\n",
    "       'Sex','Age', 'Injury', 'Fatal (Y/N)', 'Investigator or Source',\n",
    "       'Pdf'])"
   ]
  },
  {
   "cell_type": "code",
   "execution_count": 82,
   "id": "aa44d539",
   "metadata": {
    "ExecuteTime": {
     "end_time": "2021-11-01T17:04:47.228726Z",
     "start_time": "2021-11-01T17:04:47.204611Z"
    },
    "slideshow": {
     "slide_type": "subslide"
    }
   },
   "outputs": [
    {
     "data": {
      "text/plain": [
       "Sex     567\n",
       "Name    200\n",
       "dtype: int64"
      ]
     },
     "execution_count": 82,
     "metadata": {},
     "output_type": "execute_result"
    }
   ],
   "source": [
    "df[[\"Sex\",\"Name\"]].isna().sum()"
   ]
  },
  {
   "cell_type": "code",
   "execution_count": 83,
   "id": "06b6a1ac",
   "metadata": {
    "ExecuteTime": {
     "end_time": "2021-11-01T17:04:48.668751Z",
     "start_time": "2021-11-01T17:04:48.652193Z"
    },
    "slideshow": {
     "slide_type": "subslide"
    }
   },
   "outputs": [
    {
     "data": {
      "text/plain": [
       "5009"
      ]
     },
     "execution_count": 83,
     "metadata": {},
     "output_type": "execute_result"
    }
   ],
   "source": [
    "#Analisis de la columna name\n",
    "df[\"Name\"].nunique()"
   ]
  },
  {
   "cell_type": "code",
   "execution_count": 84,
   "id": "b761cc82",
   "metadata": {
    "ExecuteTime": {
     "end_time": "2021-11-01T17:04:53.121229Z",
     "start_time": "2021-11-01T17:04:53.104229Z"
    },
    "slideshow": {
     "slide_type": "subslide"
    }
   },
   "outputs": [
    {
     "data": {
      "text/plain": [
       "Casos\n",
       "1247                                   Mr. L. E. Brasting\n",
       "785                                             fishermen\n",
       "3592                                     Michael Mortimer\n",
       "3443    17' fishing boat. Occupants, Bubba DeMaurice, ...\n",
       "3208                                            Stan Wing\n",
       "3966                                          Doug Amelio\n",
       "2303                                        Brian Rodgers\n",
       "2681                                          Ian Gericke\n",
       "Name: Name, dtype: object"
      ]
     },
     "execution_count": 84,
     "metadata": {},
     "output_type": "execute_result"
    }
   ],
   "source": [
    "#Demasiada variedad en el formato y en las anotaciones, otra columna que borramos y agruparemos por sexo\n",
    "df[\"Name\"].sample(n=8)"
   ]
  },
  {
   "cell_type": "code",
   "execution_count": 86,
   "id": "e46d2b5a",
   "metadata": {
    "ExecuteTime": {
     "end_time": "2021-11-01T17:05:09.575959Z",
     "start_time": "2021-11-01T17:05:09.559364Z"
    },
    "slideshow": {
     "slide_type": "subslide"
    }
   },
   "outputs": [
    {
     "data": {
      "text/plain": [
       "{'.', 'F', 'M', 'M ', 'N', 'lli', nan}"
      ]
     },
     "execution_count": 86,
     "metadata": {},
     "output_type": "execute_result"
    }
   ],
   "source": [
    "#Vamos a analizar los valores\n",
    "set(df[\"Sex\"])"
   ]
  },
  {
   "cell_type": "code",
   "execution_count": 87,
   "id": "deefc880",
   "metadata": {
    "ExecuteTime": {
     "end_time": "2021-11-01T17:05:11.052449Z",
     "start_time": "2021-11-01T17:05:11.028852Z"
    },
    "scrolled": true,
    "slideshow": {
     "slide_type": "subslide"
    }
   },
   "outputs": [
    {
     "data": {
      "text/plain": [
       "M      4835\n",
       "F       585\n",
       "M         2\n",
       "N         1\n",
       "lli       1\n",
       ".         1\n",
       "Name: Sex, dtype: int64"
      ]
     },
     "execution_count": 87,
     "metadata": {},
     "output_type": "execute_result"
    }
   ],
   "source": [
    "df[\"Sex\"].value_counts()\n",
    "#Homogenizamos los M, y el resto "
   ]
  },
  {
   "cell_type": "markdown",
   "id": "792730d3",
   "metadata": {
    "slideshow": {
     "slide_type": "subslide"
    }
   },
   "source": [
    "####  Conclusiones y cambios"
   ]
  },
  {
   "cell_type": "code",
   "execution_count": 88,
   "id": "e46be974",
   "metadata": {
    "ExecuteTime": {
     "end_time": "2021-11-01T17:05:18.286536Z",
     "start_time": "2021-11-01T17:05:18.278506Z"
    },
    "slideshow": {
     "slide_type": "subslide"
    }
   },
   "outputs": [],
   "source": [
    "#Los M con espacio los agrupo en \"M\", los valores \"lli\",\".\" y \"N\" asi como los valores nulos iran a ND(No determinado)\n",
    "def genero(x):\n",
    "    if x==\"M \":\n",
    "        return \"M\"\n",
    "    elif x==\"M\" or x==\"F\":\n",
    "        return x\n",
    "    else:\n",
    "        return \"ND\"\n",
    "    \n"
   ]
  },
  {
   "cell_type": "code",
   "execution_count": 89,
   "id": "fbe1f626",
   "metadata": {
    "ExecuteTime": {
     "end_time": "2021-11-01T17:05:20.219748Z",
     "start_time": "2021-11-01T17:05:20.209435Z"
    },
    "slideshow": {
     "slide_type": "subslide"
    }
   },
   "outputs": [],
   "source": [
    "df[\"Sex\"]=df[\"Sex\"].apply(genero)"
   ]
  },
  {
   "cell_type": "code",
   "execution_count": 90,
   "id": "aa15916c",
   "metadata": {
    "ExecuteTime": {
     "end_time": "2021-11-01T17:05:25.497166Z",
     "start_time": "2021-11-01T17:05:25.480551Z"
    },
    "slideshow": {
     "slide_type": "subslide"
    }
   },
   "outputs": [],
   "source": [
    "#Borramos la columna name\n",
    "df.drop(\"Name\",axis=1,inplace=True)"
   ]
  },
  {
   "cell_type": "markdown",
   "id": "f57466fa",
   "metadata": {
    "slideshow": {
     "slide_type": "slide"
    }
   },
   "source": [
    "### Columnas: \"Injury\" y \"Fatal (Y/N) \""
   ]
  },
  {
   "cell_type": "markdown",
   "id": "038d9d89",
   "metadata": {
    "slideshow": {
     "slide_type": "subslide"
    }
   },
   "source": [
    "#### Analisis inicial de las columnas"
   ]
  },
  {
   "cell_type": "code",
   "execution_count": 91,
   "id": "826073c8",
   "metadata": {
    "ExecuteTime": {
     "end_time": "2021-11-01T17:05:29.880250Z",
     "start_time": "2021-11-01T17:05:29.856261Z"
    },
    "slideshow": {
     "slide_type": "subslide"
    }
   },
   "outputs": [
    {
     "data": {
      "text/plain": [
       "Injury         27\n",
       "Fatal (Y/N)    19\n",
       "dtype: int64"
      ]
     },
     "execution_count": 91,
     "metadata": {},
     "output_type": "execute_result"
    }
   ],
   "source": [
    "df[[\"Injury\",\"Fatal (Y/N)\"]].isna().sum()"
   ]
  },
  {
   "cell_type": "code",
   "execution_count": 92,
   "id": "6a66a94f",
   "metadata": {
    "ExecuteTime": {
     "end_time": "2021-11-01T17:05:30.481188Z",
     "start_time": "2021-11-01T17:05:30.458070Z"
    },
    "slideshow": {
     "slide_type": "subslide"
    }
   },
   "outputs": [
    {
     "data": {
      "text/plain": [
       "Injury         3595\n",
       "Fatal (Y/N)       8\n",
       "dtype: int64"
      ]
     },
     "execution_count": 92,
     "metadata": {},
     "output_type": "execute_result"
    }
   ],
   "source": [
    "#cantidad de valores tiene cada uno\n",
    "df[[\"Injury\",\"Fatal (Y/N)\"]].nunique()"
   ]
  },
  {
   "cell_type": "code",
   "execution_count": 94,
   "id": "98d67eab",
   "metadata": {
    "ExecuteTime": {
     "end_time": "2021-11-01T17:05:55.744160Z",
     "start_time": "2021-11-01T17:05:55.728390Z"
    },
    "slideshow": {
     "slide_type": "subslide"
    }
   },
   "outputs": [
    {
     "data": {
      "text/plain": [
       "Injury         27\n",
       "Fatal (Y/N)    19\n",
       "dtype: int64"
      ]
     },
     "execution_count": 94,
     "metadata": {},
     "output_type": "execute_result"
    }
   ],
   "source": [
    "#No veo relevante el tantas categorias en injury\n",
    "df[[\"Injury\",\"Fatal (Y/N)\"]].isna().sum()"
   ]
  },
  {
   "cell_type": "markdown",
   "id": "3a10754e",
   "metadata": {
    "slideshow": {
     "slide_type": "subslide"
    }
   },
   "source": [
    "####  Conclusiones y cambios"
   ]
  },
  {
   "cell_type": "code",
   "execution_count": 93,
   "id": "1f492968",
   "metadata": {
    "ExecuteTime": {
     "end_time": "2021-11-01T17:05:53.509556Z",
     "start_time": "2021-11-01T17:05:53.493370Z"
    },
    "scrolled": true,
    "slideshow": {
     "slide_type": "subslide"
    }
   },
   "outputs": [
    {
     "data": {
      "text/plain": [
       "Casos\n",
       "4238                                      Left arm bitten\n",
       "5826                                     Left hand bitten\n",
       "4953    Leg bitten by shark taken aboard Japanese traw...\n",
       "2070    FATAL  Autopsy report: bitten by shark while s...\n",
       "990                                                 FATAL\n",
       "Name: Injury, dtype: object"
      ]
     },
     "execution_count": 93,
     "metadata": {},
     "output_type": "execute_result"
    }
   ],
   "source": [
    "# No encuentro patron por lo que eliminaremos esta columna\n",
    "df[\"Injury\"].sample(n=5)"
   ]
  },
  {
   "cell_type": "code",
   "execution_count": 95,
   "id": "d5001afb",
   "metadata": {
    "ExecuteTime": {
     "end_time": "2021-11-01T17:05:59.031959Z",
     "start_time": "2021-11-01T17:05:59.007172Z"
    },
    "slideshow": {
     "slide_type": "subslide"
    }
   },
   "outputs": [
    {
     "data": {
      "text/plain": [
       "N          4315\n",
       "Y          1552\n",
       "UNKNOWN      94\n",
       " N            8\n",
       "F             1\n",
       "N             1\n",
       "#VALUE!       1\n",
       "n             1\n",
       "Name: Fatal (Y/N), dtype: int64"
      ]
     },
     "execution_count": 95,
     "metadata": {},
     "output_type": "execute_result"
    }
   ],
   "source": [
    "#vamos a ver los valores de fatal\n",
    "df[\"Fatal (Y/N)\"].value_counts()"
   ]
  },
  {
   "cell_type": "markdown",
   "id": "69cc261e",
   "metadata": {
    "slideshow": {
     "slide_type": "subslide"
    }
   },
   "source": [
    "Clasificacion de los valores:\n",
    "- N: No es fatal, sobrevive\n",
    "- Y: Fatal, No sobrevive\n",
    "- UNKNOWN: Desconocido\n",
    "- #VALUE!: Desconocido\n",
    "- F: Fatal, no sobrevive\n",
    "Creo una funcion para modificar los valores"
   ]
  },
  {
   "cell_type": "code",
   "execution_count": 96,
   "id": "b676107e",
   "metadata": {
    "ExecuteTime": {
     "end_time": "2021-11-01T17:06:03.023165Z",
     "start_time": "2021-11-01T17:06:03.008149Z"
    },
    "slideshow": {
     "slide_type": "subslide"
    }
   },
   "outputs": [],
   "source": [
    "#Vamos a cambiar los valores a: Si, No, Desconocido\n",
    "def fatal(x):\n",
    "    if x==\"N\" or x==\"N \" or x==\" N\" or x==\"n\":\n",
    "        return \"Sobrevive\"\n",
    "    elif x==\"Y\" or x==\"F\":\n",
    "        return \"No sobrevive\"\n",
    "    else:\n",
    "        return \"Desconocido\""
   ]
  },
  {
   "cell_type": "code",
   "execution_count": 97,
   "id": "bcfbdcf6",
   "metadata": {
    "ExecuteTime": {
     "end_time": "2021-11-01T17:06:03.961449Z",
     "start_time": "2021-11-01T17:06:03.937370Z"
    },
    "slideshow": {
     "slide_type": "subslide"
    }
   },
   "outputs": [],
   "source": [
    "#Aplicamos la funcion y cambio el nombre de la columna\n",
    "df[\"Supervivencia\"]=df[\"Fatal (Y/N)\"].apply(fatal)"
   ]
  },
  {
   "cell_type": "code",
   "execution_count": 98,
   "id": "bcba1729",
   "metadata": {
    "ExecuteTime": {
     "end_time": "2021-11-01T17:06:04.996754Z",
     "start_time": "2021-11-01T17:06:04.982138Z"
    },
    "slideshow": {
     "slide_type": "subslide"
    }
   },
   "outputs": [],
   "source": [
    "#Borramos las columnas de injury y fatal\n",
    "df.drop([\"Injury\",\"Fatal (Y/N)\"],axis=1,inplace=True)"
   ]
  },
  {
   "cell_type": "markdown",
   "id": "ffb8debe",
   "metadata": {
    "slideshow": {
     "slide_type": "slide"
    }
   },
   "source": [
    "### Columnas: \"Activity\" "
   ]
  },
  {
   "cell_type": "markdown",
   "id": "8cf0de9a",
   "metadata": {
    "slideshow": {
     "slide_type": "subslide"
    }
   },
   "source": [
    "#### Analisis inicial de las columnas"
   ]
  },
  {
   "cell_type": "code",
   "execution_count": 99,
   "id": "94a2ba30",
   "metadata": {
    "ExecuteTime": {
     "end_time": "2021-11-01T17:06:10.705745Z",
     "start_time": "2021-11-01T17:06:10.681925Z"
    },
    "slideshow": {
     "slide_type": "subslide"
    }
   },
   "outputs": [
    {
     "data": {
      "text/plain": [
       "1492"
      ]
     },
     "execution_count": 99,
     "metadata": {},
     "output_type": "execute_result"
    }
   ],
   "source": [
    "df.Activity.nunique()"
   ]
  },
  {
   "cell_type": "markdown",
   "id": "181ea2f5",
   "metadata": {
    "slideshow": {
     "slide_type": "subslide"
    }
   },
   "source": [
    "####  Conclusiones y cambios"
   ]
  },
  {
   "cell_type": "code",
   "execution_count": 100,
   "id": "768bc175",
   "metadata": {
    "ExecuteTime": {
     "end_time": "2021-11-01T17:06:11.804780Z",
     "start_time": "2021-11-01T17:06:11.795408Z"
    },
    "slideshow": {
     "slide_type": "subslide"
    }
   },
   "outputs": [],
   "source": [
    "#Elijo las 14 mas comunes y el resto y los NA los clasificare como Otra actividad\n",
    "lista=df[\"Activity\"].value_counts().head(14)"
   ]
  },
  {
   "cell_type": "code",
   "execution_count": 101,
   "id": "f331dcb7",
   "metadata": {
    "ExecuteTime": {
     "end_time": "2021-11-01T17:06:12.482022Z",
     "start_time": "2021-11-01T17:06:12.466455Z"
    },
    "slideshow": {
     "slide_type": "subslide"
    }
   },
   "outputs": [],
   "source": [
    "#Funcion para cambiar los valores\n",
    "def actividad(x):\n",
    "    if x in lista:\n",
    "        return x\n",
    "    else:\n",
    "        return \"Otra actividad\""
   ]
  },
  {
   "cell_type": "code",
   "execution_count": 102,
   "id": "0bbbc808",
   "metadata": {
    "ExecuteTime": {
     "end_time": "2021-11-01T17:06:13.008472Z",
     "start_time": "2021-11-01T17:06:12.992474Z"
    },
    "slideshow": {
     "slide_type": "subslide"
    }
   },
   "outputs": [],
   "source": [
    "#Cambio los valores\n",
    "df[\"Activity\"]=df[\"Activity\"].apply(actividad)"
   ]
  },
  {
   "cell_type": "markdown",
   "id": "1cd64a5a",
   "metadata": {
    "slideshow": {
     "slide_type": "slide"
    }
   },
   "source": [
    "### Columnas:  \"Type\""
   ]
  },
  {
   "cell_type": "markdown",
   "id": "61d11fde",
   "metadata": {
    "slideshow": {
     "slide_type": "subslide"
    }
   },
   "source": [
    "#### Analisis inicial de las columnas"
   ]
  },
  {
   "cell_type": "code",
   "execution_count": 103,
   "id": "6699bf32",
   "metadata": {
    "ExecuteTime": {
     "end_time": "2021-11-01T17:06:15.211663Z",
     "start_time": "2021-11-01T17:06:15.187383Z"
    },
    "slideshow": {
     "slide_type": "subslide"
    }
   },
   "outputs": [
    {
     "data": {
      "text/plain": [
       "0"
      ]
     },
     "execution_count": 103,
     "metadata": {},
     "output_type": "execute_result"
    }
   ],
   "source": [
    "#No hay valores nulos\n",
    "df.Type.isna().sum()"
   ]
  },
  {
   "cell_type": "code",
   "execution_count": 104,
   "id": "9ea08a89",
   "metadata": {
    "ExecuteTime": {
     "end_time": "2021-11-01T17:06:16.139949Z",
     "start_time": "2021-11-01T17:06:16.116542Z"
    },
    "slideshow": {
     "slide_type": "subslide"
    }
   },
   "outputs": [
    {
     "data": {
      "text/plain": [
       "6"
      ]
     },
     "execution_count": 104,
     "metadata": {},
     "output_type": "execute_result"
    }
   ],
   "source": [
    "df[\"Type\"].nunique()"
   ]
  },
  {
   "cell_type": "code",
   "execution_count": 105,
   "id": "d6b029f5",
   "metadata": {
    "ExecuteTime": {
     "end_time": "2021-11-01T17:06:16.693485Z",
     "start_time": "2021-11-01T17:06:16.669561Z"
    },
    "slideshow": {
     "slide_type": "subslide"
    }
   },
   "outputs": [
    {
     "data": {
      "text/plain": [
       "Unprovoked      4386\n",
       "Provoked         557\n",
       "Invalid          519\n",
       "Sea Disaster     220\n",
       "Boat             200\n",
       "Boating          110\n",
       "Name: Type, dtype: int64"
      ]
     },
     "execution_count": 105,
     "metadata": {},
     "output_type": "execute_result"
    }
   ],
   "source": [
    "df[\"Type\"].value_counts()"
   ]
  },
  {
   "cell_type": "markdown",
   "id": "ca8207cf",
   "metadata": {
    "slideshow": {
     "slide_type": "subslide"
    }
   },
   "source": [
    "####  Conclusiones y cambios"
   ]
  },
  {
   "cell_type": "code",
   "execution_count": 106,
   "id": "c7af9d41",
   "metadata": {
    "ExecuteTime": {
     "end_time": "2021-11-01T17:06:18.576230Z",
     "start_time": "2021-11-01T17:06:18.568558Z"
    },
    "slideshow": {
     "slide_type": "subslide"
    }
   },
   "outputs": [],
   "source": [
    "#Junto los valores de Boat y boating en Boat\n",
    "def typeBoat(x):\n",
    "    if x==\"Boating\":\n",
    "        return \"Boat\"\n",
    "    else:\n",
    "        return x"
   ]
  },
  {
   "cell_type": "code",
   "execution_count": 107,
   "id": "a0d2239e",
   "metadata": {
    "ExecuteTime": {
     "end_time": "2021-11-01T17:06:19.515055Z",
     "start_time": "2021-11-01T17:06:19.489307Z"
    },
    "slideshow": {
     "slide_type": "subslide"
    }
   },
   "outputs": [],
   "source": [
    "df[\"Type\"]=df[\"Type\"].apply(typeBoat)"
   ]
  },
  {
   "cell_type": "code",
   "execution_count": 108,
   "id": "cfd881f1",
   "metadata": {
    "ExecuteTime": {
     "end_time": "2021-11-01T17:06:20.152887Z",
     "start_time": "2021-11-01T17:06:20.129627Z"
    },
    "slideshow": {
     "slide_type": "subslide"
    }
   },
   "outputs": [
    {
     "data": {
      "text/plain": [
       "Unprovoked      4386\n",
       "Provoked         557\n",
       "Invalid          519\n",
       "Boat             310\n",
       "Sea Disaster     220\n",
       "Name: Type, dtype: int64"
      ]
     },
     "execution_count": 108,
     "metadata": {},
     "output_type": "execute_result"
    }
   ],
   "source": [
    "df.Type.value_counts()"
   ]
  },
  {
   "cell_type": "markdown",
   "id": "377ca27e",
   "metadata": {
    "slideshow": {
     "slide_type": "slide"
    }
   },
   "source": [
    "### Columna: \"Investigator or Source\"  "
   ]
  },
  {
   "cell_type": "markdown",
   "id": "8484fd54",
   "metadata": {
    "heading_collapsed": true,
    "slideshow": {
     "slide_type": "subslide"
    }
   },
   "source": [
    "#### Analisis inicial de las columnas"
   ]
  },
  {
   "cell_type": "code",
   "execution_count": 109,
   "id": "a5f596da",
   "metadata": {
    "ExecuteTime": {
     "end_time": "2021-11-01T17:06:23.498313Z",
     "start_time": "2021-11-01T17:06:23.475162Z"
    },
    "hidden": true
   },
   "outputs": [
    {
     "data": {
      "text/plain": [
       "15"
      ]
     },
     "execution_count": 109,
     "metadata": {},
     "output_type": "execute_result"
    }
   ],
   "source": [
    "#Hay muy pocos valores na\n",
    "df[\"Investigator or Source\"].isna().sum()"
   ]
  },
  {
   "cell_type": "code",
   "execution_count": 110,
   "id": "f2dad2e5",
   "metadata": {
    "ExecuteTime": {
     "end_time": "2021-11-01T17:06:23.927839Z",
     "start_time": "2021-11-01T17:06:23.903635Z"
    },
    "hidden": true
   },
   "outputs": [
    {
     "data": {
      "text/plain": [
       "4752"
      ]
     },
     "execution_count": 110,
     "metadata": {},
     "output_type": "execute_result"
    }
   ],
   "source": [
    "#Hay demasiados valores unicos\n",
    "df[\"Investigator or Source\"].nunique()"
   ]
  },
  {
   "cell_type": "code",
   "execution_count": 111,
   "id": "93debc8c",
   "metadata": {
    "ExecuteTime": {
     "end_time": "2021-11-01T17:06:24.304878Z",
     "start_time": "2021-11-01T17:06:24.280938Z"
    },
    "hidden": true
   },
   "outputs": [
    {
     "data": {
      "text/plain": [
       "Casos\n",
       "1970                          Miami Daily News, 7/19/1956\n",
       "4338    S. Petersohn, GSAF; Orlando Sentinel, 3/16/200...\n",
       "5504                                  Perth Now, 1/7/2013\n",
       "949                                        C. Moore, GSAF\n",
       "704                      Racine Daily Journal, 12/22/1902\n",
       "2937    L. Pyper, J. Bass, G. Charter; B. Davis, M. Le...\n",
       "3507                St. Petersburg Times 10/13/1988, p.2B\n",
       "3027                                 T. Wallett, pp.30-31\n",
       "4883                          First Coast News, 9/11/2007\n",
       "4306                          M. Levine, GSAF            \n",
       "Name: Investigator or Source, dtype: object"
      ]
     },
     "execution_count": 111,
     "metadata": {},
     "output_type": "execute_result"
    }
   ],
   "source": [
    "df[\"Investigator or Source\"].sample(n=10)"
   ]
  },
  {
   "cell_type": "markdown",
   "id": "e3aba71a",
   "metadata": {
    "slideshow": {
     "slide_type": "subslide"
    }
   },
   "source": [
    "#### conclusion y output:"
   ]
  },
  {
   "cell_type": "markdown",
   "id": "2ebffb08",
   "metadata": {
    "slideshow": {
     "slide_type": "subslide"
    }
   },
   "source": [
    "Por lo que veo aparece el autor o la revista, la pagina y la fecha pero con diferentes formatos y casi todos unicos \n",
    "- Opcion de rellenar los na como desconocido"
   ]
  },
  {
   "cell_type": "code",
   "execution_count": 112,
   "id": "1a222d04",
   "metadata": {
    "ExecuteTime": {
     "end_time": "2021-11-01T17:08:09.595470Z",
     "start_time": "2021-11-01T17:08:09.571491Z"
    },
    "slideshow": {
     "slide_type": "subslide"
    }
   },
   "outputs": [],
   "source": [
    "df[\"Investigator or Source\"].fillna(\"Desconocido\",inplace=True)"
   ]
  },
  {
   "cell_type": "markdown",
   "id": "00bf08f3",
   "metadata": {
    "slideshow": {
     "slide_type": "slide"
    }
   },
   "source": [
    "### Columnas: \"Area\"  "
   ]
  },
  {
   "cell_type": "markdown",
   "id": "65817fea",
   "metadata": {
    "slideshow": {
     "slide_type": "subslide"
    }
   },
   "source": [
    "#### Analisis inicial de las columnas"
   ]
  },
  {
   "cell_type": "code",
   "execution_count": 201,
   "id": "4d017c9c",
   "metadata": {
    "ExecuteTime": {
     "end_time": "2021-11-01T17:36:40.697537Z",
     "start_time": "2021-11-01T17:36:40.673028Z"
    },
    "slideshow": {
     "slide_type": "subslide"
    }
   },
   "outputs": [
    {
     "data": {
      "text/plain": [
       "786"
      ]
     },
     "execution_count": 201,
     "metadata": {},
     "output_type": "execute_result"
    }
   ],
   "source": [
    "df[\"Area\"].nunique()"
   ]
  },
  {
   "cell_type": "code",
   "execution_count": 171,
   "id": "f1230163",
   "metadata": {
    "ExecuteTime": {
     "end_time": "2021-11-01T17:25:38.537473Z",
     "start_time": "2021-11-01T17:25:38.514095Z"
    },
    "slideshow": {
     "slide_type": "subslide"
    }
   },
   "outputs": [
    {
     "data": {
      "text/plain": [
       "402"
      ]
     },
     "execution_count": 171,
     "metadata": {},
     "output_type": "execute_result"
    }
   ],
   "source": [
    "df[\"Area\"].isna().sum()"
   ]
  },
  {
   "cell_type": "code",
   "execution_count": 180,
   "id": "bbd57772",
   "metadata": {
    "ExecuteTime": {
     "end_time": "2021-11-01T17:28:37.212348Z",
     "start_time": "2021-11-01T17:28:37.188833Z"
    },
    "slideshow": {
     "slide_type": "subslide"
    }
   },
   "outputs": [
    {
     "data": {
      "text/plain": [
       "Casos\n",
       "5329                              Praslin\n",
       "768                          South Island\n",
       "653                      Imperia Province\n",
       "5161                   Binh Dinh Province\n",
       "3266                        KwaZulu-Natal\n",
       "3402                    Western Australia\n",
       "1481                             New York\n",
       "2723                             Victoria\n",
       "1389                       North Carolina\n",
       "5394                               Hawaii\n",
       "120                               Mombasa\n",
       "5066                    Western Australia\n",
       "1965                Western Cape Province\n",
       "3173                              Florida\n",
       "2261    Enroute from Suez to Aden (Yemen)\n",
       "630                                Hawaii\n",
       "3746                Western Cape Province\n",
       "2081                              Florida\n",
       "1193                                  NaN\n",
       "3056                Western Cape Province\n",
       "Name: Area, dtype: object"
      ]
     },
     "execution_count": 180,
     "metadata": {},
     "output_type": "execute_result"
    }
   ],
   "source": [
    "df[\"Area\"].sample(n=20)"
   ]
  },
  {
   "cell_type": "code",
   "execution_count": 184,
   "id": "818ef133",
   "metadata": {
    "ExecuteTime": {
     "end_time": "2021-11-01T17:30:19.726675Z",
     "start_time": "2021-11-01T17:30:19.702737Z"
    },
    "scrolled": true,
    "slideshow": {
     "slide_type": "subslide"
    }
   },
   "outputs": [
    {
     "data": {
      "text/plain": [
       "Muhafazat Hadramawt    1\n",
       "Boa Vista Island       1\n",
       "Côte d'Azur            1\n",
       "Jakarta Harbour        1\n",
       "Delagoa Bay            1\n",
       "Name: Area, dtype: int64"
      ]
     },
     "execution_count": 184,
     "metadata": {},
     "output_type": "execute_result"
    }
   ],
   "source": [
    "df[\"Area\"].value_counts().tail(5)"
   ]
  },
  {
   "cell_type": "markdown",
   "id": "750c1097",
   "metadata": {
    "slideshow": {
     "slide_type": "subslide"
    }
   },
   "source": [
    "#### conclusion y output:"
   ]
  },
  {
   "cell_type": "code",
   "execution_count": 181,
   "id": "03c3eb02",
   "metadata": {
    "ExecuteTime": {
     "end_time": "2021-11-01T17:29:45.269001Z",
     "start_time": "2021-11-01T17:29:45.245297Z"
    },
    "slideshow": {
     "slide_type": "subslide"
    }
   },
   "outputs": [],
   "source": [
    "#Lo veo bastante bien escrito, solo modificare los na\n",
    "df[\"Area\"].fillna(\"Desconocido\",inplace=True)"
   ]
  },
  {
   "cell_type": "markdown",
   "id": "b5bac173",
   "metadata": {
    "slideshow": {
     "slide_type": "slide"
    }
   },
   "source": [
    "### Columnas: \"Location\"  "
   ]
  },
  {
   "cell_type": "markdown",
   "id": "6344e85b",
   "metadata": {
    "slideshow": {
     "slide_type": "subslide"
    }
   },
   "source": [
    "#### Analisis inicial de las columnas"
   ]
  },
  {
   "cell_type": "code",
   "execution_count": 198,
   "id": "955e78e4",
   "metadata": {
    "ExecuteTime": {
     "end_time": "2021-11-01T17:36:31.936880Z",
     "start_time": "2021-11-01T17:36:31.913683Z"
    },
    "slideshow": {
     "slide_type": "subslide"
    }
   },
   "outputs": [
    {
     "data": {
      "text/plain": [
       "496"
      ]
     },
     "execution_count": 198,
     "metadata": {},
     "output_type": "execute_result"
    }
   ],
   "source": [
    "df[\"Location\"].isna().sum()"
   ]
  },
  {
   "cell_type": "code",
   "execution_count": 199,
   "id": "27d4f7d8",
   "metadata": {
    "ExecuteTime": {
     "end_time": "2021-11-01T17:36:32.401576Z",
     "start_time": "2021-11-01T17:36:32.378179Z"
    },
    "slideshow": {
     "slide_type": "subslide"
    }
   },
   "outputs": [
    {
     "data": {
      "text/plain": [
       "3929"
      ]
     },
     "execution_count": 199,
     "metadata": {},
     "output_type": "execute_result"
    }
   ],
   "source": [
    "df[\"Location\"].nunique()"
   ]
  },
  {
   "cell_type": "markdown",
   "id": "e8b8a6f3",
   "metadata": {
    "slideshow": {
     "slide_type": "subslide"
    }
   },
   "source": [
    "#### conclusion y output:"
   ]
  },
  {
   "cell_type": "markdown",
   "id": "eec3b94f",
   "metadata": {
    "slideshow": {
     "slide_type": "subslide"
    }
   },
   "source": [
    "Se parece bastante en formato a Area, tiene muchos valores unicos y pocos na, no veo nada que me desagrade aunque sea de poca utilidad estadistica la mantengo y relleno los na"
   ]
  },
  {
   "cell_type": "code",
   "execution_count": 200,
   "id": "f289fede",
   "metadata": {
    "ExecuteTime": {
     "end_time": "2021-11-01T17:36:34.785163Z",
     "start_time": "2021-11-01T17:36:34.770043Z"
    },
    "slideshow": {
     "slide_type": "subslide"
    }
   },
   "outputs": [],
   "source": [
    "df[\"Location\"].fillna(\"Desconocido\",inplace=True)"
   ]
  },
  {
   "cell_type": "markdown",
   "id": "cddb75c8",
   "metadata": {
    "ExecuteTime": {
     "end_time": "2021-11-01T17:37:10.330748Z",
     "start_time": "2021-11-01T17:37:10.323797Z"
    },
    "slideshow": {
     "slide_type": "slide"
    }
   },
   "source": [
    "# Estadistica y resolucion de preguntas\n"
   ]
  },
  {
   "cell_type": "code",
   "execution_count": 216,
   "id": "75c5c040",
   "metadata": {
    "ExecuteTime": {
     "end_time": "2021-11-01T18:52:50.886394Z",
     "start_time": "2021-11-01T18:52:50.878289Z"
    },
    "slideshow": {
     "slide_type": "subslide"
    }
   },
   "outputs": [],
   "source": [
    "plt.rcParams[\"figure.figsize\"]=(10,10)"
   ]
  },
  {
   "cell_type": "markdown",
   "id": "21ce4bd2",
   "metadata": {
    "ExecuteTime": {
     "end_time": "2021-11-01T19:12:13.576659Z",
     "start_time": "2021-11-01T19:12:13.286660Z"
    },
    "slideshow": {
     "slide_type": "subslide"
    }
   },
   "source": [
    "## ¿Cual es el mejor pais para grabar la proxima pelicula de Tiburón?"
   ]
  },
  {
   "cell_type": "code",
   "execution_count": 280,
   "id": "3f877a8d",
   "metadata": {
    "ExecuteTime": {
     "end_time": "2021-11-01T19:18:30.029070Z",
     "start_time": "2021-11-01T19:18:29.900715Z"
    },
    "slideshow": {
     "slide_type": "subslide"
    }
   },
   "outputs": [
    {
     "data": {
      "text/plain": [
       "<AxesSubplot:>"
      ]
     },
     "execution_count": 280,
     "metadata": {},
     "output_type": "execute_result"
    },
    {
     "data": {
      "image/png": "[encoded data removed]",
      "text/plain": [
       "<Figure size 720x720 with 1 Axes>"
      ]
     },
     "metadata": {
      "needs_background": "light"
     },
     "output_type": "display_data"
    }
   ],
   "source": [
    "#Pais donde los tiburones son mas violentos\n",
    "df.groupby(\"Country\").filter(lambda x: len(x) > 100).Country.value_counts().plot.bar(color='red')"
   ]
  }
 ],
 "metadata": {
  "celltoolbar": "Slideshow",
  "kernelspec": {
   "display_name": "Python 3",
   "language": "python",
   "name": "python3"
  },
  "language_info": {
   "codemirror_mode": {
    "name": "ipython",
    "version": 3
   },
   "file_extension": ".py",
   "mimetype": "text/x-python",
   "name": "python",
   "nbconvert_exporter": "python",
   "pygments_lexer": "ipython3",
   "version": "3.8.8"
  },
  "toc": {
   "base_numbering": 1,
   "nav_menu": {},
   "number_sections": true,
   "sideBar": false,
   "skip_h1_title": false,
   "title_cell": "Table of Contents",
   "title_sidebar": "Contents",
   "toc_cell": false,
   "toc_position": {
    "height": "46.9661px",
    "left": "1441.03px",
    "top": "145.549px",
    "width": "158.971px"
   },
   "toc_section_display": false,
   "toc_window_display": true
  },
  "varInspector": {
   "cols": {
    "lenName": 16,
    "lenType": 16,
    "lenVar": 40
   },
   "kernels_config": {
    "python": {
     "delete_cmd_postfix": "",
     "delete_cmd_prefix": "del ",
     "library": "var_list.py",
     "varRefreshCmd": "print(var_dic_list())"
    },
    "r": {
     "delete_cmd_postfix": ") ",
     "delete_cmd_prefix": "rm(",
     "library": "var_list.r",
     "varRefreshCmd": "cat(var_dic_list()) "
    }
   },
   "types_to_exclude": [
    "module",
    "function",
    "builtin_function_or_method",
    "instance",
    "_Feature"
   ],
   "window_display": false
  }
 },
 "nbformat": 4,
 "nbformat_minor": 5
}
