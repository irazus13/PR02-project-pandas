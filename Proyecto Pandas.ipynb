{
 "cells": [
  {
   "cell_type": "markdown",
   "id": "c0e9afbf",
   "metadata": {
    "slideshow": {
     "slide_type": "slide"
    }
   },
   "source": [
    "**Sergio**  \n",
    "#     <center>   Proyecto 2: <font color=blue>Pandas Project</font></center></h1><center><img src=https://animals.sandiegozoo.org/sites/default/files/styles/image_grid_full_width/public/2017-04/%20leopard_shark_01.jpg style=\"width: 500px;\">\n"
   ]
  },
  {
   "cell_type": "markdown",
   "id": "79c2255b",
   "metadata": {
    "slideshow": {
     "slide_type": "slide"
    }
   },
   "source": [
    "#  Conociendo los datos\n",
    "Objetivo:\n",
    "- Conocer la cantidad de valores del df, analizar las columnas, observar errores y empezar a pensar en soluciones.\n"
   ]
  },
  {
   "cell_type": "markdown",
   "id": "660e9ca4",
   "metadata": {
    "cell_style": "center",
    "slideshow": {
     "slide_type": "subslide"
    }
   },
   "source": [
    "## Importamos bibliotecas y abrimos el archivo"
   ]
  },
  {
   "cell_type": "code",
   "execution_count": 1,
   "id": "f78703db",
   "metadata": {
    "ExecuteTime": {
     "end_time": "2021-11-06T08:36:41.257888Z",
     "start_time": "2021-11-06T08:36:40.277940Z"
    },
    "cell_style": "split",
    "slideshow": {
     "slide_type": "fragment"
    }
   },
   "outputs": [],
   "source": [
    "import pandas as pd\n",
    "import numpy as np\n",
    "import re\n",
    "import matplotlib.pyplot as plt\n",
    "import seaborn as sns"
   ]
  },
  {
   "cell_type": "code",
   "execution_count": 2,
   "id": "01a918a4",
   "metadata": {
    "ExecuteTime": {
     "end_time": "2021-11-06T08:36:41.303861Z",
     "start_time": "2021-11-06T08:36:41.259683Z"
    },
    "cell_style": "split",
    "slideshow": {
     "slide_type": "fragment"
    }
   },
   "outputs": [],
   "source": [
    "df=pd.read_csv(\"data/GSAF5.csv\",encoding=\"ISO-8859-1\")"
   ]
  },
  {
   "cell_type": "markdown",
   "id": "2ff5d908",
   "metadata": {
    "slideshow": {
     "slide_type": "subslide"
    }
   },
   "source": [
    "## Informacion inicial del archivo"
   ]
  },
  {
   "cell_type": "markdown",
   "id": "dfcbe205",
   "metadata": {
    "slideshow": {
     "slide_type": "fragment"
    }
   },
   "source": [
    "### Observacion inicial del dataset "
   ]
  },
  {
   "cell_type": "code",
   "execution_count": 3,
   "id": "c6dee818",
   "metadata": {
    "ExecuteTime": {
     "end_time": "2021-11-06T08:36:41.319933Z",
     "start_time": "2021-11-06T08:36:41.304832Z"
    },
    "cell_style": "center",
    "slideshow": {
     "slide_type": "fragment"
    }
   },
   "outputs": [
    {
     "data": {
      "text/plain": [
       "(5992, 24)"
      ]
     },
     "execution_count": 3,
     "metadata": {},
     "output_type": "execute_result"
    }
   ],
   "source": [
    "#Cantidad de filas y de columnas\n",
    "df.shape"
   ]
  },
  {
   "cell_type": "code",
   "execution_count": 4,
   "id": "71932f75",
   "metadata": {
    "ExecuteTime": {
     "end_time": "2021-11-06T08:36:41.350781Z",
     "start_time": "2021-11-06T08:36:41.321048Z"
    },
    "slideshow": {
     "slide_type": "fragment"
    }
   },
   "outputs": [
    {
     "data": {
      "text/plain": [
       "False    5992\n",
       "dtype: int64"
      ]
     },
     "execution_count": 4,
     "metadata": {},
     "output_type": "execute_result"
    }
   ],
   "source": [
    "#Vamos a ver si hay algun duplicado en los valores\n",
    "df.duplicated().value_counts()"
   ]
  },
  {
   "cell_type": "code",
   "execution_count": 5,
   "id": "3daf5d16",
   "metadata": {
    "ExecuteTime": {
     "end_time": "2021-11-06T08:36:41.381821Z",
     "start_time": "2021-11-06T08:36:41.352886Z"
    },
    "slideshow": {
     "slide_type": "subslide"
    }
   },
   "outputs": [
    {
     "data": {
      "text/html": [
       "<div>\n",
       "<style scoped>\n",
       "    .dataframe tbody tr th:only-of-type {\n",
       "        vertical-align: middle;\n",
       "    }\n",
       "\n",
       "    .dataframe tbody tr th {\n",
       "        vertical-align: top;\n",
       "    }\n",
       "\n",
       "    .dataframe thead th {\n",
       "        text-align: right;\n",
       "    }\n",
       "</style>\n",
       "<table border=\"1\" class=\"dataframe\">\n",
       "  <thead>\n",
       "    <tr style=\"text-align: right;\">\n",
       "      <th></th>\n",
       "      <th>Case Number</th>\n",
       "      <th>Date</th>\n",
       "      <th>Year</th>\n",
       "      <th>Type</th>\n",
       "      <th>Country</th>\n",
       "      <th>Area</th>\n",
       "      <th>Location</th>\n",
       "      <th>Activity</th>\n",
       "      <th>Name</th>\n",
       "      <th>Sex</th>\n",
       "      <th>...</th>\n",
       "      <th>Species</th>\n",
       "      <th>Investigator or Source</th>\n",
       "      <th>pdf</th>\n",
       "      <th>href formula</th>\n",
       "      <th>href</th>\n",
       "      <th>Case Number.1</th>\n",
       "      <th>Case Number.2</th>\n",
       "      <th>original order</th>\n",
       "      <th>Unnamed: 22</th>\n",
       "      <th>Unnamed: 23</th>\n",
       "    </tr>\n",
       "  </thead>\n",
       "  <tbody>\n",
       "    <tr>\n",
       "      <th>0</th>\n",
       "      <td>2016.09.18.c</td>\n",
       "      <td>18-Sep-16</td>\n",
       "      <td>2016</td>\n",
       "      <td>Unprovoked</td>\n",
       "      <td>USA</td>\n",
       "      <td>Florida</td>\n",
       "      <td>New Smyrna Beach, Volusia County</td>\n",
       "      <td>Surfing</td>\n",
       "      <td>male</td>\n",
       "      <td>M</td>\n",
       "      <td>...</td>\n",
       "      <td>NaN</td>\n",
       "      <td>Orlando Sentinel, 9/19/2016</td>\n",
       "      <td>2016.09.18.c-NSB.pdf</td>\n",
       "      <td>http://sharkattackfile.net/spreadsheets/pdf_di...</td>\n",
       "      <td>http://sharkattackfile.net/spreadsheets/pdf_di...</td>\n",
       "      <td>2016.09.18.c</td>\n",
       "      <td>2016.09.18.c</td>\n",
       "      <td>5993</td>\n",
       "      <td>NaN</td>\n",
       "      <td>NaN</td>\n",
       "    </tr>\n",
       "    <tr>\n",
       "      <th>1</th>\n",
       "      <td>2016.09.18.b</td>\n",
       "      <td>18-Sep-16</td>\n",
       "      <td>2016</td>\n",
       "      <td>Unprovoked</td>\n",
       "      <td>USA</td>\n",
       "      <td>Florida</td>\n",
       "      <td>New Smyrna Beach, Volusia County</td>\n",
       "      <td>Surfing</td>\n",
       "      <td>Chucky Luciano</td>\n",
       "      <td>M</td>\n",
       "      <td>...</td>\n",
       "      <td>NaN</td>\n",
       "      <td>Orlando Sentinel, 9/19/2016</td>\n",
       "      <td>2016.09.18.b-Luciano.pdf</td>\n",
       "      <td>http://sharkattackfile.net/spreadsheets/pdf_di...</td>\n",
       "      <td>http://sharkattackfile.net/spreadsheets/pdf_di...</td>\n",
       "      <td>2016.09.18.b</td>\n",
       "      <td>2016.09.18.b</td>\n",
       "      <td>5992</td>\n",
       "      <td>NaN</td>\n",
       "      <td>NaN</td>\n",
       "    </tr>\n",
       "    <tr>\n",
       "      <th>2</th>\n",
       "      <td>2016.09.18.a</td>\n",
       "      <td>18-Sep-16</td>\n",
       "      <td>2016</td>\n",
       "      <td>Unprovoked</td>\n",
       "      <td>USA</td>\n",
       "      <td>Florida</td>\n",
       "      <td>New Smyrna Beach, Volusia County</td>\n",
       "      <td>Surfing</td>\n",
       "      <td>male</td>\n",
       "      <td>M</td>\n",
       "      <td>...</td>\n",
       "      <td>NaN</td>\n",
       "      <td>Orlando Sentinel, 9/19/2016</td>\n",
       "      <td>2016.09.18.a-NSB.pdf</td>\n",
       "      <td>http://sharkattackfile.net/spreadsheets/pdf_di...</td>\n",
       "      <td>http://sharkattackfile.net/spreadsheets/pdf_di...</td>\n",
       "      <td>2016.09.18.a</td>\n",
       "      <td>2016.09.18.a</td>\n",
       "      <td>5991</td>\n",
       "      <td>NaN</td>\n",
       "      <td>NaN</td>\n",
       "    </tr>\n",
       "    <tr>\n",
       "      <th>3</th>\n",
       "      <td>2016.09.17</td>\n",
       "      <td>17-Sep-16</td>\n",
       "      <td>2016</td>\n",
       "      <td>Unprovoked</td>\n",
       "      <td>AUSTRALIA</td>\n",
       "      <td>Victoria</td>\n",
       "      <td>Thirteenth Beach</td>\n",
       "      <td>Surfing</td>\n",
       "      <td>Rory Angiolella</td>\n",
       "      <td>M</td>\n",
       "      <td>...</td>\n",
       "      <td>NaN</td>\n",
       "      <td>The Age, 9/18/2016</td>\n",
       "      <td>2016.09.17-Angiolella.pdf</td>\n",
       "      <td>http://sharkattackfile.net/spreadsheets/pdf_di...</td>\n",
       "      <td>http://sharkattackfile.net/spreadsheets/pdf_di...</td>\n",
       "      <td>2016.09.17</td>\n",
       "      <td>2016.09.17</td>\n",
       "      <td>5990</td>\n",
       "      <td>NaN</td>\n",
       "      <td>NaN</td>\n",
       "    </tr>\n",
       "    <tr>\n",
       "      <th>4</th>\n",
       "      <td>2016.09.15</td>\n",
       "      <td>16-Sep-16</td>\n",
       "      <td>2016</td>\n",
       "      <td>Unprovoked</td>\n",
       "      <td>AUSTRALIA</td>\n",
       "      <td>Victoria</td>\n",
       "      <td>Bells Beach</td>\n",
       "      <td>Surfing</td>\n",
       "      <td>male</td>\n",
       "      <td>M</td>\n",
       "      <td>...</td>\n",
       "      <td>2 m shark</td>\n",
       "      <td>The Age, 9/16/2016</td>\n",
       "      <td>2016.09.16-BellsBeach.pdf</td>\n",
       "      <td>http://sharkattackfile.net/spreadsheets/pdf_di...</td>\n",
       "      <td>http://sharkattackfile.net/spreadsheets/pdf_di...</td>\n",
       "      <td>2016.09.16</td>\n",
       "      <td>2016.09.15</td>\n",
       "      <td>5989</td>\n",
       "      <td>NaN</td>\n",
       "      <td>NaN</td>\n",
       "    </tr>\n",
       "    <tr>\n",
       "      <th>5</th>\n",
       "      <td>2016.09.15.R</td>\n",
       "      <td>15-Sep-16</td>\n",
       "      <td>2016</td>\n",
       "      <td>Boat</td>\n",
       "      <td>AUSTRALIA</td>\n",
       "      <td>Western Australia</td>\n",
       "      <td>Bunbury</td>\n",
       "      <td>Fishing</td>\n",
       "      <td>Occupant: Ben Stratton</td>\n",
       "      <td>NaN</td>\n",
       "      <td>...</td>\n",
       "      <td>NaN</td>\n",
       "      <td>West Australian, 9/15/2016</td>\n",
       "      <td>2016.09.15.R-boat.pdf</td>\n",
       "      <td>http://sharkattackfile.net/spreadsheets/pdf_di...</td>\n",
       "      <td>http://sharkattackfile.net/spreadsheets/pdf_di...</td>\n",
       "      <td>2016.09.15.R</td>\n",
       "      <td>2016.09.15.R</td>\n",
       "      <td>5988</td>\n",
       "      <td>NaN</td>\n",
       "      <td>NaN</td>\n",
       "    </tr>\n",
       "    <tr>\n",
       "      <th>6</th>\n",
       "      <td>2016.09.11</td>\n",
       "      <td>11-Sep-16</td>\n",
       "      <td>2016</td>\n",
       "      <td>Unprovoked</td>\n",
       "      <td>USA</td>\n",
       "      <td>Florida</td>\n",
       "      <td>Ponte Vedra, St. Johns County</td>\n",
       "      <td>Wading</td>\n",
       "      <td>male</td>\n",
       "      <td>M</td>\n",
       "      <td>...</td>\n",
       "      <td>3' to 4' shark</td>\n",
       "      <td>News4Jax, 9/11/2016</td>\n",
       "      <td>2016.09.11-PonteVedra.pdf</td>\n",
       "      <td>http://sharkattackfile.net/spreadsheets/pdf_di...</td>\n",
       "      <td>http://sharkattackfile.net/spreadsheets/pdf_di...</td>\n",
       "      <td>2016.09.11</td>\n",
       "      <td>2016.09.11</td>\n",
       "      <td>5987</td>\n",
       "      <td>NaN</td>\n",
       "      <td>NaN</td>\n",
       "    </tr>\n",
       "    <tr>\n",
       "      <th>7</th>\n",
       "      <td>2016.09.07</td>\n",
       "      <td>07-Sep-16</td>\n",
       "      <td>2016</td>\n",
       "      <td>Unprovoked</td>\n",
       "      <td>USA</td>\n",
       "      <td>Hawaii</td>\n",
       "      <td>Makaha, Oahu</td>\n",
       "      <td>Swimming</td>\n",
       "      <td>female</td>\n",
       "      <td>F</td>\n",
       "      <td>...</td>\n",
       "      <td>Tiger shark, 10?</td>\n",
       "      <td>Hawaii News Now, 9/7/2016</td>\n",
       "      <td>2016.09.07-Oahu.pdf</td>\n",
       "      <td>http://sharkattackfile.net/spreadsheets/pdf_di...</td>\n",
       "      <td>http://sharkattackfile.net/spreadsheets/pdf_di...</td>\n",
       "      <td>2016.09.07</td>\n",
       "      <td>2016.09.07</td>\n",
       "      <td>5986</td>\n",
       "      <td>NaN</td>\n",
       "      <td>NaN</td>\n",
       "    </tr>\n",
       "    <tr>\n",
       "      <th>8</th>\n",
       "      <td>2016.09.06</td>\n",
       "      <td>06-Sep-16</td>\n",
       "      <td>2016</td>\n",
       "      <td>Unprovoked</td>\n",
       "      <td>NEW CALEDONIA</td>\n",
       "      <td>North Province</td>\n",
       "      <td>Koumac</td>\n",
       "      <td>Kite surfing</td>\n",
       "      <td>David Jewell</td>\n",
       "      <td>M</td>\n",
       "      <td>...</td>\n",
       "      <td>NaN</td>\n",
       "      <td>TVANouvelles, 9/6/2016</td>\n",
       "      <td>2016.09.06-Jewell.pdf</td>\n",
       "      <td>http://sharkattackfile.net/spreadsheets/pdf_di...</td>\n",
       "      <td>http://sharkattackfile.net/spreadsheets/pdf_di...</td>\n",
       "      <td>2016.09.06</td>\n",
       "      <td>2016.09.06</td>\n",
       "      <td>5985</td>\n",
       "      <td>NaN</td>\n",
       "      <td>NaN</td>\n",
       "    </tr>\n",
       "    <tr>\n",
       "      <th>9</th>\n",
       "      <td>2016.09.05.b</td>\n",
       "      <td>05-Sep-16</td>\n",
       "      <td>2016</td>\n",
       "      <td>Unprovoked</td>\n",
       "      <td>USA</td>\n",
       "      <td>South Carolina</td>\n",
       "      <td>Kingston Plantation, Myrtle Beach, Horry County</td>\n",
       "      <td>Boogie boarding</td>\n",
       "      <td>Rylie Williams</td>\n",
       "      <td>F</td>\n",
       "      <td>...</td>\n",
       "      <td>NaN</td>\n",
       "      <td>C. Creswell, GSAF</td>\n",
       "      <td>2016.09.05.b-Williams.pdf</td>\n",
       "      <td>http://sharkattackfile.net/spreadsheets/pdf_di...</td>\n",
       "      <td>http://sharkattackfile.net/spreadsheets/pdf_di...</td>\n",
       "      <td>2016.09.05.b</td>\n",
       "      <td>2016.09.05.b</td>\n",
       "      <td>5984</td>\n",
       "      <td>NaN</td>\n",
       "      <td>NaN</td>\n",
       "    </tr>\n",
       "  </tbody>\n",
       "</table>\n",
       "<p>10 rows × 24 columns</p>\n",
       "</div>"
      ],
      "text/plain": [
       "    Case Number       Date  Year        Type        Country  \\\n",
       "0  2016.09.18.c  18-Sep-16  2016  Unprovoked            USA   \n",
       "1  2016.09.18.b  18-Sep-16  2016  Unprovoked            USA   \n",
       "2  2016.09.18.a  18-Sep-16  2016  Unprovoked            USA   \n",
       "3    2016.09.17  17-Sep-16  2016  Unprovoked      AUSTRALIA   \n",
       "4    2016.09.15  16-Sep-16  2016  Unprovoked      AUSTRALIA   \n",
       "5  2016.09.15.R  15-Sep-16  2016        Boat      AUSTRALIA   \n",
       "6    2016.09.11  11-Sep-16  2016  Unprovoked            USA   \n",
       "7    2016.09.07  07-Sep-16  2016  Unprovoked            USA   \n",
       "8    2016.09.06  06-Sep-16  2016  Unprovoked  NEW CALEDONIA   \n",
       "9  2016.09.05.b  05-Sep-16  2016  Unprovoked            USA   \n",
       "\n",
       "                Area                                         Location  \\\n",
       "0            Florida                 New Smyrna Beach, Volusia County   \n",
       "1            Florida                 New Smyrna Beach, Volusia County   \n",
       "2            Florida                 New Smyrna Beach, Volusia County   \n",
       "3           Victoria                                 Thirteenth Beach   \n",
       "4           Victoria                                      Bells Beach   \n",
       "5  Western Australia                                          Bunbury   \n",
       "6            Florida                    Ponte Vedra, St. Johns County   \n",
       "7             Hawaii                                     Makaha, Oahu   \n",
       "8     North Province                                           Koumac   \n",
       "9     South Carolina  Kingston Plantation, Myrtle Beach, Horry County   \n",
       "\n",
       "          Activity                    Name Sex   ...          Species   \\\n",
       "0          Surfing                    male    M  ...               NaN   \n",
       "1          Surfing          Chucky Luciano    M  ...               NaN   \n",
       "2          Surfing                    male    M  ...               NaN   \n",
       "3          Surfing         Rory Angiolella    M  ...               NaN   \n",
       "4          Surfing                    male    M  ...         2 m shark   \n",
       "5          Fishing  Occupant: Ben Stratton  NaN  ...               NaN   \n",
       "6           Wading                    male    M  ...    3' to 4' shark   \n",
       "7         Swimming                  female    F  ...  Tiger shark, 10?   \n",
       "8     Kite surfing            David Jewell    M  ...               NaN   \n",
       "9  Boogie boarding          Rylie Williams    F  ...               NaN   \n",
       "\n",
       "        Investigator or Source                        pdf  \\\n",
       "0  Orlando Sentinel, 9/19/2016       2016.09.18.c-NSB.pdf   \n",
       "1  Orlando Sentinel, 9/19/2016   2016.09.18.b-Luciano.pdf   \n",
       "2  Orlando Sentinel, 9/19/2016       2016.09.18.a-NSB.pdf   \n",
       "3           The Age, 9/18/2016  2016.09.17-Angiolella.pdf   \n",
       "4           The Age, 9/16/2016  2016.09.16-BellsBeach.pdf   \n",
       "5   West Australian, 9/15/2016      2016.09.15.R-boat.pdf   \n",
       "6          News4Jax, 9/11/2016  2016.09.11-PonteVedra.pdf   \n",
       "7    Hawaii News Now, 9/7/2016        2016.09.07-Oahu.pdf   \n",
       "8       TVANouvelles, 9/6/2016      2016.09.06-Jewell.pdf   \n",
       "9            C. Creswell, GSAF  2016.09.05.b-Williams.pdf   \n",
       "\n",
       "                                        href formula  \\\n",
       "0  http://sharkattackfile.net/spreadsheets/pdf_di...   \n",
       "1  http://sharkattackfile.net/spreadsheets/pdf_di...   \n",
       "2  http://sharkattackfile.net/spreadsheets/pdf_di...   \n",
       "3  http://sharkattackfile.net/spreadsheets/pdf_di...   \n",
       "4  http://sharkattackfile.net/spreadsheets/pdf_di...   \n",
       "5  http://sharkattackfile.net/spreadsheets/pdf_di...   \n",
       "6  http://sharkattackfile.net/spreadsheets/pdf_di...   \n",
       "7  http://sharkattackfile.net/spreadsheets/pdf_di...   \n",
       "8  http://sharkattackfile.net/spreadsheets/pdf_di...   \n",
       "9  http://sharkattackfile.net/spreadsheets/pdf_di...   \n",
       "\n",
       "                                                href Case Number.1  \\\n",
       "0  http://sharkattackfile.net/spreadsheets/pdf_di...  2016.09.18.c   \n",
       "1  http://sharkattackfile.net/spreadsheets/pdf_di...  2016.09.18.b   \n",
       "2  http://sharkattackfile.net/spreadsheets/pdf_di...  2016.09.18.a   \n",
       "3  http://sharkattackfile.net/spreadsheets/pdf_di...    2016.09.17   \n",
       "4  http://sharkattackfile.net/spreadsheets/pdf_di...    2016.09.16   \n",
       "5  http://sharkattackfile.net/spreadsheets/pdf_di...  2016.09.15.R   \n",
       "6  http://sharkattackfile.net/spreadsheets/pdf_di...    2016.09.11   \n",
       "7  http://sharkattackfile.net/spreadsheets/pdf_di...    2016.09.07   \n",
       "8  http://sharkattackfile.net/spreadsheets/pdf_di...    2016.09.06   \n",
       "9  http://sharkattackfile.net/spreadsheets/pdf_di...  2016.09.05.b   \n",
       "\n",
       "  Case Number.2 original order Unnamed: 22 Unnamed: 23  \n",
       "0  2016.09.18.c           5993         NaN         NaN  \n",
       "1  2016.09.18.b           5992         NaN         NaN  \n",
       "2  2016.09.18.a           5991         NaN         NaN  \n",
       "3    2016.09.17           5990         NaN         NaN  \n",
       "4    2016.09.15           5989         NaN         NaN  \n",
       "5  2016.09.15.R           5988         NaN         NaN  \n",
       "6    2016.09.11           5987         NaN         NaN  \n",
       "7    2016.09.07           5986         NaN         NaN  \n",
       "8    2016.09.06           5985         NaN         NaN  \n",
       "9  2016.09.05.b           5984         NaN         NaN  \n",
       "\n",
       "[10 rows x 24 columns]"
      ]
     },
     "execution_count": 5,
     "metadata": {},
     "output_type": "execute_result"
    }
   ],
   "source": [
    "#Observamos las primeras 10 lineas\n",
    "df.head(10)"
   ]
  },
  {
   "cell_type": "code",
   "execution_count": 6,
   "id": "b4608cf8",
   "metadata": {
    "ExecuteTime": {
     "end_time": "2021-11-06T08:36:41.397863Z",
     "start_time": "2021-11-06T08:36:41.382823Z"
    },
    "cell_style": "center",
    "scrolled": true,
    "slideshow": {
     "slide_type": "subslide"
    }
   },
   "outputs": [
    {
     "data": {
      "text/plain": [
       "Case Number                  0\n",
       "Date                         0\n",
       "Year                         0\n",
       "Type                         0\n",
       "Country                     43\n",
       "Area                       402\n",
       "Location                   496\n",
       "Activity                   527\n",
       "Name                       200\n",
       "Sex                        567\n",
       "Age                       2681\n",
       "Injury                      27\n",
       "Fatal (Y/N)                 19\n",
       "Time                      3213\n",
       "Species                   2934\n",
       "Investigator or Source      15\n",
       "pdf                          0\n",
       "href formula                 1\n",
       "href                         3\n",
       "Case Number.1                0\n",
       "Case Number.2                0\n",
       "original order               0\n",
       "Unnamed: 22               5991\n",
       "Unnamed: 23               5990\n",
       "dtype: int64"
      ]
     },
     "execution_count": 6,
     "metadata": {},
     "output_type": "execute_result"
    }
   ],
   "source": [
    "#Valores nulos\n",
    "df.isna().sum()"
   ]
  },
  {
   "cell_type": "code",
   "execution_count": 7,
   "id": "e590293e",
   "metadata": {
    "ExecuteTime": {
     "end_time": "2021-11-06T08:36:41.428853Z",
     "start_time": "2021-11-06T08:36:41.398856Z"
    },
    "cell_style": "center",
    "scrolled": false,
    "slideshow": {
     "slide_type": "subslide"
    }
   },
   "outputs": [
    {
     "name": "stdout",
     "output_type": "stream",
     "text": [
      "<class 'pandas.core.frame.DataFrame'>\n",
      "RangeIndex: 5992 entries, 0 to 5991\n",
      "Data columns (total 24 columns):\n",
      " #   Column                  Non-Null Count  Dtype \n",
      "---  ------                  --------------  ----- \n",
      " 0   Case Number             5992 non-null   object\n",
      " 1   Date                    5992 non-null   object\n",
      " 2   Year                    5992 non-null   int64 \n",
      " 3   Type                    5992 non-null   object\n",
      " 4   Country                 5949 non-null   object\n",
      " 5   Area                    5590 non-null   object\n",
      " 6   Location                5496 non-null   object\n",
      " 7   Activity                5465 non-null   object\n",
      " 8   Name                    5792 non-null   object\n",
      " 9   Sex                     5425 non-null   object\n",
      " 10  Age                     3311 non-null   object\n",
      " 11  Injury                  5965 non-null   object\n",
      " 12  Fatal (Y/N)             5973 non-null   object\n",
      " 13  Time                    2779 non-null   object\n",
      " 14  Species                 3058 non-null   object\n",
      " 15  Investigator or Source  5977 non-null   object\n",
      " 16  pdf                     5992 non-null   object\n",
      " 17  href formula            5991 non-null   object\n",
      " 18  href                    5989 non-null   object\n",
      " 19  Case Number.1           5992 non-null   object\n",
      " 20  Case Number.2           5992 non-null   object\n",
      " 21  original order          5992 non-null   int64 \n",
      " 22  Unnamed: 22             1 non-null      object\n",
      " 23  Unnamed: 23             2 non-null      object\n",
      "dtypes: int64(2), object(22)\n",
      "memory usage: 1.1+ MB\n"
     ]
    }
   ],
   "source": [
    "#Analisis de las columnas: cantidad de nulos y el tipo de datos de cada columna\n",
    "df.info()"
   ]
  },
  {
   "cell_type": "markdown",
   "id": "858dd2bf",
   "metadata": {
    "slideshow": {
     "slide_type": "subslide"
    }
   },
   "source": [
    "### Conclusiones iniciales tras el analisis inicial:\n"
   ]
  },
  {
   "cell_type": "markdown",
   "id": "aa31612e",
   "metadata": {
    "slideshow": {
     "slide_type": "fragment"
    }
   },
   "source": [
    "- Topic: Ataques de tiburon en el mundo\n",
    "- Tamaño: 5992 filas y 24 columnas\n",
    "- Varias columnas parece que los datos van en la misma direccion y se solapan:\n",
    "    - Case number (0,19,20) y original order: Comprobar diferencias y si son iguales borrar\n",
    "    - Se solapan las columnas Year y Date: Agruparla en una.\n",
    "    - En algunos casos los datos de la columna nombre se solapan con el sexo: Buscar solucion\n",
    "    - Las columnas pdf, href formula y href se solapan, intentar agrupar en una\n",
    "    - original order posible indice"
   ]
  },
  {
   "cell_type": "markdown",
   "id": "78ad28e9",
   "metadata": {
    "slideshow": {
     "slide_type": "slide"
    }
   },
   "source": [
    "#  Modificacion del dataset\n",
    "\n",
    "Objetivo:\n",
    "- Analizar los valores de cada columna, eliminar los valores nulos, los errores humanos y ver su utilidad practica."
   ]
  },
  {
   "cell_type": "markdown",
   "id": "19dbeb7c",
   "metadata": {
    "slideshow": {
     "slide_type": "subslide"
    }
   },
   "source": [
    "## Modificaciones ordenado por columna"
   ]
  },
  {
   "cell_type": "markdown",
   "id": "bcb4152b",
   "metadata": {
    "slideshow": {
     "slide_type": "fragment"
    }
   },
   "source": [
    "### Columna: \"original order\",\"Case Number\",\"Case Number.1\",\"Case Number.2\""
   ]
  },
  {
   "cell_type": "markdown",
   "id": "2eabb2bd",
   "metadata": {
    "slideshow": {
     "slide_type": "fragment"
    }
   },
   "source": [
    "- La columna original order es un indice de casos en los que se repiten valores igual que las columnas Case Number\n",
    "- Objetivo: Unica lista de numero de casos: lista con valores unicos y continuos\n",
    "- Output: Nueva columna que usare de indice\n"
   ]
  },
  {
   "cell_type": "code",
   "execution_count": 8,
   "id": "e14cb7a1",
   "metadata": {
    "ExecuteTime": {
     "end_time": "2021-11-06T08:36:41.444247Z",
     "start_time": "2021-11-06T08:36:41.431034Z"
    },
    "slideshow": {
     "slide_type": "subslide"
    }
   },
   "outputs": [
    {
     "data": {
      "text/html": [
       "<div>\n",
       "<style scoped>\n",
       "    .dataframe tbody tr th:only-of-type {\n",
       "        vertical-align: middle;\n",
       "    }\n",
       "\n",
       "    .dataframe tbody tr th {\n",
       "        vertical-align: top;\n",
       "    }\n",
       "\n",
       "    .dataframe thead th {\n",
       "        text-align: right;\n",
       "    }\n",
       "</style>\n",
       "<table border=\"1\" class=\"dataframe\">\n",
       "  <thead>\n",
       "    <tr style=\"text-align: right;\">\n",
       "      <th></th>\n",
       "      <th>original order</th>\n",
       "      <th>Case Number</th>\n",
       "      <th>Case Number.1</th>\n",
       "      <th>Case Number.2</th>\n",
       "    </tr>\n",
       "  </thead>\n",
       "  <tbody>\n",
       "    <tr>\n",
       "      <th>0</th>\n",
       "      <td>5993</td>\n",
       "      <td>2016.09.18.c</td>\n",
       "      <td>2016.09.18.c</td>\n",
       "      <td>2016.09.18.c</td>\n",
       "    </tr>\n",
       "    <tr>\n",
       "      <th>1</th>\n",
       "      <td>5992</td>\n",
       "      <td>2016.09.18.b</td>\n",
       "      <td>2016.09.18.b</td>\n",
       "      <td>2016.09.18.b</td>\n",
       "    </tr>\n",
       "    <tr>\n",
       "      <th>2</th>\n",
       "      <td>5991</td>\n",
       "      <td>2016.09.18.a</td>\n",
       "      <td>2016.09.18.a</td>\n",
       "      <td>2016.09.18.a</td>\n",
       "    </tr>\n",
       "    <tr>\n",
       "      <th>3</th>\n",
       "      <td>5990</td>\n",
       "      <td>2016.09.17</td>\n",
       "      <td>2016.09.17</td>\n",
       "      <td>2016.09.17</td>\n",
       "    </tr>\n",
       "    <tr>\n",
       "      <th>4</th>\n",
       "      <td>5989</td>\n",
       "      <td>2016.09.15</td>\n",
       "      <td>2016.09.16</td>\n",
       "      <td>2016.09.15</td>\n",
       "    </tr>\n",
       "    <tr>\n",
       "      <th>...</th>\n",
       "      <td>...</td>\n",
       "      <td>...</td>\n",
       "      <td>...</td>\n",
       "      <td>...</td>\n",
       "    </tr>\n",
       "    <tr>\n",
       "      <th>5987</th>\n",
       "      <td>6</td>\n",
       "      <td>ND.0005</td>\n",
       "      <td>ND.0005</td>\n",
       "      <td>ND.0005</td>\n",
       "    </tr>\n",
       "    <tr>\n",
       "      <th>5988</th>\n",
       "      <td>5</td>\n",
       "      <td>ND.0004</td>\n",
       "      <td>ND.0004</td>\n",
       "      <td>ND.0004</td>\n",
       "    </tr>\n",
       "    <tr>\n",
       "      <th>5989</th>\n",
       "      <td>4</td>\n",
       "      <td>ND.0003</td>\n",
       "      <td>ND.0003</td>\n",
       "      <td>ND.0003</td>\n",
       "    </tr>\n",
       "    <tr>\n",
       "      <th>5990</th>\n",
       "      <td>3</td>\n",
       "      <td>ND.0002</td>\n",
       "      <td>ND.0002</td>\n",
       "      <td>ND.0002</td>\n",
       "    </tr>\n",
       "    <tr>\n",
       "      <th>5991</th>\n",
       "      <td>2</td>\n",
       "      <td>ND.0001</td>\n",
       "      <td>ND.0001</td>\n",
       "      <td>ND.0001</td>\n",
       "    </tr>\n",
       "  </tbody>\n",
       "</table>\n",
       "<p>5992 rows × 4 columns</p>\n",
       "</div>"
      ],
      "text/plain": [
       "      original order   Case Number Case Number.1 Case Number.2\n",
       "0               5993  2016.09.18.c  2016.09.18.c  2016.09.18.c\n",
       "1               5992  2016.09.18.b  2016.09.18.b  2016.09.18.b\n",
       "2               5991  2016.09.18.a  2016.09.18.a  2016.09.18.a\n",
       "3               5990    2016.09.17    2016.09.17    2016.09.17\n",
       "4               5989    2016.09.15    2016.09.16    2016.09.15\n",
       "...              ...           ...           ...           ...\n",
       "5987               6       ND.0005       ND.0005       ND.0005\n",
       "5988               5       ND.0004       ND.0004       ND.0004\n",
       "5989               4       ND.0003       ND.0003       ND.0003\n",
       "5990               3       ND.0002       ND.0002       ND.0002\n",
       "5991               2       ND.0001       ND.0001       ND.0001\n",
       "\n",
       "[5992 rows x 4 columns]"
      ]
     },
     "execution_count": 8,
     "metadata": {},
     "output_type": "execute_result"
    }
   ],
   "source": [
    "#primer vistazo de las cuatro columnas juntas\n",
    "df[[\"original order\",\"Case Number\",\"Case Number.1\",\"Case Number.2\"]]"
   ]
  },
  {
   "cell_type": "markdown",
   "id": "de42d3dd",
   "metadata": {
    "slideshow": {
     "slide_type": "subslide"
    }
   },
   "source": [
    "#### Analisis de original order"
   ]
  },
  {
   "cell_type": "code",
   "execution_count": 9,
   "id": "bb950f96",
   "metadata": {
    "ExecuteTime": {
     "end_time": "2021-11-06T08:36:41.476123Z",
     "start_time": "2021-11-06T08:36:41.446244Z"
    },
    "slideshow": {
     "slide_type": "fragment"
    }
   },
   "outputs": [
    {
     "data": {
      "text/html": [
       "<div>\n",
       "<style scoped>\n",
       "    .dataframe tbody tr th:only-of-type {\n",
       "        vertical-align: middle;\n",
       "    }\n",
       "\n",
       "    .dataframe tbody tr th {\n",
       "        vertical-align: top;\n",
       "    }\n",
       "\n",
       "    .dataframe thead th {\n",
       "        text-align: right;\n",
       "    }\n",
       "</style>\n",
       "<table border=\"1\" class=\"dataframe\">\n",
       "  <thead>\n",
       "    <tr style=\"text-align: right;\">\n",
       "      <th></th>\n",
       "      <th>Case Number</th>\n",
       "      <th>Date</th>\n",
       "      <th>Year</th>\n",
       "      <th>Type</th>\n",
       "      <th>Country</th>\n",
       "      <th>Area</th>\n",
       "      <th>Location</th>\n",
       "      <th>Activity</th>\n",
       "      <th>Name</th>\n",
       "      <th>Sex</th>\n",
       "      <th>...</th>\n",
       "      <th>Species</th>\n",
       "      <th>Investigator or Source</th>\n",
       "      <th>pdf</th>\n",
       "      <th>href formula</th>\n",
       "      <th>href</th>\n",
       "      <th>Case Number.1</th>\n",
       "      <th>Case Number.2</th>\n",
       "      <th>original order</th>\n",
       "      <th>Unnamed: 22</th>\n",
       "      <th>Unnamed: 23</th>\n",
       "    </tr>\n",
       "  </thead>\n",
       "  <tbody>\n",
       "    <tr>\n",
       "      <th>5991</th>\n",
       "      <td>ND.0001</td>\n",
       "      <td>1845-1853</td>\n",
       "      <td>0</td>\n",
       "      <td>Unprovoked</td>\n",
       "      <td>CEYLON (SRI LANKA)</td>\n",
       "      <td>Eastern Province</td>\n",
       "      <td>Below the English fort, Trincomalee</td>\n",
       "      <td>Swimming</td>\n",
       "      <td>male</td>\n",
       "      <td>M</td>\n",
       "      <td>...</td>\n",
       "      <td>NaN</td>\n",
       "      <td>S.W. Baker</td>\n",
       "      <td>ND-0001-Ceylon.pdf</td>\n",
       "      <td>http://sharkattackfile.net/spreadsheets/pdf_di...</td>\n",
       "      <td>http://sharkattackfile.net/spreadsheets/pdf_di...</td>\n",
       "      <td>ND.0001</td>\n",
       "      <td>ND.0001</td>\n",
       "      <td>2</td>\n",
       "      <td>NaN</td>\n",
       "      <td>NaN</td>\n",
       "    </tr>\n",
       "    <tr>\n",
       "      <th>5990</th>\n",
       "      <td>ND.0002</td>\n",
       "      <td>1883-1889</td>\n",
       "      <td>0</td>\n",
       "      <td>Unprovoked</td>\n",
       "      <td>PANAMA</td>\n",
       "      <td>NaN</td>\n",
       "      <td>Panama Bay 8ºN, 79ºW</td>\n",
       "      <td>NaN</td>\n",
       "      <td>Jules Patterson</td>\n",
       "      <td>M</td>\n",
       "      <td>...</td>\n",
       "      <td>NaN</td>\n",
       "      <td>The Sun, 10/20/1938</td>\n",
       "      <td>ND-0002-JulesPatterson.pdf</td>\n",
       "      <td>http://sharkattackfile.net/spreadsheets/pdf_di...</td>\n",
       "      <td>http://sharkattackfile.net/spreadsheets/pdf_di...</td>\n",
       "      <td>ND.0002</td>\n",
       "      <td>ND.0002</td>\n",
       "      <td>3</td>\n",
       "      <td>NaN</td>\n",
       "      <td>NaN</td>\n",
       "    </tr>\n",
       "    <tr>\n",
       "      <th>5989</th>\n",
       "      <td>ND.0003</td>\n",
       "      <td>1900-1905</td>\n",
       "      <td>0</td>\n",
       "      <td>Unprovoked</td>\n",
       "      <td>USA</td>\n",
       "      <td>North Carolina</td>\n",
       "      <td>Ocracoke Inlet</td>\n",
       "      <td>Swimming</td>\n",
       "      <td>Coast Guard personnel</td>\n",
       "      <td>M</td>\n",
       "      <td>...</td>\n",
       "      <td>NaN</td>\n",
       "      <td>F. Schwartz, p.23; C. Creswell, GSAF</td>\n",
       "      <td>ND-0003-Ocracoke_1900-1905.pdf</td>\n",
       "      <td>http://sharkattackfile.net/spreadsheets/pdf_di...</td>\n",
       "      <td>http://sharkattackfile.net/spreadsheets/pdf_di...</td>\n",
       "      <td>ND.0003</td>\n",
       "      <td>ND.0003</td>\n",
       "      <td>4</td>\n",
       "      <td>NaN</td>\n",
       "      <td>NaN</td>\n",
       "    </tr>\n",
       "  </tbody>\n",
       "</table>\n",
       "<p>3 rows × 24 columns</p>\n",
       "</div>"
      ],
      "text/plain": [
       "     Case Number       Date  Year        Type             Country  \\\n",
       "5991     ND.0001  1845-1853     0  Unprovoked  CEYLON (SRI LANKA)   \n",
       "5990     ND.0002  1883-1889     0  Unprovoked              PANAMA   \n",
       "5989     ND.0003  1900-1905     0  Unprovoked                 USA   \n",
       "\n",
       "                  Area                             Location  Activity  \\\n",
       "5991  Eastern Province  Below the English fort, Trincomalee  Swimming   \n",
       "5990               NaN                 Panama Bay 8ºN, 79ºW       NaN   \n",
       "5989    North Carolina                       Ocracoke Inlet  Swimming   \n",
       "\n",
       "                       Name Sex   ... Species   \\\n",
       "5991                   male    M  ...      NaN   \n",
       "5990        Jules Patterson    M  ...      NaN   \n",
       "5989  Coast Guard personnel    M  ...      NaN   \n",
       "\n",
       "                    Investigator or Source                             pdf  \\\n",
       "5991                            S.W. Baker              ND-0001-Ceylon.pdf   \n",
       "5990                   The Sun, 10/20/1938      ND-0002-JulesPatterson.pdf   \n",
       "5989  F. Schwartz, p.23; C. Creswell, GSAF  ND-0003-Ocracoke_1900-1905.pdf   \n",
       "\n",
       "                                           href formula  \\\n",
       "5991  http://sharkattackfile.net/spreadsheets/pdf_di...   \n",
       "5990  http://sharkattackfile.net/spreadsheets/pdf_di...   \n",
       "5989  http://sharkattackfile.net/spreadsheets/pdf_di...   \n",
       "\n",
       "                                                   href Case Number.1  \\\n",
       "5991  http://sharkattackfile.net/spreadsheets/pdf_di...       ND.0001   \n",
       "5990  http://sharkattackfile.net/spreadsheets/pdf_di...       ND.0002   \n",
       "5989  http://sharkattackfile.net/spreadsheets/pdf_di...       ND.0003   \n",
       "\n",
       "     Case Number.2 original order Unnamed: 22 Unnamed: 23  \n",
       "5991       ND.0001              2         NaN         NaN  \n",
       "5990       ND.0002              3         NaN         NaN  \n",
       "5989       ND.0003              4         NaN         NaN  \n",
       "\n",
       "[3 rows x 24 columns]"
      ]
     },
     "execution_count": 9,
     "metadata": {},
     "output_type": "execute_result"
    }
   ],
   "source": [
    "#ordeno la tabla por los valores original order\n",
    "df.sort_values(\"original order\",ascending=True,inplace=True)\n",
    "df.head(3)"
   ]
  },
  {
   "cell_type": "code",
   "execution_count": 10,
   "id": "c29bf6fe",
   "metadata": {
    "ExecuteTime": {
     "end_time": "2021-11-06T08:36:41.491938Z",
     "start_time": "2021-11-06T08:36:41.477078Z"
    },
    "slideshow": {
     "slide_type": "subslide"
    }
   },
   "outputs": [
    {
     "data": {
      "text/plain": [
       "5988"
      ]
     },
     "execution_count": 10,
     "metadata": {},
     "output_type": "execute_result"
    }
   ],
   "source": [
    "#Vamos a ver que valoers faltan\n",
    "df[\"original order\"].nunique()"
   ]
  },
  {
   "cell_type": "code",
   "execution_count": 11,
   "id": "db4c22de",
   "metadata": {
    "ExecuteTime": {
     "end_time": "2021-11-06T08:36:41.507759Z",
     "start_time": "2021-11-06T08:36:41.493753Z"
    },
    "slideshow": {
     "slide_type": "fragment"
    }
   },
   "outputs": [],
   "source": [
    "#Vamos a comprobar cuantos valores se repiten \n",
    "OE_ValoresRepetidos=len(df[\"original order\"])-df[\"original order\"].nunique()"
   ]
  },
  {
   "cell_type": "code",
   "execution_count": 12,
   "id": "6dfd8b7e",
   "metadata": {
    "ExecuteTime": {
     "end_time": "2021-11-06T08:36:41.523799Z",
     "start_time": "2021-11-06T08:36:41.508774Z"
    },
    "slideshow": {
     "slide_type": "fragment"
    }
   },
   "outputs": [
    {
     "data": {
      "text/plain": [
       "5739    2\n",
       "569     2\n",
       "5661    2\n",
       "3847    2\n",
       "Name: original order, dtype: int64"
      ]
     },
     "execution_count": 12,
     "metadata": {},
     "output_type": "execute_result"
    }
   ],
   "source": [
    "#Comprobamos QUE valores se repiten\n",
    "df[\"original order\"].value_counts().head(OE_ValoresRepetidos)"
   ]
  },
  {
   "cell_type": "code",
   "execution_count": 13,
   "id": "147bf4e5",
   "metadata": {
    "ExecuteTime": {
     "end_time": "2021-11-06T08:36:42.181468Z",
     "start_time": "2021-11-06T08:36:41.524799Z"
    },
    "slideshow": {
     "slide_type": "fragment"
    }
   },
   "outputs": [
    {
     "name": "stdout",
     "output_type": "stream",
     "text": [
      "0\n",
      "1\n",
      "571\n",
      "3347\n",
      "5724\n",
      "5881\n"
     ]
    }
   ],
   "source": [
    "#Comprobamos desde el 0 al numero de casos, que valores no estan, lopaso a index ya que me resuta mas facil\n",
    "df2=df.set_index(\"original order\")\n",
    "for i in range(0,len(df2)):\n",
    "    try:\n",
    "        df2.loc[i]\n",
    "    except KeyError:\n",
    "        print(i)"
   ]
  },
  {
   "cell_type": "markdown",
   "id": "9a2e0059",
   "metadata": {
    "slideshow": {
     "slide_type": "subslide"
    }
   },
   "source": [
    "- Los casos iguales podrian ser casos repetidos o error al introducir el valor original order"
   ]
  },
  {
   "cell_type": "code",
   "execution_count": 14,
   "id": "76ab9469",
   "metadata": {
    "ExecuteTime": {
     "end_time": "2021-11-06T08:36:42.196670Z",
     "start_time": "2021-11-06T08:36:42.182990Z"
    },
    "slideshow": {
     "slide_type": "fragment"
    }
   },
   "outputs": [
    {
     "data": {
      "text/plain": [
       "Case Number               False\n",
       "Date                      False\n",
       "Year                       True\n",
       "Type                       True\n",
       "Country                   False\n",
       "Area                      False\n",
       "Location                  False\n",
       "Activity                  False\n",
       "Name                      False\n",
       "Sex                        True\n",
       "Age                       False\n",
       "Injury                     True\n",
       "Fatal (Y/N)                True\n",
       "Time                      False\n",
       "Species                   False\n",
       "Investigator or Source    False\n",
       "pdf                       False\n",
       "href formula              False\n",
       "href                      False\n",
       "Case Number.1             False\n",
       "Case Number.2             False\n",
       "original order             True\n",
       "Unnamed: 22               False\n",
       "Unnamed: 23               False\n",
       "dtype: bool"
      ]
     },
     "execution_count": 14,
     "metadata": {},
     "output_type": "execute_result"
    }
   ],
   "source": [
    "#Elegimos dos casos con mismo original order y comparamos el resto de columnas de los casos y comparamos si e\n",
    "df.loc[5423]==df.loc[5424]\n",
    "#Muy pocas se parecen"
   ]
  },
  {
   "cell_type": "markdown",
   "id": "e16b237d",
   "metadata": {
    "ExecuteTime": {
     "end_time": "2021-10-30T10:39:21.365815Z",
     "start_time": "2021-10-30T10:39:21.356150Z"
    },
    "slideshow": {
     "slide_type": "subslide"
    }
   },
   "source": [
    "Problema de original order: 4 numeros repetidos y en el orden de casos se han saltado varios numeros\n",
    "Opciones para corregirlo:\n",
    "- Opcion A: Cambios en la misma columna:\n",
    "        - del 2 al 568 correcto, pasamos el segundo valor 569 al 570 \n",
    "        - del 571 al 3346 correcto, del3348 al primer valor 3847 hay que restarle 1\n",
    "        - del 3848 al 5660 correcto, del segundo valor del 5661 a 5723 hay que sumarle 1\n",
    "        - del 5725 a 5738 correcto, del segundo valor de 5739 al 5880 hay que sumarle 1\n",
    "        - despues restamos 1 a todo y los casos empezaran desde 1 siendo valores unicos\n",
    "- Opcion B:\n",
    "        - ponerlo en orden y crear una nueva tabla con un rango de 1 a len"
   ]
  },
  {
   "cell_type": "code",
   "execution_count": 15,
   "id": "cff40558",
   "metadata": {
    "ExecuteTime": {
     "end_time": "2021-11-06T08:36:42.211728Z",
     "start_time": "2021-11-06T08:36:42.197728Z"
    },
    "slideshow": {
     "slide_type": "subslide"
    }
   },
   "outputs": [],
   "source": [
    "#cambio el indice con una lista de numeros desde el 1 hasta la longitud +1\n",
    "lista=[i for i in range(1,len(df)+1)]\n"
   ]
  },
  {
   "cell_type": "code",
   "execution_count": 16,
   "id": "f4664c7d",
   "metadata": {
    "ExecuteTime": {
     "end_time": "2021-11-06T08:36:42.227861Z",
     "start_time": "2021-11-06T08:36:42.212729Z"
    },
    "slideshow": {
     "slide_type": "fragment"
    }
   },
   "outputs": [],
   "source": [
    "# añado la columna nueva y borro la antigua\n",
    "df[\"Casos\"]=lista\n",
    "df.drop(\"original order\",axis=1,inplace=True)"
   ]
  },
  {
   "cell_type": "markdown",
   "id": "49d99e89",
   "metadata": {
    "slideshow": {
     "slide_type": "slide"
    }
   },
   "source": [
    "#### Analisis Case Number"
   ]
  },
  {
   "cell_type": "code",
   "execution_count": 17,
   "id": "23cf2106",
   "metadata": {
    "ExecuteTime": {
     "end_time": "2021-11-06T08:36:42.242887Z",
     "start_time": "2021-11-06T08:36:42.228887Z"
    },
    "slideshow": {
     "slide_type": "fragment"
    }
   },
   "outputs": [],
   "source": [
    "#Cambio el indice a original a Casos \n",
    "df=df.set_index(\"Casos\")"
   ]
  },
  {
   "cell_type": "code",
   "execution_count": 18,
   "id": "e747134b",
   "metadata": {
    "ExecuteTime": {
     "end_time": "2021-11-06T08:36:42.258135Z",
     "start_time": "2021-11-06T08:36:42.243886Z"
    },
    "scrolled": false,
    "slideshow": {
     "slide_type": "fragment"
    }
   },
   "outputs": [
    {
     "name": "stdout",
     "output_type": "stream",
     "text": [
      "<class 'pandas.core.frame.DataFrame'>\n",
      "Int64Index: 5992 entries, 1 to 5992\n",
      "Data columns (total 3 columns):\n",
      " #   Column         Non-Null Count  Dtype \n",
      "---  ------         --------------  ----- \n",
      " 0   Case Number    5992 non-null   object\n",
      " 1   Case Number.1  5992 non-null   object\n",
      " 2   Case Number.2  5992 non-null   object\n",
      "dtypes: object(3)\n",
      "memory usage: 187.2+ KB\n"
     ]
    }
   ],
   "source": [
    "#Miramos cantidad de valores nulos\n",
    "df[[\"Case Number\",\"Case Number.1\",\"Case Number.2\"]].info()"
   ]
  },
  {
   "cell_type": "code",
   "execution_count": 19,
   "id": "9312363e",
   "metadata": {
    "ExecuteTime": {
     "end_time": "2021-11-06T08:36:42.274009Z",
     "start_time": "2021-11-06T08:36:42.260134Z"
    },
    "scrolled": true,
    "slideshow": {
     "slide_type": "subslide"
    }
   },
   "outputs": [
    {
     "data": {
      "text/plain": [
       "Case Number      5976\n",
       "Case Number.1    5975\n",
       "Case Number.2    5976\n",
       "dtype: int64"
      ]
     },
     "execution_count": 19,
     "metadata": {},
     "output_type": "execute_result"
    }
   ],
   "source": [
    "#Valores unicos que hay\n",
    "df[[\"Case Number\",\"Case Number.1\",\"Case Number.2\"]].nunique()"
   ]
  },
  {
   "cell_type": "code",
   "execution_count": 20,
   "id": "7713a5d2",
   "metadata": {
    "ExecuteTime": {
     "end_time": "2021-11-06T08:36:42.289020Z",
     "start_time": "2021-11-06T08:36:42.275015Z"
    },
    "slideshow": {
     "slide_type": "fragment"
    }
   },
   "outputs": [
    {
     "name": "stdout",
     "output_type": "stream",
     "text": [
      "16 casos se repiten\n"
     ]
    }
   ],
   "source": [
    "#No hay valores nulos pero hay valores que se repiten y el formato de numero de caso varia\n",
    "print(f'{len(df[\"Case Number\"])-len(set(df[\"Case Number\"]))} casos se repiten')"
   ]
  },
  {
   "cell_type": "code",
   "execution_count": 21,
   "id": "018a2c9b",
   "metadata": {
    "ExecuteTime": {
     "end_time": "2021-11-06T08:36:42.661630Z",
     "start_time": "2021-11-06T08:36:42.290013Z"
    },
    "slideshow": {
     "slide_type": "fragment"
    }
   },
   "outputs": [],
   "source": [
    "#Vamos a ver que valores se repiten en Case Number y si son los mismos en \n",
    "listaA=[] #Lista de valores unicos de Case Number\n",
    "listaB=[] #Lista de valores repetidos de Case Number\n",
    "for i in range(1,len(df)+1):\n",
    "    if df[\"Case Number\"].loc[i] not in listaA:\n",
    "        listaA.append(df[\"Case Number\"].loc[i])\n",
    "    else:\n",
    "        listaB.append(df[\"Case Number\"].loc[i])"
   ]
  },
  {
   "cell_type": "code",
   "execution_count": 22,
   "id": "0ec7d908",
   "metadata": {
    "ExecuteTime": {
     "end_time": "2021-11-06T08:36:43.097953Z",
     "start_time": "2021-11-06T08:36:42.662746Z"
    },
    "code_folding": [],
    "slideshow": {
     "slide_type": "subslide"
    }
   },
   "outputs": [],
   "source": [
    "#Vamos a ver que valores se repiten en Case Number.1 y si son los mismos en \n",
    "listaC=[] #Lista de valores unicos de Case Number.1\n",
    "listaD=[] #Lista de valores repetidos de Case Number.1\n",
    "for i in range(1,len(df)+1):\n",
    "    if df[\"Case Number.1\"].loc[i] not in listaC:\n",
    "        listaC.append(df[\"Case Number.1\"].loc[i])\n",
    "    else:\n",
    "        listaD.append(df[\"Case Number.1\"].loc[i])"
   ]
  },
  {
   "cell_type": "code",
   "execution_count": 23,
   "id": "3169454f",
   "metadata": {
    "ExecuteTime": {
     "end_time": "2021-11-06T08:36:43.520873Z",
     "start_time": "2021-11-06T08:36:43.101974Z"
    },
    "slideshow": {
     "slide_type": "fragment"
    }
   },
   "outputs": [],
   "source": [
    "#Vamos a ver que valores se repiten en Case Number.2 y si son los mismos en \n",
    "listaE=[] #Lista de valores unicos de Case Number.2\n",
    "listaF=[] #Lista de valores repetidos de Case Number.2\n",
    "for i in range(1,len(df)+1):\n",
    "    if df[\"Case Number.2\"].loc[i] not in listaE:\n",
    "        listaE.append(df[\"Case Number.2\"].loc[i])\n",
    "    else:\n",
    "        listaF.append(df[\"Case Number.2\"].loc[i])"
   ]
  },
  {
   "cell_type": "code",
   "execution_count": 24,
   "id": "1dd59ba4",
   "metadata": {
    "ExecuteTime": {
     "end_time": "2021-11-06T08:36:43.535981Z",
     "start_time": "2021-11-06T08:36:43.523571Z"
    },
    "scrolled": true,
    "slideshow": {
     "slide_type": "subslide"
    }
   },
   "outputs": [
    {
     "name": "stdout",
     "output_type": "stream",
     "text": [
      "True     5979\n",
      "False      13\n",
      "dtype: int64\n",
      "True     5981\n",
      "False      11\n",
      "dtype: int64\n",
      "True     5990\n",
      "False       2\n",
      "dtype: int64\n"
     ]
    }
   ],
   "source": [
    "#Vamos a comprobar que columnas son mas parecidas\n",
    "print((df[\"Case Number\"]==df[\"Case Number.1\"]).value_counts())\n",
    "print((df[\"Case Number.1\"]==df[\"Case Number.2\"]).value_counts())\n",
    "print((df[\"Case Number\"]==df[\"Case Number.2\"]).value_counts())"
   ]
  },
  {
   "cell_type": "code",
   "execution_count": 25,
   "id": "200b4670",
   "metadata": {
    "ExecuteTime": {
     "end_time": "2021-11-06T08:36:43.551210Z",
     "start_time": "2021-11-06T08:36:43.537459Z"
    },
    "slideshow": {
     "slide_type": "skip"
    }
   },
   "outputs": [
    {
     "name": "stdout",
     "output_type": "stream",
     "text": [
      "Valores no repetidos False\n",
      "Valores  repetidos True\n"
     ]
    }
   ],
   "source": [
    "#Primero unificare la columna Case Number con la columna Case Number.2 ya que son muy parecidas\n",
    "print(f'Valores no repetidos {listaA==listaE}')\n",
    "print(f'Valores  repetidos {listaB==listaF}')\n"
   ]
  },
  {
   "cell_type": "code",
   "execution_count": 26,
   "id": "75ae593e",
   "metadata": {
    "ExecuteTime": {
     "end_time": "2021-11-06T08:36:43.677357Z",
     "start_time": "2021-11-06T08:36:43.552211Z"
    },
    "scrolled": true,
    "slideshow": {
     "slide_type": "subslide"
    }
   },
   "outputs": [
    {
     "name": "stdout",
     "output_type": "stream",
     "text": [
      "1273\n",
      "5823\n"
     ]
    }
   ],
   "source": [
    "#Los dos valores que no coinciden estan en los valores no repetidos\n",
    "for i in range(1,len(df)):\n",
    "    if df[\"Case Number\"].loc[i]!= df[\"Case Number.2\"].loc[i]:\n",
    "          print(i)\n",
    "    \n"
   ]
  },
  {
   "cell_type": "code",
   "execution_count": 27,
   "id": "e7186c22",
   "metadata": {
    "ExecuteTime": {
     "end_time": "2021-11-06T08:36:43.692965Z",
     "start_time": "2021-11-06T08:36:43.678357Z"
    },
    "cell_style": "split",
    "scrolled": false,
    "slideshow": {
     "slide_type": "fragment"
    }
   },
   "outputs": [
    {
     "data": {
      "text/plain": [
       "Case Number                                                    1934.01.08.R\n",
       "Date                                                   Reported 08-Feb-1934\n",
       "Year                                                                   1934\n",
       "Type                                                                Boating\n",
       "Country                                                              TURKEY\n",
       "Area                                                               Istanbul\n",
       "Location                                         Haydarpasa jetty, Istanbul\n",
       "Activity                                                            Fishing\n",
       "Name                                                                2 males\n",
       "Sex                                                                       M\n",
       "Age                                                                     NaN\n",
       "Injury                                                            No injury\n",
       "Fatal (Y/N)                                                               N\n",
       "Time                                                                    NaN\n",
       "Species                                                                 NaN\n",
       "Investigator or Source                                       C. Moore, GSAF\n",
       "pdf                                                 1924.02.08.R-Turkey.pdf\n",
       "href formula              http://sharkattackfile.net/spreadsheets/pdf_di...\n",
       "href                      http://sharkattackfile.net/spreadsheets/pdf_di...\n",
       "Case Number.1                                                  1934.02.08.R\n",
       "Case Number.2                                                  1934.02.08.R\n",
       "Unnamed: 22                                                             NaN\n",
       "Unnamed: 23                                                             NaN\n",
       "Name: 1273, dtype: object"
      ]
     },
     "execution_count": 27,
     "metadata": {},
     "output_type": "execute_result"
    }
   ],
   "source": [
    "#Analizamos ambos valores de forma individual\n",
    "df.loc[1273]"
   ]
  },
  {
   "cell_type": "code",
   "execution_count": 28,
   "id": "708dac11",
   "metadata": {
    "ExecuteTime": {
     "end_time": "2021-11-06T08:36:43.708965Z",
     "start_time": "2021-11-06T08:36:43.693966Z"
    },
    "cell_style": "split",
    "scrolled": false,
    "slideshow": {
     "slide_type": "fragment"
    }
   },
   "outputs": [
    {
     "data": {
      "text/plain": [
       "Case Number                                                      2015.07-10\n",
       "Date                                                              10-Jul-15\n",
       "Year                                                                   2015\n",
       "Type                                                             Unprovoked\n",
       "Country                                                                 USA\n",
       "Area                                                             California\n",
       "Location                                    Huntington Beach, Orange County\n",
       "Activity                                                            Surfing\n",
       "Name                                                           Danny Miskin\n",
       "Sex                                                                       M\n",
       "Age                                                                      38\n",
       "Injury                              No injury, shark bumped & damaged board\n",
       "Fatal (Y/N)                                                               N\n",
       "Time                                                                  08h45\n",
       "Species                                                     White shark, 7'\n",
       "Investigator or Source                                      KTLA, 7/10/2015\n",
       "pdf                                                   2015.07.10-Miskin.pdf\n",
       "href formula              http://sharkattackfile.net/spreadsheets/pdf_di...\n",
       "href                      http://sharkattackfile.net/spreadsheets/pdf_di...\n",
       "Case Number.1                                                    2015.07.10\n",
       "Case Number.2                                                    2015.07.10\n",
       "Unnamed: 22                                                             NaN\n",
       "Unnamed: 23                                                             NaN\n",
       "Name: 5823, dtype: object"
      ]
     },
     "execution_count": 28,
     "metadata": {},
     "output_type": "execute_result"
    }
   ],
   "source": [
    "df.loc[5823]"
   ]
  },
  {
   "cell_type": "markdown",
   "id": "0eb16417",
   "metadata": {
    "slideshow": {
     "slide_type": "subslide"
    }
   },
   "source": [
    "- Problema:  \n",
    "     - Case Number: A veces apuntdo por fecha o por el nombre del pdf, valores repetidos y si son el mismo dia con letras, no da informacion relevante ni utilizable ya que son parches de otras columnas\n",
    "\n",
    "Decido borrar las columnas Case number ya que no me aportan informacion relevante y lo he unido a la columna Casos"
   ]
  },
  {
   "cell_type": "markdown",
   "id": "4fdff35a",
   "metadata": {
    "slideshow": {
     "slide_type": "subslide"
    }
   },
   "source": [
    "#### Output Columnas: \"original order\",\"Case Number\",\"Case Number.1\",\"Case Number.2\""
   ]
  },
  {
   "cell_type": "code",
   "execution_count": 29,
   "id": "f1be1bf4",
   "metadata": {
    "ExecuteTime": {
     "end_time": "2021-11-06T08:36:43.725149Z",
     "start_time": "2021-11-06T08:36:43.709966Z"
    },
    "slideshow": {
     "slide_type": "fragment"
    }
   },
   "outputs": [],
   "source": [
    "# Solo mantengo una columna de numero de caso que va a ser la columna Casos\n",
    "df.drop([\"Case Number\",\"Case Number.1\",\"Case Number.2\"],axis=1,inplace=True)"
   ]
  },
  {
   "cell_type": "markdown",
   "id": "33cedcbc",
   "metadata": {
    "slideshow": {
     "slide_type": "slide"
    }
   },
   "source": [
    "### Columna \"unname 23\""
   ]
  },
  {
   "cell_type": "markdown",
   "id": "4a5b1bc3",
   "metadata": {
    "slideshow": {
     "slide_type": "subslide"
    }
   },
   "source": [
    "####   analisis de los valores y conocimiento del problema"
   ]
  },
  {
   "cell_type": "code",
   "execution_count": 30,
   "id": "80d4eaee",
   "metadata": {
    "ExecuteTime": {
     "end_time": "2021-11-06T08:36:43.740509Z",
     "start_time": "2021-11-06T08:36:43.726173Z"
    },
    "slideshow": {
     "slide_type": "fragment"
    }
   },
   "outputs": [
    {
     "data": {
      "text/plain": [
       "Casos\n",
       "4692    NaN\n",
       "2617    NaN\n",
       "2199    NaN\n",
       "2684    NaN\n",
       "2373    NaN\n",
       "Name: Unnamed: 23, dtype: object"
      ]
     },
     "execution_count": 30,
     "metadata": {},
     "output_type": "execute_result"
    }
   ],
   "source": [
    "#Vistazo de la columna Unname 23\n",
    "df[\"Unnamed: 23\"].sample(n=5)"
   ]
  },
  {
   "cell_type": "code",
   "execution_count": 31,
   "id": "c31a9f3a",
   "metadata": {
    "ExecuteTime": {
     "end_time": "2021-11-06T08:36:43.755614Z",
     "start_time": "2021-11-06T08:36:43.742540Z"
    },
    "slideshow": {
     "slide_type": "fragment"
    }
   },
   "outputs": [
    {
     "data": {
      "text/plain": [
       "5990"
      ]
     },
     "execution_count": 31,
     "metadata": {},
     "output_type": "execute_result"
    }
   ],
   "source": [
    "#Valores nulos de Unnamed 23\n",
    "df[\"Unnamed: 23\"].isna().sum()"
   ]
  },
  {
   "cell_type": "code",
   "execution_count": 32,
   "id": "e72bab49",
   "metadata": {
    "ExecuteTime": {
     "end_time": "2021-11-06T08:36:43.771697Z",
     "start_time": "2021-11-06T08:36:43.756613Z"
    },
    "slideshow": {
     "slide_type": "fragment"
    }
   },
   "outputs": [
    {
     "data": {
      "text/plain": [
       "{'Teramo', 'change filename', nan}"
      ]
     },
     "execution_count": 32,
     "metadata": {},
     "output_type": "execute_result"
    }
   ],
   "source": [
    "#Valores de Unnamed 23\n",
    "set(df[\"Unnamed: 23\"])"
   ]
  },
  {
   "cell_type": "code",
   "execution_count": 33,
   "id": "a366ef3d",
   "metadata": {
    "ExecuteTime": {
     "end_time": "2021-11-06T08:36:43.787115Z",
     "start_time": "2021-11-06T08:36:43.773663Z"
    },
    "slideshow": {
     "slide_type": "fragment"
    }
   },
   "outputs": [
    {
     "data": {
      "text/plain": [
       "change filename    1\n",
       "Teramo             1\n",
       "Name: Unnamed: 23, dtype: int64"
      ]
     },
     "execution_count": 33,
     "metadata": {},
     "output_type": "execute_result"
    }
   ],
   "source": [
    "#Cantidad de veces que salen estos valores\n",
    "df[\"Unnamed: 23\"].value_counts()"
   ]
  },
  {
   "cell_type": "markdown",
   "id": "8d65f3b8",
   "metadata": {
    "slideshow": {
     "slide_type": "subslide"
    }
   },
   "source": [
    "#### Conclusion y output"
   ]
  },
  {
   "cell_type": "code",
   "execution_count": 34,
   "id": "166c2a94",
   "metadata": {
    "ExecuteTime": {
     "end_time": "2021-11-06T08:36:43.802889Z",
     "start_time": "2021-11-06T08:36:43.789115Z"
    },
    "code_folding": [],
    "slideshow": {
     "slide_type": "fragment"
    }
   },
   "outputs": [],
   "source": [
    "# No la considero relevante asi que decido borrarla\n",
    "df.drop(\"Unnamed: 23\",axis=1,inplace=True)"
   ]
  },
  {
   "cell_type": "markdown",
   "id": "fdd8fa90",
   "metadata": {
    "slideshow": {
     "slide_type": "slide"
    }
   },
   "source": [
    "### Columna \"unname 22\""
   ]
  },
  {
   "cell_type": "markdown",
   "id": "b4d06306",
   "metadata": {
    "slideshow": {
     "slide_type": "subslide"
    }
   },
   "source": [
    "#### Identificacion de valores nulos de cada columna"
   ]
  },
  {
   "cell_type": "code",
   "execution_count": 35,
   "id": "e613a407",
   "metadata": {
    "ExecuteTime": {
     "end_time": "2021-11-06T08:36:43.818403Z",
     "start_time": "2021-11-06T08:36:43.804406Z"
    },
    "slideshow": {
     "slide_type": "fragment"
    }
   },
   "outputs": [
    {
     "data": {
      "text/plain": [
       "Casos\n",
       "3209    NaN\n",
       "5941    NaN\n",
       "3327    NaN\n",
       "1101    NaN\n",
       "5909    NaN\n",
       "Name: Unnamed: 22, dtype: object"
      ]
     },
     "execution_count": 35,
     "metadata": {},
     "output_type": "execute_result"
    }
   ],
   "source": [
    "#Vistazo de la columna Unname 22\n",
    "df[\"Unnamed: 22\"].sample(n=5)"
   ]
  },
  {
   "cell_type": "code",
   "execution_count": 36,
   "id": "464a32d9",
   "metadata": {
    "ExecuteTime": {
     "end_time": "2021-11-06T08:36:43.834494Z",
     "start_time": "2021-11-06T08:36:43.819364Z"
    },
    "slideshow": {
     "slide_type": "fragment"
    }
   },
   "outputs": [
    {
     "data": {
      "text/plain": [
       "5991"
      ]
     },
     "execution_count": 36,
     "metadata": {},
     "output_type": "execute_result"
    }
   ],
   "source": [
    "#Valores nulos de Unnamed 22\n",
    "df[\"Unnamed: 22\"].isna().sum()"
   ]
  },
  {
   "cell_type": "code",
   "execution_count": 37,
   "id": "62fc3910",
   "metadata": {
    "ExecuteTime": {
     "end_time": "2021-11-06T08:36:43.849769Z",
     "start_time": "2021-11-06T08:36:43.835546Z"
    },
    "slideshow": {
     "slide_type": "fragment"
    }
   },
   "outputs": [
    {
     "data": {
      "text/plain": [
       "{nan, 'stopped here'}"
      ]
     },
     "execution_count": 37,
     "metadata": {},
     "output_type": "execute_result"
    }
   ],
   "source": [
    "#Valores de Unnamed 22\n",
    "set(df[\"Unnamed: 22\"])"
   ]
  },
  {
   "cell_type": "code",
   "execution_count": 38,
   "id": "2873cab8",
   "metadata": {
    "ExecuteTime": {
     "end_time": "2021-11-06T08:36:43.864819Z",
     "start_time": "2021-11-06T08:36:43.850813Z"
    },
    "slideshow": {
     "slide_type": "fragment"
    }
   },
   "outputs": [
    {
     "data": {
      "text/plain": [
       "stopped here    1\n",
       "Name: Unnamed: 22, dtype: int64"
      ]
     },
     "execution_count": 38,
     "metadata": {},
     "output_type": "execute_result"
    }
   ],
   "source": [
    "#Vamos a ver cuantos valores hay\n",
    "df[\"Unnamed: 22\"].value_counts()"
   ]
  },
  {
   "cell_type": "markdown",
   "id": "19989865",
   "metadata": {
    "slideshow": {
     "slide_type": "subslide"
    }
   },
   "source": [
    "#### Conclusion y output"
   ]
  },
  {
   "cell_type": "code",
   "execution_count": 39,
   "id": "b13742a4",
   "metadata": {
    "ExecuteTime": {
     "end_time": "2021-11-06T08:36:43.880828Z",
     "start_time": "2021-11-06T08:36:43.865782Z"
    },
    "slideshow": {
     "slide_type": "fragment"
    }
   },
   "outputs": [],
   "source": [
    "#El registro esta en mitad de la tabla y no lo considero importante asi que quito toda la columna \n",
    "df.drop(\"Unnamed: 22\", axis=1,inplace=True)"
   ]
  },
  {
   "cell_type": "markdown",
   "id": "3955dad4",
   "metadata": {
    "slideshow": {
     "slide_type": "slide"
    }
   },
   "source": [
    "###  Columnas: \"Country\"  "
   ]
  },
  {
   "cell_type": "markdown",
   "id": "c015fee8",
   "metadata": {
    "slideshow": {
     "slide_type": "subslide"
    }
   },
   "source": [
    "#### Analisis inicial de las columnas"
   ]
  },
  {
   "cell_type": "code",
   "execution_count": 40,
   "id": "ef16eb2e",
   "metadata": {
    "ExecuteTime": {
     "end_time": "2021-11-06T08:36:43.895826Z",
     "start_time": "2021-11-06T08:36:43.881786Z"
    },
    "slideshow": {
     "slide_type": "fragment"
    }
   },
   "outputs": [
    {
     "data": {
      "text/plain": [
       "Casos\n",
       "4211      AUSTRALIA\n",
       "3193        ENGLAND\n",
       "5099      AUSTRALIA\n",
       "5369        REUNION\n",
       "683     PHILIPPINES\n",
       "Name: Country, dtype: object"
      ]
     },
     "execution_count": 40,
     "metadata": {},
     "output_type": "execute_result"
    }
   ],
   "source": [
    "#Vistazo de la columna Country\n",
    "df[\"Country\"].sample(n=5)"
   ]
  },
  {
   "cell_type": "code",
   "execution_count": 41,
   "id": "9a814024",
   "metadata": {
    "ExecuteTime": {
     "end_time": "2021-11-06T08:36:43.911859Z",
     "start_time": "2021-11-06T08:36:43.896783Z"
    },
    "slideshow": {
     "slide_type": "fragment"
    }
   },
   "outputs": [
    {
     "data": {
      "text/plain": [
       "43"
      ]
     },
     "execution_count": 41,
     "metadata": {},
     "output_type": "execute_result"
    }
   ],
   "source": [
    "#Observamos la cantidad de valores nulos que hay\n",
    "(df[\"Country\"]).isna().sum()"
   ]
  },
  {
   "cell_type": "code",
   "execution_count": 42,
   "id": "683055c5",
   "metadata": {
    "ExecuteTime": {
     "end_time": "2021-11-06T08:36:43.927241Z",
     "start_time": "2021-11-06T08:36:43.912941Z"
    },
    "slideshow": {
     "slide_type": "fragment"
    }
   },
   "outputs": [],
   "source": [
    "#Hay muy pocos valores nulos, los relleno con la categoria \"No determinado\"\n",
    "df[\"Country\"].fillna(\"No determinado\",inplace=True)"
   ]
  },
  {
   "cell_type": "markdown",
   "id": "25c54f0b",
   "metadata": {
    "slideshow": {
     "slide_type": "subslide"
    }
   },
   "source": [
    "####  Limpieza de los valores:\n",
    "Observo que en los inicios hay espacios, hay ?, primero limpiar los nombres y despues buscar si existe el pais\n",
    "Objetivo: comprobar si existen y si no existen añadir como No determinado, antes borrar espacios iniciales y finales y quitar ?¿ç"
   ]
  },
  {
   "cell_type": "code",
   "execution_count": 43,
   "id": "4391c911",
   "metadata": {
    "ExecuteTime": {
     "end_time": "2021-11-06T08:36:43.943386Z",
     "start_time": "2021-11-06T08:36:43.928242Z"
    },
    "slideshow": {
     "slide_type": "fragment"
    }
   },
   "outputs": [],
   "source": [
    "#Primero lo convierto todo a mayusculas\n",
    "df[\"Country\"]=df[\"Country\"].str.upper()\n"
   ]
  },
  {
   "cell_type": "code",
   "execution_count": 44,
   "id": "c8648a24",
   "metadata": {
    "ExecuteTime": {
     "end_time": "2021-11-06T08:36:43.974168Z",
     "start_time": "2021-11-06T08:36:43.944896Z"
    },
    "slideshow": {
     "slide_type": "fragment"
    }
   },
   "outputs": [],
   "source": [
    "#Identifico los paises que empiezan con espacio y se lo quito\n",
    "df[df[\"Country\"].str.startswith(\" \")][\"Country\"]\n",
    "#Solo son PHILIPPINES Y TONGA, los modifico \n",
    "df.replace({\" PHILIPPINES\":\"PHILIPPINES\",\" TONGA\":\"TONGA\"},inplace=True)"
   ]
  },
  {
   "cell_type": "code",
   "execution_count": 45,
   "id": "fcf34da5",
   "metadata": {
    "ExecuteTime": {
     "end_time": "2021-11-06T08:36:44.004829Z",
     "start_time": "2021-11-06T08:36:43.975169Z"
    },
    "slideshow": {
     "slide_type": "fragment"
    }
   },
   "outputs": [],
   "source": [
    "#Identifico los paises que acaban con espacio y se lo quito\n",
    "df[df[\"Country\"].str.endswith(\" \")][\"Country\"]\n",
    "df.replace({\"YEMEN \":\"YEMEN\",\n",
    "            \"EGYPT \":\"EGYPT\",\n",
    "           \"NORTH ATLANTIC OCEAN \":\"NORTH ATLANTIC OCEAN\",\n",
    "           \"NICARAGUA \":\"NICARAGUA\",\n",
    "            \"PACIFIC OCEAN \":\"PACIFIC OCEAN\",\n",
    "            \"MEXICO \":\"MEXICO\"\n",
    "           },inplace=True)"
   ]
  },
  {
   "cell_type": "code",
   "execution_count": 46,
   "id": "5a33d1a8",
   "metadata": {
    "ExecuteTime": {
     "end_time": "2021-11-06T08:36:44.020872Z",
     "start_time": "2021-11-06T08:36:44.005829Z"
    },
    "scrolled": true,
    "slideshow": {
     "slide_type": "subslide"
    }
   },
   "outputs": [
    {
     "name": "stdout",
     "output_type": "stream",
     "text": [
      "ASIA?\n",
      "RED SEA?\n",
      "INDIAN OCEAN?\n",
      "MEDITERRANEAN SEA?\n",
      "SUDAN?\n"
     ]
    }
   ],
   "source": [
    "#Identifico los valores que tienen ? y los modifico\n",
    "for i in df[\"Country\"]:\n",
    "    if re.findall(\"[?]\",i):\n",
    "        print(i)"
   ]
  },
  {
   "cell_type": "code",
   "execution_count": 47,
   "id": "9961713f",
   "metadata": {
    "ExecuteTime": {
     "end_time": "2021-11-06T08:36:44.052974Z",
     "start_time": "2021-11-06T08:36:44.021830Z"
    },
    "slideshow": {
     "slide_type": "fragment"
    }
   },
   "outputs": [],
   "source": [
    "#Los sustitutyo\n",
    "df.replace({\"ASIA?\":\"ASIA\",\n",
    "            \"RED SEA?\":\"RED SEA\",\n",
    "            \"INDIAN OCEAN?\":\"INDIAN OCEAN\",\n",
    "            \"MEDITERRANEAN SEA?\":\"MEDITERRANEAN SEA\",\n",
    "           \"SUDAN?\":\"SUDAN\"},inplace=True)"
   ]
  },
  {
   "cell_type": "markdown",
   "id": "ac46a420",
   "metadata": {
    "slideshow": {
     "slide_type": "subslide"
    }
   },
   "source": [
    "####  Conclusion: Clasificacion por paises existentes\n",
    "los nombres de los paises ya estan limpios, vamos a comprobar si existen \n",
    "[Github del csv](https://github.com/datasets/country-list/blob/master/data.csv#L119)"
   ]
  },
  {
   "cell_type": "code",
   "execution_count": 48,
   "id": "0fb35906",
   "metadata": {
    "ExecuteTime": {
     "end_time": "2021-11-06T08:36:44.068103Z",
     "start_time": "2021-11-06T08:36:44.054111Z"
    },
    "scrolled": true,
    "slideshow": {
     "slide_type": "fragment"
    }
   },
   "outputs": [],
   "source": [
    "'''Descargo de github un csv con todos los paises del mundo en ingles, \n",
    "viene con indice y codigo asi que creo una lista con los paises'''\n",
    "lista_paises=pd.read_csv(\"paises.csv\")\n",
    "lista_paises=list(lista_paises[\"Name\"])"
   ]
  },
  {
   "cell_type": "code",
   "execution_count": 49,
   "id": "9378ab4f",
   "metadata": {
    "ExecuteTime": {
     "end_time": "2021-11-06T08:36:44.083103Z",
     "start_time": "2021-11-06T08:36:44.069105Z"
    },
    "slideshow": {
     "slide_type": "fragment"
    }
   },
   "outputs": [],
   "source": [
    "#Convierto los nombres a mayuscula y los pongo en una lista\n",
    "lista=[]\n",
    "for i in lista_paises:\n",
    "    lista.append(i.upper())\n",
    "lista_paises=lista"
   ]
  },
  {
   "cell_type": "code",
   "execution_count": 50,
   "id": "005b800c",
   "metadata": {
    "ExecuteTime": {
     "end_time": "2021-11-06T08:36:44.099104Z",
     "start_time": "2021-11-06T08:36:44.084103Z"
    },
    "code_folding": [],
    "slideshow": {
     "slide_type": "subslide"
    }
   },
   "outputs": [
    {
     "name": "stdout",
     "output_type": "stream",
     "text": [
      "EGYPT / ISRAEL\n",
      "EQUATORIAL GUINEA / CAMEROON\n",
      "VIETNAM\n",
      "COAST OF AFRICA\n",
      "MEDITERRANEAN SEA\n",
      "NORTH SEA\n",
      "NORTHERN ARABIAN SEA\n",
      "SCOTLAND\n",
      "PALESTINIAN TERRITORIES\n",
      "ENGLAND\n",
      "BURMA\n",
      "TASMAN SEA\n",
      "KOREA\n",
      "ADMIRALTY ISLANDS\n",
      "NETHERLANDS ANTILLES\n",
      "UNITED ARAB EMIRATES (UAE)\n",
      "SOUTH ATLANTIC OCEAN\n",
      "NEW GUINEA\n",
      "BRITISH WEST INDIES\n",
      "ST HELENA\n",
      "NORTH ATLANTIC OCEAN\n",
      "BRITISH ISLES\n",
      "WESTERN SAMOA\n",
      "PERSIAN GULF\n",
      "CARIBBEAN SEA\n",
      "GRAND CAYMAN\n",
      "ANTIGUA\n",
      "BAY OF BENGAL\n",
      "RUSSIA\n",
      "CURACAO\n",
      "SOUTHWEST PACIFIC OCEAN\n",
      "CENTRAL PACIFIC\n",
      "FALKLAND ISLANDS\n",
      "RED SEA / INDIAN OCEAN\n",
      "JOHNSTON ISLAND\n",
      "TURKS & CAICOS\n",
      "FEDERATED STATES OF MICRONESIA\n",
      "OCEAN\n",
      "ANDAMAN / NICOBAR ISLANDAS\n",
      "ST. MAARTIN\n",
      "AZORES\n",
      "IRAN / IRAQ\n",
      "NEW BRITAIN\n",
      "BRITISH NEW GUINEA\n",
      "TRINIDAD & TOBAGO\n",
      "NEVIS\n",
      "PACIFIC OCEAN\n",
      "GULF OF ADEN\n",
      "SOUTH CHINA SEA\n",
      "BAHREIN\n",
      "NO DETERMINADO\n",
      "ST. MARTIN\n",
      "SAN DOMINGO\n",
      "OKINAWA\n",
      "REUNION\n",
      "ITALY / CROATIA\n",
      "MID ATLANTIC OCEAN\n",
      "INDIAN OCEAN\n",
      "COLUMBIA\n",
      "JAVA\n",
      "ATLANTIC OCEAN\n",
      "USA\n",
      "SOLOMON ISLANDS / VANUATU\n",
      "BRITISH VIRGIN ISLANDS\n",
      "RED SEA\n",
      "CEYLON (SRI LANKA)\n",
      "MALDIVE ISLANDS\n",
      "NORTH PACIFIC OCEAN\n",
      "DIEGO GARCIA\n",
      "THE BALKANS\n",
      "CRETE\n",
      "SYRIA\n",
      "SOUTH PACIFIC OCEAN\n",
      "MID-PACIFC OCEAN\n",
      "BETWEEN PORTUGAL & INDIA\n",
      "ASIA\n"
     ]
    }
   ],
   "source": [
    "#Vamos a ver los paises que no identifica para ver cuales podemos solucionar y cuales no\n",
    "for i in set(df[\"Country\"]):\n",
    "    if i in list(lista_paises):\n",
    "        continue\n",
    "    else:\n",
    "        print(i)"
   ]
  },
  {
   "cell_type": "markdown",
   "id": "a3c77ee6",
   "metadata": {
    "ExecuteTime": {
     "end_time": "2021-11-01T15:07:43.402156Z",
     "start_time": "2021-11-01T15:07:43.387724Z"
    },
    "slideshow": {
     "slide_type": "subslide"
    }
   },
   "source": [
    "**MODIFICACIONES sobre la lista de paises que no aparecen** {Como salen: Transformacion} (ND=no determinado)\n",
    "1. CEYLON (SRI LANKA): SRI LANKA\n",
    "1. MID-PACIFC OCEAN:ND\n",
    "1. ASIA:ND\n",
    "1.  PERSIAN GULF: ND\n",
    "1.  SAN DOMINGO: DOMINICAN REPUBLIC\n",
    "1.  NEW BRITAIN: ND\n",
    "1.  TRINIDAD & TOBAGO: TRINIDAD AND TOBAGO\n",
    "1.  NORTH SEA: ND\n",
    "1.  UNITED ARAB EMIRATES (UAE): 'UNITED ARAB EMIRATES'\n",
    "1.  SOUTH PACIFIC OCEAN: ND\n",
    "1.  FALKLAND ISLANDS: 'FALKLAND ISLANDS (MALVINAS)'\n",
    "1.  SOUTHWEST PACIFIC OCEAN: ND\n",
    "1.  OKINAWA: JAPAN\n",
    "1.  EQUATORIAL GUINEA / CAMEROON: ND\n",
    "1.  BRITISH ISLES: ND\n",
    "1.  NETHERLANDS ANTILLES: ND\n",
    "1.  GULF OF ADEN: YEMEN\n",
    "1.  BURMA: MYANMAR\n",
    "1.  BRITISH NEW GUINEA: ND\n",
    "1.  THE BALKANS: ND\n",
    "1.  FEDERATED STATES OF MICRONESIA: MICRONESIA\n",
    "1.  PACIFIC OCEAN: ND\n",
    "1.  MEDITERRANEAN SEA: ND\n",
    "1.  MALDIVE ISLANDS: MALDIVES\n",
    "1.  ANDAMAN / NICOBAR ISLANDAS: INDIA\n",
    "1.  TASMAN SEA: AUSTRALIA\n",
    "1.  REUNION: FRANCE\n",
    "1.  BAY OF BENGAL:INDIA\n",
    "1.  BAHREIN: BAHRAIN\n",
    "1.  ATLANTIC OCEAN: ND\n",
    "1.  DIEGO GARCIA: ND\n",
    "1.  TURKS & CAICOS: ND PERO MUY BONITO\n",
    "1.  PALESTINIAN TERRITORIES: PALESTINE\n",
    "1.  SYRIA: 'SYRIAN ARAB REPUBLIC'\n",
    "1.  NO DETERMINADO\n",
    "1.  JAVA: INDONESIA\n",
    "1.  RUSSIA: RUSSIAN FEDERATION\n",
    "1.  GRAND CAYMAN: CAYMAN ISLANDS'\n",
    "1.  NEVIS: ND\n",
    "1.  ST. MAARTIN: 'SAINT MARTIN (FRENCH PART)'\n",
    "1.  JOHNSTON ISLAND: ND\n",
    "1.  ST. MARTIN: 'SAINT MARTIN (FRENCH PART)'\n",
    "1.  NORTH PACIFIC OCEAN: ND\n",
    "1.  ENGLAND:'UNITED KINGDOM'\n",
    "1.  ST HELENA: 'SAINT HELENA'\n",
    "1.  ANTIGUA: 'ANTIGUA AND BARBUDA'\n",
    "1.  NORTH ATLANTIC OCEAN: ND\n",
    "1.  BRITISH WEST INDIES: ND\n",
    "1.  AZORES: PORTUGAL\n",
    "1.  IRAN / IRAQ: ND\n",
    "1.  SCOTLAND: UNITED KINGDOM\n",
    "1.  SOUTH ATLANTIC OCEAN: ND\n",
    "1.  SOLOMON ISLANDS / VANUATU: ND\n",
    "1.  SOUTH CHINA SEA: CHINA\n",
    "1.  COLUMBIA: COLOMBIA\n",
    "1.  RED SEA: ND\n",
    "1.  BETWEEN PORTUGAL & INDIA: ND\n",
    "1.  ADMIRALTY ISLANDS: ND\n",
    "1.  WESTERN SAMOA: SAMOA\n",
    "1.  CENTRAL PACIFIC: ND\n",
    "1.  OCEAN: ND\n",
    "1.  EGYPT / ISRAEL: ND\n",
    "1.  COAST OF AFRICA: ND\n",
    "1.  CRETE: GREECE\n",
    "1.  ITALY / CROATIA: ND\n",
    "1.  KOREA: ND\n",
    "1.  VIETNAM: VIET NAM\n",
    "1.  BRITISH VIRGIN ISLANDS: ND\n",
    "1.  NORTHERN ARABIAN SEA: ND\n",
    "1.  INDIAN OCEAN: ND\n",
    "1.  USA: 'UNITED STATES'\n",
    "1.  CARIBBEAN SEA: ND\n",
    "1.  RED SEA / INDIAN OCEAN: ND\n",
    "1.  NEW GUINEA: GUINEA\n",
    "1.  CURACAO: BRAZIL\n",
    "1.  MID ATLANTIC OCEAN: ND"
   ]
  },
  {
   "cell_type": "code",
   "execution_count": 51,
   "id": "e3432bb9",
   "metadata": {
    "ExecuteTime": {
     "end_time": "2021-11-06T08:36:44.193267Z",
     "start_time": "2021-11-06T08:36:44.100104Z"
    },
    "code_folding": [],
    "slideshow": {
     "slide_type": "subslide"
    }
   },
   "outputs": [],
   "source": [
    "#Hacemos las modificaciones en el dataset\n",
    "df.replace({\"CEYLON (SRI LANKA)\": \"SRI LANKA\",\n",
    "            \"SAN DOMINGO\": \"DOMINICAN REPUBLIC\",\n",
    "            \"TRINIDAD & TOBAGO\": \"TRINIDAD AND TOBAGO\",\n",
    "            \"UNITED ARAB EMIRATES (UAE)\": \"UNITED ARAB EMIRATES\",\n",
    "           \"FALKLAND ISLANDS\": \"FALKLAND ISLANDS (MALVINAS)\",\n",
    "            \"OKINAWA\": \"JAPAN\",\n",
    "           \"GULF OF ADEN\": \"YEMEN\",\n",
    "            \"BURMA\": \"MYANMAR\",\n",
    "           \"FEDERATED STATES OF MICRONESIA\": \"MICRONESIA\",\n",
    "            \"MALDIVE ISLANDS\": \"MALDIVES\",\n",
    "           \"ANDAMAN / NICOBAR ISLANDAS\": \"INDIA\",\n",
    "            \"TASMAN SEA\": \"AUSTRALIA\",\n",
    "            \"REUNION\":\"FRANCE\",\n",
    "            \"BAY OF BENGAL\":\"INDIA\",\n",
    "            \"BAHREIN\":\"BAHRAIN\",\n",
    "           \"PALESTINIAN TERRITORIES\":\"PALESTINE\",\n",
    "            \"SYRIA\": 'SYRIAN ARAB REPUBLIC',\n",
    "            \"JAVA\": \"INDONESIA\",\n",
    "            \"RUSSIA\": \"RUSSIAN FEDERATION\",\n",
    "            \"GRAND CAYMAN\": \"CAYMAN ISLANDS\",\n",
    "            \"ST. MAARTIN\": 'SAINT MARTIN (FRENCH PART)',\n",
    "            \"ST. MARTIN\": 'SAINT MARTIN (FRENCH PART)',\n",
    "            \"ENGLAND\":'UNITED KINGDOM',\n",
    "            \"ST HELENA\": 'SAINT HELENA',\n",
    "            \"ANTIGUA\": 'ANTIGUA AND BARBUDA',\n",
    "              \"AZORES\": \"PORTUGAL\",\n",
    "            \"SCOTLAND\": \"UNITED KINGDOM\",\n",
    "            \"SOUTH CHINA SEA\": \"CHINA\",\n",
    "            \"COLUMBIA\": \"COLOMBIA\",\n",
    "            \"WESTERN SAMOA\": \"SAMOA\",\n",
    "            \"CRETE\": \"GREECE\",\n",
    "            \"VIETNAM\": \"VIET NAM\",\n",
    "            \"USA\": 'UNITED STATES',\n",
    "            \"NEW GUINEA\": \"GUINEA\",\n",
    "            \"CURACAO\": \"BRAZIL\"\n",
    "            \n",
    "           },inplace=True)"
   ]
  },
  {
   "cell_type": "code",
   "execution_count": 52,
   "id": "b52e8079",
   "metadata": {
    "ExecuteTime": {
     "end_time": "2021-11-06T08:36:44.520637Z",
     "start_time": "2021-11-06T08:36:44.194744Z"
    },
    "slideshow": {
     "slide_type": "subslide"
    }
   },
   "outputs": [],
   "source": [
    "#Los paises que no estan bien escritos los añadimos a No determinado\n",
    "for i in set(df[\"Country\"]):\n",
    "    if i in list(lista_paises):\n",
    "        continue\n",
    "    else:\n",
    "        df.replace({i:\"No determinado\"},inplace=True)"
   ]
  },
  {
   "cell_type": "code",
   "execution_count": 53,
   "id": "6760a8a7",
   "metadata": {
    "ExecuteTime": {
     "end_time": "2021-11-06T08:36:44.536372Z",
     "start_time": "2021-11-06T08:36:44.521591Z"
    },
    "code_folding": [],
    "scrolled": true,
    "slideshow": {
     "slide_type": "fragment"
    }
   },
   "outputs": [
    {
     "data": {
      "text/plain": [
       "UNITED STATES           2116\n",
       "AUSTRALIA               1280\n",
       "SOUTH AFRICA             565\n",
       "No determinado           174\n",
       "PAPUA NEW GUINEA         133\n",
       "                        ... \n",
       "SYRIAN ARAB REPUBLIC       1\n",
       "TUVALU                     1\n",
       "DJIBOUTI                   1\n",
       "SLOVENIA                   1\n",
       "KUWAIT                     1\n",
       "Name: Country, Length: 128, dtype: int64"
      ]
     },
     "execution_count": 53,
     "metadata": {},
     "output_type": "execute_result"
    }
   ],
   "source": [
    "#Comprobamos\n",
    "df[\"Country\"].value_counts()"
   ]
  },
  {
   "cell_type": "markdown",
   "id": "c0df9fb6",
   "metadata": {
    "slideshow": {
     "slide_type": "slide"
    }
   },
   "source": [
    "### Columna: \"Age\""
   ]
  },
  {
   "cell_type": "markdown",
   "id": "4edc8e04",
   "metadata": {
    "slideshow": {
     "slide_type": "subslide"
    }
   },
   "source": [
    "#### Identificacion de valores nulos de cada columna"
   ]
  },
  {
   "cell_type": "code",
   "execution_count": 54,
   "id": "345d68aa",
   "metadata": {
    "ExecuteTime": {
     "end_time": "2021-11-06T08:36:44.552010Z",
     "start_time": "2021-11-06T08:36:44.537372Z"
    },
    "slideshow": {
     "slide_type": "fragment"
    }
   },
   "outputs": [
    {
     "data": {
      "text/plain": [
       "Casos\n",
       "86      NaN\n",
       "1749    NaN\n",
       "3942    NaN\n",
       "4859     36\n",
       "1810     34\n",
       "Name: Age, dtype: object"
      ]
     },
     "execution_count": 54,
     "metadata": {},
     "output_type": "execute_result"
    }
   ],
   "source": [
    "#Vistazo de la columna Age\n",
    "df[\"Age\"].sample(n=5)"
   ]
  },
  {
   "cell_type": "code",
   "execution_count": 55,
   "id": "80491ab0",
   "metadata": {
    "ExecuteTime": {
     "end_time": "2021-11-06T08:36:44.567545Z",
     "start_time": "2021-11-06T08:36:44.553010Z"
    },
    "scrolled": true,
    "slideshow": {
     "slide_type": "fragment"
    }
   },
   "outputs": [
    {
     "data": {
      "text/plain": [
       "2681"
      ]
     },
     "execution_count": 55,
     "metadata": {},
     "output_type": "execute_result"
    }
   ],
   "source": [
    "#La mitad de los valores son nulos (mal empezamos)\n",
    "df[\"Age\"].isna().sum()"
   ]
  },
  {
   "cell_type": "code",
   "execution_count": 56,
   "id": "9282b7d9",
   "metadata": {
    "ExecuteTime": {
     "end_time": "2021-11-06T08:36:44.582890Z",
     "start_time": "2021-11-06T08:36:44.569049Z"
    },
    "slideshow": {
     "slide_type": "fragment"
    }
   },
   "outputs": [
    {
     "data": {
      "text/plain": [
       "17           148\n",
       "18           145\n",
       "19           138\n",
       "20           136\n",
       "15           135\n",
       "            ... \n",
       "A.M.           1\n",
       "adult          1\n",
       "Both 11        1\n",
       "18 months      1\n",
       "60s            1\n",
       "Name: Age, Length: 151, dtype: int64"
      ]
     },
     "execution_count": 56,
     "metadata": {},
     "output_type": "execute_result"
    }
   ],
   "source": [
    "df[\"Age\"].value_counts()"
   ]
  },
  {
   "cell_type": "markdown",
   "id": "085dd04a",
   "metadata": {
    "slideshow": {
     "slide_type": "subslide"
    }
   },
   "source": [
    "#### Conclusion y output\n"
   ]
  },
  {
   "cell_type": "code",
   "execution_count": 57,
   "id": "d128d983",
   "metadata": {
    "ExecuteTime": {
     "end_time": "2021-11-06T08:36:44.598820Z",
     "start_time": "2021-11-06T08:36:44.583890Z"
    },
    "slideshow": {
     "slide_type": "fragment"
    }
   },
   "outputs": [],
   "source": [
    "#intento modificar los valores, primero relleno los na con 0\n",
    "df[\"Age\"].fillna(\"0\",inplace=True)"
   ]
  },
  {
   "cell_type": "code",
   "execution_count": 58,
   "id": "68d69c79",
   "metadata": {
    "ExecuteTime": {
     "end_time": "2021-11-06T08:36:44.614154Z",
     "start_time": "2021-11-06T08:36:44.599994Z"
    },
    "slideshow": {
     "slide_type": "fragment"
    }
   },
   "outputs": [],
   "source": [
    "#Creo una definicion que compruebe si la edad es unicamente numerica y el resto los cambio a 0\n",
    "def edad(edad):\n",
    "    try:\n",
    "        edad==int(edad)\n",
    "        if i!=0:\n",
    "            return edad\n",
    "    except ValueError:\n",
    "        return 0"
   ]
  },
  {
   "cell_type": "code",
   "execution_count": 59,
   "id": "1b57a7b9",
   "metadata": {
    "ExecuteTime": {
     "end_time": "2021-11-06T08:36:44.629745Z",
     "start_time": "2021-11-06T08:36:44.615155Z"
    },
    "slideshow": {
     "slide_type": "fragment"
    }
   },
   "outputs": [],
   "source": [
    "#Aplico la funcion\n",
    "df[\"Age\"]=df[\"Age\"].apply(edad)"
   ]
  },
  {
   "cell_type": "markdown",
   "id": "8326dd53",
   "metadata": {
    "slideshow": {
     "slide_type": "slide"
    }
   },
   "source": [
    "###  Columnas: \"pdf\",\"href formula\",\"href\""
   ]
  },
  {
   "cell_type": "markdown",
   "id": "5c1447d8",
   "metadata": {
    "slideshow": {
     "slide_type": "fragment"
    }
   },
   "source": [
    "Objetivo unificar las 3 columnas al pdf de esa columna"
   ]
  },
  {
   "cell_type": "markdown",
   "id": "6e49a508",
   "metadata": {
    "slideshow": {
     "slide_type": "subslide"
    }
   },
   "source": [
    "####  Analisis inicial"
   ]
  },
  {
   "cell_type": "code",
   "execution_count": 60,
   "id": "ee6d2ccf",
   "metadata": {
    "ExecuteTime": {
     "end_time": "2021-11-06T08:36:44.644869Z",
     "start_time": "2021-11-06T08:36:44.630744Z"
    },
    "slideshow": {
     "slide_type": "fragment"
    }
   },
   "outputs": [
    {
     "data": {
      "text/html": [
       "<div>\n",
       "<style scoped>\n",
       "    .dataframe tbody tr th:only-of-type {\n",
       "        vertical-align: middle;\n",
       "    }\n",
       "\n",
       "    .dataframe tbody tr th {\n",
       "        vertical-align: top;\n",
       "    }\n",
       "\n",
       "    .dataframe thead th {\n",
       "        text-align: right;\n",
       "    }\n",
       "</style>\n",
       "<table border=\"1\" class=\"dataframe\">\n",
       "  <thead>\n",
       "    <tr style=\"text-align: right;\">\n",
       "      <th></th>\n",
       "      <th>pdf</th>\n",
       "      <th>href formula</th>\n",
       "      <th>href</th>\n",
       "    </tr>\n",
       "    <tr>\n",
       "      <th>Casos</th>\n",
       "      <th></th>\n",
       "      <th></th>\n",
       "      <th></th>\n",
       "    </tr>\n",
       "  </thead>\n",
       "  <tbody>\n",
       "    <tr>\n",
       "      <th>1</th>\n",
       "      <td>ND-0001-Ceylon.pdf</td>\n",
       "      <td>http://sharkattackfile.net/spreadsheets/pdf_di...</td>\n",
       "      <td>http://sharkattackfile.net/spreadsheets/pdf_di...</td>\n",
       "    </tr>\n",
       "    <tr>\n",
       "      <th>2</th>\n",
       "      <td>ND-0002-JulesPatterson.pdf</td>\n",
       "      <td>http://sharkattackfile.net/spreadsheets/pdf_di...</td>\n",
       "      <td>http://sharkattackfile.net/spreadsheets/pdf_di...</td>\n",
       "    </tr>\n",
       "    <tr>\n",
       "      <th>3</th>\n",
       "      <td>ND-0003-Ocracoke_1900-1905.pdf</td>\n",
       "      <td>http://sharkattackfile.net/spreadsheets/pdf_di...</td>\n",
       "      <td>http://sharkattackfile.net/spreadsheets/pdf_di...</td>\n",
       "    </tr>\n",
       "    <tr>\n",
       "      <th>4</th>\n",
       "      <td>ND-0004-Ahmun.pdf</td>\n",
       "      <td>http://sharkattackfile.net/spreadsheets/pdf_di...</td>\n",
       "      <td>http://sharkattackfile.net/spreadsheets/pdf_di...</td>\n",
       "    </tr>\n",
       "    <tr>\n",
       "      <th>5</th>\n",
       "      <td>ND-0005-RoebuckBay.pdf</td>\n",
       "      <td>http://sharkattackfile.net/spreadsheets/pdf_di...</td>\n",
       "      <td>http://sharkattackfile.net/spreadsheets/pdf_di...</td>\n",
       "    </tr>\n",
       "    <tr>\n",
       "      <th>...</th>\n",
       "      <td>...</td>\n",
       "      <td>...</td>\n",
       "      <td>...</td>\n",
       "    </tr>\n",
       "    <tr>\n",
       "      <th>5988</th>\n",
       "      <td>2016.09.16-BellsBeach.pdf</td>\n",
       "      <td>http://sharkattackfile.net/spreadsheets/pdf_di...</td>\n",
       "      <td>http://sharkattackfile.net/spreadsheets/pdf_di...</td>\n",
       "    </tr>\n",
       "    <tr>\n",
       "      <th>5989</th>\n",
       "      <td>2016.09.17-Angiolella.pdf</td>\n",
       "      <td>http://sharkattackfile.net/spreadsheets/pdf_di...</td>\n",
       "      <td>http://sharkattackfile.net/spreadsheets/pdf_di...</td>\n",
       "    </tr>\n",
       "    <tr>\n",
       "      <th>5990</th>\n",
       "      <td>2016.09.18.a-NSB.pdf</td>\n",
       "      <td>http://sharkattackfile.net/spreadsheets/pdf_di...</td>\n",
       "      <td>http://sharkattackfile.net/spreadsheets/pdf_di...</td>\n",
       "    </tr>\n",
       "    <tr>\n",
       "      <th>5991</th>\n",
       "      <td>2016.09.18.b-Luciano.pdf</td>\n",
       "      <td>http://sharkattackfile.net/spreadsheets/pdf_di...</td>\n",
       "      <td>http://sharkattackfile.net/spreadsheets/pdf_di...</td>\n",
       "    </tr>\n",
       "    <tr>\n",
       "      <th>5992</th>\n",
       "      <td>2016.09.18.c-NSB.pdf</td>\n",
       "      <td>http://sharkattackfile.net/spreadsheets/pdf_di...</td>\n",
       "      <td>http://sharkattackfile.net/spreadsheets/pdf_di...</td>\n",
       "    </tr>\n",
       "  </tbody>\n",
       "</table>\n",
       "<p>5992 rows × 3 columns</p>\n",
       "</div>"
      ],
      "text/plain": [
       "                                  pdf  \\\n",
       "Casos                                   \n",
       "1                  ND-0001-Ceylon.pdf   \n",
       "2          ND-0002-JulesPatterson.pdf   \n",
       "3      ND-0003-Ocracoke_1900-1905.pdf   \n",
       "4                   ND-0004-Ahmun.pdf   \n",
       "5              ND-0005-RoebuckBay.pdf   \n",
       "...                               ...   \n",
       "5988        2016.09.16-BellsBeach.pdf   \n",
       "5989        2016.09.17-Angiolella.pdf   \n",
       "5990             2016.09.18.a-NSB.pdf   \n",
       "5991         2016.09.18.b-Luciano.pdf   \n",
       "5992             2016.09.18.c-NSB.pdf   \n",
       "\n",
       "                                            href formula  \\\n",
       "Casos                                                      \n",
       "1      http://sharkattackfile.net/spreadsheets/pdf_di...   \n",
       "2      http://sharkattackfile.net/spreadsheets/pdf_di...   \n",
       "3      http://sharkattackfile.net/spreadsheets/pdf_di...   \n",
       "4      http://sharkattackfile.net/spreadsheets/pdf_di...   \n",
       "5      http://sharkattackfile.net/spreadsheets/pdf_di...   \n",
       "...                                                  ...   \n",
       "5988   http://sharkattackfile.net/spreadsheets/pdf_di...   \n",
       "5989   http://sharkattackfile.net/spreadsheets/pdf_di...   \n",
       "5990   http://sharkattackfile.net/spreadsheets/pdf_di...   \n",
       "5991   http://sharkattackfile.net/spreadsheets/pdf_di...   \n",
       "5992   http://sharkattackfile.net/spreadsheets/pdf_di...   \n",
       "\n",
       "                                                    href  \n",
       "Casos                                                     \n",
       "1      http://sharkattackfile.net/spreadsheets/pdf_di...  \n",
       "2      http://sharkattackfile.net/spreadsheets/pdf_di...  \n",
       "3      http://sharkattackfile.net/spreadsheets/pdf_di...  \n",
       "4      http://sharkattackfile.net/spreadsheets/pdf_di...  \n",
       "5      http://sharkattackfile.net/spreadsheets/pdf_di...  \n",
       "...                                                  ...  \n",
       "5988   http://sharkattackfile.net/spreadsheets/pdf_di...  \n",
       "5989   http://sharkattackfile.net/spreadsheets/pdf_di...  \n",
       "5990   http://sharkattackfile.net/spreadsheets/pdf_di...  \n",
       "5991   http://sharkattackfile.net/spreadsheets/pdf_di...  \n",
       "5992   http://sharkattackfile.net/spreadsheets/pdf_di...  \n",
       "\n",
       "[5992 rows x 3 columns]"
      ]
     },
     "execution_count": 60,
     "metadata": {},
     "output_type": "execute_result"
    }
   ],
   "source": [
    "#Observamos las 3 columnas\n",
    "df[[\"pdf\",\"href formula\",\"href\"]]"
   ]
  },
  {
   "cell_type": "markdown",
   "id": "a6e053d7",
   "metadata": {
    "slideshow": {
     "slide_type": "fragment"
    }
   },
   "source": [
    "Href y Href formula parecen muy similares y el link te enlaca al pdf, en la columna pdf esta el nombre del pdf"
   ]
  },
  {
   "cell_type": "code",
   "execution_count": 61,
   "id": "a5ec7961",
   "metadata": {
    "ExecuteTime": {
     "end_time": "2021-11-06T08:36:44.660868Z",
     "start_time": "2021-11-06T08:36:44.645868Z"
    },
    "scrolled": true,
    "slideshow": {
     "slide_type": "subslide"
    }
   },
   "outputs": [
    {
     "data": {
      "text/plain": [
       "pdf             0\n",
       "href formula    1\n",
       "href            3\n",
       "dtype: int64"
      ]
     },
     "execution_count": 61,
     "metadata": {},
     "output_type": "execute_result"
    }
   ],
   "source": [
    "#Vamos a comprobar los valores nulos de cada columna para elegir la que menos tenga\n",
    "df[[\"pdf\",\"href formula\",\"href\"]].isna().sum()"
   ]
  },
  {
   "cell_type": "code",
   "execution_count": 62,
   "id": "3b97e043",
   "metadata": {
    "ExecuteTime": {
     "end_time": "2021-11-06T08:36:44.676868Z",
     "start_time": "2021-11-06T08:36:44.661870Z"
    },
    "slideshow": {
     "slide_type": "fragment"
    }
   },
   "outputs": [
    {
     "data": {
      "text/plain": [
       "True     5938\n",
       "False      54\n",
       "dtype: int64"
      ]
     },
     "execution_count": 62,
     "metadata": {},
     "output_type": "execute_result"
    }
   ],
   "source": [
    "#Vamos a ver cuantos valores de href y href formula coinciden\n",
    "(df.href==df[\"href formula\"]).value_counts()"
   ]
  },
  {
   "cell_type": "code",
   "execution_count": 63,
   "id": "a7e5dda2",
   "metadata": {
    "ExecuteTime": {
     "end_time": "2021-11-06T08:36:44.692563Z",
     "start_time": "2021-11-06T08:36:44.677873Z"
    },
    "scrolled": true,
    "slideshow": {
     "slide_type": "fragment"
    }
   },
   "outputs": [
    {
     "data": {
      "text/plain": [
       "Casos\n",
       "1       False\n",
       "4000    False\n",
       "3999    False\n",
       "3998    False\n",
       "3997    False\n",
       "        ...  \n",
       "1993    False\n",
       "1992    False\n",
       "1991    False\n",
       "2000    False\n",
       "2973     True\n",
       "Name: href formula, Length: 5992, dtype: bool"
      ]
     },
     "execution_count": 63,
     "metadata": {},
     "output_type": "execute_result"
    }
   ],
   "source": [
    "#localizo el valor nulo de href formula\n",
    "df[\"href formula\"].isna().sort_values()"
   ]
  },
  {
   "cell_type": "code",
   "execution_count": 64,
   "id": "2556e738",
   "metadata": {
    "ExecuteTime": {
     "end_time": "2021-11-06T08:36:44.708349Z",
     "start_time": "2021-11-06T08:36:44.693564Z"
    },
    "slideshow": {
     "slide_type": "subslide"
    }
   },
   "outputs": [
    {
     "data": {
      "text/plain": [
       "Date                                                              19-Jan-75\n",
       "Year                                                                   1975\n",
       "Type                                                             Unprovoked\n",
       "Country                                                           AUSTRALIA\n",
       "Area                                                        South Australia\n",
       "Location                                                         Coffin Bay\n",
       "Activity                                                            Surfing\n",
       "Name                                                        David Barrowman\n",
       "Sex                                                                       M\n",
       "Age                                                                      17\n",
       "Injury                                            FATAL, body not recovered\n",
       "Fatal (Y/N)                                                               Y\n",
       "Time                                                                    NaN\n",
       "Species                                                                 NaN\n",
       "Investigator or Source    J. West; Adelaide Advertiser, 1/20/1975; P. Ke...\n",
       "pdf                                                1975.01.19-Barrowman.pdf\n",
       "href formula                                                            NaN\n",
       "href                      http://sharkattackfile.net/spreadsheets/pdf_di...\n",
       "Name: 2973, dtype: object"
      ]
     },
     "execution_count": 64,
     "metadata": {},
     "output_type": "execute_result"
    }
   ],
   "source": [
    "#analizo\n",
    "df.loc[2973]"
   ]
  },
  {
   "cell_type": "markdown",
   "id": "3dd07548",
   "metadata": {
    "slideshow": {
     "slide_type": "subslide"
    }
   },
   "source": [
    "#### Conclusion y output"
   ]
  },
  {
   "cell_type": "markdown",
   "id": "ff1ee8a4",
   "metadata": {
    "slideshow": {
     "slide_type": "fragment"
    }
   },
   "source": [
    "Me quedo con la columna href formula que solo tiene un valor nulo, este valor nulo lo suplire por el valor de href de esa fila y borro las otras dos ya que el nombre del pdf no me aporta mucho"
   ]
  },
  {
   "cell_type": "code",
   "execution_count": 65,
   "id": "8e397816",
   "metadata": {
    "ExecuteTime": {
     "end_time": "2021-11-06T08:36:44.723676Z",
     "start_time": "2021-11-06T08:36:44.709473Z"
    },
    "slideshow": {
     "slide_type": "subslide"
    }
   },
   "outputs": [],
   "source": [
    "#añado el na de de href formula a la columna final\n",
    "df[\"href formula\"].at[2973]=df[\"href\"].at[2973]"
   ]
  },
  {
   "cell_type": "code",
   "execution_count": 66,
   "id": "23a5dd94",
   "metadata": {
    "ExecuteTime": {
     "end_time": "2021-11-06T08:36:44.739097Z",
     "start_time": "2021-11-06T08:36:44.726952Z"
    },
    "slideshow": {
     "slide_type": "fragment"
    }
   },
   "outputs": [],
   "source": [
    "#elimino las columnas pdf y href \n",
    "df.drop([\"pdf\",\"href\"],axis=1,inplace=True)"
   ]
  },
  {
   "cell_type": "code",
   "execution_count": 67,
   "id": "d9b7aa4b",
   "metadata": {
    "ExecuteTime": {
     "end_time": "2021-11-06T08:36:44.754483Z",
     "start_time": "2021-11-06T08:36:44.740126Z"
    },
    "slideshow": {
     "slide_type": "fragment"
    }
   },
   "outputs": [],
   "source": [
    "#cambio de nombre a la columna que guardo en el df\n",
    "df.rename(columns={\"href formula\":\"Pdf\"},inplace=True)"
   ]
  },
  {
   "cell_type": "markdown",
   "id": "ffe39e57",
   "metadata": {
    "ExecuteTime": {
     "end_time": "2021-10-30T17:06:35.729228Z",
     "start_time": "2021-10-30T17:06:35.720339Z"
    },
    "slideshow": {
     "slide_type": "slide"
    }
   },
   "source": [
    "###  Columnas: \"species\""
   ]
  },
  {
   "cell_type": "markdown",
   "id": "4eeb8f08",
   "metadata": {
    "slideshow": {
     "slide_type": "subslide"
    }
   },
   "source": [
    "####   Analisis inicial"
   ]
  },
  {
   "cell_type": "code",
   "execution_count": 68,
   "id": "14d62a96",
   "metadata": {
    "ExecuteTime": {
     "end_time": "2021-11-06T08:36:44.770483Z",
     "start_time": "2021-11-06T08:36:44.761484Z"
    },
    "slideshow": {
     "slide_type": "fragment"
    }
   },
   "outputs": [],
   "source": [
    "#Primero quito el espacio del titulo\n",
    "df.columns=['Date', 'Year', 'Type', 'Country', 'Area', 'Location', 'Activity',\n",
    "       'Name', 'Sex ', 'Age', 'Injury', 'Fatal (Y/N)', 'Time','Species',\n",
    "       'Investigator or Source', 'Pdf']"
   ]
  },
  {
   "cell_type": "code",
   "execution_count": 69,
   "id": "2e32b899",
   "metadata": {
    "ExecuteTime": {
     "end_time": "2021-11-06T08:36:44.786637Z",
     "start_time": "2021-11-06T08:36:44.774482Z"
    }
   },
   "outputs": [
    {
     "data": {
      "text/plain": [
       "Casos\n",
       "3840    White shark (tooth fragment recovered)\n",
       "2271                                       NaN\n",
       "2403                                       NaN\n",
       "1275     3.4 m [11']  tiger shark & a 5' shark\n",
       "4799                                       NaN\n",
       "Name: Species, dtype: object"
      ]
     },
     "execution_count": 69,
     "metadata": {},
     "output_type": "execute_result"
    }
   ],
   "source": [
    "#Vistazo de la columna species\n",
    "df[\"Species\"].sample(n=5)"
   ]
  },
  {
   "cell_type": "code",
   "execution_count": 70,
   "id": "562afb0b",
   "metadata": {
    "ExecuteTime": {
     "end_time": "2021-11-06T08:36:44.802308Z",
     "start_time": "2021-11-06T08:36:44.787659Z"
    },
    "code_folding": [],
    "slideshow": {
     "slide_type": "fragment"
    }
   },
   "outputs": [
    {
     "data": {
      "text/plain": [
       "2934"
      ]
     },
     "execution_count": 70,
     "metadata": {},
     "output_type": "execute_result"
    }
   ],
   "source": [
    "#Comprobamos cuantos valores na hay\n",
    "df[\"Species\"].isna().sum()"
   ]
  },
  {
   "cell_type": "code",
   "execution_count": 71,
   "id": "2470d2ee",
   "metadata": {
    "ExecuteTime": {
     "end_time": "2021-11-06T08:36:44.818449Z",
     "start_time": "2021-11-06T08:36:44.804309Z"
    },
    "slideshow": {
     "slide_type": "fragment"
    }
   },
   "outputs": [
    {
     "data": {
      "text/plain": [
       "1538"
      ]
     },
     "execution_count": 71,
     "metadata": {},
     "output_type": "execute_result"
    }
   ],
   "source": [
    "# Cuantas categorias de especies diferentes hay\n",
    "df[\"Species\"].nunique()"
   ]
  },
  {
   "cell_type": "code",
   "execution_count": 72,
   "id": "389cdea3",
   "metadata": {
    "ExecuteTime": {
     "end_time": "2021-11-06T08:36:44.834156Z",
     "start_time": "2021-11-06T08:36:44.819663Z"
    },
    "slideshow": {
     "slide_type": "subslide"
    }
   },
   "outputs": [
    {
     "data": {
      "text/plain": [
       "{nan,\n",
       " \"Said to involve  9' blue shark\",\n",
       " \"Said to involve a 2.4 m [8'] hammerhead shark\",\n",
       " \"12' shark\",\n",
       " 'Blue shark?',\n",
       " \"Sevengill shark, 14', was caught in the vicinity\",\n",
       " \"Sandbar shark ,8'\",\n",
       " \"2.1 m [7'] shark, a shark's serrated tooth recovered from toe\",\n",
       " \"Tiger shark, 3.4 m [11'] \",\n",
       " \"White shark, 14' to 16' \",\n",
       " '2 m shark, possibly a bronze whaler',\n",
       " 'Possibly a spinner shark',\n",
       " \"Mako shark, 1.8 m [6']\",\n",
       " 'Tiger shark & others',\n",
       " 'Mako shark, 2.3 m, 150-kg  ',\n",
       " '\"small sharks\"',\n",
       " 'Tiger shark,  3.6 m [11\\'9\"], 850-kg [1874-lb] female, contained Girvan\\'s remains ',\n",
       " 'Possibly juvenile tiger shark',\n",
       " \"1.8 m to 2.7 m [6' to 9'] shark\",\n",
       " 'Not a shark attack; it was a hoax',\n",
       " 'Probable bluefish bite',\n",
       " '3m shark',\n",
       " \"3.7 m [12'] white shark\",\n",
       " 'Possibily a  1.5 to 2 m sandtiger shark',\n",
       " 'Hand found in gut of 2.9 m to 3.3 m [9\\'7\" to 10\\'11\"] Galapagos shark, C. galapagensis',\n",
       " '\"A long thin brown-colored shark\"',\n",
       " 'Shark involvement not cofirmed',\n",
       " 'Tiger shark, 2.5 m ',\n",
       " \"2.4 m [8'] whaler shark\",\n",
       " \"White shark, 13'\",\n",
       " \"14' shark\",\n",
       " \"Tiger shark, 2.1 m [7']\",\n",
       " '1.8 m grey shark',\n",
       " \"Bull shark, 1.5 m to 1.8 m [5' to 6'] \",\n",
       " \"2.7 m [9'] bull or lemon shark\",\n",
       " \"small sharks'\",\n",
       " 'Basking shark',\n",
       " \"Carpet shark, 10' \",\n",
       " ' Bull shark, 1.2m ',\n",
       " \"White shark, 12' \",\n",
       " '\"gray shark\"',\n",
       " \"4.5' to 5' shark\",\n",
       " \"White shark, 2.5 m [8.25'], an immature female, previously injured\",\n",
       " 'Possibly a Caribbean reef shark',\n",
       " \"3.7 m to 4.6 m [12' to 15'] shark seen in the vicinity\",\n",
       " \"2.7 m to 3 m [9' to 10'] sharks\",\n",
       " \"Szot's right hand found in a 4.5' [14.5'] tiger shark caught 3/9/1950 at Safety Bay, south of Freemantle\",\n",
       " \"Bull shark, 2.4 m [8']\",\n",
       " 'Dusky shark, 3m',\n",
       " \"Bull shark, 6' to 7'\",\n",
       " \"Bull shark, 4.5' \",\n",
       " \"2.1 to 2.4 m [7' to 8'] shark\",\n",
       " \"1.8 m to 2.1 m [6' to 7'] shark\",\n",
       " 'Grey nurse shark, 1m ',\n",
       " '80 kg shark',\n",
       " ' Raggedtooth shark, 2m',\n",
       " 'White shark, 7m',\n",
       " \"10' shark\",\n",
       " \"0.9 m [3'] shark\",\n",
       " \"White shark, 16' \",\n",
       " 'Wobbegong shark ',\n",
       " 'Raggedtooth shark, 2 m ',\n",
       " '80-lb sand shark',\n",
       " \"4.5 m to 5.5 m [14.7' to 18'] white shark\",\n",
       " '2 m [6\\'9\"] shark ',\n",
       " \"Tiger shark, 12' ?\",\n",
       " \"White shark, > 3 m [10']\",\n",
       " \"Lemon shark, 4'\",\n",
       " '3- to 4-foot shark',\n",
       " \"3.5 m [11.5'], 510-kg [1125-lb] hooked & shot white shark\",\n",
       " \"Wobbegong shark, 3' \",\n",
       " \"1.8 to 2.4 m [6' to 8'] shark\",\n",
       " \"60 cm to 90 cm [2' to 3'] shark\",\n",
       " 'Mako shark, 100-kg [221-lb] ',\n",
       " \"Blacktip shark, 1.8 m to 2.1 m [6' to 7'] \",\n",
       " \"1.5 m [5'] shark\",\n",
       " \"16' shark\",\n",
       " \"White shark, 1.8 m [6'] \",\n",
       " \"3 m to 3.7 m [10' to 12'] shark\",\n",
       " \"14' to 16' white shark\",\n",
       " \"Lemon shark, 6' female \",\n",
       " \"2' to 3' shark\",\n",
       " 'Possibly a bronze whaler shark',\n",
       " 'Bull shark, 8',\n",
       " \"Mako shark (aka bonito shark) 1.2 m [4'] \",\n",
       " \"Nurse shark, 0.94 m to 1.2 m [3' to 4'] \",\n",
       " \"White shark, 3 m [10'], species identity confirmed by witnesses & tooth pattern in leg & board \",\n",
       " \"2.4 m [8'] shark, possibly a dusky shark\",\n",
       " '5\\'7\" shark',\n",
       " 'Bronze whaler shark, 1.5m',\n",
       " \"His hand was found in a 2.4 m [8'] tiger shark caught 1/5/1949\",\n",
       " \"4 m [13'] shark x 6\",\n",
       " \"Tiger shark, 2.4 m [8']\",\n",
       " '\"grey-colored shark\"',\n",
       " \"1.2 m to 1.8 m [4' to 6'] shark observed in area\",\n",
       " \"Bull shark, 5' \",\n",
       " \"Sandtiger shark, 2.1 m [7'] \",\n",
       " 'Bull shark, 2.8 to 3.1 m',\n",
       " '3 m to 3.6 m  [10\\' to 11\\'9\"] white shark',\n",
       " 'Reported to involve a hammerhead shark',\n",
       " 'Questionable incident',\n",
       " \"White shark, 4.4 m to 5 m [14.5' to 16.5'] \",\n",
       " 'Small bull shark',\n",
       " 'Mako shark, 400-lb ',\n",
       " \"4 m [13'] shark seen in vicinity\",\n",
       " \"Whitetip reef shark, 4' to 6'\",\n",
       " \">6 m [20'] white shark\",\n",
       " 'Tiger sharks & bull sharks (20 sharks in all)',\n",
       " 'Wobbegong shark, 2 m ',\n",
       " \"Leopard shark, 3' Triakis semifasciata, identified by J.W. DeWitt (1955)\",\n",
       " \"Tiger shark, 1.5 m [5']k\",\n",
       " 'Tiger shark, 12',\n",
       " 'White shark, 600-kg [1323-lb]',\n",
       " \"Lemon shark, 4' to 5' \",\n",
       " 'Blacktail reef shark',\n",
       " 'Thought to involve a cookie cutter shark',\n",
       " '9-foot shark',\n",
       " \"6' to 8' bull shark\",\n",
       " 'Oceanic whitetip shark, 2.5m ',\n",
       " '1.5 m, 45-kg shark',\n",
       " '\"a young shark\"',\n",
       " \"4.9 m [16'] whaler\",\n",
       " 'Blacktip reef shark, 1m',\n",
       " \"White shark, 3 m [10']rk\",\n",
       " \"Nurse shark, 4'\",\n",
       " '1.5 to 2 m shark',\n",
       " \"Nurse shark, 2.5' \",\n",
       " \"6' to 7' shark\",\n",
       " 'Juvenile dusky or blacktip shark',\n",
       " \"Spinner shark, 1.2 m to 1.5 m [4' to 5'] \",\n",
       " \"Said to involve a 6.5 m [21.5'] shark\",\n",
       " '24\" to 30\" shark',\n",
       " 'Believed white shark and other smaller species of sharks involved.',\n",
       " 'Unknown, but it was reported that a shark tooth was recovered from the wound',\n",
       " '1 m shark',\n",
       " '270 kg shark',\n",
       " \"Tiger shark, 4.3 m [14'] \",\n",
       " '1 m \"grey-colored\" shark',\n",
       " 'Species unidentified',\n",
       " 'Species unknown, possibly a white shark',\n",
       " '>6 m white shark, according to witnesses',\n",
       " '150-lb shark',\n",
       " \"3.7 m [12'] shark\",\n",
       " '400-lb shark',\n",
       " 'Blacktip reef shark pup',\n",
       " 'White shark, 4m to 5m ',\n",
       " \"Tiger shark, 14'\",\n",
       " \"Tiger shark, 2.5 m [8.25']\",\n",
       " \"1.2 m [4'] hammerhead shark\",\n",
       " \"2.7 m [9']  bull shark or Caribbean reef shark\",\n",
       " \"Hammerhead shark, 1.8 m [6'] \",\n",
       " \"Two 2.1 m [7'] sharks\",\n",
       " '\"Dog shark\"',\n",
       " \"5' to 7' shark\",\n",
       " \"Tiger shark, 3 m [10']\",\n",
       " \"1.5 m [5'] hammerhead shark\",\n",
       " '4.5 m [14\\'9\"] white shark',\n",
       " 'White shark, 5 m ',\n",
       " 'Shark involvement probable, but not confirmed',\n",
       " \"Said to involve an 8' shark but more likely damage caused by debris\",\n",
       " \"2.5 m [8.25'] bull shark\",\n",
       " '2 m [6\\'9\"] Zambesi shark',\n",
       " 'Bronze whaler shark, 2 m to 3 m ',\n",
       " 'Silvertip shark',\n",
       " 'White shark, 18 mm tooth fragment  recovered from the hull',\n",
       " \"3.7 m to 4.6 m [12' to 15'] shark\",\n",
       " \"18' shark\",\n",
       " \"Said to involve a >4 m [13'] shark\",\n",
       " 'Bull shark, 2.5 m',\n",
       " 'Shark involvement prior to death not confirmed',\n",
       " \"2 m [6.75'] shark, 200-kg shark T\",\n",
       " \"Bitten by several 1.8 m [6'] sharks\",\n",
       " \"White shark, 5 m to 6 m [16.5' to 20']  \",\n",
       " \"Mako shark, 1.8 m to 2.1 m [6' to 7']  with hook & wire leader caught in mouth\",\n",
       " \" Tiger shark, 3'\",\n",
       " 'Bull shark, 400-lb ',\n",
       " 'Dooley believed his Injury was caused by stingray (Dasyatidae family)',\n",
       " '2 sharks, 4.5 m & 3 m ',\n",
       " 'Unidentified shark',\n",
       " \"3.2 m [10.5'] shark\",\n",
       " \"9.5' shark?\",\n",
       " \"Sevengill shark, 6' to 8'\",\n",
       " \"Hammerhead shark, 5.2 m [17'] \",\n",
       " 'White shark, according to witnesses',\n",
       " \"1.5 m to 2 m [5' to 6.75'] Caribbean reef shark \",\n",
       " '18\" to 36\" shark',\n",
       " \"Possibly a 1' to 3' blacktip or spinner shark\",\n",
       " '8; 206-lb shark',\n",
       " 'Zambezi shark (tooth fragments recovered)',\n",
       " \"Said to involve 2 sharks: 5.2 m & 6 m [17' & 20'] \",\n",
       " \"Bronze whaler shark, 2.5 m [8.25']  k\",\n",
       " 'Blacktip or spinner shark?',\n",
       " \"Tiger shark, 1.8 m [6'] \",\n",
       " \"0.9 m [3']  shark\",\n",
       " \"White shark, 3.5 m to 4 m [11.5' to 13'] \",\n",
       " \"1.8 m [6'], 136-kg [300-lb] shark \",\n",
       " \"Local authorities speculated that the water was too cold for sharks, but a 2.1 m [7'], 200-lb pregnant sandbar shark was caught next day\",\n",
       " 'On 8/13/2005 anglers from New Zealand caught a 2.8 m [9\\'3\"], 140-kg [309-lb] shark at the same spot. It was believed this was the same shark that killed Alysha',\n",
       " \"3.7 m to 4.3 m [12' to 14']  shark\",\n",
       " 'White shark?',\n",
       " \"Hammerhead shark, 1.5 m [5'] \",\n",
       " \"1.8 m to 2.4 m  [6' to 8'] shark\",\n",
       " 'Bull shark, 1.4m ',\n",
       " \"4.9 m [16'] shark\",\n",
       " \"Grey nurse shark, 1.5 m [5']\",\n",
       " 'White shark, identification by K. Nakaya',\n",
       " 'Bull shark, 2m ',\n",
       " \"5 m [16.5'] white shark\",\n",
       " 'C. macrurus captured 48 hours after attack with tissue removed from man in its gut; species identified by G.P. Whitley,  reported as C. obscurus by  R. Steel',\n",
       " '1.3 m [4\\'3\"] shark',\n",
       " 'Tiger shark, 300-kg [662-lb] ',\n",
       " \"Grey nurse shark, 2.6 m [8.5']  \",\n",
       " 'Mako shark',\n",
       " \"4' shark\",\n",
       " '4.2 m white shark',\n",
       " 'Tiger shark, 2.5 m',\n",
       " \"Said to be 6.4 m [21'] shark\",\n",
       " \"Nurse shark, 2' to 3' \",\n",
       " 'Whitetip reef shark',\n",
       " 'White shark, 13\\'10\", 1320-lb female ',\n",
       " \"White shark, 19'\",\n",
       " \"Tiger shark, 2.4 m 3.4 m [8' to 11']  \",\n",
       " 'Description of shark does not ring true',\n",
       " 'Sandbar shark',\n",
       " 'Grey reef shark',\n",
       " \"1.2 m to 1.5 m [4' to 5']   shark\",\n",
       " 'White shark, 2.5 m ',\n",
       " 'Blue shark, 2.5m',\n",
       " \"4.3 m [14'] shark seen in vicinity\",\n",
       " \"1.8 m [6'] blacktip shark or spinner shark\",\n",
       " '2.5 to 3 m shark',\n",
       " 'unknown, possibly a white shark',\n",
       " 'a school of sharks',\n",
       " 'Possibly a small blacktip shark',\n",
       " \"Possibly a 6' lemon shark\",\n",
       " 'Porbeagle shark',\n",
       " 'Bronze whaler shark, 2 m',\n",
       " 'Oceanic whitetip shar,; identified by Dr. W.C. Schoeder on photograph & Dr. L.P. L. Schultz on sketch by observer',\n",
       " \"Thought to involve a 3' to 4' shark, but shark involvement not confirmed\",\n",
       " \"Possibly a 6' bull shark\",\n",
       " 'White shark, 3.6 m [11\\'9\"] ',\n",
       " 'Porbeagle',\n",
       " 'C. maculpinnis or C. limbatus',\n",
       " '6 m  white shark',\n",
       " \"White shark, 15'\",\n",
       " \"White shark, 5.5 m to 6 m [18' to 20']  \",\n",
       " 'White shark, 5.5 m ',\n",
       " 'White shark, 4.5 m [14\\'9\"] ',\n",
       " \"1.8 m [6'] shark\",\n",
       " \"Bronze whaler shark, 4' \",\n",
       " '40-lb sand shark',\n",
       " \"60 cm [2'] captive shark\",\n",
       " '9\\'2\" white shark',\n",
       " '\"a little shark\"',\n",
       " '1.8 m blacktip \"reef\" shark',\n",
       " 'Wobbegong shark, 1.4 m [4\\'6\"] ',\n",
       " \"2.4 m to 3.7 m [8' to 12'] shark\",\n",
       " \"White shark, >6'\",\n",
       " \"1.8 m to 2.4 m [6' to 8'] shark\",\n",
       " 'said to involve an oceanic whitetip shark',\n",
       " 'Raggedtooth shark',\n",
       " 'Starry smoothhound shark, 1m',\n",
       " \"White shark, 4.3 m 4.9 m [14' to 16'] \",\n",
       " \"Said to involve a 7 m [23'] white shark\",\n",
       " \"Spinner shark, 7'\",\n",
       " \"2 m [6.75'] sevengill  shark\",\n",
       " 'juvenile white shark',\n",
       " 'Tiger shark, 2m to 3m ',\n",
       " 'White shark, 3.9 m, 550 kg, male',\n",
       " 'White shark, 3.5 m',\n",
       " \"Wobbegong shark, 1.5 m [5'] \",\n",
       " 'Raggedtooth shark, 2 m [6\\'9\"] ',\n",
       " 'Shark involvement  not confirmed',\n",
       " 'Blue shark',\n",
       " 'White shark, 6.5 m ',\n",
       " \"White shark, 3.8 m [12.5']  \",\n",
       " 'Lemon shark, 2.5m to 3m ',\n",
       " 'Nurse shark?',\n",
       " \"3.4 m [11']  tiger shark & a 5' shark\",\n",
       " \"Reported to involve a 3.7 m [12'] shark, possibly a white shark\",\n",
       " \"Tiger shark, 13' \",\n",
       " ' Lemon shark, 3.5 m',\n",
       " 'Spinner shark',\n",
       " 'Tiger shark',\n",
       " '<1 m shark',\n",
       " '1.7 m shark',\n",
       " '\"reef shark\"',\n",
       " 'Raggedtooth shark, 1.3 m',\n",
       " 'small shark',\n",
       " \"Bull shark, 3' to 4'\",\n",
       " \"15'\",\n",
       " \"Tiger shark, 14' \",\n",
       " \"Bull shark, 4 m [13'] \",\n",
       " 'Grey nurse shark, 2.9 m [9\\'6\"] ',\n",
       " \"Mako shark, 3 m [10']\",\n",
       " '\"A pack of 6 sharks\"',\n",
       " 'White shark, 6 m ',\n",
       " \"White shark, 5 m to 6 m [16.5 to 20'] \",\n",
       " \"Blue shark, 1.5 m [5'] \",\n",
       " \"Porbeagle shark, 3 m [10']rk\",\n",
       " \"Raggedtooth shark, 1.5 m [5'] (tooth fragment recovered)\",\n",
       " 'Tiger shark, tooth fragment recovered',\n",
       " \"Tiger shark, 4 m [13']  ?\",\n",
       " 'Mako shark ',\n",
       " '200 to 300 kg shark',\n",
       " '40 to 50 sharks attacked survivors in the water',\n",
       " \"1.5 m to 1.8 m [5' to 6'] \\x93spear-eye\\x94 shark \",\n",
       " \"Next morning a 3 m [10'] shark was caught that had Andrews' leg in its gut\",\n",
       " \"Tiger shark, 3.7 m [12'], (tooth fragment recovered from wound)\",\n",
       " \"Tiger shark, 8'\",\n",
       " \"Thought to involve a 2 m [6.75'] grey nurse shark\",\n",
       " 'Broadnose sevengill shark',\n",
       " 'Hammerhead shark, 500-llb ',\n",
       " '2 sharks involved',\n",
       " 'Tiger shark, 2m ',\n",
       " \"Nurse shark, 2.1 m [7'] \",\n",
       " \"Mako shark, 4.3 m [14']\",\n",
       " \"White shark, 12'\",\n",
       " 'Thought to involve a white, bull or tiger shark',\n",
       " '1.5 m [5\\'] \"whaler shark\"',\n",
       " 'Blue sharks',\n",
       " 'dogfish shark',\n",
       " \"Tiger shark, 10'  \",\n",
       " 'White shark (tooth fragments recovered)',\n",
       " \"Said to involve 6 to 7 m [20' to 23'] white shark\",\n",
       " 'Shark involvement prior to death was not confirmed',\n",
       " \"15' shark seen with the man's body in its mouth, but shark involvement prior to death was not confirmed\",\n",
       " \"1.8 m to 2.1 m [6' to 7'] hammerhead shark\",\n",
       " 'possibly a bronze whaler shark',\n",
       " \"2' to 3' reef shark\",\n",
       " \"1.2 m [4'] blacktip shark\",\n",
       " \"4' spinner shark\",\n",
       " 'Tiger shark, 277-kg',\n",
       " ' Wobbegong shark, 1.6 to 1.8m ',\n",
       " \"White shark, 15' to 16' \",\n",
       " \"15' shark\",\n",
       " '\"a dog shark\"',\n",
       " \"0.9 m to 1.5 m [3' to 5'] shark\",\n",
       " 'According to Benjamin, the injury was inflicted by a barracuda, not a shark',\n",
       " \"0.7 m [2.5'] sand shark\",\n",
       " \"1.8 m to 2.1 m [6' to 7'] spinner or blacktip shark\",\n",
       " 'Unknown, but the shark was caught and put on exhibition',\n",
       " 'Whitetip reef shark, 1m',\n",
       " \"1.2 m [4'] blacktip or sandbar shark\",\n",
       " 'White shark, 4.5 m [14\\'9\"], identity confirmed by witness & tooth pattern',\n",
       " \"Tiger shark, 3 m [10'] \",\n",
       " \"Bronze whaler shark,4 m [13'] \",\n",
       " '1.8 m to 2.4 m [6\\' to 8\\'] \"black finned shark\"',\n",
       " '193-lb shark',\n",
       " 'White shark, 15\\'3\", 2,333-lb ',\n",
       " '1.8 m to 2 m [6\\' to 6\\'9\"] shark',\n",
       " \"Hammerhead shark. 6' to 7'\",\n",
       " 'White shark, 2m ',\n",
       " \"Hammerhead shark, 3 m [10'] \",\n",
       " \"Bronze whaler shark, 3 m [10'], 200-lb\",\n",
       " 'Thought to involve a tiger shark',\n",
       " \"White shark, 8' to 10'\",\n",
       " \"4 m to 5 m [13' to 16.5']  white shark \",\n",
       " \"White shark, 4 m to 5 m [13' to 16.5'] \",\n",
       " 'Tiger shark?',\n",
       " \"0.7 m [2.5'] shark\",\n",
       " 'Shark involvement prior to death unconfired',\n",
       " '5 mm 3500 kg female shark',\n",
       " 'Wobbegong shark',\n",
       " '2.13 m shark',\n",
       " '1.8 metre shark',\n",
       " 'White shark, 5m',\n",
       " '15* to 24\" dog shark',\n",
       " '1.8 to 2 m C. albimarginatus',\n",
       " '\"Blue nose sharks\"',\n",
       " 'Cookie cutter shark',\n",
       " 'Mako shark, 3m',\n",
       " \"3.5' hammerhead shark\",\n",
       " \"Tiger shark 4.3 m [14'] \",\n",
       " 'Unidentified species',\n",
       " \"3 m to 4 m [10' to 13'] shark\",\n",
       " \"Tiger shark, 12'\",\n",
       " 'Reported as a shark attack, the story was a hoax',\n",
       " 'Blue shark, 4.5 m [14\\'9\"]',\n",
       " 'A small spinner shark',\n",
       " \"Tiger shark, 10' to 12' \",\n",
       " 'Large tiger shark seen in the vicinity the following morning',\n",
       " 'blacktip or spinner shark',\n",
       " 'White shark, 2 m [6\\'9\"]  (Tooth fragment recovered from victim\\'s shoulder & identified by J.T. Nicholls)',\n",
       " 'Blue shark, 70-kg blue shark',\n",
       " 'White shark, 2m',\n",
       " \"3' shark, possibly  a blacktip or spinner shark\",\n",
       " \"5 m [16.5'] white shark, identification by K. Nakaya\",\n",
       " 'Raggedtooth shark ',\n",
       " \"Mako shark, 2.4 m [8'], <300-lb, identified by Dr. L.P. L. Schultz on photograph\",\n",
       " 'Mako shark, 1.3 m gaffed ',\n",
       " 'Blacktip Reef shark ',\n",
       " '2.27 m shark',\n",
       " \"Caribbean reef shark, 4.5'\",\n",
       " '1.2 m [4\\'] \"grey-colored shark\"',\n",
       " \">2.5 m [8.25'] white shark\",\n",
       " 'whaler shark',\n",
       " \"6', 100-lb shark\",\n",
       " 'Shark involvement in his death uncofirmed',\n",
       " 'Raggedtooth shark, 150-kg',\n",
       " 'White shark, 4 to 5 m',\n",
       " 'Angel shark',\n",
       " 'Port Jackson shark, 1m',\n",
       " \"13', 400-lb thresher shark\",\n",
       " \"Wobbegong shark, 1.2 m [4'] \",\n",
       " '\"sandshark\"',\n",
       " \"A 2' shark was seen in the area by witnesses\",\n",
       " \"Tiger shark, 2.4 m to 2.7 m [8' to 9'] \",\n",
       " '3.6 m  porbeagle shark',\n",
       " \"Nurse shark, 10'\",\n",
       " '3 sharks',\n",
       " 'White shark, 2.5 m',\n",
       " 'Unconfirmed incident',\n",
       " '2.5 oceanic whitetip shark',\n",
       " 'Shark involvement not confirmed',\n",
       " \"White shark, 16', 2,312-lb \",\n",
       " \"Blue pointer, 12'\",\n",
       " \"Wobbegong shark, 1.2 m [4'] k\",\n",
       " 'Raggedtooth shark, 100-lb ',\n",
       " 'Hammerhead sp.',\n",
       " \"Tiger shark, 5.2 m [17']\",\n",
       " \"3 m to 4 m [10' to 13']  white shark\",\n",
       " \"Sandtiger shark, 8'\",\n",
       " \"Lemon shark, 2.1  m to 2.4 m [7' to 8'] \",\n",
       " \"Porbeagle shark, 7'\",\n",
       " 'Raggedtooth shark, 56-kg [123-lb] ',\n",
       " 'White shark, 4.5 m ',\n",
       " 'Possibly a hammerhead shark',\n",
       " '136-kg [300-lb] shark',\n",
       " '2 white shark: 13\\' & 9\"8\"',\n",
       " 'Wobbegong shark, 1.6m',\n",
       " 'Possiby white shark',\n",
       " \"Blue shark, 3 m [10']\",\n",
       " '5 m white shark',\n",
       " 'Said to involve a grey nurse shark that leapt out of the water and  seized the boy but species identification is questionable',\n",
       " \"9' shark\",\n",
       " 'small blacktip shark?',\n",
       " '5m shark',\n",
       " \"2.7 m [9'] silky shark\",\n",
       " \"[4' to 5']\",\n",
       " \"4m [13'] shark\",\n",
       " \"7' to 8' shark\",\n",
       " 'a small reef shark',\n",
       " 'reef shark, 1.5m',\n",
       " \"0.9 m  [3'] shark\",\n",
       " 'shark involvement not confirmed',\n",
       " 'Shark involvement not confirmed, injury may have been caused by a bluefish',\n",
       " \"Possibly a 5' to 6' sandtiger shark\",\n",
       " \"White shark, 7' to 8'\",\n",
       " '68\" shark',\n",
       " 'Zambesi shark, 2 m [6\\'9\"] ',\n",
       " 'sandtiger shark',\n",
       " \"2.4 m [8'] shark\",\n",
       " 'Nurse shark, 106 cm, 28-lb, male ',\n",
       " 'Shark involvement prior to death still to be determined',\n",
       " '3.6 m  white shark  (or bronze whaler)',\n",
       " 'Caribbean reef shark',\n",
       " \"Tiger shark, 5 m [16.5']\",\n",
       " 'possibly a bull shark',\n",
       " '3.5 m [11\\'6\"] shark captured',\n",
       " \"White shark, 12' to 15' female\",\n",
       " '\"A small shark\"',\n",
       " \"1.5 m to 1.8m [5' to 6'] shark\",\n",
       " \"Tiger shark, 1.8 m to 2.4 m [6' to 8'] \",\n",
       " '7-gill shark?',\n",
       " \"4' to 8' shark\",\n",
       " \"Oceanic whitetip shark, 6'\",\n",
       " 'Tawny nurse shark, 40cm',\n",
       " \"Tiger shark, 8' to 10' \",\n",
       " \"Blue shark, 4' \",\n",
       " 'Bronze whaler shark, 2 m ',\n",
       " \"White shark, 10'\",\n",
       " \"Bronze whaler shark, 2.3 m [7.5'] \",\n",
       " 'Small shark with white-tipped dorsal fin',\n",
       " \"3 m [10'] gaffed shark\",\n",
       " \"1.5 m [5'] blacktip shark\",\n",
       " 'Said to be \\x93leopard sharks\\x94, more probably tiger sharks',\n",
       " \"1.5 m to 1.8 m [5' to 6']  blacktip shark\",\n",
       " \"2 m [6.75'] white shark\",\n",
       " \"White shark, 3.5 m [11.5'], identified by W. I.  Follett on tooth fragments\",\n",
       " \"White shark, 1.5 m [5'] k\",\n",
       " \"2.5 m to 3 m [8.25' to 10']  white shark\",\n",
       " '3.7m  to 4.2 m white shark',\n",
       " 'Bronze whaler shark, 2.5m',\n",
       " \"Blue shark, 1.8 m [6'] \",\n",
       " '\"whiptail shark\" (thresher shark?)',\n",
       " \"1.8 m [6'] copper shark\",\n",
       " 'Blacktip reef shark ',\n",
       " \"White shark, 6 m [20']\",\n",
       " \"Tiger shark 3 m  [10'] \",\n",
       " \"Grey reef shark, 1.2 m [4'] \",\n",
       " '1.74 m, 116-kg Zambesi shark',\n",
       " \"1.8 m [6'] grey reef shark\",\n",
       " '2 to 2.5 m shark',\n",
       " 'Thought to involve a 5.5 m white shark named Kong',\n",
       " \"White shark 4.9 m [16'] \",\n",
       " 'Thought to involve a Zambesi shark',\n",
       " \"1.4 m [4.5'] shark\",\n",
       " '1.5 m white-tipped reef shark',\n",
       " 'White shark, 2 m',\n",
       " \"Bronze whaler shark, 3 m [10'] \",\n",
       " 'Nurse shark, 1 m ',\n",
       " \"1' to 2' hammerhead or bonnethed shark\",\n",
       " '3+ m shark',\n",
       " '4.5 m to 5 m white shark',\n",
       " \"Blacktip shark, 2.4 m to 3 m [8' to 10'] \",\n",
       " '4 to 5m white shark',\n",
       " 'Lemon shark, 1164 mm, immature male, identified by  V.G. Springer',\n",
       " \"Bronze whaler shark, 2.4 m [8'] \",\n",
       " \"5' to 6' shark\",\n",
       " \"2' to 3.5' shark\",\n",
       " \"3' small spotted catshark, Scyliorhinus canicula\",\n",
       " \"1.2 m [4'] bull shark\",\n",
       " 'Most likely, a small shark',\n",
       " \"Tiger sharks, 2.4 m to 4.9 m [8' to 16'] \",\n",
       " \"4' to 6' shark\",\n",
       " 'Shark seen feeding on turtle scraps thrown overboard prior to incident.',\n",
       " \"Tiger shark, 1.8 m [6']\",\n",
       " \"Tiger shark, 2.7m  [9']\",\n",
       " \"Thought to involve a 2.7 m [9'], 400-lb bull shark\",\n",
       " \"1.5 m to 1.8 m [5' to 6'] sharks\",\n",
       " 'Angel shark, 1.2m ',\n",
       " \"3.7 m to 4.3 m [12' to 14'] shark\",\n",
       " \"Tiger shark, 2.4 m to 2.7 m [8' to 9']  \",\n",
       " \"Blacktip shark, 5' to 6' \",\n",
       " 'Allegedly a 33-foot shark',\n",
       " 'White shark, 3.6 m,  420 kg male',\n",
       " \"White shark, 2.4 m [8']\",\n",
       " \"16' 800-lb shark\",\n",
       " 'Bronze whaler shark',\n",
       " 'White shark, 246-kg ',\n",
       " \"Wobbegong shark, O. barbatus,  1.8 m [6'], identified by G.P. Whitley\",\n",
       " \"1.5 m [5'] Caribbean reef shark\",\n",
       " \"5.5 m [18'] shark seen in the vicinity\",\n",
       " \"Bull shark caught, leg recovered & buried beside the man's body\",\n",
       " '\"Shark caught later\"',\n",
       " \"1.2 m to 1.5 m [4' to 5'] shark, possibly a bull shark\",\n",
       " 'Blue or porbeagle shark',\n",
       " \"Spinner shark, 5'\",\n",
       " \"6' shark, possibly a blactip or spinner shark\",\n",
       " ' White shark',\n",
       " ' reef shark, 1.8m',\n",
       " 'Oceanic whitetip shark, 2.5 to 3m',\n",
       " 'a \"small slim brown shark\"',\n",
       " \"6 m [20'] white shark\",\n",
       " \"Tiger shark, 4.3 m [14'], 3 tooth fragments retrieved from his wounds\",\n",
       " '\"black tipped\" shark',\n",
       " 'Bronze whaler',\n",
       " '6 m shark',\n",
       " 'Possibly a 3 m bull shark',\n",
       " \"8' blue shark\",\n",
       " \"76 cm [2.5'] carpet shark\",\n",
       " 'Said to be a \\x93small shark\\x94',\n",
       " \"4.6 m [15'] shark\",\n",
       " \"1' to 4' shark\",\n",
       " \"White shark, 6 m [20'] \",\n",
       " \"Lemon shark, 2.7 m [9'] \",\n",
       " \"Grey nurse shark, 1.5 m [5'] \",\n",
       " 'a small shark',\n",
       " \"[4.5' to 5'] shark\",\n",
       " 'Thought to involve a mako shark, but possibly a sea lion',\n",
       " \"White shark, 5 m to 6 m [16.5' to 20'] \",\n",
       " \"White shark, 2.7 m [9'] \",\n",
       " \"7' to 8' shark \",\n",
       " 'White shark, 1600-lb female ',\n",
       " \" white shark, 15' \",\n",
       " \"Tiger shark, 4 m [13'] ?\",\n",
       " 'Tiger shark, 4.5 to 5.5 m [14\\'9\" to 18\\'], 2000-lb  ',\n",
       " \"White shark, 12' to 15' \",\n",
       " '18-foot shark',\n",
       " \"1.2 m [4'] shark\",\n",
       " 'A \"small shark\"',\n",
       " 'Tiger shark caught 6 days later with diver\\x92s remains in its gut',\n",
       " \"2.1 m [7'] shark, possibly a spinner shark\",\n",
       " \"10' to 12' shark\",\n",
       " ' Tawney nurse shark, 1m',\n",
       " \">3.4 m [11'] white shark\",\n",
       " \"2.6 m [8.5'] shark landed 2 hours later\",\n",
       " \"White shark, 5 m  to 6 m [16.5' to 20'] \",\n",
       " '2 to 3 m shark',\n",
       " '440-lb shark',\n",
       " '\"A pack of sharks\"',\n",
       " \"1.2 m to 1.5 m [4.5' to 5'] shark\",\n",
       " \"Sevengill shark, 2.4 m [8'] \",\n",
       " \"3.7 m [12'] shark & may have been another shark nearby\",\n",
       " 'White shark, 4 m to 5m ',\n",
       " \"Mako shark, 5'\",\n",
       " 'White shark, 6m ',\n",
       " \"Sandtiger shark, 3 m [10'] \",\n",
       " 'small sharks',\n",
       " \"White shark, 12' to 15'\",\n",
       " \"1.5 m [5'] white shark or sevengill shark\",\n",
       " 'White shark, 3m',\n",
       " 'Spinner shark or blacktip shark',\n",
       " 'White shark (tooth fragments recovered from hull of boat)',\n",
       " \"1.8 m [6'] Zambezi shark\",\n",
       " '2 m [6\\'9\"], 87.5-kg [193-lb]  shark',\n",
       " 'Oceanic whitetip sharks were in the vicinity',\n",
       " 'Nurse shark',\n",
       " 'Salmon shark',\n",
       " \"8' great hammerhead shark\",\n",
       " \"Tiger shark, 3 to 4 m [10' to 13'] \",\n",
       " \"5.5 m [18'] shark\",\n",
       " \"White shark, 4.6 m [15'] \",\n",
       " \"3 m [10'], 200-kg [441-lb] bull shark\",\n",
       " 'Survivors said 2 species of sharks were involved:  oceanic whitetip sharks and another species,',\n",
       " 'A pack of 6 sharks',\n",
       " \"Tiger shark, 10' \",\n",
       " \"White shark, 5 m [16.5'] \",\n",
       " '2 m shark',\n",
       " '2.2 m shark',\n",
       " \"White shark,4.6 m [15'] \",\n",
       " \"On 11-Jan-1994, his remains washed ashore. A 2.4 m [8'] tiger shark thought to be involved\",\n",
       " 'White shark, 3.5m ',\n",
       " 'Doubtful / Unconfirmed attack / Unable to verify in local records',\n",
       " 'Tiger shark, 10?',\n",
       " \"Blue shark, 7'\",\n",
       " \" Bull shark, 8'\",\n",
       " \"Tooth fragment of a white shark recovered. Authorities believed shark was 6 m [20']  total length\",\n",
       " 'White shark tooth fragment recovered from ankle & identified by Dr. W. I. Follett',\n",
       " \"White shark, 3 m [10']; identifed by Dr. W.I. Follett on tooth marks\",\n",
       " 'Blue shark, 2m ',\n",
       " '8 sharks',\n",
       " \"Blacktip shark, 2' \",\n",
       " \"Raggedtooth shark, 1.2 m [4'] \",\n",
       " \"Remains recovered from 5.5 m [18'] white shark\",\n",
       " \"2.4 m [8'] white shark, species identity confirmed by witnesses & tooth pattern in surfboard\",\n",
       " \"White shark, 12' to 14'\",\n",
       " 'Though to involve a tiger shark',\n",
       " ' Tiger shark, 2.8m',\n",
       " 'Possibly a lemon shark',\n",
       " \"Bull shark, 8'\",\n",
       " 'small catsharks',\n",
       " '3 m to 4 m white shark',\n",
       " \"Grey nurse shark, 2.4 m [8'] \",\n",
       " \"Two shark's teeth recovered from canoe\",\n",
       " \"Possibly a Bull shark, 3'\",\n",
       " \"2.4 m  [8'] shark\",\n",
       " \"Nurse shark, 1.5 m [5']  identified by Dr. E. Clark on description of shark\",\n",
       " \"5 m [16.5'] shark\",\n",
       " \"3 m to 5 m [10' to 16.5'] white shark\",\n",
       " 'C. leucas tooth fragment recovered from kayak',\n",
       " \"3.5 m [11.5'] white shark\",\n",
       " \"Bull shark, 10'\",\n",
       " 'Reported by media as shark attack, but shark involvement prior to death was not confirmed',\n",
       " \"4 m to 5 m [13' to 16.5']  white shark\",\n",
       " '100-kg [221-lb] dead blue shark',\n",
       " \"Caribbean reef shark, 7' to 8'\",\n",
       " '1 m  shark',\n",
       " \"Bull shark, 12'\",\n",
       " 'Tawny nurse shark',\n",
       " 'Possibly  a blacktip or spinner shark',\n",
       " \"2.5 m [8.25'] white shark\",\n",
       " \"Tiger shark, 10'\",\n",
       " \"4.4 m [14'] shark\",\n",
       " \"4.9 m [16']shark\",\n",
       " \"Tiger shark, 3 m to 3.7 m [10' to 12'] \",\n",
       " 'reef shark',\n",
       " \"3.7 m to 4.3 m [12' to 14'] white shark\",\n",
       " 'Possibly a small hammerhead shark',\n",
       " \"Possibly a 1.5 m [5'] blacktip or spinner shark\",\n",
       " '2 m to 2.5 m shark',\n",
       " 'Bull shark or lemon shark',\n",
       " \"Blacktip or spinner shark, 4'\",\n",
       " 'Oceanic whitetip shark x 2',\n",
       " '4.5 m & 5 m white shark ',\n",
       " \"1.5 to 1.8 m [5' to 6'] shark\",\n",
       " 'Blacktip shark, 2m',\n",
       " 'Identified as carcharinid shark (based on its behavior) by Dr. D.P. L. Schultz; mako shark according to Huges',\n",
       " 'Spinner or blacktip sharks',\n",
       " 'Thought to involve a blacktip shark',\n",
       " 'Possibly a blacktip shark',\n",
       " \"3 m [10'] shark\",\n",
       " \"White shark, 1.8 m to 2.1 m [6' to 7']  according to Shreuder and a witness\",\n",
       " \"2.5' shark\",\n",
       " '3 hammerhead sharks nearby',\n",
       " 'Possibly a white shark',\n",
       " \"Two 3 m [10'] oceanic whitetip sharks\",\n",
       " \"Silky shark, 1.9 m [6.5']\",\n",
       " 'Leopard shark',\n",
       " '1.3 to 1.6 m shark',\n",
       " \"White shark, 7'\",\n",
       " 'Lesser spotted dogfish, Scyliorhinus canicula, less than 80 cm in length',\n",
       " \"7.5' shark\",\n",
       " \"2.6 m [8.5'] shark\",\n",
       " 'Identified as C. gangeticus by Dr. J. Fayrer',\n",
       " \"6 m [20'] shark\",\n",
       " \"Nurse shark, 0.9 m  [3'] \",\n",
       " '18\" to 24\" shark',\n",
       " \"Bronze whaler shark, 1.5 m [5'] \",\n",
       " \"0.9 m to 1.2 m [3' to 4'] shark\",\n",
       " \"Said to involved a 6 m to 7.3 m [20' to 24'] shark\",\n",
       " '4.5  m [14\\'9\"] shark',\n",
       " \"White shark, 2.5 m [8.25'] \",\n",
       " '\"sand shark\" Listed as questionable incident',\n",
       " 'Tiger shark ',\n",
       " 'White shark, 3 to 3.5m ',\n",
       " 'Sevengill shark, 2.4 m',\n",
       " 'Oceanic whitetip shark, 2.5m, female',\n",
       " \"Raggedtooth shark, 3.5 m [11.5'] \",\n",
       " '2 days later a 600-lb shark was caught 100 yards from the site',\n",
       " \"Thought to involve a 12' white shark\",\n",
       " '5.7 m white shark',\n",
       " \"2.7 m [9'] shark\",\n",
       " \"Tiger shark, 4.6 m [15'] \",\n",
       " 'Remains recovered 5 days later',\n",
       " \"3 m [10'] blue whaler\",\n",
       " 'Oceanic whitetip shark',\n",
       " \"Hammerhead shark, 2.4 m [8'], according to lifeguard Sam Barrows\",\n",
       " '1.5 m to 2 m shark',\n",
       " \"2' to 3' juvenile shark\",\n",
       " '2 m  \"yellow belly\" captive shark. Shark destroyed by aquarium staff next day',\n",
       " 'Reported to involve a 4 m white shark',\n",
       " \" Sandbar shark, 3' to 4'\",\n",
       " \"Zambesi shark, 1.2 m [4'] \",\n",
       " '2 m shark, possibly a dusky or blacktip shark',\n",
       " \"Tiger shark, 4 m [13'] female\",\n",
       " 'Raggedtooth shark, 1.96 m, 140-kg ',\n",
       " \"1.8 m [6'] reef shark - or a 2.1 m to 2.4 m [7' to 8'] grey-colored shark\",\n",
       " \"Mako shark, 3.7 m [12'] identified by tooth fragments by G.P. Whitley\",\n",
       " \"3.5 m [11.5']shark\",\n",
       " '3 m hammerhead shark',\n",
       " \" Sevengill  shark, 1.2 m [4'] \",\n",
       " 'Nurse shark, 60 cm [24\"], identified by Dr. L.P. L. Schultz on photograph',\n",
       " '4 to 5 m white shark',\n",
       " \"2.4 m [8'], 600-lb shark\",\n",
       " \"5.5 m to 6 m [18' to 20'] white shark\",\n",
       " 'Tiger shark (pregnant)',\n",
       " 'Bull shark, 3m',\n",
       " 'White shark',\n",
       " '650-lb shark',\n",
       " '1m shark',\n",
       " 'Thought to involve a porbeagle or mako shark',\n",
       " 'Questionable incident; reported as shark attack but thought to involve a pinniped instead ',\n",
       " 'White shark, 2.5m ',\n",
       " 'Blacktip reef shark',\n",
       " 'Shark involvement not confirmed, injury may be due to a stingray',\n",
       " \"White shark, 5' k\",\n",
       " \"2.4 m [8'] white shark\",\n",
       " 'White shark, 3m, seen in area and hooked 3 days later',\n",
       " '60 cm [23.6\"] blind or brown shark',\n",
       " \"White shark, 12', identity confirmed by tooth fragment, witness and photograph of captured shark \",\n",
       " 'Shark involvement not confirmed & highly unlikely',\n",
       " 'Possibly white sharks',\n",
       " \"White shark, 4.3 m [14'], (tooth fragment recovered)\",\n",
       " 'White shark or bronze whaler',\n",
       " '>1.6 m shark',\n",
       " \"2.1 m [7'] sandtiger shark\",\n",
       " '> 3 m shark',\n",
       " \"White shark, 3 m to 5 m [10' to 15'] \",\n",
       " '\"Blue nose shark\"',\n",
       " \"Mako shark, 14' \",\n",
       " 'White shark, 6 m',\n",
       " \"Bronze whaler shark, 2.4 m [8'] Identified by Clyde Buttery\",\n",
       " 'Whale shark',\n",
       " 'Grey nurse shark?',\n",
       " 'Bonita sharkk, 200-lb',\n",
       " 'Bull shark?',\n",
       " 'a small hammerhead shark',\n",
       " 'Tiger shark, 3.7 m to 4.5 m [12\\' to 14\\'9\"]  ',\n",
       " '\"a small shark\"',\n",
       " \"2.1 m to 2.4 m  [7' to 8'] shark\",\n",
       " \"Bull shark, 1.8 m to 2.1 m [6' to 7'] \",\n",
       " 'Raggedtooth shark, 1.5 m',\n",
       " 'Reported to involve a bull shark',\n",
       " 'Tiger shark, 4 m, 420-kg, caught 13-Dec-1987',\n",
       " \"Raggedtooth shark, 1.2 m to 1.5 m [4' to 5'] \",\n",
       " 'Blacktip shark',\n",
       " \"5.5 m [18''] white shark\",\n",
       " \"16' white shark\",\n",
       " '4.3 m shark',\n",
       " \"4 m [13'] white shark\",\n",
       " 'Bronze whaler sharks x 3',\n",
       " \"1.5 m to 1.8 m [5' to 6'] shark\",\n",
       " 'Grey reef shark, 1.5 m ',\n",
       " \"2'  shark\",\n",
       " 'Hammerhead shark',\n",
       " \"Wobbegong shark, 4'\",\n",
       " \"Bronze whaler shark,  3m [10'] \",\n",
       " 'White shark, 2.7 m [9\\'1\"], 750-lb ',\n",
       " '4.5 m to 5.5m white shark',\n",
       " \"2.7 m [9'] shark later captured by Mitchell-Hedges\",\n",
       " 'Caribbean reef sharks',\n",
       " \"Shortfin mako shark, 2.3 m [7.5'] \",\n",
       " 'bull shark',\n",
       " \"Tiger shark, 3.7 m [12']\",\n",
       " \"Blacktip reef shark, 1.5 m [5'] \",\n",
       " '2.6 m shark',\n",
       " \"Tiger shark, 6' \",\n",
       " \"Carpet shark, 5' \",\n",
       " 'Thresher shark',\n",
       " \"5.5 m to 6 m [18' to 20']  white shark\",\n",
       " \">3 m [10'] shark\",\n",
       " \"White shark, 2.1 m [7'] \",\n",
       " '\"a blue shark\"',\n",
       " \"Bull shark, 4' to 5'\",\n",
       " 'Bull shark, 1m ',\n",
       " 'Said to involve a 1 m  white shark, but thought  that it was more likely a blue shark',\n",
       " \"White shark, 1.7 m [5.5']\",\n",
       " 'sand shark',\n",
       " 'Goblin shark',\n",
       " \"7' shark\",\n",
       " \"Tiger shark, 4 m [13'] \",\n",
       " 'Bull shark, 2.7 m ',\n",
       " \"Blue shark, 8' [2.4 m], 500-lb \",\n",
       " '500-lb shark',\n",
       " \"60 cm to 90 cm [2' to 3'] blacktip or spinner shark\",\n",
       " ' ',\n",
       " 'Sandtiger shark',\n",
       " \"4.3 m [14'] shark\",\n",
       " \"1.8 m [6'] Caribbean reef shark\",\n",
       " '2m shark',\n",
       " '3.6 m [11\\'9\"] white shark',\n",
       " \"1.5 m to 2.1 m  [5' to 7'] shark\",\n",
       " \"4 m [13'] shark\",\n",
       " 'Grey nurse shark, 3m',\n",
       " \"20' shark\",\n",
       " \"1.9 m [6.5'] bull shark\",\n",
       " \"4' tp 5' shark\",\n",
       " \"Tiger shark, 1.5 m [5'] \",\n",
       " \"White shark, 3.7 m to 4.6 m [12' to 15'] \",\n",
       " 'said to involve a tiger shark',\n",
       " \"Blacktip shark, 4'\",\n",
       " 'Possibly a bull shark or tiger shark',\n",
       " '3.5 m [11.5\\'] female white shark named \"Notchfin\"',\n",
       " 'A small shark',\n",
       " \"Bronze whaler shark,3.7 m [12'] \",\n",
       " \"Mako shark, 1.5 m [5'] \",\n",
       " 'Tiger shark, 3m',\n",
       " \"1.2 m [4'] shark hindered recovery of body\",\n",
       " \"Nurse shark, 3', 20-lb \",\n",
       " 'Possibly a sandbar shark or small blacktip shark',\n",
       " 'Shark involvement prior to death remains unconfirmed',\n",
       " \"Bull shark, 2.3 m [7.5'] \",\n",
       " \"Mako shark, 3 m [10'], 200-kg [441-lb] \",\n",
       " 'Small shark',\n",
       " \"Tiger shark, 2.4 m [8'] \",\n",
       " 'Mako shark, 90kg',\n",
       " '\"The fish was harpooned, dried, and presented to the sailor, who went round Europe exhibiting it  It was said to be 20 feet long.',\n",
       " \"Grey nurse shark, 8'\",\n",
       " 'Said to involve a 1.5 m shark',\n",
       " \"Bull shark, 2.7 m [9'] was captured & dragged on the sand where tissue taken from Eggink was found in its gut. Species identification  was made by S. Springer based on 4 photographs of the shark. \",\n",
       " \"White shark, 3 m [10'], tooth fragment from wounds identified as that of a white shark\",\n",
       " \"13' shark\",\n",
       " '2 sharks',\n",
       " \"Tiger shark, 3 m to 4.9 m [10' to 16'] \",\n",
       " \">2.4 m [8'] white shark\",\n",
       " 'Porbeagle or white shark',\n",
       " 'Reported to involve a white shark',\n",
       " ' a small shark',\n",
       " \"Bull shark, 4' to 5' \",\n",
       " \"White shark, 4 m [13'] rk\",\n",
       " 'Tiger shark, 2.7 m [9\\'5\"], 364-lb',\n",
       " '4.5 m shark',\n",
       " 'White shark, identified by tooth fragments in surfboard',\n",
       " 'Thought to involve a juvenile hammerhead shark',\n",
       " 'White shark, 5m ',\n",
       " \"2.1 m  [7'] bull shark\",\n",
       " 'Tooth fragments recovered from hull',\n",
       " \"Mr. Burgess of ISAF announced the injury was the bite of a 1.8 m [6'], 2- to 3-year old white shark. Subsequent investigation revealed there was  no shark involvement in this incident\",\n",
       " 'White shark, 4 m white shark',\n",
       " 'Grey reef shark, Identified as C. menisorrah, by E.S. Hobson, F. Mautin & E.S. Reese (1961)',\n",
       " 'White shark, 2m to 3 m',\n",
       " 'Wobbegongs',\n",
       " 'Tiger sharks in area',\n",
       " \"Shovelnose shark, 6 m [20'] \",\n",
       " \"1.8 m [6'], 180-lb shark\",\n",
       " \"6' shark\",\n",
       " '20 kg shark',\n",
       " \"Tiger shark, less than 10'\",\n",
       " 'Galapagos shark',\n",
       " '\"sand\" shark',\n",
       " \"Tiger shark, 2.5 m [8.25'] \",\n",
       " \"White shark, 5 m [16.5'], identified by Dr. W. I. Follett on tooth marks\",\n",
       " \"2.7 m [9'] bull shark, identified by Capt. W. Gray\",\n",
       " \"2.7 m [9']shark\",\n",
       " \"Bronze whaler shark, 1.8 m [6'] \",\n",
       " 'Believed to involve a 2.8 m [9\\'3\"] white shark',\n",
       " \"White shark, 10 '\",\n",
       " \"1' to 2' shark\",\n",
       " '1.5 m shark',\n",
       " \"Blacktip shark, 5'\",\n",
       " \"Thought to involve a 2.4 m [8'] lemon shark; two 2.4 m lemon sharks caught within 100 yds of the site a week prior to & a week after this incident\",\n",
       " 'Thought to involve an oceanic whitetip shark or a white shark',\n",
       " \"Raggedtooth shark, 1.5 m [5'] \",\n",
       " '\"Tintorero\"',\n",
       " '\"juvenile shark\"',\n",
       " \"Lemon shark, 1.8 m to 2.4 m [6' to 8'], tooth fragment recovered\",\n",
       " '4\\' \"ground shark\"',\n",
       " \"1.2 m to 1.5 m [4' to 5'] shark\",\n",
       " \"1.8 m [6'] shark \",\n",
       " 'White shark, 2000-lb',\n",
       " \"White shark, 3 m to 4 m [10' to 13'] \",\n",
       " 'Tiger shark, 3m ',\n",
       " \"Horn shar,k Heterodontus francisci, 1.2 m [4'] \",\n",
       " '<1.5 m shark',\n",
       " \"White shark, 4.3 m [14'] \",\n",
       " 'Bronze whaler shark, 3m',\n",
       " 'reef shark?',\n",
       " \"White shark, 10' to 12' \",\n",
       " 'Though to involve a white shark',\n",
       " \"6 m [20']  shark\",\n",
       " \"Tiger shark, 3.4 m [11'] captured\",\n",
       " 'White shark, 4.2 m [13\\'9\"] ',\n",
       " '2 m to 3 m shark',\n",
       " \"Grey nurse shark, 10' \",\n",
       " 'Possibly a tiger shark',\n",
       " \"12' white shark\",\n",
       " \"2.4 m [8']  shark\",\n",
       " 'White shark, identified by tooth pattern',\n",
       " '2 small bull sharks',\n",
       " \"Blacktip shark, 1.2 m to 1.8 m [4' to 6'] \",\n",
       " '250-lb \"dog shark\"',\n",
       " \"Said to involve a 6 m to 7 m [20' to 23'] white shark\",\n",
       " \"Less than 1.2 m [4']\",\n",
       " 'Grey reef shark, 2 m',\n",
       " '8-lb shark',\n",
       " \"1.8 m [6'] sandtiger shark\",\n",
       " \"White shark, 5.2 m [17'], 2500-lb \",\n",
       " \"2 m [6.75'] shark\",\n",
       " \"0.9 m  to 1.2 m [3' to 4'] shark\",\n",
       " 'Wobbegong, 2m',\n",
       " \" Bull shark, 5'\",\n",
       " \"1.8 m [6']  shark\",\n",
       " '\"a school of sharks\"',\n",
       " \"12' tiger shark\",\n",
       " \"1.5 m to 1.8 m  [5' to 6'] shark\",\n",
       " \"1.8 to 2.1 m [6' to 7'] shark\",\n",
       " \"3' to 3.5' shark\",\n",
       " \"3.7 to 4.6 m [12' to 15'] sharks\",\n",
       " '1.8 m shark',\n",
       " 'Tiger shark, 4.5 m [14\\'9\"]',\n",
       " \"Mako shark, 1.9 m [6.5'] \",\n",
       " '3 m white shark',\n",
       " 'White shark, 3.5m',\n",
       " 'Tiger shark, 4 m ',\n",
       " \">1.8 m [6'] shark\",\n",
       " 'Raggedtooth shark, >1 m ',\n",
       " \"1.2 m  [4'] shark\",\n",
       " \"3 m to 4 m [10' to 13'] white shark\",\n",
       " \"Tiger shark, 13'\",\n",
       " 'Lemon shark, 1.8 m [6\\'] male, N. breviostris, identified by W.A. Stark II, later the same day a 6\\'8\" pregnant female lemon shark bit the bow of the boat',\n",
       " 'Raggedtooth shark, 2.5 m to 3 m ',\n",
       " 'White shark, species identity confirmed by tooth pattern',\n",
       " \"Tiger shark, 15' female\",\n",
       " \"4.9 m to 5.5 m [16' to 18'] white shark\",\n",
       " \"Alleged to involve a White shark, 7.6 m [25'] \",\n",
       " \"1.5 m to 1.8 m [5' to 6'] sandbar shark\",\n",
       " \"White shark, 4 to 5 m [13' to 16.5'] \",\n",
       " 'Lemon shark, >1 m ',\n",
       " 'Lemon shark, 0.5 m',\n",
       " \"Lemon shark, 1.5 m [5'], identified  by the surfer\",\n",
       " 'White shark, 4.5 m  to 6 m [14\\'9\" to 20\\'] according to witnesses',\n",
       " \"Porbeagle shark, 8' \",\n",
       " \"2.7 m [9']  shark\",\n",
       " \" 1.5 m [5'] dusky shark\",\n",
       " \"1.5 m [5'] shark, either a bronze whaler or a grey nurse shark\",\n",
       " '5 m shark',\n",
       " \"Blacktip shark, 1.8 m [6'] \",\n",
       " \"1.5 m to 2.1 m [5' to 7'] shark, possibly a mako shark\",\n",
       " 'Whtietip reef shark',\n",
       " \">6.7 m [22']  shark\",\n",
       " \"3 m to 4.5 m [10' to 15'] white shark\",\n",
       " \"Silky shark, 6.5'\",\n",
       " \"3 m to 4.3 m [10' to 14'] shark\",\n",
       " \"White shark, 2.7 m [9'], 280-lb \",\n",
       " \"Mako shark, 3 m [10'] \",\n",
       " 'Bull shark',\n",
       " '43\" shark',\n",
       " \"Blacktip shark, 4' to 5'\",\n",
       " \"Possibly a  1.8 m [6'] Zambezi shark\",\n",
       " 'Copper shark, 50-kg [110-b] ',\n",
       " 'Wobbegong shark, 1m',\n",
       " '2 m hammerhead',\n",
       " \"1.8 m to 2.4 m [6' to 8'] shark, tooth fragments recovered \",\n",
       " 'Bull shark, 1.8m',\n",
       " 'White shark, 2.5m',\n",
       " 'White shark, based on 2 teeth retrieved from rudder',\n",
       " 'Dusky shark, 2m',\n",
       " 'Nurse shark, 1m ',\n",
       " \"1.8 m [6'] carpet shark\",\n",
       " 'White shark, 2.7 m',\n",
       " \"numerous dusky sharks & a 3 m to 4.6 m [10' to 15'] to  tiger shark\",\n",
       " \"1.5 m [5']  shark\",\n",
       " 'Raggedtooth shark, 2.5m ',\n",
       " \"5' blue shark\",\n",
       " \"5.5' to 6' shark\",\n",
       " \"0.9 m [3'] shark,  probably a blacktip or spinner shark\",\n",
       " 'White shark according to tooth pattern and witnesses',\n",
       " \"3 m [10'] white shark (Tooth  recovered from boat)\",\n",
       " \"3 m [10'] sharks\",\n",
       " \"2.1 m to 2.4 m [7' to 8'] shark\",\n",
       " \"Bronze whaler shark, 6'\",\n",
       " 'A \\x93small\\x94 shark',\n",
       " \"Bull shark, 9' to 10'\",\n",
       " \"3.7 m [12'] shark \",\n",
       " \"White shark, 11' to 12'\",\n",
       " 'A 10-year-old 94-pound pregnant blacktip reef shark',\n",
       " \"Nurse shark, 2.1 m [7']\",\n",
       " '2 m [6\\'9\"] shark',\n",
       " ...}"
      ]
     },
     "execution_count": 72,
     "metadata": {},
     "output_type": "execute_result"
    }
   ],
   "source": [
    "set(df[\"Species\"])"
   ]
  },
  {
   "cell_type": "code",
   "execution_count": 73,
   "id": "b9db6223",
   "metadata": {
    "ExecuteTime": {
     "end_time": "2021-11-06T08:36:44.850156Z",
     "start_time": "2021-11-06T08:36:44.835157Z"
    },
    "slideshow": {
     "slide_type": "subslide"
    }
   },
   "outputs": [
    {
     "data": {
      "text/plain": [
       "White shark                                      161\n",
       "Shark involvement not confirmed                   80\n",
       "Tiger shark                                       68\n",
       "Bull shark                                        52\n",
       "6' shark                                          40\n",
       "                                                ... \n",
       "possibly a porbeagle shark                         1\n",
       "White shark, 5' k                                  1\n",
       "Goblin shark                                       1\n",
       "6' shark, possibly a blactip or spinner shark      1\n",
       ">2.5 m [8.25'] white shark                         1\n",
       "Name: Species, Length: 1538, dtype: int64"
      ]
     },
     "execution_count": 73,
     "metadata": {},
     "output_type": "execute_result"
    }
   ],
   "source": [
    "#Contamos especies de tiburones\n",
    "df[\"Species\"].value_counts()"
   ]
  },
  {
   "cell_type": "markdown",
   "id": "48d47a3e",
   "metadata": {
    "slideshow": {
     "slide_type": "subslide"
    }
   },
   "source": [
    "#### Conclusion y output"
   ]
  },
  {
   "cell_type": "markdown",
   "id": "9c9ea9cb",
   "metadata": {
    "slideshow": {
     "slide_type": "fragment"
    }
   },
   "source": [
    "Mas de la mitad de los registros son valores nulos, del resto hay demasiada variacion. Una unica categoria con mas de 100 valores, no lo veo estadisticamente significativo. Hay demasiada variacion en la forma de escribirlo y en la informacion que proporcionan, por lo que decido borrar la columna"
   ]
  },
  {
   "cell_type": "code",
   "execution_count": 74,
   "id": "475a0373",
   "metadata": {
    "ExecuteTime": {
     "end_time": "2021-11-06T08:36:44.866155Z",
     "start_time": "2021-11-06T08:36:44.852167Z"
    },
    "slideshow": {
     "slide_type": "fragment"
    }
   },
   "outputs": [],
   "source": [
    "df.drop(\"Species\",axis=1,inplace=True)"
   ]
  },
  {
   "cell_type": "markdown",
   "id": "a1c22f17",
   "metadata": {
    "slideshow": {
     "slide_type": "slide"
    }
   },
   "source": [
    "### Columnas: \"Date\",\"Year\",\"Time\""
   ]
  },
  {
   "cell_type": "markdown",
   "id": "2786eab2",
   "metadata": {
    "slideshow": {
     "slide_type": "subslide"
    }
   },
   "source": [
    "#### Analisis de las columnas, cosas en comun y diferencias"
   ]
  },
  {
   "cell_type": "code",
   "execution_count": 75,
   "id": "fc59c49d",
   "metadata": {
    "ExecuteTime": {
     "end_time": "2021-11-06T08:36:44.882155Z",
     "start_time": "2021-11-06T08:36:44.867156Z"
    },
    "slideshow": {
     "slide_type": "fragment"
    }
   },
   "outputs": [
    {
     "data": {
      "text/html": [
       "<div>\n",
       "<style scoped>\n",
       "    .dataframe tbody tr th:only-of-type {\n",
       "        vertical-align: middle;\n",
       "    }\n",
       "\n",
       "    .dataframe tbody tr th {\n",
       "        vertical-align: top;\n",
       "    }\n",
       "\n",
       "    .dataframe thead th {\n",
       "        text-align: right;\n",
       "    }\n",
       "</style>\n",
       "<table border=\"1\" class=\"dataframe\">\n",
       "  <thead>\n",
       "    <tr style=\"text-align: right;\">\n",
       "      <th></th>\n",
       "      <th>Date</th>\n",
       "      <th>Year</th>\n",
       "      <th>Time</th>\n",
       "    </tr>\n",
       "    <tr>\n",
       "      <th>Casos</th>\n",
       "      <th></th>\n",
       "      <th></th>\n",
       "      <th></th>\n",
       "    </tr>\n",
       "  </thead>\n",
       "  <tbody>\n",
       "    <tr>\n",
       "      <th>1</th>\n",
       "      <td>1845-1853</td>\n",
       "      <td>0</td>\n",
       "      <td>NaN</td>\n",
       "    </tr>\n",
       "    <tr>\n",
       "      <th>2</th>\n",
       "      <td>1883-1889</td>\n",
       "      <td>0</td>\n",
       "      <td>NaN</td>\n",
       "    </tr>\n",
       "    <tr>\n",
       "      <th>3</th>\n",
       "      <td>1900-1905</td>\n",
       "      <td>0</td>\n",
       "      <td>NaN</td>\n",
       "    </tr>\n",
       "    <tr>\n",
       "      <th>4</th>\n",
       "      <td>Before 1903</td>\n",
       "      <td>0</td>\n",
       "      <td>NaN</td>\n",
       "    </tr>\n",
       "    <tr>\n",
       "      <th>5</th>\n",
       "      <td>Before 1903</td>\n",
       "      <td>0</td>\n",
       "      <td>NaN</td>\n",
       "    </tr>\n",
       "  </tbody>\n",
       "</table>\n",
       "</div>"
      ],
      "text/plain": [
       "              Date  Year Time\n",
       "Casos                        \n",
       "1        1845-1853     0  NaN\n",
       "2        1883-1889     0  NaN\n",
       "3        1900-1905     0  NaN\n",
       "4      Before 1903     0  NaN\n",
       "5      Before 1903     0  NaN"
      ]
     },
     "execution_count": 75,
     "metadata": {},
     "output_type": "execute_result"
    }
   ],
   "source": [
    "# Vamos con las columnas de Date,year y time\n",
    "#Objetivo unificar a una sola tabla\n",
    "df[[\"Date\",\"Year\", \"Time\"]].head(5)"
   ]
  },
  {
   "cell_type": "code",
   "execution_count": 76,
   "id": "1f37482e",
   "metadata": {
    "ExecuteTime": {
     "end_time": "2021-11-06T08:36:44.898156Z",
     "start_time": "2021-11-06T08:36:44.883156Z"
    },
    "scrolled": true,
    "slideshow": {
     "slide_type": "fragment"
    }
   },
   "outputs": [
    {
     "data": {
      "text/plain": [
       "Date       0\n",
       "Year       0\n",
       "Time    3213\n",
       "dtype: int64"
      ]
     },
     "execution_count": 76,
     "metadata": {},
     "output_type": "execute_result"
    }
   ],
   "source": [
    "#Valores nulos:\n",
    "df[[\"Date\",\"Year\", \"Time\"]].isna().sum()"
   ]
  },
  {
   "cell_type": "code",
   "execution_count": 77,
   "id": "1d54b1a8",
   "metadata": {
    "ExecuteTime": {
     "end_time": "2021-11-06T08:36:44.913156Z",
     "start_time": "2021-11-06T08:36:44.899157Z"
    },
    "slideshow": {
     "slide_type": "subslide"
    }
   },
   "outputs": [
    {
     "data": {
      "text/plain": [
       "Afternoon                  174\n",
       "11h00                      123\n",
       "12h00                      107\n",
       "Morning                    107\n",
       "15h00                      100\n",
       "                          ... \n",
       "17h51                        1\n",
       "Before 07h00                 1\n",
       "07h10                        1\n",
       "Early Morning                1\n",
       "Between 05h00 and 08h00      1\n",
       "Name: Time, Length: 357, dtype: int64"
      ]
     },
     "execution_count": 77,
     "metadata": {},
     "output_type": "execute_result"
    }
   ],
   "source": [
    "df[\"Time\"].value_counts()"
   ]
  },
  {
   "cell_type": "markdown",
   "id": "17ea7d4a",
   "metadata": {
    "slideshow": {
     "slide_type": "fragment"
    }
   },
   "source": [
    "La columna time contiene demasiados valores nulos y los que aparecen son poco precisos"
   ]
  },
  {
   "cell_type": "markdown",
   "id": "52b6e2b5",
   "metadata": {
    "slideshow": {
     "slide_type": "subslide"
    }
   },
   "source": [
    "#### Agrupacion de las tres columnas en una"
   ]
  },
  {
   "cell_type": "code",
   "execution_count": 78,
   "id": "ccfe7b73",
   "metadata": {
    "ExecuteTime": {
     "end_time": "2021-11-06T08:36:44.928305Z",
     "start_time": "2021-11-06T08:36:44.914156Z"
    },
    "slideshow": {
     "slide_type": "fragment"
    }
   },
   "outputs": [],
   "source": [
    "#Con tantos valor nulo en Time, la borramos\n",
    "df.drop(\"Time\",axis=1,inplace=True)"
   ]
  },
  {
   "cell_type": "code",
   "execution_count": 79,
   "id": "44458daf",
   "metadata": {
    "ExecuteTime": {
     "end_time": "2021-11-06T08:36:44.943421Z",
     "start_time": "2021-11-06T08:36:44.929422Z"
    },
    "slideshow": {
     "slide_type": "fragment"
    }
   },
   "outputs": [
    {
     "data": {
      "text/plain": [
       "5128"
      ]
     },
     "execution_count": 79,
     "metadata": {},
     "output_type": "execute_result"
    }
   ],
   "source": [
    "#Analizamos la variable Date\n",
    "df[\"Date\"].nunique()"
   ]
  },
  {
   "cell_type": "code",
   "execution_count": 80,
   "id": "013139be",
   "metadata": {
    "ExecuteTime": {
     "end_time": "2021-11-06T08:36:44.959422Z",
     "start_time": "2021-11-06T08:36:44.944422Z"
    },
    "slideshow": {
     "slide_type": "subslide"
    }
   },
   "outputs": [
    {
     "data": {
      "text/plain": [
       "Casos\n",
       "5436               18-Jun-12\n",
       "4123               30-Oct-99\n",
       "3876               17-Sep-95\n",
       "1744               01-May-50\n",
       "3941               05-Oct-96\n",
       "1735    Reported 12-Jan-1950\n",
       "3262               08-Jan-83\n",
       "2642               02-Jun-66\n",
       "2052               19-Feb-58\n",
       "Name: Date, dtype: object"
      ]
     },
     "execution_count": 80,
     "metadata": {},
     "output_type": "execute_result"
    }
   ],
   "source": [
    "#la columna Date es tipo objeto con demasiados valores unicos, decido agruparla en la columna Año ya que no hay suficientes registros con los dias y los meses\n",
    "df.Date.sample(n=9)"
   ]
  },
  {
   "cell_type": "code",
   "execution_count": 81,
   "id": "c58687f4",
   "metadata": {
    "ExecuteTime": {
     "end_time": "2021-11-06T08:36:44.974423Z",
     "start_time": "2021-11-06T08:36:44.960423Z"
    },
    "scrolled": true,
    "slideshow": {
     "slide_type": "fragment"
    }
   },
   "outputs": [
    {
     "data": {
      "text/plain": [
       "2015    139\n",
       "2011    128\n",
       "2014    125\n",
       "0       124\n",
       "2013    122\n",
       "       ... \n",
       "1854      1\n",
       "1850      1\n",
       "1846      1\n",
       "1834      1\n",
       "1554      1\n",
       "Name: Year, Length: 232, dtype: int64"
      ]
     },
     "execution_count": 81,
     "metadata": {},
     "output_type": "execute_result"
    }
   ],
   "source": [
    "#Esta columna ya son valores int, el problema son los casos ocurridos en el 0\n",
    "df.Year.value_counts()"
   ]
  },
  {
   "cell_type": "markdown",
   "id": "64d97dac",
   "metadata": {
    "slideshow": {
     "slide_type": "subslide"
    }
   },
   "source": [
    "**La cantidad de valores nulos y de valores diferentes de las columna Time y Date no lo veo aprovechable, me quedo con los años**"
   ]
  },
  {
   "cell_type": "code",
   "execution_count": 82,
   "id": "e5dce8a4",
   "metadata": {
    "ExecuteTime": {
     "end_time": "2021-11-06T08:36:44.990422Z",
     "start_time": "2021-11-06T08:36:44.975422Z"
    },
    "code_folding": [],
    "slideshow": {
     "slide_type": "fragment"
    }
   },
   "outputs": [],
   "source": [
    "#Opciones con los años 0: Borrar esos registros, poner la media o la mediana\n",
    "mediana=df.Year.median()\n",
    "#elijo la mediana ya que creo que es mas correcto"
   ]
  },
  {
   "cell_type": "code",
   "execution_count": 83,
   "id": "07f023b3",
   "metadata": {
    "ExecuteTime": {
     "end_time": "2021-11-06T08:36:45.006423Z",
     "start_time": "2021-11-06T08:36:44.992423Z"
    },
    "slideshow": {
     "slide_type": "fragment"
    }
   },
   "outputs": [],
   "source": [
    "#Creo una funcion para que me cambie los valores 0 por la mediana de los años\n",
    "def años(año):\n",
    "    if año==0:\n",
    "        return int(mediana)\n",
    "    else:\n",
    "        return año\n"
   ]
  },
  {
   "cell_type": "code",
   "execution_count": 84,
   "id": "3004c518",
   "metadata": {
    "ExecuteTime": {
     "end_time": "2021-11-06T08:36:45.022423Z",
     "start_time": "2021-11-06T08:36:45.007422Z"
    },
    "slideshow": {
     "slide_type": "subslide"
    }
   },
   "outputs": [],
   "source": [
    "#aplico la funcion que cambiara los valores 0 al valor de la mediana\n",
    "df[\"Year\"]=df[\"Year\"].apply(años)"
   ]
  },
  {
   "cell_type": "code",
   "execution_count": 85,
   "id": "10303283",
   "metadata": {
    "ExecuteTime": {
     "end_time": "2021-11-06T08:36:45.038572Z",
     "start_time": "2021-11-06T08:36:45.023422Z"
    },
    "slideshow": {
     "slide_type": "fragment"
    }
   },
   "outputs": [
    {
     "data": {
      "text/plain": [
       "1975    173\n",
       "2015    139\n",
       "2011    128\n",
       "2014    125\n",
       "2013    122\n",
       "       ... \n",
       "1850      1\n",
       "1846      1\n",
       "1834      1\n",
       "1822      1\n",
       "1554      1\n",
       "Name: Year, Length: 231, dtype: int64"
      ]
     },
     "execution_count": 85,
     "metadata": {},
     "output_type": "execute_result"
    }
   ],
   "source": [
    "df.Year.value_counts()"
   ]
  },
  {
   "cell_type": "code",
   "execution_count": 86,
   "id": "9d918b93",
   "metadata": {
    "ExecuteTime": {
     "end_time": "2021-11-06T08:36:45.054094Z",
     "start_time": "2021-11-06T08:36:45.040094Z"
    },
    "slideshow": {
     "slide_type": "fragment"
    }
   },
   "outputs": [],
   "source": [
    "#elimino la columna Date\n",
    "df.drop(\"Date\",axis=1,inplace=True)"
   ]
  },
  {
   "cell_type": "markdown",
   "id": "af6f425d",
   "metadata": {
    "ExecuteTime": {
     "end_time": "2021-10-30T17:27:32.779618Z",
     "start_time": "2021-10-30T17:27:32.768982Z"
    },
    "slideshow": {
     "slide_type": "slide"
    }
   },
   "source": [
    "### Columnas: \"Name\" y \"Sex \""
   ]
  },
  {
   "cell_type": "markdown",
   "id": "7f125e0e",
   "metadata": {
    "slideshow": {
     "slide_type": "subslide"
    }
   },
   "source": [
    "#### Analisis inicial de las columnas"
   ]
  },
  {
   "cell_type": "code",
   "execution_count": 87,
   "id": "090e221e",
   "metadata": {
    "ExecuteTime": {
     "end_time": "2021-11-06T08:36:45.069342Z",
     "start_time": "2021-11-06T08:36:45.055093Z"
    },
    "slideshow": {
     "slide_type": "fragment"
    }
   },
   "outputs": [
    {
     "data": {
      "text/plain": [
       "Index(['Year', 'Type', 'Country', 'Area', 'Location', 'Activity', 'Name',\n",
       "       'Sex ', 'Age', 'Injury', 'Fatal (Y/N)', 'Investigator or Source',\n",
       "       'Pdf'],\n",
       "      dtype='object')"
      ]
     },
     "execution_count": 87,
     "metadata": {},
     "output_type": "execute_result"
    }
   ],
   "source": [
    "df.columns"
   ]
  },
  {
   "cell_type": "code",
   "execution_count": 88,
   "id": "3596d616",
   "metadata": {
    "ExecuteTime": {
     "end_time": "2021-11-06T08:36:45.084342Z",
     "start_time": "2021-11-06T08:36:45.070343Z"
    },
    "slideshow": {
     "slide_type": "fragment"
    }
   },
   "outputs": [],
   "source": [
    "#Primero le quito el espacion al nombre de la columna \"Sex \"\n",
    "df.columns=(['Year', 'Type', 'Country', 'Area', 'Location', 'Activity', 'Name',\n",
    "       'Sex','Age', 'Injury', 'Fatal (Y/N)', 'Investigator or Source',\n",
    "       'Pdf'])"
   ]
  },
  {
   "cell_type": "code",
   "execution_count": 89,
   "id": "aa44d539",
   "metadata": {
    "ExecuteTime": {
     "end_time": "2021-11-06T08:36:45.100109Z",
     "start_time": "2021-11-06T08:36:45.085343Z"
    },
    "slideshow": {
     "slide_type": "fragment"
    }
   },
   "outputs": [
    {
     "data": {
      "text/plain": [
       "Sex     567\n",
       "Name    200\n",
       "dtype: int64"
      ]
     },
     "execution_count": 89,
     "metadata": {},
     "output_type": "execute_result"
    }
   ],
   "source": [
    "df[[\"Sex\",\"Name\"]].isna().sum()"
   ]
  },
  {
   "cell_type": "code",
   "execution_count": 90,
   "id": "06b6a1ac",
   "metadata": {
    "ExecuteTime": {
     "end_time": "2021-11-06T08:36:45.116109Z",
     "start_time": "2021-11-06T08:36:45.101112Z"
    },
    "slideshow": {
     "slide_type": "subslide"
    }
   },
   "outputs": [
    {
     "data": {
      "text/plain": [
       "5009"
      ]
     },
     "execution_count": 90,
     "metadata": {},
     "output_type": "execute_result"
    }
   ],
   "source": [
    "#Analisis de la columna name\n",
    "df[\"Name\"].nunique()"
   ]
  },
  {
   "cell_type": "code",
   "execution_count": 91,
   "id": "b761cc82",
   "metadata": {
    "ExecuteTime": {
     "end_time": "2021-11-06T08:36:45.131748Z",
     "start_time": "2021-11-06T08:36:45.117751Z"
    },
    "slideshow": {
     "slide_type": "fragment"
    }
   },
   "outputs": [
    {
     "data": {
      "text/plain": [
       "Casos\n",
       "1116                           Lewis\n",
       "5172                            male\n",
       "1531                         2 males\n",
       "4270                       Amir Badi\n",
       "896                     Warren Tooze\n",
       "5848                 Bryan Liebetrau\n",
       "5415                  Michael Demasi\n",
       "3085    Vanuatu  Weekly Hebdomadaire\n",
       "Name: Name, dtype: object"
      ]
     },
     "execution_count": 91,
     "metadata": {},
     "output_type": "execute_result"
    }
   ],
   "source": [
    "#Demasiada variedad en el formato y en las anotaciones, otra columna que borramos y agruparemos por sexo\n",
    "df[\"Name\"].sample(n=8)"
   ]
  },
  {
   "cell_type": "code",
   "execution_count": 92,
   "id": "e46d2b5a",
   "metadata": {
    "ExecuteTime": {
     "end_time": "2021-11-06T08:36:45.147902Z",
     "start_time": "2021-11-06T08:36:45.132747Z"
    },
    "slideshow": {
     "slide_type": "subslide"
    }
   },
   "outputs": [
    {
     "data": {
      "text/plain": [
       "{'.', 'F', 'M', 'M ', 'N', 'lli', nan}"
      ]
     },
     "execution_count": 92,
     "metadata": {},
     "output_type": "execute_result"
    }
   ],
   "source": [
    "#Vamos a analizar los valores\n",
    "set(df[\"Sex\"])"
   ]
  },
  {
   "cell_type": "code",
   "execution_count": 93,
   "id": "deefc880",
   "metadata": {
    "ExecuteTime": {
     "end_time": "2021-11-06T08:36:45.162563Z",
     "start_time": "2021-11-06T08:36:45.149013Z"
    },
    "scrolled": true,
    "slideshow": {
     "slide_type": "fragment"
    }
   },
   "outputs": [
    {
     "data": {
      "text/plain": [
       "M      4835\n",
       "F       585\n",
       "M         2\n",
       "N         1\n",
       ".         1\n",
       "lli       1\n",
       "Name: Sex, dtype: int64"
      ]
     },
     "execution_count": 93,
     "metadata": {},
     "output_type": "execute_result"
    }
   ],
   "source": [
    "df[\"Sex\"].value_counts()\n",
    "#Homogenizamos los M, y el resto "
   ]
  },
  {
   "cell_type": "markdown",
   "id": "792730d3",
   "metadata": {
    "slideshow": {
     "slide_type": "subslide"
    }
   },
   "source": [
    "####  Conclusiones y cambios"
   ]
  },
  {
   "cell_type": "code",
   "execution_count": 94,
   "id": "e46be974",
   "metadata": {
    "ExecuteTime": {
     "end_time": "2021-11-06T08:36:45.178719Z",
     "start_time": "2021-11-06T08:36:45.163564Z"
    },
    "slideshow": {
     "slide_type": "fragment"
    }
   },
   "outputs": [],
   "source": [
    "#Los M con espacio los agrupo en \"M\", los valores \"lli\",\".\" y \"N\" asi como los valores nulos iran a ND(No determinado)\n",
    "def genero(x):\n",
    "    if x==\"M \":\n",
    "        return \"M\"\n",
    "    elif x==\"M\" or x==\"F\":\n",
    "        return x\n",
    "    else:\n",
    "        return \"ND\"\n",
    "    \n"
   ]
  },
  {
   "cell_type": "code",
   "execution_count": 95,
   "id": "fbe1f626",
   "metadata": {
    "ExecuteTime": {
     "end_time": "2021-11-06T08:36:45.193744Z",
     "start_time": "2021-11-06T08:36:45.179756Z"
    },
    "slideshow": {
     "slide_type": "fragment"
    }
   },
   "outputs": [],
   "source": [
    "df[\"Sex\"]=df[\"Sex\"].apply(genero)"
   ]
  },
  {
   "cell_type": "code",
   "execution_count": 96,
   "id": "aa15916c",
   "metadata": {
    "ExecuteTime": {
     "end_time": "2021-11-06T08:36:45.209745Z",
     "start_time": "2021-11-06T08:36:45.194744Z"
    },
    "slideshow": {
     "slide_type": "fragment"
    }
   },
   "outputs": [],
   "source": [
    "#Borramos la columna name\n",
    "df.drop(\"Name\",axis=1,inplace=True)"
   ]
  },
  {
   "cell_type": "markdown",
   "id": "f57466fa",
   "metadata": {
    "slideshow": {
     "slide_type": "slide"
    }
   },
   "source": [
    "### Columnas: \"Injury\" y \"Fatal (Y/N) \""
   ]
  },
  {
   "cell_type": "markdown",
   "id": "038d9d89",
   "metadata": {
    "slideshow": {
     "slide_type": "subslide"
    }
   },
   "source": [
    "#### Analisis inicial de las columnas"
   ]
  },
  {
   "cell_type": "code",
   "execution_count": 97,
   "id": "5cf0eba6",
   "metadata": {
    "ExecuteTime": {
     "end_time": "2021-11-06T08:36:45.225168Z",
     "start_time": "2021-11-06T08:36:45.210744Z"
    },
    "slideshow": {
     "slide_type": "fragment"
    }
   },
   "outputs": [
    {
     "data": {
      "text/html": [
       "<div>\n",
       "<style scoped>\n",
       "    .dataframe tbody tr th:only-of-type {\n",
       "        vertical-align: middle;\n",
       "    }\n",
       "\n",
       "    .dataframe tbody tr th {\n",
       "        vertical-align: top;\n",
       "    }\n",
       "\n",
       "    .dataframe thead th {\n",
       "        text-align: right;\n",
       "    }\n",
       "</style>\n",
       "<table border=\"1\" class=\"dataframe\">\n",
       "  <thead>\n",
       "    <tr style=\"text-align: right;\">\n",
       "      <th></th>\n",
       "      <th>Injury</th>\n",
       "      <th>Fatal (Y/N)</th>\n",
       "    </tr>\n",
       "    <tr>\n",
       "      <th>Casos</th>\n",
       "      <th></th>\n",
       "      <th></th>\n",
       "    </tr>\n",
       "  </thead>\n",
       "  <tbody>\n",
       "    <tr>\n",
       "      <th>163</th>\n",
       "      <td>human remains (male) found in sharks gut</td>\n",
       "      <td>Y</td>\n",
       "    </tr>\n",
       "    <tr>\n",
       "      <th>3032</th>\n",
       "      <td>Shark following hooked fish, rammed &amp; holed boat</td>\n",
       "      <td>N</td>\n",
       "    </tr>\n",
       "    <tr>\n",
       "      <th>3684</th>\n",
       "      <td>Minor bruises</td>\n",
       "      <td>N</td>\n",
       "    </tr>\n",
       "    <tr>\n",
       "      <th>5165</th>\n",
       "      <td>Lacerations to right hand</td>\n",
       "      <td>N</td>\n",
       "    </tr>\n",
       "    <tr>\n",
       "      <th>3200</th>\n",
       "      <td>Bite to face</td>\n",
       "      <td>N</td>\n",
       "    </tr>\n",
       "  </tbody>\n",
       "</table>\n",
       "</div>"
      ],
      "text/plain": [
       "                                                 Injury Fatal (Y/N)\n",
       "Casos                                                              \n",
       "163           human remains (male) found in sharks gut           Y\n",
       "3032   Shark following hooked fish, rammed & holed boat           N\n",
       "3684                                      Minor bruises           N\n",
       "5165                         Lacerations to right hand            N\n",
       "3200                                       Bite to face           N"
      ]
     },
     "execution_count": 97,
     "metadata": {},
     "output_type": "execute_result"
    }
   ],
   "source": [
    "#Vistazo de las columnas \"Injury\" y \"Fatal (Y/N)\"\n",
    "df[[\"Injury\",\"Fatal (Y/N)\"]].sample(n=5)"
   ]
  },
  {
   "cell_type": "code",
   "execution_count": 98,
   "id": "826073c8",
   "metadata": {
    "ExecuteTime": {
     "end_time": "2021-11-06T08:36:45.240697Z",
     "start_time": "2021-11-06T08:36:45.226208Z"
    },
    "slideshow": {
     "slide_type": "fragment"
    }
   },
   "outputs": [
    {
     "data": {
      "text/plain": [
       "Injury         27\n",
       "Fatal (Y/N)    19\n",
       "dtype: int64"
      ]
     },
     "execution_count": 98,
     "metadata": {},
     "output_type": "execute_result"
    }
   ],
   "source": [
    "df[[\"Injury\",\"Fatal (Y/N)\"]].isna().sum()"
   ]
  },
  {
   "cell_type": "code",
   "execution_count": 99,
   "id": "6a66a94f",
   "metadata": {
    "ExecuteTime": {
     "end_time": "2021-11-06T08:36:45.256402Z",
     "start_time": "2021-11-06T08:36:45.241697Z"
    },
    "slideshow": {
     "slide_type": "subslide"
    }
   },
   "outputs": [
    {
     "data": {
      "text/plain": [
       "Injury         3595\n",
       "Fatal (Y/N)       8\n",
       "dtype: int64"
      ]
     },
     "execution_count": 99,
     "metadata": {},
     "output_type": "execute_result"
    }
   ],
   "source": [
    "#cantidad de valores tiene cada uno\n",
    "df[[\"Injury\",\"Fatal (Y/N)\"]].nunique()"
   ]
  },
  {
   "cell_type": "code",
   "execution_count": 100,
   "id": "98d67eab",
   "metadata": {
    "ExecuteTime": {
     "end_time": "2021-11-06T08:36:45.271163Z",
     "start_time": "2021-11-06T08:36:45.257727Z"
    },
    "slideshow": {
     "slide_type": "fragment"
    }
   },
   "outputs": [
    {
     "data": {
      "text/plain": [
       "Injury                                                Fatal (Y/N)\n",
       "FATAL                                                 Y              727\n",
       "Survived                                              N               95\n",
       "Foot bitten                                           N               82\n",
       "No injury                                             N               73\n",
       "Leg bitten                                            N               71\n",
       "                                                                    ... \n",
       "Harassed by sharks but not injured by them            N                1\n",
       "Harpooned shark bit boat PROVOKED INCIDENT            N                1\n",
       "Harpooned shark bit his arm PROVOKED INCIDENT         N                1\n",
       "Harpooned shark bit his forehead PROVOKED INCIDENT    N                1\n",
       "Put hand through hatch, shark nearly bit off thumb  N                1\n",
       "Length: 3596, dtype: int64"
      ]
     },
     "execution_count": 100,
     "metadata": {},
     "output_type": "execute_result"
    }
   ],
   "source": [
    "#No veo relevante el tantas categorias en injury\n",
    "df[[\"Injury\",\"Fatal (Y/N)\"]].value_counts()"
   ]
  },
  {
   "cell_type": "markdown",
   "id": "3a10754e",
   "metadata": {
    "slideshow": {
     "slide_type": "subslide"
    }
   },
   "source": [
    "####  Conclusiones y cambios"
   ]
  },
  {
   "cell_type": "code",
   "execution_count": 101,
   "id": "1f492968",
   "metadata": {
    "ExecuteTime": {
     "end_time": "2021-11-06T08:36:45.286723Z",
     "start_time": "2021-11-06T08:36:45.272164Z"
    },
    "scrolled": true,
    "slideshow": {
     "slide_type": "fragment"
    }
   },
   "outputs": [
    {
     "data": {
      "text/plain": [
       "Casos\n",
       "4777    No injury, shark towed  surfer & board\n",
       "3291                    No injury to occupants\n",
       "4481                          Left foot bitten\n",
       "4517                           Left leg bitten\n",
       "5130            Laceration to shin of left leg\n",
       "Name: Injury, dtype: object"
      ]
     },
     "execution_count": 101,
     "metadata": {},
     "output_type": "execute_result"
    }
   ],
   "source": [
    "# No encuentro patron por lo que eliminaremos esta columna\n",
    "df[\"Injury\"].sample(n=5)"
   ]
  },
  {
   "cell_type": "code",
   "execution_count": 102,
   "id": "d5001afb",
   "metadata": {
    "ExecuteTime": {
     "end_time": "2021-11-06T08:36:45.302014Z",
     "start_time": "2021-11-06T08:36:45.287800Z"
    },
    "slideshow": {
     "slide_type": "fragment"
    }
   },
   "outputs": [
    {
     "data": {
      "text/plain": [
       "N          4315\n",
       "Y          1552\n",
       "UNKNOWN      94\n",
       " N            8\n",
       "n             1\n",
       "F             1\n",
       "#VALUE!       1\n",
       "N             1\n",
       "Name: Fatal (Y/N), dtype: int64"
      ]
     },
     "execution_count": 102,
     "metadata": {},
     "output_type": "execute_result"
    }
   ],
   "source": [
    "#vamos a ver los valores de fatal\n",
    "df[\"Fatal (Y/N)\"].value_counts()"
   ]
  },
  {
   "cell_type": "markdown",
   "id": "69cc261e",
   "metadata": {
    "slideshow": {
     "slide_type": "subslide"
    }
   },
   "source": [
    "Clasificacion de los valores:\n",
    "- N: No es fatal, sobrevive\n",
    "- Y: Fatal, No sobrevive\n",
    "- UNKNOWN: Desconocido\n",
    "- #VALUE!: Desconocido\n",
    "- F: Fatal, no sobrevive\n",
    "Creo una funcion para modificar los valores"
   ]
  },
  {
   "cell_type": "code",
   "execution_count": 103,
   "id": "b676107e",
   "metadata": {
    "ExecuteTime": {
     "end_time": "2021-11-06T08:36:45.317387Z",
     "start_time": "2021-11-06T08:36:45.303346Z"
    },
    "slideshow": {
     "slide_type": "subslide"
    }
   },
   "outputs": [],
   "source": [
    "#Vamos a cambiar los valores a: Si, No, Desconocido\n",
    "def fatal(x):\n",
    "    if x==\"N\" or x==\"N \" or x==\" N\" or x==\"n\":\n",
    "        return \"Sobrevive\"\n",
    "    elif x==\"Y\" or x==\"F\":\n",
    "        return \"No sobrevive\"\n",
    "    else:\n",
    "        return \"Desconocido\""
   ]
  },
  {
   "cell_type": "code",
   "execution_count": 104,
   "id": "bcfbdcf6",
   "metadata": {
    "ExecuteTime": {
     "end_time": "2021-11-06T08:36:45.333324Z",
     "start_time": "2021-11-06T08:36:45.318938Z"
    },
    "slideshow": {
     "slide_type": "fragment"
    }
   },
   "outputs": [],
   "source": [
    "#Aplicamos la funcion y cambio el nombre de la columna\n",
    "df[\"Supervivencia\"]=df[\"Fatal (Y/N)\"].apply(fatal)"
   ]
  },
  {
   "cell_type": "code",
   "execution_count": 105,
   "id": "bcba1729",
   "metadata": {
    "ExecuteTime": {
     "end_time": "2021-11-06T08:36:45.349050Z",
     "start_time": "2021-11-06T08:36:45.334903Z"
    },
    "slideshow": {
     "slide_type": "fragment"
    }
   },
   "outputs": [],
   "source": [
    "#Borramos las columnas de injury y fatal\n",
    "df.drop([\"Injury\",\"Fatal (Y/N)\"],axis=1,inplace=True)"
   ]
  },
  {
   "cell_type": "markdown",
   "id": "ffb8debe",
   "metadata": {
    "slideshow": {
     "slide_type": "slide"
    }
   },
   "source": [
    "### Columnas: \"Activity\" "
   ]
  },
  {
   "cell_type": "markdown",
   "id": "8cf0de9a",
   "metadata": {
    "slideshow": {
     "slide_type": "subslide"
    }
   },
   "source": [
    "#### Analisis inicial de las columnas"
   ]
  },
  {
   "cell_type": "code",
   "execution_count": 106,
   "id": "fac3b5cd",
   "metadata": {
    "ExecuteTime": {
     "end_time": "2021-11-06T08:36:45.364321Z",
     "start_time": "2021-11-06T08:36:45.350617Z"
    },
    "slideshow": {
     "slide_type": "fragment"
    }
   },
   "outputs": [
    {
     "data": {
      "text/plain": [
       "Casos\n",
       "873          NaN\n",
       "4658    Swimming\n",
       "5655      Diving\n",
       "507          NaN\n",
       "208          NaN\n",
       "Name: Activity, dtype: object"
      ]
     },
     "execution_count": 106,
     "metadata": {},
     "output_type": "execute_result"
    }
   ],
   "source": [
    "#Vistazo de la columna\"Activity\"\n",
    "df[\"Activity\"].sample(n=5)"
   ]
  },
  {
   "cell_type": "code",
   "execution_count": 107,
   "id": "94a2ba30",
   "metadata": {
    "ExecuteTime": {
     "end_time": "2021-11-06T08:36:45.380212Z",
     "start_time": "2021-11-06T08:36:45.366497Z"
    },
    "slideshow": {
     "slide_type": "fragment"
    }
   },
   "outputs": [
    {
     "data": {
      "text/plain": [
       "1492"
      ]
     },
     "execution_count": 107,
     "metadata": {},
     "output_type": "execute_result"
    }
   ],
   "source": [
    "df.Activity.nunique()"
   ]
  },
  {
   "cell_type": "code",
   "execution_count": 108,
   "id": "3c76c12d",
   "metadata": {
    "ExecuteTime": {
     "end_time": "2021-11-06T08:36:45.395596Z",
     "start_time": "2021-11-06T08:36:45.382224Z"
    },
    "slideshow": {
     "slide_type": "fragment"
    }
   },
   "outputs": [
    {
     "data": {
      "text/plain": [
       "Surfing                         904\n",
       "Swimming                        819\n",
       "Fishing                         414\n",
       "Spearfishing                    321\n",
       "Bathing                         153\n",
       "                               ... \n",
       "Fishing boat capsized             1\n",
       "Bodysurfing                       1\n",
       "Collecting fish from net          1\n",
       "Fishing (Drowned 2-Apr-2002)      1\n",
       "Swimming near life raft           1\n",
       "Name: Activity, Length: 1492, dtype: int64"
      ]
     },
     "execution_count": 108,
     "metadata": {},
     "output_type": "execute_result"
    }
   ],
   "source": [
    "#Cantidad de valores\n",
    "df[\"Activity\"].value_counts()"
   ]
  },
  {
   "cell_type": "markdown",
   "id": "181ea2f5",
   "metadata": {
    "slideshow": {
     "slide_type": "subslide"
    }
   },
   "source": [
    "####  Conclusiones y cambios"
   ]
  },
  {
   "cell_type": "code",
   "execution_count": 109,
   "id": "768bc175",
   "metadata": {
    "ExecuteTime": {
     "end_time": "2021-11-06T08:36:45.411264Z",
     "start_time": "2021-11-06T08:36:45.396845Z"
    },
    "slideshow": {
     "slide_type": "fragment"
    }
   },
   "outputs": [],
   "source": [
    "#Elijo las 14 mas comunes y el resto y los NA los clasificare como Otra actividad\n",
    "lista=df[\"Activity\"].value_counts().head(14)"
   ]
  },
  {
   "cell_type": "code",
   "execution_count": 110,
   "id": "f331dcb7",
   "metadata": {
    "ExecuteTime": {
     "end_time": "2021-11-06T08:36:45.426148Z",
     "start_time": "2021-11-06T08:36:45.413293Z"
    },
    "slideshow": {
     "slide_type": "fragment"
    }
   },
   "outputs": [],
   "source": [
    "#Funcion para cambiar los valores\n",
    "def actividad(x):\n",
    "    if x in lista:\n",
    "        return x\n",
    "    else:\n",
    "        return \"Otra actividad\""
   ]
  },
  {
   "cell_type": "code",
   "execution_count": 111,
   "id": "0bbbc808",
   "metadata": {
    "ExecuteTime": {
     "end_time": "2021-11-06T08:36:45.442366Z",
     "start_time": "2021-11-06T08:36:45.429151Z"
    },
    "slideshow": {
     "slide_type": "fragment"
    }
   },
   "outputs": [],
   "source": [
    "#Cambio los valores\n",
    "df[\"Activity\"]=df[\"Activity\"].apply(actividad)"
   ]
  },
  {
   "cell_type": "markdown",
   "id": "1cd64a5a",
   "metadata": {
    "slideshow": {
     "slide_type": "slide"
    }
   },
   "source": [
    "### Columnas:  \"Type\""
   ]
  },
  {
   "cell_type": "markdown",
   "id": "61d11fde",
   "metadata": {
    "slideshow": {
     "slide_type": "subslide"
    }
   },
   "source": [
    "#### Analisis inicial de las columnas"
   ]
  },
  {
   "cell_type": "code",
   "execution_count": 112,
   "id": "35476052",
   "metadata": {
    "ExecuteTime": {
     "end_time": "2021-11-06T08:36:45.457673Z",
     "start_time": "2021-11-06T08:36:45.445215Z"
    },
    "slideshow": {
     "slide_type": "fragment"
    }
   },
   "outputs": [
    {
     "data": {
      "text/plain": [
       "Casos\n",
       "2040    Unprovoked\n",
       "2117    Unprovoked\n",
       "4889    Unprovoked\n",
       "1020       Boating\n",
       "25      Unprovoked\n",
       "Name: Type, dtype: object"
      ]
     },
     "execution_count": 112,
     "metadata": {},
     "output_type": "execute_result"
    }
   ],
   "source": [
    "#Vistazo de la columna \"Type\"\n",
    "df[\"Type\"].sample(n=5)"
   ]
  },
  {
   "cell_type": "code",
   "execution_count": 113,
   "id": "6699bf32",
   "metadata": {
    "ExecuteTime": {
     "end_time": "2021-11-06T08:36:45.473336Z",
     "start_time": "2021-11-06T08:36:45.460112Z"
    },
    "code_folding": [],
    "slideshow": {
     "slide_type": "fragment"
    }
   },
   "outputs": [
    {
     "data": {
      "text/plain": [
       "0"
      ]
     },
     "execution_count": 113,
     "metadata": {},
     "output_type": "execute_result"
    }
   ],
   "source": [
    "#No hay valores nulos\n",
    "df.Type.isna().sum()"
   ]
  },
  {
   "cell_type": "code",
   "execution_count": 114,
   "id": "9ea08a89",
   "metadata": {
    "ExecuteTime": {
     "end_time": "2021-11-06T08:36:45.487880Z",
     "start_time": "2021-11-06T08:36:45.474790Z"
    },
    "slideshow": {
     "slide_type": "fragment"
    }
   },
   "outputs": [
    {
     "data": {
      "text/plain": [
       "6"
      ]
     },
     "execution_count": 114,
     "metadata": {},
     "output_type": "execute_result"
    }
   ],
   "source": [
    "df[\"Type\"].nunique()"
   ]
  },
  {
   "cell_type": "code",
   "execution_count": 115,
   "id": "d6b029f5",
   "metadata": {
    "ExecuteTime": {
     "end_time": "2021-11-06T08:36:45.503871Z",
     "start_time": "2021-11-06T08:36:45.489870Z"
    },
    "slideshow": {
     "slide_type": "fragment"
    }
   },
   "outputs": [
    {
     "data": {
      "text/plain": [
       "Unprovoked      4386\n",
       "Provoked         557\n",
       "Invalid          519\n",
       "Sea Disaster     220\n",
       "Boat             200\n",
       "Boating          110\n",
       "Name: Type, dtype: int64"
      ]
     },
     "execution_count": 115,
     "metadata": {},
     "output_type": "execute_result"
    }
   ],
   "source": [
    "df[\"Type\"].value_counts()"
   ]
  },
  {
   "cell_type": "markdown",
   "id": "9b9acf14",
   "metadata": {
    "slideshow": {
     "slide_type": "subslide"
    }
   },
   "source": [
    "En esta columna los valores indican el tipo de ataque\n",
    "- Opcion 1:\n",
    "    - Agrupar Sea disaster en Unprovoked \n",
    "    - Agrupar Boat y Boating en Provoqued\n",
    "    - Mantener Invalid como categoria tipo no sabemos si fue provocado o no\n",
    "- Opcion 2: \n",
    "    - Juntar Boat y Boating y mantener el resto\n",
    "Como realmente no se si el ir en barco implica que sea provocado, decido la opcion B y mantener las 5 categorias"
   ]
  },
  {
   "cell_type": "markdown",
   "id": "ca8207cf",
   "metadata": {
    "slideshow": {
     "slide_type": "subslide"
    }
   },
   "source": [
    "####  Conclusiones y cambios"
   ]
  },
  {
   "cell_type": "code",
   "execution_count": 116,
   "id": "c7af9d41",
   "metadata": {
    "ExecuteTime": {
     "end_time": "2021-11-06T08:36:45.519942Z",
     "start_time": "2021-11-06T08:36:45.505871Z"
    },
    "slideshow": {
     "slide_type": "fragment"
    }
   },
   "outputs": [],
   "source": [
    "#Junto los valores de Boat y boating en Boat\n",
    "def typeBoat(x):\n",
    "    if x==\"Boating\":\n",
    "        return \"Boat\"\n",
    "    else:\n",
    "        return x"
   ]
  },
  {
   "cell_type": "code",
   "execution_count": 117,
   "id": "a0d2239e",
   "metadata": {
    "ExecuteTime": {
     "end_time": "2021-11-06T08:36:45.535010Z",
     "start_time": "2021-11-06T08:36:45.522953Z"
    },
    "slideshow": {
     "slide_type": "fragment"
    }
   },
   "outputs": [],
   "source": [
    "df[\"Type\"]=df[\"Type\"].apply(typeBoat)"
   ]
  },
  {
   "cell_type": "code",
   "execution_count": 118,
   "id": "cfd881f1",
   "metadata": {
    "ExecuteTime": {
     "end_time": "2021-11-06T08:36:45.551131Z",
     "start_time": "2021-11-06T08:36:45.536012Z"
    },
    "slideshow": {
     "slide_type": "fragment"
    }
   },
   "outputs": [
    {
     "data": {
      "text/plain": [
       "Unprovoked      4386\n",
       "Provoked         557\n",
       "Invalid          519\n",
       "Boat             310\n",
       "Sea Disaster     220\n",
       "Name: Type, dtype: int64"
      ]
     },
     "execution_count": 118,
     "metadata": {},
     "output_type": "execute_result"
    }
   ],
   "source": [
    "#Asi queda la distribucion de categorias\n",
    "df.Type.value_counts()"
   ]
  },
  {
   "cell_type": "markdown",
   "id": "377ca27e",
   "metadata": {
    "slideshow": {
     "slide_type": "slide"
    }
   },
   "source": [
    "### Columna: \"Investigator or Source\"  "
   ]
  },
  {
   "cell_type": "markdown",
   "id": "8484fd54",
   "metadata": {
    "slideshow": {
     "slide_type": "subslide"
    }
   },
   "source": [
    "#### Analisis inicial de las columnas"
   ]
  },
  {
   "cell_type": "code",
   "execution_count": 119,
   "id": "6271a618",
   "metadata": {
    "ExecuteTime": {
     "end_time": "2021-11-06T08:36:45.566041Z",
     "start_time": "2021-11-06T08:36:45.552730Z"
    },
    "slideshow": {
     "slide_type": "fragment"
    }
   },
   "outputs": [
    {
     "data": {
      "text/plain": [
       "Casos\n",
       "4469    E. Ritter, GSAF;      http://www.wavescape.co....\n",
       "2556                China Post (Taipai, Taiwan) 9/22/1964\n",
       "1664                                          C.L. Morgan\n",
       "5189                                Thanh Nien, 5/21/2010\n",
       "1505                         V.M. Coppleson (1962), p.218\n",
       "Name: Investigator or Source, dtype: object"
      ]
     },
     "execution_count": 119,
     "metadata": {},
     "output_type": "execute_result"
    }
   ],
   "source": [
    "#Vistazo de la columna \"Investigator or Source\"\n",
    "df[\"Investigator or Source\"].sample(n=5)"
   ]
  },
  {
   "cell_type": "code",
   "execution_count": 120,
   "id": "a5f596da",
   "metadata": {
    "ExecuteTime": {
     "end_time": "2021-11-06T08:36:45.582156Z",
     "start_time": "2021-11-06T08:36:45.568037Z"
    },
    "slideshow": {
     "slide_type": "fragment"
    }
   },
   "outputs": [
    {
     "data": {
      "text/plain": [
       "15"
      ]
     },
     "execution_count": 120,
     "metadata": {},
     "output_type": "execute_result"
    }
   ],
   "source": [
    "#Hay muy pocos valores na\n",
    "df[\"Investigator or Source\"].isna().sum()"
   ]
  },
  {
   "cell_type": "code",
   "execution_count": 121,
   "id": "f2dad2e5",
   "metadata": {
    "ExecuteTime": {
     "end_time": "2021-11-06T08:36:45.597236Z",
     "start_time": "2021-11-06T08:36:45.583231Z"
    },
    "slideshow": {
     "slide_type": "fragment"
    }
   },
   "outputs": [
    {
     "data": {
      "text/plain": [
       "4752"
      ]
     },
     "execution_count": 121,
     "metadata": {},
     "output_type": "execute_result"
    }
   ],
   "source": [
    "#Hay demasiados valores unicos\n",
    "df[\"Investigator or Source\"].nunique()"
   ]
  },
  {
   "cell_type": "code",
   "execution_count": 122,
   "id": "93debc8c",
   "metadata": {
    "ExecuteTime": {
     "end_time": "2021-11-06T08:36:45.612132Z",
     "start_time": "2021-11-06T08:36:45.598237Z"
    },
    "slideshow": {
     "slide_type": "fragment"
    }
   },
   "outputs": [
    {
     "data": {
      "text/plain": [
       "Casos\n",
       "4173    S. Petersohn; M.Guisti, Daytona Beach News Jou...\n",
       "2400       F. Glenn; Dr. H.C. Yeatman; D. E. Gatch, M.D. \n",
       "4443    S. Petersohn, GSAF; Orlando Sentinel, 5/16;200...\n",
       "3928                    Bradenton Herald, 8/12/1996, p.L2\n",
       "1803    J. Randall, p.352 in Sharks & Survival; H.D. B...\n",
       "696                                 V.M. Coppleson, p.264\n",
       "2038                          J. Daniel, M. Levine. GSAF \n",
       "5780                              Miami Herald, 4/25/2015\n",
       "4068                      Animal Attack Files, 12/19/1998\n",
       "5426                                          C. Creswell\n",
       "Name: Investigator or Source, dtype: object"
      ]
     },
     "execution_count": 122,
     "metadata": {},
     "output_type": "execute_result"
    }
   ],
   "source": [
    "df[\"Investigator or Source\"].sample(n=10)"
   ]
  },
  {
   "cell_type": "markdown",
   "id": "e3aba71a",
   "metadata": {
    "slideshow": {
     "slide_type": "subslide"
    }
   },
   "source": [
    "#### conclusion y output:"
   ]
  },
  {
   "cell_type": "markdown",
   "id": "2ebffb08",
   "metadata": {
    "slideshow": {
     "slide_type": "fragment"
    }
   },
   "source": [
    "Por lo que veo aparece el autor o la revista, la pagina y la fecha pero con diferentes formatos y casi todos unicos \n",
    "- Opcion de rellenar los na como desconocido"
   ]
  },
  {
   "cell_type": "code",
   "execution_count": 123,
   "id": "1a222d04",
   "metadata": {
    "ExecuteTime": {
     "end_time": "2021-11-06T08:36:45.628131Z",
     "start_time": "2021-11-06T08:36:45.614125Z"
    },
    "slideshow": {
     "slide_type": "fragment"
    }
   },
   "outputs": [],
   "source": [
    "df[\"Investigator or Source\"].fillna(\"Desconocido\",inplace=True)"
   ]
  },
  {
   "cell_type": "markdown",
   "id": "00bf08f3",
   "metadata": {
    "slideshow": {
     "slide_type": "slide"
    }
   },
   "source": [
    "### Columnas: \"Area\"  "
   ]
  },
  {
   "cell_type": "markdown",
   "id": "65817fea",
   "metadata": {
    "slideshow": {
     "slide_type": "subslide"
    }
   },
   "source": [
    "#### Analisis inicial de las columnas"
   ]
  },
  {
   "cell_type": "code",
   "execution_count": 124,
   "id": "29476df6",
   "metadata": {
    "ExecuteTime": {
     "end_time": "2021-11-06T08:36:45.644131Z",
     "start_time": "2021-11-06T08:36:45.629132Z"
    },
    "slideshow": {
     "slide_type": "fragment"
    }
   },
   "outputs": [
    {
     "data": {
      "text/plain": [
       "Casos\n",
       "1659            KwaZulu-Natal\n",
       "2102    Western Cape Province\n",
       "3653                 Tasmania\n",
       "2692          South Australia\n",
       "5357                  Alabama\n",
       "Name: Area, dtype: object"
      ]
     },
     "execution_count": 124,
     "metadata": {},
     "output_type": "execute_result"
    }
   ],
   "source": [
    "#Vistazo de la columna \"Area\"\n",
    "df[\"Area\"].sample(n=5)"
   ]
  },
  {
   "cell_type": "code",
   "execution_count": 125,
   "id": "4d017c9c",
   "metadata": {
    "ExecuteTime": {
     "end_time": "2021-11-06T08:36:45.660218Z",
     "start_time": "2021-11-06T08:36:45.645130Z"
    },
    "slideshow": {
     "slide_type": "fragment"
    }
   },
   "outputs": [
    {
     "data": {
      "text/plain": [
       "785"
      ]
     },
     "execution_count": 125,
     "metadata": {},
     "output_type": "execute_result"
    }
   ],
   "source": [
    "df[\"Area\"].nunique()"
   ]
  },
  {
   "cell_type": "code",
   "execution_count": 126,
   "id": "f1230163",
   "metadata": {
    "ExecuteTime": {
     "end_time": "2021-11-06T08:36:45.676251Z",
     "start_time": "2021-11-06T08:36:45.661261Z"
    },
    "slideshow": {
     "slide_type": "fragment"
    }
   },
   "outputs": [
    {
     "data": {
      "text/plain": [
       "402"
      ]
     },
     "execution_count": 126,
     "metadata": {},
     "output_type": "execute_result"
    }
   ],
   "source": [
    "df[\"Area\"].isna().sum()"
   ]
  },
  {
   "cell_type": "code",
   "execution_count": 127,
   "id": "bbd57772",
   "metadata": {
    "ExecuteTime": {
     "end_time": "2021-11-06T08:36:45.692753Z",
     "start_time": "2021-11-06T08:36:45.678253Z"
    },
    "slideshow": {
     "slide_type": "fragment"
    }
   },
   "outputs": [
    {
     "data": {
      "text/plain": [
       "Casos\n",
       "131                 NaN\n",
       "5216      Jeju Province\n",
       "5377             Oregon\n",
       "1209         Queensland\n",
       "3282      Abaco Islands\n",
       "758                Java\n",
       "5729             Hawaii\n",
       "707     New South Wales\n",
       "3448            Florida\n",
       "2002            Florida\n",
       "3593         California\n",
       "4696            Florida\n",
       "1391      Torres Strait\n",
       "241      South Carolina\n",
       "4890            Florida\n",
       "700       Istria County\n",
       "4478            Florida\n",
       "4513         Anzoategui\n",
       "5029    New South Wales\n",
       "3144      KwaZulu-Natal\n",
       "Name: Area, dtype: object"
      ]
     },
     "execution_count": 127,
     "metadata": {},
     "output_type": "execute_result"
    }
   ],
   "source": [
    "df[\"Area\"].sample(n=20)"
   ]
  },
  {
   "cell_type": "code",
   "execution_count": 128,
   "id": "818ef133",
   "metadata": {
    "ExecuteTime": {
     "end_time": "2021-11-06T08:36:45.708187Z",
     "start_time": "2021-11-06T08:36:45.695176Z"
    },
    "scrolled": true,
    "slideshow": {
     "slide_type": "subslide"
    }
   },
   "outputs": [
    {
     "data": {
      "text/plain": [
       "La Saline-les-Bains                           1\n",
       "Yucatan Channel                               1\n",
       "On the Kowloon penisula, south of Sai Kung    1\n",
       "Porto Seguro                                  1\n",
       "Harare Province                               1\n",
       "Name: Area, dtype: int64"
      ]
     },
     "execution_count": 128,
     "metadata": {},
     "output_type": "execute_result"
    }
   ],
   "source": [
    "df[\"Area\"].value_counts().tail(5)"
   ]
  },
  {
   "cell_type": "markdown",
   "id": "750c1097",
   "metadata": {
    "slideshow": {
     "slide_type": "subslide"
    }
   },
   "source": [
    "#### conclusion y output:"
   ]
  },
  {
   "cell_type": "code",
   "execution_count": 129,
   "id": "03c3eb02",
   "metadata": {
    "ExecuteTime": {
     "end_time": "2021-11-06T08:36:45.723392Z",
     "start_time": "2021-11-06T08:36:45.711478Z"
    },
    "slideshow": {
     "slide_type": "fragment"
    }
   },
   "outputs": [],
   "source": [
    "#Lo veo bastante bien escrito, solo modificare los na\n",
    "df[\"Area\"].fillna(\"Desconocido\",inplace=True)"
   ]
  },
  {
   "cell_type": "markdown",
   "id": "b5bac173",
   "metadata": {
    "slideshow": {
     "slide_type": "slide"
    }
   },
   "source": [
    "### Columnas: \"Location\"  "
   ]
  },
  {
   "cell_type": "markdown",
   "id": "6344e85b",
   "metadata": {
    "slideshow": {
     "slide_type": "subslide"
    }
   },
   "source": [
    "#### Analisis inicial de las columnas"
   ]
  },
  {
   "cell_type": "code",
   "execution_count": 130,
   "id": "4b1e5ae8",
   "metadata": {
    "ExecuteTime": {
     "end_time": "2021-11-06T08:36:45.738471Z",
     "start_time": "2021-11-06T08:36:45.726462Z"
    },
    "slideshow": {
     "slide_type": "fragment"
    }
   },
   "outputs": [
    {
     "data": {
      "text/plain": [
       "Casos\n",
       "2743    Palm Beach Shores, Riviera Beach, Singer Islan...\n",
       "4313                 Blue Planet Aquarium, Ellesmere Port\n",
       "75        D'Entrecasteaux islands, 20 miles off the coast\n",
       "1884                         Between Punta Grossa & Koper\n",
       "203                                Horn Point, Lady's Bay\n",
       "Name: Location, dtype: object"
      ]
     },
     "execution_count": 130,
     "metadata": {},
     "output_type": "execute_result"
    }
   ],
   "source": [
    "#Vistazo de la columna \"Location\"\n",
    "df[\"Location\"].sample(n=5)"
   ]
  },
  {
   "cell_type": "code",
   "execution_count": 131,
   "id": "955e78e4",
   "metadata": {
    "ExecuteTime": {
     "end_time": "2021-11-06T08:36:45.754381Z",
     "start_time": "2021-11-06T08:36:45.739469Z"
    },
    "slideshow": {
     "slide_type": "fragment"
    }
   },
   "outputs": [
    {
     "data": {
      "text/plain": [
       "496"
      ]
     },
     "execution_count": 131,
     "metadata": {},
     "output_type": "execute_result"
    }
   ],
   "source": [
    "df[\"Location\"].isna().sum()"
   ]
  },
  {
   "cell_type": "code",
   "execution_count": 132,
   "id": "27d4f7d8",
   "metadata": {
    "ExecuteTime": {
     "end_time": "2021-11-06T08:36:45.769639Z",
     "start_time": "2021-11-06T08:36:45.755363Z"
    },
    "slideshow": {
     "slide_type": "fragment"
    }
   },
   "outputs": [
    {
     "data": {
      "text/plain": [
       "3929"
      ]
     },
     "execution_count": 132,
     "metadata": {},
     "output_type": "execute_result"
    }
   ],
   "source": [
    "df[\"Location\"].nunique()"
   ]
  },
  {
   "cell_type": "markdown",
   "id": "e8b8a6f3",
   "metadata": {
    "slideshow": {
     "slide_type": "subslide"
    }
   },
   "source": [
    "#### conclusion y output:"
   ]
  },
  {
   "cell_type": "markdown",
   "id": "eec3b94f",
   "metadata": {
    "slideshow": {
     "slide_type": "fragment"
    }
   },
   "source": [
    "Se parece bastante en formato a Area, tiene muchos valores unicos y pocos na, la mantengo y relleno los na"
   ]
  },
  {
   "cell_type": "code",
   "execution_count": 133,
   "id": "f289fede",
   "metadata": {
    "ExecuteTime": {
     "end_time": "2021-11-06T08:36:45.785170Z",
     "start_time": "2021-11-06T08:36:45.770737Z"
    },
    "slideshow": {
     "slide_type": "fragment"
    }
   },
   "outputs": [],
   "source": [
    "df[\"Location\"].fillna(\"Desconocido\",inplace=True)"
   ]
  },
  {
   "cell_type": "markdown",
   "id": "511001ae",
   "metadata": {
    "ExecuteTime": {
     "end_time": "2021-11-04T15:46:43.313745Z",
     "start_time": "2021-11-04T15:46:43.298223Z"
    },
    "slideshow": {
     "slide_type": "slide"
    }
   },
   "source": [
    "## Guardamos el nuevo .csv"
   ]
  },
  {
   "cell_type": "code",
   "execution_count": 134,
   "id": "276e00c1",
   "metadata": {
    "ExecuteTime": {
     "end_time": "2021-11-06T08:36:45.831619Z",
     "start_time": "2021-11-06T08:36:45.786209Z"
    },
    "slideshow": {
     "slide_type": "fragment"
    }
   },
   "outputs": [],
   "source": [
    "df.to_csv(\"SharksClean.csv\")"
   ]
  },
  {
   "cell_type": "markdown",
   "id": "cddb75c8",
   "metadata": {
    "ExecuteTime": {
     "end_time": "2021-11-01T17:37:10.330748Z",
     "start_time": "2021-11-01T17:37:10.323797Z"
    },
    "slideshow": {
     "slide_type": "slide"
    }
   },
   "source": [
    "# Estadistica y resolucion de preguntas\n"
   ]
  },
  {
   "cell_type": "code",
   "execution_count": 135,
   "id": "75c5c040",
   "metadata": {
    "ExecuteTime": {
     "end_time": "2021-11-06T08:36:45.847208Z",
     "start_time": "2021-11-06T08:36:45.833618Z"
    },
    "slideshow": {
     "slide_type": "notes"
    }
   },
   "outputs": [],
   "source": [
    "plt.rcParams[\"figure.figsize\"]=(10,10)"
   ]
  },
  {
   "cell_type": "markdown",
   "id": "21ce4bd2",
   "metadata": {
    "ExecuteTime": {
     "end_time": "2021-11-01T19:12:13.576659Z",
     "start_time": "2021-11-01T19:12:13.286660Z"
    },
    "slideshow": {
     "slide_type": "subslide"
    }
   },
   "source": [
    "## ¿Cual es el mejor pais para grabar la proxima pelicula de Tiburón?"
   ]
  },
  {
   "cell_type": "code",
   "execution_count": 136,
   "id": "3f877a8d",
   "metadata": {
    "ExecuteTime": {
     "end_time": "2021-11-06T08:36:46.049422Z",
     "start_time": "2021-11-06T08:36:45.850314Z"
    },
    "scrolled": true,
    "slideshow": {
     "slide_type": "fragment"
    }
   },
   "outputs": [
    {
     "data": {
      "text/plain": [
       "<AxesSubplot:>"
      ]
     },
     "execution_count": 136,
     "metadata": {},
     "output_type": "execute_result"
    },
    {
     "data": {
      "image/png": "[encoded data removed]",
      "text/plain": [
       "<Figure size 720x720 with 1 Axes>"
      ]
     },
     "metadata": {
      "needs_background": "light"
     },
     "output_type": "display_data"
    }
   ],
   "source": [
    "#Pais donde los tiburones son mas violentos\n",
    "df.groupby(\"Country\").filter(lambda x: len(x) > 100).Country.value_counts().plot.bar(color='red')"
   ]
  },
  {
   "cell_type": "markdown",
   "id": "53ed7ac0",
   "metadata": {
    "slideshow": {
     "slide_type": "subslide"
    }
   },
   "source": [
    "## ¿Que alimento prefieren los tiburones?"
   ]
  },
  {
   "cell_type": "code",
   "execution_count": 137,
   "id": "dbffd411",
   "metadata": {
    "ExecuteTime": {
     "end_time": "2021-11-06T08:36:46.159140Z",
     "start_time": "2021-11-06T08:36:46.050417Z"
    },
    "scrolled": true,
    "slideshow": {
     "slide_type": "fragment"
    }
   },
   "outputs": [
    {
     "name": "stderr",
     "output_type": "stream",
     "text": [
      "C:\\Users\\irazu\\anaconda3\\lib\\site-packages\\seaborn\\_decorators.py:36: FutureWarning: Pass the following variable as a keyword arg: x. From version 0.12, the only valid positional argument will be `data`, and passing other arguments without an explicit keyword will result in an error or misinterpretation.\n",
      "  warnings.warn(\n"
     ]
    },
    {
     "data": {
      "image/png": "[encoded data removed]",
      "text/plain": [
       "<Figure size 1440x720 with 1 Axes>"
      ]
     },
     "metadata": {
      "needs_background": "light"
     },
     "output_type": "display_data"
    }
   ],
   "source": [
    "plt.figure(figsize=(20,10))\n",
    "grafico = sns.countplot(\"Sex\",  data = df, order = df[\"Sex\"].value_counts().index)\n",
    "grafico.tick_params(axis='x', rotation = 90)"
   ]
  },
  {
   "cell_type": "markdown",
   "id": "349c5cf9",
   "metadata": {
    "slideshow": {
     "slide_type": "slide"
    }
   },
   "source": [
    "# Cosas a mejorar"
   ]
  },
  {
   "cell_type": "markdown",
   "id": "01584aaf",
   "metadata": {
    "slideshow": {
     "slide_type": "fragment"
    }
   },
   "source": [
    "- Optimizar el codigo\n",
    "- Tener mas rigor a la hora de eliminar o mantener datos\n",
    "- O escribir todo en ingles o traducir todo a castellano DESDE EL PRINCIPIO\n"
   ]
  },
  {
   "cell_type": "markdown",
   "id": "171b03eb",
   "metadata": {
    "slideshow": {
     "slide_type": "notes"
    }
   },
   "source": [
    "Caracteristicas de la presentacion: RISE"
   ]
  },
  {
   "cell_type": "code",
   "execution_count": 138,
   "id": "7c45924c",
   "metadata": {
    "ExecuteTime": {
     "end_time": "2021-11-06T08:36:46.174383Z",
     "start_time": "2021-11-06T08:36:46.160345Z"
    },
    "slideshow": {
     "slide_type": "notes"
    }
   },
   "outputs": [
    {
     "data": {
      "text/plain": [
       "{'theme': 'moon',\n",
       " 'transition': 'linear',\n",
       " 'start_slideshow_at': 'selected',\n",
       " 'autolaunch': True,\n",
       " 'width': '100%',\n",
       " 'height': '100%',\n",
       " 'header': 'Proyecto Pandas',\n",
       " 'footer': '',\n",
       " 'scroll': True,\n",
       " 'enable_chalkboard': True,\n",
       " 'slideNumber': 'true',\n",
       " 'center': False,\n",
       " 'controlsLayout': 'edges',\n",
       " 'hash': True}"
      ]
     },
     "execution_count": 138,
     "metadata": {},
     "output_type": "execute_result"
    }
   ],
   "source": [
    "#Presentacion\n",
    "from traitlets.config.manager import BaseJSONConfigManager\n",
    "from pathlib import Path\n",
    "path = Path.home() / \".jupyter\" / \"nbconfig\"\n",
    "cm = BaseJSONConfigManager(config_dir=str(path))\n",
    "cm.update(\n",
    "    \"rise\",\n",
    "    {\n",
    "        \"header\":\"Proyecto Pandas\",\n",
    "        \"theme\": \"moon\",\n",
    "        \"transition\": \"linear\",\n",
    "        \"start_slideshow_at\": \"selected\",\n",
    "        \"slideNumber\": \"true\"\n",
    "     }\n",
    ")"
   ]
  }
 ],
 "metadata": {
  "celltoolbar": "Slideshow",
  "kernelspec": {
   "display_name": "Python 3",
   "language": "python",
   "name": "python3"
  },
  "language_info": {
   "codemirror_mode": {
    "name": "ipython",
    "version": 3
   },
   "file_extension": ".py",
   "mimetype": "text/x-python",
   "name": "python",
   "nbconvert_exporter": "python",
   "pygments_lexer": "ipython3",
   "version": "3.8.8"
  },
  "toc": {
   "base_numbering": 1,
   "nav_menu": {},
   "number_sections": true,
   "sideBar": false,
   "skip_h1_title": false,
   "title_cell": "Table of Contents",
   "title_sidebar": "Contents",
   "toc_cell": false,
   "toc_position": {
    "height": "100px",
    "left": "2346px",
    "top": "24.5625px",
    "width": "165px"
   },
   "toc_section_display": false,
   "toc_window_display": true
  },
  "varInspector": {
   "cols": {
    "lenName": 16,
    "lenType": 16,
    "lenVar": 40
   },
   "kernels_config": {
    "python": {
     "delete_cmd_postfix": "",
     "delete_cmd_prefix": "del ",
     "library": "var_list.py",
     "varRefreshCmd": "print(var_dic_list())"
    },
    "r": {
     "delete_cmd_postfix": ") ",
     "delete_cmd_prefix": "rm(",
     "library": "var_list.r",
     "varRefreshCmd": "cat(var_dic_list()) "
    }
   },
   "types_to_exclude": [
    "module",
    "function",
    "builtin_function_or_method",
    "instance",
    "_Feature"
   ],
   "window_display": false
  }
 },
 "nbformat": 4,
 "nbformat_minor": 5
}
