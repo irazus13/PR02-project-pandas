{
 "cells": [
  {
   "cell_type": "markdown",
   "id": "f6214929",
   "metadata": {},
   "source": [
    "PORTADA"
   ]
  },
  {
   "cell_type": "markdown",
   "id": "e9f8db1b",
   "metadata": {
    "heading_collapsed": true
   },
   "source": [
    "# Proyecto 2. \n",
    "Tareas:\n",
    "- Crear df de problemas con columnas de: Tipo de dato, numero de nulos, problema principal, solucionado S/N\n",
    "- añadir alguna foto (Sharknado)"
   ]
  },
  {
   "cell_type": "markdown",
   "id": "459fb281",
   "metadata": {
    "hidden": true
   },
   "source": [
    "## Importamos bibliotecas"
   ]
  },
  {
   "cell_type": "code",
   "execution_count": 176,
   "id": "d4dccadc",
   "metadata": {
    "ExecuteTime": {
     "end_time": "2021-10-30T15:31:36.098961Z",
     "start_time": "2021-10-30T15:31:36.091839Z"
    },
    "hidden": true
   },
   "outputs": [],
   "source": [
    "import pandas as pd"
   ]
  },
  {
   "cell_type": "markdown",
   "id": "ab70caa6",
   "metadata": {
    "hidden": true
   },
   "source": [
    "## Abrimos el archivo "
   ]
  },
  {
   "cell_type": "code",
   "execution_count": 177,
   "id": "23e754a1",
   "metadata": {
    "ExecuteTime": {
     "end_time": "2021-10-30T15:31:39.110008Z",
     "start_time": "2021-10-30T15:31:38.942753Z"
    },
    "hidden": true
   },
   "outputs": [],
   "source": [
    "df=pd.read_csv(\"data/GSAF5.csv\",encoding=\"ISO-8859-1\")"
   ]
  },
  {
   "cell_type": "markdown",
   "id": "2371b662",
   "metadata": {
    "hidden": true
   },
   "source": [
    "## Informacion inicial del archivo"
   ]
  },
  {
   "cell_type": "markdown",
   "id": "751cd551",
   "metadata": {
    "hidden": true
   },
   "source": [
    "### Observacion inicial del dataset (head, info, isna().sum())"
   ]
  },
  {
   "cell_type": "code",
   "execution_count": 178,
   "id": "be91155f",
   "metadata": {
    "ExecuteTime": {
     "end_time": "2021-10-30T15:31:45.189873Z",
     "start_time": "2021-10-30T15:31:45.136947Z"
    },
    "hidden": true
   },
   "outputs": [
    {
     "data": {
      "text/html": [
       "<div>\n",
       "<style scoped>\n",
       "    .dataframe tbody tr th:only-of-type {\n",
       "        vertical-align: middle;\n",
       "    }\n",
       "\n",
       "    .dataframe tbody tr th {\n",
       "        vertical-align: top;\n",
       "    }\n",
       "\n",
       "    .dataframe thead th {\n",
       "        text-align: right;\n",
       "    }\n",
       "</style>\n",
       "<table border=\"1\" class=\"dataframe\">\n",
       "  <thead>\n",
       "    <tr style=\"text-align: right;\">\n",
       "      <th></th>\n",
       "      <th>Case Number</th>\n",
       "      <th>Date</th>\n",
       "      <th>Year</th>\n",
       "      <th>Type</th>\n",
       "      <th>Country</th>\n",
       "      <th>Area</th>\n",
       "      <th>Location</th>\n",
       "      <th>Activity</th>\n",
       "      <th>Name</th>\n",
       "      <th>Sex</th>\n",
       "      <th>...</th>\n",
       "      <th>Species</th>\n",
       "      <th>Investigator or Source</th>\n",
       "      <th>pdf</th>\n",
       "      <th>href formula</th>\n",
       "      <th>href</th>\n",
       "      <th>Case Number.1</th>\n",
       "      <th>Case Number.2</th>\n",
       "      <th>original order</th>\n",
       "      <th>Unnamed: 22</th>\n",
       "      <th>Unnamed: 23</th>\n",
       "    </tr>\n",
       "  </thead>\n",
       "  <tbody>\n",
       "    <tr>\n",
       "      <th>0</th>\n",
       "      <td>2016.09.18.c</td>\n",
       "      <td>18-Sep-16</td>\n",
       "      <td>2016</td>\n",
       "      <td>Unprovoked</td>\n",
       "      <td>USA</td>\n",
       "      <td>Florida</td>\n",
       "      <td>New Smyrna Beach, Volusia County</td>\n",
       "      <td>Surfing</td>\n",
       "      <td>male</td>\n",
       "      <td>M</td>\n",
       "      <td>...</td>\n",
       "      <td>NaN</td>\n",
       "      <td>Orlando Sentinel, 9/19/2016</td>\n",
       "      <td>2016.09.18.c-NSB.pdf</td>\n",
       "      <td>http://sharkattackfile.net/spreadsheets/pdf_di...</td>\n",
       "      <td>http://sharkattackfile.net/spreadsheets/pdf_di...</td>\n",
       "      <td>2016.09.18.c</td>\n",
       "      <td>2016.09.18.c</td>\n",
       "      <td>5993</td>\n",
       "      <td>NaN</td>\n",
       "      <td>NaN</td>\n",
       "    </tr>\n",
       "    <tr>\n",
       "      <th>1</th>\n",
       "      <td>2016.09.18.b</td>\n",
       "      <td>18-Sep-16</td>\n",
       "      <td>2016</td>\n",
       "      <td>Unprovoked</td>\n",
       "      <td>USA</td>\n",
       "      <td>Florida</td>\n",
       "      <td>New Smyrna Beach, Volusia County</td>\n",
       "      <td>Surfing</td>\n",
       "      <td>Chucky Luciano</td>\n",
       "      <td>M</td>\n",
       "      <td>...</td>\n",
       "      <td>NaN</td>\n",
       "      <td>Orlando Sentinel, 9/19/2016</td>\n",
       "      <td>2016.09.18.b-Luciano.pdf</td>\n",
       "      <td>http://sharkattackfile.net/spreadsheets/pdf_di...</td>\n",
       "      <td>http://sharkattackfile.net/spreadsheets/pdf_di...</td>\n",
       "      <td>2016.09.18.b</td>\n",
       "      <td>2016.09.18.b</td>\n",
       "      <td>5992</td>\n",
       "      <td>NaN</td>\n",
       "      <td>NaN</td>\n",
       "    </tr>\n",
       "    <tr>\n",
       "      <th>2</th>\n",
       "      <td>2016.09.18.a</td>\n",
       "      <td>18-Sep-16</td>\n",
       "      <td>2016</td>\n",
       "      <td>Unprovoked</td>\n",
       "      <td>USA</td>\n",
       "      <td>Florida</td>\n",
       "      <td>New Smyrna Beach, Volusia County</td>\n",
       "      <td>Surfing</td>\n",
       "      <td>male</td>\n",
       "      <td>M</td>\n",
       "      <td>...</td>\n",
       "      <td>NaN</td>\n",
       "      <td>Orlando Sentinel, 9/19/2016</td>\n",
       "      <td>2016.09.18.a-NSB.pdf</td>\n",
       "      <td>http://sharkattackfile.net/spreadsheets/pdf_di...</td>\n",
       "      <td>http://sharkattackfile.net/spreadsheets/pdf_di...</td>\n",
       "      <td>2016.09.18.a</td>\n",
       "      <td>2016.09.18.a</td>\n",
       "      <td>5991</td>\n",
       "      <td>NaN</td>\n",
       "      <td>NaN</td>\n",
       "    </tr>\n",
       "    <tr>\n",
       "      <th>3</th>\n",
       "      <td>2016.09.17</td>\n",
       "      <td>17-Sep-16</td>\n",
       "      <td>2016</td>\n",
       "      <td>Unprovoked</td>\n",
       "      <td>AUSTRALIA</td>\n",
       "      <td>Victoria</td>\n",
       "      <td>Thirteenth Beach</td>\n",
       "      <td>Surfing</td>\n",
       "      <td>Rory Angiolella</td>\n",
       "      <td>M</td>\n",
       "      <td>...</td>\n",
       "      <td>NaN</td>\n",
       "      <td>The Age, 9/18/2016</td>\n",
       "      <td>2016.09.17-Angiolella.pdf</td>\n",
       "      <td>http://sharkattackfile.net/spreadsheets/pdf_di...</td>\n",
       "      <td>http://sharkattackfile.net/spreadsheets/pdf_di...</td>\n",
       "      <td>2016.09.17</td>\n",
       "      <td>2016.09.17</td>\n",
       "      <td>5990</td>\n",
       "      <td>NaN</td>\n",
       "      <td>NaN</td>\n",
       "    </tr>\n",
       "    <tr>\n",
       "      <th>4</th>\n",
       "      <td>2016.09.15</td>\n",
       "      <td>16-Sep-16</td>\n",
       "      <td>2016</td>\n",
       "      <td>Unprovoked</td>\n",
       "      <td>AUSTRALIA</td>\n",
       "      <td>Victoria</td>\n",
       "      <td>Bells Beach</td>\n",
       "      <td>Surfing</td>\n",
       "      <td>male</td>\n",
       "      <td>M</td>\n",
       "      <td>...</td>\n",
       "      <td>2 m shark</td>\n",
       "      <td>The Age, 9/16/2016</td>\n",
       "      <td>2016.09.16-BellsBeach.pdf</td>\n",
       "      <td>http://sharkattackfile.net/spreadsheets/pdf_di...</td>\n",
       "      <td>http://sharkattackfile.net/spreadsheets/pdf_di...</td>\n",
       "      <td>2016.09.16</td>\n",
       "      <td>2016.09.15</td>\n",
       "      <td>5989</td>\n",
       "      <td>NaN</td>\n",
       "      <td>NaN</td>\n",
       "    </tr>\n",
       "    <tr>\n",
       "      <th>5</th>\n",
       "      <td>2016.09.15.R</td>\n",
       "      <td>15-Sep-16</td>\n",
       "      <td>2016</td>\n",
       "      <td>Boat</td>\n",
       "      <td>AUSTRALIA</td>\n",
       "      <td>Western Australia</td>\n",
       "      <td>Bunbury</td>\n",
       "      <td>Fishing</td>\n",
       "      <td>Occupant: Ben Stratton</td>\n",
       "      <td>NaN</td>\n",
       "      <td>...</td>\n",
       "      <td>NaN</td>\n",
       "      <td>West Australian, 9/15/2016</td>\n",
       "      <td>2016.09.15.R-boat.pdf</td>\n",
       "      <td>http://sharkattackfile.net/spreadsheets/pdf_di...</td>\n",
       "      <td>http://sharkattackfile.net/spreadsheets/pdf_di...</td>\n",
       "      <td>2016.09.15.R</td>\n",
       "      <td>2016.09.15.R</td>\n",
       "      <td>5988</td>\n",
       "      <td>NaN</td>\n",
       "      <td>NaN</td>\n",
       "    </tr>\n",
       "    <tr>\n",
       "      <th>6</th>\n",
       "      <td>2016.09.11</td>\n",
       "      <td>11-Sep-16</td>\n",
       "      <td>2016</td>\n",
       "      <td>Unprovoked</td>\n",
       "      <td>USA</td>\n",
       "      <td>Florida</td>\n",
       "      <td>Ponte Vedra, St. Johns County</td>\n",
       "      <td>Wading</td>\n",
       "      <td>male</td>\n",
       "      <td>M</td>\n",
       "      <td>...</td>\n",
       "      <td>3' to 4' shark</td>\n",
       "      <td>News4Jax, 9/11/2016</td>\n",
       "      <td>2016.09.11-PonteVedra.pdf</td>\n",
       "      <td>http://sharkattackfile.net/spreadsheets/pdf_di...</td>\n",
       "      <td>http://sharkattackfile.net/spreadsheets/pdf_di...</td>\n",
       "      <td>2016.09.11</td>\n",
       "      <td>2016.09.11</td>\n",
       "      <td>5987</td>\n",
       "      <td>NaN</td>\n",
       "      <td>NaN</td>\n",
       "    </tr>\n",
       "    <tr>\n",
       "      <th>7</th>\n",
       "      <td>2016.09.07</td>\n",
       "      <td>07-Sep-16</td>\n",
       "      <td>2016</td>\n",
       "      <td>Unprovoked</td>\n",
       "      <td>USA</td>\n",
       "      <td>Hawaii</td>\n",
       "      <td>Makaha, Oahu</td>\n",
       "      <td>Swimming</td>\n",
       "      <td>female</td>\n",
       "      <td>F</td>\n",
       "      <td>...</td>\n",
       "      <td>Tiger shark, 10?</td>\n",
       "      <td>Hawaii News Now, 9/7/2016</td>\n",
       "      <td>2016.09.07-Oahu.pdf</td>\n",
       "      <td>http://sharkattackfile.net/spreadsheets/pdf_di...</td>\n",
       "      <td>http://sharkattackfile.net/spreadsheets/pdf_di...</td>\n",
       "      <td>2016.09.07</td>\n",
       "      <td>2016.09.07</td>\n",
       "      <td>5986</td>\n",
       "      <td>NaN</td>\n",
       "      <td>NaN</td>\n",
       "    </tr>\n",
       "    <tr>\n",
       "      <th>8</th>\n",
       "      <td>2016.09.06</td>\n",
       "      <td>06-Sep-16</td>\n",
       "      <td>2016</td>\n",
       "      <td>Unprovoked</td>\n",
       "      <td>NEW CALEDONIA</td>\n",
       "      <td>North Province</td>\n",
       "      <td>Koumac</td>\n",
       "      <td>Kite surfing</td>\n",
       "      <td>David Jewell</td>\n",
       "      <td>M</td>\n",
       "      <td>...</td>\n",
       "      <td>NaN</td>\n",
       "      <td>TVANouvelles, 9/6/2016</td>\n",
       "      <td>2016.09.06-Jewell.pdf</td>\n",
       "      <td>http://sharkattackfile.net/spreadsheets/pdf_di...</td>\n",
       "      <td>http://sharkattackfile.net/spreadsheets/pdf_di...</td>\n",
       "      <td>2016.09.06</td>\n",
       "      <td>2016.09.06</td>\n",
       "      <td>5985</td>\n",
       "      <td>NaN</td>\n",
       "      <td>NaN</td>\n",
       "    </tr>\n",
       "    <tr>\n",
       "      <th>9</th>\n",
       "      <td>2016.09.05.b</td>\n",
       "      <td>05-Sep-16</td>\n",
       "      <td>2016</td>\n",
       "      <td>Unprovoked</td>\n",
       "      <td>USA</td>\n",
       "      <td>South Carolina</td>\n",
       "      <td>Kingston Plantation, Myrtle Beach, Horry County</td>\n",
       "      <td>Boogie boarding</td>\n",
       "      <td>Rylie Williams</td>\n",
       "      <td>F</td>\n",
       "      <td>...</td>\n",
       "      <td>NaN</td>\n",
       "      <td>C. Creswell, GSAF</td>\n",
       "      <td>2016.09.05.b-Williams.pdf</td>\n",
       "      <td>http://sharkattackfile.net/spreadsheets/pdf_di...</td>\n",
       "      <td>http://sharkattackfile.net/spreadsheets/pdf_di...</td>\n",
       "      <td>2016.09.05.b</td>\n",
       "      <td>2016.09.05.b</td>\n",
       "      <td>5984</td>\n",
       "      <td>NaN</td>\n",
       "      <td>NaN</td>\n",
       "    </tr>\n",
       "  </tbody>\n",
       "</table>\n",
       "<p>10 rows × 24 columns</p>\n",
       "</div>"
      ],
      "text/plain": [
       "    Case Number       Date  Year        Type        Country  \\\n",
       "0  2016.09.18.c  18-Sep-16  2016  Unprovoked            USA   \n",
       "1  2016.09.18.b  18-Sep-16  2016  Unprovoked            USA   \n",
       "2  2016.09.18.a  18-Sep-16  2016  Unprovoked            USA   \n",
       "3    2016.09.17  17-Sep-16  2016  Unprovoked      AUSTRALIA   \n",
       "4    2016.09.15  16-Sep-16  2016  Unprovoked      AUSTRALIA   \n",
       "5  2016.09.15.R  15-Sep-16  2016        Boat      AUSTRALIA   \n",
       "6    2016.09.11  11-Sep-16  2016  Unprovoked            USA   \n",
       "7    2016.09.07  07-Sep-16  2016  Unprovoked            USA   \n",
       "8    2016.09.06  06-Sep-16  2016  Unprovoked  NEW CALEDONIA   \n",
       "9  2016.09.05.b  05-Sep-16  2016  Unprovoked            USA   \n",
       "\n",
       "                Area                                         Location  \\\n",
       "0            Florida                 New Smyrna Beach, Volusia County   \n",
       "1            Florida                 New Smyrna Beach, Volusia County   \n",
       "2            Florida                 New Smyrna Beach, Volusia County   \n",
       "3           Victoria                                 Thirteenth Beach   \n",
       "4           Victoria                                      Bells Beach   \n",
       "5  Western Australia                                          Bunbury   \n",
       "6            Florida                    Ponte Vedra, St. Johns County   \n",
       "7             Hawaii                                     Makaha, Oahu   \n",
       "8     North Province                                           Koumac   \n",
       "9     South Carolina  Kingston Plantation, Myrtle Beach, Horry County   \n",
       "\n",
       "          Activity                    Name Sex   ...          Species   \\\n",
       "0          Surfing                    male    M  ...               NaN   \n",
       "1          Surfing          Chucky Luciano    M  ...               NaN   \n",
       "2          Surfing                    male    M  ...               NaN   \n",
       "3          Surfing         Rory Angiolella    M  ...               NaN   \n",
       "4          Surfing                    male    M  ...         2 m shark   \n",
       "5          Fishing  Occupant: Ben Stratton  NaN  ...               NaN   \n",
       "6           Wading                    male    M  ...    3' to 4' shark   \n",
       "7         Swimming                  female    F  ...  Tiger shark, 10?   \n",
       "8     Kite surfing            David Jewell    M  ...               NaN   \n",
       "9  Boogie boarding          Rylie Williams    F  ...               NaN   \n",
       "\n",
       "        Investigator or Source                        pdf  \\\n",
       "0  Orlando Sentinel, 9/19/2016       2016.09.18.c-NSB.pdf   \n",
       "1  Orlando Sentinel, 9/19/2016   2016.09.18.b-Luciano.pdf   \n",
       "2  Orlando Sentinel, 9/19/2016       2016.09.18.a-NSB.pdf   \n",
       "3           The Age, 9/18/2016  2016.09.17-Angiolella.pdf   \n",
       "4           The Age, 9/16/2016  2016.09.16-BellsBeach.pdf   \n",
       "5   West Australian, 9/15/2016      2016.09.15.R-boat.pdf   \n",
       "6          News4Jax, 9/11/2016  2016.09.11-PonteVedra.pdf   \n",
       "7    Hawaii News Now, 9/7/2016        2016.09.07-Oahu.pdf   \n",
       "8       TVANouvelles, 9/6/2016      2016.09.06-Jewell.pdf   \n",
       "9            C. Creswell, GSAF  2016.09.05.b-Williams.pdf   \n",
       "\n",
       "                                        href formula  \\\n",
       "0  http://sharkattackfile.net/spreadsheets/pdf_di...   \n",
       "1  http://sharkattackfile.net/spreadsheets/pdf_di...   \n",
       "2  http://sharkattackfile.net/spreadsheets/pdf_di...   \n",
       "3  http://sharkattackfile.net/spreadsheets/pdf_di...   \n",
       "4  http://sharkattackfile.net/spreadsheets/pdf_di...   \n",
       "5  http://sharkattackfile.net/spreadsheets/pdf_di...   \n",
       "6  http://sharkattackfile.net/spreadsheets/pdf_di...   \n",
       "7  http://sharkattackfile.net/spreadsheets/pdf_di...   \n",
       "8  http://sharkattackfile.net/spreadsheets/pdf_di...   \n",
       "9  http://sharkattackfile.net/spreadsheets/pdf_di...   \n",
       "\n",
       "                                                href Case Number.1  \\\n",
       "0  http://sharkattackfile.net/spreadsheets/pdf_di...  2016.09.18.c   \n",
       "1  http://sharkattackfile.net/spreadsheets/pdf_di...  2016.09.18.b   \n",
       "2  http://sharkattackfile.net/spreadsheets/pdf_di...  2016.09.18.a   \n",
       "3  http://sharkattackfile.net/spreadsheets/pdf_di...    2016.09.17   \n",
       "4  http://sharkattackfile.net/spreadsheets/pdf_di...    2016.09.16   \n",
       "5  http://sharkattackfile.net/spreadsheets/pdf_di...  2016.09.15.R   \n",
       "6  http://sharkattackfile.net/spreadsheets/pdf_di...    2016.09.11   \n",
       "7  http://sharkattackfile.net/spreadsheets/pdf_di...    2016.09.07   \n",
       "8  http://sharkattackfile.net/spreadsheets/pdf_di...    2016.09.06   \n",
       "9  http://sharkattackfile.net/spreadsheets/pdf_di...  2016.09.05.b   \n",
       "\n",
       "  Case Number.2 original order Unnamed: 22 Unnamed: 23  \n",
       "0  2016.09.18.c           5993         NaN         NaN  \n",
       "1  2016.09.18.b           5992         NaN         NaN  \n",
       "2  2016.09.18.a           5991         NaN         NaN  \n",
       "3    2016.09.17           5990         NaN         NaN  \n",
       "4    2016.09.15           5989         NaN         NaN  \n",
       "5  2016.09.15.R           5988         NaN         NaN  \n",
       "6    2016.09.11           5987         NaN         NaN  \n",
       "7    2016.09.07           5986         NaN         NaN  \n",
       "8    2016.09.06           5985         NaN         NaN  \n",
       "9  2016.09.05.b           5984         NaN         NaN  \n",
       "\n",
       "[10 rows x 24 columns]"
      ]
     },
     "execution_count": 178,
     "metadata": {},
     "output_type": "execute_result"
    }
   ],
   "source": [
    "df.head(10)"
   ]
  },
  {
   "cell_type": "code",
   "execution_count": 179,
   "id": "4fc5ce67",
   "metadata": {
    "ExecuteTime": {
     "end_time": "2021-10-30T15:31:47.112296Z",
     "start_time": "2021-10-30T15:31:47.032950Z"
    },
    "hidden": true,
    "scrolled": false
   },
   "outputs": [
    {
     "name": "stdout",
     "output_type": "stream",
     "text": [
      "<class 'pandas.core.frame.DataFrame'>\n",
      "RangeIndex: 5992 entries, 0 to 5991\n",
      "Data columns (total 24 columns):\n",
      " #   Column                  Non-Null Count  Dtype \n",
      "---  ------                  --------------  ----- \n",
      " 0   Case Number             5992 non-null   object\n",
      " 1   Date                    5992 non-null   object\n",
      " 2   Year                    5992 non-null   int64 \n",
      " 3   Type                    5992 non-null   object\n",
      " 4   Country                 5949 non-null   object\n",
      " 5   Area                    5590 non-null   object\n",
      " 6   Location                5496 non-null   object\n",
      " 7   Activity                5465 non-null   object\n",
      " 8   Name                    5792 non-null   object\n",
      " 9   Sex                     5425 non-null   object\n",
      " 10  Age                     3311 non-null   object\n",
      " 11  Injury                  5965 non-null   object\n",
      " 12  Fatal (Y/N)             5973 non-null   object\n",
      " 13  Time                    2779 non-null   object\n",
      " 14  Species                 3058 non-null   object\n",
      " 15  Investigator or Source  5977 non-null   object\n",
      " 16  pdf                     5992 non-null   object\n",
      " 17  href formula            5991 non-null   object\n",
      " 18  href                    5989 non-null   object\n",
      " 19  Case Number.1           5992 non-null   object\n",
      " 20  Case Number.2           5992 non-null   object\n",
      " 21  original order          5992 non-null   int64 \n",
      " 22  Unnamed: 22             1 non-null      object\n",
      " 23  Unnamed: 23             2 non-null      object\n",
      "dtypes: int64(2), object(22)\n",
      "memory usage: 1.1+ MB\n"
     ]
    }
   ],
   "source": [
    "df.info()"
   ]
  },
  {
   "cell_type": "code",
   "execution_count": 180,
   "id": "99d17c35",
   "metadata": {
    "ExecuteTime": {
     "end_time": "2021-10-30T15:31:50.298363Z",
     "start_time": "2021-10-30T15:31:50.274568Z"
    },
    "hidden": true
   },
   "outputs": [
    {
     "data": {
      "text/plain": [
       "Case Number                  0\n",
       "Date                         0\n",
       "Year                         0\n",
       "Type                         0\n",
       "Country                     43\n",
       "Area                       402\n",
       "Location                   496\n",
       "Activity                   527\n",
       "Name                       200\n",
       "Sex                        567\n",
       "Age                       2681\n",
       "Injury                      27\n",
       "Fatal (Y/N)                 19\n",
       "Time                      3213\n",
       "Species                   2934\n",
       "Investigator or Source      15\n",
       "pdf                          0\n",
       "href formula                 1\n",
       "href                         3\n",
       "Case Number.1                0\n",
       "Case Number.2                0\n",
       "original order               0\n",
       "Unnamed: 22               5991\n",
       "Unnamed: 23               5990\n",
       "dtype: int64"
      ]
     },
     "execution_count": 180,
     "metadata": {},
     "output_type": "execute_result"
    }
   ],
   "source": [
    "#Valores nulos\n",
    "df.isna().sum()"
   ]
  },
  {
   "cell_type": "markdown",
   "id": "a5ef323e",
   "metadata": {
    "hidden": true
   },
   "source": [
    "### Conclusiones iniciales tras Analisis inicial:\n"
   ]
  },
  {
   "cell_type": "markdown",
   "id": "c4c40477",
   "metadata": {
    "hidden": true
   },
   "source": [
    "- Se repiten columnas como case number (0,19,20): Comprobar diferencias y si son iguales borrar\n",
    "- Se solapan las columnas Year y Date: Agruparla en una.\n",
    "- En algunos casos los datos de la columna nombre se solapan con el sexo: Buscar solucion\n",
    "- Las columnas pdf, href formula y href se solapan, intentar agrupar en una\n",
    "- original order posible indice"
   ]
  },
  {
   "cell_type": "markdown",
   "id": "5cd85322",
   "metadata": {},
   "source": [
    "#  Modificacion del dataset"
   ]
  },
  {
   "cell_type": "markdown",
   "id": "cdfa158a",
   "metadata": {},
   "source": [
    "## Localizacion de problemas y limpieza del dataset por columnas"
   ]
  },
  {
   "cell_type": "markdown",
   "id": "86f19906",
   "metadata": {},
   "source": [
    "FOTO DE LA TABLA INICIAL"
   ]
  },
  {
   "cell_type": "markdown",
   "id": "dddf9b61",
   "metadata": {
    "heading_collapsed": true
   },
   "source": [
    "### Columna: \"original order\""
   ]
  },
  {
   "cell_type": "markdown",
   "id": "21f4c804",
   "metadata": {
    "hidden": true
   },
   "source": [
    "- Justificacion: pocos valores repetidos,creo que puede ser un buen indice para posteriormente poder analizar el resto de columnas\n",
    "- Problema: Valores repetidos, y discontinuidad en los numeros\n",
    "- Objetivo: Lista de valores unicos y continuos\n",
    "- Output: Nueva columna y posible indice"
   ]
  },
  {
   "cell_type": "code",
   "execution_count": 181,
   "id": "8fcb0ec2",
   "metadata": {
    "ExecuteTime": {
     "end_time": "2021-10-30T15:32:09.783009Z",
     "start_time": "2021-10-30T15:32:09.730972Z"
    },
    "hidden": true
   },
   "outputs": [
    {
     "data": {
      "text/html": [
       "<div>\n",
       "<style scoped>\n",
       "    .dataframe tbody tr th:only-of-type {\n",
       "        vertical-align: middle;\n",
       "    }\n",
       "\n",
       "    .dataframe tbody tr th {\n",
       "        vertical-align: top;\n",
       "    }\n",
       "\n",
       "    .dataframe thead th {\n",
       "        text-align: right;\n",
       "    }\n",
       "</style>\n",
       "<table border=\"1\" class=\"dataframe\">\n",
       "  <thead>\n",
       "    <tr style=\"text-align: right;\">\n",
       "      <th></th>\n",
       "      <th>Case Number</th>\n",
       "      <th>Date</th>\n",
       "      <th>Year</th>\n",
       "      <th>Type</th>\n",
       "      <th>Country</th>\n",
       "      <th>Area</th>\n",
       "      <th>Location</th>\n",
       "      <th>Activity</th>\n",
       "      <th>Name</th>\n",
       "      <th>Sex</th>\n",
       "      <th>...</th>\n",
       "      <th>Species</th>\n",
       "      <th>Investigator or Source</th>\n",
       "      <th>pdf</th>\n",
       "      <th>href formula</th>\n",
       "      <th>href</th>\n",
       "      <th>Case Number.1</th>\n",
       "      <th>Case Number.2</th>\n",
       "      <th>original order</th>\n",
       "      <th>Unnamed: 22</th>\n",
       "      <th>Unnamed: 23</th>\n",
       "    </tr>\n",
       "  </thead>\n",
       "  <tbody>\n",
       "    <tr>\n",
       "      <th>5991</th>\n",
       "      <td>ND.0001</td>\n",
       "      <td>1845-1853</td>\n",
       "      <td>0</td>\n",
       "      <td>Unprovoked</td>\n",
       "      <td>CEYLON (SRI LANKA)</td>\n",
       "      <td>Eastern Province</td>\n",
       "      <td>Below the English fort, Trincomalee</td>\n",
       "      <td>Swimming</td>\n",
       "      <td>male</td>\n",
       "      <td>M</td>\n",
       "      <td>...</td>\n",
       "      <td>NaN</td>\n",
       "      <td>S.W. Baker</td>\n",
       "      <td>ND-0001-Ceylon.pdf</td>\n",
       "      <td>http://sharkattackfile.net/spreadsheets/pdf_di...</td>\n",
       "      <td>http://sharkattackfile.net/spreadsheets/pdf_di...</td>\n",
       "      <td>ND.0001</td>\n",
       "      <td>ND.0001</td>\n",
       "      <td>2</td>\n",
       "      <td>NaN</td>\n",
       "      <td>NaN</td>\n",
       "    </tr>\n",
       "    <tr>\n",
       "      <th>5990</th>\n",
       "      <td>ND.0002</td>\n",
       "      <td>1883-1889</td>\n",
       "      <td>0</td>\n",
       "      <td>Unprovoked</td>\n",
       "      <td>PANAMA</td>\n",
       "      <td>NaN</td>\n",
       "      <td>Panama Bay 8ºN, 79ºW</td>\n",
       "      <td>NaN</td>\n",
       "      <td>Jules Patterson</td>\n",
       "      <td>M</td>\n",
       "      <td>...</td>\n",
       "      <td>NaN</td>\n",
       "      <td>The Sun, 10/20/1938</td>\n",
       "      <td>ND-0002-JulesPatterson.pdf</td>\n",
       "      <td>http://sharkattackfile.net/spreadsheets/pdf_di...</td>\n",
       "      <td>http://sharkattackfile.net/spreadsheets/pdf_di...</td>\n",
       "      <td>ND.0002</td>\n",
       "      <td>ND.0002</td>\n",
       "      <td>3</td>\n",
       "      <td>NaN</td>\n",
       "      <td>NaN</td>\n",
       "    </tr>\n",
       "    <tr>\n",
       "      <th>5989</th>\n",
       "      <td>ND.0003</td>\n",
       "      <td>1900-1905</td>\n",
       "      <td>0</td>\n",
       "      <td>Unprovoked</td>\n",
       "      <td>USA</td>\n",
       "      <td>North Carolina</td>\n",
       "      <td>Ocracoke Inlet</td>\n",
       "      <td>Swimming</td>\n",
       "      <td>Coast Guard personnel</td>\n",
       "      <td>M</td>\n",
       "      <td>...</td>\n",
       "      <td>NaN</td>\n",
       "      <td>F. Schwartz, p.23; C. Creswell, GSAF</td>\n",
       "      <td>ND-0003-Ocracoke_1900-1905.pdf</td>\n",
       "      <td>http://sharkattackfile.net/spreadsheets/pdf_di...</td>\n",
       "      <td>http://sharkattackfile.net/spreadsheets/pdf_di...</td>\n",
       "      <td>ND.0003</td>\n",
       "      <td>ND.0003</td>\n",
       "      <td>4</td>\n",
       "      <td>NaN</td>\n",
       "      <td>NaN</td>\n",
       "    </tr>\n",
       "  </tbody>\n",
       "</table>\n",
       "<p>3 rows × 24 columns</p>\n",
       "</div>"
      ],
      "text/plain": [
       "     Case Number       Date  Year        Type             Country  \\\n",
       "5991     ND.0001  1845-1853     0  Unprovoked  CEYLON (SRI LANKA)   \n",
       "5990     ND.0002  1883-1889     0  Unprovoked              PANAMA   \n",
       "5989     ND.0003  1900-1905     0  Unprovoked                 USA   \n",
       "\n",
       "                  Area                             Location  Activity  \\\n",
       "5991  Eastern Province  Below the English fort, Trincomalee  Swimming   \n",
       "5990               NaN                 Panama Bay 8ºN, 79ºW       NaN   \n",
       "5989    North Carolina                       Ocracoke Inlet  Swimming   \n",
       "\n",
       "                       Name Sex   ... Species   \\\n",
       "5991                   male    M  ...      NaN   \n",
       "5990        Jules Patterson    M  ...      NaN   \n",
       "5989  Coast Guard personnel    M  ...      NaN   \n",
       "\n",
       "                    Investigator or Source                             pdf  \\\n",
       "5991                            S.W. Baker              ND-0001-Ceylon.pdf   \n",
       "5990                   The Sun, 10/20/1938      ND-0002-JulesPatterson.pdf   \n",
       "5989  F. Schwartz, p.23; C. Creswell, GSAF  ND-0003-Ocracoke_1900-1905.pdf   \n",
       "\n",
       "                                           href formula  \\\n",
       "5991  http://sharkattackfile.net/spreadsheets/pdf_di...   \n",
       "5990  http://sharkattackfile.net/spreadsheets/pdf_di...   \n",
       "5989  http://sharkattackfile.net/spreadsheets/pdf_di...   \n",
       "\n",
       "                                                   href Case Number.1  \\\n",
       "5991  http://sharkattackfile.net/spreadsheets/pdf_di...       ND.0001   \n",
       "5990  http://sharkattackfile.net/spreadsheets/pdf_di...       ND.0002   \n",
       "5989  http://sharkattackfile.net/spreadsheets/pdf_di...       ND.0003   \n",
       "\n",
       "     Case Number.2 original order Unnamed: 22 Unnamed: 23  \n",
       "5991       ND.0001              2         NaN         NaN  \n",
       "5990       ND.0002              3         NaN         NaN  \n",
       "5989       ND.0003              4         NaN         NaN  \n",
       "\n",
       "[3 rows x 24 columns]"
      ]
     },
     "execution_count": 181,
     "metadata": {},
     "output_type": "execute_result"
    }
   ],
   "source": [
    "#ordeno la tabla por los valores original order\n",
    "df.sort_values(\"original order\",ascending=True,inplace=True)\n",
    "df.head(3)"
   ]
  },
  {
   "cell_type": "code",
   "execution_count": 182,
   "id": "3a442955",
   "metadata": {
    "ExecuteTime": {
     "end_time": "2021-10-30T15:32:14.332565Z",
     "start_time": "2021-10-30T15:32:14.264560Z"
    },
    "hidden": true
   },
   "outputs": [
    {
     "data": {
      "text/plain": [
       "5988"
      ]
     },
     "execution_count": 182,
     "metadata": {},
     "output_type": "execute_result"
    }
   ],
   "source": [
    "#Vamos a ver que valoers faltan\n",
    "df[\"original order\"].nunique()"
   ]
  },
  {
   "cell_type": "code",
   "execution_count": 183,
   "id": "86c9a95c",
   "metadata": {
    "ExecuteTime": {
     "end_time": "2021-10-30T15:32:16.228418Z",
     "start_time": "2021-10-30T15:32:16.213608Z"
    },
    "hidden": true
   },
   "outputs": [],
   "source": [
    "#Vamos a comprobar cuantos valores se repiten \n",
    "OE_ValoresRepetidos=len(df[\"original order\"])-df[\"original order\"].nunique()"
   ]
  },
  {
   "cell_type": "code",
   "execution_count": 184,
   "id": "8297c45c",
   "metadata": {
    "ExecuteTime": {
     "end_time": "2021-10-30T15:32:17.940308Z",
     "start_time": "2021-10-30T15:32:17.916633Z"
    },
    "hidden": true
   },
   "outputs": [
    {
     "data": {
      "text/plain": [
       "5739    2\n",
       "569     2\n",
       "5661    2\n",
       "3847    2\n",
       "Name: original order, dtype: int64"
      ]
     },
     "execution_count": 184,
     "metadata": {},
     "output_type": "execute_result"
    }
   ],
   "source": [
    "#Comprobamos QUE valores se repiten\n",
    "df[\"original order\"].value_counts().head(OE_ValoresRepetidos)"
   ]
  },
  {
   "cell_type": "code",
   "execution_count": 185,
   "id": "10414e8a",
   "metadata": {
    "ExecuteTime": {
     "end_time": "2021-10-30T15:32:23.242657Z",
     "start_time": "2021-10-30T15:32:21.544376Z"
    },
    "hidden": true
   },
   "outputs": [
    {
     "name": "stdout",
     "output_type": "stream",
     "text": [
      "0\n",
      "1\n",
      "571\n",
      "3347\n",
      "5724\n",
      "5881\n"
     ]
    }
   ],
   "source": [
    "#Comprobamos desde el 0 al numero de casos, que valores no estan, lopaso a index ya que me resuta mas facil\n",
    "df2=df.set_index(\"original order\")\n",
    "for i in range(0,len(df2)):\n",
    "    try:\n",
    "        df2.loc[i]\n",
    "    except KeyError:\n",
    "        print(i)"
   ]
  },
  {
   "cell_type": "markdown",
   "id": "97e7bad0",
   "metadata": {
    "ExecuteTime": {
     "end_time": "2021-10-30T10:39:21.365815Z",
     "start_time": "2021-10-30T10:39:21.356150Z"
    },
    "hidden": true
   },
   "source": [
    "Problema de original order: 4 numeros repetidos y en el orden de casos se han saltado varios numeros\n",
    "Opciones para corregirlo:\n",
    "- Opcion A: Cambios en la misma columna:\n",
    "        - del 2 al 568 correcto, pasamos el segundo valor 569 al 570 \n",
    "        - del 571 al 3346 correcto, del3348 al primer valor 3847 hay que restarle 1\n",
    "        - del 3848 al 5660 correcto, del segundo valor del 5661 a 5723 hay que sumarle 1\n",
    "        - del 5725 a 5738 correcto, del segundo valor de 5739 al 5880 hay que sumarle 1\n",
    "        - despues restamos 1 a todo y los casos empezaran desde 1 siendo valores unicos\n",
    "- Opcion B:\n",
    "        - ponerlo en orden y crear una nueva tabla con un rango de 1 a len"
   ]
  },
  {
   "cell_type": "markdown",
   "id": "b3defad0",
   "metadata": {
    "hidden": true
   },
   "source": [
    "ELIJO LA OPCION B"
   ]
  },
  {
   "cell_type": "code",
   "execution_count": 186,
   "id": "9c09c05d",
   "metadata": {
    "ExecuteTime": {
     "end_time": "2021-10-30T15:32:39.345960Z",
     "start_time": "2021-10-30T15:32:39.322710Z"
    },
    "hidden": true
   },
   "outputs": [],
   "source": [
    "#cambio el indice con una lista de numeros desde el 1 hasta la longitud +1\n",
    "lista=[i for i in range(1,len(df)+1)]\n"
   ]
  },
  {
   "cell_type": "code",
   "execution_count": 187,
   "id": "19aefe1d",
   "metadata": {
    "ExecuteTime": {
     "end_time": "2021-10-30T15:32:40.168617Z",
     "start_time": "2021-10-30T15:32:40.143961Z"
    },
    "hidden": true
   },
   "outputs": [],
   "source": [
    "# añado la columna nueva y borro la antigua\n",
    "df[\"OriginalOrder\"]=lista\n",
    "df.drop(\"original order\",axis=1,inplace=True)"
   ]
  },
  {
   "cell_type": "markdown",
   "id": "4e2e05f9",
   "metadata": {
    "heading_collapsed": true
   },
   "source": [
    "### Columna \"unname 23\""
   ]
  },
  {
   "cell_type": "markdown",
   "id": "57957b29",
   "metadata": {
    "hidden": true
   },
   "source": [
    " ####  analisis de los valores y conocimiento del problema"
   ]
  },
  {
   "cell_type": "code",
   "execution_count": 188,
   "id": "7b1ffd22",
   "metadata": {
    "ExecuteTime": {
     "end_time": "2021-10-30T15:32:53.668569Z",
     "start_time": "2021-10-30T15:32:53.660893Z"
    },
    "hidden": true
   },
   "outputs": [
    {
     "data": {
      "text/plain": [
       "{'Teramo', 'change filename', nan}"
      ]
     },
     "execution_count": 188,
     "metadata": {},
     "output_type": "execute_result"
    }
   ],
   "source": [
    "#Valores de Unnamed 23\n",
    "set(df[\"Unnamed: 23\"])"
   ]
  },
  {
   "cell_type": "code",
   "execution_count": 189,
   "id": "2529982e",
   "metadata": {
    "ExecuteTime": {
     "end_time": "2021-10-30T15:32:54.868409Z",
     "start_time": "2021-10-30T15:32:54.844231Z"
    },
    "hidden": true
   },
   "outputs": [
    {
     "data": {
      "text/plain": [
       "Teramo             1\n",
       "change filename    1\n",
       "Name: Unnamed: 23, dtype: int64"
      ]
     },
     "execution_count": 189,
     "metadata": {},
     "output_type": "execute_result"
    }
   ],
   "source": [
    "#Cantidad de veces que salen estos valores\n",
    "df[\"Unnamed: 23\"].value_counts()"
   ]
  },
  {
   "cell_type": "markdown",
   "id": "5b8bd8ce",
   "metadata": {
    "hidden": true
   },
   "source": [
    "#### Conclusion y output"
   ]
  },
  {
   "cell_type": "code",
   "execution_count": 190,
   "id": "3128991e",
   "metadata": {
    "ExecuteTime": {
     "end_time": "2021-10-30T15:33:08.966408Z",
     "start_time": "2021-10-30T15:33:08.944236Z"
    },
    "code_folding": [],
    "hidden": true
   },
   "outputs": [],
   "source": [
    "# No la considero relevante asi que decido borrarla\n",
    "df.drop(\"Unnamed: 23\",axis=1,inplace=True)"
   ]
  },
  {
   "cell_type": "markdown",
   "id": "1c5213e3",
   "metadata": {},
   "source": [
    "### Columna \"unname 22\""
   ]
  },
  {
   "cell_type": "markdown",
   "id": "eee8a886",
   "metadata": {},
   "source": [
    "#### Identificacion de valores nulos de cada columna"
   ]
  },
  {
   "cell_type": "code",
   "execution_count": 158,
   "id": "de087635",
   "metadata": {
    "ExecuteTime": {
     "end_time": "2021-10-30T11:15:28.493287Z",
     "start_time": "2021-10-30T11:15:28.479934Z"
    }
   },
   "outputs": [
    {
     "data": {
      "text/plain": [
       "{nan, 'stopped here'}"
      ]
     },
     "execution_count": 158,
     "metadata": {},
     "output_type": "execute_result"
    }
   ],
   "source": [
    "#Valores de Unnamed 22\n",
    "set(df[\"Unnamed: 22\"])"
   ]
  },
  {
   "cell_type": "code",
   "execution_count": 171,
   "id": "52260bd3",
   "metadata": {
    "ExecuteTime": {
     "end_time": "2021-10-30T11:18:57.498165Z",
     "start_time": "2021-10-30T11:18:57.485654Z"
    }
   },
   "outputs": [
    {
     "data": {
      "text/plain": [
       "stopped here    1\n",
       "Name: Unnamed: 22, dtype: int64"
      ]
     },
     "execution_count": 171,
     "metadata": {},
     "output_type": "execute_result"
    }
   ],
   "source": [
    "#Vamos a ver cuantos valores hay\n",
    "df[\"Unnamed: 22\"].value_counts()"
   ]
  },
  {
   "cell_type": "code",
   "execution_count": 172,
   "id": "5ddca635",
   "metadata": {
    "ExecuteTime": {
     "end_time": "2021-10-30T11:19:26.427588Z",
     "start_time": "2021-10-30T11:19:26.391006Z"
    }
   },
   "outputs": [
    {
     "data": {
      "text/html": [
       "<div>\n",
       "<style scoped>\n",
       "    .dataframe tbody tr th:only-of-type {\n",
       "        vertical-align: middle;\n",
       "    }\n",
       "\n",
       "    .dataframe tbody tr th {\n",
       "        vertical-align: top;\n",
       "    }\n",
       "\n",
       "    .dataframe thead th {\n",
       "        text-align: right;\n",
       "    }\n",
       "</style>\n",
       "<table border=\"1\" class=\"dataframe\">\n",
       "  <thead>\n",
       "    <tr style=\"text-align: right;\">\n",
       "      <th></th>\n",
       "      <th>Case Number</th>\n",
       "      <th>Date</th>\n",
       "      <th>Year</th>\n",
       "      <th>Type</th>\n",
       "      <th>Country</th>\n",
       "      <th>Area</th>\n",
       "      <th>Location</th>\n",
       "      <th>Activity</th>\n",
       "      <th>Name</th>\n",
       "      <th>Sex</th>\n",
       "      <th>...</th>\n",
       "      <th>Fatal (Y/N)</th>\n",
       "      <th>Time</th>\n",
       "      <th>Species</th>\n",
       "      <th>Investigator or Source</th>\n",
       "      <th>pdf</th>\n",
       "      <th>href formula</th>\n",
       "      <th>href</th>\n",
       "      <th>Case Number.1</th>\n",
       "      <th>Case Number.2</th>\n",
       "      <th>OriginalOrder</th>\n",
       "    </tr>\n",
       "    <tr>\n",
       "      <th>Unnamed: 22</th>\n",
       "      <th></th>\n",
       "      <th></th>\n",
       "      <th></th>\n",
       "      <th></th>\n",
       "      <th></th>\n",
       "      <th></th>\n",
       "      <th></th>\n",
       "      <th></th>\n",
       "      <th></th>\n",
       "      <th></th>\n",
       "      <th></th>\n",
       "      <th></th>\n",
       "      <th></th>\n",
       "      <th></th>\n",
       "      <th></th>\n",
       "      <th></th>\n",
       "      <th></th>\n",
       "      <th></th>\n",
       "      <th></th>\n",
       "      <th></th>\n",
       "      <th></th>\n",
       "    </tr>\n",
       "  </thead>\n",
       "  <tbody>\n",
       "    <tr>\n",
       "      <th>stopped here</th>\n",
       "      <td>2006.06.18</td>\n",
       "      <td>18-Jun-06</td>\n",
       "      <td>2006</td>\n",
       "      <td>Unprovoked</td>\n",
       "      <td>BRAZIL</td>\n",
       "      <td>Pernambuco</td>\n",
       "      <td>Punta Del Chifre Beach, Olinda</td>\n",
       "      <td>Body boarding</td>\n",
       "      <td>Humberto Pessoa Batista</td>\n",
       "      <td>M</td>\n",
       "      <td>...</td>\n",
       "      <td>Y</td>\n",
       "      <td>09h00</td>\n",
       "      <td>NaN</td>\n",
       "      <td>globalsurfnews.com</td>\n",
       "      <td>2006.06.18-Batista.pdf</td>\n",
       "      <td>http://sharkattackfile.net/spreadsheets/pdf_di...</td>\n",
       "      <td>http://sharkattackfile.net/spreadsheets/pdf_di...</td>\n",
       "      <td>2006.06.18</td>\n",
       "      <td>2006.06.18</td>\n",
       "      <td>4745</td>\n",
       "    </tr>\n",
       "  </tbody>\n",
       "</table>\n",
       "<p>1 rows × 22 columns</p>\n",
       "</div>"
      ],
      "text/plain": [
       "             Case Number       Date  Year        Type Country        Area  \\\n",
       "Unnamed: 22                                                                 \n",
       "stopped here  2006.06.18  18-Jun-06  2006  Unprovoked  BRAZIL  Pernambuco   \n",
       "\n",
       "                                    Location       Activity  \\\n",
       "Unnamed: 22                                                   \n",
       "stopped here  Punta Del Chifre Beach, Olinda  Body boarding   \n",
       "\n",
       "                                 Name Sex   ... Fatal (Y/N)   Time Species   \\\n",
       "Unnamed: 22                                 ...                               \n",
       "stopped here  Humberto Pessoa Batista    M  ...           Y  09h00      NaN   \n",
       "\n",
       "             Investigator or Source                     pdf  \\\n",
       "Unnamed: 22                                                   \n",
       "stopped here     globalsurfnews.com  2006.06.18-Batista.pdf   \n",
       "\n",
       "                                                   href formula  \\\n",
       "Unnamed: 22                                                       \n",
       "stopped here  http://sharkattackfile.net/spreadsheets/pdf_di...   \n",
       "\n",
       "                                                           href Case Number.1  \\\n",
       "Unnamed: 22                                                                     \n",
       "stopped here  http://sharkattackfile.net/spreadsheets/pdf_di...    2006.06.18   \n",
       "\n",
       "             Case Number.2 OriginalOrder  \n",
       "Unnamed: 22                               \n",
       "stopped here    2006.06.18          4745  \n",
       "\n",
       "[1 rows x 22 columns]"
      ]
     },
     "execution_count": 172,
     "metadata": {},
     "output_type": "execute_result"
    }
   ],
   "source": [
    "#Solo hay un valor \"stopped here\", vamos a ver el registro para ver si tiene relevancia\n",
    "df3=df.set_index(\"Unnamed: 22\")\n",
    "df3.sort_values(\"Unnamed: 22\").head(1)"
   ]
  },
  {
   "cell_type": "code",
   "execution_count": 173,
   "id": "3c743ad8",
   "metadata": {
    "ExecuteTime": {
     "end_time": "2021-10-30T11:20:18.233384Z",
     "start_time": "2021-10-30T11:20:18.221625Z"
    }
   },
   "outputs": [],
   "source": [
    "#El registro esta en mitad de la tabla y no lo considero importante asi que quito toda la columna \n",
    "df.drop(\"Unnamed: 22\", axis=1,inplace=True)"
   ]
  },
  {
   "cell_type": "code",
   "execution_count": 174,
   "id": "f1b67904",
   "metadata": {
    "ExecuteTime": {
     "end_time": "2021-10-30T11:20:23.220712Z",
     "start_time": "2021-10-30T11:20:23.172455Z"
    }
   },
   "outputs": [
    {
     "data": {
      "text/html": [
       "<div>\n",
       "<style scoped>\n",
       "    .dataframe tbody tr th:only-of-type {\n",
       "        vertical-align: middle;\n",
       "    }\n",
       "\n",
       "    .dataframe tbody tr th {\n",
       "        vertical-align: top;\n",
       "    }\n",
       "\n",
       "    .dataframe thead th {\n",
       "        text-align: right;\n",
       "    }\n",
       "</style>\n",
       "<table border=\"1\" class=\"dataframe\">\n",
       "  <thead>\n",
       "    <tr style=\"text-align: right;\">\n",
       "      <th></th>\n",
       "      <th>Case Number</th>\n",
       "      <th>Date</th>\n",
       "      <th>Year</th>\n",
       "      <th>Type</th>\n",
       "      <th>Country</th>\n",
       "      <th>Area</th>\n",
       "      <th>Location</th>\n",
       "      <th>Activity</th>\n",
       "      <th>Name</th>\n",
       "      <th>Sex</th>\n",
       "      <th>...</th>\n",
       "      <th>Fatal (Y/N)</th>\n",
       "      <th>Time</th>\n",
       "      <th>Species</th>\n",
       "      <th>Investigator or Source</th>\n",
       "      <th>pdf</th>\n",
       "      <th>href formula</th>\n",
       "      <th>href</th>\n",
       "      <th>Case Number.1</th>\n",
       "      <th>Case Number.2</th>\n",
       "      <th>OriginalOrder</th>\n",
       "    </tr>\n",
       "  </thead>\n",
       "  <tbody>\n",
       "    <tr>\n",
       "      <th>5991</th>\n",
       "      <td>ND.0001</td>\n",
       "      <td>1845-1853</td>\n",
       "      <td>0</td>\n",
       "      <td>Unprovoked</td>\n",
       "      <td>CEYLON (SRI LANKA)</td>\n",
       "      <td>Eastern Province</td>\n",
       "      <td>Below the English fort, Trincomalee</td>\n",
       "      <td>Swimming</td>\n",
       "      <td>male</td>\n",
       "      <td>M</td>\n",
       "      <td>...</td>\n",
       "      <td>Y</td>\n",
       "      <td>NaN</td>\n",
       "      <td>NaN</td>\n",
       "      <td>S.W. Baker</td>\n",
       "      <td>ND-0001-Ceylon.pdf</td>\n",
       "      <td>http://sharkattackfile.net/spreadsheets/pdf_di...</td>\n",
       "      <td>http://sharkattackfile.net/spreadsheets/pdf_di...</td>\n",
       "      <td>ND.0001</td>\n",
       "      <td>ND.0001</td>\n",
       "      <td>1</td>\n",
       "    </tr>\n",
       "    <tr>\n",
       "      <th>5990</th>\n",
       "      <td>ND.0002</td>\n",
       "      <td>1883-1889</td>\n",
       "      <td>0</td>\n",
       "      <td>Unprovoked</td>\n",
       "      <td>PANAMA</td>\n",
       "      <td>NaN</td>\n",
       "      <td>Panama Bay 8ºN, 79ºW</td>\n",
       "      <td>NaN</td>\n",
       "      <td>Jules Patterson</td>\n",
       "      <td>M</td>\n",
       "      <td>...</td>\n",
       "      <td>Y</td>\n",
       "      <td>NaN</td>\n",
       "      <td>NaN</td>\n",
       "      <td>The Sun, 10/20/1938</td>\n",
       "      <td>ND-0002-JulesPatterson.pdf</td>\n",
       "      <td>http://sharkattackfile.net/spreadsheets/pdf_di...</td>\n",
       "      <td>http://sharkattackfile.net/spreadsheets/pdf_di...</td>\n",
       "      <td>ND.0002</td>\n",
       "      <td>ND.0002</td>\n",
       "      <td>2</td>\n",
       "    </tr>\n",
       "    <tr>\n",
       "      <th>5989</th>\n",
       "      <td>ND.0003</td>\n",
       "      <td>1900-1905</td>\n",
       "      <td>0</td>\n",
       "      <td>Unprovoked</td>\n",
       "      <td>USA</td>\n",
       "      <td>North Carolina</td>\n",
       "      <td>Ocracoke Inlet</td>\n",
       "      <td>Swimming</td>\n",
       "      <td>Coast Guard personnel</td>\n",
       "      <td>M</td>\n",
       "      <td>...</td>\n",
       "      <td>Y</td>\n",
       "      <td>NaN</td>\n",
       "      <td>NaN</td>\n",
       "      <td>F. Schwartz, p.23; C. Creswell, GSAF</td>\n",
       "      <td>ND-0003-Ocracoke_1900-1905.pdf</td>\n",
       "      <td>http://sharkattackfile.net/spreadsheets/pdf_di...</td>\n",
       "      <td>http://sharkattackfile.net/spreadsheets/pdf_di...</td>\n",
       "      <td>ND.0003</td>\n",
       "      <td>ND.0003</td>\n",
       "      <td>3</td>\n",
       "    </tr>\n",
       "    <tr>\n",
       "      <th>5988</th>\n",
       "      <td>ND.0004</td>\n",
       "      <td>Before 1903</td>\n",
       "      <td>0</td>\n",
       "      <td>Unprovoked</td>\n",
       "      <td>AUSTRALIA</td>\n",
       "      <td>Western Australia</td>\n",
       "      <td>NaN</td>\n",
       "      <td>Pearl diving</td>\n",
       "      <td>Ahmun</td>\n",
       "      <td>M</td>\n",
       "      <td>...</td>\n",
       "      <td>Y</td>\n",
       "      <td>NaN</td>\n",
       "      <td>NaN</td>\n",
       "      <td>H. Taunton; N. Bartlett,  pp. 233-234</td>\n",
       "      <td>ND-0004-Ahmun.pdf</td>\n",
       "      <td>http://sharkattackfile.net/spreadsheets/pdf_di...</td>\n",
       "      <td>http://sharkattackfile.net/spreadsheets/pdf_di...</td>\n",
       "      <td>ND.0004</td>\n",
       "      <td>ND.0004</td>\n",
       "      <td>4</td>\n",
       "    </tr>\n",
       "    <tr>\n",
       "      <th>5987</th>\n",
       "      <td>ND.0005</td>\n",
       "      <td>Before 1903</td>\n",
       "      <td>0</td>\n",
       "      <td>Unprovoked</td>\n",
       "      <td>AUSTRALIA</td>\n",
       "      <td>Western Australia</td>\n",
       "      <td>Roebuck Bay</td>\n",
       "      <td>Diving</td>\n",
       "      <td>male</td>\n",
       "      <td>M</td>\n",
       "      <td>...</td>\n",
       "      <td>Y</td>\n",
       "      <td>NaN</td>\n",
       "      <td>NaN</td>\n",
       "      <td>H. Taunton; N. Bartlett,  p. 234</td>\n",
       "      <td>ND-0005-RoebuckBay.pdf</td>\n",
       "      <td>http://sharkattackfile.net/spreadsheets/pdf_di...</td>\n",
       "      <td>http://sharkattackfile.net/spreadsheets/pdf_di...</td>\n",
       "      <td>ND.0005</td>\n",
       "      <td>ND.0005</td>\n",
       "      <td>5</td>\n",
       "    </tr>\n",
       "    <tr>\n",
       "      <th>...</th>\n",
       "      <td>...</td>\n",
       "      <td>...</td>\n",
       "      <td>...</td>\n",
       "      <td>...</td>\n",
       "      <td>...</td>\n",
       "      <td>...</td>\n",
       "      <td>...</td>\n",
       "      <td>...</td>\n",
       "      <td>...</td>\n",
       "      <td>...</td>\n",
       "      <td>...</td>\n",
       "      <td>...</td>\n",
       "      <td>...</td>\n",
       "      <td>...</td>\n",
       "      <td>...</td>\n",
       "      <td>...</td>\n",
       "      <td>...</td>\n",
       "      <td>...</td>\n",
       "      <td>...</td>\n",
       "      <td>...</td>\n",
       "      <td>...</td>\n",
       "    </tr>\n",
       "    <tr>\n",
       "      <th>4</th>\n",
       "      <td>2016.09.15</td>\n",
       "      <td>16-Sep-16</td>\n",
       "      <td>2016</td>\n",
       "      <td>Unprovoked</td>\n",
       "      <td>AUSTRALIA</td>\n",
       "      <td>Victoria</td>\n",
       "      <td>Bells Beach</td>\n",
       "      <td>Surfing</td>\n",
       "      <td>male</td>\n",
       "      <td>M</td>\n",
       "      <td>...</td>\n",
       "      <td>N</td>\n",
       "      <td>NaN</td>\n",
       "      <td>2 m shark</td>\n",
       "      <td>The Age, 9/16/2016</td>\n",
       "      <td>2016.09.16-BellsBeach.pdf</td>\n",
       "      <td>http://sharkattackfile.net/spreadsheets/pdf_di...</td>\n",
       "      <td>http://sharkattackfile.net/spreadsheets/pdf_di...</td>\n",
       "      <td>2016.09.16</td>\n",
       "      <td>2016.09.15</td>\n",
       "      <td>5988</td>\n",
       "    </tr>\n",
       "    <tr>\n",
       "      <th>3</th>\n",
       "      <td>2016.09.17</td>\n",
       "      <td>17-Sep-16</td>\n",
       "      <td>2016</td>\n",
       "      <td>Unprovoked</td>\n",
       "      <td>AUSTRALIA</td>\n",
       "      <td>Victoria</td>\n",
       "      <td>Thirteenth Beach</td>\n",
       "      <td>Surfing</td>\n",
       "      <td>Rory Angiolella</td>\n",
       "      <td>M</td>\n",
       "      <td>...</td>\n",
       "      <td>N</td>\n",
       "      <td>NaN</td>\n",
       "      <td>NaN</td>\n",
       "      <td>The Age, 9/18/2016</td>\n",
       "      <td>2016.09.17-Angiolella.pdf</td>\n",
       "      <td>http://sharkattackfile.net/spreadsheets/pdf_di...</td>\n",
       "      <td>http://sharkattackfile.net/spreadsheets/pdf_di...</td>\n",
       "      <td>2016.09.17</td>\n",
       "      <td>2016.09.17</td>\n",
       "      <td>5989</td>\n",
       "    </tr>\n",
       "    <tr>\n",
       "      <th>2</th>\n",
       "      <td>2016.09.18.a</td>\n",
       "      <td>18-Sep-16</td>\n",
       "      <td>2016</td>\n",
       "      <td>Unprovoked</td>\n",
       "      <td>USA</td>\n",
       "      <td>Florida</td>\n",
       "      <td>New Smyrna Beach, Volusia County</td>\n",
       "      <td>Surfing</td>\n",
       "      <td>male</td>\n",
       "      <td>M</td>\n",
       "      <td>...</td>\n",
       "      <td>N</td>\n",
       "      <td>10h43</td>\n",
       "      <td>NaN</td>\n",
       "      <td>Orlando Sentinel, 9/19/2016</td>\n",
       "      <td>2016.09.18.a-NSB.pdf</td>\n",
       "      <td>http://sharkattackfile.net/spreadsheets/pdf_di...</td>\n",
       "      <td>http://sharkattackfile.net/spreadsheets/pdf_di...</td>\n",
       "      <td>2016.09.18.a</td>\n",
       "      <td>2016.09.18.a</td>\n",
       "      <td>5990</td>\n",
       "    </tr>\n",
       "    <tr>\n",
       "      <th>1</th>\n",
       "      <td>2016.09.18.b</td>\n",
       "      <td>18-Sep-16</td>\n",
       "      <td>2016</td>\n",
       "      <td>Unprovoked</td>\n",
       "      <td>USA</td>\n",
       "      <td>Florida</td>\n",
       "      <td>New Smyrna Beach, Volusia County</td>\n",
       "      <td>Surfing</td>\n",
       "      <td>Chucky Luciano</td>\n",
       "      <td>M</td>\n",
       "      <td>...</td>\n",
       "      <td>N</td>\n",
       "      <td>11h00</td>\n",
       "      <td>NaN</td>\n",
       "      <td>Orlando Sentinel, 9/19/2016</td>\n",
       "      <td>2016.09.18.b-Luciano.pdf</td>\n",
       "      <td>http://sharkattackfile.net/spreadsheets/pdf_di...</td>\n",
       "      <td>http://sharkattackfile.net/spreadsheets/pdf_di...</td>\n",
       "      <td>2016.09.18.b</td>\n",
       "      <td>2016.09.18.b</td>\n",
       "      <td>5991</td>\n",
       "    </tr>\n",
       "    <tr>\n",
       "      <th>0</th>\n",
       "      <td>2016.09.18.c</td>\n",
       "      <td>18-Sep-16</td>\n",
       "      <td>2016</td>\n",
       "      <td>Unprovoked</td>\n",
       "      <td>USA</td>\n",
       "      <td>Florida</td>\n",
       "      <td>New Smyrna Beach, Volusia County</td>\n",
       "      <td>Surfing</td>\n",
       "      <td>male</td>\n",
       "      <td>M</td>\n",
       "      <td>...</td>\n",
       "      <td>N</td>\n",
       "      <td>13h00</td>\n",
       "      <td>NaN</td>\n",
       "      <td>Orlando Sentinel, 9/19/2016</td>\n",
       "      <td>2016.09.18.c-NSB.pdf</td>\n",
       "      <td>http://sharkattackfile.net/spreadsheets/pdf_di...</td>\n",
       "      <td>http://sharkattackfile.net/spreadsheets/pdf_di...</td>\n",
       "      <td>2016.09.18.c</td>\n",
       "      <td>2016.09.18.c</td>\n",
       "      <td>5992</td>\n",
       "    </tr>\n",
       "  </tbody>\n",
       "</table>\n",
       "<p>5992 rows × 22 columns</p>\n",
       "</div>"
      ],
      "text/plain": [
       "       Case Number         Date  Year        Type             Country  \\\n",
       "5991       ND.0001    1845-1853     0  Unprovoked  CEYLON (SRI LANKA)   \n",
       "5990       ND.0002    1883-1889     0  Unprovoked              PANAMA   \n",
       "5989       ND.0003    1900-1905     0  Unprovoked                 USA   \n",
       "5988       ND.0004  Before 1903     0  Unprovoked           AUSTRALIA   \n",
       "5987       ND.0005  Before 1903     0  Unprovoked           AUSTRALIA   \n",
       "...            ...          ...   ...         ...                 ...   \n",
       "4       2016.09.15    16-Sep-16  2016  Unprovoked           AUSTRALIA   \n",
       "3       2016.09.17    17-Sep-16  2016  Unprovoked           AUSTRALIA   \n",
       "2     2016.09.18.a    18-Sep-16  2016  Unprovoked                 USA   \n",
       "1     2016.09.18.b    18-Sep-16  2016  Unprovoked                 USA   \n",
       "0     2016.09.18.c    18-Sep-16  2016  Unprovoked                 USA   \n",
       "\n",
       "                   Area                             Location      Activity  \\\n",
       "5991   Eastern Province  Below the English fort, Trincomalee      Swimming   \n",
       "5990                NaN                 Panama Bay 8ºN, 79ºW           NaN   \n",
       "5989     North Carolina                       Ocracoke Inlet      Swimming   \n",
       "5988  Western Australia                                  NaN  Pearl diving   \n",
       "5987  Western Australia                          Roebuck Bay        Diving   \n",
       "...                 ...                                  ...           ...   \n",
       "4              Victoria                          Bells Beach       Surfing   \n",
       "3              Victoria                     Thirteenth Beach       Surfing   \n",
       "2               Florida     New Smyrna Beach, Volusia County       Surfing   \n",
       "1               Florida     New Smyrna Beach, Volusia County       Surfing   \n",
       "0               Florida     New Smyrna Beach, Volusia County       Surfing   \n",
       "\n",
       "                       Name Sex   ... Fatal (Y/N)   Time   Species   \\\n",
       "5991                   male    M  ...           Y    NaN        NaN   \n",
       "5990        Jules Patterson    M  ...           Y    NaN        NaN   \n",
       "5989  Coast Guard personnel    M  ...           Y    NaN        NaN   \n",
       "5988                  Ahmun    M  ...           Y    NaN        NaN   \n",
       "5987                   male    M  ...           Y    NaN        NaN   \n",
       "...                     ...  ...  ...         ...    ...        ...   \n",
       "4                      male    M  ...           N    NaN  2 m shark   \n",
       "3           Rory Angiolella    M  ...           N    NaN        NaN   \n",
       "2                      male    M  ...           N  10h43        NaN   \n",
       "1            Chucky Luciano    M  ...           N  11h00        NaN   \n",
       "0                      male    M  ...           N  13h00        NaN   \n",
       "\n",
       "                     Investigator or Source                             pdf  \\\n",
       "5991                             S.W. Baker              ND-0001-Ceylon.pdf   \n",
       "5990                    The Sun, 10/20/1938      ND-0002-JulesPatterson.pdf   \n",
       "5989   F. Schwartz, p.23; C. Creswell, GSAF  ND-0003-Ocracoke_1900-1905.pdf   \n",
       "5988  H. Taunton; N. Bartlett,  pp. 233-234               ND-0004-Ahmun.pdf   \n",
       "5987       H. Taunton; N. Bartlett,  p. 234          ND-0005-RoebuckBay.pdf   \n",
       "...                                     ...                             ...   \n",
       "4                        The Age, 9/16/2016       2016.09.16-BellsBeach.pdf   \n",
       "3                        The Age, 9/18/2016       2016.09.17-Angiolella.pdf   \n",
       "2               Orlando Sentinel, 9/19/2016            2016.09.18.a-NSB.pdf   \n",
       "1               Orlando Sentinel, 9/19/2016        2016.09.18.b-Luciano.pdf   \n",
       "0               Orlando Sentinel, 9/19/2016            2016.09.18.c-NSB.pdf   \n",
       "\n",
       "                                           href formula  \\\n",
       "5991  http://sharkattackfile.net/spreadsheets/pdf_di...   \n",
       "5990  http://sharkattackfile.net/spreadsheets/pdf_di...   \n",
       "5989  http://sharkattackfile.net/spreadsheets/pdf_di...   \n",
       "5988  http://sharkattackfile.net/spreadsheets/pdf_di...   \n",
       "5987  http://sharkattackfile.net/spreadsheets/pdf_di...   \n",
       "...                                                 ...   \n",
       "4     http://sharkattackfile.net/spreadsheets/pdf_di...   \n",
       "3     http://sharkattackfile.net/spreadsheets/pdf_di...   \n",
       "2     http://sharkattackfile.net/spreadsheets/pdf_di...   \n",
       "1     http://sharkattackfile.net/spreadsheets/pdf_di...   \n",
       "0     http://sharkattackfile.net/spreadsheets/pdf_di...   \n",
       "\n",
       "                                                   href Case Number.1  \\\n",
       "5991  http://sharkattackfile.net/spreadsheets/pdf_di...       ND.0001   \n",
       "5990  http://sharkattackfile.net/spreadsheets/pdf_di...       ND.0002   \n",
       "5989  http://sharkattackfile.net/spreadsheets/pdf_di...       ND.0003   \n",
       "5988  http://sharkattackfile.net/spreadsheets/pdf_di...       ND.0004   \n",
       "5987  http://sharkattackfile.net/spreadsheets/pdf_di...       ND.0005   \n",
       "...                                                 ...           ...   \n",
       "4     http://sharkattackfile.net/spreadsheets/pdf_di...    2016.09.16   \n",
       "3     http://sharkattackfile.net/spreadsheets/pdf_di...    2016.09.17   \n",
       "2     http://sharkattackfile.net/spreadsheets/pdf_di...  2016.09.18.a   \n",
       "1     http://sharkattackfile.net/spreadsheets/pdf_di...  2016.09.18.b   \n",
       "0     http://sharkattackfile.net/spreadsheets/pdf_di...  2016.09.18.c   \n",
       "\n",
       "     Case Number.2 OriginalOrder  \n",
       "5991       ND.0001             1  \n",
       "5990       ND.0002             2  \n",
       "5989       ND.0003             3  \n",
       "5988       ND.0004             4  \n",
       "5987       ND.0005             5  \n",
       "...            ...           ...  \n",
       "4       2016.09.15          5988  \n",
       "3       2016.09.17          5989  \n",
       "2     2016.09.18.a          5990  \n",
       "1     2016.09.18.b          5991  \n",
       "0     2016.09.18.c          5992  \n",
       "\n",
       "[5992 rows x 22 columns]"
      ]
     },
     "execution_count": 174,
     "metadata": {},
     "output_type": "execute_result"
    }
   ],
   "source": [
    "df"
   ]
  },
  {
   "cell_type": "markdown",
   "id": "0144ee74",
   "metadata": {},
   "source": [
    "Hasta aqui ya he modificado las columnsa unnamed 22,23 y original order!!!"
   ]
  },
  {
   "cell_type": "markdown",
   "id": "70ce36fe",
   "metadata": {
    "heading_collapsed": true
   },
   "source": [
    "### 1. Case number\n",
    "- Problemas:\n",
    "    - Casos repetidos\n",
    "    - Nomenglatura variable"
   ]
  },
  {
   "cell_type": "code",
   "execution_count": 8,
   "id": "8d798caf",
   "metadata": {
    "ExecuteTime": {
     "end_time": "2021-10-30T09:57:20.672365Z",
     "start_time": "2021-10-30T09:57:20.660243Z"
    },
    "hidden": true
   },
   "outputs": [
    {
     "data": {
      "text/plain": [
       "0       2016.09.18.c\n",
       "1       2016.09.18.b\n",
       "2       2016.09.18.a\n",
       "3         2016.09.17\n",
       "4         2016.09.15\n",
       "            ...     \n",
       "5987         ND.0005\n",
       "5988         ND.0004\n",
       "5989         ND.0003\n",
       "5990         ND.0002\n",
       "5991         ND.0001\n",
       "Name: Case Number, Length: 5992, dtype: object"
      ]
     },
     "execution_count": 8,
     "metadata": {},
     "output_type": "execute_result"
    }
   ],
   "source": [
    "df[\"Case Number\"]"
   ]
  },
  {
   "cell_type": "code",
   "execution_count": 9,
   "id": "49f04e2f",
   "metadata": {
    "ExecuteTime": {
     "end_time": "2021-10-30T09:57:20.688194Z",
     "start_time": "2021-10-30T09:57:20.675902Z"
    },
    "hidden": true
   },
   "outputs": [
    {
     "name": "stdout",
     "output_type": "stream",
     "text": [
      "16 casos se repiten\n"
     ]
    }
   ],
   "source": [
    "#Vemos los diferentes tipos de case number:\n",
    "\n",
    "#No hay valores nulos pero hay valores que se repiten y el formato de numero de caso varia\n",
    "print(f'{len(df[\"Case Number\"])-len(set(df[\"Case Number\"]))} casos se repiten')"
   ]
  },
  {
   "cell_type": "code",
   "execution_count": 10,
   "id": "a85e3f81",
   "metadata": {
    "ExecuteTime": {
     "end_time": "2021-10-30T09:57:20.703384Z",
     "start_time": "2021-10-30T09:57:20.690340Z"
    },
    "hidden": true
   },
   "outputs": [],
   "source": [
    "#vamos a ver que casos se repiten\n",
    "numeros_repetidos=df[\"Case Number\"].value_counts().head(16)\n",
    "#cambiamos el indice a case number para saber mas de estos casos\n",
    "df2=df.set_index(\"Case Number\")"
   ]
  },
  {
   "cell_type": "code",
   "execution_count": 11,
   "id": "774f4033",
   "metadata": {
    "ExecuteTime": {
     "end_time": "2021-10-30T09:57:20.718536Z",
     "start_time": "2021-10-30T09:57:20.705947Z"
    },
    "hidden": true
   },
   "outputs": [
    {
     "data": {
      "text/plain": [
       "Index(['Date', 'Year', 'Type', 'Country', 'Area', 'Location', 'Activity',\n",
       "       'Name', 'Sex ', 'Age', 'Injury', 'Fatal (Y/N)', 'Time', 'Species ',\n",
       "       'Investigator or Source', 'pdf', 'href formula', 'href',\n",
       "       'Case Number.1', 'Case Number.2', 'original order', 'Unnamed: 22',\n",
       "       'Unnamed: 23'],\n",
       "      dtype='object')"
      ]
     },
     "execution_count": 11,
     "metadata": {},
     "output_type": "execute_result"
    }
   ],
   "source": [
    "df2.columns"
   ]
  },
  {
   "cell_type": "code",
   "execution_count": null,
   "id": "f6652957",
   "metadata": {
    "hidden": true
   },
   "outputs": [],
   "source": []
  }
 ],
 "metadata": {
  "kernelspec": {
   "display_name": "Python 3",
   "language": "python",
   "name": "python3"
  },
  "language_info": {
   "codemirror_mode": {
    "name": "ipython",
    "version": 3
   },
   "file_extension": ".py",
   "mimetype": "text/x-python",
   "name": "python",
   "nbconvert_exporter": "python",
   "pygments_lexer": "ipython3",
   "version": "3.8.8"
  },
  "toc": {
   "base_numbering": 1,
   "nav_menu": {},
   "number_sections": true,
   "sideBar": false,
   "skip_h1_title": false,
   "title_cell": "Table of Contents",
   "title_sidebar": "Contents",
   "toc_cell": false,
   "toc_position": {
    "height": "99.9884px",
    "left": "1285.25px",
    "top": "110.926px",
    "width": "136.968px"
   },
   "toc_section_display": true,
   "toc_window_display": true
  },
  "varInspector": {
   "cols": {
    "lenName": 16,
    "lenType": 16,
    "lenVar": 40
   },
   "kernels_config": {
    "python": {
     "delete_cmd_postfix": "",
     "delete_cmd_prefix": "del ",
     "library": "var_list.py",
     "varRefreshCmd": "print(var_dic_list())"
    },
    "r": {
     "delete_cmd_postfix": ") ",
     "delete_cmd_prefix": "rm(",
     "library": "var_list.r",
     "varRefreshCmd": "cat(var_dic_list()) "
    }
   },
   "types_to_exclude": [
    "module",
    "function",
    "builtin_function_or_method",
    "instance",
    "_Feature"
   ],
   "window_display": false
  }
 },
 "nbformat": 4,
 "nbformat_minor": 5
}
