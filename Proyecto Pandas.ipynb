{
 "cells": [
  {
   "cell_type": "markdown",
   "id": "c0e9afbf",
   "metadata": {
    "slideshow": {
     "slide_type": "slide"
    }
   },
   "source": [
    "<h1><center>Proyecto 2: <font color=blue>Pandas Project</font></center></h1>\n",
    "<center><img src=https://animals.sandiegozoo.org/sites/default/files/styles/image_grid_full_width/public/2017-04/%20leopard_shark_01.jpg style=\"width: 500px;\">\n",
    "<h2><center>Sergio"
   ]
  },
  {
   "cell_type": "markdown",
   "id": "79c2255b",
   "metadata": {
    "slideshow": {
     "slide_type": "slide"
    }
   },
   "source": [
    "#  Conociendo los datos\n",
    "Objetivo:\n",
    "- Conocer la cantidad de valores del df, analizar las columnas, observar errores y empezar a pensar en soluciones.\n"
   ]
  },
  {
   "cell_type": "markdown",
   "id": "660e9ca4",
   "metadata": {
    "slideshow": {
     "slide_type": "subslide"
    }
   },
   "source": [
    "## Importamos bibliotecas"
   ]
  },
  {
   "cell_type": "code",
   "execution_count": 1,
   "id": "f78703db",
   "metadata": {
    "ExecuteTime": {
     "end_time": "2021-11-04T15:48:53.197806Z",
     "start_time": "2021-11-04T15:48:51.700632Z"
    },
    "slideshow": {
     "slide_type": "fragment"
    }
   },
   "outputs": [],
   "source": [
    "import pandas as pd\n",
    "import numpy as np\n",
    "import re\n",
    "import matplotlib.pyplot as plt\n",
    "import seaborn as sns"
   ]
  },
  {
   "cell_type": "markdown",
   "id": "e4ecaa03",
   "metadata": {
    "heading_collapsed": true,
    "slideshow": {
     "slide_type": "subslide"
    }
   },
   "source": [
    "## Abrimos el archivo "
   ]
  },
  {
   "cell_type": "code",
   "execution_count": 2,
   "id": "01a918a4",
   "metadata": {
    "ExecuteTime": {
     "end_time": "2021-11-04T15:48:53.259871Z",
     "start_time": "2021-11-04T15:48:53.199272Z"
    },
    "hidden": true,
    "slideshow": {
     "slide_type": "fragment"
    }
   },
   "outputs": [],
   "source": [
    "df=pd.read_csv(\"data/GSAF5.csv\",encoding=\"ISO-8859-1\")"
   ]
  },
  {
   "cell_type": "markdown",
   "id": "2ff5d908",
   "metadata": {
    "heading_collapsed": true,
    "slideshow": {
     "slide_type": "subslide"
    }
   },
   "source": [
    "## Informacion inicial del archivo"
   ]
  },
  {
   "cell_type": "markdown",
   "id": "dfcbe205",
   "metadata": {
    "heading_collapsed": true,
    "hidden": true,
    "slideshow": {
     "slide_type": "subslide"
    }
   },
   "source": [
    "### Observacion inicial del dataset "
   ]
  },
  {
   "cell_type": "code",
   "execution_count": 3,
   "id": "3daf5d16",
   "metadata": {
    "ExecuteTime": {
     "end_time": "2021-11-04T15:48:53.299225Z",
     "start_time": "2021-11-04T15:48:53.260812Z"
    },
    "hidden": true,
    "slideshow": {
     "slide_type": "subslide"
    }
   },
   "outputs": [
    {
     "data": {
      "text/html": [
       "<div>\n",
       "<style scoped>\n",
       "    .dataframe tbody tr th:only-of-type {\n",
       "        vertical-align: middle;\n",
       "    }\n",
       "\n",
       "    .dataframe tbody tr th {\n",
       "        vertical-align: top;\n",
       "    }\n",
       "\n",
       "    .dataframe thead th {\n",
       "        text-align: right;\n",
       "    }\n",
       "</style>\n",
       "<table border=\"1\" class=\"dataframe\">\n",
       "  <thead>\n",
       "    <tr style=\"text-align: right;\">\n",
       "      <th></th>\n",
       "      <th>Case Number</th>\n",
       "      <th>Date</th>\n",
       "      <th>Year</th>\n",
       "      <th>Type</th>\n",
       "      <th>Country</th>\n",
       "      <th>Area</th>\n",
       "      <th>Location</th>\n",
       "      <th>Activity</th>\n",
       "      <th>Name</th>\n",
       "      <th>Sex</th>\n",
       "      <th>...</th>\n",
       "      <th>Species</th>\n",
       "      <th>Investigator or Source</th>\n",
       "      <th>pdf</th>\n",
       "      <th>href formula</th>\n",
       "      <th>href</th>\n",
       "      <th>Case Number.1</th>\n",
       "      <th>Case Number.2</th>\n",
       "      <th>original order</th>\n",
       "      <th>Unnamed: 22</th>\n",
       "      <th>Unnamed: 23</th>\n",
       "    </tr>\n",
       "  </thead>\n",
       "  <tbody>\n",
       "    <tr>\n",
       "      <th>0</th>\n",
       "      <td>2016.09.18.c</td>\n",
       "      <td>18-Sep-16</td>\n",
       "      <td>2016</td>\n",
       "      <td>Unprovoked</td>\n",
       "      <td>USA</td>\n",
       "      <td>Florida</td>\n",
       "      <td>New Smyrna Beach, Volusia County</td>\n",
       "      <td>Surfing</td>\n",
       "      <td>male</td>\n",
       "      <td>M</td>\n",
       "      <td>...</td>\n",
       "      <td>NaN</td>\n",
       "      <td>Orlando Sentinel, 9/19/2016</td>\n",
       "      <td>2016.09.18.c-NSB.pdf</td>\n",
       "      <td>http://sharkattackfile.net/spreadsheets/pdf_di...</td>\n",
       "      <td>http://sharkattackfile.net/spreadsheets/pdf_di...</td>\n",
       "      <td>2016.09.18.c</td>\n",
       "      <td>2016.09.18.c</td>\n",
       "      <td>5993</td>\n",
       "      <td>NaN</td>\n",
       "      <td>NaN</td>\n",
       "    </tr>\n",
       "    <tr>\n",
       "      <th>1</th>\n",
       "      <td>2016.09.18.b</td>\n",
       "      <td>18-Sep-16</td>\n",
       "      <td>2016</td>\n",
       "      <td>Unprovoked</td>\n",
       "      <td>USA</td>\n",
       "      <td>Florida</td>\n",
       "      <td>New Smyrna Beach, Volusia County</td>\n",
       "      <td>Surfing</td>\n",
       "      <td>Chucky Luciano</td>\n",
       "      <td>M</td>\n",
       "      <td>...</td>\n",
       "      <td>NaN</td>\n",
       "      <td>Orlando Sentinel, 9/19/2016</td>\n",
       "      <td>2016.09.18.b-Luciano.pdf</td>\n",
       "      <td>http://sharkattackfile.net/spreadsheets/pdf_di...</td>\n",
       "      <td>http://sharkattackfile.net/spreadsheets/pdf_di...</td>\n",
       "      <td>2016.09.18.b</td>\n",
       "      <td>2016.09.18.b</td>\n",
       "      <td>5992</td>\n",
       "      <td>NaN</td>\n",
       "      <td>NaN</td>\n",
       "    </tr>\n",
       "    <tr>\n",
       "      <th>2</th>\n",
       "      <td>2016.09.18.a</td>\n",
       "      <td>18-Sep-16</td>\n",
       "      <td>2016</td>\n",
       "      <td>Unprovoked</td>\n",
       "      <td>USA</td>\n",
       "      <td>Florida</td>\n",
       "      <td>New Smyrna Beach, Volusia County</td>\n",
       "      <td>Surfing</td>\n",
       "      <td>male</td>\n",
       "      <td>M</td>\n",
       "      <td>...</td>\n",
       "      <td>NaN</td>\n",
       "      <td>Orlando Sentinel, 9/19/2016</td>\n",
       "      <td>2016.09.18.a-NSB.pdf</td>\n",
       "      <td>http://sharkattackfile.net/spreadsheets/pdf_di...</td>\n",
       "      <td>http://sharkattackfile.net/spreadsheets/pdf_di...</td>\n",
       "      <td>2016.09.18.a</td>\n",
       "      <td>2016.09.18.a</td>\n",
       "      <td>5991</td>\n",
       "      <td>NaN</td>\n",
       "      <td>NaN</td>\n",
       "    </tr>\n",
       "    <tr>\n",
       "      <th>3</th>\n",
       "      <td>2016.09.17</td>\n",
       "      <td>17-Sep-16</td>\n",
       "      <td>2016</td>\n",
       "      <td>Unprovoked</td>\n",
       "      <td>AUSTRALIA</td>\n",
       "      <td>Victoria</td>\n",
       "      <td>Thirteenth Beach</td>\n",
       "      <td>Surfing</td>\n",
       "      <td>Rory Angiolella</td>\n",
       "      <td>M</td>\n",
       "      <td>...</td>\n",
       "      <td>NaN</td>\n",
       "      <td>The Age, 9/18/2016</td>\n",
       "      <td>2016.09.17-Angiolella.pdf</td>\n",
       "      <td>http://sharkattackfile.net/spreadsheets/pdf_di...</td>\n",
       "      <td>http://sharkattackfile.net/spreadsheets/pdf_di...</td>\n",
       "      <td>2016.09.17</td>\n",
       "      <td>2016.09.17</td>\n",
       "      <td>5990</td>\n",
       "      <td>NaN</td>\n",
       "      <td>NaN</td>\n",
       "    </tr>\n",
       "    <tr>\n",
       "      <th>4</th>\n",
       "      <td>2016.09.15</td>\n",
       "      <td>16-Sep-16</td>\n",
       "      <td>2016</td>\n",
       "      <td>Unprovoked</td>\n",
       "      <td>AUSTRALIA</td>\n",
       "      <td>Victoria</td>\n",
       "      <td>Bells Beach</td>\n",
       "      <td>Surfing</td>\n",
       "      <td>male</td>\n",
       "      <td>M</td>\n",
       "      <td>...</td>\n",
       "      <td>2 m shark</td>\n",
       "      <td>The Age, 9/16/2016</td>\n",
       "      <td>2016.09.16-BellsBeach.pdf</td>\n",
       "      <td>http://sharkattackfile.net/spreadsheets/pdf_di...</td>\n",
       "      <td>http://sharkattackfile.net/spreadsheets/pdf_di...</td>\n",
       "      <td>2016.09.16</td>\n",
       "      <td>2016.09.15</td>\n",
       "      <td>5989</td>\n",
       "      <td>NaN</td>\n",
       "      <td>NaN</td>\n",
       "    </tr>\n",
       "    <tr>\n",
       "      <th>5</th>\n",
       "      <td>2016.09.15.R</td>\n",
       "      <td>15-Sep-16</td>\n",
       "      <td>2016</td>\n",
       "      <td>Boat</td>\n",
       "      <td>AUSTRALIA</td>\n",
       "      <td>Western Australia</td>\n",
       "      <td>Bunbury</td>\n",
       "      <td>Fishing</td>\n",
       "      <td>Occupant: Ben Stratton</td>\n",
       "      <td>NaN</td>\n",
       "      <td>...</td>\n",
       "      <td>NaN</td>\n",
       "      <td>West Australian, 9/15/2016</td>\n",
       "      <td>2016.09.15.R-boat.pdf</td>\n",
       "      <td>http://sharkattackfile.net/spreadsheets/pdf_di...</td>\n",
       "      <td>http://sharkattackfile.net/spreadsheets/pdf_di...</td>\n",
       "      <td>2016.09.15.R</td>\n",
       "      <td>2016.09.15.R</td>\n",
       "      <td>5988</td>\n",
       "      <td>NaN</td>\n",
       "      <td>NaN</td>\n",
       "    </tr>\n",
       "    <tr>\n",
       "      <th>6</th>\n",
       "      <td>2016.09.11</td>\n",
       "      <td>11-Sep-16</td>\n",
       "      <td>2016</td>\n",
       "      <td>Unprovoked</td>\n",
       "      <td>USA</td>\n",
       "      <td>Florida</td>\n",
       "      <td>Ponte Vedra, St. Johns County</td>\n",
       "      <td>Wading</td>\n",
       "      <td>male</td>\n",
       "      <td>M</td>\n",
       "      <td>...</td>\n",
       "      <td>3' to 4' shark</td>\n",
       "      <td>News4Jax, 9/11/2016</td>\n",
       "      <td>2016.09.11-PonteVedra.pdf</td>\n",
       "      <td>http://sharkattackfile.net/spreadsheets/pdf_di...</td>\n",
       "      <td>http://sharkattackfile.net/spreadsheets/pdf_di...</td>\n",
       "      <td>2016.09.11</td>\n",
       "      <td>2016.09.11</td>\n",
       "      <td>5987</td>\n",
       "      <td>NaN</td>\n",
       "      <td>NaN</td>\n",
       "    </tr>\n",
       "    <tr>\n",
       "      <th>7</th>\n",
       "      <td>2016.09.07</td>\n",
       "      <td>07-Sep-16</td>\n",
       "      <td>2016</td>\n",
       "      <td>Unprovoked</td>\n",
       "      <td>USA</td>\n",
       "      <td>Hawaii</td>\n",
       "      <td>Makaha, Oahu</td>\n",
       "      <td>Swimming</td>\n",
       "      <td>female</td>\n",
       "      <td>F</td>\n",
       "      <td>...</td>\n",
       "      <td>Tiger shark, 10?</td>\n",
       "      <td>Hawaii News Now, 9/7/2016</td>\n",
       "      <td>2016.09.07-Oahu.pdf</td>\n",
       "      <td>http://sharkattackfile.net/spreadsheets/pdf_di...</td>\n",
       "      <td>http://sharkattackfile.net/spreadsheets/pdf_di...</td>\n",
       "      <td>2016.09.07</td>\n",
       "      <td>2016.09.07</td>\n",
       "      <td>5986</td>\n",
       "      <td>NaN</td>\n",
       "      <td>NaN</td>\n",
       "    </tr>\n",
       "    <tr>\n",
       "      <th>8</th>\n",
       "      <td>2016.09.06</td>\n",
       "      <td>06-Sep-16</td>\n",
       "      <td>2016</td>\n",
       "      <td>Unprovoked</td>\n",
       "      <td>NEW CALEDONIA</td>\n",
       "      <td>North Province</td>\n",
       "      <td>Koumac</td>\n",
       "      <td>Kite surfing</td>\n",
       "      <td>David Jewell</td>\n",
       "      <td>M</td>\n",
       "      <td>...</td>\n",
       "      <td>NaN</td>\n",
       "      <td>TVANouvelles, 9/6/2016</td>\n",
       "      <td>2016.09.06-Jewell.pdf</td>\n",
       "      <td>http://sharkattackfile.net/spreadsheets/pdf_di...</td>\n",
       "      <td>http://sharkattackfile.net/spreadsheets/pdf_di...</td>\n",
       "      <td>2016.09.06</td>\n",
       "      <td>2016.09.06</td>\n",
       "      <td>5985</td>\n",
       "      <td>NaN</td>\n",
       "      <td>NaN</td>\n",
       "    </tr>\n",
       "    <tr>\n",
       "      <th>9</th>\n",
       "      <td>2016.09.05.b</td>\n",
       "      <td>05-Sep-16</td>\n",
       "      <td>2016</td>\n",
       "      <td>Unprovoked</td>\n",
       "      <td>USA</td>\n",
       "      <td>South Carolina</td>\n",
       "      <td>Kingston Plantation, Myrtle Beach, Horry County</td>\n",
       "      <td>Boogie boarding</td>\n",
       "      <td>Rylie Williams</td>\n",
       "      <td>F</td>\n",
       "      <td>...</td>\n",
       "      <td>NaN</td>\n",
       "      <td>C. Creswell, GSAF</td>\n",
       "      <td>2016.09.05.b-Williams.pdf</td>\n",
       "      <td>http://sharkattackfile.net/spreadsheets/pdf_di...</td>\n",
       "      <td>http://sharkattackfile.net/spreadsheets/pdf_di...</td>\n",
       "      <td>2016.09.05.b</td>\n",
       "      <td>2016.09.05.b</td>\n",
       "      <td>5984</td>\n",
       "      <td>NaN</td>\n",
       "      <td>NaN</td>\n",
       "    </tr>\n",
       "  </tbody>\n",
       "</table>\n",
       "<p>10 rows × 24 columns</p>\n",
       "</div>"
      ],
      "text/plain": [
       "    Case Number       Date  Year        Type        Country  \\\n",
       "0  2016.09.18.c  18-Sep-16  2016  Unprovoked            USA   \n",
       "1  2016.09.18.b  18-Sep-16  2016  Unprovoked            USA   \n",
       "2  2016.09.18.a  18-Sep-16  2016  Unprovoked            USA   \n",
       "3    2016.09.17  17-Sep-16  2016  Unprovoked      AUSTRALIA   \n",
       "4    2016.09.15  16-Sep-16  2016  Unprovoked      AUSTRALIA   \n",
       "5  2016.09.15.R  15-Sep-16  2016        Boat      AUSTRALIA   \n",
       "6    2016.09.11  11-Sep-16  2016  Unprovoked            USA   \n",
       "7    2016.09.07  07-Sep-16  2016  Unprovoked            USA   \n",
       "8    2016.09.06  06-Sep-16  2016  Unprovoked  NEW CALEDONIA   \n",
       "9  2016.09.05.b  05-Sep-16  2016  Unprovoked            USA   \n",
       "\n",
       "                Area                                         Location  \\\n",
       "0            Florida                 New Smyrna Beach, Volusia County   \n",
       "1            Florida                 New Smyrna Beach, Volusia County   \n",
       "2            Florida                 New Smyrna Beach, Volusia County   \n",
       "3           Victoria                                 Thirteenth Beach   \n",
       "4           Victoria                                      Bells Beach   \n",
       "5  Western Australia                                          Bunbury   \n",
       "6            Florida                    Ponte Vedra, St. Johns County   \n",
       "7             Hawaii                                     Makaha, Oahu   \n",
       "8     North Province                                           Koumac   \n",
       "9     South Carolina  Kingston Plantation, Myrtle Beach, Horry County   \n",
       "\n",
       "          Activity                    Name Sex   ...          Species   \\\n",
       "0          Surfing                    male    M  ...               NaN   \n",
       "1          Surfing          Chucky Luciano    M  ...               NaN   \n",
       "2          Surfing                    male    M  ...               NaN   \n",
       "3          Surfing         Rory Angiolella    M  ...               NaN   \n",
       "4          Surfing                    male    M  ...         2 m shark   \n",
       "5          Fishing  Occupant: Ben Stratton  NaN  ...               NaN   \n",
       "6           Wading                    male    M  ...    3' to 4' shark   \n",
       "7         Swimming                  female    F  ...  Tiger shark, 10?   \n",
       "8     Kite surfing            David Jewell    M  ...               NaN   \n",
       "9  Boogie boarding          Rylie Williams    F  ...               NaN   \n",
       "\n",
       "        Investigator or Source                        pdf  \\\n",
       "0  Orlando Sentinel, 9/19/2016       2016.09.18.c-NSB.pdf   \n",
       "1  Orlando Sentinel, 9/19/2016   2016.09.18.b-Luciano.pdf   \n",
       "2  Orlando Sentinel, 9/19/2016       2016.09.18.a-NSB.pdf   \n",
       "3           The Age, 9/18/2016  2016.09.17-Angiolella.pdf   \n",
       "4           The Age, 9/16/2016  2016.09.16-BellsBeach.pdf   \n",
       "5   West Australian, 9/15/2016      2016.09.15.R-boat.pdf   \n",
       "6          News4Jax, 9/11/2016  2016.09.11-PonteVedra.pdf   \n",
       "7    Hawaii News Now, 9/7/2016        2016.09.07-Oahu.pdf   \n",
       "8       TVANouvelles, 9/6/2016      2016.09.06-Jewell.pdf   \n",
       "9            C. Creswell, GSAF  2016.09.05.b-Williams.pdf   \n",
       "\n",
       "                                        href formula  \\\n",
       "0  http://sharkattackfile.net/spreadsheets/pdf_di...   \n",
       "1  http://sharkattackfile.net/spreadsheets/pdf_di...   \n",
       "2  http://sharkattackfile.net/spreadsheets/pdf_di...   \n",
       "3  http://sharkattackfile.net/spreadsheets/pdf_di...   \n",
       "4  http://sharkattackfile.net/spreadsheets/pdf_di...   \n",
       "5  http://sharkattackfile.net/spreadsheets/pdf_di...   \n",
       "6  http://sharkattackfile.net/spreadsheets/pdf_di...   \n",
       "7  http://sharkattackfile.net/spreadsheets/pdf_di...   \n",
       "8  http://sharkattackfile.net/spreadsheets/pdf_di...   \n",
       "9  http://sharkattackfile.net/spreadsheets/pdf_di...   \n",
       "\n",
       "                                                href Case Number.1  \\\n",
       "0  http://sharkattackfile.net/spreadsheets/pdf_di...  2016.09.18.c   \n",
       "1  http://sharkattackfile.net/spreadsheets/pdf_di...  2016.09.18.b   \n",
       "2  http://sharkattackfile.net/spreadsheets/pdf_di...  2016.09.18.a   \n",
       "3  http://sharkattackfile.net/spreadsheets/pdf_di...    2016.09.17   \n",
       "4  http://sharkattackfile.net/spreadsheets/pdf_di...    2016.09.16   \n",
       "5  http://sharkattackfile.net/spreadsheets/pdf_di...  2016.09.15.R   \n",
       "6  http://sharkattackfile.net/spreadsheets/pdf_di...    2016.09.11   \n",
       "7  http://sharkattackfile.net/spreadsheets/pdf_di...    2016.09.07   \n",
       "8  http://sharkattackfile.net/spreadsheets/pdf_di...    2016.09.06   \n",
       "9  http://sharkattackfile.net/spreadsheets/pdf_di...  2016.09.05.b   \n",
       "\n",
       "  Case Number.2 original order Unnamed: 22 Unnamed: 23  \n",
       "0  2016.09.18.c           5993         NaN         NaN  \n",
       "1  2016.09.18.b           5992         NaN         NaN  \n",
       "2  2016.09.18.a           5991         NaN         NaN  \n",
       "3    2016.09.17           5990         NaN         NaN  \n",
       "4    2016.09.15           5989         NaN         NaN  \n",
       "5  2016.09.15.R           5988         NaN         NaN  \n",
       "6    2016.09.11           5987         NaN         NaN  \n",
       "7    2016.09.07           5986         NaN         NaN  \n",
       "8    2016.09.06           5985         NaN         NaN  \n",
       "9  2016.09.05.b           5984         NaN         NaN  \n",
       "\n",
       "[10 rows x 24 columns]"
      ]
     },
     "execution_count": 3,
     "metadata": {},
     "output_type": "execute_result"
    }
   ],
   "source": [
    "#Observamos las primeras 10 lineas\n",
    "df.head(10)"
   ]
  },
  {
   "cell_type": "code",
   "execution_count": 4,
   "id": "c6dee818",
   "metadata": {
    "ExecuteTime": {
     "end_time": "2021-11-04T15:48:53.309531Z",
     "start_time": "2021-11-04T15:48:53.299225Z"
    },
    "hidden": true,
    "slideshow": {
     "slide_type": "subslide"
    }
   },
   "outputs": [
    {
     "data": {
      "text/plain": [
       "(5992, 24)"
      ]
     },
     "execution_count": 4,
     "metadata": {},
     "output_type": "execute_result"
    }
   ],
   "source": [
    "#Cantidad de filas y de columnas\n",
    "df.shape"
   ]
  },
  {
   "cell_type": "code",
   "execution_count": 5,
   "id": "e590293e",
   "metadata": {
    "ExecuteTime": {
     "end_time": "2021-11-04T15:48:53.339670Z",
     "start_time": "2021-11-04T15:48:53.312201Z"
    },
    "hidden": true,
    "scrolled": false,
    "slideshow": {
     "slide_type": "subslide"
    }
   },
   "outputs": [
    {
     "name": "stdout",
     "output_type": "stream",
     "text": [
      "<class 'pandas.core.frame.DataFrame'>\n",
      "RangeIndex: 5992 entries, 0 to 5991\n",
      "Data columns (total 24 columns):\n",
      " #   Column                  Non-Null Count  Dtype \n",
      "---  ------                  --------------  ----- \n",
      " 0   Case Number             5992 non-null   object\n",
      " 1   Date                    5992 non-null   object\n",
      " 2   Year                    5992 non-null   int64 \n",
      " 3   Type                    5992 non-null   object\n",
      " 4   Country                 5949 non-null   object\n",
      " 5   Area                    5590 non-null   object\n",
      " 6   Location                5496 non-null   object\n",
      " 7   Activity                5465 non-null   object\n",
      " 8   Name                    5792 non-null   object\n",
      " 9   Sex                     5425 non-null   object\n",
      " 10  Age                     3311 non-null   object\n",
      " 11  Injury                  5965 non-null   object\n",
      " 12  Fatal (Y/N)             5973 non-null   object\n",
      " 13  Time                    2779 non-null   object\n",
      " 14  Species                 3058 non-null   object\n",
      " 15  Investigator or Source  5977 non-null   object\n",
      " 16  pdf                     5992 non-null   object\n",
      " 17  href formula            5991 non-null   object\n",
      " 18  href                    5989 non-null   object\n",
      " 19  Case Number.1           5992 non-null   object\n",
      " 20  Case Number.2           5992 non-null   object\n",
      " 21  original order          5992 non-null   int64 \n",
      " 22  Unnamed: 22             1 non-null      object\n",
      " 23  Unnamed: 23             2 non-null      object\n",
      "dtypes: int64(2), object(22)\n",
      "memory usage: 1.1+ MB\n"
     ]
    }
   ],
   "source": [
    "#Analisis de las columnas: cantidad de nulos y el tipo de datos de cada columna\n",
    "df.info()"
   ]
  },
  {
   "cell_type": "code",
   "execution_count": 6,
   "id": "b4608cf8",
   "metadata": {
    "ExecuteTime": {
     "end_time": "2021-11-04T15:48:53.359688Z",
     "start_time": "2021-11-04T15:48:53.343515Z"
    },
    "hidden": true,
    "scrolled": true,
    "slideshow": {
     "slide_type": "subslide"
    }
   },
   "outputs": [
    {
     "data": {
      "text/plain": [
       "Case Number                  0\n",
       "Date                         0\n",
       "Year                         0\n",
       "Type                         0\n",
       "Country                     43\n",
       "Area                       402\n",
       "Location                   496\n",
       "Activity                   527\n",
       "Name                       200\n",
       "Sex                        567\n",
       "Age                       2681\n",
       "Injury                      27\n",
       "Fatal (Y/N)                 19\n",
       "Time                      3213\n",
       "Species                   2934\n",
       "Investigator or Source      15\n",
       "pdf                          0\n",
       "href formula                 1\n",
       "href                         3\n",
       "Case Number.1                0\n",
       "Case Number.2                0\n",
       "original order               0\n",
       "Unnamed: 22               5991\n",
       "Unnamed: 23               5990\n",
       "dtype: int64"
      ]
     },
     "execution_count": 6,
     "metadata": {},
     "output_type": "execute_result"
    }
   ],
   "source": [
    "#Valores nulos\n",
    "df.isna().sum()"
   ]
  },
  {
   "cell_type": "code",
   "execution_count": 7,
   "id": "71932f75",
   "metadata": {
    "ExecuteTime": {
     "end_time": "2021-11-04T15:48:53.389519Z",
     "start_time": "2021-11-04T15:48:53.361285Z"
    },
    "hidden": true,
    "slideshow": {
     "slide_type": "subslide"
    }
   },
   "outputs": [
    {
     "data": {
      "text/plain": [
       "False    5992\n",
       "dtype: int64"
      ]
     },
     "execution_count": 7,
     "metadata": {},
     "output_type": "execute_result"
    }
   ],
   "source": [
    "#Vamos a ver si hay algun duplicado en los valores\n",
    "df.duplicated().value_counts()"
   ]
  },
  {
   "cell_type": "markdown",
   "id": "858dd2bf",
   "metadata": {
    "heading_collapsed": true,
    "hidden": true,
    "slideshow": {
     "slide_type": "subslide"
    }
   },
   "source": [
    "### Conclusiones iniciales tras el analisis inicial:\n"
   ]
  },
  {
   "cell_type": "markdown",
   "id": "aa31612e",
   "metadata": {
    "hidden": true,
    "slideshow": {
     "slide_type": "fragment"
    }
   },
   "source": [
    "- Topic: Ataques de tiburon en el mundo\n",
    "- Tamaño: 5992 filas y 24 columnas\n",
    "- Varias columnas parece que los datos van en la misma direccion y se solapan:\n",
    "    - Case number (0,19,20) y original order: Comprobar diferencias y si son iguales borrar\n",
    "    - Se solapan las columnas Year y Date: Agruparla en una.\n",
    "    - En algunos casos los datos de la columna nombre se solapan con el sexo: Buscar solucion\n",
    "    - Las columnas pdf, href formula y href se solapan, intentar agrupar en una\n",
    "    - original order posible indice"
   ]
  },
  {
   "cell_type": "markdown",
   "id": "78ad28e9",
   "metadata": {
    "heading_collapsed": true,
    "slideshow": {
     "slide_type": "slide"
    }
   },
   "source": [
    "#  Modificacion del dataset\n",
    "\n",
    "Objetivo:\n",
    "- Analizar los valores de cada columna, eliminar los valores nulos, los errores humanos y ver su utilidad practica."
   ]
  },
  {
   "cell_type": "markdown",
   "id": "19dbeb7c",
   "metadata": {
    "hidden": true
   },
   "source": [
    "## Modificaciones ordenado por columna"
   ]
  },
  {
   "cell_type": "markdown",
   "id": "bcb4152b",
   "metadata": {
    "heading_collapsed": true,
    "hidden": true,
    "slideshow": {
     "slide_type": "slide"
    }
   },
   "source": [
    "### Columna: \"original order\",\"Case Number\",\"Case Number.1\",\"Case Number.2\""
   ]
  },
  {
   "cell_type": "markdown",
   "id": "2eabb2bd",
   "metadata": {
    "hidden": true,
    "slideshow": {
     "slide_type": "fragment"
    }
   },
   "source": [
    "- La columna original order es un indice de casos en los que se repiten valores igual que las columnas Case Number\n",
    "- Objetivo: Unica lista de numero de casos: lista con valores unicos y continuos\n",
    "- Output: Nueva columna que usare de indice\n"
   ]
  },
  {
   "cell_type": "code",
   "execution_count": 8,
   "id": "e14cb7a1",
   "metadata": {
    "ExecuteTime": {
     "end_time": "2021-11-04T15:48:53.405647Z",
     "start_time": "2021-11-04T15:48:53.389519Z"
    },
    "hidden": true,
    "slideshow": {
     "slide_type": "subslide"
    }
   },
   "outputs": [
    {
     "data": {
      "text/html": [
       "<div>\n",
       "<style scoped>\n",
       "    .dataframe tbody tr th:only-of-type {\n",
       "        vertical-align: middle;\n",
       "    }\n",
       "\n",
       "    .dataframe tbody tr th {\n",
       "        vertical-align: top;\n",
       "    }\n",
       "\n",
       "    .dataframe thead th {\n",
       "        text-align: right;\n",
       "    }\n",
       "</style>\n",
       "<table border=\"1\" class=\"dataframe\">\n",
       "  <thead>\n",
       "    <tr style=\"text-align: right;\">\n",
       "      <th></th>\n",
       "      <th>original order</th>\n",
       "      <th>Case Number</th>\n",
       "      <th>Case Number.1</th>\n",
       "      <th>Case Number.2</th>\n",
       "    </tr>\n",
       "  </thead>\n",
       "  <tbody>\n",
       "    <tr>\n",
       "      <th>0</th>\n",
       "      <td>5993</td>\n",
       "      <td>2016.09.18.c</td>\n",
       "      <td>2016.09.18.c</td>\n",
       "      <td>2016.09.18.c</td>\n",
       "    </tr>\n",
       "    <tr>\n",
       "      <th>1</th>\n",
       "      <td>5992</td>\n",
       "      <td>2016.09.18.b</td>\n",
       "      <td>2016.09.18.b</td>\n",
       "      <td>2016.09.18.b</td>\n",
       "    </tr>\n",
       "    <tr>\n",
       "      <th>2</th>\n",
       "      <td>5991</td>\n",
       "      <td>2016.09.18.a</td>\n",
       "      <td>2016.09.18.a</td>\n",
       "      <td>2016.09.18.a</td>\n",
       "    </tr>\n",
       "    <tr>\n",
       "      <th>3</th>\n",
       "      <td>5990</td>\n",
       "      <td>2016.09.17</td>\n",
       "      <td>2016.09.17</td>\n",
       "      <td>2016.09.17</td>\n",
       "    </tr>\n",
       "    <tr>\n",
       "      <th>4</th>\n",
       "      <td>5989</td>\n",
       "      <td>2016.09.15</td>\n",
       "      <td>2016.09.16</td>\n",
       "      <td>2016.09.15</td>\n",
       "    </tr>\n",
       "    <tr>\n",
       "      <th>...</th>\n",
       "      <td>...</td>\n",
       "      <td>...</td>\n",
       "      <td>...</td>\n",
       "      <td>...</td>\n",
       "    </tr>\n",
       "    <tr>\n",
       "      <th>5987</th>\n",
       "      <td>6</td>\n",
       "      <td>ND.0005</td>\n",
       "      <td>ND.0005</td>\n",
       "      <td>ND.0005</td>\n",
       "    </tr>\n",
       "    <tr>\n",
       "      <th>5988</th>\n",
       "      <td>5</td>\n",
       "      <td>ND.0004</td>\n",
       "      <td>ND.0004</td>\n",
       "      <td>ND.0004</td>\n",
       "    </tr>\n",
       "    <tr>\n",
       "      <th>5989</th>\n",
       "      <td>4</td>\n",
       "      <td>ND.0003</td>\n",
       "      <td>ND.0003</td>\n",
       "      <td>ND.0003</td>\n",
       "    </tr>\n",
       "    <tr>\n",
       "      <th>5990</th>\n",
       "      <td>3</td>\n",
       "      <td>ND.0002</td>\n",
       "      <td>ND.0002</td>\n",
       "      <td>ND.0002</td>\n",
       "    </tr>\n",
       "    <tr>\n",
       "      <th>5991</th>\n",
       "      <td>2</td>\n",
       "      <td>ND.0001</td>\n",
       "      <td>ND.0001</td>\n",
       "      <td>ND.0001</td>\n",
       "    </tr>\n",
       "  </tbody>\n",
       "</table>\n",
       "<p>5992 rows × 4 columns</p>\n",
       "</div>"
      ],
      "text/plain": [
       "      original order   Case Number Case Number.1 Case Number.2\n",
       "0               5993  2016.09.18.c  2016.09.18.c  2016.09.18.c\n",
       "1               5992  2016.09.18.b  2016.09.18.b  2016.09.18.b\n",
       "2               5991  2016.09.18.a  2016.09.18.a  2016.09.18.a\n",
       "3               5990    2016.09.17    2016.09.17    2016.09.17\n",
       "4               5989    2016.09.15    2016.09.16    2016.09.15\n",
       "...              ...           ...           ...           ...\n",
       "5987               6       ND.0005       ND.0005       ND.0005\n",
       "5988               5       ND.0004       ND.0004       ND.0004\n",
       "5989               4       ND.0003       ND.0003       ND.0003\n",
       "5990               3       ND.0002       ND.0002       ND.0002\n",
       "5991               2       ND.0001       ND.0001       ND.0001\n",
       "\n",
       "[5992 rows x 4 columns]"
      ]
     },
     "execution_count": 8,
     "metadata": {},
     "output_type": "execute_result"
    }
   ],
   "source": [
    "#primer vistazo de las cuatro columnas juntas\n",
    "df[[\"original order\",\"Case Number\",\"Case Number.1\",\"Case Number.2\"]]"
   ]
  },
  {
   "cell_type": "markdown",
   "id": "de42d3dd",
   "metadata": {
    "heading_collapsed": true,
    "hidden": true,
    "slideshow": {
     "slide_type": "subslide"
    }
   },
   "source": [
    "#### Analisis de original order"
   ]
  },
  {
   "cell_type": "code",
   "execution_count": 9,
   "id": "bb950f96",
   "metadata": {
    "ExecuteTime": {
     "end_time": "2021-11-04T15:48:53.429595Z",
     "start_time": "2021-11-04T15:48:53.408272Z"
    },
    "hidden": true,
    "slideshow": {
     "slide_type": "subslide"
    }
   },
   "outputs": [
    {
     "data": {
      "text/html": [
       "<div>\n",
       "<style scoped>\n",
       "    .dataframe tbody tr th:only-of-type {\n",
       "        vertical-align: middle;\n",
       "    }\n",
       "\n",
       "    .dataframe tbody tr th {\n",
       "        vertical-align: top;\n",
       "    }\n",
       "\n",
       "    .dataframe thead th {\n",
       "        text-align: right;\n",
       "    }\n",
       "</style>\n",
       "<table border=\"1\" class=\"dataframe\">\n",
       "  <thead>\n",
       "    <tr style=\"text-align: right;\">\n",
       "      <th></th>\n",
       "      <th>Case Number</th>\n",
       "      <th>Date</th>\n",
       "      <th>Year</th>\n",
       "      <th>Type</th>\n",
       "      <th>Country</th>\n",
       "      <th>Area</th>\n",
       "      <th>Location</th>\n",
       "      <th>Activity</th>\n",
       "      <th>Name</th>\n",
       "      <th>Sex</th>\n",
       "      <th>...</th>\n",
       "      <th>Species</th>\n",
       "      <th>Investigator or Source</th>\n",
       "      <th>pdf</th>\n",
       "      <th>href formula</th>\n",
       "      <th>href</th>\n",
       "      <th>Case Number.1</th>\n",
       "      <th>Case Number.2</th>\n",
       "      <th>original order</th>\n",
       "      <th>Unnamed: 22</th>\n",
       "      <th>Unnamed: 23</th>\n",
       "    </tr>\n",
       "  </thead>\n",
       "  <tbody>\n",
       "    <tr>\n",
       "      <th>5991</th>\n",
       "      <td>ND.0001</td>\n",
       "      <td>1845-1853</td>\n",
       "      <td>0</td>\n",
       "      <td>Unprovoked</td>\n",
       "      <td>CEYLON (SRI LANKA)</td>\n",
       "      <td>Eastern Province</td>\n",
       "      <td>Below the English fort, Trincomalee</td>\n",
       "      <td>Swimming</td>\n",
       "      <td>male</td>\n",
       "      <td>M</td>\n",
       "      <td>...</td>\n",
       "      <td>NaN</td>\n",
       "      <td>S.W. Baker</td>\n",
       "      <td>ND-0001-Ceylon.pdf</td>\n",
       "      <td>http://sharkattackfile.net/spreadsheets/pdf_di...</td>\n",
       "      <td>http://sharkattackfile.net/spreadsheets/pdf_di...</td>\n",
       "      <td>ND.0001</td>\n",
       "      <td>ND.0001</td>\n",
       "      <td>2</td>\n",
       "      <td>NaN</td>\n",
       "      <td>NaN</td>\n",
       "    </tr>\n",
       "    <tr>\n",
       "      <th>5990</th>\n",
       "      <td>ND.0002</td>\n",
       "      <td>1883-1889</td>\n",
       "      <td>0</td>\n",
       "      <td>Unprovoked</td>\n",
       "      <td>PANAMA</td>\n",
       "      <td>NaN</td>\n",
       "      <td>Panama Bay 8ºN, 79ºW</td>\n",
       "      <td>NaN</td>\n",
       "      <td>Jules Patterson</td>\n",
       "      <td>M</td>\n",
       "      <td>...</td>\n",
       "      <td>NaN</td>\n",
       "      <td>The Sun, 10/20/1938</td>\n",
       "      <td>ND-0002-JulesPatterson.pdf</td>\n",
       "      <td>http://sharkattackfile.net/spreadsheets/pdf_di...</td>\n",
       "      <td>http://sharkattackfile.net/spreadsheets/pdf_di...</td>\n",
       "      <td>ND.0002</td>\n",
       "      <td>ND.0002</td>\n",
       "      <td>3</td>\n",
       "      <td>NaN</td>\n",
       "      <td>NaN</td>\n",
       "    </tr>\n",
       "    <tr>\n",
       "      <th>5989</th>\n",
       "      <td>ND.0003</td>\n",
       "      <td>1900-1905</td>\n",
       "      <td>0</td>\n",
       "      <td>Unprovoked</td>\n",
       "      <td>USA</td>\n",
       "      <td>North Carolina</td>\n",
       "      <td>Ocracoke Inlet</td>\n",
       "      <td>Swimming</td>\n",
       "      <td>Coast Guard personnel</td>\n",
       "      <td>M</td>\n",
       "      <td>...</td>\n",
       "      <td>NaN</td>\n",
       "      <td>F. Schwartz, p.23; C. Creswell, GSAF</td>\n",
       "      <td>ND-0003-Ocracoke_1900-1905.pdf</td>\n",
       "      <td>http://sharkattackfile.net/spreadsheets/pdf_di...</td>\n",
       "      <td>http://sharkattackfile.net/spreadsheets/pdf_di...</td>\n",
       "      <td>ND.0003</td>\n",
       "      <td>ND.0003</td>\n",
       "      <td>4</td>\n",
       "      <td>NaN</td>\n",
       "      <td>NaN</td>\n",
       "    </tr>\n",
       "  </tbody>\n",
       "</table>\n",
       "<p>3 rows × 24 columns</p>\n",
       "</div>"
      ],
      "text/plain": [
       "     Case Number       Date  Year        Type             Country  \\\n",
       "5991     ND.0001  1845-1853     0  Unprovoked  CEYLON (SRI LANKA)   \n",
       "5990     ND.0002  1883-1889     0  Unprovoked              PANAMA   \n",
       "5989     ND.0003  1900-1905     0  Unprovoked                 USA   \n",
       "\n",
       "                  Area                             Location  Activity  \\\n",
       "5991  Eastern Province  Below the English fort, Trincomalee  Swimming   \n",
       "5990               NaN                 Panama Bay 8ºN, 79ºW       NaN   \n",
       "5989    North Carolina                       Ocracoke Inlet  Swimming   \n",
       "\n",
       "                       Name Sex   ... Species   \\\n",
       "5991                   male    M  ...      NaN   \n",
       "5990        Jules Patterson    M  ...      NaN   \n",
       "5989  Coast Guard personnel    M  ...      NaN   \n",
       "\n",
       "                    Investigator or Source                             pdf  \\\n",
       "5991                            S.W. Baker              ND-0001-Ceylon.pdf   \n",
       "5990                   The Sun, 10/20/1938      ND-0002-JulesPatterson.pdf   \n",
       "5989  F. Schwartz, p.23; C. Creswell, GSAF  ND-0003-Ocracoke_1900-1905.pdf   \n",
       "\n",
       "                                           href formula  \\\n",
       "5991  http://sharkattackfile.net/spreadsheets/pdf_di...   \n",
       "5990  http://sharkattackfile.net/spreadsheets/pdf_di...   \n",
       "5989  http://sharkattackfile.net/spreadsheets/pdf_di...   \n",
       "\n",
       "                                                   href Case Number.1  \\\n",
       "5991  http://sharkattackfile.net/spreadsheets/pdf_di...       ND.0001   \n",
       "5990  http://sharkattackfile.net/spreadsheets/pdf_di...       ND.0002   \n",
       "5989  http://sharkattackfile.net/spreadsheets/pdf_di...       ND.0003   \n",
       "\n",
       "     Case Number.2 original order Unnamed: 22 Unnamed: 23  \n",
       "5991       ND.0001              2         NaN         NaN  \n",
       "5990       ND.0002              3         NaN         NaN  \n",
       "5989       ND.0003              4         NaN         NaN  \n",
       "\n",
       "[3 rows x 24 columns]"
      ]
     },
     "execution_count": 9,
     "metadata": {},
     "output_type": "execute_result"
    }
   ],
   "source": [
    "#ordeno la tabla por los valores original order\n",
    "df.sort_values(\"original order\",ascending=True,inplace=True)\n",
    "df.head(3)"
   ]
  },
  {
   "cell_type": "code",
   "execution_count": 10,
   "id": "c29bf6fe",
   "metadata": {
    "ExecuteTime": {
     "end_time": "2021-11-04T15:48:53.445545Z",
     "start_time": "2021-11-04T15:48:53.429595Z"
    },
    "hidden": true,
    "slideshow": {
     "slide_type": "subslide"
    }
   },
   "outputs": [
    {
     "data": {
      "text/plain": [
       "5988"
      ]
     },
     "execution_count": 10,
     "metadata": {},
     "output_type": "execute_result"
    }
   ],
   "source": [
    "#Vamos a ver que valoers faltan\n",
    "df[\"original order\"].nunique()"
   ]
  },
  {
   "cell_type": "code",
   "execution_count": 11,
   "id": "db4c22de",
   "metadata": {
    "ExecuteTime": {
     "end_time": "2021-11-04T15:48:53.459895Z",
     "start_time": "2021-11-04T15:48:53.445545Z"
    },
    "hidden": true,
    "slideshow": {
     "slide_type": "subslide"
    }
   },
   "outputs": [],
   "source": [
    "#Vamos a comprobar cuantos valores se repiten \n",
    "OE_ValoresRepetidos=len(df[\"original order\"])-df[\"original order\"].nunique()"
   ]
  },
  {
   "cell_type": "code",
   "execution_count": 12,
   "id": "6dfd8b7e",
   "metadata": {
    "ExecuteTime": {
     "end_time": "2021-11-04T15:48:53.475900Z",
     "start_time": "2021-11-04T15:48:53.459895Z"
    },
    "hidden": true,
    "slideshow": {
     "slide_type": "subslide"
    }
   },
   "outputs": [
    {
     "data": {
      "text/plain": [
       "5739    2\n",
       "569     2\n",
       "5661    2\n",
       "3847    2\n",
       "Name: original order, dtype: int64"
      ]
     },
     "execution_count": 12,
     "metadata": {},
     "output_type": "execute_result"
    }
   ],
   "source": [
    "#Comprobamos QUE valores se repiten\n",
    "df[\"original order\"].value_counts().head(OE_ValoresRepetidos)"
   ]
  },
  {
   "cell_type": "code",
   "execution_count": 13,
   "id": "147bf4e5",
   "metadata": {
    "ExecuteTime": {
     "end_time": "2021-11-04T15:48:54.243384Z",
     "start_time": "2021-11-04T15:48:53.475900Z"
    },
    "hidden": true,
    "slideshow": {
     "slide_type": "subslide"
    }
   },
   "outputs": [
    {
     "name": "stdout",
     "output_type": "stream",
     "text": [
      "0\n",
      "1\n",
      "571\n",
      "3347\n",
      "5724\n",
      "5881\n"
     ]
    }
   ],
   "source": [
    "#Comprobamos desde el 0 al numero de casos, que valores no estan, lopaso a index ya que me resuta mas facil\n",
    "df2=df.set_index(\"original order\")\n",
    "for i in range(0,len(df2)):\n",
    "    try:\n",
    "        df2.loc[i]\n",
    "    except KeyError:\n",
    "        print(i)"
   ]
  },
  {
   "cell_type": "markdown",
   "id": "9a2e0059",
   "metadata": {
    "hidden": true
   },
   "source": [
    "- Los casos iguales podrian ser casos repetidos o error al introducir el valor original order"
   ]
  },
  {
   "cell_type": "code",
   "execution_count": 14,
   "id": "76ab9469",
   "metadata": {
    "ExecuteTime": {
     "end_time": "2021-11-04T15:48:54.257295Z",
     "start_time": "2021-11-04T15:48:54.244407Z"
    },
    "hidden": true
   },
   "outputs": [
    {
     "data": {
      "text/plain": [
       "Case Number               False\n",
       "Date                      False\n",
       "Year                       True\n",
       "Type                       True\n",
       "Country                   False\n",
       "Area                      False\n",
       "Location                  False\n",
       "Activity                  False\n",
       "Name                      False\n",
       "Sex                        True\n",
       "Age                       False\n",
       "Injury                     True\n",
       "Fatal (Y/N)                True\n",
       "Time                      False\n",
       "Species                   False\n",
       "Investigator or Source    False\n",
       "pdf                       False\n",
       "href formula              False\n",
       "href                      False\n",
       "Case Number.1             False\n",
       "Case Number.2             False\n",
       "original order             True\n",
       "Unnamed: 22               False\n",
       "Unnamed: 23               False\n",
       "dtype: bool"
      ]
     },
     "execution_count": 14,
     "metadata": {},
     "output_type": "execute_result"
    }
   ],
   "source": [
    "#Elegimos dos casos con mismo original order y comparamos el resto de columnas de los casos y comparamos si e\n",
    "df.loc[5423]==df.loc[5424]\n",
    "#Muy pocas se parecen"
   ]
  },
  {
   "cell_type": "markdown",
   "id": "e16b237d",
   "metadata": {
    "ExecuteTime": {
     "end_time": "2021-10-30T10:39:21.365815Z",
     "start_time": "2021-10-30T10:39:21.356150Z"
    },
    "hidden": true,
    "slideshow": {
     "slide_type": "subslide"
    }
   },
   "source": [
    "Problema de original order: 4 numeros repetidos y en el orden de casos se han saltado varios numeros\n",
    "Opciones para corregirlo:\n",
    "- Opcion A: Cambios en la misma columna:\n",
    "        - del 2 al 568 correcto, pasamos el segundo valor 569 al 570 \n",
    "        - del 571 al 3346 correcto, del3348 al primer valor 3847 hay que restarle 1\n",
    "        - del 3848 al 5660 correcto, del segundo valor del 5661 a 5723 hay que sumarle 1\n",
    "        - del 5725 a 5738 correcto, del segundo valor de 5739 al 5880 hay que sumarle 1\n",
    "        - despues restamos 1 a todo y los casos empezaran desde 1 siendo valores unicos\n",
    "- Opcion B:\n",
    "        - ponerlo en orden y crear una nueva tabla con un rango de 1 a len"
   ]
  },
  {
   "cell_type": "code",
   "execution_count": 15,
   "id": "cff40558",
   "metadata": {
    "ExecuteTime": {
     "end_time": "2021-11-04T15:48:54.268749Z",
     "start_time": "2021-11-04T15:48:54.259801Z"
    },
    "hidden": true,
    "slideshow": {
     "slide_type": "subslide"
    }
   },
   "outputs": [],
   "source": [
    "#cambio el indice con una lista de numeros desde el 1 hasta la longitud +1\n",
    "lista=[i for i in range(1,len(df)+1)]\n"
   ]
  },
  {
   "cell_type": "code",
   "execution_count": 16,
   "id": "f4664c7d",
   "metadata": {
    "ExecuteTime": {
     "end_time": "2021-11-04T15:48:54.288890Z",
     "start_time": "2021-11-04T15:48:54.269061Z"
    },
    "hidden": true,
    "slideshow": {
     "slide_type": "subslide"
    }
   },
   "outputs": [],
   "source": [
    "# añado la columna nueva y borro la antigua\n",
    "df[\"Casos\"]=lista\n",
    "df.drop(\"original order\",axis=1,inplace=True)"
   ]
  },
  {
   "cell_type": "markdown",
   "id": "49d99e89",
   "metadata": {
    "heading_collapsed": true,
    "hidden": true,
    "slideshow": {
     "slide_type": "slide"
    }
   },
   "source": [
    "#### Analisis Case Number"
   ]
  },
  {
   "cell_type": "code",
   "execution_count": 17,
   "id": "23cf2106",
   "metadata": {
    "ExecuteTime": {
     "end_time": "2021-11-04T15:48:54.300204Z",
     "start_time": "2021-11-04T15:48:54.290800Z"
    },
    "hidden": true,
    "slideshow": {
     "slide_type": "subslide"
    }
   },
   "outputs": [],
   "source": [
    "#Cambio el indice a original a Casos \n",
    "df=df.set_index(\"Casos\")"
   ]
  },
  {
   "cell_type": "code",
   "execution_count": 18,
   "id": "e747134b",
   "metadata": {
    "ExecuteTime": {
     "end_time": "2021-11-04T15:48:54.328898Z",
     "start_time": "2021-11-04T15:48:54.301369Z"
    },
    "hidden": true,
    "scrolled": false,
    "slideshow": {
     "slide_type": "subslide"
    }
   },
   "outputs": [
    {
     "name": "stdout",
     "output_type": "stream",
     "text": [
      "<class 'pandas.core.frame.DataFrame'>\n",
      "Int64Index: 5992 entries, 1 to 5992\n",
      "Data columns (total 3 columns):\n",
      " #   Column         Non-Null Count  Dtype \n",
      "---  ------         --------------  ----- \n",
      " 0   Case Number    5992 non-null   object\n",
      " 1   Case Number.1  5992 non-null   object\n",
      " 2   Case Number.2  5992 non-null   object\n",
      "dtypes: object(3)\n",
      "memory usage: 187.2+ KB\n"
     ]
    }
   ],
   "source": [
    "#Miramos cantidad de valores nulos\n",
    "df[[\"Case Number\",\"Case Number.1\",\"Case Number.2\"]].info()"
   ]
  },
  {
   "cell_type": "code",
   "execution_count": 19,
   "id": "9312363e",
   "metadata": {
    "ExecuteTime": {
     "end_time": "2021-11-04T15:48:54.349123Z",
     "start_time": "2021-11-04T15:48:54.328898Z"
    },
    "hidden": true,
    "scrolled": true,
    "slideshow": {
     "slide_type": "subslide"
    }
   },
   "outputs": [
    {
     "data": {
      "text/plain": [
       "Case Number      5976\n",
       "Case Number.1    5975\n",
       "Case Number.2    5976\n",
       "dtype: int64"
      ]
     },
     "execution_count": 19,
     "metadata": {},
     "output_type": "execute_result"
    }
   ],
   "source": [
    "#Valores unicos que hay\n",
    "df[[\"Case Number\",\"Case Number.1\",\"Case Number.2\"]].nunique()"
   ]
  },
  {
   "cell_type": "code",
   "execution_count": 20,
   "id": "7713a5d2",
   "metadata": {
    "ExecuteTime": {
     "end_time": "2021-11-04T15:48:54.367949Z",
     "start_time": "2021-11-04T15:48:54.349123Z"
    },
    "hidden": true,
    "slideshow": {
     "slide_type": "subslide"
    }
   },
   "outputs": [
    {
     "name": "stdout",
     "output_type": "stream",
     "text": [
      "16 casos se repiten\n"
     ]
    }
   ],
   "source": [
    "#No hay valores nulos pero hay valores que se repiten y el formato de numero de caso varia\n",
    "print(f'{len(df[\"Case Number\"])-len(set(df[\"Case Number\"]))} casos se repiten')"
   ]
  },
  {
   "cell_type": "code",
   "execution_count": 21,
   "id": "018a2c9b",
   "metadata": {
    "ExecuteTime": {
     "end_time": "2021-11-04T15:48:54.835586Z",
     "start_time": "2021-11-04T15:48:54.367949Z"
    },
    "hidden": true,
    "slideshow": {
     "slide_type": "subslide"
    }
   },
   "outputs": [],
   "source": [
    "#Vamos a ver que valores se repiten en Case Number y si son los mismos en \n",
    "listaA=[] #Lista de valores unicos de Case Number\n",
    "listaB=[] #Lista de valores repetidos de Case Number\n",
    "for i in range(1,len(df)+1):\n",
    "    if df[\"Case Number\"].loc[i] not in listaA:\n",
    "        listaA.append(df[\"Case Number\"].loc[i])\n",
    "    else:\n",
    "        listaB.append(df[\"Case Number\"].loc[i])"
   ]
  },
  {
   "cell_type": "code",
   "execution_count": 22,
   "id": "0ec7d908",
   "metadata": {
    "ExecuteTime": {
     "end_time": "2021-11-04T15:48:55.368384Z",
     "start_time": "2021-11-04T15:48:54.836085Z"
    },
    "code_folding": [],
    "hidden": true,
    "slideshow": {
     "slide_type": "subslide"
    }
   },
   "outputs": [],
   "source": [
    "#Vamos a ver que valores se repiten en Case Number.1 y si son los mismos en \n",
    "listaC=[] #Lista de valores unicos de Case Number.1\n",
    "listaD=[] #Lista de valores repetidos de Case Number.1\n",
    "for i in range(1,len(df)+1):\n",
    "    if df[\"Case Number.1\"].loc[i] not in listaC:\n",
    "        listaC.append(df[\"Case Number.1\"].loc[i])\n",
    "    else:\n",
    "        listaD.append(df[\"Case Number.1\"].loc[i])"
   ]
  },
  {
   "cell_type": "code",
   "execution_count": 23,
   "id": "3169454f",
   "metadata": {
    "ExecuteTime": {
     "end_time": "2021-11-04T15:48:55.879509Z",
     "start_time": "2021-11-04T15:48:55.368384Z"
    },
    "hidden": true,
    "slideshow": {
     "slide_type": "subslide"
    }
   },
   "outputs": [],
   "source": [
    "#Vamos a ver que valores se repiten en Case Number.2 y si son los mismos en \n",
    "listaE=[] #Lista de valores unicos de Case Number.2\n",
    "listaF=[] #Lista de valores repetidos de Case Number.2\n",
    "for i in range(1,len(df)+1):\n",
    "    if df[\"Case Number.2\"].loc[i] not in listaE:\n",
    "        listaE.append(df[\"Case Number.2\"].loc[i])\n",
    "    else:\n",
    "        listaF.append(df[\"Case Number.2\"].loc[i])"
   ]
  },
  {
   "cell_type": "code",
   "execution_count": 24,
   "id": "1dd59ba4",
   "metadata": {
    "ExecuteTime": {
     "end_time": "2021-11-04T15:48:55.900048Z",
     "start_time": "2021-11-04T15:48:55.881497Z"
    },
    "hidden": true,
    "scrolled": true,
    "slideshow": {
     "slide_type": "subslide"
    }
   },
   "outputs": [
    {
     "name": "stdout",
     "output_type": "stream",
     "text": [
      "True     5979\n",
      "False      13\n",
      "dtype: int64\n",
      "True     5981\n",
      "False      11\n",
      "dtype: int64\n",
      "True     5990\n",
      "False       2\n",
      "dtype: int64\n"
     ]
    }
   ],
   "source": [
    "#Vamos a comprobar que columnas son mas parecidas\n",
    "print((df[\"Case Number\"]==df[\"Case Number.1\"]).value_counts())\n",
    "print((df[\"Case Number.1\"]==df[\"Case Number.2\"]).value_counts())\n",
    "print((df[\"Case Number\"]==df[\"Case Number.2\"]).value_counts())"
   ]
  },
  {
   "cell_type": "code",
   "execution_count": 25,
   "id": "200b4670",
   "metadata": {
    "ExecuteTime": {
     "end_time": "2021-11-04T15:48:55.909681Z",
     "start_time": "2021-11-04T15:48:55.901688Z"
    },
    "hidden": true,
    "slideshow": {
     "slide_type": "subslide"
    }
   },
   "outputs": [
    {
     "name": "stdout",
     "output_type": "stream",
     "text": [
      "Valores no repetidos False\n",
      "Valores  repetidos True\n"
     ]
    }
   ],
   "source": [
    "#Primero unificare la columna Case Number con la columna Case Number.2 ya que son muy parecidas\n",
    "print(f'Valores no repetidos {listaA==listaE}')\n",
    "print(f'Valores  repetidos {listaB==listaF}')\n"
   ]
  },
  {
   "cell_type": "code",
   "execution_count": 26,
   "id": "75ae593e",
   "metadata": {
    "ExecuteTime": {
     "end_time": "2021-11-04T15:48:56.070333Z",
     "start_time": "2021-11-04T15:48:55.909681Z"
    },
    "hidden": true,
    "scrolled": true,
    "slideshow": {
     "slide_type": "subslide"
    }
   },
   "outputs": [
    {
     "name": "stdout",
     "output_type": "stream",
     "text": [
      "1273\n",
      "5823\n"
     ]
    }
   ],
   "source": [
    "#Los dos valores que no coinciden estan en los valores no repetidos\n",
    "for i in range(1,len(df)):\n",
    "    if df[\"Case Number\"].loc[i]!= df[\"Case Number.2\"].loc[i]:\n",
    "          print(i)\n",
    "    \n"
   ]
  },
  {
   "cell_type": "code",
   "execution_count": 27,
   "id": "e7186c22",
   "metadata": {
    "ExecuteTime": {
     "end_time": "2021-11-04T15:48:56.089532Z",
     "start_time": "2021-11-04T15:48:56.070333Z"
    },
    "hidden": true,
    "scrolled": false,
    "slideshow": {
     "slide_type": "subslide"
    }
   },
   "outputs": [
    {
     "data": {
      "text/plain": [
       "Case Number                                                    1934.01.08.R\n",
       "Date                                                   Reported 08-Feb-1934\n",
       "Year                                                                   1934\n",
       "Type                                                                Boating\n",
       "Country                                                              TURKEY\n",
       "Area                                                               Istanbul\n",
       "Location                                         Haydarpasa jetty, Istanbul\n",
       "Activity                                                            Fishing\n",
       "Name                                                                2 males\n",
       "Sex                                                                       M\n",
       "Age                                                                     NaN\n",
       "Injury                                                            No injury\n",
       "Fatal (Y/N)                                                               N\n",
       "Time                                                                    NaN\n",
       "Species                                                                 NaN\n",
       "Investigator or Source                                       C. Moore, GSAF\n",
       "pdf                                                 1924.02.08.R-Turkey.pdf\n",
       "href formula              http://sharkattackfile.net/spreadsheets/pdf_di...\n",
       "href                      http://sharkattackfile.net/spreadsheets/pdf_di...\n",
       "Case Number.1                                                  1934.02.08.R\n",
       "Case Number.2                                                  1934.02.08.R\n",
       "Unnamed: 22                                                             NaN\n",
       "Unnamed: 23                                                             NaN\n",
       "Name: 1273, dtype: object"
      ]
     },
     "execution_count": 27,
     "metadata": {},
     "output_type": "execute_result"
    }
   ],
   "source": [
    "#Analizamos ambos valores de forma individual\n",
    "df.loc[1273]"
   ]
  },
  {
   "cell_type": "code",
   "execution_count": 28,
   "id": "708dac11",
   "metadata": {
    "ExecuteTime": {
     "end_time": "2021-11-04T15:48:56.100556Z",
     "start_time": "2021-11-04T15:48:56.089532Z"
    },
    "hidden": true,
    "scrolled": false,
    "slideshow": {
     "slide_type": "subslide"
    }
   },
   "outputs": [
    {
     "data": {
      "text/plain": [
       "Case Number                                                      2015.07-10\n",
       "Date                                                              10-Jul-15\n",
       "Year                                                                   2015\n",
       "Type                                                             Unprovoked\n",
       "Country                                                                 USA\n",
       "Area                                                             California\n",
       "Location                                    Huntington Beach, Orange County\n",
       "Activity                                                            Surfing\n",
       "Name                                                           Danny Miskin\n",
       "Sex                                                                       M\n",
       "Age                                                                      38\n",
       "Injury                              No injury, shark bumped & damaged board\n",
       "Fatal (Y/N)                                                               N\n",
       "Time                                                                  08h45\n",
       "Species                                                     White shark, 7'\n",
       "Investigator or Source                                      KTLA, 7/10/2015\n",
       "pdf                                                   2015.07.10-Miskin.pdf\n",
       "href formula              http://sharkattackfile.net/spreadsheets/pdf_di...\n",
       "href                      http://sharkattackfile.net/spreadsheets/pdf_di...\n",
       "Case Number.1                                                    2015.07.10\n",
       "Case Number.2                                                    2015.07.10\n",
       "Unnamed: 22                                                             NaN\n",
       "Unnamed: 23                                                             NaN\n",
       "Name: 5823, dtype: object"
      ]
     },
     "execution_count": 28,
     "metadata": {},
     "output_type": "execute_result"
    }
   ],
   "source": [
    "df.loc[5823]"
   ]
  },
  {
   "cell_type": "markdown",
   "id": "0eb16417",
   "metadata": {
    "hidden": true,
    "slideshow": {
     "slide_type": "subslide"
    }
   },
   "source": [
    "- Problema:  \n",
    "     - Case Number: A veces apuntdo por fecha o por el nombre del pdf, valores repetidos y si son el mismo dia con letras, no da informacion relevante ni utilizable ya que son parches de otras columnas\n",
    "\n",
    "Decido borrar las columnas Case number ya que no me aportan informacion relevante y lo he unido a la columna Casos"
   ]
  },
  {
   "cell_type": "markdown",
   "id": "4fdff35a",
   "metadata": {
    "heading_collapsed": true,
    "hidden": true,
    "slideshow": {
     "slide_type": "subslide"
    }
   },
   "source": [
    "#### Output Columnas: \"original order\",\"Case Number\",\"Case Number.1\",\"Case Number.2\""
   ]
  },
  {
   "cell_type": "code",
   "execution_count": 29,
   "id": "f1be1bf4",
   "metadata": {
    "ExecuteTime": {
     "end_time": "2021-11-04T15:48:56.128760Z",
     "start_time": "2021-11-04T15:48:56.101609Z"
    },
    "hidden": true,
    "slideshow": {
     "slide_type": "subslide"
    }
   },
   "outputs": [],
   "source": [
    "df.drop([\"Case Number\",\"Case Number.1\",\"Case Number.2\"],axis=1,inplace=True)"
   ]
  },
  {
   "cell_type": "markdown",
   "id": "33cedcbc",
   "metadata": {
    "heading_collapsed": true,
    "hidden": true,
    "slideshow": {
     "slide_type": "slide"
    }
   },
   "source": [
    "### Columna \"unname 23\""
   ]
  },
  {
   "cell_type": "markdown",
   "id": "4a5b1bc3",
   "metadata": {
    "heading_collapsed": true,
    "hidden": true,
    "slideshow": {
     "slide_type": "subslide"
    }
   },
   "source": [
    "####   analisis de los valores y conocimiento del problema"
   ]
  },
  {
   "cell_type": "code",
   "execution_count": 30,
   "id": "e72bab49",
   "metadata": {
    "ExecuteTime": {
     "end_time": "2021-11-04T15:48:56.140202Z",
     "start_time": "2021-11-04T15:48:56.130529Z"
    },
    "hidden": true,
    "slideshow": {
     "slide_type": "subslide"
    }
   },
   "outputs": [
    {
     "data": {
      "text/plain": [
       "{'Teramo', 'change filename', nan}"
      ]
     },
     "execution_count": 30,
     "metadata": {},
     "output_type": "execute_result"
    }
   ],
   "source": [
    "#Valores de Unnamed 23\n",
    "set(df[\"Unnamed: 23\"])"
   ]
  },
  {
   "cell_type": "code",
   "execution_count": 31,
   "id": "a366ef3d",
   "metadata": {
    "ExecuteTime": {
     "end_time": "2021-11-04T15:48:56.160388Z",
     "start_time": "2021-11-04T15:48:56.143410Z"
    },
    "hidden": true,
    "slideshow": {
     "slide_type": "subslide"
    }
   },
   "outputs": [
    {
     "data": {
      "text/plain": [
       "Teramo             1\n",
       "change filename    1\n",
       "Name: Unnamed: 23, dtype: int64"
      ]
     },
     "execution_count": 31,
     "metadata": {},
     "output_type": "execute_result"
    }
   ],
   "source": [
    "#Cantidad de veces que salen estos valores\n",
    "df[\"Unnamed: 23\"].value_counts()"
   ]
  },
  {
   "cell_type": "markdown",
   "id": "8d65f3b8",
   "metadata": {
    "heading_collapsed": true,
    "hidden": true,
    "slideshow": {
     "slide_type": "subslide"
    }
   },
   "source": [
    "#### Conclusion y output"
   ]
  },
  {
   "cell_type": "code",
   "execution_count": 32,
   "id": "166c2a94",
   "metadata": {
    "ExecuteTime": {
     "end_time": "2021-11-04T15:48:56.170154Z",
     "start_time": "2021-11-04T15:48:56.161524Z"
    },
    "code_folding": [],
    "hidden": true,
    "slideshow": {
     "slide_type": "subslide"
    }
   },
   "outputs": [],
   "source": [
    "# No la considero relevante asi que decido borrarla\n",
    "df.drop(\"Unnamed: 23\",axis=1,inplace=True)"
   ]
  },
  {
   "cell_type": "markdown",
   "id": "fdd8fa90",
   "metadata": {
    "heading_collapsed": true,
    "hidden": true,
    "slideshow": {
     "slide_type": "slide"
    }
   },
   "source": [
    "### Columna \"unname 22\""
   ]
  },
  {
   "cell_type": "markdown",
   "id": "b4d06306",
   "metadata": {
    "heading_collapsed": true,
    "hidden": true,
    "slideshow": {
     "slide_type": "subslide"
    }
   },
   "source": [
    "#### Identificacion de valores nulos de cada columna"
   ]
  },
  {
   "cell_type": "code",
   "execution_count": 33,
   "id": "62fc3910",
   "metadata": {
    "ExecuteTime": {
     "end_time": "2021-11-04T15:48:56.180711Z",
     "start_time": "2021-11-04T15:48:56.170661Z"
    },
    "hidden": true,
    "slideshow": {
     "slide_type": "subslide"
    }
   },
   "outputs": [
    {
     "data": {
      "text/plain": [
       "{nan, 'stopped here'}"
      ]
     },
     "execution_count": 33,
     "metadata": {},
     "output_type": "execute_result"
    }
   ],
   "source": [
    "#Valores de Unnamed 22\n",
    "set(df[\"Unnamed: 22\"])"
   ]
  },
  {
   "cell_type": "code",
   "execution_count": 34,
   "id": "2873cab8",
   "metadata": {
    "ExecuteTime": {
     "end_time": "2021-11-04T15:48:56.190039Z",
     "start_time": "2021-11-04T15:48:56.181816Z"
    },
    "hidden": true,
    "slideshow": {
     "slide_type": "subslide"
    }
   },
   "outputs": [
    {
     "data": {
      "text/plain": [
       "stopped here    1\n",
       "Name: Unnamed: 22, dtype: int64"
      ]
     },
     "execution_count": 34,
     "metadata": {},
     "output_type": "execute_result"
    }
   ],
   "source": [
    "#Vamos a ver cuantos valores hay\n",
    "df[\"Unnamed: 22\"].value_counts()"
   ]
  },
  {
   "cell_type": "markdown",
   "id": "19989865",
   "metadata": {
    "heading_collapsed": true,
    "hidden": true,
    "slideshow": {
     "slide_type": "subslide"
    }
   },
   "source": [
    "#### Conclusion y output"
   ]
  },
  {
   "cell_type": "code",
   "execution_count": 35,
   "id": "b13742a4",
   "metadata": {
    "ExecuteTime": {
     "end_time": "2021-11-04T15:48:56.200373Z",
     "start_time": "2021-11-04T15:48:56.192747Z"
    },
    "hidden": true,
    "slideshow": {
     "slide_type": "subslide"
    }
   },
   "outputs": [],
   "source": [
    "#El registro esta en mitad de la tabla y no lo considero importante asi que quito toda la columna \n",
    "df.drop(\"Unnamed: 22\", axis=1,inplace=True)"
   ]
  },
  {
   "cell_type": "markdown",
   "id": "3955dad4",
   "metadata": {
    "heading_collapsed": true,
    "hidden": true,
    "slideshow": {
     "slide_type": "slide"
    }
   },
   "source": [
    "###  Columnas: \"Country\"  "
   ]
  },
  {
   "cell_type": "markdown",
   "id": "c015fee8",
   "metadata": {
    "heading_collapsed": true,
    "hidden": true,
    "slideshow": {
     "slide_type": "subslide"
    }
   },
   "source": [
    "#### Analisis inicial de las columnas"
   ]
  },
  {
   "cell_type": "code",
   "execution_count": 36,
   "id": "9a814024",
   "metadata": {
    "ExecuteTime": {
     "end_time": "2021-11-04T15:48:56.210077Z",
     "start_time": "2021-11-04T15:48:56.201386Z"
    },
    "hidden": true,
    "slideshow": {
     "slide_type": "subslide"
    }
   },
   "outputs": [
    {
     "data": {
      "text/plain": [
       "43"
      ]
     },
     "execution_count": 36,
     "metadata": {},
     "output_type": "execute_result"
    }
   ],
   "source": [
    "#Observamos la cantidad de valores nulos que hay\n",
    "(df[\"Country\"]).isna().sum()"
   ]
  },
  {
   "cell_type": "code",
   "execution_count": 37,
   "id": "683055c5",
   "metadata": {
    "ExecuteTime": {
     "end_time": "2021-11-04T15:48:56.230339Z",
     "start_time": "2021-11-04T15:48:56.211758Z"
    },
    "hidden": true,
    "slideshow": {
     "slide_type": "subslide"
    }
   },
   "outputs": [],
   "source": [
    "#Rellenamos los na con un grupo de \"No determinado\"\n",
    "df[\"Country\"].fillna(\"No determinado\",inplace=True)"
   ]
  },
  {
   "cell_type": "markdown",
   "id": "25c54f0b",
   "metadata": {
    "heading_collapsed": true,
    "hidden": true,
    "slideshow": {
     "slide_type": "subslide"
    }
   },
   "source": [
    "####  Limpieza de los valores:\n",
    "Observo que en los inicios hay espacios, hay ?, primero limpiar los nombres y despues buscar si existe el pais\n",
    "Objetivo: comprobar si existen y si no existen añadir como No determinado, antes borrar espacios iniciales y finales y quitar ?¿ç"
   ]
  },
  {
   "cell_type": "code",
   "execution_count": 38,
   "id": "4391c911",
   "metadata": {
    "ExecuteTime": {
     "end_time": "2021-11-04T15:48:56.239112Z",
     "start_time": "2021-11-04T15:48:56.230843Z"
    },
    "hidden": true,
    "slideshow": {
     "slide_type": "subslide"
    }
   },
   "outputs": [],
   "source": [
    "#Primero lo convierto todo a mayusculas\n",
    "df[\"Country\"]=df[\"Country\"].str.upper()\n"
   ]
  },
  {
   "cell_type": "code",
   "execution_count": 39,
   "id": "c8648a24",
   "metadata": {
    "ExecuteTime": {
     "end_time": "2021-11-04T15:48:56.260636Z",
     "start_time": "2021-11-04T15:48:56.241122Z"
    },
    "hidden": true,
    "slideshow": {
     "slide_type": "subslide"
    }
   },
   "outputs": [],
   "source": [
    "#Identifico los paises que empiezan con espacio y se lo quito\n",
    "df[df[\"Country\"].str.startswith(\" \")][\"Country\"]\n",
    "#Solo son PHILIPPINES Y TONGA, los modifico \n",
    "df.replace({\" PHILIPPINES\":\"PHILIPPINES\",\" TONGA\":\"TONGA\"},inplace=True)"
   ]
  },
  {
   "cell_type": "code",
   "execution_count": 40,
   "id": "fcf34da5",
   "metadata": {
    "ExecuteTime": {
     "end_time": "2021-11-04T15:48:56.298861Z",
     "start_time": "2021-11-04T15:48:56.261779Z"
    },
    "hidden": true,
    "slideshow": {
     "slide_type": "subslide"
    }
   },
   "outputs": [],
   "source": [
    "#Identifico los paises que acaban con espacio y se lo quito\n",
    "df[df[\"Country\"].str.endswith(\" \")][\"Country\"]\n",
    "df.replace({\"YEMEN \":\"YEMEN\",\n",
    "            \"EGYPT \":\"EGYPT\",\n",
    "           \"NORTH ATLANTIC OCEAN \":\"NORTH ATLANTIC OCEAN\",\n",
    "           \"NICARAGUA \":\"NICARAGUA\",\n",
    "            \"PACIFIC OCEAN \":\"PACIFIC OCEAN\",\n",
    "            \"MEXICO \":\"MEXICO\"\n",
    "           },inplace=True)"
   ]
  },
  {
   "cell_type": "code",
   "execution_count": 41,
   "id": "5a33d1a8",
   "metadata": {
    "ExecuteTime": {
     "end_time": "2021-11-04T15:48:56.318057Z",
     "start_time": "2021-11-04T15:48:56.298861Z"
    },
    "hidden": true,
    "scrolled": true,
    "slideshow": {
     "slide_type": "subslide"
    }
   },
   "outputs": [
    {
     "name": "stdout",
     "output_type": "stream",
     "text": [
      "ASIA?\n",
      "RED SEA?\n",
      "INDIAN OCEAN?\n",
      "MEDITERRANEAN SEA?\n",
      "SUDAN?\n"
     ]
    }
   ],
   "source": [
    "#Identifico los valores que tienen ? y los modifico\n",
    "for i in df[\"Country\"]:\n",
    "    if re.findall(\"[?]\",i):\n",
    "        print(i)"
   ]
  },
  {
   "cell_type": "code",
   "execution_count": 42,
   "id": "9961713f",
   "metadata": {
    "ExecuteTime": {
     "end_time": "2021-11-04T15:48:56.349658Z",
     "start_time": "2021-11-04T15:48:56.318057Z"
    },
    "hidden": true,
    "slideshow": {
     "slide_type": "subslide"
    }
   },
   "outputs": [],
   "source": [
    "#Los sustitutyo\n",
    "df.replace({\"ASIA?\":\"ASIA\",\n",
    "            \"RED SEA?\":\"RED SEA\",\n",
    "            \"INDIAN OCEAN?\":\"INDIAN OCEAN\",\n",
    "            \"MEDITERRANEAN SEA?\":\"MEDITERRANEAN SEA\",\n",
    "           \"SUDAN?\":\"SUDAN\"},inplace=True)"
   ]
  },
  {
   "cell_type": "markdown",
   "id": "ac46a420",
   "metadata": {
    "heading_collapsed": true,
    "hidden": true,
    "slideshow": {
     "slide_type": "subslide"
    }
   },
   "source": [
    "####  Conclusion: Clasificacion por paises existentes\n",
    "los nombres de los paises ya estan limpios, vamos a comprobar si existen \n",
    "[Github del csv](https://github.com/datasets/country-list/blob/master/data.csv#L119)"
   ]
  },
  {
   "cell_type": "code",
   "execution_count": 43,
   "id": "0fb35906",
   "metadata": {
    "ExecuteTime": {
     "end_time": "2021-11-04T15:48:56.369579Z",
     "start_time": "2021-11-04T15:48:56.351661Z"
    },
    "hidden": true,
    "scrolled": true,
    "slideshow": {
     "slide_type": "subslide"
    }
   },
   "outputs": [],
   "source": [
    "'''Descargo de github un csv con todos los paises del mundo en ingles, \n",
    "viene con indice y codigo asi que creo una lista con los paises'''\n",
    "lista_paises=pd.read_csv(\"paises.csv\")\n",
    "lista_paises=list(lista_paises[\"Name\"])"
   ]
  },
  {
   "cell_type": "code",
   "execution_count": 44,
   "id": "9378ab4f",
   "metadata": {
    "ExecuteTime": {
     "end_time": "2021-11-04T15:48:56.380411Z",
     "start_time": "2021-11-04T15:48:56.371868Z"
    },
    "hidden": true,
    "slideshow": {
     "slide_type": "subslide"
    }
   },
   "outputs": [],
   "source": [
    "#Convierto los nombres a mayuscula y los pongo en una lista\n",
    "lista=[]\n",
    "for i in lista_paises:\n",
    "    lista.append(i.upper())\n",
    "lista_paises=lista"
   ]
  },
  {
   "cell_type": "code",
   "execution_count": 45,
   "id": "005b800c",
   "metadata": {
    "ExecuteTime": {
     "end_time": "2021-11-04T15:48:56.397097Z",
     "start_time": "2021-11-04T15:48:56.381416Z"
    },
    "code_folding": [],
    "hidden": true,
    "slideshow": {
     "slide_type": "subslide"
    }
   },
   "outputs": [
    {
     "name": "stdout",
     "output_type": "stream",
     "text": [
      "BRITISH NEW GUINEA\n",
      "SOUTH ATLANTIC OCEAN\n",
      "NEW BRITAIN\n",
      "SYRIA\n",
      "NEVIS\n",
      "TURKS & CAICOS\n",
      "BAHREIN\n",
      "CARIBBEAN SEA\n",
      "GRAND CAYMAN\n",
      "NORTH SEA\n",
      "RED SEA / INDIAN OCEAN\n",
      "SAN DOMINGO\n",
      "THE BALKANS\n",
      "PERSIAN GULF\n",
      "CENTRAL PACIFIC\n",
      "SOLOMON ISLANDS / VANUATU\n",
      "NORTH ATLANTIC OCEAN\n",
      "CRETE\n",
      "USA\n",
      "NEW GUINEA\n",
      "TASMAN SEA\n",
      "PACIFIC OCEAN\n",
      "BRITISH WEST INDIES\n",
      "DIEGO GARCIA\n",
      "JAVA\n",
      "RUSSIA\n",
      "COLUMBIA\n",
      "MALDIVE ISLANDS\n",
      "ENGLAND\n",
      "SCOTLAND\n",
      "EGYPT / ISRAEL\n",
      "VIETNAM\n",
      "AZORES\n",
      "NORTHERN ARABIAN SEA\n",
      "EQUATORIAL GUINEA / CAMEROON\n",
      "BRITISH ISLES\n",
      "ST. MAARTIN\n",
      "INDIAN OCEAN\n",
      "ST. MARTIN\n",
      "MID-PACIFC OCEAN\n",
      "RED SEA\n",
      "PALESTINIAN TERRITORIES\n",
      "FALKLAND ISLANDS\n",
      "NO DETERMINADO\n",
      "SOUTHWEST PACIFIC OCEAN\n",
      "ADMIRALTY ISLANDS\n",
      "CURACAO\n",
      "IRAN / IRAQ\n",
      "CEYLON (SRI LANKA)\n",
      "SOUTH PACIFIC OCEAN\n",
      "ATLANTIC OCEAN\n",
      "MID ATLANTIC OCEAN\n",
      "BETWEEN PORTUGAL & INDIA\n",
      "FEDERATED STATES OF MICRONESIA\n",
      "KOREA\n",
      "OKINAWA\n",
      "BRITISH VIRGIN ISLANDS\n",
      "UNITED ARAB EMIRATES (UAE)\n",
      "BAY OF BENGAL\n",
      "REUNION\n",
      "JOHNSTON ISLAND\n",
      "ST HELENA\n",
      "WESTERN SAMOA\n",
      "ANTIGUA\n",
      "ANDAMAN / NICOBAR ISLANDAS\n",
      "MEDITERRANEAN SEA\n",
      "ITALY / CROATIA\n",
      "NETHERLANDS ANTILLES\n",
      "SOUTH CHINA SEA\n",
      "COAST OF AFRICA\n",
      "BURMA\n",
      "NORTH PACIFIC OCEAN\n",
      "TRINIDAD & TOBAGO\n",
      "OCEAN\n",
      "GULF OF ADEN\n",
      "ASIA\n"
     ]
    }
   ],
   "source": [
    "#Vamos a ver los paises que no identifica para ver cuales podemos solucionar y cuales no\n",
    "for i in set(df[\"Country\"]):\n",
    "    if i in list(lista_paises):\n",
    "        continue\n",
    "    else:\n",
    "        print(i)"
   ]
  },
  {
   "cell_type": "markdown",
   "id": "a3c77ee6",
   "metadata": {
    "ExecuteTime": {
     "end_time": "2021-11-01T15:07:43.402156Z",
     "start_time": "2021-11-01T15:07:43.387724Z"
    },
    "hidden": true,
    "slideshow": {
     "slide_type": "subslide"
    }
   },
   "source": [
    "**MODIFICACIONES sobre la lista de paises que no aparecen** {Como salen: Transformacion} (ND=no determinado)\n",
    "1. CEYLON (SRI LANKA): SRI LANKA\n",
    "1. MID-PACIFC OCEAN:ND\n",
    "1. ASIA:ND\n",
    "1.  PERSIAN GULF: ND\n",
    "1.  SAN DOMINGO: DOMINICAN REPUBLIC\n",
    "1.  NEW BRITAIN: ND\n",
    "1.  TRINIDAD & TOBAGO: TRINIDAD AND TOBAGO\n",
    "1.  NORTH SEA: ND\n",
    "1.  UNITED ARAB EMIRATES (UAE): 'UNITED ARAB EMIRATES'\n",
    "1.  SOUTH PACIFIC OCEAN: ND\n",
    "1.  FALKLAND ISLANDS: 'FALKLAND ISLANDS (MALVINAS)'\n",
    "1.  SOUTHWEST PACIFIC OCEAN: ND\n",
    "1.  OKINAWA: JAPAN\n",
    "1.  EQUATORIAL GUINEA / CAMEROON: ND\n",
    "1.  BRITISH ISLES: ND\n",
    "1.  NETHERLANDS ANTILLES: ND\n",
    "1.  GULF OF ADEN: YEMEN\n",
    "1.  BURMA: MYANMAR\n",
    "1.  BRITISH NEW GUINEA: ND\n",
    "1.  THE BALKANS: ND\n",
    "1.  FEDERATED STATES OF MICRONESIA: MICRONESIA\n",
    "1.  PACIFIC OCEAN: ND\n",
    "1.  MEDITERRANEAN SEA: ND\n",
    "1.  MALDIVE ISLANDS: MALDIVES\n",
    "1.  ANDAMAN / NICOBAR ISLANDAS: INDIA\n",
    "1.  TASMAN SEA: AUSTRALIA\n",
    "1.  REUNION: FRANCE\n",
    "1.  BAY OF BENGAL:INDIA\n",
    "1.  BAHREIN: BAHRAIN\n",
    "1.  ATLANTIC OCEAN: ND\n",
    "1.  DIEGO GARCIA: ND\n",
    "1.  TURKS & CAICOS: ND PERO MUY BONITO\n",
    "1.  PALESTINIAN TERRITORIES: PALESTINE\n",
    "1.  SYRIA: 'SYRIAN ARAB REPUBLIC'\n",
    "1.  NO DETERMINADO\n",
    "1.  JAVA: INDONESIA\n",
    "1.  RUSSIA: RUSSIAN FEDERATION\n",
    "1.  GRAND CAYMAN: CAYMAN ISLANDS'\n",
    "1.  NEVIS: ND\n",
    "1.  ST. MAARTIN: 'SAINT MARTIN (FRENCH PART)'\n",
    "1.  JOHNSTON ISLAND: ND\n",
    "1.  ST. MARTIN: 'SAINT MARTIN (FRENCH PART)'\n",
    "1.  NORTH PACIFIC OCEAN: ND\n",
    "1.  ENGLAND:'UNITED KINGDOM'\n",
    "1.  ST HELENA: 'SAINT HELENA'\n",
    "1.  ANTIGUA: 'ANTIGUA AND BARBUDA'\n",
    "1.  NORTH ATLANTIC OCEAN: ND\n",
    "1.  BRITISH WEST INDIES: ND\n",
    "1.  AZORES: PORTUGAL\n",
    "1.  IRAN / IRAQ: ND\n",
    "1.  SCOTLAND: UNITED KINGDOM\n",
    "1.  SOUTH ATLANTIC OCEAN: ND\n",
    "1.  SOLOMON ISLANDS / VANUATU: ND\n",
    "1.  SOUTH CHINA SEA: CHINA\n",
    "1.  COLUMBIA: COLOMBIA\n",
    "1.  RED SEA: ND\n",
    "1.  BETWEEN PORTUGAL & INDIA: ND\n",
    "1.  ADMIRALTY ISLANDS: ND\n",
    "1.  WESTERN SAMOA: SAMOA\n",
    "1.  CENTRAL PACIFIC: ND\n",
    "1.  OCEAN: ND\n",
    "1.  EGYPT / ISRAEL: ND\n",
    "1.  COAST OF AFRICA: ND\n",
    "1.  CRETE: GREECE\n",
    "1.  ITALY / CROATIA: ND\n",
    "1.  KOREA: ND\n",
    "1.  VIETNAM: VIET NAM\n",
    "1.  BRITISH VIRGIN ISLANDS: ND\n",
    "1.  NORTHERN ARABIAN SEA: ND\n",
    "1.  INDIAN OCEAN: ND\n",
    "1.  USA: 'UNITED STATES'\n",
    "1.  CARIBBEAN SEA: ND\n",
    "1.  RED SEA / INDIAN OCEAN: ND\n",
    "1.  NEW GUINEA: GUINEA\n",
    "1.  CURACAO: BRAZIL\n",
    "1.  MID ATLANTIC OCEAN: ND"
   ]
  },
  {
   "cell_type": "code",
   "execution_count": 46,
   "id": "e3432bb9",
   "metadata": {
    "ExecuteTime": {
     "end_time": "2021-11-04T15:48:56.530526Z",
     "start_time": "2021-11-04T15:48:56.397537Z"
    },
    "code_folding": [
     1
    ],
    "hidden": true,
    "slideshow": {
     "slide_type": "subslide"
    }
   },
   "outputs": [],
   "source": [
    "#Hacemos las modificaciones en el dataset\n",
    "df.replace({\"CEYLON (SRI LANKA)\": \"SRI LANKA\",\n",
    "            \"SAN DOMINGO\": \"DOMINICAN REPUBLIC\",\n",
    "            \"TRINIDAD & TOBAGO\": \"TRINIDAD AND TOBAGO\",\n",
    "            \"UNITED ARAB EMIRATES (UAE)\": \"UNITED ARAB EMIRATES\",\n",
    "           \"FALKLAND ISLANDS\": \"FALKLAND ISLANDS (MALVINAS)\",\n",
    "            \"OKINAWA\": \"JAPAN\",\n",
    "           \"GULF OF ADEN\": \"YEMEN\",\n",
    "            \"BURMA\": \"MYANMAR\",\n",
    "           \"FEDERATED STATES OF MICRONESIA\": \"MICRONESIA\",\n",
    "            \"MALDIVE ISLANDS\": \"MALDIVES\",\n",
    "           \"ANDAMAN / NICOBAR ISLANDAS\": \"INDIA\",\n",
    "            \"TASMAN SEA\": \"AUSTRALIA\",\n",
    "            \"REUNION\":\"FRANCE\",\n",
    "            \"BAY OF BENGAL\":\"INDIA\",\n",
    "            \"BAHREIN\":\"BAHRAIN\",\n",
    "           \"PALESTINIAN TERRITORIES\":\"PALESTINE\",\n",
    "            \"SYRIA\": 'SYRIAN ARAB REPUBLIC',\n",
    "            \"JAVA\": \"INDONESIA\",\n",
    "            \"RUSSIA\": \"RUSSIAN FEDERATION\",\n",
    "            \"GRAND CAYMAN\": \"CAYMAN ISLANDS\",\n",
    "            \"ST. MAARTIN\": 'SAINT MARTIN (FRENCH PART)',\n",
    "            \"ST. MARTIN\": 'SAINT MARTIN (FRENCH PART)',\n",
    "            \"ENGLAND\":'UNITED KINGDOM',\n",
    "            \"ST HELENA\": 'SAINT HELENA',\n",
    "            \"ANTIGUA\": 'ANTIGUA AND BARBUDA',\n",
    "              \"AZORES\": \"PORTUGAL\",\n",
    "            \"SCOTLAND\": \"UNITED KINGDOM\",\n",
    "            \"SOUTH CHINA SEA\": \"CHINA\",\n",
    "            \"COLUMBIA\": \"COLOMBIA\",\n",
    "            \"WESTERN SAMOA\": \"SAMOA\",\n",
    "            \"CRETE\": \"GREECE\",\n",
    "            \"VIETNAM\": \"VIET NAM\",\n",
    "            \"USA\": 'UNITED STATES',\n",
    "            \"NEW GUINEA\": \"GUINEA\",\n",
    "            \"CURACAO\": \"BRAZIL\"\n",
    "            \n",
    "           },inplace=True)"
   ]
  },
  {
   "cell_type": "code",
   "execution_count": 47,
   "id": "b52e8079",
   "metadata": {
    "ExecuteTime": {
     "end_time": "2021-11-04T15:48:56.888921Z",
     "start_time": "2021-11-04T15:48:56.531460Z"
    },
    "hidden": true,
    "slideshow": {
     "slide_type": "subslide"
    }
   },
   "outputs": [],
   "source": [
    "#Los paises que no estan bien escritos los añadimos a No determinado\n",
    "for i in set(df[\"Country\"]):\n",
    "    if i in list(lista_paises):\n",
    "        continue\n",
    "    else:\n",
    "        df.replace({i:\"No determinado\"},inplace=True)"
   ]
  },
  {
   "cell_type": "code",
   "execution_count": 48,
   "id": "6760a8a7",
   "metadata": {
    "ExecuteTime": {
     "end_time": "2021-11-04T15:48:56.907741Z",
     "start_time": "2021-11-04T15:48:56.891488Z"
    },
    "code_folding": [],
    "hidden": true,
    "scrolled": true,
    "slideshow": {
     "slide_type": "subslide"
    }
   },
   "outputs": [
    {
     "data": {
      "text/plain": [
       "UNITED STATES       2116\n",
       "AUSTRALIA           1280\n",
       "SOUTH AFRICA         565\n",
       "No determinado       174\n",
       "PAPUA NEW GUINEA     133\n",
       "                    ... \n",
       "GUATEMALA              1\n",
       "MAYOTTE                1\n",
       "MONACO                 1\n",
       "DJIBOUTI               1\n",
       "MARTINIQUE             1\n",
       "Name: Country, Length: 128, dtype: int64"
      ]
     },
     "execution_count": 48,
     "metadata": {},
     "output_type": "execute_result"
    }
   ],
   "source": [
    "#Comprobamos\n",
    "df[\"Country\"].value_counts()"
   ]
  },
  {
   "cell_type": "markdown",
   "id": "c0df9fb6",
   "metadata": {
    "heading_collapsed": true,
    "hidden": true,
    "slideshow": {
     "slide_type": "slide"
    }
   },
   "source": [
    "### Columna: \"Age\""
   ]
  },
  {
   "cell_type": "markdown",
   "id": "4edc8e04",
   "metadata": {
    "heading_collapsed": true,
    "hidden": true,
    "slideshow": {
     "slide_type": "subslide"
    }
   },
   "source": [
    "#### Identificacion de valores nulos de cada columna"
   ]
  },
  {
   "cell_type": "code",
   "execution_count": 49,
   "id": "80491ab0",
   "metadata": {
    "ExecuteTime": {
     "end_time": "2021-11-04T15:48:56.960350Z",
     "start_time": "2021-11-04T15:48:56.910394Z"
    },
    "hidden": true,
    "scrolled": true,
    "slideshow": {
     "slide_type": "subslide"
    }
   },
   "outputs": [
    {
     "data": {
      "text/plain": [
       "2681"
      ]
     },
     "execution_count": 49,
     "metadata": {},
     "output_type": "execute_result"
    }
   ],
   "source": [
    "#La mitad de los valores son nulos (mal empezamos)\n",
    "df[\"Age\"].isna().sum()"
   ]
  },
  {
   "cell_type": "code",
   "execution_count": 50,
   "id": "9282b7d9",
   "metadata": {
    "ExecuteTime": {
     "end_time": "2021-11-04T15:48:56.970659Z",
     "start_time": "2021-11-04T15:48:56.960857Z"
    },
    "hidden": true,
    "slideshow": {
     "slide_type": "subslide"
    }
   },
   "outputs": [
    {
     "data": {
      "text/plain": [
       "17          148\n",
       "18          145\n",
       "19          138\n",
       "20          136\n",
       "15          135\n",
       "           ... \n",
       "25 to 35      1\n",
       "20?           1\n",
       "9 months      1\n",
       "Both 11       1\n",
       "21 or 26      1\n",
       "Name: Age, Length: 151, dtype: int64"
      ]
     },
     "execution_count": 50,
     "metadata": {},
     "output_type": "execute_result"
    }
   ],
   "source": [
    "df[\"Age\"].value_counts()"
   ]
  },
  {
   "cell_type": "markdown",
   "id": "085dd04a",
   "metadata": {
    "heading_collapsed": true,
    "hidden": true,
    "slideshow": {
     "slide_type": "subslide"
    }
   },
   "source": [
    "#### Conclusion y output\n"
   ]
  },
  {
   "cell_type": "code",
   "execution_count": 51,
   "id": "d128d983",
   "metadata": {
    "ExecuteTime": {
     "end_time": "2021-11-04T15:48:56.980018Z",
     "start_time": "2021-11-04T15:48:56.973439Z"
    },
    "hidden": true,
    "slideshow": {
     "slide_type": "subslide"
    }
   },
   "outputs": [],
   "source": [
    "#intento modificar los valores, primero relleno los na con 0\n",
    "df[\"Age\"].fillna(\"0\",inplace=True)"
   ]
  },
  {
   "cell_type": "code",
   "execution_count": 52,
   "id": "68d69c79",
   "metadata": {
    "ExecuteTime": {
     "end_time": "2021-11-04T15:48:56.996703Z",
     "start_time": "2021-11-04T15:48:56.980527Z"
    },
    "hidden": true,
    "slideshow": {
     "slide_type": "subslide"
    }
   },
   "outputs": [],
   "source": [
    "#Creo una definicion que compruebe si la edad es unicamente numerica y el resto los cambio a 0\n",
    "def edad(edad):\n",
    "    try:\n",
    "        edad==int(edad)\n",
    "        if i!=0:\n",
    "            return edad\n",
    "    except ValueError:\n",
    "        return 0"
   ]
  },
  {
   "cell_type": "code",
   "execution_count": 53,
   "id": "1b57a7b9",
   "metadata": {
    "ExecuteTime": {
     "end_time": "2021-11-04T15:48:57.007899Z",
     "start_time": "2021-11-04T15:48:56.997692Z"
    },
    "hidden": true,
    "slideshow": {
     "slide_type": "subslide"
    }
   },
   "outputs": [],
   "source": [
    "#Aplico la funcion\n",
    "df[\"Age\"]=df[\"Age\"].apply(edad)"
   ]
  },
  {
   "cell_type": "markdown",
   "id": "8326dd53",
   "metadata": {
    "heading_collapsed": true,
    "hidden": true,
    "slideshow": {
     "slide_type": "slide"
    }
   },
   "source": [
    "###  Columnas: \"pdf\",\"href formula\",\"href\""
   ]
  },
  {
   "cell_type": "markdown",
   "id": "5c1447d8",
   "metadata": {
    "hidden": true,
    "slideshow": {
     "slide_type": "fragment"
    }
   },
   "source": [
    "Objetivo unificar las 3 columnas al pdf de esa columna"
   ]
  },
  {
   "cell_type": "markdown",
   "id": "6e49a508",
   "metadata": {
    "heading_collapsed": true,
    "hidden": true,
    "slideshow": {
     "slide_type": "subslide"
    }
   },
   "source": [
    "####  Analisis inicial"
   ]
  },
  {
   "cell_type": "code",
   "execution_count": 54,
   "id": "ee6d2ccf",
   "metadata": {
    "ExecuteTime": {
     "end_time": "2021-11-04T15:48:57.030174Z",
     "start_time": "2021-11-04T15:48:57.009742Z"
    },
    "hidden": true,
    "slideshow": {
     "slide_type": "subslide"
    }
   },
   "outputs": [
    {
     "data": {
      "text/html": [
       "<div>\n",
       "<style scoped>\n",
       "    .dataframe tbody tr th:only-of-type {\n",
       "        vertical-align: middle;\n",
       "    }\n",
       "\n",
       "    .dataframe tbody tr th {\n",
       "        vertical-align: top;\n",
       "    }\n",
       "\n",
       "    .dataframe thead th {\n",
       "        text-align: right;\n",
       "    }\n",
       "</style>\n",
       "<table border=\"1\" class=\"dataframe\">\n",
       "  <thead>\n",
       "    <tr style=\"text-align: right;\">\n",
       "      <th></th>\n",
       "      <th>pdf</th>\n",
       "      <th>href formula</th>\n",
       "      <th>href</th>\n",
       "    </tr>\n",
       "    <tr>\n",
       "      <th>Casos</th>\n",
       "      <th></th>\n",
       "      <th></th>\n",
       "      <th></th>\n",
       "    </tr>\n",
       "  </thead>\n",
       "  <tbody>\n",
       "    <tr>\n",
       "      <th>1</th>\n",
       "      <td>ND-0001-Ceylon.pdf</td>\n",
       "      <td>http://sharkattackfile.net/spreadsheets/pdf_di...</td>\n",
       "      <td>http://sharkattackfile.net/spreadsheets/pdf_di...</td>\n",
       "    </tr>\n",
       "    <tr>\n",
       "      <th>2</th>\n",
       "      <td>ND-0002-JulesPatterson.pdf</td>\n",
       "      <td>http://sharkattackfile.net/spreadsheets/pdf_di...</td>\n",
       "      <td>http://sharkattackfile.net/spreadsheets/pdf_di...</td>\n",
       "    </tr>\n",
       "    <tr>\n",
       "      <th>3</th>\n",
       "      <td>ND-0003-Ocracoke_1900-1905.pdf</td>\n",
       "      <td>http://sharkattackfile.net/spreadsheets/pdf_di...</td>\n",
       "      <td>http://sharkattackfile.net/spreadsheets/pdf_di...</td>\n",
       "    </tr>\n",
       "    <tr>\n",
       "      <th>4</th>\n",
       "      <td>ND-0004-Ahmun.pdf</td>\n",
       "      <td>http://sharkattackfile.net/spreadsheets/pdf_di...</td>\n",
       "      <td>http://sharkattackfile.net/spreadsheets/pdf_di...</td>\n",
       "    </tr>\n",
       "    <tr>\n",
       "      <th>5</th>\n",
       "      <td>ND-0005-RoebuckBay.pdf</td>\n",
       "      <td>http://sharkattackfile.net/spreadsheets/pdf_di...</td>\n",
       "      <td>http://sharkattackfile.net/spreadsheets/pdf_di...</td>\n",
       "    </tr>\n",
       "    <tr>\n",
       "      <th>...</th>\n",
       "      <td>...</td>\n",
       "      <td>...</td>\n",
       "      <td>...</td>\n",
       "    </tr>\n",
       "    <tr>\n",
       "      <th>5988</th>\n",
       "      <td>2016.09.16-BellsBeach.pdf</td>\n",
       "      <td>http://sharkattackfile.net/spreadsheets/pdf_di...</td>\n",
       "      <td>http://sharkattackfile.net/spreadsheets/pdf_di...</td>\n",
       "    </tr>\n",
       "    <tr>\n",
       "      <th>5989</th>\n",
       "      <td>2016.09.17-Angiolella.pdf</td>\n",
       "      <td>http://sharkattackfile.net/spreadsheets/pdf_di...</td>\n",
       "      <td>http://sharkattackfile.net/spreadsheets/pdf_di...</td>\n",
       "    </tr>\n",
       "    <tr>\n",
       "      <th>5990</th>\n",
       "      <td>2016.09.18.a-NSB.pdf</td>\n",
       "      <td>http://sharkattackfile.net/spreadsheets/pdf_di...</td>\n",
       "      <td>http://sharkattackfile.net/spreadsheets/pdf_di...</td>\n",
       "    </tr>\n",
       "    <tr>\n",
       "      <th>5991</th>\n",
       "      <td>2016.09.18.b-Luciano.pdf</td>\n",
       "      <td>http://sharkattackfile.net/spreadsheets/pdf_di...</td>\n",
       "      <td>http://sharkattackfile.net/spreadsheets/pdf_di...</td>\n",
       "    </tr>\n",
       "    <tr>\n",
       "      <th>5992</th>\n",
       "      <td>2016.09.18.c-NSB.pdf</td>\n",
       "      <td>http://sharkattackfile.net/spreadsheets/pdf_di...</td>\n",
       "      <td>http://sharkattackfile.net/spreadsheets/pdf_di...</td>\n",
       "    </tr>\n",
       "  </tbody>\n",
       "</table>\n",
       "<p>5992 rows × 3 columns</p>\n",
       "</div>"
      ],
      "text/plain": [
       "                                  pdf  \\\n",
       "Casos                                   \n",
       "1                  ND-0001-Ceylon.pdf   \n",
       "2          ND-0002-JulesPatterson.pdf   \n",
       "3      ND-0003-Ocracoke_1900-1905.pdf   \n",
       "4                   ND-0004-Ahmun.pdf   \n",
       "5              ND-0005-RoebuckBay.pdf   \n",
       "...                               ...   \n",
       "5988        2016.09.16-BellsBeach.pdf   \n",
       "5989        2016.09.17-Angiolella.pdf   \n",
       "5990             2016.09.18.a-NSB.pdf   \n",
       "5991         2016.09.18.b-Luciano.pdf   \n",
       "5992             2016.09.18.c-NSB.pdf   \n",
       "\n",
       "                                            href formula  \\\n",
       "Casos                                                      \n",
       "1      http://sharkattackfile.net/spreadsheets/pdf_di...   \n",
       "2      http://sharkattackfile.net/spreadsheets/pdf_di...   \n",
       "3      http://sharkattackfile.net/spreadsheets/pdf_di...   \n",
       "4      http://sharkattackfile.net/spreadsheets/pdf_di...   \n",
       "5      http://sharkattackfile.net/spreadsheets/pdf_di...   \n",
       "...                                                  ...   \n",
       "5988   http://sharkattackfile.net/spreadsheets/pdf_di...   \n",
       "5989   http://sharkattackfile.net/spreadsheets/pdf_di...   \n",
       "5990   http://sharkattackfile.net/spreadsheets/pdf_di...   \n",
       "5991   http://sharkattackfile.net/spreadsheets/pdf_di...   \n",
       "5992   http://sharkattackfile.net/spreadsheets/pdf_di...   \n",
       "\n",
       "                                                    href  \n",
       "Casos                                                     \n",
       "1      http://sharkattackfile.net/spreadsheets/pdf_di...  \n",
       "2      http://sharkattackfile.net/spreadsheets/pdf_di...  \n",
       "3      http://sharkattackfile.net/spreadsheets/pdf_di...  \n",
       "4      http://sharkattackfile.net/spreadsheets/pdf_di...  \n",
       "5      http://sharkattackfile.net/spreadsheets/pdf_di...  \n",
       "...                                                  ...  \n",
       "5988   http://sharkattackfile.net/spreadsheets/pdf_di...  \n",
       "5989   http://sharkattackfile.net/spreadsheets/pdf_di...  \n",
       "5990   http://sharkattackfile.net/spreadsheets/pdf_di...  \n",
       "5991   http://sharkattackfile.net/spreadsheets/pdf_di...  \n",
       "5992   http://sharkattackfile.net/spreadsheets/pdf_di...  \n",
       "\n",
       "[5992 rows x 3 columns]"
      ]
     },
     "execution_count": 54,
     "metadata": {},
     "output_type": "execute_result"
    }
   ],
   "source": [
    "#Observamos las 3 columnas\n",
    "df[[\"pdf\",\"href formula\",\"href\"]]"
   ]
  },
  {
   "cell_type": "code",
   "execution_count": 55,
   "id": "a5ec7961",
   "metadata": {
    "ExecuteTime": {
     "end_time": "2021-11-04T15:48:57.050508Z",
     "start_time": "2021-11-04T15:48:57.031217Z"
    },
    "hidden": true,
    "scrolled": true,
    "slideshow": {
     "slide_type": "subslide"
    }
   },
   "outputs": [
    {
     "data": {
      "text/plain": [
       "pdf             0\n",
       "href formula    1\n",
       "href            3\n",
       "dtype: int64"
      ]
     },
     "execution_count": 55,
     "metadata": {},
     "output_type": "execute_result"
    }
   ],
   "source": [
    "#Vamos a comprobar los valores nulos de cada columna para elegir la que menos tenga\n",
    "df[[\"pdf\",\"href formula\",\"href\"]].isna().sum()"
   ]
  },
  {
   "cell_type": "code",
   "execution_count": 56,
   "id": "3b97e043",
   "metadata": {
    "ExecuteTime": {
     "end_time": "2021-11-04T15:48:57.060266Z",
     "start_time": "2021-11-04T15:48:57.050508Z"
    },
    "hidden": true
   },
   "outputs": [
    {
     "data": {
      "text/plain": [
       "True     5938\n",
       "False      54\n",
       "dtype: int64"
      ]
     },
     "execution_count": 56,
     "metadata": {},
     "output_type": "execute_result"
    }
   ],
   "source": [
    "#Vamos a ver cuantos valores de href y href formula coinciden\n",
    "(df.href==df[\"href formula\"]).value_counts()"
   ]
  },
  {
   "cell_type": "code",
   "execution_count": 57,
   "id": "a7e5dda2",
   "metadata": {
    "ExecuteTime": {
     "end_time": "2021-11-04T15:48:57.070271Z",
     "start_time": "2021-11-04T15:48:57.061993Z"
    },
    "hidden": true,
    "scrolled": true
   },
   "outputs": [
    {
     "data": {
      "text/plain": [
       "Casos\n",
       "1       False\n",
       "4000    False\n",
       "3999    False\n",
       "3998    False\n",
       "3997    False\n",
       "        ...  \n",
       "1993    False\n",
       "1992    False\n",
       "1991    False\n",
       "2000    False\n",
       "2973     True\n",
       "Name: href formula, Length: 5992, dtype: bool"
      ]
     },
     "execution_count": 57,
     "metadata": {},
     "output_type": "execute_result"
    }
   ],
   "source": [
    "#localizo el valor nulo de href formula\n",
    "df[\"href formula\"].isna().sort_values()"
   ]
  },
  {
   "cell_type": "code",
   "execution_count": 58,
   "id": "2556e738",
   "metadata": {
    "ExecuteTime": {
     "end_time": "2021-11-04T15:48:57.080019Z",
     "start_time": "2021-11-04T15:48:57.071349Z"
    },
    "hidden": true
   },
   "outputs": [
    {
     "data": {
      "text/plain": [
       "Date                                                              19-Jan-75\n",
       "Year                                                                   1975\n",
       "Type                                                             Unprovoked\n",
       "Country                                                           AUSTRALIA\n",
       "Area                                                        South Australia\n",
       "Location                                                         Coffin Bay\n",
       "Activity                                                            Surfing\n",
       "Name                                                        David Barrowman\n",
       "Sex                                                                       M\n",
       "Age                                                                      17\n",
       "Injury                                            FATAL, body not recovered\n",
       "Fatal (Y/N)                                                               Y\n",
       "Time                                                                    NaN\n",
       "Species                                                                 NaN\n",
       "Investigator or Source    J. West; Adelaide Advertiser, 1/20/1975; P. Ke...\n",
       "pdf                                                1975.01.19-Barrowman.pdf\n",
       "href formula                                                            NaN\n",
       "href                      http://sharkattackfile.net/spreadsheets/pdf_di...\n",
       "Name: 2973, dtype: object"
      ]
     },
     "execution_count": 58,
     "metadata": {},
     "output_type": "execute_result"
    }
   ],
   "source": [
    "#analizo\n",
    "df.loc[2973]"
   ]
  },
  {
   "cell_type": "markdown",
   "id": "3dd07548",
   "metadata": {
    "heading_collapsed": true,
    "hidden": true,
    "slideshow": {
     "slide_type": "subslide"
    }
   },
   "source": [
    "#### Conclusion y output"
   ]
  },
  {
   "cell_type": "markdown",
   "id": "ff1ee8a4",
   "metadata": {
    "hidden": true
   },
   "source": [
    "Me quedo con la columna href formula que da acceso directo al pdf y borro las otras dos"
   ]
  },
  {
   "cell_type": "code",
   "execution_count": 59,
   "id": "8e397816",
   "metadata": {
    "ExecuteTime": {
     "end_time": "2021-11-04T15:48:57.090593Z",
     "start_time": "2021-11-04T15:48:57.081683Z"
    },
    "hidden": true,
    "slideshow": {
     "slide_type": "subslide"
    }
   },
   "outputs": [],
   "source": [
    "#añado el na de de href formula a la columna final\n",
    "df[\"href formula\"].at[2973]=df[\"href\"].at[2973]"
   ]
  },
  {
   "cell_type": "code",
   "execution_count": 60,
   "id": "23a5dd94",
   "metadata": {
    "ExecuteTime": {
     "end_time": "2021-11-04T15:48:57.100207Z",
     "start_time": "2021-11-04T15:48:57.091629Z"
    },
    "hidden": true,
    "slideshow": {
     "slide_type": "subslide"
    }
   },
   "outputs": [],
   "source": [
    "#elimino las columnas pdf y href \n",
    "df.drop([\"pdf\",\"href\"],axis=1,inplace=True)"
   ]
  },
  {
   "cell_type": "code",
   "execution_count": 61,
   "id": "d9b7aa4b",
   "metadata": {
    "ExecuteTime": {
     "end_time": "2021-11-04T15:48:57.110606Z",
     "start_time": "2021-11-04T15:48:57.101740Z"
    },
    "hidden": true,
    "slideshow": {
     "slide_type": "subslide"
    }
   },
   "outputs": [],
   "source": [
    "#cambio de nombre a la columna que guardo en el df\n",
    "df.rename(columns={\"href formula\":\"Pdf\"},inplace=True)"
   ]
  },
  {
   "cell_type": "markdown",
   "id": "ffe39e57",
   "metadata": {
    "ExecuteTime": {
     "end_time": "2021-10-30T17:06:35.729228Z",
     "start_time": "2021-10-30T17:06:35.720339Z"
    },
    "heading_collapsed": true,
    "hidden": true,
    "slideshow": {
     "slide_type": "slide"
    }
   },
   "source": [
    "###  Columnas: \"species\""
   ]
  },
  {
   "cell_type": "markdown",
   "id": "4eeb8f08",
   "metadata": {
    "heading_collapsed": true,
    "hidden": true,
    "slideshow": {
     "slide_type": "subslide"
    }
   },
   "source": [
    "####   Analisis inicial"
   ]
  },
  {
   "cell_type": "code",
   "execution_count": 62,
   "id": "14d62a96",
   "metadata": {
    "ExecuteTime": {
     "end_time": "2021-11-04T15:48:57.130282Z",
     "start_time": "2021-11-04T15:48:57.112454Z"
    },
    "hidden": true
   },
   "outputs": [],
   "source": [
    "#Primero quito el espacio del titulo\n",
    "df.columns=['Date', 'Year', 'Type', 'Country', 'Area', 'Location', 'Activity',\n",
    "       'Name', 'Sex ', 'Age', 'Injury', 'Fatal (Y/N)', 'Time','Species',\n",
    "       'Investigator or Source', 'Pdf']"
   ]
  },
  {
   "cell_type": "code",
   "execution_count": 63,
   "id": "562afb0b",
   "metadata": {
    "ExecuteTime": {
     "end_time": "2021-11-04T15:48:57.140222Z",
     "start_time": "2021-11-04T15:48:57.131278Z"
    },
    "code_folding": [],
    "hidden": true,
    "slideshow": {
     "slide_type": "subslide"
    }
   },
   "outputs": [
    {
     "data": {
      "text/plain": [
       "2934"
      ]
     },
     "execution_count": 63,
     "metadata": {},
     "output_type": "execute_result"
    }
   ],
   "source": [
    "#Comprobamos cuantos valores na hay\n",
    "df[\"Species\"].isna().sum()"
   ]
  },
  {
   "cell_type": "code",
   "execution_count": 64,
   "id": "2470d2ee",
   "metadata": {
    "ExecuteTime": {
     "end_time": "2021-11-04T15:48:57.158013Z",
     "start_time": "2021-11-04T15:48:57.140725Z"
    },
    "hidden": true,
    "slideshow": {
     "slide_type": "subslide"
    }
   },
   "outputs": [
    {
     "data": {
      "text/plain": [
       "1538"
      ]
     },
     "execution_count": 64,
     "metadata": {},
     "output_type": "execute_result"
    }
   ],
   "source": [
    "# Cuantas categorias de especies diferentes hay\n",
    "df[\"Species\"].nunique()"
   ]
  },
  {
   "cell_type": "code",
   "execution_count": 65,
   "id": "389cdea3",
   "metadata": {
    "ExecuteTime": {
     "end_time": "2021-11-04T15:48:57.180554Z",
     "start_time": "2021-11-04T15:48:57.159000Z"
    },
    "hidden": true,
    "slideshow": {
     "slide_type": "subslide"
    }
   },
   "outputs": [
    {
     "data": {
      "text/plain": [
       "{nan,\n",
       " 'Shark involvement doubtful',\n",
       " \" Tiger shark, 3'\",\n",
       " \"White shark, 4 m to 5 m [13' to 16.5'] \",\n",
       " 'Bronze whaler shark?',\n",
       " '\"A pack of sharks\"',\n",
       " \"Mako shark (aka bonito shark) 1.2 m [4'] \",\n",
       " \"Raggedtooth shark, 50-kg [110-lb], 2 m [6.75'] gaffed \",\n",
       " ' Bull shark, 2.5 m',\n",
       " \"1.8 m [6'] carpet shark\",\n",
       " \"White shark, 3.5 m [11.5'], species identity confirmed by tooth fragment\",\n",
       " \"Tiger shark, 10'\",\n",
       " '68\" shark',\n",
       " \"White shark, 4.3 m [14']\",\n",
       " \"Reported to involve a White shark, 6 m to 7m [20' to 23'] \",\n",
       " 'a small reef shark',\n",
       " \"Bull shark, 6'\",\n",
       " \"Tiger shark, 2.4 m [8'] \",\n",
       " \"Said to involve a 6 m to 7 m [20' to 23'] white shark\",\n",
       " \"2.6 m [8.5'] shark\",\n",
       " \"3' shark, possibly  a blacktip or spinner shark\",\n",
       " '5m shark',\n",
       " 'Bull shark, 1m ',\n",
       " '\"Dog shark\"',\n",
       " 'White shark, 4.8 m ',\n",
       " \"Wobbegong shark, 3' \",\n",
       " 'Mako shark, 3m',\n",
       " 'Identified as C. gangeticus by Dr. J. Fayrer',\n",
       " 'Zambezi shark (tooth fragments recovered)',\n",
       " \"Bull shark, 4' to 5' \",\n",
       " \"Wobbegong shark, 1.4 m [4.6'] \",\n",
       " ' Wobbegong shark, 1.6 to 1.8m ',\n",
       " \"2.5 m [8.25'] white shark\",\n",
       " 'Unknown, but the shark was caught and put on exhibition',\n",
       " '1.5 m shark',\n",
       " 'Shovelnose guitarfish, adult male ',\n",
       " 'Blacktip shark, 2m',\n",
       " \"4 m [13'], 590-kg white shark\",\n",
       " '2.8 m [9\\'3\"] white shark',\n",
       " \"2.1 m to 2.4 m  [7' to 8'] shark\",\n",
       " '1.5 m, 45-kg shark',\n",
       " '250-lb female \"blue fin\" shark',\n",
       " \"Bull shark, 8'\",\n",
       " \"5' shark\",\n",
       " 'Wobbegong',\n",
       " \"Bull shark, 4 m [13'] \",\n",
       " 'Wobbegong shark, 1m',\n",
       " '3.3 m [10\\'9\"] shark',\n",
       " \"Oceanic whitetip shark, 7'\",\n",
       " 'Mako shark, 1.3 m gaffed ',\n",
       " 'Grey nurse shark, 2 m',\n",
       " \"5 m [16.5'] white shark, identification by K. Nakaya\",\n",
       " 'White shark, based on bite pattern',\n",
       " '2 to 3 m shark',\n",
       " \"4 m [13'] shark\",\n",
       " 'Questionable incident - shark bite may have precipitated drowning',\n",
       " \"1' to 2' shark\",\n",
       " \"Hammerhead shark, 1.8 m [6'] \",\n",
       " \"2.4 m [8'] whaler shark\",\n",
       " '2.2 m shark',\n",
       " ' reef shark, 1.8m',\n",
       " \"Nurse shark, 10'\",\n",
       " \"2.7 m [9'] bull shark, identified by Capt. W. Gray\",\n",
       " 'Blue pointers',\n",
       " '15* to 24\" dog shark',\n",
       " \"1.7 m [5.5'] shark\",\n",
       " '\"small shark\"',\n",
       " \"5.5 m [18'] white shark\",\n",
       " \"6' to 7' shark\",\n",
       " 'Though to involve a white shark',\n",
       " '\"Attacked by a number of sharks\"',\n",
       " '3 hammerhead sharks nearby',\n",
       " \"2.7 m [9'] shark later captured by Mitchell-Hedges\",\n",
       " \"Said to involve an 8' shark but more likely damage caused by debris\",\n",
       " 'Bull shark or lemon shark',\n",
       " \"Bronze whaler shark, 1.8 m [6'] \",\n",
       " 'Bull shark, 2m ',\n",
       " 'a small shark',\n",
       " 'Bronze whaler shark, 2 m to 3 m ',\n",
       " 'Tiger shark ',\n",
       " 'Blue shark?',\n",
       " 'whaler shark',\n",
       " \"Grey nurse shark, 4' \",\n",
       " 'Said to involve a 4.9 m [16\\'] \"red shark\"',\n",
       " 'Shark seen feeding on turtle scraps thrown overboard prior to incident.',\n",
       " 'said to involve a tiger shark',\n",
       " 'Thought to involve a white shark',\n",
       " '1.8 metre shark',\n",
       " '400-lb shark',\n",
       " 'Grey reef shark, 1.5 m ',\n",
       " \"White shark, 4.4 m [14.5'] . \",\n",
       " 'White shark, 3 to 3.5m ',\n",
       " '4.2 m white shark',\n",
       " \"3 m [10'] shark seen in vicinity\",\n",
       " 'Sandbar shark',\n",
       " '18-foot shark',\n",
       " \"White shark, > 3 m [10']\",\n",
       " \"Tiger shark, 2.5 m [8.25']\",\n",
       " \"Blacktip shark, 1.8 m to 2.1 m [6' to 7'] \",\n",
       " 'Blacktip shark pup',\n",
       " 'small carpet shark',\n",
       " \"1.2 m [4'] bull shark\",\n",
       " '\"Blue nose shark\"',\n",
       " \"2.7 m [9']  shark\",\n",
       " \"White shark, 3.7 m [12']  \",\n",
       " \"Bronze whaler shark, 4.6 m [15'] \",\n",
       " 'Said to involve 2 sharks',\n",
       " 'White shark, 13\\'10\", 1320-lb female ',\n",
       " 'Shark involvement not confirmed, injury may be due to a stingray',\n",
       " \"1.8 m to 2.1 m [6' to 7']\\xa0 Caribbean Reef Shark \",\n",
       " \"a small shark'\",\n",
       " \"Spinner shark, 3' to 4' \",\n",
       " 'Mako shark',\n",
       " 'Whale shark',\n",
       " \"1.8 m to 2.4 m [6' to 8'] sharks, most were oceanic whitetip sharks\",\n",
       " \"White shark, 5 m [16.5'] \",\n",
       " 'Blacktip reef shark pup',\n",
       " \"White shark, 4.3 m to 4.9m [14' to 16']\",\n",
       " 'Zambesi shark, 4\\'9\"',\n",
       " 'A pack of 6 sharks',\n",
       " 'White shark x 2',\n",
       " \"Blue shark, 3 m [10']\",\n",
       " \"3.7 m to 4.3 m [12' to 14'] white shark\",\n",
       " 'Goblin shark',\n",
       " '3.6 m [11\\'9\"] white shark',\n",
       " '2.1 m [7\\'] shark with \"a very flat head\\x94 that had followed the boat for 3 days',\n",
       " '3 m, 600-kg shark',\n",
       " '\"a black-tipped shark\"',\n",
       " 'small nurse shark',\n",
       " '.5 m shark',\n",
       " \"1.8 m to 2.7 m [6' to 9'] shark\",\n",
       " \"White shark, 5 m to 6 m [16.5 to 20'] \",\n",
       " \"2.1 m  [7'] bull shark\",\n",
       " \"Silky shark, 1.9 m [6.5']\",\n",
       " \"2.7 m [9'] shark\",\n",
       " \"4 m [13'] white shark\",\n",
       " \"Nurse shark, 0.9 m [3'] \",\n",
       " 'Reported to involve a bull shark',\n",
       " \"White shark, 3.5 m to 4 m [11.5' to 13'] \",\n",
       " \"Tiger shark, >3 m [10']\",\n",
       " \"Tiger shark, 3 to 4 m [10' to 13'] \",\n",
       " \"Tiger shark, 2.4 m to 2.7 m [8' to 9'] \",\n",
       " '3 m to 3.6 m  [10\\' to 11\\'9\"] white shark',\n",
       " 'Tooth fragments recovered from hull',\n",
       " \"4 m to 5 m [13' to 16.5']  white shark \",\n",
       " 'Cookie cutter shark',\n",
       " \"3.7 m to 4.6 m [12' to 15'] shark\",\n",
       " \"Lemon shark, 2.7 m [9'] \",\n",
       " \"Tiger shark, 3.4 m [11'] \",\n",
       " '13\\'10\" shark',\n",
       " 'Said to involve a 1.5 m shark',\n",
       " \"White shark, 7' to 8'\",\n",
       " '9\\'2\" white shark',\n",
       " 'Believed to involve a 2.8 m [9\\'3\"] white shark',\n",
       " \"1.2 m [4'] shark\",\n",
       " \"Spinner shark, 1.2 m to 1.5 m [4' to 5'] \",\n",
       " \"4.5' shark\",\n",
       " \"Hammerhead shark, 5.2 m [17'] \",\n",
       " \"Porbeagle shark, 8' \",\n",
       " 'White shark, 5 m ',\n",
       " \"Oceanic whitetip shark'\",\n",
       " 'possibly a bull shark',\n",
       " \"White shark, 2.5 m [8.25']  \",\n",
       " \"3.5' hammerhead shark\",\n",
       " '7-gill shark?',\n",
       " 'White shark, 2.8 to 3 m ',\n",
       " \"Hammerhead shark, 1.8 m [6'] S. zygena identified by C. Limbaugh on description\",\n",
       " \"1.2 m to 1.5 m [4' to 5'] shark, possibly a bull shark\",\n",
       " 'Bull or tiger shark',\n",
       " \"0.9 m to 1.2 m [3' to 4'] white shark\",\n",
       " 'Grey reef shark',\n",
       " '2 m hammerhead',\n",
       " 'Shark involvement probable, but not confirmed',\n",
       " \"Lemon shark, 4' \",\n",
       " '2.7 m [9\\'] \"blue\" shark',\n",
       " 'White shark, 6 m',\n",
       " 'Shark was said to \\x93have a very rough ½\\x94-thick skin\\x94',\n",
       " '6 m, 600-kg shark',\n",
       " \"5' blue shark\",\n",
       " \"1.8 m [6'] bull shark\",\n",
       " \"2.4 m [8'] white shark, species identity confirmed by tooth fragment\",\n",
       " 'Porbeagle or white shark',\n",
       " \"White shark, 18' to 20'\",\n",
       " \"Nurse shark, 2.1 m [7']\",\n",
       " \"Bronze whaler shark, 2.3 m [7.5'] \",\n",
       " 'juvenile shark',\n",
       " \"18' white shark\",\n",
       " 'White shark, 3m, seen in area and hooked 3 days later',\n",
       " \"Possibly a 6' bull shark\",\n",
       " \"2.5 m to 3 m [8.25' to 10']  white shark\",\n",
       " 'Broadnose sevengill shark',\n",
       " \"2 m to 2.5 m [6.75'  to 8.25'] shark\",\n",
       " 'Wobbegong shark, 60cm',\n",
       " \"White shark, 4.4 m to 5 m [14.5' to 16.5'] \",\n",
       " \"3.7 m [12'] tiger shark\",\n",
       " 'Copper shark, 50-kg [110-b] ',\n",
       " 'Mako shark (tooth fragments recovered)',\n",
       " 'Thought to involve a small sand shark',\n",
       " 'Wobbegong shark, 2 m ',\n",
       " \"White shark, 10' to 12' \",\n",
       " '1m shark',\n",
       " 'Blacktail reef shark',\n",
       " \"3' to 4' shark\",\n",
       " 'Tiger shark, 4 m, 420-kg, caught 13-Dec-1987',\n",
       " 'Zambesi shark?',\n",
       " '\"Shark caught later\"',\n",
       " '2 m  \"yellow belly\" captive shark. Shark destroyed by aquarium staff next day',\n",
       " 'said to involve an oceanic whitetip shark',\n",
       " \"1.5 m to 1.8 m [5' to 6'] Zambesi shark\",\n",
       " 'White shark, 4.5 m [14\\'9\"], identity confirmed by witness & tooth pattern',\n",
       " \"White shark, 3 m to 5 m [10' to 16.5'] \",\n",
       " '4 m shark',\n",
       " \"3 m to 4.3 m [10' to 14'] shark\",\n",
       " \"Tiger sharks, 2.4 m to 4.9 m [8' to 16'] \",\n",
       " 'Possibly juvenile tiger shark',\n",
       " 'Possibly a blacktip reef shark',\n",
       " \"Mako shark, 1.8 m [6']  \",\n",
       " \"White shark, 2.5 m [8.25'], an immature female, previously injured\",\n",
       " 'Possibly a Caribbean reef shark',\n",
       " \"1.8 m to 2.1 m [6' to 7'] spinner or blacktip shark\",\n",
       " \" Sandbar shark, 3' to 4'\",\n",
       " \"White shark, 5 m [16.5']\",\n",
       " '2\\' \"banjo shark\"',\n",
       " \"1.8 m [6'] dogfish\",\n",
       " \"White shark, 3 m [10']; identifed by Dr. W.I. Follett on tooth marks\",\n",
       " \"1.5 m [5'] Caribbean reef shark\",\n",
       " 'A small spinner shark',\n",
       " \"White shark, 1.5 m [5'] k\",\n",
       " \"3'  shark\",\n",
       " 'White shark, 3.5 m',\n",
       " \"Said to involve a 7 m [23'] white shark\",\n",
       " 'Bull shark suspected due to freshwater habitat',\n",
       " 'Lesser spotted dogfish, Scyliorhinus canicula, less than 80 cm in length',\n",
       " \"Mako shark, 3 m [10'], 200-kg [441-lb] \",\n",
       " \"Grey nurse shark, 1.5 m [5']\",\n",
       " \"His hand was found in a 2.4 m [8'] tiger shark caught 1/5/1949\",\n",
       " \"Teeth in hull identified as those from a white shark 4.6 m [15'] in length\",\n",
       " \"White shark, 3 m [10']rk\",\n",
       " 'Bronze whaler shark, 3.5 m ',\n",
       " \"12' sandtiger shark\",\n",
       " 'Species unidentified',\n",
       " '2 m [6\\'9\"], 87.5-kg [193-lb]  shark',\n",
       " 'Bull shark, 1.65 m [5\\'5\"] was speared & killed',\n",
       " \"2.7 m [9']  bull shark or Caribbean reef shark\",\n",
       " \"White shark, 6 m [20'] \",\n",
       " '<1.5 m shark',\n",
       " \"4 m to 5 m [13' to 16.5']  white shark\",\n",
       " '2 sharks, 4.5 m & 3 m ',\n",
       " 'Porbeagle shark',\n",
       " '3 m shark',\n",
       " \"2.3 m [7.5'] white shark, identified by M. Smale\",\n",
       " '2.5 oceanic whitetip shark',\n",
       " \"1.8 m to 2.4 m  [6' to 8'] shark\",\n",
       " \"Mako shark, 1.8 m to 2.1 m [6' to 7']  with hook & wire leader caught in mouth\",\n",
       " 'Most likely, a small shark',\n",
       " \" Bull shark, 8'\",\n",
       " \"Remains found in  4.25 m  [14'] shark caught at Baker\\x92s Haulover, Miami Beach on 26-Oct-1943\",\n",
       " '\"grey shark\"',\n",
       " \"0.9 m [3'] shark,  probably a blacktip or spinner shark\",\n",
       " \"2' shark\",\n",
       " \"1.9 m [6.5'] bull shark\",\n",
       " \"Bull shark, 12'\",\n",
       " \"Lemon shark, 4'\",\n",
       " \"White shark, 5.2 m [17'], 2500-lb \",\n",
       " \"Tiger shark, 5 m [16.5']\",\n",
       " \"2.4 m [8'] shark, possibly a dusky shark\",\n",
       " 'Blacktip shark',\n",
       " 'White sharks',\n",
       " \"Said to involved a 6 m to 7.3 m [20' to 24'] shark\",\n",
       " \"1.8 m to 2.4 m [6' to 8'] white shark\",\n",
       " 'Blacktip Reef shark ',\n",
       " \"White shark, 8' to 10'\",\n",
       " \"[4' to 5']\",\n",
       " \"Tiger shark, 13'\",\n",
       " \"3.7 [12'] shark\",\n",
       " \"3.5 m [11.5']  white shark\",\n",
       " \"Porbeagle shark, 7'\",\n",
       " '1.7 m shark',\n",
       " \"Possibly a 5' to 6' bull shark\",\n",
       " 'White shark, 4.5m',\n",
       " \">2.4 m [8'] white shark\",\n",
       " 'dogfish shark',\n",
       " \"5.5 m to 6 m [18' to 20'] white shark\",\n",
       " \"7' to 8' bull shark\",\n",
       " 'Dusky shark, 2m',\n",
       " \"White shark, 12' to 14'\",\n",
       " \"8' to 10' shark\",\n",
       " \"Mako shark, 1.9 m [6.5']. Tooth fragment recovered & identified by J.T. Nichols.\",\n",
       " 'Shark involvement in his death uncofirmed',\n",
       " \"1.5 m to 1.8m [5' to 6'] shark\",\n",
       " \"White shark, 5.5 m to 6 m [18' to 20']  \",\n",
       " 'Caribbean reef sharks',\n",
       " \"White shark 4.9 m [16'] \",\n",
       " \"White shark, 2.7 m [9'], 280-lb \",\n",
       " 'Nurse shark, 58\", 34-lb ',\n",
       " 'Oceanic whitetip shark x 2',\n",
       " 'Bull sharks x 2',\n",
       " \"1.5 m to 1.8 m [5' to 6'] \\x93spear-eye\\x94 shark \",\n",
       " ' a small shark',\n",
       " \"Nurse shark, 2.5' \",\n",
       " \"Sandtiger shark, 3 m [10'] \",\n",
       " '2 m shark, possibly a bronze whaler',\n",
       " \"White shark, 12' \",\n",
       " \"White shark, 15' to 16'\",\n",
       " 'Said to be \\x93leopard sharks\\x94, more probably tiger sharks',\n",
       " 'Mako shark, 90kg',\n",
       " \"Bull shark, 6' to 7'\",\n",
       " 'Sand shark',\n",
       " \"2.1 m [7'], 140-lb reef shark\",\n",
       " 'White shark, identified by tooth fragments in surfboard',\n",
       " \"White shark, 4 m [13'] rk\",\n",
       " \"White shark, 3 m to 3.7 m [10' to 12'] \",\n",
       " \"10' whale\",\n",
       " \"4.3 m [14'] shark\",\n",
       " \"Tiger shark, 9' to 10' \",\n",
       " \"2.7 m  [9'] shark\",\n",
       " \"White shark, 6m [20']\",\n",
       " 'Small shark',\n",
       " 'Bull shark, 2m',\n",
       " \"Tiger shark, 8' to 9' \",\n",
       " \"2' to 3.5' shark\",\n",
       " \"Bronze whaler shark, 2.1 m [7'], a tooth was embedded in the speargun \",\n",
       " '3.5 m white shark, tooth fragments recovered',\n",
       " \"Blue pointer, 16'\",\n",
       " \"Bull shark, 4' to 5'\",\n",
       " \"Bronze whaler shark, 2.5 m [8.25']  k\",\n",
       " 'White shark, 2m to 3 m',\n",
       " \"3.7 m [12'] white shark\",\n",
       " '1.5 m white-tipped reef shark',\n",
       " 'Raggedtooth shark, 147-kg [324-lb] ',\n",
       " \"17' white shark\",\n",
       " \"2.7 m to 3 m [9' to 10'] sharks\",\n",
       " 'Lemon shark, 1164 mm, immature male, identified by  V.G. Springer',\n",
       " \"13', 400-lb thresher shark\",\n",
       " 'Bull shark?',\n",
       " 'Tiger shark, 2.5 m ',\n",
       " \"Bull shark, 5'\",\n",
       " \"White shark, 16', 2,312-lb \",\n",
       " \"Tiger shark 3 m  [10'] \",\n",
       " '\"The fish was harpooned, dried, and presented to the sailor, who went round Europe exhibiting it  It was said to be 20 feet long.',\n",
       " \"Blacktip shark, 2.4 m to 3 m [8' to 10'] \",\n",
       " \"small sharks'\",\n",
       " 'Reported as a shark attack, the story was a hoax',\n",
       " 'White shark (tooth fragments recovered from hull of boat)',\n",
       " 'reef shark?',\n",
       " 'Grey nurse shark, 1m ',\n",
       " \"Tiger shark, 4.3 m [14'], 3 tooth fragments retrieved from his wounds\",\n",
       " \"3 m to 4 m [10' to 13'] shark\",\n",
       " \"1.5 m to 1.8 m [5' to 6'] sandbar shark\",\n",
       " \"Thought to involve a 2 m [6.75'] grey nurse shark\",\n",
       " 'Blacktip reef shark ',\n",
       " '1.8 m silky shark',\n",
       " 'Not authenticated',\n",
       " \"Tiger shark, 4 m to 4.3 m [13' to 14'] \",\n",
       " 'Raggedtooth shark, 2.5 m to 3 m ',\n",
       " '2.8 m [9\\'3\"] whaler shark captured 3 days later with his remains in its gut',\n",
       " \" white shark, 15' \",\n",
       " \"5 m to 6 m [16.5' to 20'] white shark\",\n",
       " '3 sharks',\n",
       " '80-lb sand shark',\n",
       " 'Thought to involve a Zambesi shark',\n",
       " 'Bronze whaler shark, 2 m',\n",
       " \"5' to 7' shark\",\n",
       " \"2.7 m [9'] bull or lemon shark\",\n",
       " '40 to 50 sharks attacked survivors in the water',\n",
       " 'White shark, 4m',\n",
       " 'Said to involve white shark, but species identify questionable',\n",
       " '3m shark',\n",
       " \"Bronze whaler shark, 2.5 m [8.25'] \",\n",
       " \"Grey nurse shark, 1.8 m [6'] \",\n",
       " 'Lemon shark or sandtiger shark',\n",
       " 'White shark (tooth fragments recovered)',\n",
       " \"2.1 m to 2.4 m [7' to 8'] shark\",\n",
       " \"Blacktip shark, 1.8 m [6'] \",\n",
       " \"Mako shark, 3 m to 4 m [10' to 13'] \",\n",
       " \"1.5 m to 2.1 m  [5' to 7'] shark\",\n",
       " \"2.7 m [9'] silky shark\",\n",
       " \"2.7 m [9']shark\",\n",
       " 'Leopard shark',\n",
       " 'Oceanic whitetip sharks were in the vicinity',\n",
       " 'Tiger shark, 277-kg',\n",
       " \"Tiger shark, 1.5 m [5']k\",\n",
       " 'White shark, 6m ',\n",
       " '\"a little shark\"',\n",
       " '8-lb shark',\n",
       " \"3.5 m [11.5'] white shark\",\n",
       " \"Spinner shark, 6'\",\n",
       " '4.5 m to 5 m white shark',\n",
       " '440-lb shark',\n",
       " 'Oceanic whitetip shark, 2.5m ',\n",
       " '1 m  shark',\n",
       " 'Remains recovered from 3 sharks',\n",
       " '3.6 m  white shark  (or bronze whaler)',\n",
       " \"Silky shark, 6.5'\",\n",
       " 'Tiger shark, 3.7 m to 4.5 m [12\\' to 14\\'9\"]  ',\n",
       " \"Tiger shark, 3.4 m [11'] captured\",\n",
       " \"1.8 m [6'] Caribbean reef shark\",\n",
       " \"4' spinner shark\",\n",
       " '170-kg, 2.8 m shark',\n",
       " \"Tiger shark said to be 5 to 7 m [16.5' to 23'] \",\n",
       " 'Tiger shark, 4.5 to 5.5 m [14\\'9\" to 18\\'], 2000-lb  ',\n",
       " 'Blue shark, 2.5m',\n",
       " \"Hammerhead shark, 5' \",\n",
       " 'Shark involvement prior to death unconfired',\n",
       " 'Possibly a lemon shark',\n",
       " \"Said to involve 6 to 7 m [20' to 23'] white shark\",\n",
       " \"1.2 m to 1.5 m [4' to 5'] shark\",\n",
       " 'Sevengill shark, 2.4 m',\n",
       " '300- to 400-lb Zambesi shark',\n",
       " \"White shark, 3.7 m to 4.6 m [12' to 15'] \",\n",
       " \"3.5 m [11.5']shark\",\n",
       " '4 m white shark',\n",
       " \"White shark, 2.4 m to 3 m [8' to 10'] \",\n",
       " \"3 to 3.5 m [10' to 11.5'] bull shark\",\n",
       " 'Tawny nurse shark, 40cm',\n",
       " \"+3' shark\",\n",
       " \"3.7 m [12'], 1200-lb shark. Shark caught & its jaw exhibited at the Carnegie Museum\",\n",
       " 'White shark, 2000-lb',\n",
       " 'Whtietip reef shark',\n",
       " \"White shark, 5 m [16.5'], identified by Dr. W. I. Follett on tooth marks\",\n",
       " 'White shark, 2m',\n",
       " 'Sandtiger shark',\n",
       " 'White shark, 2.5m ',\n",
       " \"Sevengill shark, 6' to 8'\",\n",
       " \"Bull shark, 2.7 m [9'] was captured & dragged on the sand where tissue taken from Eggink was found in its gut. Species identification  was made by S. Springer based on 4 photographs of the shark. \",\n",
       " 'White shark, 600-kg [1323-lb]',\n",
       " \"Raggedtooth shark, 1.2 m [4'] \",\n",
       " 'Tiger shark, tooth fragment recovered',\n",
       " \"Wobbegong shark, O. barbatus,  1.8 m [6'], identified by G.P. Whitley\",\n",
       " \"2.4 m [8'] white shark\",\n",
       " \"Tiger shark, 15' female\",\n",
       " 'Possibly  a blacktip or spinner shark',\n",
       " 'A 20\\' shark known as \"Old Tom\"',\n",
       " \"3 m [10'], 200-kg [441-lb] bull shark\",\n",
       " 'Bull shark, 2.5m',\n",
       " \"White shark, 2.7 m to 3 m [9' to 10'] \",\n",
       " 'reef shark',\n",
       " '6 m shark',\n",
       " 'Small dusky shark or blackfin shark',\n",
       " 'Tiger shark (pregnant)',\n",
       " \"Tiger shark, 2.4 m to 2.7 m [8' to 9']  \",\n",
       " \"Hammerhead shark, 2.4 m [8'], according to lifeguard Sam Barrows\",\n",
       " '43\" shark',\n",
       " \"Two shark's teeth recovered from canoe\",\n",
       " 'Raggedtooth shark, >1 m ',\n",
       " \"Comrades saw shark's tail appear about 5' away\",\n",
       " 'Possibly a sand shark',\n",
       " 'Alleged to involve a white shark \"with little yellow eyes\"',\n",
       " \"2.4 m [8'], 600-lb shark\",\n",
       " \"numerous dusky sharks & a 3 m to 4.6 m [10' to 15'] to  tiger shark\",\n",
       " 'Hammerhead shark?+O2356',\n",
       " 'possibly a small blacktip shark',\n",
       " \"16' 800-lb shark\",\n",
       " 'Raggedtooth shark',\n",
       " \"3.7 m to 4.3 m [12' to 14'] shark\",\n",
       " \"Caribbean reef shark, 1.2 m to 1.5 m [4' to 5'] \",\n",
       " 'Shark involvement probable',\n",
       " 'shark involvement not confirmed',\n",
       " 'Lemon shark',\n",
       " 'Angel shark, 1.2m ',\n",
       " 'Raggedtooth shark, 1.96 m, 140-kg ',\n",
       " \" Blacktip shark, C. maculipinnis. 1.9 m to 2.1 m [6.5' to 7'] \",\n",
       " 'Tiger shark, 2m to 3m ',\n",
       " 'Thought to involve a Bronze whale shark, 2m',\n",
       " \"4m [13'] shark\",\n",
       " 'Spinner or blacktip sharks',\n",
       " 'Spinner shark',\n",
       " 'Zambesi shark',\n",
       " \"Sandtiger shark, 8'\",\n",
       " 'Blue shark, 1m',\n",
       " 'Tiger shark, 2.3m ',\n",
       " \"Blacktip shark, 5' to 6'\",\n",
       " '9-foot shark',\n",
       " \"Remains recovered from 5.5 m [18'] white shark\",\n",
       " \"4.3 m [14'] shark seen in area previous week\",\n",
       " '60 cm  shark ',\n",
       " \"60 cm [2'] captive shark\",\n",
       " \"Szot's right hand found in a 4.5' [14.5'] tiger shark caught 3/9/1950 at Safety Bay, south of Freemantle\",\n",
       " \"Bronze whaler shark,3.7 m [12'] \",\n",
       " \"Bronze whaler shark, 3.7 m [12'] identified by G.P. Whitley based on description\",\n",
       " 'Hammerhead shark.',\n",
       " '5 m to 6 m white shark',\n",
       " \"3.5' to 4.5' shark\",\n",
       " \"White shark, 5.5 m [18'] \",\n",
       " \"White shark, 14' to 18' \",\n",
       " '500-lb shark',\n",
       " \"1.2 m [4'] blacktip or sandbar shark\",\n",
       " \"1.5 m [5'] hammerhead shark\",\n",
       " '1.3 to 1.6 m shark',\n",
       " \"Whaler shark, 2.7 m [9'], 350- to 450-lb  identified by G.P. Whitley\",\n",
       " \"White shark, 5 m to 6 m [16.5' to 20] \",\n",
       " \"6' to 8' shark, possibly a tiger shark\",\n",
       " \"2.1 m [7'] shark\",\n",
       " \">1.2 m [4'] tiger shark\",\n",
       " \"White shark, 10 '\",\n",
       " \"Blue pointer, 11' \",\n",
       " 'White shark, 1,900-lb ',\n",
       " 'juvenile white shark',\n",
       " 'Seven-gill shark',\n",
       " \"1.5 m to 1.8 m  [5' to 6'] shark\",\n",
       " \"Tiger shark, 0.9 m to 1.5 m [3' to 5'] ?\",\n",
       " 'Salmon shark',\n",
       " \"Blacktip shark, 2' \",\n",
       " \"Hammerhead shark, 9' \",\n",
       " \"Tiger shark, 10'  \",\n",
       " \"8' white shark or 7-gill shark\",\n",
       " '193-lb shark',\n",
       " 'Shark involvement suspected but not confirmed',\n",
       " \"Grey reef shark, 2 m [6.75'] \",\n",
       " 'Nurse shark',\n",
       " \"7' to 8' shark \",\n",
       " \"2 m [6.75'] shark, 200-kg shark T\",\n",
       " 'Nurse shark, juvenile ',\n",
       " 'Shark involvement prior to death could not be determined',\n",
       " \"6' shark, possibly a blactip or spinner shark\",\n",
       " \"4 m [13'] shark seen in vicinity\",\n",
       " \"10' shark\",\n",
       " \"5 m [16.5'] white shark\",\n",
       " 'Though to involve a tiger shark',\n",
       " \"3 m [10'] white shark (Tooth  recovered from boat)\",\n",
       " 'Blacktip or spinner shark?',\n",
       " '4.5 m to 5.5m white shark',\n",
       " \"Bull shark, 4.5' \",\n",
       " \"Blue shark, 1.5 m [5'] \",\n",
       " '24\" to 30\" shark',\n",
       " '3 m to 4 m shark',\n",
       " \"White shark, >6'\",\n",
       " '\"A 2\\' (0.6 m) brown shark\"',\n",
       " 'Shark involvement questionable',\n",
       " \"3 m [10'] sharks\",\n",
       " \"White shark, 3.7 m [12'] \",\n",
       " \"1.8 to 2.4 m [6' to 8'] shark\",\n",
       " '1.5 m to 2 m shark',\n",
       " \"Bronze whaler shark, 10' \",\n",
       " '20 to 30kg shark',\n",
       " 'Description of shark does not ring true',\n",
       " \"3.5' to 4' shark\",\n",
       " \"Bull shark, 10' \",\n",
       " 'White shark, 2 m to 4 m [6\\'9\" to 13\\'] ',\n",
       " 'Tooth fragments of \\x93whaler\\x94 shark were recovered, a bull shark, according to Edwards',\n",
       " '2 m shark, possibly a dusky or blacktip shark',\n",
       " 'Bull shark, 400-lb ',\n",
       " '3 bull sharks',\n",
       " 'Tiger shark, 2m ',\n",
       " \"Tiger shark, 12' ?\",\n",
       " 'Raggedtooth shark, 1.3 m',\n",
       " 'Hammerhead shark, 500-llb ',\n",
       " 'Blue shark, 8 to 9 feet',\n",
       " \"Tiger shark, 10' to 12' \",\n",
       " \">2.5 m [8.25'] white shark\",\n",
       " \"According to Carlsmith, the shark's mouth was 3' wide\",\n",
       " \"Tiger shark, 2.4 m [8']\",\n",
       " \"1.2 m to 1.5 m [4.5' to 5'] shark\",\n",
       " \"4 m [13'] shark x 6\",\n",
       " 'White shark, 4m to 5m ',\n",
       " \"2.6 m [8.5'] shark landed 2 hours later\",\n",
       " 'Blue shark bites post mortem',\n",
       " 'Nurse shark?',\n",
       " 'Dooley believed his Injury was caused by stingray (Dasyatidae family)',\n",
       " \"1.8 m [6'] shark, possibly a blacktip\",\n",
       " 'Raggedtooth shark ',\n",
       " \"Grey nurse shark, 8'\",\n",
       " 'White shark, 5m',\n",
       " \"Sandbar shark ,8'\",\n",
       " \"1.2 m [4'] spinner shark\",\n",
       " '1 m \"grey-colored\" shark',\n",
       " \"Bull shark, 4' to bull shark\",\n",
       " \"1.8 m [6'] reef shark - or a 2.1 m to 2.4 m [7' to 8'] grey-colored shark\",\n",
       " '2m shark',\n",
       " \"Blacktip shark, 4' to 5'\",\n",
       " \"1.8 m [6'] shark, species identity questionable\",\n",
       " 'Thought to involve a mako shark, but possibly a sea lion',\n",
       " \"14' shark\",\n",
       " '>1 m shark',\n",
       " 'Possibly a spinner shark',\n",
       " \"Tiger shark, 4 m [13'] female\",\n",
       " \"Grey nurse shark, 2,7 m [9'], 200-lb \",\n",
       " \"Moreno\\x92s leg  & part of his swim suit found in 9' shark caught two hours after the attack. Identified as carcharhinid shark by L. Schultz & C. Limbaugh on photograph\",\n",
       " 'small shark',\n",
       " \"Raggedtooth shark, 2.5 m [8.25'] \",\n",
       " \"Tiger shark, 3.7 m [12'], (tooth fragment recovered from wound)\",\n",
       " \"Possibly a  1.8 m [6'] Zambezi shark\",\n",
       " '2 m cow shark',\n",
       " \"Dusky shark, 12' \",\n",
       " '1 m hammerhead shark',\n",
       " \"3 m to 4 m [10' to 13'] white shark\",\n",
       " \"Nurse shark, 3', 20-lb \",\n",
       " 'Dusky shark, 3m',\n",
       " \"20' shark\",\n",
       " \"Thought to involve a 2.4 m [8'] lemon shark; two 2.4 m lemon sharks caught within 100 yds of the site a week prior to & a week after this incident\",\n",
       " 'White shark, 3.5m',\n",
       " 'Tiger shark, 4 m ',\n",
       " \"Shortfin mako shark, 2.3 m [7.5'] \",\n",
       " 'Thought to involve a white, bull or tiger shark',\n",
       " 'Tiger shark, 2.7 m [9\\'5\"], 364-lb',\n",
       " 'Wobbegong shark?',\n",
       " '5 mm 3500 kg female shark',\n",
       " \"7.5' shark\",\n",
       " 'Thought to involve an oceanic whitetip shark or a white shark',\n",
       " 'White shark, 3.6 m [11\\'9\"] ',\n",
       " 'Possibly C. leucas',\n",
       " \"Bronze whaler shark, 4.3 m [14'] \",\n",
       " \"12' shark\",\n",
       " \"Wobbegong shark, 1.2 m [4'] \",\n",
       " ' \"gummy\" shark (Rhizoprionodon or Loxodon) 1.2 m [4\\']',\n",
       " 'Bull shark, 2.8 to 3.1 m',\n",
       " \"6 m [20']  shark\",\n",
       " 'Possibly a hammerhead shark',\n",
       " 'Raggedtooth shark, 2m',\n",
       " \"White shark, 3.5 m [11.5']  male \",\n",
       " 'A 10-year-old 94-pound pregnant blacktip reef shark',\n",
       " \"Thought to involve a 3' to 4' shark, but shark involvement not confirmed\",\n",
       " \"Nurse shark, 6'\",\n",
       " \"2.4 m to 3 m [8' to 10'] grey colored shark\",\n",
       " '2.4 m shark',\n",
       " \"1.5 to 2.5 m [5' to 8.25'] copper shark\",\n",
       " 'Shortfin mako shark',\n",
       " '80-lb hooked shark',\n",
       " 'Possibly a white shark',\n",
       " 'Bronze whaler shark',\n",
       " '300-kg [662-lb] shark',\n",
       " \"Raggedtooth shark, 3.5 m [11.5'] \",\n",
       " 'Possibly a tiger shark',\n",
       " 'a small hammerhead shark',\n",
       " \"Reef shark, 5'\",\n",
       " 'Bull shark, 3m',\n",
       " 'Thought to involve a 2.5 m bull or tiger shark',\n",
       " '3+ m shark',\n",
       " \"Nurse shark, 2.1 m [7']  identified by Dr. E. Clark on color & tooth impressions\",\n",
       " \"Bull shark, 6' to 8'\",\n",
       " \"12' to 14' white shark\",\n",
       " '3.5 m [11.5\\'] female white shark named \"Notchfin\"',\n",
       " 'small sharks',\n",
       " \"Nurse shark, 1.1 m [3.5'] \",\n",
       " 'Possibily a  1.5 to 2 m sandtiger shark',\n",
       " \"Grey nurse shark, 4'\",\n",
       " \"Six Zambesi sharks seen to 1.5 m [5'] in length\",\n",
       " 'Doubtful / Unconfirmed attack / Unable to verify in local records',\n",
       " \"1.8 m [6'] grey-colored shark\",\n",
       " \"1.8 m to 2.1 m [6' to 7'] shark\",\n",
       " \"Wobbegong shark, 4'\",\n",
       " 'Lemon shark, >1 m ',\n",
       " \"Raggedtooth shark, 1.5 m [5'] (tooth fragment recovered)\",\n",
       " \"Tiger shark, 4 m [13'] ?\",\n",
       " 'White shark, 5.5 m ',\n",
       " \"White shark, 12' to 15' female\",\n",
       " \"2.4 m to 3.7 m [8' to 12'] shark\",\n",
       " 'Large tiger shark seen in the vicinity the following morning',\n",
       " \"Mako shark, 1.9 m [6.5'] \",\n",
       " 'Raggedtooth shark, 2 m [6\\'9\"], 5-year-old, captive female ',\n",
       " 'A \\x93small\\x94 shark',\n",
       " \"Tiger shark, 14'\",\n",
       " 'Blue or porbeagle shark',\n",
       " 'White shark, based on 2 teeth retrieved from rudder',\n",
       " \"Said to involve  9' blue shark\",\n",
       " \"A 2' shark was seen in the area by witnesses\",\n",
       " \"White shark, 3 m [10'] k\",\n",
       " \"Tiger shark, 5' \",\n",
       " \"4.9 m [16'] whaler\",\n",
       " 'White shark named \\x93Spotty\\x94',\n",
       " \"14' to 16' white shark\",\n",
       " \"Blacktip shark, 5' to 6' \",\n",
       " 'Raggedtooth shark, 1.5 m',\n",
       " 'White shark, 4 m to 5m ',\n",
       " 'Thought to involve a 5.5 m white shark named Kong',\n",
       " 'White shark, 5m ',\n",
       " \"Nurse shark, 3' \",\n",
       " 'Nurse shark, 1m ',\n",
       " \"1.5 m to 2.1 m [5' to 7'] shark, possibly a mako shark\",\n",
       " \"White shark, 3 m [10'], tooth fragment from wounds identified as that of a white shark\",\n",
       " 'Wobbegong shark ',\n",
       " \"Bull shark, 9' to 10'\",\n",
       " \"1.8 m [6'] blacktip shark or Caribbean reef shark\",\n",
       " \"6' blacktip shark\",\n",
       " 'Possibly a bull shark or tiger shark',\n",
       " \"Tiger shark, 5.2 m [17']\",\n",
       " \" White shark, 7' \",\n",
       " \"2.4 m [8'] tiger shark caught 40 hours later with shorts of the boy in its gut\",\n",
       " '\\xa0 ',\n",
       " \"White shark, 2.4 m [8'] \",\n",
       " '\"grey-colored shark\"',\n",
       " '2 small bull sharks',\n",
       " \"3.7 m to 4.3 m [12' to 14']  shark\",\n",
       " 'White shark, 4.5 m ',\n",
       " \"6 m [20'] shark\",\n",
       " 'Bronze whaler shark, 2 m ',\n",
       " \"8' great hammerhead shark\",\n",
       " \"Tiger shark, 2.4 m to 3 m [8' to 10'] \",\n",
       " 'Tawny nurse shark',\n",
       " 'White shark, according to witnesses',\n",
       " 'White shark?',\n",
       " \"2.5 m [8.25'] shark\",\n",
       " '100-kg [221-lb] dead blue shark',\n",
       " \"1.8 m [6'] grey reef shark\",\n",
       " '\"sandshark\"',\n",
       " 'Lemon shark ',\n",
       " 'White shark, 4.5 m [14\\'9\"] ',\n",
       " 'Tiger shark & others',\n",
       " \"2.4 m [8']  shark\",\n",
       " \"Sevengill shark, 2.4 m [8'] \",\n",
       " 'Species unknown, possible white shark',\n",
       " 'Shark involvement prior to death still to be determined',\n",
       " 'Unidentified shark',\n",
       " \"Thought to involve a Tiger shark,  3.7 m [12'] \",\n",
       " \">6.7 m [22']  shark\",\n",
       " 'White shark, 2.5 m',\n",
       " 'Unconfirmed incident',\n",
       " \"2.4 m  [8'] shark\",\n",
       " \"White shark, 10'\",\n",
       " 'White shark, 4.2 m [13\\'9\"] ',\n",
       " \"3 m to 5 m [10' to 16.5'] white shark\",\n",
       " \"Sandtiger shark, 4' to 5'\",\n",
       " \"1.5 m to 1.8 m [5' to 6']  blacktip shark\",\n",
       " \"Mako shark, 4.3 m [14']\",\n",
       " 'Galapagos shark',\n",
       " \"7' shark\",\n",
       " '5\\'7\" shark',\n",
       " \"Said to involve a 2.4 m [8'] hammerhead shark\",\n",
       " 'Thought to involve a cookie cutter shark',\n",
       " ' White shark',\n",
       " \"14' to 18'shark\",\n",
       " \"White shark, 15' to 16' \",\n",
       " 'Blue shark, 4.5 m [14\\'9\"]',\n",
       " \"3 m [10'] blue whaler\",\n",
       " '2 m [6\\'9\"] shark',\n",
       " '\"a dog shark\"',\n",
       " \"5.5 m [18'] shark seen in the vicinity\",\n",
       " 'Said to involve a tiger shark or a hammerhead shark',\n",
       " 'White shark or oceanic whitetip shark',\n",
       " 'Survivors said 2 species of sharks were involved:  oceanic whitetip sharks and another species,',\n",
       " 'Raggedtooth shark, 100-lb ',\n",
       " '\"gray shark\"',\n",
       " '2 days later a 600-lb shark was caught 100 yards from the site',\n",
       " \"1.8 m [6'] white shark\",\n",
       " '\"whiptail shark\" (thresher shark?)',\n",
       " \"15'\",\n",
       " 'Bull shark, 3.5 m',\n",
       " \"White shark, 2.7 m [9'] \",\n",
       " \"Tiger shark, 2.4 m to 3.7 m [8' to 12'] \",\n",
       " \"2' to 3' reef shark\",\n",
       " \"Blacktip shark, 4'\",\n",
       " '\"juvenile shark\"',\n",
       " \"Blacktip shark, 2 m [6.75'] \",\n",
       " \"8' blue shark\",\n",
       " 'Unidentified species',\n",
       " 'Species unknown, possibly a white shark',\n",
       " \"Carpet shark, 10' \",\n",
       " \"2.1 m [7'] shark, a shark's serrated tooth recovered from toe\",\n",
       " 'small catsharks',\n",
       " 'Mako shark, 100-lb',\n",
       " 'Tiger shark, 300-kg [662-lb] ',\n",
       " \"Lemon shark, 2.1  m to 2.4 m [7' to 8'] \",\n",
       " 'White shark, 15\\'3\", 2,333-lb ',\n",
       " 'White shark, 2 m',\n",
       " \"5.5 m [18'] white shark, identified by witnesses & tooth marks\",\n",
       " \"Atkins' remains were recovered from a dusky shark, C. obscurus, by Capt. W. F. Young, shark fisherman\",\n",
       " \"15' shark seen with the man's body in its mouth, but shark involvement prior to death was not confirmed\",\n",
       " \"Tiger shark, 2.1 m [7']\",\n",
       " 'White shark, species identity confirmed by tooth pattern',\n",
       " 'Zambesi shark, 113-kg [249-lb] female ',\n",
       " 'Carpet shark',\n",
       " 'White shark, 3m',\n",
       " 'Porbeagle',\n",
       " 'White shark, 2m ',\n",
       " 'Allegedly a 4 m tiger shark',\n",
       " \"2.4 m to 3 m [8' to 10'] white shark\",\n",
       " \"White shark, 5.5 m to 6 m [18' to 20'] \",\n",
       " 'White shark, identified by tooth pattern',\n",
       " 'Grey nurse shark',\n",
       " \"Tiger shark, 4 m [13'] \",\n",
       " \"1.5 m [5'] shark, probable bull shark\",\n",
       " \"Nurse shark, 0.9 m  [3'] \",\n",
       " \"Tiger shark, 10' to 12'\",\n",
       " \"Caribbean reef shark, 6'\",\n",
       " 'Several sharks involved',\n",
       " 'White shark, 2 m [6\\'9\"]  (Tooth fragment recovered from victim\\'s shoulder & identified by J.T. Nicholls)',\n",
       " 'On 8/13/2005 anglers from New Zealand caught a 2.8 m [9\\'3\"], 140-kg [309-lb] shark at the same spot. It was believed this was the same shark that killed Alysha',\n",
       " '200 to 300 kg shark',\n",
       " \"White shark, 2.5 m [8.25'] \",\n",
       " 'nurse shark',\n",
       " \"White shark, 5' k\",\n",
       " \"White shark, 4 m [13'] \",\n",
       " \"1.8 to 2.1 m [6' to 7'] shark\",\n",
       " \"1.2 m [4'] shark hindered recovery of body\",\n",
       " 'Hammerhead sp.',\n",
       " '5 m to 7 m white shark',\n",
       " '1.8 to 2 m C. albimarginatus',\n",
       " '\"a small shark\"',\n",
       " \"Wobbegong shark, 6'\",\n",
       " \"3' to 5' shark\",\n",
       " 'Possibly a bronze whaler shark',\n",
       " 'Bull shark, 2.5 m',\n",
       " \"Tiger shark, 2.4 m 3.4 m [8' to 11']  \",\n",
       " \"Tiger shark, 12'\",\n",
       " \"White shark, 5 m to 6 m [16.5' to 20']  \",\n",
       " 'Mako shark, 180-kg [397-lb]',\n",
       " \"6' shark\",\n",
       " \"Grey nurse shark, 2.4 m [8'] \",\n",
       " 'Said to be a \\x93small shark\\x94',\n",
       " \"Nurse shark, 1.5 m [5']  identified by Dr. E. Clark on description of shark\",\n",
       " \"60 cm to 90 cm [2' to 3'] blacktip or spinner shark\",\n",
       " 'Tiger shark, 10?',\n",
       " 'White shark, 160-kg [353-lb], identity confirmed by tooth pattern',\n",
       " 'Bronze whaler shark, 3m',\n",
       " \"3' blacktip shark\",\n",
       " \"6' to 8' shark\",\n",
       " 'Bronze whaler shark, 3 m',\n",
       " 'Not a shark attack; it was a hoax',\n",
       " '5 m white shark',\n",
       " \"4.5 to 5' shark\",\n",
       " 'White shark, 4.5 to 5 m ',\n",
       " \"3' shark\",\n",
       " 'A large hammerhead shark',\n",
       " 'Hammerhead shark',\n",
       " \"5.5' shark\",\n",
       " \">3.4 m [11'] white shark\",\n",
       " \"0.9 m [3']  shark\",\n",
       " \"4.4 m [14'] shark\",\n",
       " '2.5 to 3 m shark',\n",
       " \"7 shark's teeth found embedded in the woodwork of the boat\",\n",
       " '<1 m shark',\n",
       " \"White shark, 1.7 m [5.5']\",\n",
       " 'Possibly white sharks',\n",
       " \"Tiger shark, 3 m to 4 m [10' to 13'] \",\n",
       " \"White shark, 3.7 m [12'], 500 to 500-kg [1,200 lb], identified by W. C. Shroeder based on tooth fragment ebedded in gunwale\",\n",
       " 'Questionable Incident',\n",
       " \"4.7 m [15.5'] shark\",\n",
       " 'Juvenile dusky shark',\n",
       " \"Tiger shark, 3 m to 3.7 m [10' to 12'] \",\n",
       " \"White shark, 4.3 m [14'] \",\n",
       " \"1.8 m [6'] copper shark\",\n",
       " 'Bull shark, 1.5m ',\n",
       " \"1.2 m [4'] dusky shark\",\n",
       " \"Bull shark, 7'\",\n",
       " \"2.1 m [7'], 90-kg shark\",\n",
       " \"Tiger shark, less than 10'\",\n",
       " '4.5 m shark',\n",
       " 'Wobbegong shark, 1.6m',\n",
       " 'Caribbean reef shark',\n",
       " \"4.3 m [14'] shark seen in vicinity\",\n",
       " 'White shark, 15\\'2\" ',\n",
       " '3.7m  to 4.2 m white shark',\n",
       " 'No shark involvement',\n",
       " 'Questionable incident',\n",
       " \"Blue shark, 8' [2.4 m], 500-lb \",\n",
       " \"2 m [6.75'] copper shark\",\n",
       " 'Basking shark',\n",
       " 'Bronze whaler or tiger shark',\n",
       " \"9' shark\",\n",
       " '6 m  white shark',\n",
       " 'Blue pointer',\n",
       " 'White shark, 6.5 m ',\n",
       " \"1.5 m to 2 m [5' to 6.75'] shark\",\n",
       " 'Shark involvement not confirmed; thought to be a barracuda bite',\n",
       " \" Galapagos shark, 6'\",\n",
       " '4.5 m white shark',\n",
       " '8 sharks',\n",
       " \"7 m [23'] white shark\",\n",
       " \"Bull shark, 3' to 4'\",\n",
       " 'Spurdog',\n",
       " \"White shark, 5' to 6' juvenile \",\n",
       " \"3 m to 3.7 m [10' to 12'] shark\",\n",
       " \"3.7 m [12'] shark & may have been another shark nearby\",\n",
       " \"2 m [6.75'] sevengill  shark\",\n",
       " '18\" to 36\" shark',\n",
       " \"Possibly a 1' to 3' blacktip or spinner shark\",\n",
       " \"White shark, 2.4 m [8']\",\n",
       " 'Shark involvement not confirmed; officials considered barracua',\n",
       " \"Tiger shark, 2.5 m [8.25'] \",\n",
       " \"Possibly a 1.5 m [5'] blacktip shark\",\n",
       " \"Raggedtooth shark, 1.2 m to 1.5 m [4' to 5'] \",\n",
       " 'A hammerhead shark, then 8 to 10 other sharks were said to be  involved',\n",
       " 'White shark, 3m to 4m',\n",
       " 'small blue shark',\n",
       " \"Mako shark, 3 m [10']\",\n",
       " 'a school of sharks',\n",
       " \"Nurse shark, 1.2 m [4'] \",\n",
       " \"Bronze whaler shark, 2.4 m [8'] \",\n",
       " \"3 m [10'] bull shark\",\n",
       " 'Lemon shark, 1.8 m [6\\'] male, N. breviostris, identified by W.A. Stark II, later the same day a 6\\'8\" pregnant female lemon shark bit the bow of the boat',\n",
       " \"1.2 m to 1.5 m [4' to 5']   shark\",\n",
       " \"1.5 m to 1.8 m [5' to 6'] shark\",\n",
       " \"Tiger shark, 8'\",\n",
       " 'white shark',\n",
       " \"1.8 m [6'] blacktip shark or spinner shark\",\n",
       " \"White shark, 5 m to 6 m [16.5' to 20'] \",\n",
       " 'White shark, 4 m',\n",
       " 'White shark, 18 mm tooth fragment  recovered from the hull',\n",
       " '\"a young shark\"',\n",
       " 'Sevengill shark',\n",
       " 'Wobbegong shark',\n",
       " \"White shark, 3.8 m [12.5']  \",\n",
       " 'Shark involvement not cofirmed',\n",
       " \"1' to 2' hammerhead or bonnethed shark\",\n",
       " '\\x93small brown shark\\x94',\n",
       " \"Mako shark, 2 m [6.75'] \",\n",
       " \"Blacktip shark, 5'\",\n",
       " '>2 m shark',\n",
       " \"6 m [20'] white shark\",\n",
       " \"5' to 8' shark\",\n",
       " 'Probable bluefish bite',\n",
       " \"1.5 m [5'] white shark or sevengill shark\",\n",
       " '\"A long thin brown-colored shark\"',\n",
       " \"Carpet shark, 1.5 m [5']\",\n",
       " \"Tiger shark, 6'\",\n",
       " 'Said to involve a grey nurse shark that leapt out of the water and  seized the boy but species identification is questionable',\n",
       " '\"small sharks\"',\n",
       " '15 cm to 20 cm [6\" to 8\"] bite diameter just below left knee',\n",
       " \"3 m [10'], 270- kg [595-lb] shark\",\n",
       " \"Tiger shark, 14' \",\n",
       " '1 m shark',\n",
       " 'Tiger shark, 4.5 m [14\\'9\"]',\n",
       " 'Spinner shark or blacktip shark',\n",
       " 'Possiby white shark',\n",
       " \"4' to 6' shark\",\n",
       " \"1.2 m to 1.5 m [4' to 5'] bull, sandbar or dusky shark\",\n",
       " \"2.1 to 2.4 m [7' to 8'] shark\",\n",
       " \"Thought to involve a 12' white shark\",\n",
       " \"14' white shark\",\n",
       " \"12' to 14' shark\",\n",
       " \" Grey nurse shark,  3 m [10'] \",\n",
       " '5.7 m white shark',\n",
       " '90-kg \"blackfin\" shark',\n",
       " \"Possibly a Bull shark, 3'\",\n",
       " \"White shark, 1.8 m to 2.1 m [6' to 7']  according to Shreuder and a witness\",\n",
       " 'Possibly a sandbar shark or small blacktip shark',\n",
       " \"Thresher shark, 3.7 m [12'] \",\n",
       " \"Tiger shark 4.3 m [14'] \",\n",
       " \"Nurse shark, 2.1 m [7'] \",\n",
       " \"Raggedtooth shark, 1.5 m [5'] \",\n",
       " \"Zambesi shark, 1.2 m [4'] \",\n",
       " 'Blacktip or spinner shark',\n",
       " \"White shark, 4.6 m [15'] \",\n",
       " \"Tiger shark, 6' \",\n",
       " 'According to Benjamin, the injury was inflicted by a barracuda, not a shark',\n",
       " 'White shark, 2.7 m',\n",
       " \"1.5 to 1.8 m [5' to 6'] shark\",\n",
       " \"Bull shark, 2.4 m [8']\",\n",
       " \"5 m  [16.5'] white shark\",\n",
       " 'Fishermen recovered partial remains from shark a week later',\n",
       " 'Allegedly a 33-foot shark',\n",
       " \"1.2 m to 1.8 m [4' to 6'] shark observed in area\",\n",
       " \"7' to 8' shark\",\n",
       " \"Tiger shark, 10' \",\n",
       " \"1.5 m to 1.8 m [5' to 6'] sharks\",\n",
       " \"Nurse shark, 0.94 m to 1.2 m [3' to 4'] \",\n",
       " \"1.2 m [4'], possibly  larger shark\",\n",
       " \"5.5 m [18''] white shark\",\n",
       " 'Bull shark, 1.3 m',\n",
       " \">2.4 m [8'] shark\",\n",
       " \"4.5 m to 5.5 m [14.7' to 18'] white shark\",\n",
       " '4 to 5 m white shark',\n",
       " \"4.5 m to 5.5 m [15' to 18'] white shark\",\n",
       " 'Blue sharks',\n",
       " \"Hammerhead shark. 6' to 7'\",\n",
       " 'Raggedtooth shark, 2 m [6\\'9\"] ',\n",
       " 'Tiger shark',\n",
       " \"12' to 18' shark\",\n",
       " '80 kg shark',\n",
       " 'Tiger shark, 3.5 m',\n",
       " \"Caribbean reef shark, 7' to 8'\",\n",
       " \"Blue shark, 4' \",\n",
       " '1.2 m to 1.5 m [4\\' to 5\\'] \"reef shark\"',\n",
       " '1.5 m copper shark',\n",
       " \"1.8 m [6'] shark \",\n",
       " 'Bull shark, 1.4m ',\n",
       " '\"a very large shark\"',\n",
       " \"1.2 m [4'] hammerhead shark\",\n",
       " \"White shark, 4.3 m 4.9 m [14' to 16'] \",\n",
       " 'Raggedtooth shark, 2 m ',\n",
       " \"Raggedtooth shark, 1.5 to 2 m [5' to 6.75']\",\n",
       " 'Tiger shark caught 6 days later with diver\\x92s remains in its gut',\n",
       " \"Grey nurse shark, 2.6 m [8.5']  \",\n",
       " 'Grey nurse shark, 3m',\n",
       " \">1.8 m [6'] shark\",\n",
       " \"4.5' to 5' shark\",\n",
       " \"18', 750-lb shark\",\n",
       " \"Wobbegong shark, 1.8 m [6'] \",\n",
       " '1.8 m [6\\'] \"cocktail shark',\n",
       " \"Grey reef shark, 1.8 m [6'] grey reef shark, identified by Dr. L.P. L. Schultz based on photographs; identified as C. melanopterus by Stewart\",\n",
       " '4 to 5m white shark',\n",
       " \"Blacktip or spinner shark, 4'\",\n",
       " 'Salmon shark suspected, but unlikely',\n",
       " 'said to involve 2.5 m hammerhead sharks',\n",
       " \"Shortfin mako shark, 3 m to 3.4 m [10' to 11'] \",\n",
       " 'Blue shark bites present ',\n",
       " 'Grey reef shark, Identified by E.S. Hobson, F. Mautin & E.S. Reese (1961)',\n",
       " \"Tiger shark, 8' to 10' \",\n",
       " 'White shark (tooth fragment recovered)',\n",
       " \"Sandtiger shark, 2.1 m [7'] \",\n",
       " \"Hammerhead shark, 3 m [10'] \",\n",
       " \"0.9 m [3'] shark\",\n",
       " 'Gray reef shark',\n",
       " \"Lemon shark, 1.5 m [5'], identified  by the surfer\",\n",
       " \"3.7 m [12'] sharks\",\n",
       " '2 m to  3 m shark',\n",
       " 'Remains recovered 5 days later',\n",
       " '1.2 m [4\\'] \"grey-colored shark\"',\n",
       " 'Nurse shark, 60 cm [24\"], identified by Dr. L.P. L. Schultz on photograph',\n",
       " \"Tiger shark, 7'\",\n",
       " ...}"
      ]
     },
     "execution_count": 65,
     "metadata": {},
     "output_type": "execute_result"
    }
   ],
   "source": [
    "set(df[\"Species\"])"
   ]
  },
  {
   "cell_type": "code",
   "execution_count": 66,
   "id": "b9db6223",
   "metadata": {
    "ExecuteTime": {
     "end_time": "2021-11-04T15:48:57.200631Z",
     "start_time": "2021-11-04T15:48:57.182380Z"
    },
    "hidden": true,
    "slideshow": {
     "slide_type": "subslide"
    }
   },
   "outputs": [
    {
     "data": {
      "text/plain": [
       "White shark                                                   161\n",
       "Shark involvement not confirmed                                80\n",
       "Tiger shark                                                    68\n",
       "Bull shark                                                     52\n",
       "6' shark                                                       40\n",
       "                                                             ... \n",
       "2.1 to 2.4 m [7' to 8'] shark                                   1\n",
       "Nurse shark, 0.94 m to 1.2 m [3' to 4']                         1\n",
       "Possibily a  1.5 to 2 m sandtiger shark                         1\n",
       "Silky shark, 1.9 m [6.5']                                       1\n",
       "7 shark's teeth found embedded in the woodwork of the boat      1\n",
       "Name: Species, Length: 1538, dtype: int64"
      ]
     },
     "execution_count": 66,
     "metadata": {},
     "output_type": "execute_result"
    }
   ],
   "source": [
    "df[\"Species\"].value_counts()"
   ]
  },
  {
   "cell_type": "markdown",
   "id": "48d47a3e",
   "metadata": {
    "heading_collapsed": true,
    "hidden": true,
    "slideshow": {
     "slide_type": "subslide"
    }
   },
   "source": [
    "#### Conclusion y output"
   ]
  },
  {
   "cell_type": "markdown",
   "id": "9c9ea9cb",
   "metadata": {
    "hidden": true,
    "slideshow": {
     "slide_type": "fragment"
    }
   },
   "source": [
    "Mas de la mitad de los registros son valores nulos, del resto hay demasiada variacion. Una unica categoria con mas de 100 valores, no lo veo representativo. Hay demasiada variacion en la forma de escribirlo y en la informacion que proporcionan, por lo que decido borrar la columna"
   ]
  },
  {
   "cell_type": "code",
   "execution_count": 67,
   "id": "475a0373",
   "metadata": {
    "ExecuteTime": {
     "end_time": "2021-11-04T15:48:57.219959Z",
     "start_time": "2021-11-04T15:48:57.201593Z"
    },
    "hidden": true,
    "slideshow": {
     "slide_type": "subslide"
    }
   },
   "outputs": [],
   "source": [
    "df.drop(\"Species\",axis=1,inplace=True)"
   ]
  },
  {
   "cell_type": "markdown",
   "id": "a1c22f17",
   "metadata": {
    "heading_collapsed": true,
    "hidden": true,
    "slideshow": {
     "slide_type": "slide"
    }
   },
   "source": [
    "### Columnas: \"Date\",\"Year\",\"Time\""
   ]
  },
  {
   "cell_type": "markdown",
   "id": "2786eab2",
   "metadata": {
    "heading_collapsed": true,
    "hidden": true,
    "slideshow": {
     "slide_type": "subslide"
    }
   },
   "source": [
    "#### Analisis de las columnas, cosas en comun y diferencias"
   ]
  },
  {
   "cell_type": "code",
   "execution_count": 68,
   "id": "fc59c49d",
   "metadata": {
    "ExecuteTime": {
     "end_time": "2021-11-04T15:48:57.249021Z",
     "start_time": "2021-11-04T15:48:57.229505Z"
    },
    "hidden": true,
    "slideshow": {
     "slide_type": "subslide"
    }
   },
   "outputs": [
    {
     "data": {
      "text/html": [
       "<div>\n",
       "<style scoped>\n",
       "    .dataframe tbody tr th:only-of-type {\n",
       "        vertical-align: middle;\n",
       "    }\n",
       "\n",
       "    .dataframe tbody tr th {\n",
       "        vertical-align: top;\n",
       "    }\n",
       "\n",
       "    .dataframe thead th {\n",
       "        text-align: right;\n",
       "    }\n",
       "</style>\n",
       "<table border=\"1\" class=\"dataframe\">\n",
       "  <thead>\n",
       "    <tr style=\"text-align: right;\">\n",
       "      <th></th>\n",
       "      <th>Date</th>\n",
       "      <th>Year</th>\n",
       "      <th>Time</th>\n",
       "    </tr>\n",
       "    <tr>\n",
       "      <th>Casos</th>\n",
       "      <th></th>\n",
       "      <th></th>\n",
       "      <th></th>\n",
       "    </tr>\n",
       "  </thead>\n",
       "  <tbody>\n",
       "    <tr>\n",
       "      <th>1</th>\n",
       "      <td>1845-1853</td>\n",
       "      <td>0</td>\n",
       "      <td>NaN</td>\n",
       "    </tr>\n",
       "    <tr>\n",
       "      <th>2</th>\n",
       "      <td>1883-1889</td>\n",
       "      <td>0</td>\n",
       "      <td>NaN</td>\n",
       "    </tr>\n",
       "    <tr>\n",
       "      <th>3</th>\n",
       "      <td>1900-1905</td>\n",
       "      <td>0</td>\n",
       "      <td>NaN</td>\n",
       "    </tr>\n",
       "    <tr>\n",
       "      <th>4</th>\n",
       "      <td>Before 1903</td>\n",
       "      <td>0</td>\n",
       "      <td>NaN</td>\n",
       "    </tr>\n",
       "    <tr>\n",
       "      <th>5</th>\n",
       "      <td>Before 1903</td>\n",
       "      <td>0</td>\n",
       "      <td>NaN</td>\n",
       "    </tr>\n",
       "  </tbody>\n",
       "</table>\n",
       "</div>"
      ],
      "text/plain": [
       "              Date  Year Time\n",
       "Casos                        \n",
       "1        1845-1853     0  NaN\n",
       "2        1883-1889     0  NaN\n",
       "3        1900-1905     0  NaN\n",
       "4      Before 1903     0  NaN\n",
       "5      Before 1903     0  NaN"
      ]
     },
     "execution_count": 68,
     "metadata": {},
     "output_type": "execute_result"
    }
   ],
   "source": [
    "# Vamos con las columnas de Date,year y time\n",
    "#Objetivo unificar a una sola tabla\n",
    "df[[\"Date\",\"Year\", \"Time\"]].head(5)"
   ]
  },
  {
   "cell_type": "code",
   "execution_count": 69,
   "id": "1f37482e",
   "metadata": {
    "ExecuteTime": {
     "end_time": "2021-11-04T15:48:57.269292Z",
     "start_time": "2021-11-04T15:48:57.255116Z"
    },
    "hidden": true,
    "scrolled": true,
    "slideshow": {
     "slide_type": "subslide"
    }
   },
   "outputs": [
    {
     "data": {
      "text/plain": [
       "Date       0\n",
       "Year       0\n",
       "Time    3213\n",
       "dtype: int64"
      ]
     },
     "execution_count": 69,
     "metadata": {},
     "output_type": "execute_result"
    }
   ],
   "source": [
    "#Valores nulos:\n",
    "df[[\"Date\",\"Year\", \"Time\"]].isna().sum()"
   ]
  },
  {
   "cell_type": "code",
   "execution_count": 70,
   "id": "1d54b1a8",
   "metadata": {
    "ExecuteTime": {
     "end_time": "2021-11-04T15:48:57.280452Z",
     "start_time": "2021-11-04T15:48:57.270365Z"
    },
    "hidden": true
   },
   "outputs": [
    {
     "data": {
      "text/plain": [
       "Afternoon              174\n",
       "11h00                  123\n",
       "Morning                107\n",
       "12h00                  107\n",
       "15h00                  100\n",
       "                      ... \n",
       "\"Evening\"                1\n",
       "After Dusk               1\n",
       "Just before sundown      1\n",
       "07h08                    1\n",
       "23h30                    1\n",
       "Name: Time, Length: 357, dtype: int64"
      ]
     },
     "execution_count": 70,
     "metadata": {},
     "output_type": "execute_result"
    }
   ],
   "source": [
    "df[\"Time\"].value_counts()"
   ]
  },
  {
   "cell_type": "markdown",
   "id": "17ea7d4a",
   "metadata": {
    "hidden": true
   },
   "source": [
    "La columna time contiene demasiados valores nulos y los que aparecen son poco precisos"
   ]
  },
  {
   "cell_type": "markdown",
   "id": "52b6e2b5",
   "metadata": {
    "heading_collapsed": true,
    "hidden": true,
    "slideshow": {
     "slide_type": "subslide"
    }
   },
   "source": [
    "#### Agrupacion de las tres columnas en una"
   ]
  },
  {
   "cell_type": "code",
   "execution_count": 71,
   "id": "ccfe7b73",
   "metadata": {
    "ExecuteTime": {
     "end_time": "2021-11-04T15:48:57.289432Z",
     "start_time": "2021-11-04T15:48:57.281444Z"
    },
    "hidden": true,
    "slideshow": {
     "slide_type": "subslide"
    }
   },
   "outputs": [],
   "source": [
    "#Con tantos valor nulo en Time, la borramos\n",
    "df.drop(\"Time\",axis=1,inplace=True)"
   ]
  },
  {
   "cell_type": "code",
   "execution_count": 72,
   "id": "44458daf",
   "metadata": {
    "ExecuteTime": {
     "end_time": "2021-11-04T15:48:57.300389Z",
     "start_time": "2021-11-04T15:48:57.291599Z"
    },
    "hidden": true,
    "slideshow": {
     "slide_type": "subslide"
    }
   },
   "outputs": [
    {
     "data": {
      "text/plain": [
       "5128"
      ]
     },
     "execution_count": 72,
     "metadata": {},
     "output_type": "execute_result"
    }
   ],
   "source": [
    "#Analizamos la variable Date\n",
    "df[\"Date\"].nunique()"
   ]
  },
  {
   "cell_type": "code",
   "execution_count": 73,
   "id": "013139be",
   "metadata": {
    "ExecuteTime": {
     "end_time": "2021-11-04T15:48:57.318232Z",
     "start_time": "2021-11-04T15:48:57.301344Z"
    },
    "hidden": true,
    "slideshow": {
     "slide_type": "subslide"
    }
   },
   "outputs": [
    {
     "data": {
      "text/plain": [
       "Casos\n",
       "558     Reported 09-Nov-1892\n",
       "3483               10-May-88\n",
       "4048               26-Aug-98\n",
       "1752              1950.07.19\n",
       "1731             1950 - 1951\n",
       "1966               20-Jun-56\n",
       "817     Reported 15-Dec-1909\n",
       "5305               15-Jun-11\n",
       "3168               26-Dec-80\n",
       "Name: Date, dtype: object"
      ]
     },
     "execution_count": 73,
     "metadata": {},
     "output_type": "execute_result"
    }
   ],
   "source": [
    "#la columna Date es tipo objeto con demasiados valores unicos, decido agruparla en la columna Año ya que no hay suficientes registros con los dias y los meses\n",
    "df.Date.sample(n=9)"
   ]
  },
  {
   "cell_type": "code",
   "execution_count": 74,
   "id": "c58687f4",
   "metadata": {
    "ExecuteTime": {
     "end_time": "2021-11-04T15:48:57.333406Z",
     "start_time": "2021-11-04T15:48:57.318232Z"
    },
    "hidden": true,
    "scrolled": true,
    "slideshow": {
     "slide_type": "subslide"
    }
   },
   "outputs": [
    {
     "data": {
      "text/plain": [
       "2015    139\n",
       "2011    128\n",
       "2014    125\n",
       "0       124\n",
       "2013    122\n",
       "       ... \n",
       "1854      1\n",
       "1850      1\n",
       "1846      1\n",
       "1834      1\n",
       "1554      1\n",
       "Name: Year, Length: 232, dtype: int64"
      ]
     },
     "execution_count": 74,
     "metadata": {},
     "output_type": "execute_result"
    }
   ],
   "source": [
    "#Esta columna ya son valores int, el problema son los casos ocurridos en el 0\n",
    "df.Year.value_counts()"
   ]
  },
  {
   "cell_type": "markdown",
   "id": "64d97dac",
   "metadata": {
    "hidden": true,
    "slideshow": {
     "slide_type": "subslide"
    }
   },
   "source": [
    "**La cantidad de valores nulos y de valores diferentes de las columna Time y Date no lo veo aprovechable, me quedo con los años**"
   ]
  },
  {
   "cell_type": "code",
   "execution_count": 75,
   "id": "e5dce8a4",
   "metadata": {
    "ExecuteTime": {
     "end_time": "2021-11-04T15:48:57.350049Z",
     "start_time": "2021-11-04T15:48:57.335463Z"
    },
    "code_folding": [],
    "hidden": true,
    "slideshow": {
     "slide_type": "subslide"
    }
   },
   "outputs": [],
   "source": [
    "#Opciones con los años 0: Borrar esos registros, poner la media o la mediana\n",
    "mediana=df.Year.median()\n",
    "#elijo la mediana ya que creo que es mas correcto"
   ]
  },
  {
   "cell_type": "code",
   "execution_count": 76,
   "id": "07f023b3",
   "metadata": {
    "ExecuteTime": {
     "end_time": "2021-11-04T15:48:57.369091Z",
     "start_time": "2021-11-04T15:48:57.350549Z"
    },
    "hidden": true,
    "slideshow": {
     "slide_type": "subslide"
    }
   },
   "outputs": [],
   "source": [
    "#Creo una funcion para que me cambie los valores 0 por la mediana de los años\n",
    "def años(año):\n",
    "    if año==0:\n",
    "        return int(mediana)\n",
    "    else:\n",
    "        return año\n"
   ]
  },
  {
   "cell_type": "code",
   "execution_count": 77,
   "id": "3004c518",
   "metadata": {
    "ExecuteTime": {
     "end_time": "2021-11-04T15:48:57.389055Z",
     "start_time": "2021-11-04T15:48:57.371261Z"
    },
    "hidden": true,
    "slideshow": {
     "slide_type": "subslide"
    }
   },
   "outputs": [],
   "source": [
    "#aplico la funcion que cambiara los valores 0 al valor de la mediana\n",
    "df[\"Year\"]=df[\"Year\"].apply(años)"
   ]
  },
  {
   "cell_type": "code",
   "execution_count": 78,
   "id": "10303283",
   "metadata": {
    "ExecuteTime": {
     "end_time": "2021-11-04T15:48:57.399552Z",
     "start_time": "2021-11-04T15:48:57.391377Z"
    },
    "hidden": true,
    "slideshow": {
     "slide_type": "subslide"
    }
   },
   "outputs": [
    {
     "data": {
      "text/plain": [
       "1975    173\n",
       "2015    139\n",
       "2011    128\n",
       "2014    125\n",
       "2013    122\n",
       "       ... \n",
       "1850      1\n",
       "1846      1\n",
       "1834      1\n",
       "1822      1\n",
       "1554      1\n",
       "Name: Year, Length: 231, dtype: int64"
      ]
     },
     "execution_count": 78,
     "metadata": {},
     "output_type": "execute_result"
    }
   ],
   "source": [
    "df.Year.value_counts()"
   ]
  },
  {
   "cell_type": "code",
   "execution_count": 79,
   "id": "9d918b93",
   "metadata": {
    "ExecuteTime": {
     "end_time": "2021-11-04T15:48:57.410024Z",
     "start_time": "2021-11-04T15:48:57.401183Z"
    },
    "hidden": true,
    "slideshow": {
     "slide_type": "subslide"
    }
   },
   "outputs": [],
   "source": [
    "#elimino la columna Date\n",
    "df.drop(\"Date\",axis=1,inplace=True)"
   ]
  },
  {
   "cell_type": "markdown",
   "id": "af6f425d",
   "metadata": {
    "ExecuteTime": {
     "end_time": "2021-10-30T17:27:32.779618Z",
     "start_time": "2021-10-30T17:27:32.768982Z"
    },
    "heading_collapsed": true,
    "hidden": true,
    "slideshow": {
     "slide_type": "slide"
    }
   },
   "source": [
    "### Columnas: \"Name\" y \"Sex \""
   ]
  },
  {
   "cell_type": "markdown",
   "id": "7f125e0e",
   "metadata": {
    "heading_collapsed": true,
    "hidden": true,
    "slideshow": {
     "slide_type": "subslide"
    }
   },
   "source": [
    "#### Analisis inicial de las columnas"
   ]
  },
  {
   "cell_type": "code",
   "execution_count": 80,
   "id": "090e221e",
   "metadata": {
    "ExecuteTime": {
     "end_time": "2021-11-04T15:48:57.419854Z",
     "start_time": "2021-11-04T15:48:57.410671Z"
    },
    "hidden": true,
    "slideshow": {
     "slide_type": "subslide"
    }
   },
   "outputs": [
    {
     "data": {
      "text/plain": [
       "Index(['Year', 'Type', 'Country', 'Area', 'Location', 'Activity', 'Name',\n",
       "       'Sex ', 'Age', 'Injury', 'Fatal (Y/N)', 'Investigator or Source',\n",
       "       'Pdf'],\n",
       "      dtype='object')"
      ]
     },
     "execution_count": 80,
     "metadata": {},
     "output_type": "execute_result"
    }
   ],
   "source": [
    "df.columns"
   ]
  },
  {
   "cell_type": "code",
   "execution_count": 81,
   "id": "3596d616",
   "metadata": {
    "ExecuteTime": {
     "end_time": "2021-11-04T15:48:57.430214Z",
     "start_time": "2021-11-04T15:48:57.420385Z"
    },
    "hidden": true,
    "slideshow": {
     "slide_type": "subslide"
    }
   },
   "outputs": [],
   "source": [
    "#Primero le quito el espacion al nombre de la columna \"Sex \"\n",
    "df.columns=(['Year', 'Type', 'Country', 'Area', 'Location', 'Activity', 'Name',\n",
    "       'Sex','Age', 'Injury', 'Fatal (Y/N)', 'Investigator or Source',\n",
    "       'Pdf'])"
   ]
  },
  {
   "cell_type": "code",
   "execution_count": 82,
   "id": "aa44d539",
   "metadata": {
    "ExecuteTime": {
     "end_time": "2021-11-04T15:48:57.439779Z",
     "start_time": "2021-11-04T15:48:57.430214Z"
    },
    "hidden": true,
    "slideshow": {
     "slide_type": "subslide"
    }
   },
   "outputs": [
    {
     "data": {
      "text/plain": [
       "Sex     567\n",
       "Name    200\n",
       "dtype: int64"
      ]
     },
     "execution_count": 82,
     "metadata": {},
     "output_type": "execute_result"
    }
   ],
   "source": [
    "df[[\"Sex\",\"Name\"]].isna().sum()"
   ]
  },
  {
   "cell_type": "code",
   "execution_count": 83,
   "id": "06b6a1ac",
   "metadata": {
    "ExecuteTime": {
     "end_time": "2021-11-04T15:48:57.449742Z",
     "start_time": "2021-11-04T15:48:57.441352Z"
    },
    "hidden": true,
    "slideshow": {
     "slide_type": "subslide"
    }
   },
   "outputs": [
    {
     "data": {
      "text/plain": [
       "5009"
      ]
     },
     "execution_count": 83,
     "metadata": {},
     "output_type": "execute_result"
    }
   ],
   "source": [
    "#Analisis de la columna name\n",
    "df[\"Name\"].nunique()"
   ]
  },
  {
   "cell_type": "code",
   "execution_count": 84,
   "id": "b761cc82",
   "metadata": {
    "ExecuteTime": {
     "end_time": "2021-11-04T15:48:57.458674Z",
     "start_time": "2021-11-04T15:48:57.450566Z"
    },
    "hidden": true,
    "slideshow": {
     "slide_type": "subslide"
    }
   },
   "outputs": [
    {
     "data": {
      "text/plain": [
       "Casos\n",
       "2503    Barbara Elsa Strauss\n",
       "3946              Greg Ferry\n",
       "3302           Arturo Garces\n",
       "518                     male\n",
       "4475                    A.B.\n",
       "2434           Noel Holliday\n",
       "4793           Freddy Torres\n",
       "5809       Lance Donahue, Jr\n",
       "Name: Name, dtype: object"
      ]
     },
     "execution_count": 84,
     "metadata": {},
     "output_type": "execute_result"
    }
   ],
   "source": [
    "#Demasiada variedad en el formato y en las anotaciones, otra columna que borramos y agruparemos por sexo\n",
    "df[\"Name\"].sample(n=8)"
   ]
  },
  {
   "cell_type": "code",
   "execution_count": 85,
   "id": "e46d2b5a",
   "metadata": {
    "ExecuteTime": {
     "end_time": "2021-11-04T15:48:57.468642Z",
     "start_time": "2021-11-04T15:48:57.460172Z"
    },
    "hidden": true,
    "slideshow": {
     "slide_type": "subslide"
    }
   },
   "outputs": [
    {
     "data": {
      "text/plain": [
       "{'.', 'F', 'M', 'M ', 'N', 'lli', nan}"
      ]
     },
     "execution_count": 85,
     "metadata": {},
     "output_type": "execute_result"
    }
   ],
   "source": [
    "#Vamos a analizar los valores\n",
    "set(df[\"Sex\"])"
   ]
  },
  {
   "cell_type": "code",
   "execution_count": 86,
   "id": "deefc880",
   "metadata": {
    "ExecuteTime": {
     "end_time": "2021-11-04T15:48:57.479804Z",
     "start_time": "2021-11-04T15:48:57.470232Z"
    },
    "hidden": true,
    "scrolled": true,
    "slideshow": {
     "slide_type": "subslide"
    }
   },
   "outputs": [
    {
     "data": {
      "text/plain": [
       "M      4835\n",
       "F       585\n",
       "M         2\n",
       "lli       1\n",
       ".         1\n",
       "N         1\n",
       "Name: Sex, dtype: int64"
      ]
     },
     "execution_count": 86,
     "metadata": {},
     "output_type": "execute_result"
    }
   ],
   "source": [
    "df[\"Sex\"].value_counts()\n",
    "#Homogenizamos los M, y el resto "
   ]
  },
  {
   "cell_type": "markdown",
   "id": "792730d3",
   "metadata": {
    "heading_collapsed": true,
    "hidden": true,
    "slideshow": {
     "slide_type": "subslide"
    }
   },
   "source": [
    "####  Conclusiones y cambios"
   ]
  },
  {
   "cell_type": "code",
   "execution_count": 87,
   "id": "e46be974",
   "metadata": {
    "ExecuteTime": {
     "end_time": "2021-11-04T15:48:57.489011Z",
     "start_time": "2021-11-04T15:48:57.481348Z"
    },
    "hidden": true,
    "slideshow": {
     "slide_type": "subslide"
    }
   },
   "outputs": [],
   "source": [
    "#Los M con espacio los agrupo en \"M\", los valores \"lli\",\".\" y \"N\" asi como los valores nulos iran a ND(No determinado)\n",
    "def genero(x):\n",
    "    if x==\"M \":\n",
    "        return \"M\"\n",
    "    elif x==\"M\" or x==\"F\":\n",
    "        return x\n",
    "    else:\n",
    "        return \"ND\"\n",
    "    \n"
   ]
  },
  {
   "cell_type": "code",
   "execution_count": 88,
   "id": "fbe1f626",
   "metadata": {
    "ExecuteTime": {
     "end_time": "2021-11-04T15:48:57.499975Z",
     "start_time": "2021-11-04T15:48:57.491122Z"
    },
    "hidden": true,
    "slideshow": {
     "slide_type": "subslide"
    }
   },
   "outputs": [],
   "source": [
    "df[\"Sex\"]=df[\"Sex\"].apply(genero)"
   ]
  },
  {
   "cell_type": "code",
   "execution_count": 89,
   "id": "aa15916c",
   "metadata": {
    "ExecuteTime": {
     "end_time": "2021-11-04T15:48:57.508983Z",
     "start_time": "2021-11-04T15:48:57.501462Z"
    },
    "hidden": true,
    "slideshow": {
     "slide_type": "subslide"
    }
   },
   "outputs": [],
   "source": [
    "#Borramos la columna name\n",
    "df.drop(\"Name\",axis=1,inplace=True)"
   ]
  },
  {
   "cell_type": "markdown",
   "id": "f57466fa",
   "metadata": {
    "heading_collapsed": true,
    "hidden": true,
    "slideshow": {
     "slide_type": "slide"
    }
   },
   "source": [
    "### Columnas: \"Injury\" y \"Fatal (Y/N) \""
   ]
  },
  {
   "cell_type": "markdown",
   "id": "038d9d89",
   "metadata": {
    "heading_collapsed": true,
    "hidden": true,
    "slideshow": {
     "slide_type": "subslide"
    }
   },
   "source": [
    "#### Analisis inicial de las columnas"
   ]
  },
  {
   "cell_type": "code",
   "execution_count": 90,
   "id": "826073c8",
   "metadata": {
    "ExecuteTime": {
     "end_time": "2021-11-04T15:48:57.524995Z",
     "start_time": "2021-11-04T15:48:57.508983Z"
    },
    "hidden": true,
    "slideshow": {
     "slide_type": "subslide"
    }
   },
   "outputs": [
    {
     "data": {
      "text/plain": [
       "Injury         27\n",
       "Fatal (Y/N)    19\n",
       "dtype: int64"
      ]
     },
     "execution_count": 90,
     "metadata": {},
     "output_type": "execute_result"
    }
   ],
   "source": [
    "df[[\"Injury\",\"Fatal (Y/N)\"]].isna().sum()"
   ]
  },
  {
   "cell_type": "code",
   "execution_count": 91,
   "id": "6a66a94f",
   "metadata": {
    "ExecuteTime": {
     "end_time": "2021-11-04T15:48:57.540982Z",
     "start_time": "2021-11-04T15:48:57.524995Z"
    },
    "hidden": true,
    "slideshow": {
     "slide_type": "subslide"
    }
   },
   "outputs": [
    {
     "data": {
      "text/plain": [
       "Injury         3595\n",
       "Fatal (Y/N)       8\n",
       "dtype: int64"
      ]
     },
     "execution_count": 91,
     "metadata": {},
     "output_type": "execute_result"
    }
   ],
   "source": [
    "#cantidad de valores tiene cada uno\n",
    "df[[\"Injury\",\"Fatal (Y/N)\"]].nunique()"
   ]
  },
  {
   "cell_type": "code",
   "execution_count": 92,
   "id": "98d67eab",
   "metadata": {
    "ExecuteTime": {
     "end_time": "2021-11-04T15:48:57.560141Z",
     "start_time": "2021-11-04T15:48:57.542064Z"
    },
    "hidden": true,
    "slideshow": {
     "slide_type": "subslide"
    }
   },
   "outputs": [
    {
     "data": {
      "text/plain": [
       "Injury         27\n",
       "Fatal (Y/N)    19\n",
       "dtype: int64"
      ]
     },
     "execution_count": 92,
     "metadata": {},
     "output_type": "execute_result"
    }
   ],
   "source": [
    "#No veo relevante el tantas categorias en injury\n",
    "df[[\"Injury\",\"Fatal (Y/N)\"]].isna().sum()"
   ]
  },
  {
   "cell_type": "markdown",
   "id": "3a10754e",
   "metadata": {
    "heading_collapsed": true,
    "hidden": true,
    "slideshow": {
     "slide_type": "subslide"
    }
   },
   "source": [
    "####  Conclusiones y cambios"
   ]
  },
  {
   "cell_type": "code",
   "execution_count": 93,
   "id": "1f492968",
   "metadata": {
    "ExecuteTime": {
     "end_time": "2021-11-04T15:48:57.570269Z",
     "start_time": "2021-11-04T15:48:57.561426Z"
    },
    "hidden": true,
    "scrolled": true,
    "slideshow": {
     "slide_type": "subslide"
    }
   },
   "outputs": [
    {
     "data": {
      "text/plain": [
       "Casos\n",
       "2954                                FATAL\n",
       "4402                         Shin bruised\n",
       "2529                       Presumed FATAL\n",
       "4263               Foot & ankle lacerated\n",
       "5311    Lacerations to left leg and hands\n",
       "Name: Injury, dtype: object"
      ]
     },
     "execution_count": 93,
     "metadata": {},
     "output_type": "execute_result"
    }
   ],
   "source": [
    "# No encuentro patron por lo que eliminaremos esta columna\n",
    "df[\"Injury\"].sample(n=5)"
   ]
  },
  {
   "cell_type": "code",
   "execution_count": 94,
   "id": "d5001afb",
   "metadata": {
    "ExecuteTime": {
     "end_time": "2021-11-04T15:48:57.580257Z",
     "start_time": "2021-11-04T15:48:57.570976Z"
    },
    "hidden": true,
    "slideshow": {
     "slide_type": "subslide"
    }
   },
   "outputs": [
    {
     "data": {
      "text/plain": [
       "N          4315\n",
       "Y          1552\n",
       "UNKNOWN      94\n",
       " N            8\n",
       "#VALUE!       1\n",
       "N             1\n",
       "n             1\n",
       "F             1\n",
       "Name: Fatal (Y/N), dtype: int64"
      ]
     },
     "execution_count": 94,
     "metadata": {},
     "output_type": "execute_result"
    }
   ],
   "source": [
    "#vamos a ver los valores de fatal\n",
    "df[\"Fatal (Y/N)\"].value_counts()"
   ]
  },
  {
   "cell_type": "markdown",
   "id": "69cc261e",
   "metadata": {
    "hidden": true,
    "slideshow": {
     "slide_type": "subslide"
    }
   },
   "source": [
    "Clasificacion de los valores:\n",
    "- N: No es fatal, sobrevive\n",
    "- Y: Fatal, No sobrevive\n",
    "- UNKNOWN: Desconocido\n",
    "- #VALUE!: Desconocido\n",
    "- F: Fatal, no sobrevive\n",
    "Creo una funcion para modificar los valores"
   ]
  },
  {
   "cell_type": "code",
   "execution_count": 95,
   "id": "b676107e",
   "metadata": {
    "ExecuteTime": {
     "end_time": "2021-11-04T15:48:57.590009Z",
     "start_time": "2021-11-04T15:48:57.581917Z"
    },
    "hidden": true,
    "slideshow": {
     "slide_type": "subslide"
    }
   },
   "outputs": [],
   "source": [
    "#Vamos a cambiar los valores a: Si, No, Desconocido\n",
    "def fatal(x):\n",
    "    if x==\"N\" or x==\"N \" or x==\" N\" or x==\"n\":\n",
    "        return \"Sobrevive\"\n",
    "    elif x==\"Y\" or x==\"F\":\n",
    "        return \"No sobrevive\"\n",
    "    else:\n",
    "        return \"Desconocido\""
   ]
  },
  {
   "cell_type": "code",
   "execution_count": 96,
   "id": "bcfbdcf6",
   "metadata": {
    "ExecuteTime": {
     "end_time": "2021-11-04T15:48:57.598715Z",
     "start_time": "2021-11-04T15:48:57.590675Z"
    },
    "hidden": true,
    "slideshow": {
     "slide_type": "subslide"
    }
   },
   "outputs": [],
   "source": [
    "#Aplicamos la funcion y cambio el nombre de la columna\n",
    "df[\"Supervivencia\"]=df[\"Fatal (Y/N)\"].apply(fatal)"
   ]
  },
  {
   "cell_type": "code",
   "execution_count": 97,
   "id": "bcba1729",
   "metadata": {
    "ExecuteTime": {
     "end_time": "2021-11-04T15:48:57.609084Z",
     "start_time": "2021-11-04T15:48:57.600413Z"
    },
    "hidden": true,
    "slideshow": {
     "slide_type": "subslide"
    }
   },
   "outputs": [],
   "source": [
    "#Borramos las columnas de injury y fatal\n",
    "df.drop([\"Injury\",\"Fatal (Y/N)\"],axis=1,inplace=True)"
   ]
  },
  {
   "cell_type": "markdown",
   "id": "ffb8debe",
   "metadata": {
    "heading_collapsed": true,
    "hidden": true,
    "slideshow": {
     "slide_type": "slide"
    }
   },
   "source": [
    "### Columnas: \"Activity\" "
   ]
  },
  {
   "cell_type": "markdown",
   "id": "8cf0de9a",
   "metadata": {
    "hidden": true,
    "slideshow": {
     "slide_type": "subslide"
    }
   },
   "source": [
    "#### Analisis inicial de las columnas"
   ]
  },
  {
   "cell_type": "code",
   "execution_count": 98,
   "id": "94a2ba30",
   "metadata": {
    "ExecuteTime": {
     "end_time": "2021-11-04T15:48:57.618719Z",
     "start_time": "2021-11-04T15:48:57.610696Z"
    },
    "hidden": true,
    "slideshow": {
     "slide_type": "subslide"
    }
   },
   "outputs": [
    {
     "data": {
      "text/plain": [
       "1492"
      ]
     },
     "execution_count": 98,
     "metadata": {},
     "output_type": "execute_result"
    }
   ],
   "source": [
    "df.Activity.nunique()"
   ]
  },
  {
   "cell_type": "markdown",
   "id": "181ea2f5",
   "metadata": {
    "hidden": true,
    "slideshow": {
     "slide_type": "subslide"
    }
   },
   "source": [
    "####  Conclusiones y cambios"
   ]
  },
  {
   "cell_type": "code",
   "execution_count": 99,
   "id": "768bc175",
   "metadata": {
    "ExecuteTime": {
     "end_time": "2021-11-04T15:48:57.630445Z",
     "start_time": "2021-11-04T15:48:57.618719Z"
    },
    "hidden": true,
    "slideshow": {
     "slide_type": "subslide"
    }
   },
   "outputs": [],
   "source": [
    "#Elijo las 14 mas comunes y el resto y los NA los clasificare como Otra actividad\n",
    "lista=df[\"Activity\"].value_counts().head(14)"
   ]
  },
  {
   "cell_type": "code",
   "execution_count": 100,
   "id": "f331dcb7",
   "metadata": {
    "ExecuteTime": {
     "end_time": "2021-11-04T15:48:57.640018Z",
     "start_time": "2021-11-04T15:48:57.630445Z"
    },
    "hidden": true,
    "slideshow": {
     "slide_type": "subslide"
    }
   },
   "outputs": [],
   "source": [
    "#Funcion para cambiar los valores\n",
    "def actividad(x):\n",
    "    if x in lista:\n",
    "        return x\n",
    "    else:\n",
    "        return \"Otra actividad\""
   ]
  },
  {
   "cell_type": "code",
   "execution_count": 101,
   "id": "0bbbc808",
   "metadata": {
    "ExecuteTime": {
     "end_time": "2021-11-04T15:48:57.657145Z",
     "start_time": "2021-11-04T15:48:57.641618Z"
    },
    "hidden": true,
    "slideshow": {
     "slide_type": "subslide"
    }
   },
   "outputs": [],
   "source": [
    "#Cambio los valores\n",
    "df[\"Activity\"]=df[\"Activity\"].apply(actividad)"
   ]
  },
  {
   "cell_type": "markdown",
   "id": "1cd64a5a",
   "metadata": {
    "heading_collapsed": true,
    "hidden": true,
    "slideshow": {
     "slide_type": "slide"
    }
   },
   "source": [
    "### Columnas:  \"Type\""
   ]
  },
  {
   "cell_type": "markdown",
   "id": "61d11fde",
   "metadata": {
    "heading_collapsed": true,
    "hidden": true,
    "slideshow": {
     "slide_type": "subslide"
    }
   },
   "source": [
    "#### Analisis inicial de las columnas"
   ]
  },
  {
   "cell_type": "code",
   "execution_count": 102,
   "id": "6699bf32",
   "metadata": {
    "ExecuteTime": {
     "end_time": "2021-11-04T15:48:57.669956Z",
     "start_time": "2021-11-04T15:48:57.658671Z"
    },
    "hidden": true,
    "slideshow": {
     "slide_type": "subslide"
    }
   },
   "outputs": [
    {
     "data": {
      "text/plain": [
       "0"
      ]
     },
     "execution_count": 102,
     "metadata": {},
     "output_type": "execute_result"
    }
   ],
   "source": [
    "#No hay valores nulos\n",
    "df.Type.isna().sum()"
   ]
  },
  {
   "cell_type": "code",
   "execution_count": 103,
   "id": "9ea08a89",
   "metadata": {
    "ExecuteTime": {
     "end_time": "2021-11-04T15:48:57.679650Z",
     "start_time": "2021-11-04T15:48:57.669956Z"
    },
    "hidden": true,
    "slideshow": {
     "slide_type": "subslide"
    }
   },
   "outputs": [
    {
     "data": {
      "text/plain": [
       "6"
      ]
     },
     "execution_count": 103,
     "metadata": {},
     "output_type": "execute_result"
    }
   ],
   "source": [
    "df[\"Type\"].nunique()"
   ]
  },
  {
   "cell_type": "code",
   "execution_count": 104,
   "id": "d6b029f5",
   "metadata": {
    "ExecuteTime": {
     "end_time": "2021-11-04T15:48:57.688856Z",
     "start_time": "2021-11-04T15:48:57.681230Z"
    },
    "hidden": true,
    "slideshow": {
     "slide_type": "subslide"
    }
   },
   "outputs": [
    {
     "data": {
      "text/plain": [
       "Unprovoked      4386\n",
       "Provoked         557\n",
       "Invalid          519\n",
       "Sea Disaster     220\n",
       "Boat             200\n",
       "Boating          110\n",
       "Name: Type, dtype: int64"
      ]
     },
     "execution_count": 104,
     "metadata": {},
     "output_type": "execute_result"
    }
   ],
   "source": [
    "df[\"Type\"].value_counts()"
   ]
  },
  {
   "cell_type": "markdown",
   "id": "ca8207cf",
   "metadata": {
    "heading_collapsed": true,
    "hidden": true,
    "slideshow": {
     "slide_type": "subslide"
    }
   },
   "source": [
    "####  Conclusiones y cambios"
   ]
  },
  {
   "cell_type": "code",
   "execution_count": 105,
   "id": "c7af9d41",
   "metadata": {
    "ExecuteTime": {
     "end_time": "2021-11-04T15:48:57.699144Z",
     "start_time": "2021-11-04T15:48:57.690350Z"
    },
    "hidden": true,
    "slideshow": {
     "slide_type": "subslide"
    }
   },
   "outputs": [],
   "source": [
    "#Junto los valores de Boat y boating en Boat\n",
    "def typeBoat(x):\n",
    "    if x==\"Boating\":\n",
    "        return \"Boat\"\n",
    "    else:\n",
    "        return x"
   ]
  },
  {
   "cell_type": "code",
   "execution_count": 106,
   "id": "a0d2239e",
   "metadata": {
    "ExecuteTime": {
     "end_time": "2021-11-04T15:48:57.709304Z",
     "start_time": "2021-11-04T15:48:57.700783Z"
    },
    "hidden": true,
    "slideshow": {
     "slide_type": "subslide"
    }
   },
   "outputs": [],
   "source": [
    "df[\"Type\"]=df[\"Type\"].apply(typeBoat)"
   ]
  },
  {
   "cell_type": "code",
   "execution_count": 107,
   "id": "cfd881f1",
   "metadata": {
    "ExecuteTime": {
     "end_time": "2021-11-04T15:48:57.719792Z",
     "start_time": "2021-11-04T15:48:57.710802Z"
    },
    "hidden": true,
    "slideshow": {
     "slide_type": "subslide"
    }
   },
   "outputs": [
    {
     "data": {
      "text/plain": [
       "Unprovoked      4386\n",
       "Provoked         557\n",
       "Invalid          519\n",
       "Boat             310\n",
       "Sea Disaster     220\n",
       "Name: Type, dtype: int64"
      ]
     },
     "execution_count": 107,
     "metadata": {},
     "output_type": "execute_result"
    }
   ],
   "source": [
    "df.Type.value_counts()"
   ]
  },
  {
   "cell_type": "markdown",
   "id": "377ca27e",
   "metadata": {
    "heading_collapsed": true,
    "hidden": true,
    "slideshow": {
     "slide_type": "slide"
    }
   },
   "source": [
    "### Columna: \"Investigator or Source\"  "
   ]
  },
  {
   "cell_type": "markdown",
   "id": "8484fd54",
   "metadata": {
    "heading_collapsed": true,
    "hidden": true,
    "slideshow": {
     "slide_type": "subslide"
    }
   },
   "source": [
    "#### Analisis inicial de las columnas"
   ]
  },
  {
   "cell_type": "code",
   "execution_count": 108,
   "id": "a5f596da",
   "metadata": {
    "ExecuteTime": {
     "end_time": "2021-11-04T15:48:57.730071Z",
     "start_time": "2021-11-04T15:48:57.721351Z"
    },
    "hidden": true
   },
   "outputs": [
    {
     "data": {
      "text/plain": [
       "15"
      ]
     },
     "execution_count": 108,
     "metadata": {},
     "output_type": "execute_result"
    }
   ],
   "source": [
    "#Hay muy pocos valores na\n",
    "df[\"Investigator or Source\"].isna().sum()"
   ]
  },
  {
   "cell_type": "code",
   "execution_count": 109,
   "id": "f2dad2e5",
   "metadata": {
    "ExecuteTime": {
     "end_time": "2021-11-04T15:48:57.739829Z",
     "start_time": "2021-11-04T15:48:57.730071Z"
    },
    "hidden": true
   },
   "outputs": [
    {
     "data": {
      "text/plain": [
       "4752"
      ]
     },
     "execution_count": 109,
     "metadata": {},
     "output_type": "execute_result"
    }
   ],
   "source": [
    "#Hay demasiados valores unicos\n",
    "df[\"Investigator or Source\"].nunique()"
   ]
  },
  {
   "cell_type": "code",
   "execution_count": 110,
   "id": "93debc8c",
   "metadata": {
    "ExecuteTime": {
     "end_time": "2021-11-04T15:48:57.749814Z",
     "start_time": "2021-11-04T15:48:57.741736Z"
    },
    "hidden": true
   },
   "outputs": [
    {
     "data": {
      "text/plain": [
       "Casos\n",
       "5483                                     WPTV, 10/16/2012\n",
       "2101     A.M. Rapson, p.149; L. Schultz & M. Malin, p.544\n",
       "2465                G.W. Kirby, Jr.;  NY Times, 1/22/1963\n",
       "3773              H. Boswell, M. Levine & E. Ritter, GSAF\n",
       "46      J. Oetzel, Skin Diver Magazine, March 1956, p.19 \n",
       "5734               L. Kubota, Hawaii News Now, 10/31/2014\n",
       "1983    V.M. Coppleson (1958), pp.49 & 264; A.M. Rapso...\n",
       "3627                                        E. Pace, FSAF\n",
       "2374                       The Sun (Australia), 1/17/1962\n",
       "4700                         San Francisco Gate 2/21/2005\n",
       "Name: Investigator or Source, dtype: object"
      ]
     },
     "execution_count": 110,
     "metadata": {},
     "output_type": "execute_result"
    }
   ],
   "source": [
    "df[\"Investigator or Source\"].sample(n=10)"
   ]
  },
  {
   "cell_type": "markdown",
   "id": "e3aba71a",
   "metadata": {
    "heading_collapsed": true,
    "hidden": true,
    "slideshow": {
     "slide_type": "subslide"
    }
   },
   "source": [
    "#### conclusion y output:"
   ]
  },
  {
   "cell_type": "markdown",
   "id": "2ebffb08",
   "metadata": {
    "hidden": true,
    "slideshow": {
     "slide_type": "subslide"
    }
   },
   "source": [
    "Por lo que veo aparece el autor o la revista, la pagina y la fecha pero con diferentes formatos y casi todos unicos \n",
    "- Opcion de rellenar los na como desconocido"
   ]
  },
  {
   "cell_type": "code",
   "execution_count": 111,
   "id": "1a222d04",
   "metadata": {
    "ExecuteTime": {
     "end_time": "2021-11-04T15:48:57.759817Z",
     "start_time": "2021-11-04T15:48:57.751493Z"
    },
    "hidden": true,
    "slideshow": {
     "slide_type": "subslide"
    }
   },
   "outputs": [],
   "source": [
    "df[\"Investigator or Source\"].fillna(\"Desconocido\",inplace=True)"
   ]
  },
  {
   "cell_type": "markdown",
   "id": "00bf08f3",
   "metadata": {
    "heading_collapsed": true,
    "hidden": true,
    "slideshow": {
     "slide_type": "slide"
    }
   },
   "source": [
    "### Columnas: \"Area\"  "
   ]
  },
  {
   "cell_type": "markdown",
   "id": "65817fea",
   "metadata": {
    "heading_collapsed": true,
    "hidden": true,
    "slideshow": {
     "slide_type": "subslide"
    }
   },
   "source": [
    "#### Analisis inicial de las columnas"
   ]
  },
  {
   "cell_type": "code",
   "execution_count": 112,
   "id": "4d017c9c",
   "metadata": {
    "ExecuteTime": {
     "end_time": "2021-11-04T15:48:57.768791Z",
     "start_time": "2021-11-04T15:48:57.761400Z"
    },
    "hidden": true,
    "slideshow": {
     "slide_type": "subslide"
    }
   },
   "outputs": [
    {
     "data": {
      "text/plain": [
       "785"
      ]
     },
     "execution_count": 112,
     "metadata": {},
     "output_type": "execute_result"
    }
   ],
   "source": [
    "df[\"Area\"].nunique()"
   ]
  },
  {
   "cell_type": "code",
   "execution_count": 113,
   "id": "f1230163",
   "metadata": {
    "ExecuteTime": {
     "end_time": "2021-11-04T15:48:57.779501Z",
     "start_time": "2021-11-04T15:48:57.768791Z"
    },
    "hidden": true,
    "slideshow": {
     "slide_type": "subslide"
    }
   },
   "outputs": [
    {
     "data": {
      "text/plain": [
       "402"
      ]
     },
     "execution_count": 113,
     "metadata": {},
     "output_type": "execute_result"
    }
   ],
   "source": [
    "df[\"Area\"].isna().sum()"
   ]
  },
  {
   "cell_type": "code",
   "execution_count": 114,
   "id": "bbd57772",
   "metadata": {
    "ExecuteTime": {
     "end_time": "2021-11-04T15:48:57.789606Z",
     "start_time": "2021-11-04T15:48:57.781090Z"
    },
    "hidden": true,
    "slideshow": {
     "slide_type": "subslide"
    }
   },
   "outputs": [
    {
     "data": {
      "text/plain": [
       "Casos\n",
       "2016                  Florida\n",
       "216                       NaN\n",
       "1109            Torres Strait\n",
       "721           Ancona Province\n",
       "4609             North Island\n",
       "1874                   Hawaii\n",
       "3620                  Florida\n",
       "2674          New South Wales\n",
       "479           New South Wales\n",
       "4860               California\n",
       "2767            KwaZulu-Natal\n",
       "3706                      NaN\n",
       "4882                  Florida\n",
       "2564                Victoria \n",
       "503     Eastern Cape Province\n",
       "523                Queensland\n",
       "631                      Aden\n",
       "2964               California\n",
       "5311            KwaZulu-Natal\n",
       "351                       NaN\n",
       "Name: Area, dtype: object"
      ]
     },
     "execution_count": 114,
     "metadata": {},
     "output_type": "execute_result"
    }
   ],
   "source": [
    "df[\"Area\"].sample(n=20)"
   ]
  },
  {
   "cell_type": "code",
   "execution_count": 115,
   "id": "818ef133",
   "metadata": {
    "ExecuteTime": {
     "end_time": "2021-11-04T15:48:57.799898Z",
     "start_time": "2021-11-04T15:48:57.792314Z"
    },
    "hidden": true,
    "scrolled": true,
    "slideshow": {
     "slide_type": "subslide"
    }
   },
   "outputs": [
    {
     "data": {
      "text/plain": [
       "Munxar Reef         1\n",
       "Muala               1\n",
       "Le Port             1\n",
       "Chatham Islands     1\n",
       "Sfax                1\n",
       "Name: Area, dtype: int64"
      ]
     },
     "execution_count": 115,
     "metadata": {},
     "output_type": "execute_result"
    }
   ],
   "source": [
    "df[\"Area\"].value_counts().tail(5)"
   ]
  },
  {
   "cell_type": "markdown",
   "id": "750c1097",
   "metadata": {
    "heading_collapsed": true,
    "hidden": true,
    "slideshow": {
     "slide_type": "subslide"
    }
   },
   "source": [
    "#### conclusion y output:"
   ]
  },
  {
   "cell_type": "code",
   "execution_count": 116,
   "id": "03c3eb02",
   "metadata": {
    "ExecuteTime": {
     "end_time": "2021-11-04T15:48:57.809785Z",
     "start_time": "2021-11-04T15:48:57.800426Z"
    },
    "hidden": true,
    "slideshow": {
     "slide_type": "subslide"
    }
   },
   "outputs": [],
   "source": [
    "#Lo veo bastante bien escrito, solo modificare los na\n",
    "df[\"Area\"].fillna(\"Desconocido\",inplace=True)"
   ]
  },
  {
   "cell_type": "markdown",
   "id": "b5bac173",
   "metadata": {
    "heading_collapsed": true,
    "hidden": true,
    "slideshow": {
     "slide_type": "slide"
    }
   },
   "source": [
    "### Columnas: \"Location\"  "
   ]
  },
  {
   "cell_type": "markdown",
   "id": "6344e85b",
   "metadata": {
    "heading_collapsed": true,
    "hidden": true,
    "slideshow": {
     "slide_type": "subslide"
    }
   },
   "source": [
    "#### Analisis inicial de las columnas"
   ]
  },
  {
   "cell_type": "code",
   "execution_count": 117,
   "id": "955e78e4",
   "metadata": {
    "ExecuteTime": {
     "end_time": "2021-11-04T15:48:57.819677Z",
     "start_time": "2021-11-04T15:48:57.811276Z"
    },
    "hidden": true,
    "slideshow": {
     "slide_type": "subslide"
    }
   },
   "outputs": [
    {
     "data": {
      "text/plain": [
       "496"
      ]
     },
     "execution_count": 117,
     "metadata": {},
     "output_type": "execute_result"
    }
   ],
   "source": [
    "df[\"Location\"].isna().sum()"
   ]
  },
  {
   "cell_type": "code",
   "execution_count": 118,
   "id": "27d4f7d8",
   "metadata": {
    "ExecuteTime": {
     "end_time": "2021-11-04T15:48:57.829866Z",
     "start_time": "2021-11-04T15:48:57.820200Z"
    },
    "hidden": true,
    "slideshow": {
     "slide_type": "subslide"
    }
   },
   "outputs": [
    {
     "data": {
      "text/plain": [
       "3929"
      ]
     },
     "execution_count": 118,
     "metadata": {},
     "output_type": "execute_result"
    }
   ],
   "source": [
    "df[\"Location\"].nunique()"
   ]
  },
  {
   "cell_type": "markdown",
   "id": "e8b8a6f3",
   "metadata": {
    "heading_collapsed": true,
    "hidden": true,
    "slideshow": {
     "slide_type": "subslide"
    }
   },
   "source": [
    "#### conclusion y output:"
   ]
  },
  {
   "cell_type": "markdown",
   "id": "eec3b94f",
   "metadata": {
    "hidden": true,
    "slideshow": {
     "slide_type": "subslide"
    }
   },
   "source": [
    "Se parece bastante en formato a Area, tiene muchos valores unicos y pocos na, no veo nada que me desagrade aunque sea de poca utilidad estadistica la mantengo y relleno los na"
   ]
  },
  {
   "cell_type": "code",
   "execution_count": 119,
   "id": "f289fede",
   "metadata": {
    "ExecuteTime": {
     "end_time": "2021-11-04T15:48:57.848593Z",
     "start_time": "2021-11-04T15:48:57.831388Z"
    },
    "hidden": true,
    "slideshow": {
     "slide_type": "subslide"
    }
   },
   "outputs": [],
   "source": [
    "df[\"Location\"].fillna(\"Desconocido\",inplace=True)"
   ]
  },
  {
   "cell_type": "markdown",
   "id": "511001ae",
   "metadata": {
    "ExecuteTime": {
     "end_time": "2021-11-04T15:46:43.313745Z",
     "start_time": "2021-11-04T15:46:43.298223Z"
    },
    "heading_collapsed": true,
    "hidden": true
   },
   "source": [
    "## Guardamos el nuevo .csv"
   ]
  },
  {
   "cell_type": "code",
   "execution_count": 120,
   "id": "276e00c1",
   "metadata": {
    "ExecuteTime": {
     "end_time": "2021-11-04T15:48:57.899281Z",
     "start_time": "2021-11-04T15:48:57.848593Z"
    },
    "hidden": true
   },
   "outputs": [],
   "source": [
    "df.to_csv(\"SharksClean.csv\")"
   ]
  },
  {
   "cell_type": "markdown",
   "id": "cddb75c8",
   "metadata": {
    "ExecuteTime": {
     "end_time": "2021-11-01T17:37:10.330748Z",
     "start_time": "2021-11-01T17:37:10.323797Z"
    },
    "heading_collapsed": true,
    "slideshow": {
     "slide_type": "slide"
    }
   },
   "source": [
    "# Estadistica y resolucion de preguntas\n"
   ]
  },
  {
   "cell_type": "code",
   "execution_count": 121,
   "id": "75c5c040",
   "metadata": {
    "ExecuteTime": {
     "end_time": "2021-11-04T15:48:57.920205Z",
     "start_time": "2021-11-04T15:48:57.899281Z"
    },
    "hidden": true,
    "slideshow": {
     "slide_type": "subslide"
    }
   },
   "outputs": [],
   "source": [
    "plt.rcParams[\"figure.figsize\"]=(10,10)"
   ]
  },
  {
   "cell_type": "markdown",
   "id": "21ce4bd2",
   "metadata": {
    "ExecuteTime": {
     "end_time": "2021-11-01T19:12:13.576659Z",
     "start_time": "2021-11-01T19:12:13.286660Z"
    },
    "hidden": true,
    "slideshow": {
     "slide_type": "subslide"
    }
   },
   "source": [
    "## ¿Cual es el mejor pais para grabar la proxima pelicula de Tiburón?"
   ]
  },
  {
   "cell_type": "code",
   "execution_count": 122,
   "id": "3f877a8d",
   "metadata": {
    "ExecuteTime": {
     "end_time": "2021-11-04T15:48:58.184934Z",
     "start_time": "2021-11-04T15:48:57.920205Z"
    },
    "hidden": true,
    "slideshow": {
     "slide_type": "subslide"
    }
   },
   "outputs": [
    {
     "data": {
      "text/plain": [
       "<AxesSubplot:>"
      ]
     },
     "execution_count": 122,
     "metadata": {},
     "output_type": "execute_result"
    },
    {
     "data": {
      "image/png": "[encoded data removed]",
      "text/plain": [
       "<Figure size 720x720 with 1 Axes>"
      ]
     },
     "metadata": {
      "needs_background": "light"
     },
     "output_type": "display_data"
    }
   ],
   "source": [
    "#Pais donde los tiburones son mas violentos\n",
    "df.groupby(\"Country\").filter(lambda x: len(x) > 100).Country.value_counts().plot.bar(color='red')"
   ]
  },
  {
   "cell_type": "markdown",
   "id": "349c5cf9",
   "metadata": {
    "heading_collapsed": true
   },
   "source": [
    "# Cosas a mejorar"
   ]
  },
  {
   "cell_type": "markdown",
   "id": "01584aaf",
   "metadata": {
    "hidden": true
   },
   "source": [
    "- O escribir todo en ingles o traducir todo a castellano DESDE EL PRINCIPIO"
   ]
  },
  {
   "cell_type": "code",
   "execution_count": null,
   "id": "cc489f3d",
   "metadata": {
    "hidden": true
   },
   "outputs": [],
   "source": []
  }
 ],
 "metadata": {
  "kernelspec": {
   "display_name": "Python 3",
   "language": "python",
   "name": "python3"
  },
  "language_info": {
   "codemirror_mode": {
    "name": "ipython",
    "version": 3
   },
   "file_extension": ".py",
   "mimetype": "text/x-python",
   "name": "python",
   "nbconvert_exporter": "python",
   "pygments_lexer": "ipython3",
   "version": "3.8.8"
  },
  "toc": {
   "base_numbering": 1,
   "nav_menu": {},
   "number_sections": true,
   "sideBar": false,
   "skip_h1_title": false,
   "title_cell": "Table of Contents",
   "title_sidebar": "Contents",
   "toc_cell": false,
   "toc_position": {
    "height": "640.976px",
    "left": "458.018px",
    "top": "110.573px",
    "width": "982.018px"
   },
   "toc_section_display": false,
   "toc_window_display": true
  },
  "varInspector": {
   "cols": {
    "lenName": 16,
    "lenType": 16,
    "lenVar": 40
   },
   "kernels_config": {
    "python": {
     "delete_cmd_postfix": "",
     "delete_cmd_prefix": "del ",
     "library": "var_list.py",
     "varRefreshCmd": "print(var_dic_list())"
    },
    "r": {
     "delete_cmd_postfix": ") ",
     "delete_cmd_prefix": "rm(",
     "library": "var_list.r",
     "varRefreshCmd": "cat(var_dic_list()) "
    }
   },
   "types_to_exclude": [
    "module",
    "function",
    "builtin_function_or_method",
    "instance",
    "_Feature"
   ],
   "window_display": false
  }
 },
 "nbformat": 4,
 "nbformat_minor": 5
}
